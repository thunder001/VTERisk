{
 "cells": [
  {
   "cell_type": "code",
   "execution_count": 1,
   "id": "1b25c26b-6d2c-4978-9f63-75529b61b84e",
   "metadata": {
    "tags": []
   },
   "outputs": [],
   "source": [
    "import os\n",
    "import json"
   ]
  },
  {
   "cell_type": "code",
   "execution_count": 2,
   "id": "1e128ba3-589b-4510-aa18-df7d8772c68b",
   "metadata": {
    "tags": []
   },
   "outputs": [],
   "source": [
    "import pandas as pd\n",
    "import random\n",
    "import os\n",
    "import json\n",
    "import gc\n",
    "import datetime\n",
    "# from disrisknet.utils.date import parse_date\n",
    "import copy\n"
   ]
  },
  {
   "cell_type": "code",
   "execution_count": 3,
   "id": "598933ac-3a57-4c45-98da-d6873fb0874b",
   "metadata": {
    "tags": []
   },
   "outputs": [],
   "source": [
    "VTE_path = 'F:\\\\MAVDEV1\\\\Fillmore_Cancer\\\\cat\\\\Users\\\\data\\\\derived\\\\vte_ml\\\\vte_ml\\\\data_for_chunlei'"
   ]
  },
  {
   "cell_type": "code",
   "execution_count": null,
   "id": "bf3c05b8-d0bd-4dbf-99bc-0a439c72d59a",
   "metadata": {},
   "outputs": [
    {
     "name": "stdout",
     "output_type": "stream",
     "text": [
      "args: Namespace(experiment_config_path='src/configs/Cohort/Y/y5_e.json', force_rerun=False, force_evaluate=False)\n",
      "python src/scripts/main.py  --add_bmi_neuron --add_race_neuron --add_sex_neuron --case_cutoff --cuda --days 80 --dev --dev_data_dir Y:/Fillmore_Cancer/cat/Users/data/derived/vte_ml/vte_ml/data_for_chunlei/A2_CMP/Resplit/Y2/dev --device cuda:0 --disease_code_system phe_CMP --dropout 0 --epochs 25 --eval_auprc --eval_auroc --eval_batch_size 64 --eval_c_index --exclusion_interval 0 --hidden_dim 64 --init_lr 0.002 --log_dir logs_transformer_vte/y_CMP --lr_decay 0.3 --max_batches_per_dev_epoch 500 --max_batches_per_train_epoch 2000 --max_eval_indices 1 --max_events_length 2500 --max_year_before_index 20 --min_events_length 5 --model_dir snapshot_vte/y_CMP --model_name transformer --month_endpoints 1 3 24 --num_heads 8 --num_layers 1 --num_workers 0 --optimizer adam --pad_size 300 --pool_name Softmax_AttentionPool --test --test_data_dir Y:/Fillmore_Cancer/cat/Users/data/derived/vte_ml/vte_ml/data_for_chunlei/A2_CMP/Resplit/Y2/test --time_embed_dim 64 --train --train_batch_size 256 --train_data_dir Y:/Fillmore_Cancer/cat/Users/data/derived/vte_ml/vte_ml/data_for_chunlei/A2_CMP/Resplit/Y2/train --tuning_metric 3day_auroc_c --use_age_embed --use_index_embed --use_time_embed --weight_decay 0.001 --log_name=955fa8e986a5b0c051ee4448944a0962 --log_dir=logs_transformer_vte/y_CMP\n"
     ]
    }
   ],
   "source": [
    "%run src/scripts/schedulers/expr_dispatcher.py --experiment-config-path src/configs/Cohort/Y/y5_e.json\n"
   ]
  },
  {
   "cell_type": "code",
   "execution_count": null,
   "id": "7f9e6f45-a07c-4efa-af76-f0eef41986f2",
   "metadata": {},
   "outputs": [],
   "source": []
  },
  {
   "cell_type": "code",
   "execution_count": null,
   "id": "f7bdd8af-9047-4c40-9573-91ccc5537df0",
   "metadata": {
    "tags": []
   },
   "outputs": [
    {
     "name": "stdout",
     "output_type": "stream",
     "text": [
      "args: Namespace(experiment_config_path='src/configs/Cohort/Y/y2_1.json', force_rerun=False, force_evaluate=False)\n",
      "python src/scripts/main.py  --add_bmi_neuron --add_race_neuron --add_sex_neuron --attribute --cuda --days 58 --dev --dev_data_dir Y:/Fillmore_Cancer/cat/Users/data/derived/vte_ml/vte_ml/data_for_chunlei/A2_CMP/Resplit/Y2/dev --device cuda:0 --disease_code_system phe_CMP --dropout 0 --dxseq_event --epochs 10 --eval_auprc --eval_auroc --eval_batch_size 64 --eval_c_index --exclusion_interval 0 --hidden_dim 64 --indseq_event --init_lr 0.002 --log_dir logs_transformer_vte/y_CMP --lr_decay 0.3 --max_batches_per_dev_epoch 500 --max_batches_per_train_epoch 2000 --max_eval_indices 1 --max_events_length 2500 --max_year_before_index 5 --min_events_length 5 --model_dir snapshot_vte/y_CMP --model_name transformer --month_endpoints 2 24 --num_heads 8 --num_layers 1 --num_workers 0 --optimizer adam --pad_size 300 --pool_name Softmax_AttentionPool --test --test_data_dir Y:/Fillmore_Cancer/cat/Users/data/derived/vte_ml/vte_ml/data_for_chunlei/A2_CMP/Resplit/Y2/test --time_embed_dim 64 --train --train_batch_size 256 --train_data_dir Y:/Fillmore_Cancer/cat/Users/data/derived/vte_ml/vte_ml/data_for_chunlei/A2_CMP/Resplit/Y2/train --tuning_metric 24day_auroc_i --use_age_embed --use_dxtime_embed --use_index_embed --use_time_embed --weight_decay 0.001 --log_name=2ae2979e96667dc6ceddee7c228daa95 --log_dir=logs_transformer_vte/y_CMP\n"
     ]
    }
   ],
   "source": [
    "%run src/scripts/schedulers/expr_dispatcher.py --experiment-config-path src/configs/Cohort/Y/y2_1.json\n"
   ]
  },
  {
   "cell_type": "code",
   "execution_count": null,
   "id": "2b378058-8bb5-4160-ab6c-0683cfc31847",
   "metadata": {
    "tags": []
   },
   "outputs": [],
   "source": [
    "%run src/scripts/schedulers/expr_dispatcher.py --experiment-config-path src/configs/Cohort/Y/y2_2.json\n"
   ]
  },
  {
   "cell_type": "code",
   "execution_count": 5,
   "id": "0f4ba3f9-9ac9-45d6-93a6-27e95f839fbf",
   "metadata": {
    "tags": []
   },
   "outputs": [
    {
     "name": "stdout",
     "output_type": "stream",
     "text": [
      "args: Namespace(experiment_config_path='src/configs/train_Y/Fwd/XP_0mo.json', force_rerun=False, force_evaluate=False)\n",
      "python src/scripts/main.py  --add_bmi_neuron --add_race_neuron --add_sex_neuron --attribute --cuda --days 0 --dev --dev_data_dir Y:/Fillmore_Cancer/cat/Users/data/derived/vte_ml/vte_ml/data_for_chunlei/A2_CMP/dev --device cuda:0 --disease_code_system phe --dropout 0 --dxseq_event --epochs 10 --eval_auprc --eval_auroc --eval_batch_size 64 --eval_c_index --exclusion_interval 0 --hidden_dim 64 --init_lr 0.002 --log_dir logs_transformer_vte/Cohort --lr_decay 0.3 --max_batches_per_dev_epoch 500 --max_batches_per_train_epoch 2000 --max_events_length 500 --max_year_before_index 10 --min_events_length 5 --model_dir snapshot_vte/Cohort --model_name transformer --num_heads 8 --num_layers 1 --num_workers 0 --optimizer adam --pad_size 300 --pool_name Softmax_AttentionPool --test --test_data_dir Y:/Fillmore_Cancer/cat/Users/data/derived/vte_ml/vte_ml/data_for_chunlei/A2_CMP/test --time_embed_dim 64 --train --train_batch_size 256 --train_data_dir Y:/Fillmore_Cancer/cat/Users/data/derived/vte_ml/vte_ml/data_for_chunlei/A2_CMP/train --tuning_metric 14day_auroc_c --use_age_embed --use_dxtime_embed --use_time_embed --weight_decay 0.001 --log_name=a8c60d240dbe4c5607cd67ad6bb45e39 --log_dir=logs_transformer_vte/Cohort\n"
     ]
    },
    {
     "ename": "KeyboardInterrupt",
     "evalue": "",
     "output_type": "error",
     "traceback": [
      "\u001b[1;31m---------------------------------------------------------------------------\u001b[0m",
      "\u001b[1;31mKeyboardInterrupt\u001b[0m                         Traceback (most recent call last)",
      "File \u001b[1;32mG:\\FillmoreCancerData\\markhe\\VTERisk\\src\\scripts\\schedulers\\expr_dispatcher.py:94\u001b[0m\n\u001b[0;32m     89\u001b[0m job_list, _ \u001b[38;5;241m=\u001b[39m parsing\u001b[38;5;241m.\u001b[39mparse_dispatcher_config(config)\n\u001b[0;32m     91\u001b[0m \u001b[38;5;66;03m# print(job_list)\u001b[39;00m\n\u001b[0;32m     92\u001b[0m \n\u001b[0;32m     93\u001b[0m \u001b[38;5;66;03m# [print(params) for params in job_list]\u001b[39;00m\n\u001b[1;32m---> 94\u001b[0m [launch_experiment(gpu\u001b[38;5;241m=\u001b[39m\u001b[38;5;241m2\u001b[39m, flag_string\u001b[38;5;241m=\u001b[39m\u001b[38;5;28mstr\u001b[39m(params)) \u001b[38;5;28;01mfor\u001b[39;00m params \u001b[38;5;129;01min\u001b[39;00m job_list]\n\u001b[0;32m     95\u001b[0m \u001b[38;5;66;03m# launch_experiment(gpu=2, flag_string=job_list[0])\u001b[39;00m\n\u001b[0;32m     97\u001b[0m sys\u001b[38;5;241m.\u001b[39mexit(\u001b[38;5;241m0\u001b[39m)\n",
      "File \u001b[1;32mG:\\FillmoreCancerData\\markhe\\VTERisk\\src\\scripts\\schedulers\\expr_dispatcher.py:94\u001b[0m, in \u001b[0;36m<listcomp>\u001b[1;34m(.0)\u001b[0m\n\u001b[0;32m     89\u001b[0m job_list, _ \u001b[38;5;241m=\u001b[39m parsing\u001b[38;5;241m.\u001b[39mparse_dispatcher_config(config)\n\u001b[0;32m     91\u001b[0m \u001b[38;5;66;03m# print(job_list)\u001b[39;00m\n\u001b[0;32m     92\u001b[0m \n\u001b[0;32m     93\u001b[0m \u001b[38;5;66;03m# [print(params) for params in job_list]\u001b[39;00m\n\u001b[1;32m---> 94\u001b[0m [launch_experiment(gpu\u001b[38;5;241m=\u001b[39m\u001b[38;5;241m2\u001b[39m, flag_string\u001b[38;5;241m=\u001b[39m\u001b[38;5;28mstr\u001b[39m(params)) \u001b[38;5;28;01mfor\u001b[39;00m params \u001b[38;5;129;01min\u001b[39;00m job_list]\n\u001b[0;32m     95\u001b[0m \u001b[38;5;66;03m# launch_experiment(gpu=2, flag_string=job_list[0])\u001b[39;00m\n\u001b[0;32m     97\u001b[0m sys\u001b[38;5;241m.\u001b[39mexit(\u001b[38;5;241m0\u001b[39m)\n",
      "File \u001b[1;32mG:\\FillmoreCancerData\\markhe\\VTERisk\\src\\scripts\\schedulers\\expr_dispatcher.py:73\u001b[0m, in \u001b[0;36mlaunch_experiment\u001b[1;34m(gpu, flag_string)\u001b[0m\n\u001b[0;32m     70\u001b[0m         \u001b[38;5;28mprint\u001b[39m(\u001b[38;5;124m\"\u001b[39m\u001b[38;5;124m[WARNING] Overiding the alert \u001b[39m\u001b[38;5;132;01m{RESULTS_PATH_APPEAR_ERR}\u001b[39;00m\u001b[38;5;124m...\u001b[39m\u001b[38;5;124m\"\u001b[39m)\n\u001b[0;32m     72\u001b[0m \u001b[38;5;66;03m# pp.pprint(\"[CMD] Launched exp: {}\".format(shell_cmd))\u001b[39;00m\n\u001b[1;32m---> 73\u001b[0m os\u001b[38;5;241m.\u001b[39msystem(shell_cmd)\n",
      "\u001b[1;31mKeyboardInterrupt\u001b[0m: "
     ]
    }
   ],
   "source": [
    "%run src/scripts/schedulers/expr_dispatcher.py --experiment-config-path src/configs/train_Y/Fwd/XP_0mo.json\n"
   ]
  },
  {
   "cell_type": "code",
   "execution_count": 10,
   "id": "c6d70809-da2b-4105-b504-63624e37019a",
   "metadata": {
    "tags": []
   },
   "outputs": [
    {
     "name": "stdout",
     "output_type": "stream",
     "text": [
      "args: Namespace(experiment_config_path='src/configs/train_Y/Fwd/Y5_forward6mo.json', force_rerun=False, force_evaluate=False)\n",
      "python src/scripts/main.py  --add_bmi_neuron --add_sex_neuron --attribute --cuda --day_endpoints 0 --days 180 --dev --dev_data_dir Y:/Fillmore_Cancer/cat/Users/data/derived/vte_ml/vte_ml/data_for_chunlei/A2_CMP/Resplit/Y5/dev --device cuda:0 --disease_code_system phe_CMP --dropout 0 --dxseq_event --epochs 7 --eval_auprc --eval_auroc --eval_batch_size 64 --eval_c_index --exclusion_interval 0 --hidden_dim 64 --init_lr 0.002 --log_dir logs_transformer_vte/y_CMP --lr_decay 0.3 --max_batches_per_dev_epoch 500 --max_batches_per_train_epoch 2000 --max_events_length 500 --max_year_before_index 10 --min_events_length 5 --model_dir snapshot_vte/y_CMP --model_name transformer --month_endpoints 0 --num_heads 8 --num_layers 1 --num_workers 0 --optimizer adam --pad_size 300 --pool_name Softmax_AttentionPool --test --test_data_dir Y:/Fillmore_Cancer/cat/Users/data/derived/vte_ml/vte_ml/data_for_chunlei/A2_CMP/Resplit/Y5/test --time_embed_dim 64 --train --train_batch_size 256 --train_data_dir Y:/Fillmore_Cancer/cat/Users/data/derived/vte_ml/vte_ml/data_for_chunlei/A2_CMP/Resplit/Y5/train --tuning_metric 6day_auroc_i --use_age_embed --use_dxtime_embed --use_time_embed --weight_decay 0.001 --log_name=5dfb3b1369d7effbc1a7f7f8c712ce02 --log_dir=logs_transformer_vte/y_CMP\n",
      "python src/scripts/main.py  --add_bmi_neuron --add_sex_neuron --attribute --cuda --day_endpoints 3 --days 180 --dev --dev_data_dir Y:/Fillmore_Cancer/cat/Users/data/derived/vte_ml/vte_ml/data_for_chunlei/A2_CMP/Resplit/Y5/dev --device cuda:0 --disease_code_system phe_CMP --dropout 0 --dxseq_event --epochs 7 --eval_auprc --eval_auroc --eval_batch_size 64 --eval_c_index --exclusion_interval 0 --hidden_dim 64 --init_lr 0.002 --log_dir logs_transformer_vte/y_CMP --lr_decay 0.3 --max_batches_per_dev_epoch 500 --max_batches_per_train_epoch 2000 --max_events_length 500 --max_year_before_index 10 --min_events_length 5 --model_dir snapshot_vte/y_CMP --model_name transformer --month_endpoints 0 --num_heads 8 --num_layers 1 --num_workers 0 --optimizer adam --pad_size 300 --pool_name Softmax_AttentionPool --test --test_data_dir Y:/Fillmore_Cancer/cat/Users/data/derived/vte_ml/vte_ml/data_for_chunlei/A2_CMP/Resplit/Y5/test --time_embed_dim 64 --train --train_batch_size 256 --train_data_dir Y:/Fillmore_Cancer/cat/Users/data/derived/vte_ml/vte_ml/data_for_chunlei/A2_CMP/Resplit/Y5/train --tuning_metric 6day_auroc_i --use_age_embed --use_dxtime_embed --use_time_embed --weight_decay 0.001 --log_name=6f2a13c3f15a6d5077b77043cdbfcba0 --log_dir=logs_transformer_vte/y_CMP\n"
     ]
    },
    {
     "ename": "KeyboardInterrupt",
     "evalue": "",
     "output_type": "error",
     "traceback": [
      "\u001b[1;31m---------------------------------------------------------------------------\u001b[0m",
      "\u001b[1;31mKeyboardInterrupt\u001b[0m                         Traceback (most recent call last)",
      "File \u001b[1;32mG:\\FillmoreCancerData\\markhe\\VTERisk\\src\\scripts\\schedulers\\expr_dispatcher.py:94\u001b[0m\n\u001b[0;32m     89\u001b[0m job_list, _ \u001b[38;5;241m=\u001b[39m parsing\u001b[38;5;241m.\u001b[39mparse_dispatcher_config(config)\n\u001b[0;32m     91\u001b[0m \u001b[38;5;66;03m# print(job_list)\u001b[39;00m\n\u001b[0;32m     92\u001b[0m \n\u001b[0;32m     93\u001b[0m \u001b[38;5;66;03m# [print(params) for params in job_list]\u001b[39;00m\n\u001b[1;32m---> 94\u001b[0m [launch_experiment(gpu\u001b[38;5;241m=\u001b[39m\u001b[38;5;241m2\u001b[39m, flag_string\u001b[38;5;241m=\u001b[39m\u001b[38;5;28mstr\u001b[39m(params)) \u001b[38;5;28;01mfor\u001b[39;00m params \u001b[38;5;129;01min\u001b[39;00m job_list]\n\u001b[0;32m     95\u001b[0m \u001b[38;5;66;03m# launch_experiment(gpu=2, flag_string=job_list[0])\u001b[39;00m\n\u001b[0;32m     97\u001b[0m sys\u001b[38;5;241m.\u001b[39mexit(\u001b[38;5;241m0\u001b[39m)\n",
      "File \u001b[1;32mG:\\FillmoreCancerData\\markhe\\VTERisk\\src\\scripts\\schedulers\\expr_dispatcher.py:94\u001b[0m, in \u001b[0;36m<listcomp>\u001b[1;34m(.0)\u001b[0m\n\u001b[0;32m     89\u001b[0m job_list, _ \u001b[38;5;241m=\u001b[39m parsing\u001b[38;5;241m.\u001b[39mparse_dispatcher_config(config)\n\u001b[0;32m     91\u001b[0m \u001b[38;5;66;03m# print(job_list)\u001b[39;00m\n\u001b[0;32m     92\u001b[0m \n\u001b[0;32m     93\u001b[0m \u001b[38;5;66;03m# [print(params) for params in job_list]\u001b[39;00m\n\u001b[1;32m---> 94\u001b[0m [launch_experiment(gpu\u001b[38;5;241m=\u001b[39m\u001b[38;5;241m2\u001b[39m, flag_string\u001b[38;5;241m=\u001b[39m\u001b[38;5;28mstr\u001b[39m(params)) \u001b[38;5;28;01mfor\u001b[39;00m params \u001b[38;5;129;01min\u001b[39;00m job_list]\n\u001b[0;32m     95\u001b[0m \u001b[38;5;66;03m# launch_experiment(gpu=2, flag_string=job_list[0])\u001b[39;00m\n\u001b[0;32m     97\u001b[0m sys\u001b[38;5;241m.\u001b[39mexit(\u001b[38;5;241m0\u001b[39m)\n",
      "File \u001b[1;32mG:\\FillmoreCancerData\\markhe\\VTERisk\\src\\scripts\\schedulers\\expr_dispatcher.py:73\u001b[0m, in \u001b[0;36mlaunch_experiment\u001b[1;34m(gpu, flag_string)\u001b[0m\n\u001b[0;32m     70\u001b[0m         \u001b[38;5;28mprint\u001b[39m(\u001b[38;5;124m\"\u001b[39m\u001b[38;5;124m[WARNING] Overiding the alert \u001b[39m\u001b[38;5;132;01m{RESULTS_PATH_APPEAR_ERR}\u001b[39;00m\u001b[38;5;124m...\u001b[39m\u001b[38;5;124m\"\u001b[39m)\n\u001b[0;32m     72\u001b[0m \u001b[38;5;66;03m# pp.pprint(\"[CMD] Launched exp: {}\".format(shell_cmd))\u001b[39;00m\n\u001b[1;32m---> 73\u001b[0m os\u001b[38;5;241m.\u001b[39msystem(shell_cmd)\n",
      "\u001b[1;31mKeyboardInterrupt\u001b[0m: "
     ]
    }
   ],
   "source": [
    "%run src/scripts/schedulers/expr_dispatcher.py --experiment-config-path src/configs/train_Y/Fwd/Y5_forward6mo.json\n"
   ]
  },
  {
   "cell_type": "code",
   "execution_count": 2,
   "id": "7a9d0e0c-a509-4392-ad63-af76037466e4",
   "metadata": {
    "tags": []
   },
   "outputs": [
    {
     "name": "stdout",
     "output_type": "stream",
     "text": [
      "args: Namespace(experiment_config_path='src/configs/train_Y/Fwd/Y5_3mo.json', force_rerun=False, force_evaluate=False)\n",
      "python src/scripts/main.py  --add_bmi_neuron --add_sex_neuron --attribute --cuda --days 90 --dev --dev_data_dir Y:/Fillmore_Cancer/cat/Users/data/derived/vte_ml/vte_ml/data_for_chunlei/A2_CMP/Resplit/Y5/dev --device cuda:0 --disease_code_system phe_CMP --dropout 0 --dxseq_event --epochs 7 --eval_auprc --eval_auroc --eval_batch_size 64 --eval_c_index --exclusion_interval 0 --hidden_dim 64 --init_lr 0.002 --log_dir logs_transformer_vte/y_CMP --lr_decay 0.3 --max_batches_per_dev_epoch 500 --max_batches_per_train_epoch 2000 --max_events_length 500 --max_year_before_index 10 --min_events_length 5 --model_dir snapshot_vte/y_CMP --model_name transformer --num_heads 8 --num_layers 1 --num_workers 0 --optimizer adam --pad_size 300 --pool_name Softmax_AttentionPool --test --test_data_dir Y:/Fillmore_Cancer/cat/Users/data/derived/vte_ml/vte_ml/data_for_chunlei/A2_CMP/Resplit/Y5/test --time_embed_dim 64 --train --train_batch_size 256 --train_data_dir Y:/Fillmore_Cancer/cat/Users/data/derived/vte_ml/vte_ml/data_for_chunlei/A2_CMP/Resplit/Y5/train --tuning_metric 7day_auroc_i --use_age_embed --use_dxtime_embed --use_time_embed --weight_decay 0.001 --log_name=24bb9146ccaa5096fd6797b4a0e2e030 --log_dir=logs_transformer_vte/y_CMP\n"
     ]
    }
   ],
   "source": [
    "%run src/scripts/schedulers/expr_dispatcher.py --experiment-config-path src/configs/train_Y/Fwd/Y5_3mo.json\n"
   ]
  },
  {
   "cell_type": "code",
   "execution_count": 1,
   "id": "c168ea49-cf4b-4414-86ea-78f7230bcf5d",
   "metadata": {
    "tags": []
   },
   "outputs": [
    {
     "name": "stdout",
     "output_type": "stream",
     "text": [
      "args: Namespace(experiment_config_path='src/configs/train_Y/Fwd/Y5_6mo.json', force_rerun=False, force_evaluate=False)\n",
      "python src/scripts/main.py  --add_bmi_neuron --add_sex_neuron --attribute --cuda --days 180 --dev --dev_data_dir Y:/Fillmore_Cancer/cat/Users/data/derived/vte_ml/vte_ml/data_for_chunlei/A2_CMP/Resplit/Y5/dev --device cuda:0 --disease_code_system phe_CMP --dropout 0 --dxseq_event --epochs 7 --eval_auprc --eval_auroc --eval_batch_size 64 --eval_c_index --exclusion_interval 0 --hidden_dim 64 --init_lr 0.002 --log_dir logs_transformer_vte/y_CMP --lr_decay 0.3 --max_batches_per_dev_epoch 500 --max_batches_per_train_epoch 2000 --max_events_length 500 --max_year_before_index 10 --min_events_length 5 --model_dir snapshot_vte/y_CMP --model_name transformer --num_heads 8 --num_layers 1 --num_workers 0 --optimizer adam --pad_size 300 --pool_name Softmax_AttentionPool --test --test_data_dir Y:/Fillmore_Cancer/cat/Users/data/derived/vte_ml/vte_ml/data_for_chunlei/A2_CMP/Resplit/Y5/test --time_embed_dim 64 --train --train_batch_size 256 --train_data_dir Y:/Fillmore_Cancer/cat/Users/data/derived/vte_ml/vte_ml/data_for_chunlei/A2_CMP/Resplit/Y5/train --tuning_metric 7day_auroc_i --use_age_embed --use_dxtime_embed --use_time_embed --weight_decay 0.001 --log_name=768bac5725bae08513f001acee7b30bf --log_dir=logs_transformer_vte/y_CMP\n"
     ]
    }
   ],
   "source": [
    "%run src/scripts/schedulers/expr_dispatcher.py --experiment-config-path src/configs/train_Y/Fwd/Y5_6mo.json\n"
   ]
  },
  {
   "cell_type": "code",
   "execution_count": null,
   "id": "66cd3603-e418-4977-86b6-a1ccf6f76f40",
   "metadata": {},
   "outputs": [
    {
     "name": "stdout",
     "output_type": "stream",
     "text": [
      "args: Namespace(experiment_config_path='src/configs/train_Y/Fwd/X_6mo.json', force_rerun=False, force_evaluate=False)\n",
      "python src/scripts/main.py  --add_bmi_neuron --add_race_neuron --add_sex_neuron --attribute --cuda --days 180 --dev --dev_data_dir Y:/Fillmore_Cancer/cat/Users/data/derived/vte_ml/vte_ml/data_for_chunlei/A2_CMP/dev --device cuda:0 --disease_code_system phe_CMP --dropout 0 --dxseq_event --epochs 10 --eval_auprc --eval_auroc --eval_batch_size 64 --eval_c_index --exclusion_interval 0 --hidden_dim 64 --init_lr 0.002 --log_dir logs_transformer_vte/Cohort --lr_decay 0.3 --max_batches_per_dev_epoch 500 --max_batches_per_train_epoch 2000 --max_events_length 500 --max_year_before_index 10 --min_events_length 5 --model_dir snapshot_vte/Cohort --model_name transformer --num_heads 8 --num_layers 1 --num_workers 0 --optimizer adam --pad_size 300 --pool_name Softmax_AttentionPool --test --test_data_dir Y:/Fillmore_Cancer/cat/Users/data/derived/vte_ml/vte_ml/data_for_chunlei/A2_CMP/test --time_embed_dim 64 --train --train_batch_size 256 --train_data_dir Y:/Fillmore_Cancer/cat/Users/data/derived/vte_ml/vte_ml/data_for_chunlei/A2_CMP/train --tuning_metric 14day_auroc_i --use_age_embed --use_dxtime_embed --use_time_embed --weight_decay 0.001 --log_name=f8f32f2812b4f9f43b0f0ca3a6bd9d8a --log_dir=logs_transformer_vte/Cohort\n"
     ]
    }
   ],
   "source": [
    "%run src/scripts/schedulers/expr_dispatcher.py --experiment-config-path src/configs/train_Y/Fwd/X_6mo.json\n"
   ]
  },
  {
   "cell_type": "code",
   "execution_count": null,
   "id": "c3e7b06e-813b-4407-92ba-4d33e3454d9d",
   "metadata": {},
   "outputs": [],
   "source": [
    "%run src/scripts/schedulers/expr_dispatcher.py --experiment-config-path src/configs/train_Y/Fwd/X_0mo.json\n"
   ]
  },
  {
   "cell_type": "code",
   "execution_count": null,
   "id": "6b681c15-1f64-4a20-a018-55d082a56abb",
   "metadata": {},
   "outputs": [],
   "source": []
  }
 ],
 "metadata": {
  "kernelspec": {
   "display_name": "Python 3 (ipykernel)",
   "language": "python",
   "name": "python3"
  },
  "language_info": {
   "codemirror_mode": {
    "name": "ipython",
    "version": 3
   },
   "file_extension": ".py",
   "mimetype": "text/x-python",
   "name": "python",
   "nbconvert_exporter": "python",
   "pygments_lexer": "ipython3",
   "version": "3.11.5"
  }
 },
 "nbformat": 4,
 "nbformat_minor": 5
}
