{
 "cells": [
  {
   "cell_type": "code",
   "execution_count": 15,
   "id": "64325317-f931-4ed5-9fac-0bf3d88843fe",
   "metadata": {
    "tags": []
   },
   "outputs": [],
   "source": [
    "import pandas as pd\n",
    "import random\n",
    "import os\n",
    "import json\n",
    "import gc\n",
    "import datetime\n",
    "import copy\n",
    "import sys"
   ]
  },
  {
   "cell_type": "code",
   "execution_count": 38,
   "id": "9bb38c70-58f9-4001-aa18-1d62e7977b1b",
   "metadata": {
    "tags": []
   },
   "outputs": [],
   "source": [
    "out_path = \"G://FillmoreCancerData//markhe//VTERisk//Notebooks//Calibrate//R//CSV_for_R//\"\n",
    "src_path = \"G://FillmoreCancerData//markhe//VTERisk\" "
   ]
  },
  {
   "cell_type": "markdown",
   "id": "b229bbf0-9e26-424c-ab22-d14a36cf9c4f",
   "metadata": {},
   "source": [
    "### for 1/27 Run"
   ]
  },
  {
   "cell_type": "code",
   "execution_count": 39,
   "id": "bbaeb05d-0ebd-452d-bb39-817a1473fc0d",
   "metadata": {
    "tags": []
   },
   "outputs": [],
   "source": [
    "%run src/scripts/post_run/write_results.py "
   ]
  },
  {
   "cell_type": "code",
   "execution_count": 41,
   "id": "7cfd4c2a-ab45-4291-9b25-7693681c5e9a",
   "metadata": {
    "tags": []
   },
   "outputs": [],
   "source": [
    "write_results_to_csv(os.path.join(src_path, 'Notebooks/Find/fixed_dx.csv'),\n",
    "                     os.path.join(src_path ,'logs_transformer_vte/L/1_27/', \"6b02b938c500e525ae4a9b38797dae98.results.train_preds\"),\n",
    "                     os.path.join(src_path ,'logs_transformer_vte/L/1_27/', \"6b02b938c500e525ae4a9b38797dae98.results.dev_preds\"),\n",
    "                     os.path.join(src_path ,'logs_transformer_vte/L/1_27/', \"6b02b938c500e525ae4a9b38797dae98.results.test_preds\"),\n",
    "                     os.path.join(out_path, 'Train_1_27.csv'), \n",
    "                     os.path.join(out_path, 'Dev_1_27.csv'),\n",
    "                     os.path.join(out_path, 'Test_1_27.csv'))"
   ]
  },
  {
   "cell_type": "code",
   "execution_count": null,
   "id": "2bcf3600-e005-4b1d-9f45-9d6fb650b3a8",
   "metadata": {},
   "outputs": [],
   "source": []
  },
  {
   "cell_type": "code",
   "execution_count": null,
   "id": "c50eadce-a1db-4cdf-9e8c-384536a2e7eb",
   "metadata": {},
   "outputs": [],
   "source": [
    "# run src/scripts/post_run/ReCalibration_Spline.R in R"
   ]
  },
  {
   "cell_type": "code",
   "execution_count": null,
   "id": "e9771ea8-35f3-46a2-9596-6e06ccff57f0",
   "metadata": {},
   "outputs": [],
   "source": []
  },
  {
   "cell_type": "code",
   "execution_count": null,
   "id": "f28e3a62-ac14-408b-8a01-61ab285155f4",
   "metadata": {},
   "outputs": [],
   "source": []
  },
  {
   "cell_type": "code",
   "execution_count": null,
   "id": "0a53a954-8661-4e86-8641-e36626ec552f",
   "metadata": {},
   "outputs": [],
   "source": []
  },
  {
   "cell_type": "code",
   "execution_count": null,
   "id": "ea632118-e06f-46a6-a497-30d589d936e5",
   "metadata": {},
   "outputs": [],
   "source": []
  },
  {
   "cell_type": "code",
   "execution_count": null,
   "id": "662df635-ee94-427d-9f73-a38d1668da96",
   "metadata": {},
   "outputs": [],
   "source": []
  },
  {
   "cell_type": "code",
   "execution_count": null,
   "id": "681d44bf-de25-41d0-bb7a-2867d08860bd",
   "metadata": {},
   "outputs": [],
   "source": []
  },
  {
   "cell_type": "markdown",
   "id": "7dc970e2-e359-4f4b-bec7-962d5086b582",
   "metadata": {},
   "source": [
    "### for 1 28 Run"
   ]
  },
  {
   "cell_type": "code",
   "execution_count": null,
   "id": "779a4c62-1c62-42fb-869c-03dfa78d3805",
   "metadata": {},
   "outputs": [],
   "source": [
    "write_results_to_csv(os.path.join(src_path, 'Notebooks/Find/fixed_dx.csv'),\n",
    "                     os.path.join(src_path ,'logs_transformer_vte/L/1_28/', \"1ef57026b57379a05f64994f9760525e.results.train_preds\"),\n",
    "                     os.path.join(src_path ,'logs_transformer_vte/L/1_28/', \"1ef57026b57379a05f64994f9760525e.results.dev_preds\"),\n",
    "                     os.path.join(src_path ,'logs_transformer_vte/L/1_28/', \"1ef57026b57379a05f64994f9760525e.results.test_preds\"),\n",
    "                     os.path.join(out_path, 'Train_1_28.csv'), \n",
    "                     os.path.join(out_path, 'Dev_1_28.csv'),\n",
    "                     os.path.join(out_path, 'Test_1_28.csv'))"
   ]
  },
  {
   "cell_type": "code",
   "execution_count": null,
   "id": "9ee47557-ac3e-4e1b-b481-e8925735bab3",
   "metadata": {},
   "outputs": [],
   "source": []
  },
  {
   "cell_type": "code",
   "execution_count": null,
   "id": "fd24fb4e-b286-449c-92bc-a4fa08e36639",
   "metadata": {},
   "outputs": [],
   "source": []
  }
 ],
 "metadata": {
  "kernelspec": {
   "display_name": "Python 3 (ipykernel)",
   "language": "python",
   "name": "python3"
  },
  "language_info": {
   "codemirror_mode": {
    "name": "ipython",
    "version": 3
   },
   "file_extension": ".py",
   "mimetype": "text/x-python",
   "name": "python",
   "nbconvert_exporter": "python",
   "pygments_lexer": "ipython3",
   "version": "3.11.5"
  }
 },
 "nbformat": 4,
 "nbformat_minor": 5
}
