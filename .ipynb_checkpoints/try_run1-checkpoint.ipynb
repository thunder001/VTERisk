{
 "cells": [
  {
   "cell_type": "code",
   "execution_count": 7,
   "id": "1b25c26b-6d2c-4978-9f63-75529b61b84e",
   "metadata": {},
   "outputs": [],
   "source": [
    "import os\n",
    "import json"
   ]
  },
  {
   "cell_type": "code",
   "execution_count": 8,
   "id": "1e128ba3-589b-4510-aa18-df7d8772c68b",
   "metadata": {},
   "outputs": [],
   "source": [
    "import pandas as pd\n",
    "import random\n",
    "import os\n",
    "import json\n",
    "import gc\n",
    "import datetime\n",
    "# from disrisknet.utils.date import parse_date\n",
    "import copy\n"
   ]
  },
  {
   "cell_type": "code",
   "execution_count": 9,
   "id": "598933ac-3a57-4c45-98da-d6873fb0874b",
   "metadata": {
    "tags": []
   },
   "outputs": [],
   "source": [
    "VTE_path = 'F:\\\\MAVDEV1\\\\Fillmore_Cancer\\\\cat\\\\Users\\\\data\\\\derived\\\\vte_ml\\\\vte_ml\\\\data_for_chunlei'"
   ]
  },
  {
   "cell_type": "code",
   "execution_count": null,
   "id": "bf3c05b8-d0bd-4dbf-99bc-0a439c72d59a",
   "metadata": {},
   "outputs": [],
   "source": []
  },
  {
   "cell_type": "code",
   "execution_count": 10,
   "id": "0f4ba3f9-9ac9-45d6-93a6-27e95f839fbf",
   "metadata": {},
   "outputs": [],
   "source": [
    "#%run src/scripts/schedulers/expr_dispatcher.py --experiment-config-path src/configs/model_training/grid_search_phelab.json\n"
   ]
  },
  {
   "cell_type": "code",
   "execution_count": 15,
   "id": "c6d70809-da2b-4105-b504-63624e37019a",
   "metadata": {},
   "outputs": [
    {
     "name": "stdout",
     "output_type": "stream",
     "text": [
      "args: Namespace(experiment_config_path='src/configs/model_training/grid_search_phelab3.json', force_rerun=False, force_evaluate=False)\n",
      "python src/scripts/main.py  --dev --dev_data_dir F:/MAVDEV1/Fillmore_Cancer/cat/Users/data/derived/vte_ml/vte_ml/data_for_chunlei/combined/dev --device cpu --disease_code_system phe_lab --dropout 0 --epochs 5 --eval_auprc --eval_auroc --eval_batch_size 128 --eval_c_index --exclusion_interval 0 --init_lr 0.001 --log_dir logs_transformer_vte --max_batches_per_dev_epoch 500 --max_batches_per_train_epoch 1000 --max_events_length 5000 --min_events_length 10 --model_dir snapshot_vte --model_name transformer --num_heads 8 --num_layers 1 --num_workers 0 --optimizer adam --pad_size 50 --pool_name Softmax_AttentionPool --test --test_data_dir F:/MAVDEV1/Fillmore_Cancer/cat/Users/data/derived/vte_ml/vte_ml/data_for_chunlei/combined/test --train --train_batch_size 128 --train_data_dir F:/MAVDEV1/Fillmore_Cancer/cat/Users/data/derived/vte_ml/vte_ml/data_for_chunlei/combined/train --tuning_metric 6month_auroc_c --use_age_embed --use_time_embed --log_name=2d518a223c24793836522e2526694d68 --log_dir=logs_transformer_vte\n"
     ]
    }
   ],
   "source": [
    "%run src/scripts/schedulers/expr_dispatcher.py --experiment-config-path src/configs/model_training/grid_search_phelab3.json\n"
   ]
  },
  {
   "cell_type": "code",
   "execution_count": null,
   "id": "7a9d0e0c-a509-4392-ad63-af76037466e4",
   "metadata": {},
   "outputs": [],
   "source": []
  },
  {
   "cell_type": "code",
   "execution_count": 14,
   "id": "c168ea49-cf4b-4414-86ea-78f7230bcf5d",
   "metadata": {},
   "outputs": [
    {
     "ename": "NameError",
     "evalue": "name 'all_observed_codes_phe' is not defined",
     "output_type": "error",
     "traceback": [
      "\u001b[1;31m---------------------------------------------------------------------------\u001b[0m",
      "\u001b[1;31mNameError\u001b[0m                                 Traceback (most recent call last)",
      "Cell \u001b[1;32mIn[14], line 1\u001b[0m\n\u001b[1;32m----> 1\u001b[0m all_observed_codes_phe\n",
      "\u001b[1;31mNameError\u001b[0m: name 'all_observed_codes_phe' is not defined"
     ]
    }
   ],
   "source": [
    "all_observed_codes_phe"
   ]
  },
  {
   "cell_type": "code",
   "execution_count": null,
   "id": "c3e7b06e-813b-4407-92ba-4d33e3454d9d",
   "metadata": {},
   "outputs": [],
   "source": []
  },
  {
   "cell_type": "code",
   "execution_count": null,
   "id": "66cd3603-e418-4977-86b6-a1ccf6f76f40",
   "metadata": {},
   "outputs": [],
   "source": []
  },
  {
   "cell_type": "code",
   "execution_count": null,
   "id": "6b681c15-1f64-4a20-a018-55d082a56abb",
   "metadata": {},
   "outputs": [],
   "source": []
  }
 ],
 "metadata": {
  "kernelspec": {
   "display_name": "Python 3 (ipykernel)",
   "language": "python",
   "name": "python3"
  },
  "language_info": {
   "codemirror_mode": {
    "name": "ipython",
    "version": 3
   },
   "file_extension": ".py",
   "mimetype": "text/x-python",
   "name": "python",
   "nbconvert_exporter": "python",
   "pygments_lexer": "ipython3",
   "version": "3.11.5"
  }
 },
 "nbformat": 4,
 "nbformat_minor": 5
}
