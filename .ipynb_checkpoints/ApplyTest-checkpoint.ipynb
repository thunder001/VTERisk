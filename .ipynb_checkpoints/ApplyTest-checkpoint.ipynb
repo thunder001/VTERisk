{
 "cells": [
  {
   "cell_type": "code",
   "execution_count": 7,
   "id": "1b25c26b-6d2c-4978-9f63-75529b61b84e",
   "metadata": {
    "tags": []
   },
   "outputs": [],
   "source": [
    "import os\n",
    "import json"
   ]
  },
  {
   "cell_type": "code",
   "execution_count": 1,
   "id": "1e128ba3-589b-4510-aa18-df7d8772c68b",
   "metadata": {
    "tags": []
   },
   "outputs": [],
   "source": [
    "import pandas as pd\n",
    "import random\n",
    "import os\n",
    "import json\n",
    "import gc\n",
    "import datetime\n",
    "# from disrisknet.utils.date import parse_date\n",
    "import copy\n",
    "import sys\n",
    "\n",
    "sys.path.append(\"././\")\n"
   ]
  },
  {
   "cell_type": "code",
   "execution_count": 2,
   "id": "598933ac-3a57-4c45-98da-d6873fb0874b",
   "metadata": {
    "tags": []
   },
   "outputs": [],
   "source": [
    "VTE_path = 'F:\\\\MAVDEV1\\\\Fillmore_Cancer\\\\cat\\\\Users\\\\data\\\\derived\\\\vte_ml\\\\vte_ml\\\\data_for_chunlei'"
   ]
  },
  {
   "cell_type": "code",
   "execution_count": null,
   "id": "054b55f2-1dac-4a83-9f6d-058c6e9bd5f3",
   "metadata": {
    "tags": []
   },
   "outputs": [
    {
     "name": "stdout",
     "output_type": "stream",
     "text": [
      "args: Namespace(experiment_config_path='src/configs/Multi/Test_J5dx_2.json', force_rerun=False, force_evaluate=False)\n",
      "python src/scripts/main.py  --add_bmi_neuron --add_race_neuron --add_sex_neuron --ageseq_event --code_to_index_file snapshot_vte/H/8980efcdcbeed755440c95c270679df0.code_map --cuda --device cuda:1 --disease_code_system phe_CMP --epochs 18 --eval_auprc --eval_auroc --eval_batch_size 128 --filter_max_len --hidden_dim 64 --init_lr 0.001 --log_dir logs_transformer_vte/H/TESTS/11_4 --lr_decay 0.3 --max_batches_per_dev_epoch 1000 --max_batches_per_train_epoch 2000 --max_days_before_index 360 --max_eval_indices 1 --max_events_length 500 --max_year_before_index 1 --model_dir snapshot_vte/H --model_name transformer --month_endpoints 3 --num_heads 8 --num_layers 1 --num_workers 0 --optimizer adam --pad_size 300 --pool_name Softmax_AttentionPool --snapshot snapshot_vte/H/model_8980efcdcbeed755440c95c270679df0_model.pt --start_noise_days --test --test_data_dir //vacrrdevmavdi01.vha.med.va.gov/MAVDEV1/Fillmore_Cancer/cat/Users/data/derived/vte_ml/vte_ml/data_for_chunlei/A2_CMP/IndexDate_5yrs/test --time_embed_dim 64 --train_batch_size 256 --tuning_metric 3day_auroc_c --use_age_embed --use_dxtime_embed --use_index_embed --use_time_embed --weight_decay 0.001 --log_name=d62c02759431257b2acd1279f2d2ecc9 --log_dir=logs_transformer_vte/H/TESTS/11_4\n"
     ]
    }
   ],
   "source": [
    "%run src/scripts/schedulers/expr_dispatcher.py --experiment-config-path src/configs/Multi/Test_J5dx_2.json\n"
   ]
  },
  {
   "cell_type": "code",
   "execution_count": 2,
   "id": "f1edc6d6-e508-4582-b1d5-f19dd69e017e",
   "metadata": {},
   "outputs": [
    {
     "name": "stdout",
     "output_type": "stream",
     "text": [
      "args: Namespace(experiment_config_path='src/configs/Multi/Test_Short6_3.json', force_rerun=False, force_evaluate=False)\n",
      "python src/scripts/main.py  --add_age_neuron --add_bmi_neuron --add_race_neuron --add_sex_neuron --code_to_index_file snapshot_vte/H/855ce27f76652b7b249f794501cbb2ea.code_map --device cpu --disease_code_system phe_CMP --epochs 1 --eval_auprc --eval_auroc --eval_batch_size 64 --filter_max_len --hidden_dim 64 --indseq_event --init_lr 0.001 --log_dir logs_transformer_vte/H/11_3 --lr_decay 0.3 --max_batches_per_dev_epoch 1000 --max_batches_per_train_epoch 2000 --max_days_before_index 270 --max_eval_indices 1 --max_events_length 500 --max_year_before_index 2 --model_dir snapshot_vte/H --model_name transformer --month_endpoints 3 --num_heads 8 --num_layers 1 --num_workers 0 --optimizer adam --pad_size 500 --pool_name Softmax_AttentionPool --snapshot snapshot_vte/H/model_855ce27f76652b7b249f794501cbb2ea_model.pt --start_noise_days --start_noise_len 180 --test --test_data_dir //vacrrdevmavdi01.vha.med.va.gov/MAVDEV1/Fillmore_Cancer/cat/Users/data/derived/vte_ml/vte_ml/data_for_chunlei/A2_CMP/IndexDate_5yrs/test --time_embed_dim 64 --train_batch_size 256 --tuning_metric 3day_auroc_c --use_dxtime_embed --use_time_embed --weight_decay 0.001 --log_name=97932c17ff05626ff044f503b4bb31d8 --log_dir=logs_transformer_vte/H/11_3\n"
     ]
    }
   ],
   "source": [
    "%run src/scripts/schedulers/expr_dispatcher.py --experiment-config-path src/configs/Multi/Test_Short6_3.json\n"
   ]
  },
  {
   "cell_type": "code",
   "execution_count": 1,
   "id": "da0f8ba9-a238-4776-8398-ddbdf04468d6",
   "metadata": {
    "tags": []
   },
   "outputs": [
    {
     "name": "stdout",
     "output_type": "stream",
     "text": [
      "args: Namespace(experiment_config_path='src/configs/Multi/Test_Short6.json', force_rerun=False, force_evaluate=False)\n",
      "python src/scripts/main.py  --add_age_neuron --add_bmi_neuron --add_race_neuron --add_sex_neuron --code_to_index_file snapshot_vte/H/855ce27f76652b7b249f794501cbb2ea.code_map --device cpu --disease_code_system phe_CMP --epochs 1 --eval_auprc --eval_auroc --eval_batch_size 64 --filter_max_len --hidden_dim 64 --indseq_event --init_lr 0.001 --log_dir logs_transformer_vte/H/11_3 --lr_decay 0.3 --max_batches_per_dev_epoch 1000 --max_batches_per_train_epoch 2000 --max_days_before_index 540 --max_eval_indices 1 --max_events_length 1000 --max_year_before_index 2 --model_dir snapshot_vte/H --model_name transformer --month_endpoints 3 --num_heads 8 --num_layers 1 --num_workers 0 --optimizer adam --pad_size 360 --pool_name Softmax_AttentionPool --snapshot snapshot_vte/H/model_855ce27f76652b7b249f794501cbb2ea_model.pt --start_noise_days --start_noise_len 180 --test --test_data_dir //vacrrdevmavdi01.vha.med.va.gov/MAVDEV1/Fillmore_Cancer/cat/Users/data/derived/vte_ml/vte_ml/data_for_chunlei/A2_CMP/IndexDate_5yrs/test --time_embed_dim 64 --train_batch_size 256 --tuning_metric 3day_auroc_c --use_dxtime_embed --use_time_embed --weight_decay 0.001 --log_name=cccb5669cfbde68794621b9540cab9aa --log_dir=logs_transformer_vte/H/11_3\n"
     ]
    }
   ],
   "source": [
    "%run src/scripts/schedulers/expr_dispatcher.py --experiment-config-path src/configs/Multi/Test_Short6.json\n"
   ]
  },
  {
   "cell_type": "code",
   "execution_count": 1,
   "id": "77639507-4150-4419-a796-67aefa5fbbc8",
   "metadata": {
    "tags": []
   },
   "outputs": [
    {
     "name": "stdout",
     "output_type": "stream",
     "text": [
      "args: Namespace(experiment_config_path='src/configs/Multi/Test_Short6_2.json', force_rerun=False, force_evaluate=False)\n",
      "python src/scripts/main.py  --add_age_neuron --add_bmi_neuron --add_race_neuron --add_sex_neuron --code_to_index_file snapshot_vte/H/855ce27f76652b7b249f794501cbb2ea.code_map --device cpu --disease_code_system phe_CMP --epochs 1 --eval_auprc --eval_auroc --eval_batch_size 64 --filter_max_len --hidden_dim 64 --indseq_event --init_lr 0.001 --log_dir logs_transformer_vte/H/11_3 --lr_decay 0.3 --max_batches_per_dev_epoch 1000 --max_batches_per_train_epoch 2000 --max_days_before_index 540 --max_eval_indices 1 --max_events_length 500 --max_year_before_index 2 --model_dir snapshot_vte/H --model_name transformer --month_endpoints 3 --num_heads 8 --num_layers 1 --num_workers 0 --optimizer adam --pad_size 500 --pool_name Softmax_AttentionPool --snapshot snapshot_vte/H/model_855ce27f76652b7b249f794501cbb2ea_model.pt --start_noise_days --start_noise_len 180 --test --test_data_dir //vacrrdevmavdi01.vha.med.va.gov/MAVDEV1/Fillmore_Cancer/cat/Users/data/derived/vte_ml/vte_ml/data_for_chunlei/A2_CMP/IndexDate_5yrs/test --time_embed_dim 64 --train_batch_size 256 --tuning_metric 3day_auroc_c --use_dxtime_embed --use_time_embed --weight_decay 0.001 --log_name=71a483ac6f572c492f00ff5f4ff64e3c --log_dir=logs_transformer_vte/H/11_3\n"
     ]
    }
   ],
   "source": [
    "%run src/scripts/schedulers/expr_dispatcher.py --experiment-config-path src/configs/Multi/Test_Short6_2.json\n"
   ]
  },
  {
   "cell_type": "code",
   "execution_count": null,
   "id": "451bc811-ed9c-4d05-a9b1-c94066dc13a0",
   "metadata": {
    "tags": []
   },
   "outputs": [],
   "source": [
    "%run src/scripts/schedulers/expr_dispatcher.py --experiment-config-path src/configs/Test_Multi/Test2_Long5_4.json\n"
   ]
  },
  {
   "cell_type": "code",
   "execution_count": 7,
   "id": "f1a92c84-548d-4f7b-a7d9-8e42614ae279",
   "metadata": {},
   "outputs": [
    {
     "name": "stdout",
     "output_type": "stream",
     "text": [
      "args: Namespace(experiment_config_path='src/configs/Test_Multi/Test_Long5_cpu.json', force_rerun=False, force_evaluate=False)\n",
      "python src/scripts/main.py  --add_age_neuron --add_bmi_neuron --add_race_neuron --add_sex_neuron --code_to_index_file snapshot_vte/G/f22ab8ee784b5573471f3440e49e13c2.code_map --device cpu --disease_code_system phe_CMP --dropout 0 --dxseq_event --epochs 1 --eval_auprc --eval_auroc --eval_batch_size 64 --eval_c_index --exclusion_interval 0 --hidden_dim 64 --init_lr 0.002 --log_dir logs_transformer_vte/M_Sen/Sen10_29 --lr_decay 0.3 --max_batches_per_dev_epoch 500 --max_batches_per_train_epoch 2000 --max_eval_indices 1 --max_events_length 2500 --max_year_before_index 3 --model_dir snapshot_vte/M_Sen --model_name transformer --month_endpoints 3 --multi_traj3 --num_heads 8 --num_layers 1 --num_workers 0 --optimizer adam --pad_size 300 --pool_name Softmax_AttentionPool --snapshot snapshot_vte/G/model_f22ab8ee784b5573471f3440e49e13c2_model.pt --start_noise_days --start_noise_len 180 --test --test_data_dir Y:/Fillmore_Cancer/cat/Users/data/derived/vte_ml/vte_ml/data_for_chunlei/A2_CMP/IndexDate_5yrs/test --time_embed_dim 64 --train_batch_size 256 --tuning_metric 3day_auroc_c --use_index_embed --use_time_embed --weight_decay 0.001 --log_name=e1725c09bf55bda248b6d3c1a8e1330c --log_dir=logs_transformer_vte/M_Sen/Sen10_29\n"
     ]
    }
   ],
   "source": [
    "%run src/scripts/schedulers/expr_dispatcher.py --experiment-config-path src/configs/Test_Multi/Test_Long5_cpu.json\n"
   ]
  },
  {
   "cell_type": "code",
   "execution_count": 9,
   "id": "dd8fe562-daab-490d-9fff-46edeedf3821",
   "metadata": {
    "tags": []
   },
   "outputs": [
    {
     "name": "stdout",
     "output_type": "stream",
     "text": [
      "args: Namespace(experiment_config_path='src/configs/Test_Multi/Test2_Long5b.json', force_rerun=False, force_evaluate=False)\n",
      "python src/scripts/main.py  --add_age_neuron --add_bmi_neuron --add_race_neuron --add_sex_neuron --code_to_index_file snapshot_vte/G/f22ab8ee784b5573471f3440e49e13c2.code_map --cuda --device cuda:0 --disease_code_system phe_CMP --dropout 0 --dxseq_event --epochs 1 --eval_auprc --eval_auroc --eval_batch_size 256 --eval_c_index --exclusion_interval 0 --hidden_dim 64 --init_lr 0.002 --log_dir logs_transformer_vte/M_Sen/Sen10_29 --lr_decay 0.3 --max_batches_per_dev_epoch 500 --max_batches_per_train_epoch 2000 --max_eval_indices 1 --max_events_length 2500 --max_year_before_index 2 --model_dir snapshot_vte/M_Sen --model_name transformer --month_endpoints 3 --multi_traj3 --num_heads 8 --num_layers 1 --num_workers 0 --optimizer adam --pad_size 300 --pool_name Softmax_AttentionPool --snapshot snapshot_vte/G/model_f22ab8ee784b5573471f3440e49e13c2_model.pt --start_noise_days --start_noise_len 0 --test --test_data_dir Y:/Fillmore_Cancer/cat/Users/data/derived/vte_ml/vte_ml/data_for_chunlei/A2_CMP/test2 --time_embed_dim 64 --train_batch_size 256 --tuning_metric 3day_auroc_c --use_index_embed --use_time_embed --weight_decay 0.001 --log_name=7d01a9e32dcc6e28b968f613148bf794 --log_dir=logs_transformer_vte/M_Sen/Sen10_29\n"
     ]
    }
   ],
   "source": [
    "%run src/scripts/schedulers/expr_dispatcher.py --experiment-config-path src/configs/Test_Multi/Test2_Long5b.json\n"
   ]
  },
  {
   "cell_type": "code",
   "execution_count": 2,
   "id": "e6735c52-a1ff-4501-9071-44994ab90967",
   "metadata": {},
   "outputs": [
    {
     "name": "stdout",
     "output_type": "stream",
     "text": [
      "args: Namespace(experiment_config_path='src/configs/Multi/Sen_Long1_90.json', force_rerun=False, force_evaluate=False)\n",
      "python src/scripts/main.py  --add_bmi_neuron --add_race_neuron --add_sex_neuron --code_to_index_file snapshot_vte/G/8add3cf78a72abe6f689001ae32e2f9a.code_map --cuda --days 90 --device cuda:0 --disease_code_system phe_CMP --dropout 0 --dxseq_event --epochs 1 --eval_auprc --eval_auroc --eval_batch_size 64 --eval_c_index --exclusion_interval 0 --hidden_dim 64 --init_lr 0.002 --log_dir logs_transformer_vte/M_Sen --lr_decay 0.3 --max_batches_per_dev_epoch 500 --max_batches_per_train_epoch 2000 --max_eval_indices 1 --max_events_length 2500 --max_year_before_index 3 --min_events_length 5 --model_dir snapshot_vte/M_Sen --model_name transformer --month_endpoints 3 --num_heads 8 --num_layers 1 --num_workers 0 --optimizer adam --pad_size 300 --pool_name Softmax_AttentionPool --sensitivity --snapshot snapshot_vte/G/model_8add3cf78a72abe6f689001ae32e2f9a_model.pt --test --test_data_dir Y:/Fillmore_Cancer/cat/Users/data/derived/vte_ml/vte_ml/data_for_chunlei/A2_CMP/test2 --time_embed_dim 64 --train_batch_size 256 --tuning_metric 3day_auroc_c --use_age_embed --use_dxtime_embed --use_time_embed --weight_decay 0.001 --log_name=c0827ccfc4e4fcaf971e14902508ed48 --log_dir=logs_transformer_vte/M_Sen\n"
     ]
    }
   ],
   "source": [
    "%run src/scripts/schedulers/expr_dispatcher.py --experiment-config-path src/configs/Multi/Sen_Long1_90.json\n"
   ]
  },
  {
   "cell_type": "code",
   "execution_count": null,
   "id": "9a979199-80a4-4097-a811-cc070f13be5b",
   "metadata": {},
   "outputs": [],
   "source": []
  },
  {
   "cell_type": "code",
   "execution_count": null,
   "id": "5ec77e3f-9880-44d3-bf25-f83e23724e76",
   "metadata": {},
   "outputs": [],
   "source": []
  },
  {
   "cell_type": "code",
   "execution_count": 3,
   "id": "bf3c05b8-d0bd-4dbf-99bc-0a439c72d59a",
   "metadata": {},
   "outputs": [
    {
     "name": "stdout",
     "output_type": "stream",
     "text": [
      "args: Namespace(experiment_config_path='src/configs/Cohort/Sen0_CoA_5.json', force_rerun=False, force_evaluate=False)\n",
      "python src/scripts/main.py  --add_bmi_neuron --add_race_neuron --add_sex_neuron --code_to_index_file snapshot_vte/F/af7e89f5c48255bfb508b07c4b2638c6.code_map --cuda --days 0 --device cuda:0 --disease_code_system phe_CMP --dropout 0 --dxseq_event --epochs 1 --eval_auprc --eval_auroc --eval_batch_size 64 --eval_c_index --exclusion_interval 0 --hidden_dim 64 --init_lr 0.002 --log_dir logs_transformer_vte/F_Sen --lr_decay 0.3 --max_batches_per_dev_epoch 500 --max_batches_per_train_epoch 2000 --max_eval_indices 1 --max_events_length 2500 --max_year_before_index 15 --min_events_length 5 --model_dir snapshot_vte/F_Sen --model_name transformer --month_endpoints 3 12 24 --num_heads 8 --num_layers 1 --num_workers 0 --optimizer adam --pad_size 300 --pool_name Softmax_AttentionPool --sensitivity --snapshot snapshot_vte/F/model_af7e89f5c48255bfb508b07c4b2638c6_model.pt --test --test_data_dir Y:/Fillmore_Cancer/cat/Users/data/derived/vte_ml/vte_ml/data_for_chunlei/A2_CMP/test2 --time_embed_dim 64 --train_batch_size 256 --tuning_metric 12day_auroc_c --use_age_embed --use_dxtime_embed --use_time_embed --weight_decay 0.001 --log_name=9e87ec5182ec595fe41c02e236b533d5 --log_dir=logs_transformer_vte/F_Sen\n"
     ]
    }
   ],
   "source": [
    "%run src/scripts/schedulers/expr_dispatcher.py --experiment-config-path src/configs/Cohort/Sen0_CoA_5.json\n"
   ]
  },
  {
   "cell_type": "code",
   "execution_count": 1,
   "id": "b592e855-2734-4bb9-9c79-04527b001d16",
   "metadata": {
    "tags": []
   },
   "outputs": [
    {
     "name": "stdout",
     "output_type": "stream",
     "text": [
      "args: Namespace(experiment_config_path='src/configs/CC_test/MM180_4.json', force_rerun=False, force_evaluate=False)\n",
      "python src/scripts/main.py  --add_bmi_neuron --add_race_neuron --add_sex_neuron --case_noise_fixed --code_to_index_file snapshot_vte/CC/a6112eecc8aea837e9e9b1971da8bfd5.code_map --days 180 --device cpu --disease_code_system phe_CMP --dropout 0 --epochs 1 --eval_auroc --eval_batch_size 64 --exclusion_interval 0 --hidden_dim 64 --init_lr 0.002 --log_dir logs_transformer_vte/CC_test --looking_backward --lr_decay 0.3 --max_eval_indices 1 --max_events_length 500 --max_year_before_index 10 --min_events_length 5 --model_dir snapshot_vte/CC_test --model_name transformer --num_heads 8 --num_layers 1 --num_workers 0 --optimizer adam --pad_size 300 --pool_name Softmax_AttentionPool --snapshot snapshot_vte/CC/model_a6112eecc8aea837e9e9b1971da8bfd5_model.pt --test --test_data_dir Y:/Fillmore_Cancer/cat/Users/data/derived/vte_ml/vte_ml/data_for_chunlei/A2_CMP/test2 --time_embed_dim 64 --use_age_embed --use_dxtime_embed --use_time_embed --weight_decay 0.001 --log_name=2f002734e14bb22bdaeed77cffadd68d --log_dir=logs_transformer_vte/CC_test\n"
     ]
    }
   ],
   "source": [
    "%run src/scripts/schedulers/expr_dispatcher.py --experiment-config-path src/configs/CC_test/MM180_4.json\n"
   ]
  },
  {
   "cell_type": "code",
   "execution_count": 25,
   "id": "fbff8668-fbc3-4168-876d-5005dc134242",
   "metadata": {
    "tags": []
   },
   "outputs": [
    {
     "name": "stdout",
     "output_type": "stream",
     "text": [
      "args: Namespace(experiment_config_path='src/configs/CC_test/MM2_180.json', force_rerun=False, force_evaluate=False)\n",
      "python src/scripts/main.py  --add_bmi_neuron --add_race_neuron --add_sex_neuron --attribute --case_noise_fixed --code_to_index_file snapshot_vte/CC/1391eac4ef38cb54b9f89f4b853129d2.code_map --cuda --days 180 --dev --dev_data_dir Y:/Fillmore_Cancer/cat/Users/data/derived/vte_ml/vte_ml/data_for_chunlei/A2_CMP/dev --device cuda:0 --disease_code_system phe_CMP --dropout 0 --epochs 1 --eval_auprc --eval_auroc --eval_batch_size 64 --eval_c_index --eval_mcc --exclusion_interval 0 --hidden_dim 64 --init_lr 0.002 --log_dir logs_transformer_vte/CC_test --looking_backward --lr_decay 0.3 --max_batches_per_dev_epoch 500 --max_batches_per_train_epoch 2000 --max_eval_indices 1 --max_events_length 500 --max_year_before_index 10 --min_events_length 5 --model_dir snapshot_vte/CC_test --model_name transformer --num_heads 8 --num_layers 1 --num_workers 0 --optimizer adam --pad_size 300 --pool_name Softmax_AttentionPool --snapshot snapshot_vte/CC/model_1391eac4ef38cb54b9f89f4b853129d2_model.pt --test --test_data_dir Y:/Fillmore_Cancer/cat/Users/data/derived/vte_ml/vte_ml/data_for_chunlei/A2_CMP/test2 --time_embed_dim 64 --train --train_batch_size 256 --train_data_dir Y:/Fillmore_Cancer/cat/Users/data/derived/vte_ml/vte_ml/data_for_chunlei/A2_CMP/train --use_age_embed --use_dxtime_embed --use_time_embed --weight_decay 0.001 --log_name=7b878e6496e01ba05d2335d14b349149 --log_dir=logs_transformer_vte/CC_test\n"
     ]
    }
   ],
   "source": [
    "%run src/scripts/schedulers/expr_dispatcher.py --experiment-config-path src/configs/CC_test/MM2_180.json\n"
   ]
  },
  {
   "cell_type": "code",
   "execution_count": 21,
   "id": "0e9c8591-bf42-4989-ad23-043ab1027896",
   "metadata": {
    "tags": []
   },
   "outputs": [
    {
     "name": "stdout",
     "output_type": "stream",
     "text": [
      "args: Namespace(experiment_config_path='src/configs/CC_test/sensitivity180_2.json', force_rerun=False, force_evaluate=False)\n",
      "python src/scripts/main.py  --add_bmi_neuron --add_race_neuron --add_sex_neuron --attribute --code_to_index_file snapshot_vte/CC/1391eac4ef38cb54b9f89f4b853129d2.code_map --cuda --dev_data_dir Y:/Fillmore_Cancer/cat/Users/data/derived/vte_ml/vte_ml/data_for_chunlei/A2_CMP/dev --device cuda:0 --disease_code_system phe_CMP --dropout 0 --epochs 1 --eval_auprc --eval_auroc --eval_batch_size 64 --eval_c_index --eval_mcc --exclusion_interval 0 --hidden_dim 64 --init_lr 0.002 --log_dir logs_transformer_vte/CC_test --lr_decay 0.3 --max_batches_per_dev_epoch 500 --max_batches_per_train_epoch 2000 --max_eval_indices 1 --max_events_length 500 --max_year_before_index 10 --min_events_length 5 --model_dir snapshot_vte/CC_test --model_name transformer --num_heads 8 --num_layers 1 --num_workers 0 --optimizer adam --pad_size 300 --pool_name Softmax_AttentionPool --sensitivity --snapshot snapshot_vte/CC/model_1391eac4ef38cb54b9f89f4b853129d2_model.pt --test --test_data_dir Y:/Fillmore_Cancer/cat/Users/data/derived/vte_ml/vte_ml/data_for_chunlei/A2_CMP/test2 --time_embed_dim 64 --train_batch_size 256 --train_data_dir Y:/Fillmore_Cancer/cat/Users/data/derived/vte_ml/vte_ml/data_for_chunlei/A2_CMP/train --use_age_embed --use_dxtime_embed --use_time_embed --weight_decay 0.001 --log_name=06ff291924c7cf51569b3cd65bd16443 --log_dir=logs_transformer_vte/CC_test\n"
     ]
    }
   ],
   "source": [
    "%run src/scripts/schedulers/expr_dispatcher.py --experiment-config-path src/configs/CC_test/sensitivity180_2.json\n"
   ]
  },
  {
   "cell_type": "code",
   "execution_count": 22,
   "id": "229a4af5-7cf1-4849-915b-2010f47da005",
   "metadata": {
    "tags": []
   },
   "outputs": [
    {
     "name": "stdout",
     "output_type": "stream",
     "text": [
      "args: Namespace(experiment_config_path='src/configs/CC_test/sensitivity90_2.json', force_rerun=False, force_evaluate=False)\n",
      "python src/scripts/main.py  --add_bmi_neuron --add_race_neuron --add_sex_neuron --attribute --code_to_index_file snapshot_vte/CC/a6112eecc8aea837e9e9b1971da8bfd5.code_map --cuda --dev_data_dir Y:/Fillmore_Cancer/cat/Users/data/derived/vte_ml/vte_ml/data_for_chunlei/A2_CMP/dev --device cuda:0 --disease_code_system phe_CMP --dropout 0 --epochs 1 --eval_auprc --eval_auroc --eval_batch_size 64 --eval_c_index --eval_mcc --exclusion_interval 0 --hidden_dim 64 --init_lr 0.002 --log_dir logs_transformer_vte/CC_test --lr_decay 0.3 --max_batches_per_dev_epoch 500 --max_batches_per_train_epoch 2000 --max_eval_indices 1 --max_events_length 500 --max_year_before_index 10 --min_events_length 5 --model_dir snapshot_vte/CC_test --model_name transformer --num_heads 8 --num_layers 1 --num_workers 0 --optimizer adam --pad_size 300 --pool_name Softmax_AttentionPool --sensitivity --snapshot snapshot_vte/CC/model_a6112eecc8aea837e9e9b1971da8bfd5_model.pt --test --test_data_dir Y:/Fillmore_Cancer/cat/Users/data/derived/vte_ml/vte_ml/data_for_chunlei/A2_CMP/test2 --time_embed_dim 64 --train_batch_size 256 --train_data_dir Y:/Fillmore_Cancer/cat/Users/data/derived/vte_ml/vte_ml/data_for_chunlei/A2_CMP/train --use_age_embed --use_dxtime_embed --use_time_embed --weight_decay 0.001 --log_name=274d7531d11784206666459c5ebbbdcf --log_dir=logs_transformer_vte/CC_test\n"
     ]
    }
   ],
   "source": [
    "%run src/scripts/schedulers/expr_dispatcher.py --experiment-config-path src/configs/CC_test/sensitivity90_2.json\n"
   ]
  },
  {
   "cell_type": "code",
   "execution_count": 26,
   "id": "98a22c62-a701-4605-83cc-8acae4d06a3c",
   "metadata": {
    "tags": []
   },
   "outputs": [
    {
     "name": "stdout",
     "output_type": "stream",
     "text": [
      "import os\n",
      "import json\n",
      "import pandas as pd\n",
      "import random\n",
      "import os\n",
      "import json\n",
      "import gc\n",
      "import datetime\n",
      "# from disrisknet.utils.date import parse_date\n",
      "import copy\n",
      "VTE_path = 'F:\\\\MAVDEV1\\\\Fillmore_Cancer\\\\cat\\\\Users\\\\data\\\\derived\\\\vte_ml\\\\vte_ml\\\\data_for_chunlei'\n",
      "%run src/scripts/schedulers/expr_dispatcher.py --experiment-config-path src/configs/Resume/Resume_Sensi90_Test2.json\n",
      "%run src/scripts/schedulers/expr_dispatcher.py --experiment-config-path src/configs/Resume/Resume_Sensi180_Test2.json\n",
      "%run src/scripts/schedulers/expr_dispatcher.py --experiment-config-path src/configs/Resume/Resume_MM90_Test2.json\n",
      "%run src/scripts/schedulers/expr_dispatcher.py --experiment-config-path src/configs/Resume/Resume_MM180_Test2.json\n",
      "%run src/scripts/schedulers/expr_dispatcher.py --experiment-config-path src/configs/CC_test/sensitivity90.json\n",
      "%run src/scripts/schedulers/expr_dispatcher.py --experiment-config-path src/configs/CC_test/sensitivity90.json\n",
      "%run src/scripts/schedulers/expr_dispatcher.py --experiment-config-path src/configs/CC_test/sensitivity90.json\n",
      "%run src/scripts/schedulers/expr_dispatcher.py --experiment-config-path src/configs/CC_test/sensitivity90.json\n",
      "%run src/scripts/schedulers/expr_dispatcher.py --experiment-config-path src/configs/CC_test/sensitivity90.json\n",
      "%run src/scripts/schedulers/expr_dispatcher.py --experiment-config-path src/configs/CC_test/sensitivity190.json\n",
      "%run src/scripts/schedulers/expr_dispatcher.py --experiment-config-path src/configs/CC_test/sensitivity180.json\n",
      "%run src/scripts/schedulers/expr_dispatcher.py --experiment-config-path src/configs/CC_test/MM90.json\n",
      "%run src/scripts/schedulers/expr_dispatcher.py --experiment-config-path src/configs/CC_test/MM90.json\n",
      "%run src/scripts/schedulers/expr_dispatcher.py --experiment-config-path src/configs/CC_test/MM_90.json\n",
      "%run src/scripts/schedulers/expr_dispatcher.py --experiment-config-path src/configs/CC_test/MM_180.json\n",
      "%run src/scripts/schedulers/expr_dispatcher.py --experiment-config-path src/configs/CC_test/MM2_90.json\n",
      "%run src/scripts/schedulers/expr_dispatcher.py --experiment-config-path src/configs/CC_test/MM2_180.json\n",
      "%run src/scripts/schedulers/expr_dispatcher.py --experiment-config-path src/configs/CC_test/sensitivity180_2.json\n",
      "%run src/scripts/schedulers/expr_dispatcher.py --experiment-config-path src/configs/CC_test/sensitivity90_2.json\n",
      "%run src/scripts/schedulers/expr_dispatcher.py --experiment-config-path src/configs/CC_test/MM2_90.json\n",
      "%run src/scripts/schedulers/expr_dispatcher.py --experiment-config-path src/configs/CC_test/MM2_90b.json\n",
      "%run src/scripts/schedulers/expr_dispatcher.py --experiment-config-path src/configs/CC_test/MM2_180.json\n",
      "%history\n"
     ]
    }
   ],
   "source": [
    "%history"
   ]
  },
  {
   "cell_type": "code",
   "execution_count": 37,
   "id": "b4156cdf-db14-45c4-a1fd-953a8ecc9415",
   "metadata": {
    "tags": []
   },
   "outputs": [
    {
     "name": "stdout",
     "output_type": "stream",
     "text": [
      "args: Namespace(experiment_config_path='src/configs/CC_test/sensitivity90_4.json', force_rerun=False, force_evaluate=False)\n",
      "python src/scripts/main.py  --add_bmi_neuron --add_race_neuron --add_sex_neuron --code_to_index_file snapshot_vte/CC/a6112eecc8aea837e9e9b1971da8bfd5.code_map --days 90 --device cpu --disease_code_system phe_CMP --dropout 0 --epochs 1 --eval_auroc --eval_batch_size 64 --exclusion_interval 0 --hidden_dim 64 --init_lr 0.002 --log_dir logs_transformer_vte/CC_test --lr_decay 0.3 --max_eval_indices 1 --max_events_length 500 --max_year_before_index 10 --min_events_length 5 --model_dir snapshot_vte/CC_test --model_name transformer --num_heads 8 --num_layers 1 --num_workers 0 --optimizer adam --pad_size 300 --pool_name Softmax_AttentionPool --sensitivity --snapshot snapshot_vte/CC/model_a6112eecc8aea837e9e9b1971da8bfd5_model.pt --test --test_data_dir Y:/Fillmore_Cancer/cat/Users/data/derived/vte_ml/vte_ml/data_for_chunlei/A2_CMP/test2 --time_embed_dim 64 --use_age_embed --use_dxtime_embed --use_time_embed --weight_decay 0.001 --log_name=be3257d39d409ec46e85d4d90aaa5146 --log_dir=logs_transformer_vte/CC_test\n"
     ]
    }
   ],
   "source": [
    "%run src/scripts/schedulers/expr_dispatcher.py --experiment-config-path src/configs/CC_test/sensitivity90_4.json\n"
   ]
  },
  {
   "cell_type": "code",
   "execution_count": 38,
   "id": "4eee5da5-b202-4315-83d0-ae47ac6a5ffc",
   "metadata": {
    "tags": []
   },
   "outputs": [
    {
     "name": "stdout",
     "output_type": "stream",
     "text": [
      "args: Namespace(experiment_config_path='src/configs/CC_test/MM90_4.json', force_rerun=False, force_evaluate=False)\n",
      "python src/scripts/main.py  --add_bmi_neuron --add_race_neuron --add_sex_neuron --case_noise_fixed --code_to_index_file snapshot_vte/CC/a6112eecc8aea837e9e9b1971da8bfd5.code_map --days 90 --device cpu --disease_code_system phe_CMP --dropout 0 --epochs 1 --eval_auroc --eval_batch_size 64 --exclusion_interval 0 --hidden_dim 64 --init_lr 0.002 --log_dir logs_transformer_vte/CC_test --looking_backward --lr_decay 0.3 --max_eval_indices 1 --max_events_length 500 --max_year_before_index 10 --min_events_length 5 --model_dir snapshot_vte/CC_test --model_name transformer --num_heads 8 --num_layers 1 --num_workers 0 --optimizer adam --pad_size 300 --pool_name Softmax_AttentionPool --snapshot snapshot_vte/CC/model_a6112eecc8aea837e9e9b1971da8bfd5_model.pt --test --test_data_dir Y:/Fillmore_Cancer/cat/Users/data/derived/vte_ml/vte_ml/data_for_chunlei/A2_CMP/test2 --time_embed_dim 64 --use_age_embed --use_dxtime_embed --use_time_embed --weight_decay 0.001 --log_name=9ee5d9934fc47bcf376188238d1b41b8 --log_dir=logs_transformer_vte/CC_test\n"
     ]
    }
   ],
   "source": [
    "%run src/scripts/schedulers/expr_dispatcher.py --experiment-config-path src/configs/CC_test/MM90_4.json\n"
   ]
  },
  {
   "cell_type": "code",
   "execution_count": 40,
   "id": "b908be3c-d2a9-4b87-b0b9-f45aec4660ba",
   "metadata": {
    "tags": []
   },
   "outputs": [
    {
     "name": "stdout",
     "output_type": "stream",
     "text": [
      "args: Namespace(experiment_config_path='src/configs/CC_test/sensitivity180_4.json', force_rerun=False, force_evaluate=False)\n",
      "python src/scripts/main.py  --add_bmi_neuron --add_race_neuron --add_sex_neuron --code_to_index_file snapshot_vte/CC/1391eac4ef38cb54b9f89f4b853129d2.code_map --days 180 --device cpu --disease_code_system phe_CMP --dropout 0 --epochs 1 --eval_auroc --eval_batch_size 64 --exclusion_interval 0 --hidden_dim 64 --init_lr 0.002 --log_dir logs_transformer_vte/CC_test --lr_decay 0.3 --max_eval_indices 1 --max_events_length 500 --max_year_before_index 10 --min_events_length 5 --model_dir snapshot_vte/CC_test --model_name transformer --num_heads 8 --num_layers 1 --num_workers 0 --optimizer adam --pad_size 300 --pool_name Softmax_AttentionPool --sensitivity --snapshot snapshot_vte/CC/model_1391eac4ef38cb54b9f89f4b853129d2_model.pt --test --test_data_dir Y:/Fillmore_Cancer/cat/Users/data/derived/vte_ml/vte_ml/data_for_chunlei/A2_CMP/test2 --time_embed_dim 64 --use_age_embed --use_dxtime_embed --use_time_embed --weight_decay 0.001 --log_name=f6e42f2e3995ccc9aa7b92a57b4cd92a --log_dir=logs_transformer_vte/CC_test\n"
     ]
    }
   ],
   "source": [
    "%run src/scripts/schedulers/expr_dispatcher.py --experiment-config-path src/configs/CC_test/sensitivity180_4.json\n"
   ]
  },
  {
   "cell_type": "code",
   "execution_count": null,
   "id": "83e5777c-4d70-4917-8d24-c7b4d2eeda0c",
   "metadata": {},
   "outputs": [],
   "source": []
  },
  {
   "cell_type": "code",
   "execution_count": null,
   "id": "330a597b-86f5-4353-987e-e0e8f8612886",
   "metadata": {},
   "outputs": [],
   "source": []
  },
  {
   "cell_type": "code",
   "execution_count": null,
   "id": "6fce6dff-4c59-461b-ab59-8bfaefbf251d",
   "metadata": {},
   "outputs": [],
   "source": []
  },
  {
   "cell_type": "code",
   "execution_count": 2,
   "id": "53620218-79a9-45f5-b551-31f2543173ff",
   "metadata": {
    "tags": []
   },
   "outputs": [
    {
     "name": "stdout",
     "output_type": "stream",
     "text": [
      "args: Namespace(experiment_config_path='src/configs/Resume/sensitivity180.json', force_rerun=False, force_evaluate=False)\n",
      "python src/scripts/main.py  --add_bmi_neuron --add_race_neuron --add_sex_neuron --attribute --code_to_index_file snapshot_vte/CC/1391eac4ef38cb54b9f89f4b853129d2.code_map --cuda --dev_data_dir Y:/Fillmore_Cancer/cat/Users/data/derived/vte_ml/vte_ml/data_for_chunlei/A2_CMP/dev --device cuda:0 --disease_code_system phe_CMP --dropout 0 --epochs 1 --eval_auprc --eval_auroc --eval_batch_size 64 --eval_c_index --eval_mcc --exclusion_interval 0 --hidden_dim 64 --init_lr 0.002 --log_dir logs_transformer_vte/CC --lr_decay 0.3 --max_batches_per_dev_epoch 500 --max_batches_per_train_epoch 2000 --max_eval_indices 1 --max_events_length 500 --max_year_before_index 10 --min_events_length 5 --model_dir snapshot_vte/CC --model_name transformer --num_heads 8 --num_layers 1 --num_workers 0 --optimizer adam --pad_size 300 --pool_name Softmax_AttentionPool --sensitivity --snapshot snapshot_vte/CC/model_1391eac4ef38cb54b9f89f4b853129d2_model.pt --test --test_data_dir Y:/Fillmore_Cancer/cat/Users/data/derived/vte_ml/vte_ml/data_for_chunlei/A2_CMP/test --time_embed_dim 64 --train_batch_size 256 --train_data_dir Y:/Fillmore_Cancer/cat/Users/data/derived/vte_ml/vte_ml/data_for_chunlei/A2_CMP/train --use_age_embed --use_dxtime_embed --use_time_embed --weight_decay 0.001 --log_name=b36586be9905d72b7380673857ea2674 --log_dir=logs_transformer_vte/CC\n"
     ]
    }
   ],
   "source": [
    "%run src/scripts/schedulers/expr_dispatcher.py --experiment-config-path src/configs/Resume/sensitivity180.json\n"
   ]
  },
  {
   "cell_type": "code",
   "execution_count": 4,
   "id": "0f4ba3f9-9ac9-45d6-93a6-27e95f839fbf",
   "metadata": {
    "tags": []
   },
   "outputs": [],
   "source": [
    "#%run src/scripts/schedulers/expr_dispatcher.py --experiment-config-path src/configs/model_training/grid_search_phelab.json\n"
   ]
  },
  {
   "cell_type": "code",
   "execution_count": 10,
   "id": "c6d70809-da2b-4105-b504-63624e37019a",
   "metadata": {
    "tags": []
   },
   "outputs": [
    {
     "name": "stdout",
     "output_type": "stream",
     "text": [
      "args: Namespace(experiment_config_path='src/configs/train_Y/Fwd/Y5_forward6mo.json', force_rerun=False, force_evaluate=False)\n",
      "python src/scripts/main.py  --add_bmi_neuron --add_sex_neuron --attribute --cuda --day_endpoints 0 --days 180 --dev --dev_data_dir Y:/Fillmore_Cancer/cat/Users/data/derived/vte_ml/vte_ml/data_for_chunlei/A2_CMP/Resplit/Y5/dev --device cuda:0 --disease_code_system phe_CMP --dropout 0 --dxseq_event --epochs 7 --eval_auprc --eval_auroc --eval_batch_size 64 --eval_c_index --exclusion_interval 0 --hidden_dim 64 --init_lr 0.002 --log_dir logs_transformer_vte/y_CMP --lr_decay 0.3 --max_batches_per_dev_epoch 500 --max_batches_per_train_epoch 2000 --max_events_length 500 --max_year_before_index 10 --min_events_length 5 --model_dir snapshot_vte/y_CMP --model_name transformer --month_endpoints 0 --num_heads 8 --num_layers 1 --num_workers 0 --optimizer adam --pad_size 300 --pool_name Softmax_AttentionPool --test --test_data_dir Y:/Fillmore_Cancer/cat/Users/data/derived/vte_ml/vte_ml/data_for_chunlei/A2_CMP/Resplit/Y5/test --time_embed_dim 64 --train --train_batch_size 256 --train_data_dir Y:/Fillmore_Cancer/cat/Users/data/derived/vte_ml/vte_ml/data_for_chunlei/A2_CMP/Resplit/Y5/train --tuning_metric 6day_auroc_i --use_age_embed --use_dxtime_embed --use_time_embed --weight_decay 0.001 --log_name=5dfb3b1369d7effbc1a7f7f8c712ce02 --log_dir=logs_transformer_vte/y_CMP\n",
      "python src/scripts/main.py  --add_bmi_neuron --add_sex_neuron --attribute --cuda --day_endpoints 3 --days 180 --dev --dev_data_dir Y:/Fillmore_Cancer/cat/Users/data/derived/vte_ml/vte_ml/data_for_chunlei/A2_CMP/Resplit/Y5/dev --device cuda:0 --disease_code_system phe_CMP --dropout 0 --dxseq_event --epochs 7 --eval_auprc --eval_auroc --eval_batch_size 64 --eval_c_index --exclusion_interval 0 --hidden_dim 64 --init_lr 0.002 --log_dir logs_transformer_vte/y_CMP --lr_decay 0.3 --max_batches_per_dev_epoch 500 --max_batches_per_train_epoch 2000 --max_events_length 500 --max_year_before_index 10 --min_events_length 5 --model_dir snapshot_vte/y_CMP --model_name transformer --month_endpoints 0 --num_heads 8 --num_layers 1 --num_workers 0 --optimizer adam --pad_size 300 --pool_name Softmax_AttentionPool --test --test_data_dir Y:/Fillmore_Cancer/cat/Users/data/derived/vte_ml/vte_ml/data_for_chunlei/A2_CMP/Resplit/Y5/test --time_embed_dim 64 --train --train_batch_size 256 --train_data_dir Y:/Fillmore_Cancer/cat/Users/data/derived/vte_ml/vte_ml/data_for_chunlei/A2_CMP/Resplit/Y5/train --tuning_metric 6day_auroc_i --use_age_embed --use_dxtime_embed --use_time_embed --weight_decay 0.001 --log_name=6f2a13c3f15a6d5077b77043cdbfcba0 --log_dir=logs_transformer_vte/y_CMP\n"
     ]
    },
    {
     "ename": "KeyboardInterrupt",
     "evalue": "",
     "output_type": "error",
     "traceback": [
      "\u001b[1;31m---------------------------------------------------------------------------\u001b[0m",
      "\u001b[1;31mKeyboardInterrupt\u001b[0m                         Traceback (most recent call last)",
      "File \u001b[1;32mG:\\FillmoreCancerData\\markhe\\VTERisk\\src\\scripts\\schedulers\\expr_dispatcher.py:94\u001b[0m\n\u001b[0;32m     89\u001b[0m job_list, _ \u001b[38;5;241m=\u001b[39m parsing\u001b[38;5;241m.\u001b[39mparse_dispatcher_config(config)\n\u001b[0;32m     91\u001b[0m \u001b[38;5;66;03m# print(job_list)\u001b[39;00m\n\u001b[0;32m     92\u001b[0m \n\u001b[0;32m     93\u001b[0m \u001b[38;5;66;03m# [print(params) for params in job_list]\u001b[39;00m\n\u001b[1;32m---> 94\u001b[0m [launch_experiment(gpu\u001b[38;5;241m=\u001b[39m\u001b[38;5;241m2\u001b[39m, flag_string\u001b[38;5;241m=\u001b[39m\u001b[38;5;28mstr\u001b[39m(params)) \u001b[38;5;28;01mfor\u001b[39;00m params \u001b[38;5;129;01min\u001b[39;00m job_list]\n\u001b[0;32m     95\u001b[0m \u001b[38;5;66;03m# launch_experiment(gpu=2, flag_string=job_list[0])\u001b[39;00m\n\u001b[0;32m     97\u001b[0m sys\u001b[38;5;241m.\u001b[39mexit(\u001b[38;5;241m0\u001b[39m)\n",
      "File \u001b[1;32mG:\\FillmoreCancerData\\markhe\\VTERisk\\src\\scripts\\schedulers\\expr_dispatcher.py:94\u001b[0m, in \u001b[0;36m<listcomp>\u001b[1;34m(.0)\u001b[0m\n\u001b[0;32m     89\u001b[0m job_list, _ \u001b[38;5;241m=\u001b[39m parsing\u001b[38;5;241m.\u001b[39mparse_dispatcher_config(config)\n\u001b[0;32m     91\u001b[0m \u001b[38;5;66;03m# print(job_list)\u001b[39;00m\n\u001b[0;32m     92\u001b[0m \n\u001b[0;32m     93\u001b[0m \u001b[38;5;66;03m# [print(params) for params in job_list]\u001b[39;00m\n\u001b[1;32m---> 94\u001b[0m [launch_experiment(gpu\u001b[38;5;241m=\u001b[39m\u001b[38;5;241m2\u001b[39m, flag_string\u001b[38;5;241m=\u001b[39m\u001b[38;5;28mstr\u001b[39m(params)) \u001b[38;5;28;01mfor\u001b[39;00m params \u001b[38;5;129;01min\u001b[39;00m job_list]\n\u001b[0;32m     95\u001b[0m \u001b[38;5;66;03m# launch_experiment(gpu=2, flag_string=job_list[0])\u001b[39;00m\n\u001b[0;32m     97\u001b[0m sys\u001b[38;5;241m.\u001b[39mexit(\u001b[38;5;241m0\u001b[39m)\n",
      "File \u001b[1;32mG:\\FillmoreCancerData\\markhe\\VTERisk\\src\\scripts\\schedulers\\expr_dispatcher.py:73\u001b[0m, in \u001b[0;36mlaunch_experiment\u001b[1;34m(gpu, flag_string)\u001b[0m\n\u001b[0;32m     70\u001b[0m         \u001b[38;5;28mprint\u001b[39m(\u001b[38;5;124m\"\u001b[39m\u001b[38;5;124m[WARNING] Overiding the alert \u001b[39m\u001b[38;5;132;01m{RESULTS_PATH_APPEAR_ERR}\u001b[39;00m\u001b[38;5;124m...\u001b[39m\u001b[38;5;124m\"\u001b[39m)\n\u001b[0;32m     72\u001b[0m \u001b[38;5;66;03m# pp.pprint(\"[CMD] Launched exp: {}\".format(shell_cmd))\u001b[39;00m\n\u001b[1;32m---> 73\u001b[0m os\u001b[38;5;241m.\u001b[39msystem(shell_cmd)\n",
      "\u001b[1;31mKeyboardInterrupt\u001b[0m: "
     ]
    }
   ],
   "source": [
    "%run src/scripts/schedulers/expr_dispatcher.py --experiment-config-path src/configs/train_Y/Fwd/Y5_forward6mo.json\n"
   ]
  },
  {
   "cell_type": "code",
   "execution_count": 2,
   "id": "7a9d0e0c-a509-4392-ad63-af76037466e4",
   "metadata": {
    "tags": []
   },
   "outputs": [
    {
     "name": "stdout",
     "output_type": "stream",
     "text": [
      "args: Namespace(experiment_config_path='src/configs/train_Y/Fwd/Y5_3mo.json', force_rerun=False, force_evaluate=False)\n",
      "python src/scripts/main.py  --add_bmi_neuron --add_sex_neuron --attribute --cuda --days 90 --dev --dev_data_dir Y:/Fillmore_Cancer/cat/Users/data/derived/vte_ml/vte_ml/data_for_chunlei/A2_CMP/Resplit/Y5/dev --device cuda:0 --disease_code_system phe_CMP --dropout 0 --dxseq_event --epochs 7 --eval_auprc --eval_auroc --eval_batch_size 64 --eval_c_index --exclusion_interval 0 --hidden_dim 64 --init_lr 0.002 --log_dir logs_transformer_vte/y_CMP --lr_decay 0.3 --max_batches_per_dev_epoch 500 --max_batches_per_train_epoch 2000 --max_events_length 500 --max_year_before_index 10 --min_events_length 5 --model_dir snapshot_vte/y_CMP --model_name transformer --num_heads 8 --num_layers 1 --num_workers 0 --optimizer adam --pad_size 300 --pool_name Softmax_AttentionPool --test --test_data_dir Y:/Fillmore_Cancer/cat/Users/data/derived/vte_ml/vte_ml/data_for_chunlei/A2_CMP/Resplit/Y5/test --time_embed_dim 64 --train --train_batch_size 256 --train_data_dir Y:/Fillmore_Cancer/cat/Users/data/derived/vte_ml/vte_ml/data_for_chunlei/A2_CMP/Resplit/Y5/train --tuning_metric 7day_auroc_i --use_age_embed --use_dxtime_embed --use_time_embed --weight_decay 0.001 --log_name=24bb9146ccaa5096fd6797b4a0e2e030 --log_dir=logs_transformer_vte/y_CMP\n"
     ]
    }
   ],
   "source": [
    "%run src/scripts/schedulers/expr_dispatcher.py --experiment-config-path src/configs/train_Y/Fwd/Y5_3mo.json\n"
   ]
  },
  {
   "cell_type": "code",
   "execution_count": 1,
   "id": "c168ea49-cf4b-4414-86ea-78f7230bcf5d",
   "metadata": {
    "tags": []
   },
   "outputs": [
    {
     "name": "stdout",
     "output_type": "stream",
     "text": [
      "args: Namespace(experiment_config_path='src/configs/train_Y/Fwd/Y5_6mo.json', force_rerun=False, force_evaluate=False)\n",
      "python src/scripts/main.py  --add_bmi_neuron --add_sex_neuron --attribute --cuda --days 180 --dev --dev_data_dir Y:/Fillmore_Cancer/cat/Users/data/derived/vte_ml/vte_ml/data_for_chunlei/A2_CMP/Resplit/Y5/dev --device cuda:0 --disease_code_system phe_CMP --dropout 0 --dxseq_event --epochs 7 --eval_auprc --eval_auroc --eval_batch_size 64 --eval_c_index --exclusion_interval 0 --hidden_dim 64 --init_lr 0.002 --log_dir logs_transformer_vte/y_CMP --lr_decay 0.3 --max_batches_per_dev_epoch 500 --max_batches_per_train_epoch 2000 --max_events_length 500 --max_year_before_index 10 --min_events_length 5 --model_dir snapshot_vte/y_CMP --model_name transformer --num_heads 8 --num_layers 1 --num_workers 0 --optimizer adam --pad_size 300 --pool_name Softmax_AttentionPool --test --test_data_dir Y:/Fillmore_Cancer/cat/Users/data/derived/vte_ml/vte_ml/data_for_chunlei/A2_CMP/Resplit/Y5/test --time_embed_dim 64 --train --train_batch_size 256 --train_data_dir Y:/Fillmore_Cancer/cat/Users/data/derived/vte_ml/vte_ml/data_for_chunlei/A2_CMP/Resplit/Y5/train --tuning_metric 7day_auroc_i --use_age_embed --use_dxtime_embed --use_time_embed --weight_decay 0.001 --log_name=768bac5725bae08513f001acee7b30bf --log_dir=logs_transformer_vte/y_CMP\n"
     ]
    }
   ],
   "source": [
    "%run src/scripts/schedulers/expr_dispatcher.py --experiment-config-path src/configs/train_Y/Fwd/Y5_6mo.json\n"
   ]
  },
  {
   "cell_type": "code",
   "execution_count": 5,
   "id": "66cd3603-e418-4977-86b6-a1ccf6f76f40",
   "metadata": {},
   "outputs": [
    {
     "name": "stdout",
     "output_type": "stream",
     "text": [
      "args: Namespace(experiment_config_path='src/configs/train_Y/Fwd/X_3mo.json', force_rerun=False, force_evaluate=False)\n",
      "python src/scripts/main.py  --add_bmi_neuron --add_race_neuron --add_sex_neuron --attribute --cuda --days 30 --dev --dev_data_dir Y:/Fillmore_Cancer/cat/Users/data/derived/vte_ml/vte_ml/data_for_chunlei/A2_CMP/dev --device cuda:0 --disease_code_system phe_CMP --dropout 0 --dxseq_event --epochs 10 --eval_auprc --eval_auroc --eval_batch_size 64 --eval_c_index --exclusion_interval 0 --hidden_dim 64 --init_lr 0.002 --log_dir logs_transformer_vte/Cohort --lr_decay 0.3 --max_batches_per_dev_epoch 500 --max_batches_per_train_epoch 2000 --max_events_length 500 --max_year_before_index 10 --min_events_length 5 --model_dir snapshot_vte/Cohort --model_name transformer --num_heads 8 --num_layers 1 --num_workers 0 --optimizer adam --pad_size 300 --pool_name Softmax_AttentionPool --test --test_data_dir Y:/Fillmore_Cancer/cat/Users/data/derived/vte_ml/vte_ml/data_for_chunlei/A2_CMP/test --time_embed_dim 64 --train --train_batch_size 256 --train_data_dir Y:/Fillmore_Cancer/cat/Users/data/derived/vte_ml/vte_ml/data_for_chunlei/A2_CMP/train --tuning_metric 14day_auroc_c --use_age_embed --use_dxtime_embed --use_time_embed --weight_decay 0.001 --log_name=84d0355900d47fd69ac6f4744647f9a4 --log_dir=logs_transformer_vte/Cohort\n"
     ]
    }
   ],
   "source": [
    "%run src/scripts/schedulers/expr_dispatcher.py --experiment-config-path src/configs/train_Y/Fwd/X_3mo.json\n"
   ]
  },
  {
   "cell_type": "code",
   "execution_count": 6,
   "id": "c3e7b06e-813b-4407-92ba-4d33e3454d9d",
   "metadata": {},
   "outputs": [
    {
     "name": "stdout",
     "output_type": "stream",
     "text": [
      "args: Namespace(experiment_config_path='src/configs/train_Y/Fwd/X_6mo.json', force_rerun=False, force_evaluate=False)\n",
      "python src/scripts/main.py  --add_bmi_neuron --add_race_neuron --add_sex_neuron --attribute --cuda --days 180 --dev --dev_data_dir Y:/Fillmore_Cancer/cat/Users/data/derived/vte_ml/vte_ml/data_for_chunlei/A2_CMP/dev --device cuda:0 --disease_code_system phe_CMP --dropout 0 --dxseq_event --epochs 10 --eval_auprc --eval_auroc --eval_batch_size 64 --eval_c_index --exclusion_interval 0 --hidden_dim 64 --init_lr 0.002 --log_dir logs_transformer_vte/Cohort --lr_decay 0.3 --max_batches_per_dev_epoch 500 --max_batches_per_train_epoch 2000 --max_events_length 500 --max_year_before_index 10 --min_events_length 5 --model_dir snapshot_vte/Cohort --model_name transformer --num_heads 8 --num_layers 1 --num_workers 0 --optimizer adam --pad_size 300 --pool_name Softmax_AttentionPool --test --test_data_dir Y:/Fillmore_Cancer/cat/Users/data/derived/vte_ml/vte_ml/data_for_chunlei/A2_CMP/test --time_embed_dim 64 --train --train_batch_size 256 --train_data_dir Y:/Fillmore_Cancer/cat/Users/data/derived/vte_ml/vte_ml/data_for_chunlei/A2_CMP/train --tuning_metric 14day_auroc_c --use_age_embed --use_dxtime_embed --use_time_embed --weight_decay 0.001 --log_name=fb43ef7d3cf127c14537a4df3731e663 --log_dir=logs_transformer_vte/Cohort\n"
     ]
    }
   ],
   "source": [
    "%run src/scripts/schedulers/expr_dispatcher.py --experiment-config-path src/configs/train_Y/Fwd/X_6mo.json\n"
   ]
  },
  {
   "cell_type": "code",
   "execution_count": null,
   "id": "6b681c15-1f64-4a20-a018-55d082a56abb",
   "metadata": {},
   "outputs": [],
   "source": []
  }
 ],
 "metadata": {
  "kernelspec": {
   "display_name": "Python 3 (ipykernel)",
   "language": "python",
   "name": "python3"
  },
  "language_info": {
   "codemirror_mode": {
    "name": "ipython",
    "version": 3
   },
   "file_extension": ".py",
   "mimetype": "text/x-python",
   "name": "python",
   "nbconvert_exporter": "python",
   "pygments_lexer": "ipython3",
   "version": "3.11.5"
  }
 },
 "nbformat": 4,
 "nbformat_minor": 5
}
