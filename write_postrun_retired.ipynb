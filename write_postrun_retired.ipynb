{
 "cells": [
  {
   "cell_type": "code",
   "execution_count": 1,
   "id": "64325317-f931-4ed5-9fac-0bf3d88843fe",
   "metadata": {
    "tags": []
   },
   "outputs": [],
   "source": [
    "import pandas as pd\n",
    "import random\n",
    "import os\n",
    "import json\n",
    "import gc\n",
    "import datetime\n",
    "import copy\n",
    "import sys"
   ]
  },
  {
   "cell_type": "code",
   "execution_count": 5,
   "id": "9bb38c70-58f9-4001-aa18-1d62e7977b1b",
   "metadata": {
    "tags": []
   },
   "outputs": [],
   "source": [
    "out_path = \"//vacrrdevmavdi01.vha.med.va.gov//MAVDEV1//Fillmore_Cancer//cat//Users//data_from_vinci//dvt_cancer_20230613//data_for_tf_model//PostRun/CSV_for_R\"\n",
    "src_path = \"G://FillmoreCancerData//markhe//VTERisk\" "
   ]
  },
  {
   "cell_type": "markdown",
   "id": "9ac999d8-b945-4a79-af98-635cb78ea8eb",
   "metadata": {},
   "source": [
    "### note this file is retired, use the one in data_for_tf_model"
   ]
  },
  {
   "cell_type": "code",
   "execution_count": 3,
   "id": "bbaeb05d-0ebd-452d-bb39-817a1473fc0d",
   "metadata": {
    "tags": []
   },
   "outputs": [],
   "source": [
    "%run src/scripts/post_run/write_results.py "
   ]
  },
  {
   "cell_type": "code",
   "execution_count": null,
   "id": "1ce92adf-04df-4797-8f59-b06cfae2681d",
   "metadata": {},
   "outputs": [],
   "source": []
  },
  {
   "cell_type": "markdown",
   "id": "b229bbf0-9e26-424c-ab22-d14a36cf9c4f",
   "metadata": {},
   "source": [
    "### for 1/27 Run (best results)"
   ]
  },
  {
   "cell_type": "code",
   "execution_count": null,
   "id": "7cfd4c2a-ab45-4291-9b25-7693681c5e9a",
   "metadata": {
    "tags": []
   },
   "outputs": [],
   "source": [
    "write_results_to_csv(os.path.join(out_path, 'Keys//Key.csv'),\n",
    "                     os.path.join(src_path ,'logs_transformer_vte/L/1_27/', \"6b02b938c500e525ae4a9b38797dae98.results.train_preds\"),\n",
    "                     os.path.join(src_path ,'logs_transformer_vte/L/1_27/', \"6b02b938c500e525ae4a9b38797dae98.results.dev_preds\"),\n",
    "                     os.path.join(src_path ,'logs_transformer_vte/L/1_27/', \"6b02b938c500e525ae4a9b38797dae98.results.test_preds\"),\n",
    "                     out_path,\n",
    "                     os.path.join(out_path, 'CSV_for_R/Train_1_27.csv'), \n",
    "                     os.path.join(out_path, 'CSV_for_R/Dev_1_27.csv'),\n",
    "                     os.path.join(out_path, 'CSV_for_R/Test_1_27.csv'))"
   ]
  },
  {
   "cell_type": "code",
   "execution_count": null,
   "id": "2bcf3600-e005-4b1d-9f45-9d6fb650b3a8",
   "metadata": {},
   "outputs": [],
   "source": []
  },
  {
   "cell_type": "code",
   "execution_count": null,
   "id": "c50eadce-a1db-4cdf-9e8c-384536a2e7eb",
   "metadata": {},
   "outputs": [],
   "source": [
    "# run src/scripts/post_run/ReCalibration_Spline.R in R"
   ]
  },
  {
   "cell_type": "code",
   "execution_count": null,
   "id": "e9771ea8-35f3-46a2-9596-6e06ccff57f0",
   "metadata": {},
   "outputs": [],
   "source": [
    "# in models/utils/ need to add bacth and all included inputs\n",
    "# learn/attribute, in attribute also needs to specific inputs "
   ]
  },
  {
   "cell_type": "markdown",
   "id": "c3d70250-d7e5-4c44-a17a-93dcb836172f",
   "metadata": {},
   "source": [
    "### for 1/12 Run"
   ]
  },
  {
   "cell_type": "code",
   "execution_count": 16,
   "id": "76e939eb-78e6-4987-b2b1-6eb51f1fdfe6",
   "metadata": {
    "tags": []
   },
   "outputs": [],
   "source": [
    "write_results_to_csv(os.path.join(key_path, 'Keys//Key.csv'),\n",
    "                     os.path.join(src_path ,'logs_transformer_vte/L/1_12/', \"6ce5fd1dfab933653070261b634fe2f7.results.train_preds\"),\n",
    "                     os.path.join(src_path ,'logs_transformer_vte/L/1_12/', \"6ce5fd1dfab933653070261b634fe2f7.results.dev_preds\"),\n",
    "                     os.path.join(src_path ,'logs_transformer_vte/L/1_12/', \"6ce5fd1dfab933653070261b634fe2f7.results.test_preds\"),\n",
    "                     out_path,\n",
    "                     os.path.join(out_path, 'Train_1_12.csv'), \n",
    "                     os.path.join(out_path, 'Dev_1_12.csv'),\n",
    "                     os.path.join(out_path, 'Test_1_12.csv'))"
   ]
  },
  {
   "cell_type": "code",
   "execution_count": null,
   "id": "24f1b0e4-08c8-46cd-9f20-cc17812b7897",
   "metadata": {},
   "outputs": [],
   "source": []
  },
  {
   "cell_type": "markdown",
   "id": "cfaa356a-2e63-400e-ae0b-e927b12ab998",
   "metadata": {},
   "source": [
    "### for Phecode only Run (12/7, no train)"
   ]
  },
  {
   "cell_type": "code",
   "execution_count": 4,
   "id": "2af10560-9428-445c-9334-fa0d9a1e1729",
   "metadata": {},
   "outputs": [
    {
     "ename": "OSError",
     "evalue": "Cannot save file into a non-existent directory: '\\vacrrdevmavdi01.vha.med.va.gov\\MAVDEV1\\Fillmore_Cancer\\cat\\Users\\data_from_vinci\\dvt_cancer_20230613\\data_for_tf_model\\PostRun\\CSV_for_R'",
     "output_type": "error",
     "traceback": [
      "\u001b[1;31m---------------------------------------------------------------------------\u001b[0m",
      "\u001b[1;31mOSError\u001b[0m                                   Traceback (most recent call last)",
      "Cell \u001b[1;32mIn[4], line 1\u001b[0m\n\u001b[1;32m----> 1\u001b[0m write_results_no_train(os\u001b[38;5;241m.\u001b[39mpath\u001b[38;5;241m.\u001b[39mjoin(out_path, \u001b[38;5;124m'\u001b[39m\u001b[38;5;124mKeys//Key.csv\u001b[39m\u001b[38;5;124m'\u001b[39m),\n\u001b[0;32m      2\u001b[0m                          os\u001b[38;5;241m.\u001b[39mpath\u001b[38;5;241m.\u001b[39mjoin(src_path ,\u001b[38;5;124m'\u001b[39m\u001b[38;5;124mlogs_transformer_vte/K/PheOnly_Results/\u001b[39m\u001b[38;5;124m'\u001b[39m, \u001b[38;5;124m\"\u001b[39m\u001b[38;5;124ma8e44cbb2213334954e85de32bdcaf2c.results.dev_preds\u001b[39m\u001b[38;5;124m\"\u001b[39m),\n\u001b[0;32m      3\u001b[0m                          os\u001b[38;5;241m.\u001b[39mpath\u001b[38;5;241m.\u001b[39mjoin(src_path ,\u001b[38;5;124m'\u001b[39m\u001b[38;5;124mlogs_transformer_vte/K/PheOnly_Results/\u001b[39m\u001b[38;5;124m'\u001b[39m, \u001b[38;5;124m\"\u001b[39m\u001b[38;5;124ma8e44cbb2213334954e85de32bdcaf2c.results.test_preds\u001b[39m\u001b[38;5;124m\"\u001b[39m),\n\u001b[0;32m      4\u001b[0m                          out_path,\n\u001b[0;32m      5\u001b[0m                          os\u001b[38;5;241m.\u001b[39mpath\u001b[38;5;241m.\u001b[39mjoin(out_path, \u001b[38;5;124m'\u001b[39m\u001b[38;5;124mCSV_for_R/Dev_Phe_12_7.csv\u001b[39m\u001b[38;5;124m'\u001b[39m),\n\u001b[0;32m      6\u001b[0m                          os\u001b[38;5;241m.\u001b[39mpath\u001b[38;5;241m.\u001b[39mjoin(out_path, \u001b[38;5;124m'\u001b[39m\u001b[38;5;124mCSV_for_R/Test_Phe_12_7.csv\u001b[39m\u001b[38;5;124m'\u001b[39m))\n",
      "File \u001b[1;32mG:\\FillmoreCancerData\\markhe\\VTERisk\\src\\scripts\\post_run\\write_results.py:101\u001b[0m, in \u001b[0;36mwrite_results_no_train\u001b[1;34m(keypath, devpath, testpath, out_path, DEV_OUT, TEST_OUT)\u001b[0m\n\u001b[0;32m     99\u001b[0m Df_dev[\u001b[38;5;124m'\u001b[39m\u001b[38;5;124mprobs\u001b[39m\u001b[38;5;124m'\u001b[39m] \u001b[38;5;241m=\u001b[39m Df_dev[\u001b[38;5;124m'\u001b[39m\u001b[38;5;124mprobs\u001b[39m\u001b[38;5;124m'\u001b[39m]\u001b[38;5;241m.\u001b[39mastype(\u001b[38;5;28mfloat\u001b[39m)\n\u001b[0;32m    100\u001b[0m M_dev \u001b[38;5;241m=\u001b[39m pd\u001b[38;5;241m.\u001b[39mmerge(tdf, Df_dev)\n\u001b[1;32m--> 101\u001b[0m M_dev\u001b[38;5;241m.\u001b[39mto_csv(DEV_OUT) \n\u001b[0;32m    103\u001b[0m \u001b[38;5;28;01mwith\u001b[39;00m \u001b[38;5;28mopen\u001b[39m(testpath, \u001b[38;5;124m'\u001b[39m\u001b[38;5;124mrb\u001b[39m\u001b[38;5;124m'\u001b[39m) \u001b[38;5;28;01mas\u001b[39;00m f:\n\u001b[0;32m    104\u001b[0m     R_t \u001b[38;5;241m=\u001b[39m pickle\u001b[38;5;241m.\u001b[39mload(f)\n",
      "File \u001b[1;32mD:\\Programs\\Anaconda3\\Lib\\site-packages\\pandas\\core\\generic.py:3772\u001b[0m, in \u001b[0;36mNDFrame.to_csv\u001b[1;34m(self, path_or_buf, sep, na_rep, float_format, columns, header, index, index_label, mode, encoding, compression, quoting, quotechar, lineterminator, chunksize, date_format, doublequote, escapechar, decimal, errors, storage_options)\u001b[0m\n\u001b[0;32m   3761\u001b[0m df \u001b[38;5;241m=\u001b[39m \u001b[38;5;28mself\u001b[39m \u001b[38;5;28;01mif\u001b[39;00m \u001b[38;5;28misinstance\u001b[39m(\u001b[38;5;28mself\u001b[39m, ABCDataFrame) \u001b[38;5;28;01melse\u001b[39;00m \u001b[38;5;28mself\u001b[39m\u001b[38;5;241m.\u001b[39mto_frame()\n\u001b[0;32m   3763\u001b[0m formatter \u001b[38;5;241m=\u001b[39m DataFrameFormatter(\n\u001b[0;32m   3764\u001b[0m     frame\u001b[38;5;241m=\u001b[39mdf,\n\u001b[0;32m   3765\u001b[0m     header\u001b[38;5;241m=\u001b[39mheader,\n\u001b[1;32m   (...)\u001b[0m\n\u001b[0;32m   3769\u001b[0m     decimal\u001b[38;5;241m=\u001b[39mdecimal,\n\u001b[0;32m   3770\u001b[0m )\n\u001b[1;32m-> 3772\u001b[0m \u001b[38;5;28;01mreturn\u001b[39;00m DataFrameRenderer(formatter)\u001b[38;5;241m.\u001b[39mto_csv(\n\u001b[0;32m   3773\u001b[0m     path_or_buf,\n\u001b[0;32m   3774\u001b[0m     lineterminator\u001b[38;5;241m=\u001b[39mlineterminator,\n\u001b[0;32m   3775\u001b[0m     sep\u001b[38;5;241m=\u001b[39msep,\n\u001b[0;32m   3776\u001b[0m     encoding\u001b[38;5;241m=\u001b[39mencoding,\n\u001b[0;32m   3777\u001b[0m     errors\u001b[38;5;241m=\u001b[39merrors,\n\u001b[0;32m   3778\u001b[0m     compression\u001b[38;5;241m=\u001b[39mcompression,\n\u001b[0;32m   3779\u001b[0m     quoting\u001b[38;5;241m=\u001b[39mquoting,\n\u001b[0;32m   3780\u001b[0m     columns\u001b[38;5;241m=\u001b[39mcolumns,\n\u001b[0;32m   3781\u001b[0m     index_label\u001b[38;5;241m=\u001b[39mindex_label,\n\u001b[0;32m   3782\u001b[0m     mode\u001b[38;5;241m=\u001b[39mmode,\n\u001b[0;32m   3783\u001b[0m     chunksize\u001b[38;5;241m=\u001b[39mchunksize,\n\u001b[0;32m   3784\u001b[0m     quotechar\u001b[38;5;241m=\u001b[39mquotechar,\n\u001b[0;32m   3785\u001b[0m     date_format\u001b[38;5;241m=\u001b[39mdate_format,\n\u001b[0;32m   3786\u001b[0m     doublequote\u001b[38;5;241m=\u001b[39mdoublequote,\n\u001b[0;32m   3787\u001b[0m     escapechar\u001b[38;5;241m=\u001b[39mescapechar,\n\u001b[0;32m   3788\u001b[0m     storage_options\u001b[38;5;241m=\u001b[39mstorage_options,\n\u001b[0;32m   3789\u001b[0m )\n",
      "File \u001b[1;32mD:\\Programs\\Anaconda3\\Lib\\site-packages\\pandas\\io\\formats\\format.py:1186\u001b[0m, in \u001b[0;36mDataFrameRenderer.to_csv\u001b[1;34m(self, path_or_buf, encoding, sep, columns, index_label, mode, compression, quoting, quotechar, lineterminator, chunksize, date_format, doublequote, escapechar, errors, storage_options)\u001b[0m\n\u001b[0;32m   1165\u001b[0m     created_buffer \u001b[38;5;241m=\u001b[39m \u001b[38;5;28;01mFalse\u001b[39;00m\n\u001b[0;32m   1167\u001b[0m csv_formatter \u001b[38;5;241m=\u001b[39m CSVFormatter(\n\u001b[0;32m   1168\u001b[0m     path_or_buf\u001b[38;5;241m=\u001b[39mpath_or_buf,\n\u001b[0;32m   1169\u001b[0m     lineterminator\u001b[38;5;241m=\u001b[39mlineterminator,\n\u001b[1;32m   (...)\u001b[0m\n\u001b[0;32m   1184\u001b[0m     formatter\u001b[38;5;241m=\u001b[39m\u001b[38;5;28mself\u001b[39m\u001b[38;5;241m.\u001b[39mfmt,\n\u001b[0;32m   1185\u001b[0m )\n\u001b[1;32m-> 1186\u001b[0m csv_formatter\u001b[38;5;241m.\u001b[39msave()\n\u001b[0;32m   1188\u001b[0m \u001b[38;5;28;01mif\u001b[39;00m created_buffer:\n\u001b[0;32m   1189\u001b[0m     \u001b[38;5;28;01massert\u001b[39;00m \u001b[38;5;28misinstance\u001b[39m(path_or_buf, StringIO)\n",
      "File \u001b[1;32mD:\\Programs\\Anaconda3\\Lib\\site-packages\\pandas\\io\\formats\\csvs.py:240\u001b[0m, in \u001b[0;36mCSVFormatter.save\u001b[1;34m(self)\u001b[0m\n\u001b[0;32m    236\u001b[0m \u001b[38;5;250m\u001b[39m\u001b[38;5;124;03m\"\"\"\u001b[39;00m\n\u001b[0;32m    237\u001b[0m \u001b[38;5;124;03mCreate the writer & save.\u001b[39;00m\n\u001b[0;32m    238\u001b[0m \u001b[38;5;124;03m\"\"\"\u001b[39;00m\n\u001b[0;32m    239\u001b[0m \u001b[38;5;66;03m# apply compression and byte/text conversion\u001b[39;00m\n\u001b[1;32m--> 240\u001b[0m \u001b[38;5;28;01mwith\u001b[39;00m get_handle(\n\u001b[0;32m    241\u001b[0m     \u001b[38;5;28mself\u001b[39m\u001b[38;5;241m.\u001b[39mfilepath_or_buffer,\n\u001b[0;32m    242\u001b[0m     \u001b[38;5;28mself\u001b[39m\u001b[38;5;241m.\u001b[39mmode,\n\u001b[0;32m    243\u001b[0m     encoding\u001b[38;5;241m=\u001b[39m\u001b[38;5;28mself\u001b[39m\u001b[38;5;241m.\u001b[39mencoding,\n\u001b[0;32m    244\u001b[0m     errors\u001b[38;5;241m=\u001b[39m\u001b[38;5;28mself\u001b[39m\u001b[38;5;241m.\u001b[39merrors,\n\u001b[0;32m    245\u001b[0m     compression\u001b[38;5;241m=\u001b[39m\u001b[38;5;28mself\u001b[39m\u001b[38;5;241m.\u001b[39mcompression,\n\u001b[0;32m    246\u001b[0m     storage_options\u001b[38;5;241m=\u001b[39m\u001b[38;5;28mself\u001b[39m\u001b[38;5;241m.\u001b[39mstorage_options,\n\u001b[0;32m    247\u001b[0m ) \u001b[38;5;28;01mas\u001b[39;00m handles:\n\u001b[0;32m    248\u001b[0m     \u001b[38;5;66;03m# Note: self.encoding is irrelevant here\u001b[39;00m\n\u001b[0;32m    249\u001b[0m     \u001b[38;5;28mself\u001b[39m\u001b[38;5;241m.\u001b[39mwriter \u001b[38;5;241m=\u001b[39m csvlib\u001b[38;5;241m.\u001b[39mwriter(\n\u001b[0;32m    250\u001b[0m         handles\u001b[38;5;241m.\u001b[39mhandle,\n\u001b[0;32m    251\u001b[0m         lineterminator\u001b[38;5;241m=\u001b[39m\u001b[38;5;28mself\u001b[39m\u001b[38;5;241m.\u001b[39mlineterminator,\n\u001b[1;32m   (...)\u001b[0m\n\u001b[0;32m    256\u001b[0m         quotechar\u001b[38;5;241m=\u001b[39m\u001b[38;5;28mself\u001b[39m\u001b[38;5;241m.\u001b[39mquotechar,\n\u001b[0;32m    257\u001b[0m     )\n\u001b[0;32m    259\u001b[0m     \u001b[38;5;28mself\u001b[39m\u001b[38;5;241m.\u001b[39m_save()\n",
      "File \u001b[1;32mD:\\Programs\\Anaconda3\\Lib\\site-packages\\pandas\\io\\common.py:737\u001b[0m, in \u001b[0;36mget_handle\u001b[1;34m(path_or_buf, mode, encoding, compression, memory_map, is_text, errors, storage_options)\u001b[0m\n\u001b[0;32m    735\u001b[0m \u001b[38;5;66;03m# Only for write methods\u001b[39;00m\n\u001b[0;32m    736\u001b[0m \u001b[38;5;28;01mif\u001b[39;00m \u001b[38;5;124m\"\u001b[39m\u001b[38;5;124mr\u001b[39m\u001b[38;5;124m\"\u001b[39m \u001b[38;5;129;01mnot\u001b[39;00m \u001b[38;5;129;01min\u001b[39;00m mode \u001b[38;5;129;01mand\u001b[39;00m is_path:\n\u001b[1;32m--> 737\u001b[0m     check_parent_directory(\u001b[38;5;28mstr\u001b[39m(handle))\n\u001b[0;32m    739\u001b[0m \u001b[38;5;28;01mif\u001b[39;00m compression:\n\u001b[0;32m    740\u001b[0m     \u001b[38;5;28;01mif\u001b[39;00m compression \u001b[38;5;241m!=\u001b[39m \u001b[38;5;124m\"\u001b[39m\u001b[38;5;124mzstd\u001b[39m\u001b[38;5;124m\"\u001b[39m:\n\u001b[0;32m    741\u001b[0m         \u001b[38;5;66;03m# compression libraries do not like an explicit text-mode\u001b[39;00m\n",
      "File \u001b[1;32mD:\\Programs\\Anaconda3\\Lib\\site-packages\\pandas\\io\\common.py:600\u001b[0m, in \u001b[0;36mcheck_parent_directory\u001b[1;34m(path)\u001b[0m\n\u001b[0;32m    598\u001b[0m parent \u001b[38;5;241m=\u001b[39m Path(path)\u001b[38;5;241m.\u001b[39mparent\n\u001b[0;32m    599\u001b[0m \u001b[38;5;28;01mif\u001b[39;00m \u001b[38;5;129;01mnot\u001b[39;00m parent\u001b[38;5;241m.\u001b[39mis_dir():\n\u001b[1;32m--> 600\u001b[0m     \u001b[38;5;28;01mraise\u001b[39;00m \u001b[38;5;167;01mOSError\u001b[39;00m(\u001b[38;5;124mrf\u001b[39m\u001b[38;5;124m\"\u001b[39m\u001b[38;5;124mCannot save file into a non-existent directory: \u001b[39m\u001b[38;5;124m'\u001b[39m\u001b[38;5;132;01m{\u001b[39;00mparent\u001b[38;5;132;01m}\u001b[39;00m\u001b[38;5;124m'\u001b[39m\u001b[38;5;124m\"\u001b[39m)\n",
      "\u001b[1;31mOSError\u001b[0m: Cannot save file into a non-existent directory: '\\vacrrdevmavdi01.vha.med.va.gov\\MAVDEV1\\Fillmore_Cancer\\cat\\Users\\data_from_vinci\\dvt_cancer_20230613\\data_for_tf_model\\PostRun\\CSV_for_R'"
     ]
    }
   ],
   "source": [
    "write_results_no_train(os.path.join(out_path, 'Keys//Key.csv'),\n",
    "                         os.path.join(src_path ,'logs_transformer_vte/K/PheOnly_Results/', \"a8e44cbb2213334954e85de32bdcaf2c.results.dev_preds\"),\n",
    "                         os.path.join(src_path ,'logs_transformer_vte/K/PheOnly_Results/', \"a8e44cbb2213334954e85de32bdcaf2c.results.test_preds\"),\n",
    "                         out_path,\n",
    "                         os.path.join(out_path, 'Dev_Phe_12_7.csv'),\n",
    "                         os.path.join(out_path, 'Test_Phe_12_7.csv'))"
   ]
  },
  {
   "cell_type": "code",
   "execution_count": null,
   "id": "5157a93b-6706-419a-939e-8ae1981afe4a",
   "metadata": {},
   "outputs": [],
   "source": []
  },
  {
   "cell_type": "code",
   "execution_count": null,
   "id": "923f5ff8-d9c7-4a8e-b1a8-45ebb96a0664",
   "metadata": {},
   "outputs": [],
   "source": []
  },
  {
   "cell_type": "code",
   "execution_count": null,
   "id": "b645295a-9da3-4a1f-8bc6-13397c8503cf",
   "metadata": {},
   "outputs": [],
   "source": []
  },
  {
   "cell_type": "markdown",
   "id": "5573ad56-11fe-4afa-88cf-b1bd2b34c4fa",
   "metadata": {},
   "source": [
    "### 1/15 run with no class bal in train"
   ]
  },
  {
   "cell_type": "code",
   "execution_count": 7,
   "id": "e7818815-a2da-4c65-924f-0f556fec06ae",
   "metadata": {
    "tags": []
   },
   "outputs": [],
   "source": [
    "write_results_to_csv(os.path.join(out_path, 'Keys//fixed_dx.csv'),\n",
    "                     os.path.join(src_path ,'logs_transformer_vte/L/1_16/', \"87e2cbe38ede33a848952ead9ac4c8b6.results.train_preds\"),\n",
    "                     os.path.join(src_path ,'logs_transformer_vte/L/1_16/', \"87e2cbe38ede33a848952ead9ac4c8b6.results.dev_preds\"),\n",
    "                     os.path.join(src_path ,'logs_transformer_vte/L/1_16/', \"87e2cbe38ede33a848952ead9ac4c8b6.results.test_preds\"),\n",
    "                     os.path.join(out_path, 'CSV_for_R/Train_1_16.csv'), \n",
    "                     os.path.join(out_path, 'CSV_for_R/Dev_1_16.csv'),\n",
    "                     os.path.join(out_path, 'CSV_for_R/Test_1_16.csv'))"
   ]
  },
  {
   "cell_type": "code",
   "execution_count": null,
   "id": "a8965b5f-ce1f-4513-bf75-687f00831f46",
   "metadata": {},
   "outputs": [],
   "source": []
  },
  {
   "cell_type": "code",
   "execution_count": null,
   "id": "9f3fa12b-11ed-4aaa-a43f-f5f403a81e85",
   "metadata": {},
   "outputs": [],
   "source": []
  },
  {
   "cell_type": "code",
   "execution_count": null,
   "id": "2b387215-59bb-49d0-8777-f0c0edfd1fff",
   "metadata": {},
   "outputs": [],
   "source": []
  },
  {
   "cell_type": "markdown",
   "id": "7dc970e2-e359-4f4b-bec7-962d5086b582",
   "metadata": {},
   "source": [
    "### for 1 /28 Run"
   ]
  },
  {
   "cell_type": "code",
   "execution_count": null,
   "id": "779a4c62-1c62-42fb-869c-03dfa78d3805",
   "metadata": {},
   "outputs": [],
   "source": [
    "write_results_to_csv(os.path.join(src_path, 'Notebooks/Find/fixed_dx.csv'),\n",
    "                     os.path.join(src_path ,'logs_transformer_vte/L/1_28/', \"1ef57026b57379a05f64994f9760525e.results.train_preds\"),\n",
    "                     os.path.join(src_path ,'logs_transformer_vte/L/1_28/', \"1ef57026b57379a05f64994f9760525e.results.dev_preds\"),\n",
    "                     os.path.join(src_path ,'logs_transformer_vte/L/1_28/', \"1ef57026b57379a05f64994f9760525e.results.test_preds\"),\n",
    "                     os.path.join(out_path, 'Train_1_28.csv'), \n",
    "                     os.path.join(out_path, 'Dev_1_28.csv'),\n",
    "                     os.path.join(out_path, 'Test_1_28.csv'))"
   ]
  },
  {
   "cell_type": "code",
   "execution_count": null,
   "id": "9ee47557-ac3e-4e1b-b481-e8925735bab3",
   "metadata": {},
   "outputs": [],
   "source": []
  },
  {
   "cell_type": "code",
   "execution_count": null,
   "id": "fd24fb4e-b286-449c-92bc-a4fa08e36639",
   "metadata": {},
   "outputs": [],
   "source": []
  }
 ],
 "metadata": {
  "kernelspec": {
   "display_name": "Python 3 (ipykernel)",
   "language": "python",
   "name": "python3"
  },
  "language_info": {
   "codemirror_mode": {
    "name": "ipython",
    "version": 3
   },
   "file_extension": ".py",
   "mimetype": "text/x-python",
   "name": "python",
   "nbconvert_exporter": "python",
   "pygments_lexer": "ipython3",
   "version": "3.11.5"
  }
 },
 "nbformat": 4,
 "nbformat_minor": 5
}
