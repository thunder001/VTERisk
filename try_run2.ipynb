{
 "cells": [
  {
   "cell_type": "code",
   "execution_count": 1,
   "id": "1e128ba3-589b-4510-aa18-df7d8772c68b",
   "metadata": {
    "tags": []
   },
   "outputs": [],
   "source": [
    "import pandas as pd\n",
    "import random\n",
    "import os\n",
    "import json\n",
    "import gc\n",
    "import datetime\n",
    "import copy\n"
   ]
  },
  {
   "cell_type": "code",
   "execution_count": 2,
   "id": "90672a34-6377-419f-b6ef-ee1e7e2aae1f",
   "metadata": {
    "tags": []
   },
   "outputs": [
    {
     "name": "stdout",
     "output_type": "stream",
     "text": [
      "args: Namespace(experiment_config_path='src/configs/PL3/TT90/H180-IT.json', force_rerun=False, force_evaluate=False)\n",
      "python src/scripts/main.py  --add_bmi_neuron --add_race_neuron --add_sex_neuron --ageseq_event --class_bal --cuda --dev --dev_data_dir //vacrrdevmavdi01.vha.med.va.gov/MAVDEV1/Fillmore_Cancer/cat/Users/data_from_vinci/dvt_cancer_20230613/data_for_tf_model/processed/PL_f180/dev --device cuda:1 --disease_code_system phe_lab --epochs 35 --eval_auprc --eval_auroc --eval_batch_size 128 --filter_max_len --hidden_dim 64 --indseq_trunc --init_lr 0.00125 --log_dir logs_transformer_vte/Fil/6_1 --lr_decay 0.3 --max_batches_per_dev_epoch 1000 --max_batches_per_train_epoch 2000 --max_days_before_index 1000 --max_eval_indices 1 --max_events_length 800 --max_year_before_index 4 --model_dir snapshot_vte/L --model_name transformer --month_endpoints 3 --num_heads 1 --num_layers 8 --num_workers 0 --optimizer adam --pad_size 400 --pool_name Softmax_AttentionPool --start_at_dx_H180 --start_noise_days --start_noise_len 30 --test --test_data_dir //vacrrdevmavdi01.vha.med.va.gov/MAVDEV1/Fillmore_Cancer/cat/Users/data_from_vinci/dvt_cancer_20230613/data_for_tf_model/processed/PL_f180/test --time_embed_dim 64 --time_seq_cos --train --train_batch_size 256 --train_data_dir //vacrrdevmavdi01.vha.med.va.gov/MAVDEV1/Fillmore_Cancer/cat/Users/data_from_vinci/dvt_cancer_20230613/data_for_tf_model/processed/PL_f180/train --tuning_metric 3day_auroc_c --use_age_embed --use_index_embed --use_time_embed --weight_decay 0.001 --log_name=52169ad4dba69167ef8a038fb9336808 --log_dir=logs_transformer_vte/Fil/6_1\n"
     ]
    }
   ],
   "source": [
    "%run src/scripts/schedulers/expr_dispatcher.py --experiment-config-path src/configs/PL3/TT90/H180-IT.json"
   ]
  },
  {
   "cell_type": "code",
   "execution_count": null,
   "id": "65fc803f-27c2-4ff7-b387-90e523adf2d2",
   "metadata": {
    "tags": []
   },
   "outputs": [
    {
     "name": "stdout",
     "output_type": "stream",
     "text": [
      "args: Namespace(experiment_config_path='src/configs/PL3/TT90/D360.json', force_rerun=False, force_evaluate=False)\n",
      "python src/scripts/main.py  --add_bmi_neuron --add_race_neuron --add_sex_neuron --ageseq_event --class_bal --cuda --dev --dev_data_dir //vacrrdevmavdi01.vha.med.va.gov/MAVDEV1/Fillmore_Cancer/cat/Users/data_from_vinci/dvt_cancer_20230613/data_for_tf_model/processed/PL_f180/dev --device cuda:1 --disease_code_system phe_lab --dxseq_cos --epochs 35 --eval_auprc --eval_auroc --eval_batch_size 128 --filter_max_len --hidden_dim 64 --indseq_cos --init_lr 0.0012 --log_dir logs_transformer_vte/Fil/6_1 --lr_decay 0.3 --max_batches_per_dev_epoch 1000 --max_batches_per_train_epoch 2000 --max_days_before_index 1000 --max_eval_indices 1 --max_events_length 800 --max_year_before_index 4 --model_dir snapshot_vte/L --model_name transformer --month_endpoints 3 --num_heads 1 --num_layers 8 --num_workers 0 --optimizer adam --pad_size 400 --pool_name Softmax_AttentionPool --start_at_dx_D360 --start_noise_days --start_noise_len 30 --test --test_data_dir //vacrrdevmavdi01.vha.med.va.gov/MAVDEV1/Fillmore_Cancer/cat/Users/data_from_vinci/dvt_cancer_20230613/data_for_tf_model/processed/PL_f180/test --time_embed_dim 64 --time_seq_cos --train --train_batch_size 256 --train_data_dir //vacrrdevmavdi01.vha.med.va.gov/MAVDEV1/Fillmore_Cancer/cat/Users/data_from_vinci/dvt_cancer_20230613/data_for_tf_model/processed/PL_f180/train --tuning_metric 3day_auroc_c --use_age_embed --use_dxtime_embed --use_index_embed --use_time_embed --weight_decay 0.001 --log_name=35e21f358fd57d16a628643cf1eb850c --log_dir=logs_transformer_vte/Fil/6_1\n"
     ]
    }
   ],
   "source": [
    "%run src/scripts/schedulers/expr_dispatcher.py --experiment-config-path src/configs/PL3/TT90/D360.json"
   ]
  },
  {
   "cell_type": "code",
   "execution_count": null,
   "id": "eb065ced-1233-4c28-a33e-1a30e778abdb",
   "metadata": {
    "tags": []
   },
   "outputs": [
    {
     "name": "stdout",
     "output_type": "stream",
     "text": [
      "args: Namespace(experiment_config_path='src/configs/PL3/TT90/D360_TT.json', force_rerun=False, force_evaluate=False)\n",
      "python src/scripts/main.py  --add_bmi_neuron --add_race_neuron --add_sex_neuron --ageseq_event --class_bal --cuda --dev --dev_data_dir //vacrrdevmavdi01.vha.med.va.gov/MAVDEV1/Fillmore_Cancer/cat/Users/data_from_vinci/dvt_cancer_20230613/data_for_tf_model/processed/PL_f180/dev --device cuda:1 --disease_code_system phe_lab --dxseq_trunc --epochs 35 --eval_auprc --eval_auroc --eval_batch_size 128 --filter_max_len --hidden_dim 64 --indseq_trunc --init_lr 0.0012 --log_dir logs_transformer_vte/Fil/6_1 --lr_decay 0.3 --max_batches_per_dev_epoch 1000 --max_batches_per_train_epoch 2000 --max_days_before_index 1000 --max_eval_indices 1 --max_events_length 900 --max_year_before_index 4 --model_dir snapshot_vte/L --model_name transformer --month_endpoints 3 --num_heads 1 --num_layers 8 --num_workers 0 --optimizer adam --pad_size 400 --pool_name Softmax_AttentionPool --start_at_dx_D360 --start_noise_days --start_noise_len 30 --test --test_data_dir //vacrrdevmavdi01.vha.med.va.gov/MAVDEV1/Fillmore_Cancer/cat/Users/data_from_vinci/dvt_cancer_20230613/data_for_tf_model/processed/PL_f180/test --time_embed_dim 64 --time_seq_cos --train --train_batch_size 256 --train_data_dir //vacrrdevmavdi01.vha.med.va.gov/MAVDEV1/Fillmore_Cancer/cat/Users/data_from_vinci/dvt_cancer_20230613/data_for_tf_model/processed/PL_f180/train --tuning_metric 3day_auroc_c --use_age_embed --use_dxtime_embed --use_index_embed --use_time_embed --weight_decay 0.001 --log_name=486eaf9d5e1bd337bf3efa3109b10de3 --log_dir=logs_transformer_vte/Fil/6_1\n"
     ]
    }
   ],
   "source": [
    "%run src/scripts/schedulers/expr_dispatcher.py --experiment-config-path src/configs/PL3/TT90/D360_TT.json"
   ]
  },
  {
   "cell_type": "code",
   "execution_count": null,
   "id": "4359de70-aff6-4164-9673-ad9f397a4869",
   "metadata": {
    "tags": []
   },
   "outputs": [
    {
     "name": "stdout",
     "output_type": "stream",
     "text": [
      "args: Namespace(experiment_config_path='src/configs/PL3/TT90/D360_TTk.json', force_rerun=False, force_evaluate=False)\n",
      "python src/scripts/main.py  --add_bmi_neuron --add_race_neuron --add_sex_neuron --ageseq_event --class_bal --cuda --dev --dev_data_dir //vacrrdevmavdi01.vha.med.va.gov/MAVDEV1/Fillmore_Cancer/cat/Users/data_from_vinci/dvt_cancer_20230613/data_for_tf_model/processed/PL_f180/dev --device cuda:1 --disease_code_system phe_lab --dxseq_truncK --epochs 35 --eval_auprc --eval_auroc --eval_batch_size 128 --filter_max_len --hidden_dim 64 --indseq_trunc --init_lr 0.0012 --log_dir logs_transformer_vte/Fil/6_1 --lr_decay 0.3 --max_batches_per_dev_epoch 1000 --max_batches_per_train_epoch 2000 --max_days_before_index 1000 --max_eval_indices 1 --max_events_length 900 --max_year_before_index 4 --model_dir snapshot_vte/L --model_name transformer --month_endpoints 3 --num_heads 1 --num_layers 8 --num_workers 0 --optimizer adam --pad_size 400 --pool_name Softmax_AttentionPool --start_at_dx_D360 --start_noise_days --start_noise_len 30 --test --test_data_dir //vacrrdevmavdi01.vha.med.va.gov/MAVDEV1/Fillmore_Cancer/cat/Users/data_from_vinci/dvt_cancer_20230613/data_for_tf_model/processed/PL_f180/test --time_embed_dim 64 --time_seq_cos --train --train_batch_size 256 --train_data_dir //vacrrdevmavdi01.vha.med.va.gov/MAVDEV1/Fillmore_Cancer/cat/Users/data_from_vinci/dvt_cancer_20230613/data_for_tf_model/processed/PL_f180/train --tuning_metric 3day_auroc_c --use_age_embed --use_dxtime_embed --use_index_embed --use_time_embed --weight_decay 0.001 --log_name=ae0debecaacbca1ab1413de40a3bc0d5 --log_dir=logs_transformer_vte/Fil/6_1\n"
     ]
    }
   ],
   "source": [
    "%run src/scripts/schedulers/expr_dispatcher.py --experiment-config-path src/configs/PL3/TT90/D360_TTk.json"
   ]
  },
  {
   "cell_type": "code",
   "execution_count": 1,
   "id": "6552d0ac-8c20-489f-8818-1bac5cf5638d",
   "metadata": {
    "tags": []
   },
   "outputs": [
    {
     "name": "stdout",
     "output_type": "stream",
     "text": [
      "args: Namespace(experiment_config_path='src/configs/PL3/TT90/redoG270.json', force_rerun=False, force_evaluate=False)\n",
      "python src/scripts/main.py  --add_bmi_neuron --add_race_neuron --add_sex_neuron --ageseq_event --class_bal --cuda --dev --dev_data_dir //vacrrdevmavdi01.vha.med.va.gov/MAVDEV1/Fillmore_Cancer/cat/Users/data_from_vinci/dvt_cancer_20230613/data_for_tf_model/processed/PL_f180/dev --device cuda:1 --disease_code_system phe_lab --dxseq_cos --epochs 35 --eval_auprc --eval_auroc --eval_batch_size 128 --filter_max_len --hidden_dim 64 --indseq_cos --init_lr 0.00125 --log_dir logs_transformer_vte/Fil/5_30 --lr_decay 0.3 --max_batches_per_dev_epoch 1000 --max_batches_per_train_epoch 2000 --max_days_before_index 1000 --max_eval_indices 1 --max_events_length 800 --max_year_before_index 4 --model_dir snapshot_vte/L --model_name transformer --month_endpoints 3 --num_heads 1 --num_layers 8 --num_workers 0 --optimizer adam --pad_size 400 --pool_name Softmax_AttentionPool --start_at_dx_G270 --start_noise_days --start_noise_len 30 --test --test_data_dir //vacrrdevmavdi01.vha.med.va.gov/MAVDEV1/Fillmore_Cancer/cat/Users/data_from_vinci/dvt_cancer_20230613/data_for_tf_model/processed/PL_f180/test --time_embed_dim 64 --time_seq_cos --train --train_batch_size 256 --train_data_dir //vacrrdevmavdi01.vha.med.va.gov/MAVDEV1/Fillmore_Cancer/cat/Users/data_from_vinci/dvt_cancer_20230613/data_for_tf_model/processed/PL_f180/train --tuning_metric 3day_auroc_c --use_age_embed --use_dxtime_embed --use_index_embed --use_time_embed --weight_decay 0.001 --log_name=bcb54c2a0948606572aa595cc9ebcd4f --log_dir=logs_transformer_vte/Fil/5_30\n"
     ]
    }
   ],
   "source": [
    "%run src/scripts/schedulers/expr_dispatcher.py --experiment-config-path src/configs/PL3/TT90/redoG270.json"
   ]
  },
  {
   "cell_type": "code",
   "execution_count": 2,
   "id": "d4c5797d-5585-4ca8-a4e2-a9ae53af5f17",
   "metadata": {
    "tags": []
   },
   "outputs": [
    {
     "name": "stdout",
     "output_type": "stream",
     "text": [
      "args: Namespace(experiment_config_path='src/configs/PL3/TT90/doH180.json', force_rerun=False, force_evaluate=False)\n",
      "python src/scripts/main.py  --add_bmi_neuron --add_race_neuron --add_sex_neuron --ageseq_event --class_bal --cuda --dev --dev_data_dir //vacrrdevmavdi01.vha.med.va.gov/MAVDEV1/Fillmore_Cancer/cat/Users/data_from_vinci/dvt_cancer_20230613/data_for_tf_model/processed/PL_f180/dev --device cuda:1 --disease_code_system phe_lab --dxseq_cos --epochs 35 --eval_auprc --eval_auroc --eval_batch_size 128 --filter_max_len --hidden_dim 64 --indseq_cos --init_lr 0.00125 --log_dir logs_transformer_vte/Fil/5_31 --lr_decay 0.3 --max_batches_per_dev_epoch 1000 --max_batches_per_train_epoch 2000 --max_days_before_index 1000 --max_eval_indices 1 --max_events_length 800 --max_year_before_index 4 --model_dir snapshot_vte/L --model_name transformer --month_endpoints 3 --num_heads 1 --num_layers 8 --num_workers 0 --optimizer adam --pad_size 400 --pool_name Softmax_AttentionPool --start_at_dx_H180 --start_noise_days --start_noise_len 30 --test --test_data_dir //vacrrdevmavdi01.vha.med.va.gov/MAVDEV1/Fillmore_Cancer/cat/Users/data_from_vinci/dvt_cancer_20230613/data_for_tf_model/processed/PL_f180/test --time_embed_dim 64 --time_seq_cos --train --train_batch_size 256 --train_data_dir //vacrrdevmavdi01.vha.med.va.gov/MAVDEV1/Fillmore_Cancer/cat/Users/data_from_vinci/dvt_cancer_20230613/data_for_tf_model/processed/PL_f180/train --tuning_metric 3day_auroc_c --use_age_embed --use_dxtime_embed --use_index_embed --use_time_embed --weight_decay 0.001 --log_name=056b5c04064a8e589d3cf76393df3021 --log_dir=logs_transformer_vte/Fil/5_31\n"
     ]
    }
   ],
   "source": [
    "%run src/scripts/schedulers/expr_dispatcher.py --experiment-config-path src/configs/PL3/TT90/doH180.json"
   ]
  },
  {
   "cell_type": "code",
   "execution_count": 1,
   "id": "eb18b2ea-a999-490d-aedb-d97509e32cc0",
   "metadata": {
    "tags": []
   },
   "outputs": [
    {
     "name": "stdout",
     "output_type": "stream",
     "text": [
      "args: Namespace(experiment_config_path='src/configs/PL3/TT90/doG180.json', force_rerun=False, force_evaluate=False)\n",
      "python src/scripts/main.py  --add_bmi_neuron --add_race_neuron --add_sex_neuron --ageseq_event --class_bal --cuda --dev --dev_data_dir //vacrrdevmavdi01.vha.med.va.gov/MAVDEV1/Fillmore_Cancer/cat/Users/data_from_vinci/dvt_cancer_20230613/data_for_tf_model/processed/PL_f180/dev --device cuda:0 --disease_code_system phe_lab --dxseq_cos --epochs 35 --eval_auprc --eval_auroc --eval_batch_size 128 --filter_max_len --hidden_dim 64 --indseq_cos --init_lr 0.00125 --log_dir logs_transformer_vte/Fil/5_25 --lr_decay 0.3 --max_batches_per_dev_epoch 1000 --max_batches_per_train_epoch 2000 --max_days_before_index 1000 --max_eval_indices 1 --max_events_length 800 --max_year_before_index 4 --model_dir snapshot_vte/L --model_name transformer --month_endpoints 3 --num_heads 1 --num_layers 8 --num_workers 0 --optimizer adam --pad_size 400 --pool_name Softmax_AttentionPool --start_at_dx_G180 --start_noise_days --start_noise_len 30 --test --test_data_dir //vacrrdevmavdi01.vha.med.va.gov/MAVDEV1/Fillmore_Cancer/cat/Users/data_from_vinci/dvt_cancer_20230613/data_for_tf_model/processed/PL_f180/test --time_embed_dim 64 --time_seq_cos --train --train_batch_size 256 --train_data_dir //vacrrdevmavdi01.vha.med.va.gov/MAVDEV1/Fillmore_Cancer/cat/Users/data_from_vinci/dvt_cancer_20230613/data_for_tf_model/processed/PL_f180/train --tuning_metric 3day_auroc_c --use_age_embed --use_dxtime_embed --use_index_embed --use_time_embed --weight_decay 0.001 --log_name=3a0fc3cf893c22e7eb0d95dbc2a2785a --log_dir=logs_transformer_vte/Fil/5_25\n"
     ]
    }
   ],
   "source": [
    "%run src/scripts/schedulers/expr_dispatcher.py --experiment-config-path src/configs/PL3/TT90/doG180.json"
   ]
  },
  {
   "cell_type": "code",
   "execution_count": null,
   "id": "7d20806a-acee-4cbf-80c5-5f4149f96814",
   "metadata": {
    "tags": []
   },
   "outputs": [
    {
     "name": "stdout",
     "output_type": "stream",
     "text": [
      "args: Namespace(experiment_config_path='src/configs/PL3/TT90/ResumeH135_JT.json', force_rerun=False, force_evaluate=False)\n",
      "python src/scripts/main.py  --add_bmi_neuron --add_race_neuron --add_sex_neuron --ageseq_event --class_bal --code_to_index_file snapshot_vte/L/598d2b4a35ea7adaef7cc6959b0cffe5.code_map --cuda --dev --dev_data_dir //vacrrdevmavdi01.vha.med.va.gov/MAVDEV1/Fillmore_Cancer/cat/Users/data_from_vinci/dvt_cancer_20230613/data_for_tf_model/processed/PL_f180/dev --device cuda:0 --disease_code_system phe_lab --dxseq_trunc --epochs 35 --eval_auprc --eval_auroc --eval_batch_size 128 --filter_max_len --hidden_dim 64 --indseq_K --init_lr 0.00125 --log_dir logs_transformer_vte/Fil/5_25 --lr_decay 0.3 --max_batches_per_dev_epoch 1000 --max_batches_per_train_epoch 2000 --max_days_before_index 1000 --max_eval_indices 1 --max_events_length 800 --max_year_before_index 4 --model_dir snapshot_vte/L --model_name transformer --month_endpoints 3 --num_heads 1 --num_layers 8 --num_workers 0 --optimizer adam --pad_size 400 --pool_name Softmax_AttentionPool --snapshot snapshot_vte/L/model_598d2b4a35ea7adaef7cc6959b0cffe5_model.pt --start_at_dx_H135 --start_noise_days --start_noise_len 20 --test --test_data_dir //vacrrdevmavdi01.vha.med.va.gov/MAVDEV1/Fillmore_Cancer/cat/Users/data_from_vinci/dvt_cancer_20230613/data_for_tf_model/processed/PL_f180/test --time_embed_dim 64 --time_seq_cos --train --train_batch_size 256 --train_data_dir //vacrrdevmavdi01.vha.med.va.gov/MAVDEV1/Fillmore_Cancer/cat/Users/data_from_vinci/dvt_cancer_20230613/data_for_tf_model/processed/PL_f180/train --tuning_metric 3day_auroc_c --use_age_embed --use_dxtime_embed --use_index_embed --use_time_embed --weight_decay 0.001 --log_name=01ef78fc0899fd133747dffb5138fb42 --log_dir=logs_transformer_vte/Fil/5_25\n"
     ]
    }
   ],
   "source": [
    "%run src/scripts/schedulers/expr_dispatcher.py --experiment-config-path src/configs/PL3/TT90/ResumeH135_JT.json"
   ]
  },
  {
   "cell_type": "code",
   "execution_count": 2,
   "id": "2c5ae74a-fac8-4aac-9dcf-9528133ee37b",
   "metadata": {
    "tags": []
   },
   "outputs": [
    {
     "name": "stdout",
     "output_type": "stream",
     "text": [
      "args: Namespace(experiment_config_path='src/configs/PL3/TT90/H135_JT.json', force_rerun=False, force_evaluate=False)\n",
      "python src/scripts/main.py  --add_bmi_neuron --add_race_neuron --add_sex_neuron --ageseq_event --class_bal --cuda --dev --dev_data_dir //vacrrdevmavdi01.vha.med.va.gov/MAVDEV1/Fillmore_Cancer/cat/Users/data_from_vinci/dvt_cancer_20230613/data_for_tf_model/processed/PL_f180/dev --device cuda:0 --disease_code_system phe_lab --dxseq_trunc --epochs 35 --eval_auprc --eval_auroc --eval_batch_size 128 --filter_max_len --hidden_dim 64 --indseq_K --init_lr 0.00125 --log_dir logs_transformer_vte/Fil/5_25 --lr_decay 0.3 --max_batches_per_dev_epoch 1000 --max_batches_per_train_epoch 2000 --max_days_before_index 1000 --max_eval_indices 1 --max_events_length 800 --max_year_before_index 4 --model_dir snapshot_vte/L --model_name transformer --month_endpoints 3 --num_heads 1 --num_layers 8 --num_workers 0 --optimizer adam --pad_size 400 --pool_name Softmax_AttentionPool --start_at_dx_H135 --start_noise_days --start_noise_len 20 --test --test_data_dir //vacrrdevmavdi01.vha.med.va.gov/MAVDEV1/Fillmore_Cancer/cat/Users/data_from_vinci/dvt_cancer_20230613/data_for_tf_model/processed/PL_f180/test --time_embed_dim 64 --time_seq_cos --train --train_batch_size 256 --train_data_dir //vacrrdevmavdi01.vha.med.va.gov/MAVDEV1/Fillmore_Cancer/cat/Users/data_from_vinci/dvt_cancer_20230613/data_for_tf_model/processed/PL_f180/train --tuning_metric 3day_auroc_c --use_age_embed --use_dxtime_embed --use_index_embed --use_time_embed --weight_decay 0.001 --log_name=598d2b4a35ea7adaef7cc6959b0cffe5 --log_dir=logs_transformer_vte/Fil/5_25\n"
     ]
    }
   ],
   "source": [
    "%run src/scripts/schedulers/expr_dispatcher.py --experiment-config-path src/configs/PL3/TT90/H135_JT.json"
   ]
  },
  {
   "cell_type": "code",
   "execution_count": 2,
   "id": "f69e8d15-fde6-410a-a84f-303fdec78c7a",
   "metadata": {
    "tags": []
   },
   "outputs": [
    {
     "name": "stdout",
     "output_type": "stream",
     "text": [
      "args: Namespace(experiment_config_path='src/configs/PL3/TT90/doG270.json', force_rerun=False, force_evaluate=False)\n",
      "python src/scripts/main.py  --add_bmi_neuron --add_race_neuron --add_sex_neuron --ageseq_event --class_bal --cuda --dev --dev_data_dir //vacrrdevmavdi01.vha.med.va.gov/MAVDEV1/Fillmore_Cancer/cat/Users/data_from_vinci/dvt_cancer_20230613/data_for_tf_model/processed/PL_filtered/dev --device cuda:1 --disease_code_system phe_lab --dxseq_cos --epochs 35 --eval_auprc --eval_auroc --eval_batch_size 128 --filter_max_len --hidden_dim 64 --indseq_cos --init_lr 0.00125 --log_dir logs_transformer_vte/Fil/5_25 --lr_decay 0.3 --max_batches_per_dev_epoch 1000 --max_batches_per_train_epoch 2000 --max_days_before_index 1000 --max_eval_indices 1 --max_events_length 800 --max_year_before_index 4 --model_dir snapshot_vte/L --model_name transformer --month_endpoints 3 --num_heads 1 --num_layers 8 --num_workers 0 --optimizer adam --pad_size 400 --pool_name Softmax_AttentionPool --start_at_dx_G270 --start_noise_days --start_noise_len 30 --test --test_data_dir //vacrrdevmavdi01.vha.med.va.gov/MAVDEV1/Fillmore_Cancer/cat/Users/data_from_vinci/dvt_cancer_20230613/data_for_tf_model/processed/PL_filtered/test --time_embed_dim 64 --time_seq_cos --train --train_batch_size 256 --train_data_dir //vacrrdevmavdi01.vha.med.va.gov/MAVDEV1/Fillmore_Cancer/cat/Users/data_from_vinci/dvt_cancer_20230613/data_for_tf_model/processed/PL_filtered/train --tuning_metric 3day_auroc_c --use_age_embed --use_dxtime_embed --use_index_embed --use_time_embed --weight_decay 0.001 --log_name=78f5988e9426813c011295c9f6a8fb08 --log_dir=logs_transformer_vte/Fil/5_25\n"
     ]
    }
   ],
   "source": [
    "%run src/scripts/schedulers/expr_dispatcher.py --experiment-config-path src/configs/PL3/TT90/doG270.json"
   ]
  },
  {
   "cell_type": "code",
   "execution_count": null,
   "id": "f4bb220e-a1d0-4196-a685-bb8ffadd4d3c",
   "metadata": {
    "tags": []
   },
   "outputs": [
    {
     "name": "stdout",
     "output_type": "stream",
     "text": [
      "args: Namespace(experiment_config_path='src/configs/PL3/Cos/G360.json', force_rerun=False, force_evaluate=False)\n",
      "python src/scripts/main.py  --add_bmi_neuron --add_race_neuron --add_sex_neuron --ageseq_event --class_bal --cuda --dev --dev_data_dir //vacrrdevmavdi01.vha.med.va.gov/MAVDEV1/Fillmore_Cancer/cat/Users/data_from_vinci/dvt_cancer_20230613/data_for_tf_model/processed/Phe_Lab/dev --device cuda:1 --disease_code_system phe_lab --dxseq_cos --epochs 35 --eval_auprc --eval_auroc --eval_batch_size 128 --filter_max_len --hidden_dim 64 --indseq_cos --init_lr 0.00125 --log_dir logs_transformer_vte/L/5_24 --lr_decay 0.3 --max_batches_per_dev_epoch 1000 --max_batches_per_train_epoch 2000 --max_days_before_index 1000 --max_eval_indices 1 --max_events_length 800 --max_year_before_index 4 --model_dir snapshot_vte/L --model_name transformer --month_endpoints 3 --num_heads 1 --num_layers 8 --num_workers 0 --optimizer adam --pad_size 400 --pool_name Softmax_AttentionPool --start_at_dx_G360 --start_noise_days --start_noise_len 30 --test --test_data_dir //vacrrdevmavdi01.vha.med.va.gov/MAVDEV1/Fillmore_Cancer/cat/Users/data_from_vinci/dvt_cancer_20230613/data_for_tf_model/processed/Phe_Lab/test --time_embed_dim 64 --time_seq_cos --train --train_batch_size 256 --train_data_dir //vacrrdevmavdi01.vha.med.va.gov/MAVDEV1/Fillmore_Cancer/cat/Users/data_from_vinci/dvt_cancer_20230613/data_for_tf_model/processed/Phe_Lab/train --tuning_metric 3day_auroc_c --use_age_embed --use_dxtime_embed --use_index_embed --use_time_embed --weight_decay 0.001 --log_name=9fe1b7b7d29688bbadc33091a60c4703 --log_dir=logs_transformer_vte/L/5_24\n"
     ]
    }
   ],
   "source": [
    "%run src/scripts/schedulers/expr_dispatcher.py --experiment-config-path src/configs/PL3/Cos/G360.json"
   ]
  },
  {
   "cell_type": "code",
   "execution_count": 3,
   "id": "908cc572-7ab9-476e-894d-22f27980af43",
   "metadata": {
    "tags": []
   },
   "outputs": [
    {
     "name": "stdout",
     "output_type": "stream",
     "text": [
      "args: Namespace(experiment_config_path='src/configs/PL3/Cos/resume2_alt90f.json', force_rerun=False, force_evaluate=False)\n",
      "python src/scripts/main.py  --add_bmi_neuron --add_race_neuron --add_sex_neuron --ageseq_event --class_bal --code_to_index_file snapshot_vte/L/dfb51e65549cd881e7e79eb16ed25537.code_map --cuda --dev --dev_data_dir //vacrrdevmavdi01.vha.med.va.gov/MAVDEV1/Fillmore_Cancer/cat/Users/data_from_vinci/dvt_cancer_20230613/data_for_tf_model/processed/Phe_Lab/dev --device cuda:1 --disease_code_system phe_lab --dxseq_cos --epochs 25 --eval_auprc --eval_auroc --eval_batch_size 128 --filter_max_len --hidden_dim 64 --indseq_cos --init_lr 0.0005 --log_dir logs_transformer_vte/L/5_24 --lr_decay 0.3 --max_batches_per_dev_epoch 1000 --max_batches_per_train_epoch 2000 --max_days_before_index 1000 --max_eval_indices 1 --max_events_length 850 --max_year_before_index 4 --model_dir snapshot_vte/L --model_name transformer --month_endpoints 3 --num_heads 1 --num_layers 8 --num_workers 0 --optimizer adam --pad_size 420 --pool_name Softmax_AttentionPool --snapshot snapshot_vte/L/model_dfb51e65549cd881e7e79eb16ed25537_model.pt --start_at_dx_100 --start_noise_days --start_noise_len 20 --test --test_data_dir //vacrrdevmavdi01.vha.med.va.gov/MAVDEV1/Fillmore_Cancer/cat/Users/data_from_vinci/dvt_cancer_20230613/data_for_tf_model/processed/Phe_Lab/test --time_embed_dim 64 --time_seq_cos --train --train_batch_size 256 --train_data_dir //vacrrdevmavdi01.vha.med.va.gov/MAVDEV1/Fillmore_Cancer/cat/Users/data_from_vinci/dvt_cancer_20230613/data_for_tf_model/processed/Phe_Lab/train --tuning_metric 3day_auroc_c --use_age_embed --use_dxtime_embed --use_index_embed --use_time_embed --weight_decay 0.001 --log_name=524fa8bb119ad37787928fd83473c913 --log_dir=logs_transformer_vte/L/5_24\n"
     ]
    }
   ],
   "source": [
    "%run src/scripts/schedulers/expr_dispatcher.py --experiment-config-path src/configs/PL3/Cos/resume2_alt90f.json"
   ]
  },
  {
   "cell_type": "code",
   "execution_count": 2,
   "id": "e7bb5da7-84c5-4dde-8042-17378fd3c1cb",
   "metadata": {
    "tags": []
   },
   "outputs": [
    {
     "name": "stdout",
     "output_type": "stream",
     "text": [
      "args: Namespace(experiment_config_path='src/configs/PL3/Cos/alt90ff.json', force_rerun=False, force_evaluate=False)\n",
      "python src/scripts/main.py  --add_bmi_neuron --add_race_neuron --add_sex_neuron --ageseq_event --class_bal --cuda --dev --dev_data_dir //vacrrdevmavdi01.vha.med.va.gov/MAVDEV1/Fillmore_Cancer/cat/Users/data_from_vinci/dvt_cancer_20230613/data_for_tf_model/processed/Phe_Lab/dev --device cuda:1 --disease_code_system phe_lab --dxseq_cos --epochs 36 --eval_auprc --eval_auroc --eval_batch_size 128 --filter_max_len --hidden_dim 64 --indseq_cos --init_lr 0.00125 --log_dir logs_transformer_vte/L/5_23 --lr_decay 0.3 --max_batches_per_dev_epoch 1000 --max_batches_per_train_epoch 2000 --max_days_before_index 1000 --max_eval_indices 1 --max_events_length 840 --max_year_before_index 4 --model_dir snapshot_vte/L --model_name transformer --month_endpoints 3 --num_heads 1 --num_layers 8 --num_workers 0 --optimizer adam --pad_size 420 --pool_name Softmax_AttentionPool --start_at_dx_100 --start_noise_days --start_noise_len 20 --test --test_data_dir //vacrrdevmavdi01.vha.med.va.gov/MAVDEV1/Fillmore_Cancer/cat/Users/data_from_vinci/dvt_cancer_20230613/data_for_tf_model/processed/Phe_Lab/test --time_embed_dim 64 --time_seq_cos --train --train_batch_size 256 --train_data_dir //vacrrdevmavdi01.vha.med.va.gov/MAVDEV1/Fillmore_Cancer/cat/Users/data_from_vinci/dvt_cancer_20230613/data_for_tf_model/processed/Phe_Lab/train --tuning_metric 3day_auroc_c --use_age_embed --use_dxtime_embed --use_index_embed --use_time_embed --weight_decay 0.001 --log_name=954be86dbf0b6ff228f510e2300b382d --log_dir=logs_transformer_vte/L/5_23\n"
     ]
    }
   ],
   "source": [
    "%run src/scripts/schedulers/expr_dispatcher.py --experiment-config-path src/configs/PL3/Cos/alt90ff.json"
   ]
  },
  {
   "cell_type": "code",
   "execution_count": null,
   "id": "d7de0402-5bdf-48fa-b9ba-414ffd24e368",
   "metadata": {
    "tags": []
   },
   "outputs": [
    {
     "name": "stdout",
     "output_type": "stream",
     "text": [
      "args: Namespace(experiment_config_path='src/configs/PL3/Cos/resume_alt90f.json', force_rerun=False, force_evaluate=False)\n",
      "python src/scripts/main.py  --add_bmi_neuron --add_race_neuron --add_sex_neuron --ageseq_event --class_bal --code_to_index_file snapshot_vte/L/dfb51e65549cd881e7e79eb16ed25537.code_map --cuda --dev --dev_data_dir //vacrrdevmavdi01.vha.med.va.gov/MAVDEV1/Fillmore_Cancer/cat/Users/data_from_vinci/dvt_cancer_20230613/data_for_tf_model/processed/Phe_Lab/dev --device cuda:0 --disease_code_system phe_lab --dxseq_cos --epochs 25 --eval_auprc --eval_auroc --eval_batch_size 128 --filter_max_len --hidden_dim 64 --indseq_cos --init_lr 0.001 --log_dir logs_transformer_vte/L/5_23 --lr_decay 0.3 --max_batches_per_dev_epoch 1000 --max_batches_per_train_epoch 2000 --max_days_before_index 1000 --max_eval_indices 1 --max_events_length 850 --max_year_before_index 4 --model_dir snapshot_vte/L --model_name transformer --month_endpoints 3 --num_heads 1 --num_layers 8 --num_workers 0 --optimizer adam --pad_size 420 --pool_name Softmax_AttentionPool --snapshot snapshot_vte/L/model_dfb51e65549cd881e7e79eb16ed25537_model.pt --start_at_dx_100 --start_noise_days --start_noise_len 20 --test --test_data_dir //vacrrdevmavdi01.vha.med.va.gov/MAVDEV1/Fillmore_Cancer/cat/Users/data_from_vinci/dvt_cancer_20230613/data_for_tf_model/processed/Phe_Lab/test --time_embed_dim 64 --time_seq_cos --train --train_batch_size 256 --train_data_dir //vacrrdevmavdi01.vha.med.va.gov/MAVDEV1/Fillmore_Cancer/cat/Users/data_from_vinci/dvt_cancer_20230613/data_for_tf_model/processed/Phe_Lab/train --tuning_metric 3day_auroc_c --use_age_embed --use_dxtime_embed --use_index_embed --use_time_embed --weight_decay 0.001 --log_name=52ee7fe9588247d0bbb1971ba3beac84 --log_dir=logs_transformer_vte/L/5_23\n"
     ]
    }
   ],
   "source": [
    "%run src/scripts/schedulers/expr_dispatcher.py --experiment-config-path src/configs/PL3/Cos/resume_alt90f.json"
   ]
  },
  {
   "cell_type": "code",
   "execution_count": 3,
   "id": "c05eb51e-1a14-4223-99b2-24d077eaf750",
   "metadata": {
    "tags": []
   },
   "outputs": [
    {
     "name": "stdout",
     "output_type": "stream",
     "text": [
      "args: Namespace(experiment_config_path='src/configs/PL3/Cos/alt90f.json', force_rerun=False, force_evaluate=False)\n",
      "python src/scripts/main.py  --add_bmi_neuron --add_race_neuron --add_sex_neuron --ageseq_event --class_bal --cuda --dev --dev_data_dir //vacrrdevmavdi01.vha.med.va.gov/MAVDEV1/Fillmore_Cancer/cat/Users/data_from_vinci/dvt_cancer_20230613/data_for_tf_model/processed/Phe_Lab/dev --device cuda:0 --disease_code_system phe_lab --dxseq_cos --epochs 25 --eval_auprc --eval_auroc --eval_batch_size 128 --filter_max_len --hidden_dim 64 --indseq_cos --init_lr 0.00125 --log_dir logs_transformer_vte/L/5_22 --lr_decay 0.3 --max_batches_per_dev_epoch 1000 --max_batches_per_train_epoch 2000 --max_days_before_index 1000 --max_eval_indices 1 --max_events_length 850 --max_year_before_index 4 --model_dir snapshot_vte/L --model_name transformer --month_endpoints 3 --num_heads 1 --num_layers 8 --num_workers 0 --optimizer adam --pad_size 420 --pool_name Softmax_AttentionPool --start_at_dx_100 --start_noise_days --start_noise_len 20 --test --test_data_dir //vacrrdevmavdi01.vha.med.va.gov/MAVDEV1/Fillmore_Cancer/cat/Users/data_from_vinci/dvt_cancer_20230613/data_for_tf_model/processed/Phe_Lab/test --time_embed_dim 64 --time_seq_cos --train --train_batch_size 256 --train_data_dir //vacrrdevmavdi01.vha.med.va.gov/MAVDEV1/Fillmore_Cancer/cat/Users/data_from_vinci/dvt_cancer_20230613/data_for_tf_model/processed/Phe_Lab/train --tuning_metric 3day_auroc_c --use_age_embed --use_dxtime_embed --use_index_embed --use_time_embed --weight_decay 0.001 --log_name=dfb51e65549cd881e7e79eb16ed25537 --log_dir=logs_transformer_vte/L/5_22\n"
     ]
    }
   ],
   "source": [
    "%run src/scripts/schedulers/expr_dispatcher.py --experiment-config-path src/configs/PL3/Cos/alt90f.json"
   ]
  },
  {
   "cell_type": "code",
   "execution_count": 1,
   "id": "be413e33-1b87-479b-b824-eea11d3ed22e",
   "metadata": {
    "tags": []
   },
   "outputs": [
    {
     "name": "stdout",
     "output_type": "stream",
     "text": [
      "args: Namespace(experiment_config_path='src/configs/PL3/Cos/alt90b.json', force_rerun=False, force_evaluate=False)\n",
      "python src/scripts/main.py  --add_bmi_neuron --add_race_neuron --add_sex_neuron --ageseq_event --class_bal --cuda --dev --dev_data_dir //vacrrdevmavdi01.vha.med.va.gov/MAVDEV1/Fillmore_Cancer/cat/Users/data_from_vinci/dvt_cancer_20230613/data_for_tf_model/processed/Phe_Lab/dev --device cuda:0 --disease_code_system phe_lab --dxseq_trunc --epochs 25 --eval_auprc --eval_auroc --eval_batch_size 128 --filter_max_len --hidden_dim 64 --indseq_cos --init_lr 0.00125 --log_dir logs_transformer_vte/L/5_20 --lr_decay 0.3 --max_batches_per_dev_epoch 1000 --max_batches_per_train_epoch 2000 --max_days_before_index 700 --max_eval_indices 1 --max_events_length 1000 --max_year_before_index 4 --model_dir snapshot_vte/L --model_name transformer --month_endpoints 3 --num_heads 1 --num_layers 8 --num_workers 0 --optimizer adam --pad_size 450 --pool_name Softmax_AttentionPool --start_at_dx_100 --start_noise_days --start_noise_len 20 --test --test_data_dir //vacrrdevmavdi01.vha.med.va.gov/MAVDEV1/Fillmore_Cancer/cat/Users/data_from_vinci/dvt_cancer_20230613/data_for_tf_model/processed/Phe_Lab/test --time_embed_dim 64 --time_seq_cos --train --train_batch_size 256 --train_data_dir //vacrrdevmavdi01.vha.med.va.gov/MAVDEV1/Fillmore_Cancer/cat/Users/data_from_vinci/dvt_cancer_20230613/data_for_tf_model/processed/Phe_Lab/train --tuning_metric 3day_auroc_c --use_age_embed --use_dxtime_embed --use_index_embed --use_time_embed --weight_decay 0.001 --log_name=f3a66be07392ea9dacca63fc53d33338 --log_dir=logs_transformer_vte/L/5_20\n"
     ]
    }
   ],
   "source": [
    "%run src/scripts/schedulers/expr_dispatcher.py --experiment-config-path src/configs/PL3/Cos/alt90b.json"
   ]
  },
  {
   "cell_type": "code",
   "execution_count": 4,
   "id": "75b80f2a-27b1-4915-a8ea-b48a0058fd48",
   "metadata": {
    "tags": []
   },
   "outputs": [
    {
     "name": "stdout",
     "output_type": "stream",
     "text": [
      "args: Namespace(experiment_config_path='src/configs/PL3/Cos/both540.json', force_rerun=False, force_evaluate=False)\n",
      "python src/scripts/main.py  --add_bmi_neuron --add_race_neuron --add_sex_neuron --ageseq_event --class_bal --cuda --dev --dev_data_dir //vacrrdevmavdi01.vha.med.va.gov/MAVDEV1/Fillmore_Cancer/cat/Users/data_from_vinci/dvt_cancer_20230613/data_for_tf_model/processed/Phe_Lab/dev --device cuda:1 --disease_code_system phe_lab --dxseq_cos --epochs 25 --eval_auprc --eval_auroc --eval_batch_size 128 --filter_max_len --hidden_dim 64 --indseq_cos --init_lr 0.00125 --log_dir logs_transformer_vte/L/5_17 --lr_decay 0.3 --max_batches_per_dev_epoch 1000 --max_batches_per_train_epoch 2000 --max_days_before_index 1000 --max_eval_indices 1 --max_events_length 1000 --max_year_before_index 4 --model_dir snapshot_vte/L --model_name transformer --month_endpoints 3 --num_heads 1 --num_layers 8 --num_workers 0 --optimizer adam --pad_size 400 --pool_name Softmax_AttentionPool --start_at_dx_600 --start_noise_days --start_noise_len 120 --test --test_data_dir //vacrrdevmavdi01.vha.med.va.gov/MAVDEV1/Fillmore_Cancer/cat/Users/data_from_vinci/dvt_cancer_20230613/data_for_tf_model/processed/Phe_Lab/test --time_embed_dim 64 --time_seq_cos --train --train_batch_size 256 --train_data_dir //vacrrdevmavdi01.vha.med.va.gov/MAVDEV1/Fillmore_Cancer/cat/Users/data_from_vinci/dvt_cancer_20230613/data_for_tf_model/processed/Phe_Lab/train --tuning_metric 3day_auroc_c --use_age_embed --use_dxtime_embed --use_index_embed --use_time_embed --weight_decay 0.001 --log_name=d0d9aa19f77fe5665d7ff03d20ef79e3 --log_dir=logs_transformer_vte/L/5_17\n"
     ]
    }
   ],
   "source": [
    "%run src/scripts/schedulers/expr_dispatcher.py --experiment-config-path src/configs/PL3/Cos/both540.json"
   ]
  },
  {
   "cell_type": "code",
   "execution_count": 6,
   "id": "66657748-3141-4fc3-aeda-a9c89b7a0792",
   "metadata": {
    "tags": []
   },
   "outputs": [
    {
     "name": "stdout",
     "output_type": "stream",
     "text": [
      "args: Namespace(experiment_config_path='src/configs/PL3/Cos/both120b.json', force_rerun=False, force_evaluate=False)\n",
      "python src/scripts/main.py  --add_bmi_neuron --add_race_neuron --add_sex_neuron --ageseq_event --class_bal --cuda --dev --dev_data_dir //vacrrdevmavdi01.vha.med.va.gov/MAVDEV1/Fillmore_Cancer/cat/Users/data_from_vinci/dvt_cancer_20230613/data_for_tf_model/processed/Phe_Lab/dev --device cuda:1 --disease_code_system phe_lab --dxseq_cos --epochs 25 --eval_auprc --eval_auroc --eval_batch_size 128 --filter_max_len --hidden_dim 64 --indseq_cos --init_lr 0.00125 --log_dir logs_transformer_vte/L/5_18 --lr_decay 0.3 --max_batches_per_dev_epoch 1000 --max_batches_per_train_epoch 2000 --max_days_before_index 1000 --max_eval_indices 1 --max_events_length 800 --max_year_before_index 4 --model_dir snapshot_vte/L --model_name transformer --month_endpoints 3 --num_heads 1 --num_layers 8 --num_workers 0 --optimizer adam --pad_size 400 --pool_name Softmax_AttentionPool --start_at_dx_150 --start_noise_days --start_noise_len 60 --test --test_data_dir //vacrrdevmavdi01.vha.med.va.gov/MAVDEV1/Fillmore_Cancer/cat/Users/data_from_vinci/dvt_cancer_20230613/data_for_tf_model/processed/Phe_Lab/test --time_embed_dim 64 --time_seq_cos --train --train_batch_size 256 --train_data_dir //vacrrdevmavdi01.vha.med.va.gov/MAVDEV1/Fillmore_Cancer/cat/Users/data_from_vinci/dvt_cancer_20230613/data_for_tf_model/processed/Phe_Lab/train --tuning_metric 3day_auroc_c --use_age_embed --use_dxtime_embed --use_index_embed --use_time_embed --weight_decay 0.001 --log_name=c66cf3280dddfa5dae8319aa125788e4 --log_dir=logs_transformer_vte/L/5_18\n"
     ]
    }
   ],
   "source": [
    "%run src/scripts/schedulers/expr_dispatcher.py --experiment-config-path src/configs/PL3/Cos/both120b.json"
   ]
  },
  {
   "cell_type": "code",
   "execution_count": 5,
   "id": "f1dc0983-5f82-4df6-b80d-34bcd7fe3b9e",
   "metadata": {
    "tags": []
   },
   "outputs": [
    {
     "name": "stdout",
     "output_type": "stream",
     "text": [
      "args: Namespace(experiment_config_path='src/configs/PL3/Cos/both120.json', force_rerun=False, force_evaluate=False)\n",
      "python src/scripts/main.py  --add_bmi_neuron --add_race_neuron --add_sex_neuron --ageseq_event --class_bal --cuda --dev --dev_data_dir //vacrrdevmavdi01.vha.med.va.gov/MAVDEV1/Fillmore_Cancer/cat/Users/data_from_vinci/dvt_cancer_20230613/data_for_tf_model/processed/Phe_Lab/dev --device cuda:1 --disease_code_system phe_lab --dxseq_cos --epochs 25 --eval_auprc --eval_auroc --eval_batch_size 128 --filter_max_len --hidden_dim 64 --indseq_cos --init_lr 0.00125 --log_dir logs_transformer_vte/L/5_18 --lr_decay 0.3 --max_batches_per_dev_epoch 1000 --max_batches_per_train_epoch 2000 --max_days_before_index 1000 --max_eval_indices 1 --max_events_length 1000 --max_year_before_index 4 --model_dir snapshot_vte/L --model_name transformer --month_endpoints 3 --num_heads 1 --num_layers 8 --num_workers 0 --optimizer adam --pad_size 400 --pool_name Softmax_AttentionPool --start_at_dx_130 --start_noise_days --start_noise_len 20 --test --test_data_dir //vacrrdevmavdi01.vha.med.va.gov/MAVDEV1/Fillmore_Cancer/cat/Users/data_from_vinci/dvt_cancer_20230613/data_for_tf_model/processed/Phe_Lab/test --time_embed_dim 64 --time_seq_cos --train --train_batch_size 256 --train_data_dir //vacrrdevmavdi01.vha.med.va.gov/MAVDEV1/Fillmore_Cancer/cat/Users/data_from_vinci/dvt_cancer_20230613/data_for_tf_model/processed/Phe_Lab/train --tuning_metric 3day_auroc_c --use_age_embed --use_dxtime_embed --use_index_embed --use_time_embed --weight_decay 0.001 --log_name=3f51fb0c6cfcbdaf65439310a9de9d8c --log_dir=logs_transformer_vte/L/5_18\n"
     ]
    }
   ],
   "source": [
    "%run src/scripts/schedulers/expr_dispatcher.py --experiment-config-path src/configs/PL3/Cos/both120.json"
   ]
  },
  {
   "cell_type": "code",
   "execution_count": 3,
   "id": "11b45b78-c740-48d6-a208-d5ec73f49e01",
   "metadata": {
    "tags": []
   },
   "outputs": [
    {
     "name": "stdout",
     "output_type": "stream",
     "text": [
      "args: Namespace(experiment_config_path='src/configs/PL3/Sin/reSIN_90b.json', force_rerun=False, force_evaluate=False)\n",
      "python src/scripts/main.py  --add_bmi_neuron --add_race_neuron --add_sex_neuron --class_bal --cuda --dev --dev_data_dir //vacrrdevmavdi01.vha.med.va.gov/MAVDEV1/Fillmore_Cancer/cat/Users/data_from_vinci/dvt_cancer_20230613/data_for_tf_model/processed/Phe_Lab/dev --device cuda:1 --disease_code_system phe_lab --epochs 20 --eval_auprc --eval_auroc --eval_batch_size 128 --filter_max_len --hidden_dim 64 --init_lr 0.00125 --log_dir logs_transformer_vte/L/5_17 --lr_decay 0.3 --max_batches_per_dev_epoch 1000 --max_batches_per_train_epoch 2000 --max_days_before_index 1000 --max_eval_indices 1 --max_events_length 1000 --max_year_before_index 4 --model_dir snapshot_vte/L --model_name transformer --month_endpoints 3 --num_heads 1 --num_layers 8 --num_workers 0 --optimizer adam --pad_size 400 --pool_name Softmax_AttentionPool --start_at_dx_100 --start_noise_days --start_noise_len 20 --test --test_data_dir //vacrrdevmavdi01.vha.med.va.gov/MAVDEV1/Fillmore_Cancer/cat/Users/data_from_vinci/dvt_cancer_20230613/data_for_tf_model/processed/Phe_Lab/test --time_embed_dim 64 --train --train_batch_size 256 --train_data_dir //vacrrdevmavdi01.vha.med.va.gov/MAVDEV1/Fillmore_Cancer/cat/Users/data_from_vinci/dvt_cancer_20230613/data_for_tf_model/processed/Phe_Lab/train --tuning_metric 3day_auroc_c --use_age_embed --use_dxtime_embed --use_index_embed --use_time_embed --weight_decay 0.001 --log_name=99aae99d04e678117fc52530b687cf58 --log_dir=logs_transformer_vte/L/5_17\n"
     ]
    }
   ],
   "source": [
    "%run src/scripts/schedulers/expr_dispatcher.py --experiment-config-path src/configs/PL3/Sin/reSIN_90b.json"
   ]
  },
  {
   "cell_type": "code",
   "execution_count": null,
   "id": "b3f355c7-90a8-42bc-a968-79270dbbf050",
   "metadata": {
    "tags": []
   },
   "outputs": [
    {
     "name": "stdout",
     "output_type": "stream",
     "text": [
      "args: Namespace(experiment_config_path='src/configs/PL3/IT_DJ_180.json', force_rerun=False, force_evaluate=False)\n",
      "python src/scripts/main.py  --add_bmi_neuron --add_race_neuron --add_sex_neuron --ageseq_event --class_bal --cuda --dev --dev_data_dir //vacrrdevmavdi01.vha.med.va.gov/MAVDEV1/Fillmore_Cancer/cat/Users/data_from_vinci/dvt_cancer_20230613/data_for_tf_model/processed/Phe_Lab/dev --device cuda:1 --disease_code_system phe_lab --dxseq_J --epochs 25 --eval_auprc --eval_auroc --eval_batch_size 256 --filter_max_len --hidden_dim 64 --indseq_trunc --init_lr 0.0012 --log_dir logs_transformer_vte/L/5_15 --lr_decay 0.3 --max_batches_per_dev_epoch 1000 --max_batches_per_train_epoch 2000 --max_days_before_index 1000 --max_eval_indices 1 --max_events_length 1000 --max_year_before_index 4 --model_dir snapshot_vte/L --model_name transformer --month_endpoints 3 --num_heads 4 --num_layers 8 --num_workers 0 --optimizer adam --pad_size 400 --pool_name Softmax_AttentionPool --start_at_dx_200 --start_noise_days --start_noise_len 40 --test --test_data_dir //vacrrdevmavdi01.vha.med.va.gov/MAVDEV1/Fillmore_Cancer/cat/Users/data_from_vinci/dvt_cancer_20230613/data_for_tf_model/processed/Phe_Lab/test --time_embed_dim 64 --time_seq_cos --train --train_batch_size 256 --train_data_dir //vacrrdevmavdi01.vha.med.va.gov/MAVDEV1/Fillmore_Cancer/cat/Users/data_from_vinci/dvt_cancer_20230613/data_for_tf_model/processed/Phe_Lab/train --tuning_metric 3day_auroc_c --use_age_embed --use_dxtime_embed --use_index_embed --use_time_embed --weight_decay 0.001 --log_name=c17e7e23c62a837744894ada17a42de8 --log_dir=logs_transformer_vte/L/5_15\n"
     ]
    }
   ],
   "source": [
    "%run src/scripts/schedulers/expr_dispatcher.py --experiment-config-path src/configs/PL3/IT_DJ_180.json"
   ]
  },
  {
   "cell_type": "code",
   "execution_count": null,
   "id": "c207414b-2e73-4f5b-9a96-e31ab76733d1",
   "metadata": {},
   "outputs": [],
   "source": [
    "%run src/scripts/schedulers/expr_dispatcher.py --experiment-config-path src/configs/PL3/IT_DJ_120.json"
   ]
  },
  {
   "cell_type": "code",
   "execution_count": null,
   "id": "defa77b9-be23-4ede-a4b1-1531bc524b07",
   "metadata": {
    "tags": []
   },
   "outputs": [
    {
     "name": "stdout",
     "output_type": "stream",
     "text": [
      "args: Namespace(experiment_config_path='src/configs/PL3/IDT_360.json', force_rerun=False, force_evaluate=False)\n",
      "python src/scripts/main.py  --add_bmi_neuron --add_race_neuron --add_sex_neuron --ageseq_event --class_bal --cuda --dev --dev_data_dir //vacrrdevmavdi01.vha.med.va.gov/MAVDEV1/Fillmore_Cancer/cat/Users/data_from_vinci/dvt_cancer_20230613/data_for_tf_model/processed/Phe_Lab/dev --device cuda:1 --disease_code_system phe_lab --dxseq_trunc --epochs 25 --eval_auprc --eval_auroc --eval_batch_size 128 --filter_max_len --hidden_dim 64 --indseq_trunc --init_lr 0.00105 --log_dir logs_transformer_vte/L/5_12 --lr_decay 0.3 --max_batches_per_dev_epoch 1000 --max_batches_per_train_epoch 2000 --max_days_before_index 1000 --max_eval_indices 1 --max_events_length 1000 --max_year_before_index 4 --model_dir snapshot_vte/L --model_name transformer --month_endpoints 3 --num_heads 2 --num_layers 8 --num_workers 0 --optimizer adam --pad_size 400 --pool_name Softmax_AttentionPool --start_at_dx_400 --start_noise_days --start_noise_len 80 --test --test_data_dir //vacrrdevmavdi01.vha.med.va.gov/MAVDEV1/Fillmore_Cancer/cat/Users/data_from_vinci/dvt_cancer_20230613/data_for_tf_model/processed/Phe_Lab/test --time_embed_dim 64 --time_seq_cos --train --train_batch_size 256 --train_data_dir //vacrrdevmavdi01.vha.med.va.gov/MAVDEV1/Fillmore_Cancer/cat/Users/data_from_vinci/dvt_cancer_20230613/data_for_tf_model/processed/Phe_Lab/train --tuning_metric 3day_auroc_c --use_age_embed --use_dxtime_embed --use_index_embed --use_time_embed --weight_decay 0.001 --log_name=9e69348d7449fdf07b8b7451a3e629c9 --log_dir=logs_transformer_vte/L/5_12\n"
     ]
    }
   ],
   "source": [
    "%run src/scripts/schedulers/expr_dispatcher.py --experiment-config-path src/configs/PL3/IDT_360.json"
   ]
  },
  {
   "cell_type": "code",
   "execution_count": 3,
   "id": "e154f1c2-328d-42a6-a342-e4579a8083e5",
   "metadata": {
    "tags": []
   },
   "outputs": [
    {
     "name": "stdout",
     "output_type": "stream",
     "text": [
      "args: Namespace(experiment_config_path='src/configs/PL3/IJ_540_4H.json', force_rerun=False, force_evaluate=False)\n",
      "python src/scripts/main.py  --add_bmi_neuron --add_race_neuron --add_sex_neuron --ageseq_event --class_bal --cuda --dev --dev_data_dir //vacrrdevmavdi01.vha.med.va.gov/MAVDEV1/Fillmore_Cancer/cat/Users/data_from_vinci/dvt_cancer_20230613/data_for_tf_model/processed/Phe_Lab/dev --device cuda:1 --disease_code_system phe_lab --epochs 25 --eval_auprc --eval_auroc --eval_batch_size 256 --filter_max_len --hidden_dim 64 --indseq_J --init_lr 0.001 --log_dir logs_transformer_vte/L/5_12 --lr_decay 0.3 --max_batches_per_dev_epoch 1000 --max_batches_per_train_epoch 2000 --max_days_before_index 1000 --max_eval_indices 1 --max_events_length 1000 --max_year_before_index 4 --model_dir snapshot_vte/L --model_name transformer --month_endpoints 3 --num_heads 4 --num_layers 8 --num_workers 0 --optimizer adam --pad_size 400 --pool_name Softmax_AttentionPool --start_at_dx_600 --start_noise_days --start_noise_len 120 --test --test_data_dir //vacrrdevmavdi01.vha.med.va.gov/MAVDEV1/Fillmore_Cancer/cat/Users/data_from_vinci/dvt_cancer_20230613/data_for_tf_model/processed/Phe_Lab/test --time_embed_dim 64 --time_seq_cos --train --train_batch_size 256 --train_data_dir //vacrrdevmavdi01.vha.med.va.gov/MAVDEV1/Fillmore_Cancer/cat/Users/data_from_vinci/dvt_cancer_20230613/data_for_tf_model/processed/Phe_Lab/train --tuning_metric 3day_auroc_c --use_age_embed --use_index_embed --use_time_embed --weight_decay 0.0012 --log_name=ddf3f37891733ae2605c31b03da0cee5 --log_dir=logs_transformer_vte/L/5_12\n"
     ]
    },
    {
     "ename": "KeyboardInterrupt",
     "evalue": "",
     "output_type": "error",
     "traceback": [
      "\u001b[1;31m---------------------------------------------------------------------------\u001b[0m",
      "\u001b[1;31mKeyboardInterrupt\u001b[0m                         Traceback (most recent call last)",
      "File \u001b[1;32mG:\\FillmoreCancerData\\markhe\\VTERisk\\src\\scripts\\schedulers\\expr_dispatcher.py:94\u001b[0m\n\u001b[0;32m     89\u001b[0m job_list, _ \u001b[38;5;241m=\u001b[39m parsing\u001b[38;5;241m.\u001b[39mparse_dispatcher_config(config)\n\u001b[0;32m     91\u001b[0m \u001b[38;5;66;03m# print(job_list)\u001b[39;00m\n\u001b[0;32m     92\u001b[0m \n\u001b[0;32m     93\u001b[0m \u001b[38;5;66;03m# [print(params) for params in job_list]\u001b[39;00m\n\u001b[1;32m---> 94\u001b[0m [launch_experiment(gpu\u001b[38;5;241m=\u001b[39m\u001b[38;5;241m2\u001b[39m, flag_string\u001b[38;5;241m=\u001b[39m\u001b[38;5;28mstr\u001b[39m(params)) \u001b[38;5;28;01mfor\u001b[39;00m params \u001b[38;5;129;01min\u001b[39;00m job_list]\n\u001b[0;32m     95\u001b[0m \u001b[38;5;66;03m# launch_experiment(gpu=2, flag_string=job_list[0])\u001b[39;00m\n\u001b[0;32m     97\u001b[0m sys\u001b[38;5;241m.\u001b[39mexit(\u001b[38;5;241m0\u001b[39m)\n",
      "File \u001b[1;32mG:\\FillmoreCancerData\\markhe\\VTERisk\\src\\scripts\\schedulers\\expr_dispatcher.py:94\u001b[0m, in \u001b[0;36m<listcomp>\u001b[1;34m(.0)\u001b[0m\n\u001b[0;32m     89\u001b[0m job_list, _ \u001b[38;5;241m=\u001b[39m parsing\u001b[38;5;241m.\u001b[39mparse_dispatcher_config(config)\n\u001b[0;32m     91\u001b[0m \u001b[38;5;66;03m# print(job_list)\u001b[39;00m\n\u001b[0;32m     92\u001b[0m \n\u001b[0;32m     93\u001b[0m \u001b[38;5;66;03m# [print(params) for params in job_list]\u001b[39;00m\n\u001b[1;32m---> 94\u001b[0m [launch_experiment(gpu\u001b[38;5;241m=\u001b[39m\u001b[38;5;241m2\u001b[39m, flag_string\u001b[38;5;241m=\u001b[39m\u001b[38;5;28mstr\u001b[39m(params)) \u001b[38;5;28;01mfor\u001b[39;00m params \u001b[38;5;129;01min\u001b[39;00m job_list]\n\u001b[0;32m     95\u001b[0m \u001b[38;5;66;03m# launch_experiment(gpu=2, flag_string=job_list[0])\u001b[39;00m\n\u001b[0;32m     97\u001b[0m sys\u001b[38;5;241m.\u001b[39mexit(\u001b[38;5;241m0\u001b[39m)\n",
      "File \u001b[1;32mG:\\FillmoreCancerData\\markhe\\VTERisk\\src\\scripts\\schedulers\\expr_dispatcher.py:73\u001b[0m, in \u001b[0;36mlaunch_experiment\u001b[1;34m(gpu, flag_string)\u001b[0m\n\u001b[0;32m     70\u001b[0m         \u001b[38;5;28mprint\u001b[39m(\u001b[38;5;124m\"\u001b[39m\u001b[38;5;124m[WARNING] Overiding the alert \u001b[39m\u001b[38;5;132;01m{RESULTS_PATH_APPEAR_ERR}\u001b[39;00m\u001b[38;5;124m...\u001b[39m\u001b[38;5;124m\"\u001b[39m)\n\u001b[0;32m     72\u001b[0m \u001b[38;5;66;03m# pp.pprint(\"[CMD] Launched exp: {}\".format(shell_cmd))\u001b[39;00m\n\u001b[1;32m---> 73\u001b[0m os\u001b[38;5;241m.\u001b[39msystem(shell_cmd)\n",
      "\u001b[1;31mKeyboardInterrupt\u001b[0m: "
     ]
    }
   ],
   "source": [
    "%run src/scripts/schedulers/expr_dispatcher.py --experiment-config-path src/configs/PL3/IJ_540_4H.json"
   ]
  },
  {
   "cell_type": "code",
   "execution_count": null,
   "id": "11218219-057a-4768-801d-614f49153692",
   "metadata": {},
   "outputs": [],
   "source": []
  },
  {
   "cell_type": "code",
   "execution_count": null,
   "id": "6d514dac-c9cd-429a-8166-3ed93a4f1375",
   "metadata": {},
   "outputs": [],
   "source": []
  },
  {
   "cell_type": "code",
   "execution_count": null,
   "id": "2efcee87-e95f-4f6d-85b1-d200870efc77",
   "metadata": {},
   "outputs": [],
   "source": []
  },
  {
   "cell_type": "code",
   "execution_count": null,
   "id": "f9db44c2-2396-4a92-b1a0-42d65dcc3cca",
   "metadata": {},
   "outputs": [],
   "source": []
  },
  {
   "cell_type": "code",
   "execution_count": 2,
   "id": "abb847c3-8205-48a5-b91d-1346794773b6",
   "metadata": {
    "tags": []
   },
   "outputs": [
    {
     "name": "stdout",
     "output_type": "stream",
     "text": [
      "args: Namespace(experiment_config_path='src/configs/PL3/IJ_90.json', force_rerun=False, force_evaluate=False)\n",
      "python src/scripts/main.py  --add_bmi_neuron --add_race_neuron --add_sex_neuron --ageseq_event --class_bal --cuda --dev --dev_data_dir //vacrrdevmavdi01.vha.med.va.gov/MAVDEV1/Fillmore_Cancer/cat/Users/data_from_vinci/dvt_cancer_20230613/data_for_tf_model/processed/Phe_Lab/dev --device cuda:0 --disease_code_system phe_lab --epochs 25 --eval_auprc --eval_auroc --eval_batch_size 128 --filter_max_len --hidden_dim 64 --indseq_J --init_lr 0.001 --log_dir logs_transformer_vte/L/5_10 --lr_decay 0.3 --max_batches_per_dev_epoch 1000 --max_batches_per_train_epoch 2000 --max_days_before_index 1000 --max_eval_indices 1 --max_events_length 1000 --max_year_before_index 4 --model_dir snapshot_vte/L --model_name transformer --month_endpoints 3 --num_heads 2 --num_layers 8 --num_workers 0 --optimizer adam --pad_size 400 --pool_name Softmax_AttentionPool --start_at_dx_100 --start_noise_days --start_noise_len 20 --test --test_data_dir //vacrrdevmavdi01.vha.med.va.gov/MAVDEV1/Fillmore_Cancer/cat/Users/data_from_vinci/dvt_cancer_20230613/data_for_tf_model/processed/Phe_Lab/test --time_embed_dim 64 --time_seq_cos --train --train_batch_size 256 --train_data_dir //vacrrdevmavdi01.vha.med.va.gov/MAVDEV1/Fillmore_Cancer/cat/Users/data_from_vinci/dvt_cancer_20230613/data_for_tf_model/processed/Phe_Lab/train --tuning_metric 3day_auroc_c --use_age_embed --use_index_embed --use_time_embed --weight_decay 0.001 --log_name=ffe8d453c9149404d49d8f65fd0cddcb --log_dir=logs_transformer_vte/L/5_10\n"
     ]
    }
   ],
   "source": [
    "%run src/scripts/schedulers/expr_dispatcher.py --experiment-config-path src/configs/PL3/IJ_90.json"
   ]
  },
  {
   "cell_type": "code",
   "execution_count": 2,
   "id": "f016e347-0a72-470b-b04d-9500926f2527",
   "metadata": {
    "tags": []
   },
   "outputs": [
    {
     "name": "stdout",
     "output_type": "stream",
     "text": [
      "args: Namespace(experiment_config_path='src/configs/PL3/IJ_90.json', force_rerun=False, force_evaluate=False)\n",
      "python src/scripts/main.py  --add_bmi_neuron --add_race_neuron --add_sex_neuron --ageseq_event --class_bal --cuda --dev --dev_data_dir //vacrrdevmavdi01.vha.med.va.gov/MAVDEV1/Fillmore_Cancer/cat/Users/data_from_vinci/dvt_cancer_20230613/data_for_tf_model/processed/Phe_Lab/dev --device cuda:0 --disease_code_system phe_lab --epochs 25 --eval_auprc --eval_auroc --eval_batch_size 128 --filter_max_len --hidden_dim 64 --indseq_J --init_lr 0.001 --log_dir logs_transformer_vte/L/5_10 --lr_decay 0.3 --max_batches_per_dev_epoch 1000 --max_batches_per_train_epoch 2000 --max_days_before_index 1000 --max_eval_indices 1 --max_events_length 1000 --max_year_before_index 4 --model_dir snapshot_vte/L --model_name transformer --month_endpoints 3 --num_heads 2 --num_layers 8 --num_workers 0 --optimizer adam --pad_size 400 --pool_name Softmax_AttentionPool --start_at_dx_100 --start_noise_days --start_noise_len 20 --test --test_data_dir //vacrrdevmavdi01.vha.med.va.gov/MAVDEV1/Fillmore_Cancer/cat/Users/data_from_vinci/dvt_cancer_20230613/data_for_tf_model/processed/Phe_Lab/test --time_embed_dim 64 --time_seq_cos --train --train_batch_size 256 --train_data_dir //vacrrdevmavdi01.vha.med.va.gov/MAVDEV1/Fillmore_Cancer/cat/Users/data_from_vinci/dvt_cancer_20230613/data_for_tf_model/processed/Phe_Lab/train --tuning_metric 3day_auroc_c --use_age_embed --use_index_embed --use_time_embed --weight_decay 0.001 --log_name=ffe8d453c9149404d49d8f65fd0cddcb --log_dir=logs_transformer_vte/L/5_10\n"
     ]
    }
   ],
   "source": [
    "%run src/scripts/schedulers/expr_dispatcher.py --experiment-config-path src/configs/PL3/IJ_90.json"
   ]
  },
  {
   "cell_type": "code",
   "execution_count": 4,
   "id": "1be3eaba-aad7-4b47-8fc3-4387cd2a78b8",
   "metadata": {
    "tags": []
   },
   "outputs": [
    {
     "name": "stdout",
     "output_type": "stream",
     "text": [
      "args: Namespace(experiment_config_path='src/configs/PL3/Test_JJ200.json', force_rerun=False, force_evaluate=False)\n",
      "python src/scripts/main.py  --add_bmi_neuron --add_race_neuron --add_sex_neuron --ageseq_event --class_bal --code_to_index_file snapshot_vte/L/5f34c81a8f11a1439dfc018fc70a0a3b.code_map --device cpu --disease_code_system phe_lab --dxseq_J --epochs 1 --eval_auprc --eval_auroc --eval_batch_size 128 --filter_max_len --hidden_dim 64 --indseq_J --init_lr 0.00125 --log_dir logs_transformer_vte/L/5_11/test --lr_decay 0.3 --max_batches_per_dev_epoch 1000 --max_batches_per_train_epoch 2000 --max_days_before_index 1000 --max_eval_indices 1 --max_events_length 1000 --max_year_before_index 4 --model_dir snapshot_vte/L --model_name transformer --month_endpoints 3 --num_heads 1 --num_layers 8 --num_workers 0 --optimizer adam --pad_size 400 --pool_name Softmax_AttentionPool --snapshot snapshot_vte/L/model_5f34c81a8f11a1439dfc018fc70a0a3b_model.pt --start_at_dx_200 --start_noise_days --start_noise_len 1 --test --test_data_dir //vacrrdevmavdi01.vha.med.va.gov/MAVDEV1/Fillmore_Cancer/cat/Users/data_from_vinci/dvt_cancer_20230613/data_for_tf_model/processed/Phe_Lab/test --time_embed_dim 64 --time_seq_cos --train_batch_size 256 --tuning_metric 3day_auroc_c --use_age_embed --use_dxtime_embed --use_index_embed --use_time_embed --weight_decay 0.001 --log_name=c2145a11b16d81856f1a2a051ba15a9d --log_dir=logs_transformer_vte/L/5_11/test\n"
     ]
    }
   ],
   "source": [
    "%run src/scripts/schedulers/expr_dispatcher.py --experiment-config-path src/configs/PL3/Test_JJ200.json"
   ]
  },
  {
   "cell_type": "code",
   "execution_count": 1,
   "id": "f8f3b5d7-c4a1-4c6d-a5ab-cae1a3a04712",
   "metadata": {
    "tags": []
   },
   "outputs": [
    {
     "name": "stdout",
     "output_type": "stream",
     "text": [
      "args: Namespace(experiment_config_path='src/configs/PL3/DJ_900.json', force_rerun=False, force_evaluate=False)\n",
      "python src/scripts/main.py  --add_bmi_neuron --add_race_neuron --add_sex_neuron --ageseq_event --class_bal --cuda --dev --dev_data_dir //vacrrdevmavdi01.vha.med.va.gov/MAVDEV1/Fillmore_Cancer/cat/Users/data_from_vinci/dvt_cancer_20230613/data_for_tf_model/processed/Phe_Lab/dev --device cuda:0 --disease_code_system phe_lab --dxseq_J --epochs 20 --eval_auprc --eval_auroc --eval_batch_size 128 --filter_max_len --hidden_dim 64 --init_lr 0.001 --log_dir logs_transformer_vte/L/5_8 --lr_decay 0.2 --max_batches_per_dev_epoch 1000 --max_batches_per_train_epoch 2000 --max_days_before_index 1000 --max_eval_indices 1 --max_events_length 1000 --max_year_before_index 4 --model_dir snapshot_vte/L --model_name transformer --month_endpoints 3 --num_heads 2 --num_layers 8 --num_workers 0 --optimizer adam --pad_size 400 --pool_name Softmax_AttentionPool --start_at_dx_1000 --start_noise_days --start_noise_len 200 --test --test_data_dir //vacrrdevmavdi01.vha.med.va.gov/MAVDEV1/Fillmore_Cancer/cat/Users/data_from_vinci/dvt_cancer_20230613/data_for_tf_model/processed/Phe_Lab/test --time_embed_dim 64 --time_seq_cos --train --train_batch_size 256 --train_data_dir //vacrrdevmavdi01.vha.med.va.gov/MAVDEV1/Fillmore_Cancer/cat/Users/data_from_vinci/dvt_cancer_20230613/data_for_tf_model/processed/Phe_Lab/train --tuning_metric 3day_auroc_c --use_age_embed --use_dxtime_embed --use_time_embed --weight_decay 0.001 --log_name=478066259c3b6fbbd0cc3914cc36b517 --log_dir=logs_transformer_vte/L/5_8\n"
     ]
    }
   ],
   "source": [
    "%run src/scripts/schedulers/expr_dispatcher.py --experiment-config-path src/configs/PL3/DJ_900.json"
   ]
  },
  {
   "cell_type": "code",
   "execution_count": 2,
   "id": "2f47631a-8504-4389-8c4d-ae61301e9ef3",
   "metadata": {
    "tags": []
   },
   "outputs": [
    {
     "name": "stdout",
     "output_type": "stream",
     "text": [
      "args: Namespace(experiment_config_path='src/configs/PL3/IJ_90.json', force_rerun=False, force_evaluate=False)\n",
      "python src/scripts/main.py  --add_bmi_neuron --add_race_neuron --add_sex_neuron --ageseq_event --class_bal --cuda --dev --dev_data_dir //vacrrdevmavdi01.vha.med.va.gov/MAVDEV1/Fillmore_Cancer/cat/Users/data_from_vinci/dvt_cancer_20230613/data_for_tf_model/processed/Phe_Lab/dev --device cuda:0 --disease_code_system phe_lab --epochs 25 --eval_auprc --eval_auroc --eval_batch_size 128 --filter_max_len --hidden_dim 64 --indseq_J --init_lr 0.001 --log_dir logs_transformer_vte/L/5_10 --lr_decay 0.3 --max_batches_per_dev_epoch 1000 --max_batches_per_train_epoch 2000 --max_days_before_index 1000 --max_eval_indices 1 --max_events_length 1000 --max_year_before_index 4 --model_dir snapshot_vte/L --model_name transformer --month_endpoints 3 --num_heads 2 --num_layers 8 --num_workers 0 --optimizer adam --pad_size 400 --pool_name Softmax_AttentionPool --start_at_dx_100 --start_noise_days --start_noise_len 20 --test --test_data_dir //vacrrdevmavdi01.vha.med.va.gov/MAVDEV1/Fillmore_Cancer/cat/Users/data_from_vinci/dvt_cancer_20230613/data_for_tf_model/processed/Phe_Lab/test --time_embed_dim 64 --time_seq_cos --train --train_batch_size 256 --train_data_dir //vacrrdevmavdi01.vha.med.va.gov/MAVDEV1/Fillmore_Cancer/cat/Users/data_from_vinci/dvt_cancer_20230613/data_for_tf_model/processed/Phe_Lab/train --tuning_metric 3day_auroc_c --use_age_embed --use_index_embed --use_time_embed --weight_decay 0.001 --log_name=ffe8d453c9149404d49d8f65fd0cddcb --log_dir=logs_transformer_vte/L/5_10\n"
     ]
    }
   ],
   "source": [
    "%run src/scripts/schedulers/expr_dispatcher.py --experiment-config-path src/configs/PL3/IJ_90.json"
   ]
  },
  {
   "cell_type": "code",
   "execution_count": 3,
   "id": "5bde6b9a-9024-4810-b473-aa6c4957b5b0",
   "metadata": {
    "tags": []
   },
   "outputs": [
    {
     "name": "stdout",
     "output_type": "stream",
     "text": [
      "args: Namespace(experiment_config_path='src/configs/PL3/DJ_90.json', force_rerun=False, force_evaluate=False)\n",
      "python src/scripts/main.py  --add_bmi_neuron --add_race_neuron --add_sex_neuron --ageseq_event --class_bal --cuda --dev --dev_data_dir //vacrrdevmavdi01.vha.med.va.gov/MAVDEV1/Fillmore_Cancer/cat/Users/data_from_vinci/dvt_cancer_20230613/data_for_tf_model/processed/Phe_Lab/dev --device cuda:0 --disease_code_system phe_lab --dxseq_J --epochs 25 --eval_auprc --eval_auroc --eval_batch_size 128 --filter_max_len --hidden_dim 64 --init_lr 0.001 --log_dir logs_transformer_vte/L/5_10 --lr_decay 0.3 --max_batches_per_dev_epoch 1000 --max_batches_per_train_epoch 2000 --max_days_before_index 1000 --max_eval_indices 1 --max_events_length 1000 --max_year_before_index 4 --model_dir snapshot_vte/L --model_name transformer --month_endpoints 3 --num_heads 2 --num_layers 8 --num_workers 0 --optimizer adam --pad_size 400 --pool_name Softmax_AttentionPool --start_at_dx_100 --start_noise_days --start_noise_len 20 --test --test_data_dir //vacrrdevmavdi01.vha.med.va.gov/MAVDEV1/Fillmore_Cancer/cat/Users/data_from_vinci/dvt_cancer_20230613/data_for_tf_model/processed/Phe_Lab/test --time_embed_dim 64 --time_seq_cos --train --train_batch_size 256 --train_data_dir //vacrrdevmavdi01.vha.med.va.gov/MAVDEV1/Fillmore_Cancer/cat/Users/data_from_vinci/dvt_cancer_20230613/data_for_tf_model/processed/Phe_Lab/train --tuning_metric 3day_auroc_c --use_age_embed --use_dxtime_embed --use_time_embed --weight_decay 0.001 --log_name=5ba79c0b31d8c1171cd962e536317be5 --log_dir=logs_transformer_vte/L/5_10\n"
     ]
    },
    {
     "ename": "KeyboardInterrupt",
     "evalue": "",
     "output_type": "error",
     "traceback": [
      "\u001b[1;31m---------------------------------------------------------------------------\u001b[0m",
      "\u001b[1;31mKeyboardInterrupt\u001b[0m                         Traceback (most recent call last)",
      "File \u001b[1;32mG:\\FillmoreCancerData\\markhe\\VTERisk\\src\\scripts\\schedulers\\expr_dispatcher.py:94\u001b[0m\n\u001b[0;32m     89\u001b[0m job_list, _ \u001b[38;5;241m=\u001b[39m parsing\u001b[38;5;241m.\u001b[39mparse_dispatcher_config(config)\n\u001b[0;32m     91\u001b[0m \u001b[38;5;66;03m# print(job_list)\u001b[39;00m\n\u001b[0;32m     92\u001b[0m \n\u001b[0;32m     93\u001b[0m \u001b[38;5;66;03m# [print(params) for params in job_list]\u001b[39;00m\n\u001b[1;32m---> 94\u001b[0m [launch_experiment(gpu\u001b[38;5;241m=\u001b[39m\u001b[38;5;241m2\u001b[39m, flag_string\u001b[38;5;241m=\u001b[39m\u001b[38;5;28mstr\u001b[39m(params)) \u001b[38;5;28;01mfor\u001b[39;00m params \u001b[38;5;129;01min\u001b[39;00m job_list]\n\u001b[0;32m     95\u001b[0m \u001b[38;5;66;03m# launch_experiment(gpu=2, flag_string=job_list[0])\u001b[39;00m\n\u001b[0;32m     97\u001b[0m sys\u001b[38;5;241m.\u001b[39mexit(\u001b[38;5;241m0\u001b[39m)\n",
      "File \u001b[1;32mG:\\FillmoreCancerData\\markhe\\VTERisk\\src\\scripts\\schedulers\\expr_dispatcher.py:94\u001b[0m, in \u001b[0;36m<listcomp>\u001b[1;34m(.0)\u001b[0m\n\u001b[0;32m     89\u001b[0m job_list, _ \u001b[38;5;241m=\u001b[39m parsing\u001b[38;5;241m.\u001b[39mparse_dispatcher_config(config)\n\u001b[0;32m     91\u001b[0m \u001b[38;5;66;03m# print(job_list)\u001b[39;00m\n\u001b[0;32m     92\u001b[0m \n\u001b[0;32m     93\u001b[0m \u001b[38;5;66;03m# [print(params) for params in job_list]\u001b[39;00m\n\u001b[1;32m---> 94\u001b[0m [launch_experiment(gpu\u001b[38;5;241m=\u001b[39m\u001b[38;5;241m2\u001b[39m, flag_string\u001b[38;5;241m=\u001b[39m\u001b[38;5;28mstr\u001b[39m(params)) \u001b[38;5;28;01mfor\u001b[39;00m params \u001b[38;5;129;01min\u001b[39;00m job_list]\n\u001b[0;32m     95\u001b[0m \u001b[38;5;66;03m# launch_experiment(gpu=2, flag_string=job_list[0])\u001b[39;00m\n\u001b[0;32m     97\u001b[0m sys\u001b[38;5;241m.\u001b[39mexit(\u001b[38;5;241m0\u001b[39m)\n",
      "File \u001b[1;32mG:\\FillmoreCancerData\\markhe\\VTERisk\\src\\scripts\\schedulers\\expr_dispatcher.py:73\u001b[0m, in \u001b[0;36mlaunch_experiment\u001b[1;34m(gpu, flag_string)\u001b[0m\n\u001b[0;32m     70\u001b[0m         \u001b[38;5;28mprint\u001b[39m(\u001b[38;5;124m\"\u001b[39m\u001b[38;5;124m[WARNING] Overiding the alert \u001b[39m\u001b[38;5;132;01m{RESULTS_PATH_APPEAR_ERR}\u001b[39;00m\u001b[38;5;124m...\u001b[39m\u001b[38;5;124m\"\u001b[39m)\n\u001b[0;32m     72\u001b[0m \u001b[38;5;66;03m# pp.pprint(\"[CMD] Launched exp: {}\".format(shell_cmd))\u001b[39;00m\n\u001b[1;32m---> 73\u001b[0m os\u001b[38;5;241m.\u001b[39msystem(shell_cmd)\n",
      "\u001b[1;31mKeyboardInterrupt\u001b[0m: "
     ]
    }
   ],
   "source": [
    "%run src/scripts/schedulers/expr_dispatcher.py --experiment-config-path src/configs/PL3/DJ_90.json"
   ]
  },
  {
   "cell_type": "code",
   "execution_count": null,
   "id": "293f54f4-6407-4a02-b953-66747c258e44",
   "metadata": {},
   "outputs": [],
   "source": []
  },
  {
   "cell_type": "code",
   "execution_count": 1,
   "id": "7cc96cec-da79-49cc-980e-0dd645316b21",
   "metadata": {
    "tags": []
   },
   "outputs": [
    {
     "name": "stdout",
     "output_type": "stream",
     "text": [
      "args: Namespace(experiment_config_path='src/configs/PL3/JK_360.json', force_rerun=False, force_evaluate=False)\n",
      "python src/scripts/main.py  --add_bmi_neuron --add_race_neuron --add_sex_neuron --ageseq_event --class_bal --cuda --dev --dev_data_dir //vacrrdevmavdi01.vha.med.va.gov/MAVDEV1/Fillmore_Cancer/cat/Users/data_from_vinci/dvt_cancer_20230613/data_for_tf_model/processed/Phe_Lab/dev --device cuda:1 --disease_code_system phe_lab --dxseq_J --epochs 20 --eval_auprc --eval_auroc --eval_batch_size 128 --filter_max_len --hidden_dim 64 --indseq_K --init_lr 0.001 --log_dir logs_transformer_vte/L/5_7 --lr_decay 0.2 --max_batches_per_dev_epoch 1000 --max_batches_per_train_epoch 2000 --max_days_before_index 1000 --max_eval_indices 1 --max_events_length 1000 --max_year_before_index 4 --model_dir snapshot_vte/L --model_name transformer --month_endpoints 3 --num_heads 2 --num_layers 8 --num_workers 0 --optimizer adam --pad_size 400 --pool_name Softmax_AttentionPool --start_at_dx_400 --start_noise_days --start_noise_len 80 --test --test_data_dir //vacrrdevmavdi01.vha.med.va.gov/MAVDEV1/Fillmore_Cancer/cat/Users/data_from_vinci/dvt_cancer_20230613/data_for_tf_model/processed/Phe_Lab/test --time_embed_dim 64 --time_seq_cos --train --train_batch_size 256 --train_data_dir //vacrrdevmavdi01.vha.med.va.gov/MAVDEV1/Fillmore_Cancer/cat/Users/data_from_vinci/dvt_cancer_20230613/data_for_tf_model/processed/Phe_Lab/train --tuning_metric 3day_auroc_c --use_age_embed --use_dxtime_embed --use_index_embed --use_time_embed --weight_decay 0.001 --log_name=c010746ececb8766042179a5520e2182 --log_dir=logs_transformer_vte/L/5_7\n"
     ]
    }
   ],
   "source": [
    "%run src/scripts/schedulers/expr_dispatcher.py --experiment-config-path src/configs/PL3/JK_360.json"
   ]
  },
  {
   "cell_type": "code",
   "execution_count": 2,
   "id": "33826a7d-0d79-4d34-b74b-b058c52c3529",
   "metadata": {
    "tags": []
   },
   "outputs": [
    {
     "name": "stdout",
     "output_type": "stream",
     "text": [
      "args: Namespace(experiment_config_path='src/configs/PL3/DJ_540.json', force_rerun=False, force_evaluate=False)\n",
      "python src/scripts/main.py  --add_bmi_neuron --add_race_neuron --add_sex_neuron --ageseq_event --class_bal --cuda --dev --dev_data_dir //vacrrdevmavdi01.vha.med.va.gov/MAVDEV1/Fillmore_Cancer/cat/Users/data_from_vinci/dvt_cancer_20230613/data_for_tf_model/processed/Phe_Lab/dev --device cuda:1 --disease_code_system phe_lab --dxseq_J1 --epochs 20 --eval_auprc --eval_auroc --eval_batch_size 128 --filter_max_len --hidden_dim 64 --init_lr 0.001 --log_dir logs_transformer_vte/L/5_8 --lr_decay 0.2 --max_batches_per_dev_epoch 1000 --max_batches_per_train_epoch 2000 --max_days_before_index 1000 --max_eval_indices 1 --max_events_length 1000 --max_year_before_index 4 --model_dir snapshot_vte/L --model_name transformer --month_endpoints 3 --num_heads 1 --num_layers 8 --num_workers 0 --optimizer adam --pad_size 400 --pool_name Softmax_AttentionPool --start_at_dx_600 --start_noise_days --start_noise_len 120 --test --test_data_dir //vacrrdevmavdi01.vha.med.va.gov/MAVDEV1/Fillmore_Cancer/cat/Users/data_from_vinci/dvt_cancer_20230613/data_for_tf_model/processed/Phe_Lab/test --time_embed_dim 64 --time_seq_cos --train --train_batch_size 256 --train_data_dir //vacrrdevmavdi01.vha.med.va.gov/MAVDEV1/Fillmore_Cancer/cat/Users/data_from_vinci/dvt_cancer_20230613/data_for_tf_model/processed/Phe_Lab/train --tuning_metric 3day_auroc_c --use_age_embed --use_dxtime_embed --use_time_embed --weight_decay 0.001 --log_name=3c50a99cd20adaeb75963d8fdb96fb0a --log_dir=logs_transformer_vte/L/5_8\n"
     ]
    },
    {
     "ename": "KeyboardInterrupt",
     "evalue": "",
     "output_type": "error",
     "traceback": [
      "\u001b[1;31m---------------------------------------------------------------------------\u001b[0m",
      "\u001b[1;31mKeyboardInterrupt\u001b[0m                         Traceback (most recent call last)",
      "File \u001b[1;32mG:\\FillmoreCancerData\\markhe\\VTERisk\\src\\scripts\\schedulers\\expr_dispatcher.py:94\u001b[0m\n\u001b[0;32m     89\u001b[0m job_list, _ \u001b[38;5;241m=\u001b[39m parsing\u001b[38;5;241m.\u001b[39mparse_dispatcher_config(config)\n\u001b[0;32m     91\u001b[0m \u001b[38;5;66;03m# print(job_list)\u001b[39;00m\n\u001b[0;32m     92\u001b[0m \n\u001b[0;32m     93\u001b[0m \u001b[38;5;66;03m# [print(params) for params in job_list]\u001b[39;00m\n\u001b[1;32m---> 94\u001b[0m [launch_experiment(gpu\u001b[38;5;241m=\u001b[39m\u001b[38;5;241m2\u001b[39m, flag_string\u001b[38;5;241m=\u001b[39m\u001b[38;5;28mstr\u001b[39m(params)) \u001b[38;5;28;01mfor\u001b[39;00m params \u001b[38;5;129;01min\u001b[39;00m job_list]\n\u001b[0;32m     95\u001b[0m \u001b[38;5;66;03m# launch_experiment(gpu=2, flag_string=job_list[0])\u001b[39;00m\n\u001b[0;32m     97\u001b[0m sys\u001b[38;5;241m.\u001b[39mexit(\u001b[38;5;241m0\u001b[39m)\n",
      "File \u001b[1;32mG:\\FillmoreCancerData\\markhe\\VTERisk\\src\\scripts\\schedulers\\expr_dispatcher.py:94\u001b[0m, in \u001b[0;36m<listcomp>\u001b[1;34m(.0)\u001b[0m\n\u001b[0;32m     89\u001b[0m job_list, _ \u001b[38;5;241m=\u001b[39m parsing\u001b[38;5;241m.\u001b[39mparse_dispatcher_config(config)\n\u001b[0;32m     91\u001b[0m \u001b[38;5;66;03m# print(job_list)\u001b[39;00m\n\u001b[0;32m     92\u001b[0m \n\u001b[0;32m     93\u001b[0m \u001b[38;5;66;03m# [print(params) for params in job_list]\u001b[39;00m\n\u001b[1;32m---> 94\u001b[0m [launch_experiment(gpu\u001b[38;5;241m=\u001b[39m\u001b[38;5;241m2\u001b[39m, flag_string\u001b[38;5;241m=\u001b[39m\u001b[38;5;28mstr\u001b[39m(params)) \u001b[38;5;28;01mfor\u001b[39;00m params \u001b[38;5;129;01min\u001b[39;00m job_list]\n\u001b[0;32m     95\u001b[0m \u001b[38;5;66;03m# launch_experiment(gpu=2, flag_string=job_list[0])\u001b[39;00m\n\u001b[0;32m     97\u001b[0m sys\u001b[38;5;241m.\u001b[39mexit(\u001b[38;5;241m0\u001b[39m)\n",
      "File \u001b[1;32mG:\\FillmoreCancerData\\markhe\\VTERisk\\src\\scripts\\schedulers\\expr_dispatcher.py:73\u001b[0m, in \u001b[0;36mlaunch_experiment\u001b[1;34m(gpu, flag_string)\u001b[0m\n\u001b[0;32m     70\u001b[0m         \u001b[38;5;28mprint\u001b[39m(\u001b[38;5;124m\"\u001b[39m\u001b[38;5;124m[WARNING] Overiding the alert \u001b[39m\u001b[38;5;132;01m{RESULTS_PATH_APPEAR_ERR}\u001b[39;00m\u001b[38;5;124m...\u001b[39m\u001b[38;5;124m\"\u001b[39m)\n\u001b[0;32m     72\u001b[0m \u001b[38;5;66;03m# pp.pprint(\"[CMD] Launched exp: {}\".format(shell_cmd))\u001b[39;00m\n\u001b[1;32m---> 73\u001b[0m os\u001b[38;5;241m.\u001b[39msystem(shell_cmd)\n",
      "\u001b[1;31mKeyboardInterrupt\u001b[0m: "
     ]
    }
   ],
   "source": [
    "%run src/scripts/schedulers/expr_dispatcher.py --experiment-config-path src/configs/PL3/DJ_540.json"
   ]
  },
  {
   "cell_type": "code",
   "execution_count": null,
   "id": "e5717f6d-5e7a-49aa-a6d3-d45fb1ed8338",
   "metadata": {
    "tags": []
   },
   "outputs": [
    {
     "name": "stdout",
     "output_type": "stream",
     "text": [
      "args: Namespace(experiment_config_path='src/configs/PL3/TRUNC_Test90.json', force_rerun=False, force_evaluate=False)\n",
      "python src/scripts/main.py  --add_bmi_neuron --add_race_neuron --add_sex_neuron --ageseq_event --class_bal --dev --dev_data_dir //vacrrdevmavdi01.vha.med.va.gov/MAVDEV1/Fillmore_Cancer/cat/Users/data_from_vinci/dvt_cancer_20230613/data_for_tf_model/processed/Phe_Lab/dev --device cpu --disease_code_system phe_lab --epochs 5 --eval_auprc --eval_auroc --eval_batch_size 128 --filter_max_len --hidden_dim 64 --indseq_trunc --init_lr 0.001 --log_dir logs_transformer_vte/L/5_7 --lr_decay 0.3 --max_batches_per_dev_epoch 1000 --max_batches_per_train_epoch 2000 --max_days_before_index 1000 --max_eval_indices 1 --max_events_length 1000 --max_year_before_index 4 --model_dir snapshot_vte/L --model_name transformer --month_endpoints 3 --num_heads 2 --num_layers 8 --num_workers 0 --optimizer adam --pad_size 400 --pool_name Softmax_AttentionPool --start_at_dx_100 --start_noise_days --start_noise_len 20 --test --test_data_dir //vacrrdevmavdi01.vha.med.va.gov/MAVDEV1/Fillmore_Cancer/cat/Users/data_from_vinci/dvt_cancer_20230613/data_for_tf_model/processed/Phe_Lab/test --time_embed_dim 64 --time_seq_cos --train --train_batch_size 256 --train_data_dir //vacrrdevmavdi01.vha.med.va.gov/MAVDEV1/Fillmore_Cancer/cat/Users/data_from_vinci/dvt_cancer_20230613/data_for_tf_model/processed/Phe_Lab/train --tuning_metric 3day_auroc_c --use_age_embed --use_index_embed --use_time_embed --weight_decay 0.001 --log_name=c7ab57d79b9142827abc0413aab517bc --log_dir=logs_transformer_vte/L/5_7\n"
     ]
    }
   ],
   "source": [
    "%run src/scripts/schedulers/expr_dispatcher.py --experiment-config-path src/configs/PL3/TRUNC_Test90.json"
   ]
  },
  {
   "cell_type": "code",
   "execution_count": null,
   "id": "dfbcdb9a-c2da-43ac-a9a9-a38709e58d30",
   "metadata": {},
   "outputs": [],
   "source": []
  },
  {
   "cell_type": "code",
   "execution_count": 1,
   "id": "7134ea40-d432-4fc7-817e-2bb1d5a5da51",
   "metadata": {
    "tags": []
   },
   "outputs": [
    {
     "name": "stdout",
     "output_type": "stream",
     "text": [
      "args: Namespace(experiment_config_path='src/configs/PL3/BL_360.json', force_rerun=False, force_evaluate=False)\n",
      "python src/scripts/main.py  --add_bmi_neuron --add_race_neuron --add_sex_neuron --ageseq_event --class_bal --cuda --dev --dev_data_dir //vacrrdevmavdi01.vha.med.va.gov/MAVDEV1/Fillmore_Cancer/cat/Users/data_from_vinci/dvt_cancer_20230613/data_for_tf_model/processed/Phe_Lab/dev --device cuda:0 --disease_code_system phe_lab --dxseq_cos --epochs 25 --eval_auprc --eval_auroc --eval_batch_size 128 --filter_max_len --hidden_dim 64 --indseq_cos --init_lr 0.001 --log_dir logs_transformer_vte/L/5_6 --lr_decay 0.3 --max_batches_per_dev_epoch 1000 --max_batches_per_train_epoch 2000 --max_days_before_index 1000 --max_eval_indices 1 --max_events_length 1000 --max_year_before_index 4 --model_dir snapshot_vte/L --model_name transformer --month_endpoints 3 --num_heads 2 --num_layers 8 --num_workers 0 --optimizer adam --pad_size 400 --pool_name Softmax_AttentionPool --start_at_dx_400 --start_noise_days --start_noise_len 80 --test --test_data_dir //vacrrdevmavdi01.vha.med.va.gov/MAVDEV1/Fillmore_Cancer/cat/Users/data_from_vinci/dvt_cancer_20230613/data_for_tf_model/processed/Phe_Lab/test --time_embed_dim 64 --time_seq_cos --train --train_batch_size 256 --train_data_dir //vacrrdevmavdi01.vha.med.va.gov/MAVDEV1/Fillmore_Cancer/cat/Users/data_from_vinci/dvt_cancer_20230613/data_for_tf_model/processed/Phe_Lab/train --tuning_metric 3day_auroc_c --use_age_embed --use_dxtime_embed --use_index_embed --use_time_embed --weight_decay 0.001 --log_name=9c86974aceb8ca1f26c0bb92857fe676 --log_dir=logs_transformer_vte/L/5_6\n"
     ]
    },
    {
     "ename": "KeyboardInterrupt",
     "evalue": "",
     "output_type": "error",
     "traceback": [
      "\u001b[1;31m---------------------------------------------------------------------------\u001b[0m",
      "\u001b[1;31mKeyboardInterrupt\u001b[0m                         Traceback (most recent call last)",
      "File \u001b[1;32mG:\\FillmoreCancerData\\markhe\\VTERisk\\src\\scripts\\schedulers\\expr_dispatcher.py:94\u001b[0m\n\u001b[0;32m     89\u001b[0m job_list, _ \u001b[38;5;241m=\u001b[39m parsing\u001b[38;5;241m.\u001b[39mparse_dispatcher_config(config)\n\u001b[0;32m     91\u001b[0m \u001b[38;5;66;03m# print(job_list)\u001b[39;00m\n\u001b[0;32m     92\u001b[0m \n\u001b[0;32m     93\u001b[0m \u001b[38;5;66;03m# [print(params) for params in job_list]\u001b[39;00m\n\u001b[1;32m---> 94\u001b[0m [launch_experiment(gpu\u001b[38;5;241m=\u001b[39m\u001b[38;5;241m2\u001b[39m, flag_string\u001b[38;5;241m=\u001b[39m\u001b[38;5;28mstr\u001b[39m(params)) \u001b[38;5;28;01mfor\u001b[39;00m params \u001b[38;5;129;01min\u001b[39;00m job_list]\n\u001b[0;32m     95\u001b[0m \u001b[38;5;66;03m# launch_experiment(gpu=2, flag_string=job_list[0])\u001b[39;00m\n\u001b[0;32m     97\u001b[0m sys\u001b[38;5;241m.\u001b[39mexit(\u001b[38;5;241m0\u001b[39m)\n",
      "File \u001b[1;32mG:\\FillmoreCancerData\\markhe\\VTERisk\\src\\scripts\\schedulers\\expr_dispatcher.py:94\u001b[0m, in \u001b[0;36m<listcomp>\u001b[1;34m(.0)\u001b[0m\n\u001b[0;32m     89\u001b[0m job_list, _ \u001b[38;5;241m=\u001b[39m parsing\u001b[38;5;241m.\u001b[39mparse_dispatcher_config(config)\n\u001b[0;32m     91\u001b[0m \u001b[38;5;66;03m# print(job_list)\u001b[39;00m\n\u001b[0;32m     92\u001b[0m \n\u001b[0;32m     93\u001b[0m \u001b[38;5;66;03m# [print(params) for params in job_list]\u001b[39;00m\n\u001b[1;32m---> 94\u001b[0m [launch_experiment(gpu\u001b[38;5;241m=\u001b[39m\u001b[38;5;241m2\u001b[39m, flag_string\u001b[38;5;241m=\u001b[39m\u001b[38;5;28mstr\u001b[39m(params)) \u001b[38;5;28;01mfor\u001b[39;00m params \u001b[38;5;129;01min\u001b[39;00m job_list]\n\u001b[0;32m     95\u001b[0m \u001b[38;5;66;03m# launch_experiment(gpu=2, flag_string=job_list[0])\u001b[39;00m\n\u001b[0;32m     97\u001b[0m sys\u001b[38;5;241m.\u001b[39mexit(\u001b[38;5;241m0\u001b[39m)\n",
      "File \u001b[1;32mG:\\FillmoreCancerData\\markhe\\VTERisk\\src\\scripts\\schedulers\\expr_dispatcher.py:73\u001b[0m, in \u001b[0;36mlaunch_experiment\u001b[1;34m(gpu, flag_string)\u001b[0m\n\u001b[0;32m     70\u001b[0m         \u001b[38;5;28mprint\u001b[39m(\u001b[38;5;124m\"\u001b[39m\u001b[38;5;124m[WARNING] Overiding the alert \u001b[39m\u001b[38;5;132;01m{RESULTS_PATH_APPEAR_ERR}\u001b[39;00m\u001b[38;5;124m...\u001b[39m\u001b[38;5;124m\"\u001b[39m)\n\u001b[0;32m     72\u001b[0m \u001b[38;5;66;03m# pp.pprint(\"[CMD] Launched exp: {}\".format(shell_cmd))\u001b[39;00m\n\u001b[1;32m---> 73\u001b[0m os\u001b[38;5;241m.\u001b[39msystem(shell_cmd)\n",
      "\u001b[1;31mKeyboardInterrupt\u001b[0m: "
     ]
    }
   ],
   "source": [
    "%run src/scripts/schedulers/expr_dispatcher.py --experiment-config-path src/configs/PL3/BL_360.json"
   ]
  },
  {
   "cell_type": "code",
   "execution_count": null,
   "id": "85a1817e-a601-4d36-bfd3-decad6f6b2a4",
   "metadata": {
    "tags": []
   },
   "outputs": [],
   "source": [
    "%run src/scripts/schedulers/expr_dispatcher.py --experiment-config-path src/configs/PL3/BK_180.json"
   ]
  },
  {
   "cell_type": "code",
   "execution_count": null,
   "id": "de607911-4cbf-4477-a5c2-3f93f20edffd",
   "metadata": {},
   "outputs": [],
   "source": []
  },
  {
   "cell_type": "code",
   "execution_count": 3,
   "id": "962ee351-5fd8-4254-b062-258a8e8da5e4",
   "metadata": {
    "tags": []
   },
   "outputs": [
    {
     "name": "stdout",
     "output_type": "stream",
     "text": [
      "args: Namespace(experiment_config_path='src/configs/PL3/TestAK_360.json', force_rerun=False, force_evaluate=False)\n",
      "python src/scripts/main.py  --add_bmi_neuron --add_race_neuron --add_sex_neuron --ageseq_event --class_bal --code_to_index_file snapshot_vte/L/0508a3154cb296ae5b76663b88555d2a.code_map --device cpu --disease_code_system phe_lab --epochs 1 --eval_auprc --eval_auroc --eval_batch_size 128 --filter_max_len --hidden_dim 64 --indseq_cos --init_lr 0.001 --log_dir logs_transformer_vte/L/5_6 --lr_decay 0.3 --max_batches_per_dev_epoch 1000 --max_batches_per_train_epoch 2000 --max_days_before_index 1000 --max_eval_indices 1 --max_events_length 1000 --max_year_before_index 4 --model_dir snapshot_vte/L --model_name transformer --month_endpoints 3 --num_heads 2 --num_layers 8 --num_workers 0 --optimizer adam --pad_size 400 --pool_name Softmax_AttentionPool --snapshot snapshot_vte/L/model_0508a3154cb296ae5b76663b88555d2a_model.pt --start_at_dx_400 --start_noise_days --start_noise_len 80 --test --test_data_dir //vacrrdevmavdi01.vha.med.va.gov/MAVDEV1/Fillmore_Cancer/cat/Users/data_from_vinci/dvt_cancer_20230613/data_for_tf_model/processed/Phe_Lab/test --time_embed_dim 64 --time_seq_cos --train_batch_size 256 --tuning_metric 3day_auroc_c --use_age_embed --use_index_embed --use_time_embed --weight_decay 0.001 --log_name=04fb7c648a7eff7cbd440179e8c4b43c --log_dir=logs_transformer_vte/L/5_6\n"
     ]
    }
   ],
   "source": [
    "%run src/scripts/schedulers/expr_dispatcher.py --experiment-config-path src/configs/PL3/TestAK_360.json"
   ]
  },
  {
   "cell_type": "code",
   "execution_count": null,
   "id": "8c680ea5-56b3-4897-bb36-1d1315e93648",
   "metadata": {
    "tags": []
   },
   "outputs": [
    {
     "name": "stdout",
     "output_type": "stream",
     "text": [
      "args: Namespace(experiment_config_path='src/configs/Phe_Lab2/U_1400.json', force_rerun=False, force_evaluate=False)\n",
      "python src/scripts/main.py  --add_bmi_neuron --add_race_neuron --add_sex_neuron --ageseq_event --class_bal --cuda --dev --dev_data_dir //vacrrdevmavdi01.vha.med.va.gov/MAVDEV1/Fillmore_Cancer/cat/Users/data_from_vinci/dvt_cancer_20230613/data_for_tf_model/processed/Phe_Lab/dev --device cuda:0 --disease_code_system phe_lab --epochs 25 --eval_auprc --eval_auroc --eval_batch_size 256 --filter_max_len --hidden_dim 64 --init_lr 0.00125 --log_dir logs_transformer_vte/L/5_1 --lr_decay 0.3 --max_batches_per_dev_epoch 1000 --max_batches_per_train_epoch 2000 --max_days_before_index 1000 --max_eval_indices 1 --max_events_length 1000 --max_year_before_index 4 --model_dir snapshot_vte/L --model_name transformer --month_endpoints 3 --num_heads 8 --num_layers 2 --num_workers 0 --optimizer adam --pad_size 420 --pool_name Softmax_AttentionPool --start_at_dx_1500 --start_noise_days --start_noise_len 200 --test --test_data_dir //vacrrdevmavdi01.vha.med.va.gov/MAVDEV1/Fillmore_Cancer/cat/Users/data_from_vinci/dvt_cancer_20230613/data_for_tf_model/processed/Phe_Lab/test --time_embed_dim 64 --time_seq_cos --train --train_batch_size 256 --train_data_dir //vacrrdevmavdi01.vha.med.va.gov/MAVDEV1/Fillmore_Cancer/cat/Users/data_from_vinci/dvt_cancer_20230613/data_for_tf_model/processed/Phe_Lab/train --tuning_metric 3day_auroc_c --use_age_embed --use_dxtime_embed --use_index_embed --use_time_embed --weight_decay 0.001 --log_name=5ed85c41e039beff98cbddba43390b15 --log_dir=logs_transformer_vte/L/5_1\n"
     ]
    }
   ],
   "source": [
    "%run src/scripts/schedulers/expr_dispatcher.py --experiment-config-path src/configs/Phe_Lab2/U_1400.json"
   ]
  },
  {
   "cell_type": "code",
   "execution_count": 2,
   "id": "ab788ef9-a43f-4974-a377-58405cd2e623",
   "metadata": {
    "tags": []
   },
   "outputs": [
    {
     "name": "stdout",
     "output_type": "stream",
     "text": [
      "args: Namespace(experiment_config_path='src/configs/Phe_Lab2/V_1400SinCos.json', force_rerun=False, force_evaluate=False)\n",
      "python src/scripts/main.py  --add_bmi_neuron --add_race_neuron --add_sex_neuron --ageseq_event --class_bal --cuda --dev --dev_data_dir //vacrrdevmavdi01.vha.med.va.gov/MAVDEV1/Fillmore_Cancer/cat/Users/data_from_vinci/dvt_cancer_20230613/data_for_tf_model/processed/Phe_Lab/dev --device cuda:0 --disease_code_system phe_lab --epochs 25 --eval_auprc --eval_auroc --eval_batch_size 64 --filter_max_len --hidden_dim 64 --init_lr 0.00125 --log_dir logs_transformer_vte/L/5_1 --lr_decay 0.3 --max_batches_per_dev_epoch 1000 --max_batches_per_train_epoch 2000 --max_days_before_index 1000 --max_eval_indices 1 --max_events_length 1000 --max_year_before_index 4 --model_dir snapshot_vte/L --model_name transformer --month_endpoints 3 --num_heads 8 --num_layers 2 --num_workers 0 --optimizer adam --pad_size 320 --pool_name Softmax_AttentionPool --start_at_dx_1500 --start_noise_days --start_noise_len 200 --test --test_data_dir //vacrrdevmavdi01.vha.med.va.gov/MAVDEV1/Fillmore_Cancer/cat/Users/data_from_vinci/dvt_cancer_20230613/data_for_tf_model/processed/Phe_Lab/test --time_embed_dim 64 --time_seq_cos --train --train_batch_size 256 --train_data_dir //vacrrdevmavdi01.vha.med.va.gov/MAVDEV1/Fillmore_Cancer/cat/Users/data_from_vinci/dvt_cancer_20230613/data_for_tf_model/processed/Phe_Lab/train --tuning_metric 3day_auroc_c --use_age_embed --use_dxtime_embed --use_index_embed --use_time_embed --weight_decay 0.001 --log_name=869a85c053e212a6b7389b690bd0e2a4 --log_dir=logs_transformer_vte/L/5_1\n"
     ]
    }
   ],
   "source": [
    "%run src/scripts/schedulers/expr_dispatcher.py --experiment-config-path src/configs/Phe_Lab2/V_1400SinCos.json"
   ]
  },
  {
   "cell_type": "code",
   "execution_count": null,
   "id": "bfea9964-5f48-432e-bcfc-fcec4009c763",
   "metadata": {
    "tags": []
   },
   "outputs": [
    {
     "name": "stdout",
     "output_type": "stream",
     "text": [
      "args: Namespace(experiment_config_path='src/configs/Phe_Lab2/V_1000_2.json', force_rerun=False, force_evaluate=False)\n",
      "python src/scripts/main.py  --add_bmi_neuron --add_race_neuron --add_sex_neuron --class_bal --cuda --dev --dev_data_dir //vacrrdevmavdi01.vha.med.va.gov/MAVDEV1/Fillmore_Cancer/cat/Users/data_from_vinci/dvt_cancer_20230613/data_for_tf_model/processed/Phe_Lab/dev --device cuda:1 --disease_code_system phe_lab --epochs 25 --eval_auprc --eval_auroc --eval_batch_size 256 --filter_max_len --hidden_dim 64 --init_lr 0.00125 --log_dir logs_transformer_vte/L/4_29 --lr_decay 0.3 --max_batches_per_dev_epoch 1000 --max_batches_per_train_epoch 2000 --max_days_before_index 1000 --max_eval_indices 1 --max_events_length 1000 --max_year_before_index 4 --model_dir snapshot_vte/L --model_name transformer --month_endpoints 3 --num_heads 8 --num_layers 4 --num_workers 0 --optimizer adam --pad_size 400 --pool_name Softmax_AttentionPool --start_at_dx_1000 --start_noise_days --start_noise_len 200 --test --test_data_dir //vacrrdevmavdi01.vha.med.va.gov/MAVDEV1/Fillmore_Cancer/cat/Users/data_from_vinci/dvt_cancer_20230613/data_for_tf_model/processed/Phe_Lab/test --time_embed_dim 64 --time_seq_cos --train --train_batch_size 256 --train_data_dir //vacrrdevmavdi01.vha.med.va.gov/MAVDEV1/Fillmore_Cancer/cat/Users/data_from_vinci/dvt_cancer_20230613/data_for_tf_model/processed/Phe_Lab/train --tuning_metric 3day_auroc_c --use_age_embed --use_dxtime_embed --use_index_embed --use_time_embed --weight_decay 0.001 --log_name=e46aac5b02bee96356391d177d53c97b --log_dir=logs_transformer_vte/L/4_29\n"
     ]
    }
   ],
   "source": [
    "%run src/scripts/schedulers/expr_dispatcher.py --experiment-config-path src/configs/Phe_Lab2/V_1000_2.json"
   ]
  },
  {
   "cell_type": "code",
   "execution_count": null,
   "id": "d88a6493-6b27-4fc6-a3ae-ca4286c79e3e",
   "metadata": {
    "tags": []
   },
   "outputs": [],
   "source": [
    "%run src/scripts/schedulers/expr_dispatcher.py --experiment-config-path src/configs/Phe_Lab2/V_1250-2.json"
   ]
  },
  {
   "cell_type": "code",
   "execution_count": null,
   "id": "dc43c5e0-9fcb-4382-963d-19480c06e516",
   "metadata": {
    "tags": []
   },
   "outputs": [
    {
     "name": "stdout",
     "output_type": "stream",
     "text": [
      "args: Namespace(experiment_config_path='src/configs/Phe_Lab2/V_720.json', force_rerun=False, force_evaluate=False)\n",
      "python src/scripts/main.py  --add_age_neuron --add_bmi_neuron --add_race_neuron --add_sex_neuron --class_bal --cuda --dev --dev_data_dir //vacrrdevmavdi01.vha.med.va.gov/MAVDEV1/Fillmore_Cancer/cat/Users/data_from_vinci/dvt_cancer_20230613/data_for_tf_model/processed/Phe_Lab/dev --device cuda:1 --disease_code_system phe_lab --epochs 25 --eval_auprc --eval_auroc --eval_batch_size 256 --filter_max_len --hidden_dim 64 --init_lr 0.00125 --log_dir logs_transformer_vte/L/4_28 --lr_decay 0.3 --max_batches_per_dev_epoch 1000 --max_batches_per_train_epoch 2000 --max_days_before_index 1000 --max_eval_indices 1 --max_events_length 1000 --max_year_before_index 4 --model_dir snapshot_vte/L --model_name transformer --month_endpoints 3 --num_heads 8 --num_layers 2 --num_workers 0 --optimizer adam --pad_size 400 --pool_name Softmax_AttentionPool --start_at_dx_750 --start_noise_days --start_noise_len 60 --test --test_data_dir //vacrrdevmavdi01.vha.med.va.gov/MAVDEV1/Fillmore_Cancer/cat/Users/data_from_vinci/dvt_cancer_20230613/data_for_tf_model/processed/Phe_Lab/test --time_embed_dim 64 --time_seq_cos --train --train_batch_size 256 --train_data_dir //vacrrdevmavdi01.vha.med.va.gov/MAVDEV1/Fillmore_Cancer/cat/Users/data_from_vinci/dvt_cancer_20230613/data_for_tf_model/processed/Phe_Lab/train --tuning_metric 3day_auroc_c --use_dxtime_embed --use_index_embed --use_time_embed --weight_decay 0.001 --log_name=720a2cdc980ec23baba897852e1a1d28 --log_dir=logs_transformer_vte/L/4_28\n"
     ]
    }
   ],
   "source": [
    "%run src/scripts/schedulers/expr_dispatcher.py --experiment-config-path src/configs/Phe_Lab2/V_720.json"
   ]
  },
  {
   "cell_type": "code",
   "execution_count": 6,
   "id": "e55718de-658b-4d96-aee6-22087263c94a",
   "metadata": {
    "tags": []
   },
   "outputs": [
    {
     "name": "stdout",
     "output_type": "stream",
     "text": [
      "args: Namespace(experiment_config_path='src/configs/Phe_Lab2/V_240_1.json', force_rerun=False, force_evaluate=False)\n",
      "python src/scripts/main.py  --add_bmi_neuron --add_race_neuron --add_sex_neuron --ageseq_event --class_bal --cuda --dev --dev_data_dir //vacrrdevmavdi01.vha.med.va.gov/MAVDEV1/Fillmore_Cancer/cat/Users/data_from_vinci/dvt_cancer_20230613/data_for_tf_model/processed/Phe_Lab/dev --device cuda:0 --disease_code_system phe_lab --epochs 25 --eval_auprc --eval_auroc --eval_batch_size 256 --filter_max_len --hidden_dim 64 --init_lr 0.001 --log_dir logs_transformer_vte/L/4_28 --lr_decay 0.3 --max_batches_per_dev_epoch 1000 --max_batches_per_train_epoch 2000 --max_days_before_index 1000 --max_eval_indices 1 --max_events_length 1000 --max_year_before_index 4 --model_dir snapshot_vte/L --model_name transformer --month_endpoints 3 --num_heads 8 --num_layers 2 --num_workers 0 --optimizer adam --pad_size 350 --pool_name Softmax_AttentionPool --start_at_dx_270 --start_noise_days --start_noise_len 60 --test --test_data_dir //vacrrdevmavdi01.vha.med.va.gov/MAVDEV1/Fillmore_Cancer/cat/Users/data_from_vinci/dvt_cancer_20230613/data_for_tf_model/processed/Phe_Lab/test --time_embed_dim 64 --time_seq_cos --train --train_batch_size 256 --train_data_dir //vacrrdevmavdi01.vha.med.va.gov/MAVDEV1/Fillmore_Cancer/cat/Users/data_from_vinci/dvt_cancer_20230613/data_for_tf_model/processed/Phe_Lab/train --tuning_metric 3day_auroc_c --use_age_embed --use_dxtime_embed --use_index_embed --use_time_embed --weight_decay 0.001 --log_name=7f17ba9c67b094b15f2f7bb8b31a915a --log_dir=logs_transformer_vte/L/4_28\n"
     ]
    }
   ],
   "source": [
    "%run src/scripts/schedulers/expr_dispatcher.py --experiment-config-path src/configs/Phe_Lab2/V_240_1.json"
   ]
  },
  {
   "cell_type": "code",
   "execution_count": 1,
   "id": "fa16c432-52f0-4e4d-a55a-5f06817d940f",
   "metadata": {
    "tags": []
   },
   "outputs": [
    {
     "name": "stdout",
     "output_type": "stream",
     "text": [
      "args: Namespace(experiment_config_path='src/configs/Phe_Lab2/S10_256-4L.json', force_rerun=False, force_evaluate=False)\n",
      "python src/scripts/main.py  --add_bmi_neuron --add_race_neuron --add_sex_neuron --ageseq_event --class_bal --cuda --dev --dev_data_dir //vacrrdevmavdi01.vha.med.va.gov/MAVDEV1/Fillmore_Cancer/cat/Users/data_from_vinci/dvt_cancer_20230613/data_for_tf_model/processed/Phe_Lab/dev --device cuda:0 --disease_code_system phe_lab --epochs 39 --eval_auprc --eval_auroc --eval_batch_size 256 --filter_max_len --hidden_dim 64 --init_lr 0.001 --log_dir logs_transformer_vte/L/4_25 --lr_decay 0.3 --max_batches_per_dev_epoch 1000 --max_batches_per_train_epoch 2000 --max_days_before_index 1000 --max_eval_indices 1 --max_events_length 900 --max_year_before_index 4 --model_dir snapshot_vte/L --model_name transformer --month_endpoints 3 --num_heads 8 --num_layers 4 --num_workers 0 --optimizer adam --pad_size 350 --pool_name Softmax_AttentionPool --start_at_dx_150 --start_noise_days --start_noise_len 60 --test --test_data_dir //vacrrdevmavdi01.vha.med.va.gov/MAVDEV1/Fillmore_Cancer/cat/Users/data_from_vinci/dvt_cancer_20230613/data_for_tf_model/processed/Phe_Lab/test --time_embed_dim 64 --train --train_batch_size 256 --train_data_dir //vacrrdevmavdi01.vha.med.va.gov/MAVDEV1/Fillmore_Cancer/cat/Users/data_from_vinci/dvt_cancer_20230613/data_for_tf_model/processed/Phe_Lab/train --tuning_metric 3day_auroc_c --use_age_embed --use_dxtime_embed --use_index_embed --use_time_embed --weight_decay 0.001 --log_name=1d9257f8b2c7a5ca3db8a18d628fcd65 --log_dir=logs_transformer_vte/L/4_25\n"
     ]
    }
   ],
   "source": [
    "%run src/scripts/schedulers/expr_dispatcher.py --experiment-config-path src/configs/Phe_Lab2/S10_256-4L.json"
   ]
  },
  {
   "cell_type": "code",
   "execution_count": 2,
   "id": "7fca98db-c91a-4629-a279-2abf25748d02",
   "metadata": {
    "tags": []
   },
   "outputs": [
    {
     "name": "stdout",
     "output_type": "stream",
     "text": [
      "args: Namespace(experiment_config_path='src/configs/Phe_Lab2/S10_240.json', force_rerun=False, force_evaluate=False)\n",
      "python src/scripts/main.py  --add_bmi_neuron --add_race_neuron --add_sex_neuron --ageseq_event --class_bal --cuda --dev --dev_data_dir //vacrrdevmavdi01.vha.med.va.gov/MAVDEV1/Fillmore_Cancer/cat/Users/data_from_vinci/dvt_cancer_20230613/data_for_tf_model/processed/Phe_Lab/dev --device cuda:0 --disease_code_system phe_lab --epochs 39 --eval_auprc --eval_auroc --eval_batch_size 256 --filter_max_len --hidden_dim 64 --init_lr 0.001 --log_dir logs_transformer_vte/L/4_25 --lr_decay 0.3 --max_batches_per_dev_epoch 1000 --max_batches_per_train_epoch 2000 --max_days_before_index 1000 --max_eval_indices 1 --max_events_length 1000 --max_year_before_index 4 --model_dir snapshot_vte/L --model_name transformer --month_endpoints 3 --num_heads 8 --num_layers 4 --num_workers 0 --optimizer adam --pad_size 400 --pool_name Softmax_AttentionPool --start_at_dx_270 --start_noise_days --start_noise_len 60 --test --test_data_dir //vacrrdevmavdi01.vha.med.va.gov/MAVDEV1/Fillmore_Cancer/cat/Users/data_from_vinci/dvt_cancer_20230613/data_for_tf_model/processed/Phe_Lab/test --time_embed_dim 64 --train --train_batch_size 256 --train_data_dir //vacrrdevmavdi01.vha.med.va.gov/MAVDEV1/Fillmore_Cancer/cat/Users/data_from_vinci/dvt_cancer_20230613/data_for_tf_model/processed/Phe_Lab/train --tuning_metric 3day_auroc_c --use_age_embed --use_dxtime_embed --use_index_embed --use_time_embed --weight_decay 0.001 --log_name=24ead0d169f0a4f803dabad9890ed8d5 --log_dir=logs_transformer_vte/L/4_25\n"
     ]
    }
   ],
   "source": [
    "%run src/scripts/schedulers/expr_dispatcher.py --experiment-config-path src/configs/Phe_Lab2/S10_240.json"
   ]
  },
  {
   "cell_type": "code",
   "execution_count": 3,
   "id": "33c97493-d96c-47ef-9663-21309475b62d",
   "metadata": {
    "tags": []
   },
   "outputs": [
    {
     "name": "stdout",
     "output_type": "stream",
     "text": [
      "args: Namespace(experiment_config_path='src/configs/Phe_Lab2/S10_3_720.json', force_rerun=False, force_evaluate=False)\n",
      "ERROR! experiment: src/configs/Phe_Lab2/S10_3_720.json config file not found.\n"
     ]
    },
    {
     "ename": "SystemExit",
     "evalue": "1",
     "output_type": "error",
     "traceback": [
      "An exception has occurred, use %tb to see the full traceback.\n",
      "\u001b[1;31mSystemExit\u001b[0m\u001b[1;31m:\u001b[0m 1\n"
     ]
    }
   ],
   "source": [
    "%run src/scripts/schedulers/expr_dispatcher.py --experiment-config-path src/configs/Phe_Lab2/S10_3_720.json"
   ]
  },
  {
   "cell_type": "code",
   "execution_count": 1,
   "id": "41dc18c5-2ebe-4cc4-9630-720ce357e69b",
   "metadata": {
    "tags": []
   },
   "outputs": [
    {
     "name": "stdout",
     "output_type": "stream",
     "text": [
      "args: Namespace(experiment_config_path='src/configs/Phe_Lab2/S_6_2_again256-16h.json', force_rerun=False, force_evaluate=False)\n",
      "python src/scripts/main.py  --add_bmi_neuron --add_race_neuron --add_sex_neuron --ageseq_event --class_bal --cuda --dev --dev_data_dir //vacrrdevmavdi01.vha.med.va.gov/MAVDEV1/Fillmore_Cancer/cat/Users/data_from_vinci/dvt_cancer_20230613/data_for_tf_model/processed/Phe_Lab/dev --device cuda:0 --disease_code_system phe_lab --epochs 39 --eval_auprc --eval_auroc --eval_batch_size 256 --filter_max_len --hidden_dim 64 --init_lr 0.001 --log_dir logs_transformer_vte/L/4_23 --lr_decay 0.3 --max_batches_per_dev_epoch 1000 --max_batches_per_train_epoch 2000 --max_days_before_index 1000 --max_eval_indices 1 --max_events_length 900 --max_year_before_index 4 --model_dir snapshot_vte/L --model_name transformer --month_endpoints 3 --num_heads 16 --num_layers 2 --num_workers 0 --optimizer adam --pad_size 350 --pool_name Softmax_AttentionPool --start_at_dx_150 --start_noise_days --start_noise_len 60 --test --test_data_dir //vacrrdevmavdi01.vha.med.va.gov/MAVDEV1/Fillmore_Cancer/cat/Users/data_from_vinci/dvt_cancer_20230613/data_for_tf_model/processed/Phe_Lab/test --time_embed_dim 64 --train --train_batch_size 256 --train_data_dir //vacrrdevmavdi01.vha.med.va.gov/MAVDEV1/Fillmore_Cancer/cat/Users/data_from_vinci/dvt_cancer_20230613/data_for_tf_model/processed/Phe_Lab/train --tuning_metric 3day_auroc_c --use_age_embed --use_dxtime_embed --use_index_embed --use_time_embed --weight_decay 0.001 --log_name=7983568a487ab3a9268c7e53bf715500 --log_dir=logs_transformer_vte/L/4_23\n"
     ]
    }
   ],
   "source": [
    "%run src/scripts/schedulers/expr_dispatcher.py --experiment-config-path src/configs/Phe_Lab2/S_6_2_again256-16h.json"
   ]
  },
  {
   "cell_type": "code",
   "execution_count": 2,
   "id": "0b0064ed-36cb-4f83-9310-610ab6740666",
   "metadata": {
    "tags": []
   },
   "outputs": [
    {
     "name": "stdout",
     "output_type": "stream",
     "text": [
      "args: Namespace(experiment_config_path='src/configs/Phe_Lab2/S_8_256.json', force_rerun=False, force_evaluate=False)\n",
      "python src/scripts/main.py  --add_bmi_neuron --add_race_neuron --add_sex_neuron --ageseq_event --class_bal --cuda --dev --dev_data_dir //vacrrdevmavdi01.vha.med.va.gov/MAVDEV1/Fillmore_Cancer/cat/Users/data_from_vinci/dvt_cancer_20230613/data_for_tf_model/processed/Phe_Lab/dev --device cuda:0 --disease_code_system phe_lab --epochs 33 --eval_auprc --eval_auroc --eval_batch_size 256 --filter_max_len --hidden_dim 64 --init_lr 0.001 --log_dir logs_transformer_vte/L/4_21 --lr_decay 0.3 --max_batches_per_dev_epoch 1000 --max_batches_per_train_epoch 2000 --max_days_before_index 1000 --max_eval_indices 1 --max_events_length 900 --max_year_before_index 4 --model_dir snapshot_vte/L --model_name transformer --month_endpoints 3 --num_heads 8 --num_layers 1 --num_workers 0 --optimizer adam --pad_size 350 --pool_name Softmax_AttentionPool --start_at_dx_100 --start_noise_days --start_noise_len 20 --test --test_data_dir //vacrrdevmavdi01.vha.med.va.gov/MAVDEV1/Fillmore_Cancer/cat/Users/data_from_vinci/dvt_cancer_20230613/data_for_tf_model/processed/Phe_Lab/test --time_embed_dim 64 --train --train_batch_size 256 --train_data_dir //vacrrdevmavdi01.vha.med.va.gov/MAVDEV1/Fillmore_Cancer/cat/Users/data_from_vinci/dvt_cancer_20230613/data_for_tf_model/processed/Phe_Lab/train --tuning_metric 3day_auroc_c --use_age_embed --use_dxtime_embed --use_index_embed --use_time_embed --weight_decay 0.001 --log_name=8d0cba60f95196b9107c2974ad20e03b --log_dir=logs_transformer_vte/L/4_21\n"
     ]
    }
   ],
   "source": [
    "%run src/scripts/schedulers/expr_dispatcher.py --experiment-config-path src/configs/Phe_Lab2/S_8_256.json"
   ]
  },
  {
   "cell_type": "code",
   "execution_count": 7,
   "id": "313a4dbb-36d0-4a6c-b419-a57a23515845",
   "metadata": {
    "tags": []
   },
   "outputs": [
    {
     "name": "stdout",
     "output_type": "stream",
     "text": [
      "args: Namespace(experiment_config_path='src/configs/Phe_Lab2/S_6_2c.json', force_rerun=False, force_evaluate=False)\n",
      "python src/scripts/main.py  --add_bmi_neuron --add_race_neuron --add_sex_neuron --ageseq_event --class_bal --cuda --dev --dev_data_dir //vacrrdevmavdi01.vha.med.va.gov/MAVDEV1/Fillmore_Cancer/cat/Users/data_from_vinci/dvt_cancer_20230613/data_for_tf_model/processed/Phe_Lab/dev --device cuda:0 --disease_code_system phe_lab --epochs 40 --eval_auprc --eval_auroc --eval_batch_size 128 --filter_max_len --hidden_dim 64 --init_lr 0.0005 --log_dir logs_transformer_vte/L/4_18 --lr_decay 0.3 --max_batches_per_dev_epoch 1000 --max_batches_per_train_epoch 2000 --max_days_before_index 1000 --max_eval_indices 1 --max_events_length 900 --max_year_before_index 4 --model_dir snapshot_vte/L --model_name transformer --month_endpoints 3 --num_heads 8 --num_layers 2 --num_workers 0 --optimizer adam --pad_size 350 --pool_name Softmax_AttentionPool --start_at_dx_270 --start_noise_days --start_noise_len 180 --test --test_data_dir //vacrrdevmavdi01.vha.med.va.gov/MAVDEV1/Fillmore_Cancer/cat/Users/data_from_vinci/dvt_cancer_20230613/data_for_tf_model/processed/Phe_Lab/test --time_embed_dim 64 --train --train_batch_size 256 --train_data_dir //vacrrdevmavdi01.vha.med.va.gov/MAVDEV1/Fillmore_Cancer/cat/Users/data_from_vinci/dvt_cancer_20230613/data_for_tf_model/processed/Phe_Lab/train --tuning_metric 3day_auroc_c --use_age_embed --use_dxtime_embed --use_index_embed --use_time_embed --weight_decay 0.001 --log_name=995a1a1ac9e92a90d67ab6fe68c548f3 --log_dir=logs_transformer_vte/L/4_18\n"
     ]
    }
   ],
   "source": [
    "%run src/scripts/schedulers/expr_dispatcher.py --experiment-config-path src/configs/Phe_Lab2/S_6_2c.json"
   ]
  },
  {
   "cell_type": "code",
   "execution_count": 8,
   "id": "4cfbe819-61a0-4e20-a288-63e34a7eec88",
   "metadata": {
    "tags": []
   },
   "outputs": [
    {
     "name": "stdout",
     "output_type": "stream",
     "text": [
      "args: Namespace(experiment_config_path='src/configs/Phe_Lab2/S_6_2_again.json', force_rerun=False, force_evaluate=False)\n",
      "python src/scripts/main.py  --add_bmi_neuron --add_race_neuron --add_sex_neuron --ageseq_event --class_bal --cuda --dev --dev_data_dir //vacrrdevmavdi01.vha.med.va.gov/MAVDEV1/Fillmore_Cancer/cat/Users/data_from_vinci/dvt_cancer_20230613/data_for_tf_model/processed/Phe_Lab/dev --device cuda:1 --disease_code_system phe_lab --epochs 48 --eval_auprc --eval_auroc --eval_batch_size 64 --filter_max_len --hidden_dim 64 --init_lr 0.001 --log_dir logs_transformer_vte/L/4_18 --lr_decay 0.3 --max_batches_per_dev_epoch 1000 --max_batches_per_train_epoch 2000 --max_days_before_index 1000 --max_eval_indices 1 --max_events_length 900 --max_year_before_index 4 --model_dir snapshot_vte/L --model_name transformer --month_endpoints 3 --num_heads 8 --num_layers 2 --num_workers 0 --optimizer adam --pad_size 350 --pool_name Softmax_AttentionPool --start_at_dx_150 --start_noise_days --start_noise_len 60 --test --test_data_dir //vacrrdevmavdi01.vha.med.va.gov/MAVDEV1/Fillmore_Cancer/cat/Users/data_from_vinci/dvt_cancer_20230613/data_for_tf_model/processed/Phe_Lab/test --time_embed_dim 64 --train --train_batch_size 256 --train_data_dir //vacrrdevmavdi01.vha.med.va.gov/MAVDEV1/Fillmore_Cancer/cat/Users/data_from_vinci/dvt_cancer_20230613/data_for_tf_model/processed/Phe_Lab/train --tuning_metric 3day_auroc_c --use_age_embed --use_dxtime_embed --use_index_embed --use_time_embed --weight_decay 0.001 --log_name=d74ff0ea7bc534492026bdfb3626725e --log_dir=logs_transformer_vte/L/4_18\n"
     ]
    }
   ],
   "source": [
    "%run src/scripts/schedulers/expr_dispatcher.py --experiment-config-path src/configs/Phe_Lab2/S_6_2_again.json"
   ]
  },
  {
   "cell_type": "code",
   "execution_count": 1,
   "id": "9acaad89-4299-47e4-8cdb-14cca81b460a",
   "metadata": {
    "tags": []
   },
   "outputs": [
    {
     "name": "stdout",
     "output_type": "stream",
     "text": [
      "args: Namespace(experiment_config_path='src/configs/Phe_Lab2/S_6.json', force_rerun=False, force_evaluate=False)\n",
      "python src/scripts/main.py  --add_bmi_neuron --add_race_neuron --add_sex_neuron --ageseq_event --class_bal --cuda --dev --dev_data_dir //vacrrdevmavdi01.vha.med.va.gov/MAVDEV1/Fillmore_Cancer/cat/Users/data_from_vinci/dvt_cancer_20230613/data_for_tf_model/processed/Phe_Lab/dev --device cuda:1 --disease_code_system phe_lab --epochs 33 --eval_auprc --eval_auroc --eval_batch_size 128 --filter_max_len --hidden_dim 64 --init_lr 0.001 --log_dir logs_transformer_vte/L/4_15 --lr_decay 0.3 --max_batches_per_dev_epoch 1000 --max_batches_per_train_epoch 2000 --max_days_before_index 1000 --max_eval_indices 1 --max_events_length 900 --max_year_before_index 4 --model_dir snapshot_vte/L --model_name transformer --month_endpoints 3 --num_heads 8 --num_layers 1 --num_workers 0 --optimizer adam --pad_size 400 --pool_name Softmax_AttentionPool --start_at_dx_150 --start_noise_days --start_noise_len 60 --test --test_data_dir //vacrrdevmavdi01.vha.med.va.gov/MAVDEV1/Fillmore_Cancer/cat/Users/data_from_vinci/dvt_cancer_20230613/data_for_tf_model/processed/Phe_Lab/test --time_embed_dim 64 --train --train_batch_size 256 --train_data_dir //vacrrdevmavdi01.vha.med.va.gov/MAVDEV1/Fillmore_Cancer/cat/Users/data_from_vinci/dvt_cancer_20230613/data_for_tf_model/processed/Phe_Lab/train --tuning_metric 3day_auroc_c --use_age_embed --use_dxtime_embed --use_index_embed --use_time_embed --weight_decay 0.001 --log_name=a7655566b16a39e512e73a4827e30893 --log_dir=logs_transformer_vte/L/4_15\n"
     ]
    }
   ],
   "source": [
    "%run src/scripts/schedulers/expr_dispatcher.py --experiment-config-path src/configs/Phe_Lab2/S_6.json"
   ]
  },
  {
   "cell_type": "code",
   "execution_count": 4,
   "id": "94c03bd8-1271-4af0-bce1-88ccc276b1ee",
   "metadata": {
    "tags": []
   },
   "outputs": [
    {
     "name": "stdout",
     "output_type": "stream",
     "text": [
      "args: Namespace(experiment_config_path='src/configs/Phe_Lab2/ResumeS_6_2_ii.json', force_rerun=False, force_evaluate=False)\n",
      "python src/scripts/main.py  --add_bmi_neuron --add_race_neuron --add_sex_neuron --ageseq_event --class_bal --code_to_index_file snapshot_vte/L/aaf9eb119a741e6b693ad3b395d74450.code_map --cuda --dev --dev_data_dir //vacrrdevmavdi01.vha.med.va.gov/MAVDEV1/Fillmore_Cancer/cat/Users/data_from_vinci/dvt_cancer_20230613/data_for_tf_model/processed/Phe_Lab/dev --device cuda:0 --disease_code_system phe_lab --epochs 9 --eval_auprc --eval_auroc --eval_batch_size 128 --filter_max_len --hidden_dim 64 --init_lr 0.0005 --log_dir logs_transformer_vte/L/4_17 --lr_decay 0.3 --max_batches_per_dev_epoch 1000 --max_batches_per_train_epoch 2000 --max_days_before_index 1000 --max_eval_indices 1 --max_events_length 900 --max_year_before_index 4 --model_dir snapshot_vte/L --model_name transformer --month_endpoints 3 --num_heads 8 --num_layers 2 --num_workers 0 --optimizer adam --pad_size 350 --pool_name Softmax_AttentionPool --snapshot snapshot_vte/L/model_aaf9eb119a741e6b693ad3b395d74450_model.pt --start_at_dx_150 --start_noise_days --start_noise_len 60 --test --test_data_dir //vacrrdevmavdi01.vha.med.va.gov/MAVDEV1/Fillmore_Cancer/cat/Users/data_from_vinci/dvt_cancer_20230613/data_for_tf_model/processed/Phe_Lab/test --time_embed_dim 64 --train --train_batch_size 256 --train_data_dir //vacrrdevmavdi01.vha.med.va.gov/MAVDEV1/Fillmore_Cancer/cat/Users/data_from_vinci/dvt_cancer_20230613/data_for_tf_model/processed/Phe_Lab/train --tuning_metric 3day_auroc_c --use_age_embed --use_dxtime_embed --use_index_embed --use_time_embed --weight_decay 0.001 --log_name=98b6b56da3884b0f1ce92fbea7a1548a --log_dir=logs_transformer_vte/L/4_17\n"
     ]
    }
   ],
   "source": [
    "%run src/scripts/schedulers/expr_dispatcher.py --experiment-config-path src/configs/Phe_Lab2/ResumeS_6_2_ii.json"
   ]
  },
  {
   "cell_type": "code",
   "execution_count": null,
   "id": "293bec24-5ed6-4635-827b-6c5478a336c4",
   "metadata": {},
   "outputs": [],
   "source": [
    "%run src/scripts/schedulers/expr_dispatcher.py --experiment-config-path src/configs/Phe_Lab2/S_6_2.json"
   ]
  },
  {
   "cell_type": "code",
   "execution_count": 1,
   "id": "d9f186fe-29d6-4dd3-bebd-b7fed03fa1e8",
   "metadata": {
    "tags": []
   },
   "outputs": [
    {
     "name": "stdout",
     "output_type": "stream",
     "text": [
      "args: Namespace(experiment_config_path='src/configs/Phe_Lab2/ResumeS_5_8_2.json', force_rerun=False, force_evaluate=False)\n",
      "python src/scripts/main.py  --add_bmi_neuron --add_race_neuron --add_sex_neuron --ageseq_event --class_bal --code_to_index_file snapshot_vte/L/7a23f177f6f933eb40a77113a0ead520.code_map --cuda --dev --dev_data_dir //vacrrdevmavdi01.vha.med.va.gov/MAVDEV1/Fillmore_Cancer/cat/Users/data_from_vinci/dvt_cancer_20230613/data_for_tf_model/processed/Phe_Lab/dev --device cuda:0 --disease_code_system phe_lab --epochs 30 --eval_auprc --eval_auroc --eval_batch_size 128 --filter_max_len --hidden_dim 64 --init_lr 0.00125 --log_dir logs_transformer_vte/L/4_12 --lr_decay 0.3 --max_batches_per_dev_epoch 1000 --max_batches_per_train_epoch 2000 --max_days_before_index 1000 --max_eval_indices 1 --max_events_length 900 --max_year_before_index 4 --model_dir snapshot_vte/L --model_name transformer --month_endpoints 3 --num_heads 16 --num_layers 1 --num_workers 0 --optimizer adam --pad_size 300 --pool_name Softmax_AttentionPool --snapshot snapshot_vte/L/model_7a23f177f6f933eb40a77113a0ead520_model.pt --start_at_dx_300 --start_noise_days --start_noise_len 30 --test --test_data_dir //vacrrdevmavdi01.vha.med.va.gov/MAVDEV1/Fillmore_Cancer/cat/Users/data_from_vinci/dvt_cancer_20230613/data_for_tf_model/processed/Phe_Lab/test --time_embed_dim 64 --train --train_batch_size 256 --train_data_dir //vacrrdevmavdi01.vha.med.va.gov/MAVDEV1/Fillmore_Cancer/cat/Users/data_from_vinci/dvt_cancer_20230613/data_for_tf_model/processed/Phe_Lab/train --tuning_metric 3day_auroc_c --use_age_embed --use_dxtime_embed --use_index_embed --use_time_embed --weight_decay 0.001 --log_name=342f170e3dad44d480881c9ebc099dac --log_dir=logs_transformer_vte/L/4_12\n"
     ]
    }
   ],
   "source": [
    "%run src/scripts/schedulers/expr_dispatcher.py --experiment-config-path src/configs/Phe_Lab2/ResumeS_5_8_2.json"
   ]
  },
  {
   "cell_type": "code",
   "execution_count": 1,
   "id": "30718c09-7cc8-4233-bc47-6edc64a04140",
   "metadata": {},
   "outputs": [
    {
     "name": "stdout",
     "output_type": "stream",
     "text": [
      "args: Namespace(experiment_config_path='src/configs/Phe_Lab2/S_5_8_1.json', force_rerun=False, force_evaluate=False)\n",
      "python src/scripts/main.py  --add_bmi_neuron --add_race_neuron --add_sex_neuron --ageseq_event --class_bal --cuda --dev --dev_data_dir //vacrrdevmavdi01.vha.med.va.gov/MAVDEV1/Fillmore_Cancer/cat/Users/data_from_vinci/dvt_cancer_20230613/data_for_tf_model/processed/Phe_Lab/dev --device cuda:0 --disease_code_system phe_lab --epochs 25 --eval_auprc --eval_auroc --eval_batch_size 128 --filter_max_len --hidden_dim 64 --init_lr 0.00125 --log_dir logs_transformer_vte/L/4_10 --lr_decay 0.3 --max_batches_per_dev_epoch 1000 --max_batches_per_train_epoch 2000 --max_days_before_index 1000 --max_eval_indices 1 --max_events_length 900 --max_year_before_index 4 --model_dir snapshot_vte/L --model_name transformer --month_endpoints 3 --num_heads 8 --num_layers 1 --num_workers 0 --optimizer adam --pad_size 350 --pool_name Softmax_AttentionPool --start_at_dx_300 --start_noise_days --start_noise_len 20 --test --test_data_dir //vacrrdevmavdi01.vha.med.va.gov/MAVDEV1/Fillmore_Cancer/cat/Users/data_from_vinci/dvt_cancer_20230613/data_for_tf_model/processed/Phe_Lab/test --time_embed_dim 64 --train --train_batch_size 256 --train_data_dir //vacrrdevmavdi01.vha.med.va.gov/MAVDEV1/Fillmore_Cancer/cat/Users/data_from_vinci/dvt_cancer_20230613/data_for_tf_model/processed/Phe_Lab/train --tuning_metric 3day_auroc_c --use_age_embed --use_dxtime_embed --use_index_embed --use_time_embed --weight_decay 0.001 --log_name=b6a111c03e4137dcd5904ce361d60799 --log_dir=logs_transformer_vte/L/4_10\n"
     ]
    }
   ],
   "source": [
    "%run src/scripts/schedulers/expr_dispatcher.py --experiment-config-path src/configs/Phe_Lab2/S_5_8_1.json"
   ]
  },
  {
   "cell_type": "code",
   "execution_count": null,
   "id": "fb483681-b29a-4094-9843-30fcd9e54098",
   "metadata": {
    "tags": []
   },
   "outputs": [
    {
     "name": "stdout",
     "output_type": "stream",
     "text": [
      "args: Namespace(experiment_config_path='src/configs/Phe_Lab2/S_5_8_2.json', force_rerun=False, force_evaluate=False)\n",
      "python src/scripts/main.py  --add_bmi_neuron --add_race_neuron --add_sex_neuron --ageseq_event --class_bal --cuda --dev --dev_data_dir //vacrrdevmavdi01.vha.med.va.gov/MAVDEV1/Fillmore_Cancer/cat/Users/data_from_vinci/dvt_cancer_20230613/data_for_tf_model/processed/Phe_Lab/dev --device cuda:0 --disease_code_system phe_lab --epochs 30 --eval_auprc --eval_auroc --eval_batch_size 128 --filter_max_len --hidden_dim 64 --init_lr 0.00125 --log_dir logs_transformer_vte/L/4_10 --lr_decay 0.3 --max_batches_per_dev_epoch 1000 --max_batches_per_train_epoch 2000 --max_days_before_index 1000 --max_eval_indices 1 --max_events_length 900 --max_year_before_index 4 --model_dir snapshot_vte/L --model_name transformer --month_endpoints 3 --num_heads 16 --num_layers 1 --num_workers 0 --optimizer adam --pad_size 300 --pool_name Softmax_AttentionPool --start_at_dx_300 --start_noise_days --start_noise_len 30 --test --test_data_dir //vacrrdevmavdi01.vha.med.va.gov/MAVDEV1/Fillmore_Cancer/cat/Users/data_from_vinci/dvt_cancer_20230613/data_for_tf_model/processed/Phe_Lab/test --time_embed_dim 64 --train --train_batch_size 256 --train_data_dir //vacrrdevmavdi01.vha.med.va.gov/MAVDEV1/Fillmore_Cancer/cat/Users/data_from_vinci/dvt_cancer_20230613/data_for_tf_model/processed/Phe_Lab/train --tuning_metric 3day_auroc_c --use_age_embed --use_dxtime_embed --use_index_embed --use_time_embed --weight_decay 0.001 --log_name=7a23f177f6f933eb40a77113a0ead520 --log_dir=logs_transformer_vte/L/4_10\n"
     ]
    }
   ],
   "source": [
    "%run src/scripts/schedulers/expr_dispatcher.py --experiment-config-path src/configs/Phe_Lab2/S_5_8_2.json"
   ]
  },
  {
   "cell_type": "code",
   "execution_count": 2,
   "id": "3e953b05-a43d-4de6-86dc-0364e35474a0",
   "metadata": {
    "tags": []
   },
   "outputs": [
    {
     "name": "stdout",
     "output_type": "stream",
     "text": [
      "args: Namespace(experiment_config_path='src/configs/Phe_Lab2/S_5_7.json', force_rerun=False, force_evaluate=False)\n",
      "python src/scripts/main.py  --add_bmi_neuron --add_race_neuron --add_sex_neuron --ageseq_event --class_bal --cuda --dev --dev_data_dir //vacrrdevmavdi01.vha.med.va.gov/MAVDEV1/Fillmore_Cancer/cat/Users/data_from_vinci/dvt_cancer_20230613/data_for_tf_model/processed/Phe_Lab/dev --device cuda:0 --disease_code_system phe_lab --epochs 15 --eval_auprc --eval_auroc --eval_batch_size 128 --filter_max_len --hidden_dim 64 --init_lr 0.001 --log_dir logs_transformer_vte/L/4_8 --lr_decay 0.3 --max_batches_per_dev_epoch 1000 --max_batches_per_train_epoch 2000 --max_days_before_index 1000 --max_eval_indices 1 --max_events_length 1000 --max_year_before_index 4 --model_dir snapshot_vte/L --model_name transformer --month_endpoints 3 --num_heads 8 --num_layers 1 --num_workers 0 --optimizer adam --pad_size 450 --pool_name Softmax_AttentionPool --start_at_dx_200 --start_noise_days --start_noise_len 20 --test --test_data_dir //vacrrdevmavdi01.vha.med.va.gov/MAVDEV1/Fillmore_Cancer/cat/Users/data_from_vinci/dvt_cancer_20230613/data_for_tf_model/processed/Phe_Lab/test --time_embed_dim 64 --train --train_batch_size 256 --train_data_dir //vacrrdevmavdi01.vha.med.va.gov/MAVDEV1/Fillmore_Cancer/cat/Users/data_from_vinci/dvt_cancer_20230613/data_for_tf_model/processed/Phe_Lab/train --tuning_metric 3day_auroc_c --use_age_embed --use_dxtime_embed --use_index_embed --use_time_embed --weight_decay 0.001 --log_name=fa25608c9ccdbf85749eb16ff216e568 --log_dir=logs_transformer_vte/L/4_8\n"
     ]
    }
   ],
   "source": [
    "%run src/scripts/schedulers/expr_dispatcher.py --experiment-config-path src/configs/Phe_Lab2/S_5_7.json"
   ]
  },
  {
   "cell_type": "code",
   "execution_count": 3,
   "id": "97280d32-9e9f-4d3f-9036-c63066ced8e8",
   "metadata": {
    "tags": []
   },
   "outputs": [
    {
     "name": "stdout",
     "output_type": "stream",
     "text": [
      "args: Namespace(experiment_config_path='src/configs/Phe_Lab2/S_5_8.json', force_rerun=False, force_evaluate=False)\n",
      "python src/scripts/main.py  --add_bmi_neuron --add_race_neuron --add_sex_neuron --ageseq_event --class_bal --cuda --dev --dev_data_dir //vacrrdevmavdi01.vha.med.va.gov/MAVDEV1/Fillmore_Cancer/cat/Users/data_from_vinci/dvt_cancer_20230613/data_for_tf_model/processed/Phe_Lab/dev --device cuda:0 --disease_code_system phe_lab --epochs 25 --eval_auprc --eval_auroc --eval_batch_size 128 --filter_max_len --hidden_dim 64 --init_lr 0.001 --log_dir logs_transformer_vte/L/4_9 --lr_decay 0.3 --max_batches_per_dev_epoch 1000 --max_batches_per_train_epoch 2000 --max_days_before_index 1000 --max_eval_indices 1 --max_events_length 1000 --max_year_before_index 4 --model_dir snapshot_vte/L --model_name transformer --month_endpoints 3 --num_heads 8 --num_layers 1 --num_workers 0 --optimizer adam --pad_size 450 --pool_name Softmax_AttentionPool --start_at_dx_300 --start_noise_days --start_noise_len 30 --test --test_data_dir //vacrrdevmavdi01.vha.med.va.gov/MAVDEV1/Fillmore_Cancer/cat/Users/data_from_vinci/dvt_cancer_20230613/data_for_tf_model/processed/Phe_Lab/test --time_embed_dim 64 --train --train_batch_size 256 --train_data_dir //vacrrdevmavdi01.vha.med.va.gov/MAVDEV1/Fillmore_Cancer/cat/Users/data_from_vinci/dvt_cancer_20230613/data_for_tf_model/processed/Phe_Lab/train --tuning_metric 3day_auroc_c --use_age_embed --use_dxtime_embed --use_index_embed --use_time_embed --weight_decay 0.001 --log_name=43f1b2a5b1b79eee2feead6b59a708a2 --log_dir=logs_transformer_vte/L/4_9\n"
     ]
    },
    {
     "ename": "KeyboardInterrupt",
     "evalue": "",
     "output_type": "error",
     "traceback": [
      "\u001b[1;31m---------------------------------------------------------------------------\u001b[0m",
      "\u001b[1;31mKeyboardInterrupt\u001b[0m                         Traceback (most recent call last)",
      "File \u001b[1;32mG:\\FillmoreCancerData\\markhe\\VTERisk\\src\\scripts\\schedulers\\expr_dispatcher.py:94\u001b[0m\n\u001b[0;32m     89\u001b[0m job_list, _ \u001b[38;5;241m=\u001b[39m parsing\u001b[38;5;241m.\u001b[39mparse_dispatcher_config(config)\n\u001b[0;32m     91\u001b[0m \u001b[38;5;66;03m# print(job_list)\u001b[39;00m\n\u001b[0;32m     92\u001b[0m \n\u001b[0;32m     93\u001b[0m \u001b[38;5;66;03m# [print(params) for params in job_list]\u001b[39;00m\n\u001b[1;32m---> 94\u001b[0m [launch_experiment(gpu\u001b[38;5;241m=\u001b[39m\u001b[38;5;241m2\u001b[39m, flag_string\u001b[38;5;241m=\u001b[39m\u001b[38;5;28mstr\u001b[39m(params)) \u001b[38;5;28;01mfor\u001b[39;00m params \u001b[38;5;129;01min\u001b[39;00m job_list]\n\u001b[0;32m     95\u001b[0m \u001b[38;5;66;03m# launch_experiment(gpu=2, flag_string=job_list[0])\u001b[39;00m\n\u001b[0;32m     97\u001b[0m sys\u001b[38;5;241m.\u001b[39mexit(\u001b[38;5;241m0\u001b[39m)\n",
      "File \u001b[1;32mG:\\FillmoreCancerData\\markhe\\VTERisk\\src\\scripts\\schedulers\\expr_dispatcher.py:94\u001b[0m, in \u001b[0;36m<listcomp>\u001b[1;34m(.0)\u001b[0m\n\u001b[0;32m     89\u001b[0m job_list, _ \u001b[38;5;241m=\u001b[39m parsing\u001b[38;5;241m.\u001b[39mparse_dispatcher_config(config)\n\u001b[0;32m     91\u001b[0m \u001b[38;5;66;03m# print(job_list)\u001b[39;00m\n\u001b[0;32m     92\u001b[0m \n\u001b[0;32m     93\u001b[0m \u001b[38;5;66;03m# [print(params) for params in job_list]\u001b[39;00m\n\u001b[1;32m---> 94\u001b[0m [launch_experiment(gpu\u001b[38;5;241m=\u001b[39m\u001b[38;5;241m2\u001b[39m, flag_string\u001b[38;5;241m=\u001b[39m\u001b[38;5;28mstr\u001b[39m(params)) \u001b[38;5;28;01mfor\u001b[39;00m params \u001b[38;5;129;01min\u001b[39;00m job_list]\n\u001b[0;32m     95\u001b[0m \u001b[38;5;66;03m# launch_experiment(gpu=2, flag_string=job_list[0])\u001b[39;00m\n\u001b[0;32m     97\u001b[0m sys\u001b[38;5;241m.\u001b[39mexit(\u001b[38;5;241m0\u001b[39m)\n",
      "File \u001b[1;32mG:\\FillmoreCancerData\\markhe\\VTERisk\\src\\scripts\\schedulers\\expr_dispatcher.py:73\u001b[0m, in \u001b[0;36mlaunch_experiment\u001b[1;34m(gpu, flag_string)\u001b[0m\n\u001b[0;32m     70\u001b[0m         \u001b[38;5;28mprint\u001b[39m(\u001b[38;5;124m\"\u001b[39m\u001b[38;5;124m[WARNING] Overiding the alert \u001b[39m\u001b[38;5;132;01m{RESULTS_PATH_APPEAR_ERR}\u001b[39;00m\u001b[38;5;124m...\u001b[39m\u001b[38;5;124m\"\u001b[39m)\n\u001b[0;32m     72\u001b[0m \u001b[38;5;66;03m# pp.pprint(\"[CMD] Launched exp: {}\".format(shell_cmd))\u001b[39;00m\n\u001b[1;32m---> 73\u001b[0m os\u001b[38;5;241m.\u001b[39msystem(shell_cmd)\n",
      "\u001b[1;31mKeyboardInterrupt\u001b[0m: "
     ]
    }
   ],
   "source": [
    "%run src/scripts/schedulers/expr_dispatcher.py --experiment-config-path src/configs/Phe_Lab2/S_5_8.json"
   ]
  },
  {
   "cell_type": "code",
   "execution_count": 2,
   "id": "82c4185a-5073-494a-91d6-23c43878f89b",
   "metadata": {
    "tags": []
   },
   "outputs": [
    {
     "name": "stdout",
     "output_type": "stream",
     "text": [
      "args: Namespace(experiment_config_path='src/configs/Phe_Lab2/S_5_3.json', force_rerun=False, force_evaluate=False)\n",
      "python src/scripts/main.py  --add_bmi_neuron --add_race_neuron --add_sex_neuron --ageseq_event --class_bal --code_to_index_file snapshot_vte/L/b392ae9b06253a11e93075633e09ea7f.code_map --cuda --dev --dev_data_dir //vacrrdevmavdi01.vha.med.va.gov/MAVDEV1/Fillmore_Cancer/cat/Users/data_from_vinci/dvt_cancer_20230613/data_for_tf_model/processed/Phe_Lab/dev --device cuda:0 --disease_code_system phe_lab --epochs 25 --eval_auprc --eval_auroc --eval_batch_size 128 --filter_max_len --hidden_dim 64 --init_lr 0.00125 --log_dir logs_transformer_vte/L/4_7 --lr_decay 0.3 --max_batches_per_dev_epoch 1000 --max_batches_per_train_epoch 2000 --max_days_before_index 1000 --max_eval_indices 1 --max_events_length 800 --max_year_before_index 4 --model_dir snapshot_vte/L --model_name transformer --month_endpoints 3 --num_heads 8 --num_layers 1 --num_workers 0 --optimizer adam --pad_size 400 --pool_name Softmax_AttentionPool --snapshot snapshot_vte/L/model_b392ae9b06253a11e93075633e09ea7f_model.pt --start_at_dx_400 --start_noise_days --start_noise_len 80 --test --test_data_dir //vacrrdevmavdi01.vha.med.va.gov/MAVDEV1/Fillmore_Cancer/cat/Users/data_from_vinci/dvt_cancer_20230613/data_for_tf_model/processed/Phe_Lab/test --time_embed_dim 64 --train --train_batch_size 256 --train_data_dir //vacrrdevmavdi01.vha.med.va.gov/MAVDEV1/Fillmore_Cancer/cat/Users/data_from_vinci/dvt_cancer_20230613/data_for_tf_model/processed/Phe_Lab/train --tuning_metric 3day_auroc_c --use_age_embed --use_dxtime_embed --use_index_embed --use_time_embed --weight_decay 0.001 --log_name=4e130c0b566c0aa28e48b426bf0189ef --log_dir=logs_transformer_vte/L/4_7\n"
     ]
    },
    {
     "ename": "KeyboardInterrupt",
     "evalue": "",
     "output_type": "error",
     "traceback": [
      "\u001b[1;31m---------------------------------------------------------------------------\u001b[0m",
      "\u001b[1;31mKeyboardInterrupt\u001b[0m                         Traceback (most recent call last)",
      "File \u001b[1;32mG:\\FillmoreCancerData\\markhe\\VTERisk\\src\\scripts\\schedulers\\expr_dispatcher.py:94\u001b[0m\n\u001b[0;32m     89\u001b[0m job_list, _ \u001b[38;5;241m=\u001b[39m parsing\u001b[38;5;241m.\u001b[39mparse_dispatcher_config(config)\n\u001b[0;32m     91\u001b[0m \u001b[38;5;66;03m# print(job_list)\u001b[39;00m\n\u001b[0;32m     92\u001b[0m \n\u001b[0;32m     93\u001b[0m \u001b[38;5;66;03m# [print(params) for params in job_list]\u001b[39;00m\n\u001b[1;32m---> 94\u001b[0m [launch_experiment(gpu\u001b[38;5;241m=\u001b[39m\u001b[38;5;241m2\u001b[39m, flag_string\u001b[38;5;241m=\u001b[39m\u001b[38;5;28mstr\u001b[39m(params)) \u001b[38;5;28;01mfor\u001b[39;00m params \u001b[38;5;129;01min\u001b[39;00m job_list]\n\u001b[0;32m     95\u001b[0m \u001b[38;5;66;03m# launch_experiment(gpu=2, flag_string=job_list[0])\u001b[39;00m\n\u001b[0;32m     97\u001b[0m sys\u001b[38;5;241m.\u001b[39mexit(\u001b[38;5;241m0\u001b[39m)\n",
      "File \u001b[1;32mG:\\FillmoreCancerData\\markhe\\VTERisk\\src\\scripts\\schedulers\\expr_dispatcher.py:94\u001b[0m, in \u001b[0;36m<listcomp>\u001b[1;34m(.0)\u001b[0m\n\u001b[0;32m     89\u001b[0m job_list, _ \u001b[38;5;241m=\u001b[39m parsing\u001b[38;5;241m.\u001b[39mparse_dispatcher_config(config)\n\u001b[0;32m     91\u001b[0m \u001b[38;5;66;03m# print(job_list)\u001b[39;00m\n\u001b[0;32m     92\u001b[0m \n\u001b[0;32m     93\u001b[0m \u001b[38;5;66;03m# [print(params) for params in job_list]\u001b[39;00m\n\u001b[1;32m---> 94\u001b[0m [launch_experiment(gpu\u001b[38;5;241m=\u001b[39m\u001b[38;5;241m2\u001b[39m, flag_string\u001b[38;5;241m=\u001b[39m\u001b[38;5;28mstr\u001b[39m(params)) \u001b[38;5;28;01mfor\u001b[39;00m params \u001b[38;5;129;01min\u001b[39;00m job_list]\n\u001b[0;32m     95\u001b[0m \u001b[38;5;66;03m# launch_experiment(gpu=2, flag_string=job_list[0])\u001b[39;00m\n\u001b[0;32m     97\u001b[0m sys\u001b[38;5;241m.\u001b[39mexit(\u001b[38;5;241m0\u001b[39m)\n",
      "File \u001b[1;32mG:\\FillmoreCancerData\\markhe\\VTERisk\\src\\scripts\\schedulers\\expr_dispatcher.py:73\u001b[0m, in \u001b[0;36mlaunch_experiment\u001b[1;34m(gpu, flag_string)\u001b[0m\n\u001b[0;32m     70\u001b[0m         \u001b[38;5;28mprint\u001b[39m(\u001b[38;5;124m\"\u001b[39m\u001b[38;5;124m[WARNING] Overiding the alert \u001b[39m\u001b[38;5;132;01m{RESULTS_PATH_APPEAR_ERR}\u001b[39;00m\u001b[38;5;124m...\u001b[39m\u001b[38;5;124m\"\u001b[39m)\n\u001b[0;32m     72\u001b[0m \u001b[38;5;66;03m# pp.pprint(\"[CMD] Launched exp: {}\".format(shell_cmd))\u001b[39;00m\n\u001b[1;32m---> 73\u001b[0m os\u001b[38;5;241m.\u001b[39msystem(shell_cmd)\n",
      "\u001b[1;31mKeyboardInterrupt\u001b[0m: "
     ]
    }
   ],
   "source": [
    "%run src/scripts/schedulers/expr_dispatcher.py --experiment-config-path src/configs/Phe_Lab2/S_5_3.json"
   ]
  },
  {
   "cell_type": "code",
   "execution_count": 9,
   "id": "234f465d-0098-460e-ab1f-4be91c10b2f1",
   "metadata": {
    "tags": []
   },
   "outputs": [
    {
     "name": "stdout",
     "output_type": "stream",
     "text": [
      "args: Namespace(experiment_config_path='src/configs/Phe_Lab2/ResumeR_4_3b.json', force_rerun=False, force_evaluate=False)\n",
      "python src/scripts/main.py  --add_bmi_neuron --add_race_neuron --add_sex_neuron --ageseq_event --class_bal --code_to_index_file snapshot_vte/L/b392ae9b06253a11e93075633e09ea7f.code_map --cuda --dev --dev_data_dir //vacrrdevmavdi01.vha.med.va.gov/MAVDEV1/Fillmore_Cancer/cat/Users/data_from_vinci/dvt_cancer_20230613/data_for_tf_model/processed/Phe_Lab/dev --device cuda:0 --disease_code_system phe_lab --epochs 18 --eval_auprc --eval_auroc --eval_batch_size 128 --filter_max_len --hidden_dim 64 --init_lr 0.00125 --log_dir logs_transformer_vte/L/4_4 --lr_decay 0.3 --max_batches_per_dev_epoch 1000 --max_batches_per_train_epoch 2000 --max_days_before_index 1000 --max_eval_indices 1 --max_events_length 800 --max_year_before_index 4 --model_dir snapshot_vte/L --model_name transformer --month_endpoints 3 --num_heads 8 --num_layers 1 --num_workers 0 --optimizer adam --pad_size 400 --pool_name Softmax_AttentionPool --snapshot snapshot_vte/L/model_b392ae9b06253a11e93075633e09ea7f_model.pt --start_at_dx_100 --start_noise_days --start_noise_len 20 --test --test_data_dir //vacrrdevmavdi01.vha.med.va.gov/MAVDEV1/Fillmore_Cancer/cat/Users/data_from_vinci/dvt_cancer_20230613/data_for_tf_model/processed/Phe_Lab/test --time_embed_dim 64 --train --train_batch_size 256 --train_data_dir //vacrrdevmavdi01.vha.med.va.gov/MAVDEV1/Fillmore_Cancer/cat/Users/data_from_vinci/dvt_cancer_20230613/data_for_tf_model/processed/Phe_Lab/train --tuning_metric 3day_auroc_c --use_age_embed --use_dxtime_embed --use_time_embed --weight_decay 0.001 --log_name=5b7a6f08c52bd6c672dea030d40bccbd --log_dir=logs_transformer_vte/L/4_4\n"
     ]
    }
   ],
   "source": [
    "%run src/scripts/schedulers/expr_dispatcher.py --experiment-config-path src/configs/Phe_Lab2/ResumeR_4_3b.json"
   ]
  },
  {
   "cell_type": "code",
   "execution_count": 10,
   "id": "c14f30c7-3c60-4f21-9d07-869893d17cf0",
   "metadata": {
    "tags": []
   },
   "outputs": [
    {
     "name": "stdout",
     "output_type": "stream",
     "text": [
      "args: Namespace(experiment_config_path='src/configs/Phe_Lab2/S_4_4_180.json', force_rerun=False, force_evaluate=False)\n",
      "python src/scripts/main.py  --add_bmi_neuron --add_race_neuron --add_sex_neuron --ageseq_event --class_bal --cuda --dev --dev_data_dir //vacrrdevmavdi01.vha.med.va.gov/MAVDEV1/Fillmore_Cancer/cat/Users/data_from_vinci/dvt_cancer_20230613/data_for_tf_model/processed/Phe_Lab/dev --device cuda:0 --disease_code_system phe_lab --epochs 35 --eval_auprc --eval_auroc --eval_batch_size 128 --filter_max_len --hidden_dim 64 --init_lr 0.00125 --log_dir logs_transformer_vte/L/4_4 --lr_decay 0.3 --max_batches_per_dev_epoch 1000 --max_batches_per_train_epoch 2000 --max_days_before_index 1000 --max_eval_indices 1 --max_events_length 1000 --max_year_before_index 4 --model_dir snapshot_vte/L --model_name transformer --month_endpoints 3 --num_heads 8 --num_layers 1 --num_workers 0 --optimizer adam --pad_size 400 --pool_name Softmax_AttentionPool --start_at_dx_200 --start_noise_days --start_noise_len 20 --test --test_data_dir //vacrrdevmavdi01.vha.med.va.gov/MAVDEV1/Fillmore_Cancer/cat/Users/data_from_vinci/dvt_cancer_20230613/data_for_tf_model/processed/Phe_Lab/test --time_embed_dim 64 --train --train_batch_size 256 --train_data_dir //vacrrdevmavdi01.vha.med.va.gov/MAVDEV1/Fillmore_Cancer/cat/Users/data_from_vinci/dvt_cancer_20230613/data_for_tf_model/processed/Phe_Lab/train --tuning_metric 3day_auroc_c --use_age_embed --use_dxtime_embed --use_time_embed --weight_decay 0.001 --log_name=9bcbae718bd7da99ec851d560ad2336e --log_dir=logs_transformer_vte/L/4_4\n"
     ]
    }
   ],
   "source": [
    "%run src/scripts/schedulers/expr_dispatcher.py --experiment-config-path src/configs/Phe_Lab2/S_4_4_180.json"
   ]
  },
  {
   "cell_type": "code",
   "execution_count": 11,
   "id": "8feb8d7c-f134-4f90-98c0-11367092995d",
   "metadata": {
    "tags": []
   },
   "outputs": [
    {
     "name": "stdout",
     "output_type": "stream",
     "text": [
      "args: Namespace(experiment_config_path='src/configs/Phe_Lab2/S_4_4_90.json', force_rerun=False, force_evaluate=False)\n",
      "python src/scripts/main.py  --add_bmi_neuron --add_race_neuron --add_sex_neuron --ageseq_event --class_bal --cuda --dev --dev_data_dir //vacrrdevmavdi01.vha.med.va.gov/MAVDEV1/Fillmore_Cancer/cat/Users/data_from_vinci/dvt_cancer_20230613/data_for_tf_model/processed/Phe_Lab/dev --device cuda:0 --disease_code_system phe_lab --epochs 35 --eval_auprc --eval_auroc --eval_batch_size 128 --filter_max_len --hidden_dim 64 --init_lr 0.00125 --log_dir logs_transformer_vte/L/4_4 --lr_decay 0.3 --max_batches_per_dev_epoch 1000 --max_batches_per_train_epoch 2000 --max_days_before_index 1000 --max_eval_indices 1 --max_events_length 1000 --max_year_before_index 4 --model_dir snapshot_vte/L --model_name transformer --month_endpoints 3 --num_heads 8 --num_layers 1 --num_workers 0 --optimizer adam --pad_size 400 --pool_name Softmax_AttentionPool --start_at_dx_150 --start_noise_days --start_noise_len 60 --test --test_data_dir //vacrrdevmavdi01.vha.med.va.gov/MAVDEV1/Fillmore_Cancer/cat/Users/data_from_vinci/dvt_cancer_20230613/data_for_tf_model/processed/Phe_Lab/test --time_embed_dim 64 --train --train_batch_size 256 --train_data_dir //vacrrdevmavdi01.vha.med.va.gov/MAVDEV1/Fillmore_Cancer/cat/Users/data_from_vinci/dvt_cancer_20230613/data_for_tf_model/processed/Phe_Lab/train --tuning_metric 3day_auroc_c --use_age_embed --use_dxtime_embed --use_time_embed --weight_decay 0.001 --log_name=2f0826be68aa07b7aefd365c86658e5e --log_dir=logs_transformer_vte/L/4_4\n"
     ]
    }
   ],
   "source": [
    "%run src/scripts/schedulers/expr_dispatcher.py --experiment-config-path src/configs/Phe_Lab2/S_4_4_90.json"
   ]
  },
  {
   "cell_type": "code",
   "execution_count": null,
   "id": "b983cb79-60b2-4a69-8be9-f7a7181af47c",
   "metadata": {
    "tags": []
   },
   "outputs": [
    {
     "name": "stdout",
     "output_type": "stream",
     "text": [
      "args: Namespace(experiment_config_path='src/configs/Phe_Lab2/S_4_4_180.json', force_rerun=False, force_evaluate=False)\n",
      "python src/scripts/main.py  --add_bmi_neuron --add_race_neuron --add_sex_neuron --ageseq_event --class_bal --cuda --dev --dev_data_dir //vacrrdevmavdi01.vha.med.va.gov/MAVDEV1/Fillmore_Cancer/cat/Users/data_from_vinci/dvt_cancer_20230613/data_for_tf_model/processed/Phe_Lab/dev --device cuda:0 --disease_code_system phe_lab --epochs 35 --eval_auprc --eval_auroc --eval_batch_size 128 --filter_max_len --hidden_dim 64 --init_lr 0.00125 --log_dir logs_transformer_vte/L/4_4 --lr_decay 0.3 --max_batches_per_dev_epoch 1000 --max_batches_per_train_epoch 2000 --max_days_before_index 1000 --max_eval_indices 1 --max_events_length 1000 --max_year_before_index 4 --model_dir snapshot_vte/L --model_name transformer --month_endpoints 3 --num_heads 8 --num_layers 1 --num_workers 0 --optimizer adam --pad_size 400 --pool_name Softmax_AttentionPool --start_at_dx_200 --start_noise_days --start_noise_len 20 --test --test_data_dir //vacrrdevmavdi01.vha.med.va.gov/MAVDEV1/Fillmore_Cancer/cat/Users/data_from_vinci/dvt_cancer_20230613/data_for_tf_model/processed/Phe_Lab/test --time_embed_dim 64 --train --train_batch_size 256 --train_data_dir //vacrrdevmavdi01.vha.med.va.gov/MAVDEV1/Fillmore_Cancer/cat/Users/data_from_vinci/dvt_cancer_20230613/data_for_tf_model/processed/Phe_Lab/train --tuning_metric 3day_auroc_c --use_age_embed --use_dxtime_embed --use_time_embed --weight_decay 0.001 --log_name=9bcbae718bd7da99ec851d560ad2336e --log_dir=logs_transformer_vte/L/4_4\n"
     ]
    }
   ],
   "source": [
    "%run src/scripts/schedulers/expr_dispatcher.py --experiment-config-path src/configs/Phe_Lab2/S_4_4_180.json"
   ]
  },
  {
   "cell_type": "code",
   "execution_count": 7,
   "id": "9aeaec1f-05bd-498f-a948-a0ebd418820d",
   "metadata": {
    "tags": []
   },
   "outputs": [
    {
     "name": "stdout",
     "output_type": "stream",
     "text": [
      "args: Namespace(experiment_config_path='src/configs/Phe_Lab2/R_4_3d.json', force_rerun=False, force_evaluate=False)\n",
      "python src/scripts/main.py  --add_bmi_neuron --add_race_neuron --add_sex_neuron --ageseq_event --class_bal --cuda --dev --dev_data_dir //vacrrdevmavdi01.vha.med.va.gov/MAVDEV1/Fillmore_Cancer/cat/Users/data_from_vinci/dvt_cancer_20230613/data_for_tf_model/processed/Phe_Lab/dev --device cuda:0 --disease_code_system phe_lab --epochs 20 --eval_auprc --eval_auroc --eval_batch_size 128 --filter_max_len --hidden_dim 64 --init_lr 0.00125 --log_dir logs_transformer_vte/L/4_4 --lr_decay 0.3 --max_batches_per_dev_epoch 1000 --max_batches_per_train_epoch 2000 --max_days_before_index 1000 --max_eval_indices 1 --max_events_length 800 --max_year_before_index 4 --model_dir snapshot_vte/L --model_name transformer --month_endpoints 3 --num_heads 8 --num_layers 1 --num_workers 0 --optimizer adam --pad_size 400 --pool_name Softmax_AttentionPool --start_at_dx_200 --test --test_data_dir //vacrrdevmavdi01.vha.med.va.gov/MAVDEV1/Fillmore_Cancer/cat/Users/data_from_vinci/dvt_cancer_20230613/data_for_tf_model/processed/Phe_Lab/test --time_embed_dim 64 --train --train_batch_size 256 --train_data_dir //vacrrdevmavdi01.vha.med.va.gov/MAVDEV1/Fillmore_Cancer/cat/Users/data_from_vinci/dvt_cancer_20230613/data_for_tf_model/processed/Phe_Lab/train --tuning_metric 3day_auroc_c --use_age_embed --use_dxtime_embed --use_time_embed --weight_decay 0.001 --log_name=d39269b043ec4bd9a08ce0b76b5c59d8 --log_dir=logs_transformer_vte/L/4_4\n"
     ]
    }
   ],
   "source": [
    "%run src/scripts/schedulers/expr_dispatcher.py --experiment-config-path src/configs/Phe_Lab2/R_4_3d.json"
   ]
  },
  {
   "cell_type": "code",
   "execution_count": null,
   "id": "25138b26-28d2-4b7a-8093-d6b493b988cc",
   "metadata": {},
   "outputs": [],
   "source": [
    "%run src/scripts/schedulers/expr_dispatcher.py --experiment-config-path src/configs/Phe_Lab2/R_4_3b.json"
   ]
  },
  {
   "cell_type": "code",
   "execution_count": 2,
   "id": "f7b79e2c-46df-4c75-9058-96bd97466e7b",
   "metadata": {
    "tags": []
   },
   "outputs": [
    {
     "name": "stdout",
     "output_type": "stream",
     "text": [
      "args: Namespace(experiment_config_path='src/configs/Phe_Lab/A/A4_minlen40.json', force_rerun=False, force_evaluate=False)\n",
      "python src/scripts/main.py  --add_bmi_neuron --add_race_neuron --add_sex_neuron --ageseq_event --class_bal --cuda --dev --dev_data_dir //vacrrdevmavdi01.vha.med.va.gov/MAVDEV1/Fillmore_Cancer/cat/Users/data_from_vinci/dvt_cancer_20230613/data_for_tf_model/processed/Phe_Lab/dev --device cuda:0 --disease_code_system phe_lab --epochs 28 --eval_auprc --eval_auroc --eval_batch_size 128 --filter_max_len --hidden_dim 64 --init_lr 0.001 --log_dir logs_transformer_vte/L/3_16 --lr_decay 0.3 --max_batches_per_dev_epoch 1000 --max_batches_per_train_epoch 2000 --max_days_before_index 1000 --max_eval_indices 1 --max_events_length 800 --max_year_before_index 4 --min_events_length 40 --model_dir snapshot_vte/L --model_name transformer --month_endpoints 3 --num_heads 8 --num_layers 1 --num_workers 0 --optimizer adam --pad_size 400 --pool_name Softmax_AttentionPool --start_at_dx_100 --start_noise_days --start_noise_len 20 --test --test_data_dir //vacrrdevmavdi01.vha.med.va.gov/MAVDEV1/Fillmore_Cancer/cat/Users/data_from_vinci/dvt_cancer_20230613/data_for_tf_model/processed/Phe_Lab/test --time_embed_dim 64 --train --train_batch_size 256 --train_data_dir //vacrrdevmavdi01.vha.med.va.gov/MAVDEV1/Fillmore_Cancer/cat/Users/data_from_vinci/dvt_cancer_20230613/data_for_tf_model/processed/Phe_Lab/train --tuning_metric 3day_auroc_c --use_age_embed --use_dxtime_embed --use_index_embed --use_time_embed --weight_decay 0.001 --log_name=309f0167d21ea4b8be5e4378789a2b80 --log_dir=logs_transformer_vte/L/3_16\n"
     ]
    }
   ],
   "source": [
    "%run src/scripts/schedulers/expr_dispatcher.py --experiment-config-path src/configs/Phe_Lab/A/A4_minlen40.json"
   ]
  },
  {
   "cell_type": "code",
   "execution_count": null,
   "id": "d013a500-e57c-40aa-9f0e-a47332d142bb",
   "metadata": {},
   "outputs": [],
   "source": [
    "%run src/scripts/schedulers/expr_dispatcher.py --experiment-config-path src/configs/Phe_Lab/A/A3_P400-1000_120_0.json"
   ]
  },
  {
   "cell_type": "code",
   "execution_count": 1,
   "id": "d7fe03c3-b655-4535-8bb4-98aa01b7c670",
   "metadata": {
    "tags": []
   },
   "outputs": [
    {
     "name": "stdout",
     "output_type": "stream",
     "text": [
      "args: Namespace(experiment_config_path='src/configs/Phe_Lab/A/A0_2Lyr.json', force_rerun=False, force_evaluate=False)\n",
      "python src/scripts/main.py  --add_bmi_neuron --add_race_neuron --add_sex_neuron --ageseq_event --class_bal --cuda --dev --dev_data_dir //vacrrdevmavdi01.vha.med.va.gov/MAVDEV1/Fillmore_Cancer/cat/Users/data_from_vinci/dvt_cancer_20230613/data_for_tf_model/processed/Phe_Lab/dev --device cuda:0 --disease_code_system phe_lab --epochs 28 --eval_auprc --eval_auroc --eval_batch_size 64 --filter_max_len --hidden_dim 64 --init_lr 0.001 --log_dir logs_transformer_vte/L/3_7 --lr_decay 0.3 --max_batches_per_dev_epoch 1000 --max_batches_per_train_epoch 2000 --max_days_before_index 1000 --max_eval_indices 1 --max_events_length 800 --max_year_before_index 4 --model_dir snapshot_vte/L --model_name transformer --month_endpoints 3 --num_heads 8 --num_layers 2 --num_workers 0 --optimizer adam --pad_size 300 --pool_name Softmax_AttentionPool --start_at_dx_100 --start_noise_days --start_noise_len 20 --test --test_data_dir //vacrrdevmavdi01.vha.med.va.gov/MAVDEV1/Fillmore_Cancer/cat/Users/data_from_vinci/dvt_cancer_20230613/data_for_tf_model/processed/Phe_Lab/test --time_embed_dim 64 --train --train_batch_size 256 --train_data_dir //vacrrdevmavdi01.vha.med.va.gov/MAVDEV1/Fillmore_Cancer/cat/Users/data_from_vinci/dvt_cancer_20230613/data_for_tf_model/processed/Phe_Lab/train --tuning_metric 3day_auroc_c --use_age_embed --use_dxtime_embed --use_index_embed --use_time_embed --weight_decay 0.001 --log_name=c069ad958413ee368317d792aa4aa2a1 --log_dir=logs_transformer_vte/L/3_7\n"
     ]
    }
   ],
   "source": [
    "%run src/scripts/schedulers/expr_dispatcher.py --experiment-config-path src/configs/Phe_Lab/A/A0_2Lyr.json"
   ]
  },
  {
   "cell_type": "code",
   "execution_count": 1,
   "id": "9cc81c34-36b0-421a-9d75-d97e573839aa",
   "metadata": {
    "tags": []
   },
   "outputs": [
    {
     "name": "stdout",
     "output_type": "stream",
     "text": [
      "args: Namespace(experiment_config_path='src/configs/Phe_Lab/A/A3_P400-1000.json', force_rerun=False, force_evaluate=False)\n",
      "python src/scripts/main.py  --add_bmi_neuron --add_race_neuron --add_sex_neuron --ageseq_event --class_bal --cuda --dev --dev_data_dir //vacrrdevmavdi01.vha.med.va.gov/MAVDEV1/Fillmore_Cancer/cat/Users/data_from_vinci/dvt_cancer_20230613/data_for_tf_model/processed/Phe_Lab/dev --device cuda:0 --disease_code_system phe_lab --epochs 28 --eval_auprc --eval_auroc --eval_batch_size 128 --filter_max_len --hidden_dim 64 --init_lr 0.001 --log_dir logs_transformer_vte/L/3_7 --lr_decay 0.3 --max_batches_per_dev_epoch 1000 --max_batches_per_train_epoch 2000 --max_days_before_index 1000 --max_eval_indices 1 --max_events_length 1000 --max_year_before_index 4 --model_dir snapshot_vte/L --model_name transformer --month_endpoints 3 --num_heads 8 --num_layers 1 --num_workers 0 --optimizer adam --pad_size 400 --pool_name Softmax_AttentionPool --start_at_dx_100 --start_noise_days --start_noise_len 20 --test --test_data_dir //vacrrdevmavdi01.vha.med.va.gov/MAVDEV1/Fillmore_Cancer/cat/Users/data_from_vinci/dvt_cancer_20230613/data_for_tf_model/processed/Phe_Lab/test --time_embed_dim 64 --train --train_batch_size 256 --train_data_dir //vacrrdevmavdi01.vha.med.va.gov/MAVDEV1/Fillmore_Cancer/cat/Users/data_from_vinci/dvt_cancer_20230613/data_for_tf_model/processed/Phe_Lab/train --tuning_metric 3day_auroc_c --use_age_embed --use_dxtime_embed --use_index_embed --use_time_embed --weight_decay 0.001 --log_name=7fc2c1248a939815e1a46692aa98f2ad --log_dir=logs_transformer_vte/L/3_7\n"
     ]
    }
   ],
   "source": [
    "%run src/scripts/schedulers/expr_dispatcher.py --experiment-config-path src/configs/Phe_Lab/A/A3_P400-1000.json"
   ]
  },
  {
   "cell_type": "code",
   "execution_count": 2,
   "id": "44aaee94-a720-47e2-a204-ee4f36b25588",
   "metadata": {
    "tags": []
   },
   "outputs": [
    {
     "name": "stdout",
     "output_type": "stream",
     "text": [
      "args: Namespace(experiment_config_path='src/configs/Phe_Lab/A/A1-dx200-1000.json', force_rerun=False, force_evaluate=False)\n",
      "python src/scripts/main.py  --add_bmi_neuron --add_race_neuron --add_sex_neuron --ageseq_event --class_bal --cuda --dev --dev_data_dir //vacrrdevmavdi01.vha.med.va.gov/MAVDEV1/Fillmore_Cancer/cat/Users/data_from_vinci/dvt_cancer_20230613/data_for_tf_model/processed/Phe_Lab/dev --device cuda:1 --disease_code_system phe_lab --epochs 28 --eval_auprc --eval_auroc --eval_batch_size 128 --filter_max_len --hidden_dim 64 --init_lr 0.00125 --log_dir logs_transformer_vte/L/2_22 --lr_decay 0.3 --max_batches_per_dev_epoch 1000 --max_batches_per_train_epoch 2000 --max_days_before_index 1000 --max_eval_indices 1 --max_events_length 1200 --max_year_before_index 4 --model_dir snapshot_vte/L --model_name transformer --month_endpoints 3 --num_heads 8 --num_layers 1 --num_workers 0 --optimizer adam --pad_size 500 --pool_name Softmax_AttentionPool --start_at_dx_200 --start_noise_days --start_noise_len 40 --test --test_data_dir //vacrrdevmavdi01.vha.med.va.gov/MAVDEV1/Fillmore_Cancer/cat/Users/data_from_vinci/dvt_cancer_20230613/data_for_tf_model/processed/Phe_Lab/test --time_embed_dim 64 --train --train_batch_size 256 --train_data_dir //vacrrdevmavdi01.vha.med.va.gov/MAVDEV1/Fillmore_Cancer/cat/Users/data_from_vinci/dvt_cancer_20230613/data_for_tf_model/processed/Phe_Lab/train --tuning_metric 3day_auroc_c --use_age_embed --use_dxtime_embed --use_index_embed --use_time_embed --weight_decay 0.001 --log_name=deedd79f2317c08494d4302572e99239 --log_dir=logs_transformer_vte/L/2_22\n"
     ]
    }
   ],
   "source": [
    "%run src/scripts/schedulers/expr_dispatcher.py --experiment-config-path src/configs/Phe_Lab/A/A1-dx200-1000.json"
   ]
  },
  {
   "cell_type": "code",
   "execution_count": null,
   "id": "0d9b7e69-c6c3-4f11-b41d-6366ccb066b0",
   "metadata": {
    "tags": []
   },
   "outputs": [
    {
     "name": "stdout",
     "output_type": "stream",
     "text": [
      "args: Namespace(experiment_config_path='src/configs/Phe_Lab/A/A_no_embed.json', force_rerun=False, force_evaluate=False)\n",
      "python src/scripts/main.py  --add_bmi_neuron --add_race_neuron --add_sex_neuron --ageseq_event --class_bal --cuda --dev --dev_data_dir //vacrrdevmavdi01.vha.med.va.gov/MAVDEV1/Fillmore_Cancer/cat/Users/data_from_vinci/dvt_cancer_20230613/data_for_tf_model/processed/Phe_Lab/dev --device cuda:1 --disease_code_system phe_lab --epochs 28 --eval_auprc --eval_auroc --eval_batch_size 128 --filter_max_len --hidden_dim 64 --init_lr 0.00125 --log_dir logs_transformer_vte/L/2_19 --lr_decay 0.3 --max_batches_per_dev_epoch 1000 --max_batches_per_train_epoch 2000 --max_days_before_index 1000 --max_eval_indices 1 --max_events_length 800 --max_year_before_index 4 --model_dir snapshot_vte/L --model_name transformer --month_endpoints 3 --num_heads 8 --num_layers 1 --num_workers 0 --optimizer adam --pad_size 400 --pool_name Softmax_AttentionPool --start_at_dx_100 --start_noise_days --start_noise_len 20 --test --test_data_dir //vacrrdevmavdi01.vha.med.va.gov/MAVDEV1/Fillmore_Cancer/cat/Users/data_from_vinci/dvt_cancer_20230613/data_for_tf_model/processed/Phe_Lab/test --time_embed_dim 64 --train --train_batch_size 256 --train_data_dir //vacrrdevmavdi01.vha.med.va.gov/MAVDEV1/Fillmore_Cancer/cat/Users/data_from_vinci/dvt_cancer_20230613/data_for_tf_model/processed/Phe_Lab/train --tuning_metric 3day_auroc_c --use_age_embed --use_time_embed --weight_decay 0.001 --log_name=fc6bfb112d24bd5bdb16f9ae94235c54 --log_dir=logs_transformer_vte/L/2_19\n"
     ]
    }
   ],
   "source": [
    "%run src/scripts/schedulers/expr_dispatcher.py --experiment-config-path src/configs/Phe_Lab/A/A_no_embed.json"
   ]
  },
  {
   "cell_type": "code",
   "execution_count": 2,
   "id": "3ea46c73-0d54-44d7-a08c-676add3214cc",
   "metadata": {
    "tags": []
   },
   "outputs": [
    {
     "name": "stdout",
     "output_type": "stream",
     "text": [
      "args: Namespace(experiment_config_path='src/configs/Phe/A1-Phe.json', force_rerun=False, force_evaluate=False)\n",
      "python src/scripts/main.py  --add_bmi_neuron --add_race_neuron --add_sex_neuron --ageseq_event --class_bal --cuda --dev --dev_data_dir //vacrrdevmavdi01.vha.med.va.gov/MAVDEV1/Fillmore_Cancer/cat/Users/data_from_vinci/dvt_cancer_20230613/data_for_tf_model/processed/Phe_Lab/dev --device cuda:1 --disease_code_system phe --epochs 18 --eval_auprc --eval_auroc --eval_batch_size 128 --filter_max_len --hidden_dim 64 --init_lr 0.00125 --log_dir logs_transformer_vte/L/2_18 --lr_decay 0.3 --max_batches_per_dev_epoch 1000 --max_batches_per_train_epoch 2000 --max_days_before_index 1000 --max_eval_indices 1 --max_events_length 800 --max_year_before_index 4 --model_dir snapshot_vte/L --model_name transformer --month_endpoints 3 --num_heads 8 --num_layers 1 --num_workers 0 --optimizer adam --pad_size 400 --pool_name Softmax_AttentionPool --start_at_dx_100 --start_noise_days --start_noise_len 20 --test --test_data_dir //vacrrdevmavdi01.vha.med.va.gov/MAVDEV1/Fillmore_Cancer/cat/Users/data_from_vinci/dvt_cancer_20230613/data_for_tf_model/processed/Phe_Lab/test --time_embed_dim 64 --train --train_batch_size 256 --train_data_dir //vacrrdevmavdi01.vha.med.va.gov/MAVDEV1/Fillmore_Cancer/cat/Users/data_from_vinci/dvt_cancer_20230613/data_for_tf_model/processed/Phe_Lab/train --train_log --tuning_metric 3day_auroc_c --use_age_embed --use_dxtime_embed --use_index_embed --use_time_embed --weight_decay 0.001 --log_name=029c82b5e9e256e15e4338000b8cb9f0 --log_dir=logs_transformer_vte/L/2_18\n"
     ]
    }
   ],
   "source": [
    "%run src/scripts/schedulers/expr_dispatcher.py --experiment-config-path src/configs/Phe/A1-Phe.json"
   ]
  },
  {
   "cell_type": "code",
   "execution_count": 2,
   "id": "a2935700-940d-448b-9bf0-bb92f105694c",
   "metadata": {
    "tags": []
   },
   "outputs": [
    {
     "name": "stdout",
     "output_type": "stream",
     "text": [
      "args: Namespace(experiment_config_path='src/configs/Phe_Lab2/a_z2.json', force_rerun=False, force_evaluate=False)\n",
      "python src/scripts/main.py  --add_bmi_neuron --add_race_neuron --add_sex_neuron --ageseq_event --class_bal --cuda --dev --dev_data_dir //vacrrdevmavdi01.vha.med.va.gov/MAVDEV1/Fillmore_Cancer/cat/Users/data_from_vinci/dvt_cancer_20230613/data_for_tf_model/processed/Phe_Lab2/dev --device cuda:1 --disease_code_system phe_lab --epochs 38 --eval_auprc --eval_auroc --eval_batch_size 64 --filter_max_len --hidden_dim 64 --init_lr 0.00124 --log_dir logs_transformer_vte/L/1_28 --lr_decay 0.3 --max_batches_per_dev_epoch 1000 --max_batches_per_train_epoch 2000 --max_days_before_index 800 --max_eval_indices 1 --max_events_length 800 --max_year_before_index 4 --model_dir snapshot_vte/L --model_name transformer --month_endpoints 3 --num_heads 8 --num_layers 1 --num_workers 0 --optimizer adam --pad_size 500 --pool_name Softmax_AttentionPool --start_at_dx_100 --start_noise_days --start_noise_len 20 --test --test_data_dir //vacrrdevmavdi01.vha.med.va.gov/MAVDEV1/Fillmore_Cancer/cat/Users/data_from_vinci/dvt_cancer_20230613/data_for_tf_model/processed/Phe_Lab2/test --time_embed_dim 64 --train --train_batch_size 256 --train_data_dir //vacrrdevmavdi01.vha.med.va.gov/MAVDEV1/Fillmore_Cancer/cat/Users/data_from_vinci/dvt_cancer_20230613/data_for_tf_model/processed/Phe_Lab2/train --tuning_metric 3day_auroc_c --use_age_embed --use_dxtime_embed --use_index_embed --use_time_embed --weight_decay 0.001 --log_name=87b3a64746c84bba24a0744b6089fdab --log_dir=logs_transformer_vte/L/1_28\n"
     ]
    }
   ],
   "source": [
    "%run src/scripts/schedulers/expr_dispatcher.py --experiment-config-path src/configs/Phe_Lab2/a_z2.json"
   ]
  },
  {
   "cell_type": "code",
   "execution_count": null,
   "id": "b7c5ca79-b54f-465b-98da-3b1259f9ba27",
   "metadata": {},
   "outputs": [],
   "source": [
    "%run src/scripts/schedulers/expr_dispatcher.py --experiment-config-path src/configs/Phe_Lab/z2_noRace.json"
   ]
  },
  {
   "cell_type": "code",
   "execution_count": 1,
   "id": "3c6fedb8-4c3b-4e86-9cef-75381d22a0f2",
   "metadata": {
    "tags": []
   },
   "outputs": [
    {
     "name": "stdout",
     "output_type": "stream",
     "text": [
      "args: Namespace(experiment_config_path='src/configs/Phe_Lab/z2_noRace.json', force_rerun=False, force_evaluate=False)\n",
      "python src/scripts/main.py  --add_bmi_neuron --add_sex_neuron --ageseq_event --class_bal --cuda --dev --dev_data_dir //vacrrdevmavdi01.vha.med.va.gov/MAVDEV1/Fillmore_Cancer/cat/Users/data_from_vinci/dvt_cancer_20230613/data_for_tf_model/processed/Phe_Lab/dev --device cuda:0 --disease_code_system phe_lab --epochs 38 --eval_auprc --eval_auroc --eval_batch_size 64 --filter_max_len --hidden_dim 64 --init_lr 0.00125 --log_dir logs_transformer_vte/L/1_25z2_noRace --lr_decay 0.3 --max_batches_per_dev_epoch 1000 --max_batches_per_train_epoch 2000 --max_days_before_index 800 --max_eval_indices 1 --max_events_length 800 --max_year_before_index 4 --model_dir snapshot_vte/L --model_name transformer --month_endpoints 3 --num_heads 8 --num_layers 1 --num_workers 0 --optimizer adam --pad_size 500 --pool_name Softmax_AttentionPool --start_at_dx_100 --start_noise_days --start_noise_len 20 --test --test_data_dir //vacrrdevmavdi01.vha.med.va.gov/MAVDEV1/Fillmore_Cancer/cat/Users/data_from_vinci/dvt_cancer_20230613/data_for_tf_model/processed/Phe_Lab/test --time_embed_dim 64 --train --train_batch_size 256 --train_data_dir //vacrrdevmavdi01.vha.med.va.gov/MAVDEV1/Fillmore_Cancer/cat/Users/data_from_vinci/dvt_cancer_20230613/data_for_tf_model/processed/Phe_Lab/train --tuning_metric 3day_auroc_c --use_age_embed --use_dxtime_embed --use_index_embed --use_time_embed --weight_decay 0.001 --log_name=01edcb1ca5f2e40cee05ba7e2655a89b --log_dir=logs_transformer_vte/L/1_25z2_noRace\n"
     ]
    }
   ],
   "source": [
    "%run src/scripts/schedulers/expr_dispatcher.py --experiment-config-path src/configs/Phe_Lab/z2_noRace.json"
   ]
  },
  {
   "cell_type": "code",
   "execution_count": 2,
   "id": "9251c687-35ff-43db-9e1d-a425d5b18cac",
   "metadata": {
    "tags": []
   },
   "outputs": [
    {
     "name": "stdout",
     "output_type": "stream",
     "text": [
      "args: Namespace(experiment_config_path='src/configs/Phe_Lab/z2_noind.json', force_rerun=False, force_evaluate=False)\n",
      "python src/scripts/main.py  --add_bmi_neuron --add_race_neuron --add_sex_neuron --ageseq_event --class_bal --cuda --dev --dev_data_dir //vacrrdevmavdi01.vha.med.va.gov/MAVDEV1/Fillmore_Cancer/cat/Users/data_from_vinci/dvt_cancer_20230613/data_for_tf_model/processed/Phe_Lab/dev --device cuda:0 --disease_code_system phe_lab --epochs 38 --eval_auprc --eval_auroc --eval_batch_size 128 --filter_max_len --hidden_dim 64 --init_lr 0.00125 --log_dir logs_transformer_vte/L/1_25z2_noRace --lr_decay 0.3 --max_batches_per_dev_epoch 1000 --max_batches_per_train_epoch 2000 --max_days_before_index 800 --max_eval_indices 1 --max_events_length 800 --max_year_before_index 4 --model_dir snapshot_vte/L --model_name transformer --month_endpoints 3 --num_heads 8 --num_layers 1 --num_workers 0 --optimizer adam --pad_size 500 --pool_name Softmax_AttentionPool --start_at_dx_100 --start_noise_days --start_noise_len 20 --test --test_data_dir //vacrrdevmavdi01.vha.med.va.gov/MAVDEV1/Fillmore_Cancer/cat/Users/data_from_vinci/dvt_cancer_20230613/data_for_tf_model/processed/Phe_Lab/test --time_embed_dim 64 --train --train_batch_size 256 --train_data_dir //vacrrdevmavdi01.vha.med.va.gov/MAVDEV1/Fillmore_Cancer/cat/Users/data_from_vinci/dvt_cancer_20230613/data_for_tf_model/processed/Phe_Lab/train --tuning_metric 3day_auroc_c --use_age_embed --use_dxtime_embed --use_time_embed --weight_decay 0.001 --log_name=9fe6cec2116c2dcb5581e9d92d4cb13f --log_dir=logs_transformer_vte/L/1_25z2_noRace\n"
     ]
    }
   ],
   "source": [
    "%run src/scripts/schedulers/expr_dispatcher.py --experiment-config-path src/configs/Phe_Lab/z2_noind.json"
   ]
  },
  {
   "cell_type": "code",
   "execution_count": 1,
   "id": "c5ef02db-bfba-4728-97d4-5826d080c4bd",
   "metadata": {
    "tags": []
   },
   "outputs": [
    {
     "name": "stdout",
     "output_type": "stream",
     "text": [
      "args: Namespace(experiment_config_path='src/configs/Phe_Lab/ReF6_agetime.json', force_rerun=False, force_evaluate=False)\n",
      "python src/scripts/main.py  --add_bmi_neuron --add_race_neuron --add_sex_neuron --ageseq_event --class_bal --cuda --dev --dev_data_dir //vacrrdevmavdi01.vha.med.va.gov/MAVDEV1/Fillmore_Cancer/cat/Users/data_from_vinci/dvt_cancer_20230613/data_for_tf_model/processed/Phe_Lab/dev --device cuda:0 --disease_code_system phe_lab --epochs 28 --eval_auprc --eval_auroc --eval_batch_size 64 --filter_max_len --hidden_dim 64 --init_lr 0.00125 --log_dir logs_transformer_vte/L/1_21 --lr_decay 0.3 --max_batches_per_dev_epoch 1000 --max_batches_per_train_epoch 2000 --max_days_before_index 1500 --max_eval_indices 1 --max_events_length 500 --max_year_before_index 4 --model_dir snapshot_vte/L --model_name transformer --month_endpoints 3 --num_heads 8 --num_layers 1 --num_workers 0 --optimizer adam --pad_size 300 --pool_name Softmax_AttentionPool --start_at_dx_60 --start_noise_days --start_noise_len 60 --test --test_data_dir //vacrrdevmavdi01.vha.med.va.gov/MAVDEV1/Fillmore_Cancer/cat/Users/data_from_vinci/dvt_cancer_20230613/data_for_tf_model/processed/Phe_Lab/test --time_embed_dim 64 --train --train_batch_size 256 --train_data_dir //vacrrdevmavdi01.vha.med.va.gov/MAVDEV1/Fillmore_Cancer/cat/Users/data_from_vinci/dvt_cancer_20230613/data_for_tf_model/processed/Phe_Lab/train --tuning_metric 3day_auroc_c --use_age_embed --use_time_embed --weight_decay 0.001 --log_name=e58d42ac912f8bb262c8e7e2974f14a3 --log_dir=logs_transformer_vte/L/1_21\n"
     ]
    }
   ],
   "source": [
    "%run src/scripts/schedulers/expr_dispatcher.py --experiment-config-path src/configs/Phe_Lab/ReF6_agetime.json"
   ]
  },
  {
   "cell_type": "code",
   "execution_count": 2,
   "id": "b0a92dc4-b723-4fdc-a9d4-879b31d9d1e7",
   "metadata": {
    "tags": []
   },
   "outputs": [
    {
     "name": "stdout",
     "output_type": "stream",
     "text": [
      "args: Namespace(experiment_config_path='src/configs/Phe_Lab/ReF6_agetime-noNeu.json', force_rerun=False, force_evaluate=False)\n",
      "python src/scripts/main.py  --ageseq_event --class_bal --cuda --dev --dev_data_dir //vacrrdevmavdi01.vha.med.va.gov/MAVDEV1/Fillmore_Cancer/cat/Users/data_from_vinci/dvt_cancer_20230613/data_for_tf_model/processed/Phe_Lab/dev --device cuda:0 --disease_code_system phe_lab --epochs 16 --eval_auprc --eval_auroc --eval_batch_size 64 --filter_max_len --hidden_dim 64 --init_lr 0.00125 --log_dir logs_transformer_vte/L/1_22 --lr_decay 0.3 --max_batches_per_dev_epoch 1000 --max_batches_per_train_epoch 2000 --max_days_before_index 1500 --max_eval_indices 1 --max_events_length 500 --max_year_before_index 4 --model_dir snapshot_vte/L --model_name transformer --month_endpoints 3 --num_heads 8 --num_layers 1 --num_workers 0 --optimizer adam --pad_size 300 --pool_name Softmax_AttentionPool --start_at_dx_60 --start_noise_days --start_noise_len 60 --test --test_data_dir //vacrrdevmavdi01.vha.med.va.gov/MAVDEV1/Fillmore_Cancer/cat/Users/data_from_vinci/dvt_cancer_20230613/data_for_tf_model/processed/Phe_Lab/test --time_embed_dim 64 --train --train_batch_size 256 --train_data_dir //vacrrdevmavdi01.vha.med.va.gov/MAVDEV1/Fillmore_Cancer/cat/Users/data_from_vinci/dvt_cancer_20230613/data_for_tf_model/processed/Phe_Lab/train --tuning_metric 3day_auroc_c --use_age_embed --use_time_embed --weight_decay 0.001 --log_name=e1e05c39f66786a463cb91bae177f4b3 --log_dir=logs_transformer_vte/L/1_22\n"
     ]
    }
   ],
   "source": [
    "%run src/scripts/schedulers/expr_dispatcher.py --experiment-config-path src/configs/Phe_Lab/ReF6_agetime-noNeu.json"
   ]
  },
  {
   "cell_type": "code",
   "execution_count": 17,
   "id": "3320b36f-139c-4bb8-91f6-8e7eebe96d55",
   "metadata": {
    "tags": []
   },
   "outputs": [
    {
     "name": "stdout",
     "output_type": "stream",
     "text": [
      "args: Namespace(experiment_config_path='src/configs/Phe_Lab/ReF5_agetime.json', force_rerun=False, force_evaluate=False)\n",
      "python src/scripts/main.py  --add_bmi_neuron --add_race_neuron --add_sex_neuron --ageseq_event --class_bal --cuda --dev --dev_data_dir //vacrrdevmavdi01.vha.med.va.gov/MAVDEV1/Fillmore_Cancer/cat/Users/data_from_vinci/dvt_cancer_20230613/data_for_tf_model/processed/Phe_Lab/dev --device cuda:0 --disease_code_system phe_lab --epochs 28 --eval_auprc --eval_auroc --eval_batch_size 64 --filter_max_len --hidden_dim 64 --init_lr 0.00125 --log_dir logs_transformer_vte/L/1_22 --lr_decay 0.3 --max_batches_per_dev_epoch 1000 --max_batches_per_train_epoch 2000 --max_days_before_index 1500 --max_eval_indices 1 --max_events_length 500 --max_year_before_index 4 --model_dir snapshot_vte/L --model_name transformer --month_endpoints 3 --num_heads 8 --num_layers 1 --num_workers 0 --optimizer adam --pad_size 300 --pool_name Softmax_AttentionPool --start_at_dx --start_noise_days --start_noise_len 180 --test --test_data_dir //vacrrdevmavdi01.vha.med.va.gov/MAVDEV1/Fillmore_Cancer/cat/Users/data_from_vinci/dvt_cancer_20230613/data_for_tf_model/processed/Phe_Lab/test --time_embed_dim 64 --train --train_batch_size 256 --train_data_dir //vacrrdevmavdi01.vha.med.va.gov/MAVDEV1/Fillmore_Cancer/cat/Users/data_from_vinci/dvt_cancer_20230613/data_for_tf_model/processed/Phe_Lab/train --tuning_metric 3day_auroc_c --use_age_embed --use_time_embed --weight_decay 0.001 --log_name=702f2bb89bddcf0c7d6b619ffa637a9d --log_dir=logs_transformer_vte/L/1_22\n"
     ]
    },
    {
     "ename": "KeyboardInterrupt",
     "evalue": "",
     "output_type": "error",
     "traceback": [
      "\u001b[1;31m---------------------------------------------------------------------------\u001b[0m",
      "\u001b[1;31mKeyboardInterrupt\u001b[0m                         Traceback (most recent call last)",
      "File \u001b[1;32mG:\\FillmoreCancerData\\markhe\\VTERisk\\src\\scripts\\schedulers\\expr_dispatcher.py:94\u001b[0m\n\u001b[0;32m     89\u001b[0m job_list, _ \u001b[38;5;241m=\u001b[39m parsing\u001b[38;5;241m.\u001b[39mparse_dispatcher_config(config)\n\u001b[0;32m     91\u001b[0m \u001b[38;5;66;03m# print(job_list)\u001b[39;00m\n\u001b[0;32m     92\u001b[0m \n\u001b[0;32m     93\u001b[0m \u001b[38;5;66;03m# [print(params) for params in job_list]\u001b[39;00m\n\u001b[1;32m---> 94\u001b[0m [launch_experiment(gpu\u001b[38;5;241m=\u001b[39m\u001b[38;5;241m2\u001b[39m, flag_string\u001b[38;5;241m=\u001b[39m\u001b[38;5;28mstr\u001b[39m(params)) \u001b[38;5;28;01mfor\u001b[39;00m params \u001b[38;5;129;01min\u001b[39;00m job_list]\n\u001b[0;32m     95\u001b[0m \u001b[38;5;66;03m# launch_experiment(gpu=2, flag_string=job_list[0])\u001b[39;00m\n\u001b[0;32m     97\u001b[0m sys\u001b[38;5;241m.\u001b[39mexit(\u001b[38;5;241m0\u001b[39m)\n",
      "File \u001b[1;32mG:\\FillmoreCancerData\\markhe\\VTERisk\\src\\scripts\\schedulers\\expr_dispatcher.py:94\u001b[0m, in \u001b[0;36m<listcomp>\u001b[1;34m(.0)\u001b[0m\n\u001b[0;32m     89\u001b[0m job_list, _ \u001b[38;5;241m=\u001b[39m parsing\u001b[38;5;241m.\u001b[39mparse_dispatcher_config(config)\n\u001b[0;32m     91\u001b[0m \u001b[38;5;66;03m# print(job_list)\u001b[39;00m\n\u001b[0;32m     92\u001b[0m \n\u001b[0;32m     93\u001b[0m \u001b[38;5;66;03m# [print(params) for params in job_list]\u001b[39;00m\n\u001b[1;32m---> 94\u001b[0m [launch_experiment(gpu\u001b[38;5;241m=\u001b[39m\u001b[38;5;241m2\u001b[39m, flag_string\u001b[38;5;241m=\u001b[39m\u001b[38;5;28mstr\u001b[39m(params)) \u001b[38;5;28;01mfor\u001b[39;00m params \u001b[38;5;129;01min\u001b[39;00m job_list]\n\u001b[0;32m     95\u001b[0m \u001b[38;5;66;03m# launch_experiment(gpu=2, flag_string=job_list[0])\u001b[39;00m\n\u001b[0;32m     97\u001b[0m sys\u001b[38;5;241m.\u001b[39mexit(\u001b[38;5;241m0\u001b[39m)\n",
      "File \u001b[1;32mG:\\FillmoreCancerData\\markhe\\VTERisk\\src\\scripts\\schedulers\\expr_dispatcher.py:73\u001b[0m, in \u001b[0;36mlaunch_experiment\u001b[1;34m(gpu, flag_string)\u001b[0m\n\u001b[0;32m     70\u001b[0m         \u001b[38;5;28mprint\u001b[39m(\u001b[38;5;124m\"\u001b[39m\u001b[38;5;124m[WARNING] Overiding the alert \u001b[39m\u001b[38;5;132;01m{RESULTS_PATH_APPEAR_ERR}\u001b[39;00m\u001b[38;5;124m...\u001b[39m\u001b[38;5;124m\"\u001b[39m)\n\u001b[0;32m     72\u001b[0m \u001b[38;5;66;03m# pp.pprint(\"[CMD] Launched exp: {}\".format(shell_cmd))\u001b[39;00m\n\u001b[1;32m---> 73\u001b[0m os\u001b[38;5;241m.\u001b[39msystem(shell_cmd)\n",
      "\u001b[1;31mKeyboardInterrupt\u001b[0m: "
     ]
    }
   ],
   "source": [
    "%run src/scripts/schedulers/expr_dispatcher.py --experiment-config-path src/configs/Phe_Lab/ReF5_agetime.json"
   ]
  },
  {
   "cell_type": "code",
   "execution_count": 15,
   "id": "9e22230f-bc97-45ca-8b19-0a4a29b16309",
   "metadata": {
    "tags": []
   },
   "outputs": [
    {
     "name": "stdout",
     "output_type": "stream",
     "text": [
      "args: Namespace(experiment_config_path='src/configs/Phe_Lab/F2.json', force_rerun=False, force_evaluate=False)\n",
      "python src/scripts/main.py  --add_bmi_neuron --add_race_neuron --add_sex_neuron --ageseq_event --cuda --dev --dev_data_dir //vacrrdevmavdi01.vha.med.va.gov/MAVDEV1/Fillmore_Cancer/cat/Users/data_from_vinci/dvt_cancer_20230613/data_for_tf_model/processed/Phe_Lab/dev --device cuda:1 --disease_code_system phe_lab --epochs 25 --eval_auprc --eval_auroc --eval_batch_size 64 --filter_max_len --hidden_dim 64 --init_lr 0.00125 --log_dir logs_transformer_vte/L/1_20 --lr_decay 0.3 --max_batches_per_dev_epoch 1000 --max_batches_per_train_epoch 2000 --max_days_before_index 720 --max_eval_indices 1 --max_events_length 400 --max_year_before_index 2 --model_dir snapshot_vte/L --model_name transformer --month_endpoints 3 --num_heads 8 --num_layers 1 --num_workers 0 --optimizer adam --pad_size 300 --pool_name Softmax_AttentionPool --start_at_dx --test --test_data_dir //vacrrdevmavdi01.vha.med.va.gov/MAVDEV1/Fillmore_Cancer/cat/Users/data_from_vinci/dvt_cancer_20230613/data_for_tf_model/processed/Phe_Lab/test --time_embed_dim 64 --train --train_batch_size 256 --train_data_dir //vacrrdevmavdi01.vha.med.va.gov/MAVDEV1/Fillmore_Cancer/cat/Users/data_from_vinci/dvt_cancer_20230613/data_for_tf_model/processed/Phe_Lab/train --tuning_metric 3day_auroc_c --use_time_embed --weight_decay 0.001 --log_name=c455a19919d5652a7bd2ec0a9e140163 --log_dir=logs_transformer_vte/L/1_20\n"
     ]
    }
   ],
   "source": [
    "%run src/scripts/schedulers/expr_dispatcher.py --experiment-config-path src/configs/Phe_Lab/F2.json"
   ]
  },
  {
   "cell_type": "code",
   "execution_count": 16,
   "id": "b81b8e6f-2254-4a22-9448-9ecb2192c736",
   "metadata": {
    "tags": []
   },
   "outputs": [
    {
     "name": "stdout",
     "output_type": "stream",
     "text": [
      "args: Namespace(experiment_config_path='src/configs/Phe_Lab/F2-age.json', force_rerun=False, force_evaluate=False)\n",
      "python src/scripts/main.py  --add_age_neuron --add_bmi_neuron --add_race_neuron --add_sex_neuron --ageseq_event --cuda --dev --dev_data_dir //vacrrdevmavdi01.vha.med.va.gov/MAVDEV1/Fillmore_Cancer/cat/Users/data_from_vinci/dvt_cancer_20230613/data_for_tf_model/processed/Phe_Lab/dev --device cuda:1 --disease_code_system phe_lab --epochs 25 --eval_auprc --eval_auroc --eval_batch_size 64 --filter_max_len --hidden_dim 64 --init_lr 0.00125 --log_dir logs_transformer_vte/L/1_20 --lr_decay 0.3 --max_batches_per_dev_epoch 1000 --max_batches_per_train_epoch 2000 --max_days_before_index 720 --max_eval_indices 1 --max_events_length 400 --max_year_before_index 2 --model_dir snapshot_vte/L --model_name transformer --month_endpoints 3 --num_heads 8 --num_layers 1 --num_workers 0 --optimizer adam --pad_size 300 --pool_name Softmax_AttentionPool --start_at_dx --test --test_data_dir //vacrrdevmavdi01.vha.med.va.gov/MAVDEV1/Fillmore_Cancer/cat/Users/data_from_vinci/dvt_cancer_20230613/data_for_tf_model/processed/Phe_Lab/test --time_embed_dim 64 --train --train_batch_size 256 --train_data_dir //vacrrdevmavdi01.vha.med.va.gov/MAVDEV1/Fillmore_Cancer/cat/Users/data_from_vinci/dvt_cancer_20230613/data_for_tf_model/processed/Phe_Lab/train --tuning_metric 3day_auroc_c --use_time_embed --weight_decay 0.001 --log_name=fb1834b6fda34b09f3ea791668122923 --log_dir=logs_transformer_vte/L/1_20\n"
     ]
    }
   ],
   "source": [
    "%run src/scripts/schedulers/expr_dispatcher.py --experiment-config-path src/configs/Phe_Lab/F2-age.json"
   ]
  },
  {
   "cell_type": "code",
   "execution_count": 14,
   "id": "ef096e5f-a131-41c7-b27b-f44806a30e2f",
   "metadata": {
    "tags": []
   },
   "outputs": [
    {
     "name": "stdout",
     "output_type": "stream",
     "text": [
      "args: Namespace(experiment_config_path='src/configs/Phe_Lab/ResuF5_attr-2.json', force_rerun=False, force_evaluate=False)\n",
      "python src/scripts/main.py  --add_bmi_neuron --add_race_neuron --add_sex_neuron --ageseq_event --attribute --code_to_index_file snapshot_vte/L/6ce5fd1dfab933653070261b634fe2f7.code_map --device cpu --disease_code_system phe_lab --epochs 3 --eval_auprc --eval_auroc --eval_batch_size 64 --filter_max_len --hidden_dim 64 --init_lr 0.00121 --log_dir logs_transformer_vte/L/Attr_1_16 --lr_decay 0.3 --max_batches_per_dev_epoch 1000 --max_batches_per_train_epoch 2000 --max_days_before_index 1500 --max_eval_indices 1 --max_events_length 500 --max_year_before_index 4 --model_dir snapshot_vte/L --model_name transformer --month_endpoints 3 --num_heads 8 --num_layers 1 --num_workers 0 --optimizer adam --pad_size 300 --pool_name Softmax_AttentionPool --snapshot snapshot_vte/L/model_6ce5fd1dfab933653070261b634fe2f7_model.pt --start_noise_days --start_noise_len 180 --test_data_dir //vacrrdevmavdi01.vha.med.va.gov/MAVDEV1/Fillmore_Cancer/cat/Users/data_from_vinci/dvt_cancer_20230613/data_for_tf_model/processed/Phe_Lab/test --time_embed_dim 64 --train_batch_size 256 --tuning_metric 3day_auroc_c --use_time_embed --weight_decay 0.001 --log_name=8015e209b8b6411da8f988a783c07dd5 --log_dir=logs_transformer_vte/L/Attr_1_16\n"
     ]
    }
   ],
   "source": [
    "%run src/scripts/schedulers/expr_dispatcher.py --experiment-config-path src/configs/Phe_Lab/ResuF5_attr-2.json"
   ]
  },
  {
   "cell_type": "code",
   "execution_count": 3,
   "id": "35acb243-0cb8-4c78-aa85-8dfb7a6e7359",
   "metadata": {
    "tags": []
   },
   "outputs": [
    {
     "name": "stdout",
     "output_type": "stream",
     "text": [
      "args: Namespace(experiment_config_path='src/configs/Phe_Lab/ResuF5_attr.json', force_rerun=False, force_evaluate=False)\n",
      "python src/scripts/main.py  --add_bmi_neuron --add_race_neuron --add_sex_neuron --ageseq_event --attribute --code_to_index_file snapshot_vte/L/c3d408b6f5cfc77f549f852bfc578fbf.code_map --cuda --device cpu --disease_code_system phe_lab --epochs 2 --eval_auprc --eval_auroc --eval_batch_size 64 --filter_max_len --hidden_dim 64 --init_lr 0.00125 --log_dir logs_transformer_vte/L/1_15 --lr_decay 0.3 --max_batches_per_dev_epoch 1000 --max_batches_per_train_epoch 2000 --max_days_before_index 1500 --max_eval_indices 1 --max_events_length 500 --max_year_before_index 4 --model_dir snapshot_vte/L --model_name transformer --month_endpoints 3 --num_heads 8 --num_layers 1 --num_workers 0 --optimizer adam --pad_size 300 --pool_name Softmax_AttentionPool --snapshot snapshot_vte/L/model_c3d408b6f5cfc77f549f852bfc578fbf_model.pt --start_noise_days --start_noise_len 180 --test --test_data_dir //vacrrdevmavdi01.vha.med.va.gov/MAVDEV1/Fillmore_Cancer/cat/Users/data_from_vinci/dvt_cancer_20230613/data_for_tf_model/processed/Phe_Lab/test --time_embed_dim 64 --train_batch_size 256 --train_data_dir //vacrrdevmavdi01.vha.med.va.gov/MAVDEV1/Fillmore_Cancer/cat/Users/data_from_vinci/dvt_cancer_20230613/data_for_tf_model/processed/Phe_Lab/train --tuning_metric 3day_auroc_c --use_age_embed --use_dxtime_embed --use_index_embed --use_time_embed --weight_decay 0.001 --log_name=008a5d3a6191ed5561631a58f30d6cda --log_dir=logs_transformer_vte/L/1_15\n"
     ]
    }
   ],
   "source": [
    "%run src/scripts/schedulers/expr_dispatcher.py --experiment-config-path src/configs/Phe_Lab/ResuF5_attr.json"
   ]
  },
  {
   "cell_type": "code",
   "execution_count": 1,
   "id": "72e0740b-2e01-44bd-893b-112267f2e763",
   "metadata": {
    "tags": []
   },
   "outputs": [
    {
     "name": "stdout",
     "output_type": "stream",
     "text": [
      "args: Namespace(experiment_config_path='src/configs/Phe_Lab/ReFull5_nobal.json', force_rerun=False, force_evaluate=False)\n",
      "python src/scripts/main.py  --add_bmi_neuron --add_race_neuron --add_sex_neuron --ageseq_event --cuda --dev --dev_data_dir //vacrrdevmavdi01.vha.med.va.gov/MAVDEV1/Fillmore_Cancer/cat/Users/data_from_vinci/dvt_cancer_20230613/data_for_tf_model/processed/Phe_Lab/dev --device cuda:0 --disease_code_system phe_lab --epochs 18 --eval_auprc --eval_auroc --eval_batch_size 64 --filter_max_len --hidden_dim 64 --init_lr 0.00125 --log_dir logs_transformer_vte/L/1_15 --lr_decay 0.3 --max_batches_per_dev_epoch 1000 --max_batches_per_train_epoch 2000 --max_days_before_index 1500 --max_eval_indices 1 --max_events_length 500 --max_year_before_index 4 --model_dir snapshot_vte/L --model_name transformer --month_endpoints 3 --num_heads 8 --num_layers 1 --num_workers 0 --optimizer adam --pad_size 300 --pool_name Softmax_AttentionPool --start_noise_days --start_noise_len 180 --test --test_data_dir //vacrrdevmavdi01.vha.med.va.gov/MAVDEV1/Fillmore_Cancer/cat/Users/data_from_vinci/dvt_cancer_20230613/data_for_tf_model/processed/Phe_Lab/test --time_embed_dim 64 --train --train_batch_size 256 --train_data_dir //vacrrdevmavdi01.vha.med.va.gov/MAVDEV1/Fillmore_Cancer/cat/Users/data_from_vinci/dvt_cancer_20230613/data_for_tf_model/processed/Phe_Lab/train --tuning_metric 3day_auroc_c --use_age_embed --use_dxtime_embed --use_index_embed --use_time_embed --weight_decay 0.001 --log_name=d3c34272bf03c54d81500514dcd5d1eb --log_dir=logs_transformer_vte/L/1_15\n"
     ]
    }
   ],
   "source": [
    "%run src/scripts/schedulers/expr_dispatcher.py --experiment-config-path src/configs/Phe_Lab/ReFull5_nobal.json"
   ]
  },
  {
   "cell_type": "code",
   "execution_count": 2,
   "id": "6ab0475f-459f-4be2-8c25-fec2ee34ac61",
   "metadata": {
    "tags": []
   },
   "outputs": [
    {
     "name": "stdout",
     "output_type": "stream",
     "text": [
      "args: Namespace(experiment_config_path='src/configs/Phe_Lab/Re1b_again.json', force_rerun=False, force_evaluate=False)\n",
      "python src/scripts/main.py  --add_bmi_neuron --add_race_neuron --add_sex_neuron --ageseq_event --cuda --dev --dev_data_dir //vacrrdevmavdi01.vha.med.va.gov/MAVDEV1/Fillmore_Cancer/cat/Users/data_from_vinci/dvt_cancer_20230613/data_for_tf_model/processed/Phe_Lab/dev --device cuda:0 --disease_code_system phe_lab --epochs 38 --eval_auprc --eval_auroc --eval_batch_size 64 --filter_max_len --hidden_dim 64 --init_lr 0.0012 --log_dir logs_transformer_vte/L/1_12 --lr_decay 0.3 --max_batches_per_dev_epoch 1000 --max_batches_per_train_epoch 2000 --max_days_before_index 720 --max_eval_indices 1 --max_events_length 400 --max_year_before_index 2 --model_dir snapshot_vte/L --model_name transformer --month_endpoints 3 --num_heads 8 --num_layers 1 --num_workers 0 --optimizer adam --pad_size 300 --pool_name Softmax_AttentionPool --start_at_dx_neg60 --test --test_data_dir //vacrrdevmavdi01.vha.med.va.gov/MAVDEV1/Fillmore_Cancer/cat/Users/data_from_vinci/dvt_cancer_20230613/data_for_tf_model/processed/Phe_Lab/test --time_embed_dim 64 --train --train_batch_size 256 --train_data_dir //vacrrdevmavdi01.vha.med.va.gov/MAVDEV1/Fillmore_Cancer/cat/Users/data_from_vinci/dvt_cancer_20230613/data_for_tf_model/processed/Phe_Lab/train --tuning_metric 3day_auroc_c --use_age_embed --use_dxtime_embed --use_index_embed --use_time_embed --weight_decay 0.001 --log_name=f4136aa79a9455b7f74f895ec41560a1 --log_dir=logs_transformer_vte/L/1_12\n"
     ]
    },
    {
     "ename": "KeyboardInterrupt",
     "evalue": "",
     "output_type": "error",
     "traceback": [
      "\u001b[1;31m---------------------------------------------------------------------------\u001b[0m",
      "\u001b[1;31mKeyboardInterrupt\u001b[0m                         Traceback (most recent call last)",
      "File \u001b[1;32mG:\\FillmoreCancerData\\markhe\\VTERisk\\src\\scripts\\schedulers\\expr_dispatcher.py:94\u001b[0m\n\u001b[0;32m     89\u001b[0m job_list, _ \u001b[38;5;241m=\u001b[39m parsing\u001b[38;5;241m.\u001b[39mparse_dispatcher_config(config)\n\u001b[0;32m     91\u001b[0m \u001b[38;5;66;03m# print(job_list)\u001b[39;00m\n\u001b[0;32m     92\u001b[0m \n\u001b[0;32m     93\u001b[0m \u001b[38;5;66;03m# [print(params) for params in job_list]\u001b[39;00m\n\u001b[1;32m---> 94\u001b[0m [launch_experiment(gpu\u001b[38;5;241m=\u001b[39m\u001b[38;5;241m2\u001b[39m, flag_string\u001b[38;5;241m=\u001b[39m\u001b[38;5;28mstr\u001b[39m(params)) \u001b[38;5;28;01mfor\u001b[39;00m params \u001b[38;5;129;01min\u001b[39;00m job_list]\n\u001b[0;32m     95\u001b[0m \u001b[38;5;66;03m# launch_experiment(gpu=2, flag_string=job_list[0])\u001b[39;00m\n\u001b[0;32m     97\u001b[0m sys\u001b[38;5;241m.\u001b[39mexit(\u001b[38;5;241m0\u001b[39m)\n",
      "File \u001b[1;32mG:\\FillmoreCancerData\\markhe\\VTERisk\\src\\scripts\\schedulers\\expr_dispatcher.py:94\u001b[0m, in \u001b[0;36m<listcomp>\u001b[1;34m(.0)\u001b[0m\n\u001b[0;32m     89\u001b[0m job_list, _ \u001b[38;5;241m=\u001b[39m parsing\u001b[38;5;241m.\u001b[39mparse_dispatcher_config(config)\n\u001b[0;32m     91\u001b[0m \u001b[38;5;66;03m# print(job_list)\u001b[39;00m\n\u001b[0;32m     92\u001b[0m \n\u001b[0;32m     93\u001b[0m \u001b[38;5;66;03m# [print(params) for params in job_list]\u001b[39;00m\n\u001b[1;32m---> 94\u001b[0m [launch_experiment(gpu\u001b[38;5;241m=\u001b[39m\u001b[38;5;241m2\u001b[39m, flag_string\u001b[38;5;241m=\u001b[39m\u001b[38;5;28mstr\u001b[39m(params)) \u001b[38;5;28;01mfor\u001b[39;00m params \u001b[38;5;129;01min\u001b[39;00m job_list]\n\u001b[0;32m     95\u001b[0m \u001b[38;5;66;03m# launch_experiment(gpu=2, flag_string=job_list[0])\u001b[39;00m\n\u001b[0;32m     97\u001b[0m sys\u001b[38;5;241m.\u001b[39mexit(\u001b[38;5;241m0\u001b[39m)\n",
      "File \u001b[1;32mG:\\FillmoreCancerData\\markhe\\VTERisk\\src\\scripts\\schedulers\\expr_dispatcher.py:73\u001b[0m, in \u001b[0;36mlaunch_experiment\u001b[1;34m(gpu, flag_string)\u001b[0m\n\u001b[0;32m     70\u001b[0m         \u001b[38;5;28mprint\u001b[39m(\u001b[38;5;124m\"\u001b[39m\u001b[38;5;124m[WARNING] Overiding the alert \u001b[39m\u001b[38;5;132;01m{RESULTS_PATH_APPEAR_ERR}\u001b[39;00m\u001b[38;5;124m...\u001b[39m\u001b[38;5;124m\"\u001b[39m)\n\u001b[0;32m     72\u001b[0m \u001b[38;5;66;03m# pp.pprint(\"[CMD] Launched exp: {}\".format(shell_cmd))\u001b[39;00m\n\u001b[1;32m---> 73\u001b[0m os\u001b[38;5;241m.\u001b[39msystem(shell_cmd)\n",
      "\u001b[1;31mKeyboardInterrupt\u001b[0m: "
     ]
    }
   ],
   "source": [
    "%run src/scripts/schedulers/expr_dispatcher.py --experiment-config-path src/configs/Phe_Lab/Re1b_again.json\n"
   ]
  },
  {
   "cell_type": "code",
   "execution_count": null,
   "id": "dbbecac5-a86e-4353-8772-b6a9f3d1673f",
   "metadata": {
    "tags": []
   },
   "outputs": [],
   "source": [
    "%run src/scripts/schedulers/expr_dispatcher.py --experiment-config-path src/configs/Phe_Lab/Re2.json\n"
   ]
  },
  {
   "cell_type": "code",
   "execution_count": 1,
   "id": "cb4d645c-34a1-40ea-9950-06f900fef03c",
   "metadata": {
    "tags": []
   },
   "outputs": [
    {
     "name": "stdout",
     "output_type": "stream",
     "text": [
      "args: Namespace(experiment_config_path='src/configs/Phe_Lab/Full1_8c.json', force_rerun=False, force_evaluate=False)\n",
      "python src/scripts/main.py  --add_bmi_neuron --add_race_neuron --add_sex_neuron --ageseq_event --cuda --dev --dev_data_dir //vacrrdevmavdi01.vha.med.va.gov/MAVDEV1/Fillmore_Cancer/cat/Users/data_from_vinci/dvt_cancer_20230613/data_for_tf_model/processed/Phe_Lab/dev --device cuda:0 --disease_code_system phe_lab --epochs 32 --eval_auprc --eval_auroc --eval_batch_size 128 --filter_max_len --hidden_dim 64 --init_lr 0.00125 --log_dir logs_transformer_vte/L/1_10 --lr_decay 0.3 --max_batches_per_dev_epoch 1000 --max_batches_per_train_epoch 2000 --max_days_before_index 720 --max_eval_indices 1 --max_events_length 300 --max_year_before_index 2 --model_dir snapshot_vte/L --model_name transformer --month_endpoints 3 --num_heads 8 --num_layers 1 --num_workers 0 --optimizer adam --pad_size 300 --pool_name Softmax_AttentionPool --start_at_dx_60 --start_noise_days --start_noise_len 60 --test --test_data_dir //vacrrdevmavdi01.vha.med.va.gov/MAVDEV1/Fillmore_Cancer/cat/Users/data_from_vinci/dvt_cancer_20230613/data_for_tf_model/processed/Phe_Lab/test --time_embed_dim 64 --train --train_batch_size 256 --train_data_dir //vacrrdevmavdi01.vha.med.va.gov/MAVDEV1/Fillmore_Cancer/cat/Users/data_from_vinci/dvt_cancer_20230613/data_for_tf_model/processed/Phe_Lab/train --tuning_metric 3day_auroc_c --use_age_embed --use_dxtime_embed --use_index_embed --use_time_embed --weight_decay 0.001 --log_name=afc1414916354533107a32d22cc0b73e --log_dir=logs_transformer_vte/L/1_10\n"
     ]
    }
   ],
   "source": [
    "%run src/scripts/schedulers/expr_dispatcher.py --experiment-config-path src/configs/Phe_Lab/Full1_8c.json\n"
   ]
  },
  {
   "cell_type": "code",
   "execution_count": 2,
   "id": "ff813bc6-1f72-4169-8d7a-5fb7d3a97a72",
   "metadata": {
    "tags": []
   },
   "outputs": [
    {
     "name": "stdout",
     "output_type": "stream",
     "text": [
      "args: Namespace(experiment_config_path='src/configs/Phe_Lab/Full1.json', force_rerun=False, force_evaluate=False)\n",
      "python src/scripts/main.py  --add_bmi_neuron --add_race_neuron --add_sex_neuron --ageseq_event --cuda --dev --dev_data_dir //vacrrdevmavdi01.vha.med.va.gov/MAVDEV1/Fillmore_Cancer/cat/Users/data_from_vinci/dvt_cancer_20230613/data_for_tf_model/processed/Phe_Lab/dev --device cuda:0 --disease_code_system phe_lab --epochs 18 --eval_auprc --eval_auroc --eval_batch_size 64 --filter_max_len --hidden_dim 64 --init_lr 0.00125 --log_dir logs_transformer_vte/L/12_12 --lr_decay 0.3 --max_batches_per_dev_epoch 1000 --max_batches_per_train_epoch 2000 --max_days_before_index 720 --max_eval_indices 1 --max_events_length 400 --max_year_before_index 2 --model_dir snapshot_vte/L --model_name transformer --month_endpoints 3 --num_heads 8 --num_layers 1 --num_workers 0 --optimizer adam --pad_size 300 --pool_name Softmax_AttentionPool --start_at_dx_60 --test --test_data_dir //vacrrdevmavdi01.vha.med.va.gov/MAVDEV1/Fillmore_Cancer/cat/Users/data_from_vinci/dvt_cancer_20230613/data_for_tf_model/processed/Phe_Lab/test --time_embed_dim 64 --train --train_batch_size 256 --train_data_dir //vacrrdevmavdi01.vha.med.va.gov/MAVDEV1/Fillmore_Cancer/cat/Users/data_from_vinci/dvt_cancer_20230613/data_for_tf_model/processed/Phe_Lab/train --tuning_metric 3day_auroc_c --use_age_embed --use_dxtime_embed --use_index_embed --use_time_embed --weight_decay 0.001 --log_name=13776413fb543287487e967063b6a074 --log_dir=logs_transformer_vte/L/12_12\n"
     ]
    }
   ],
   "source": [
    "%run src/scripts/schedulers/expr_dispatcher.py --experiment-config-path src/configs/Phe_Lab/Full1.json\n"
   ]
  },
  {
   "cell_type": "code",
   "execution_count": 3,
   "id": "04705e68-333c-4ac1-93b8-67118ba1d1de",
   "metadata": {},
   "outputs": [
    {
     "name": "stdout",
     "output_type": "stream",
     "text": [
      "args: Namespace(experiment_config_path='src/configs/Phe_Lab/Full3.json', force_rerun=False, force_evaluate=False)\n",
      "python src/scripts/main.py  --add_bmi_neuron --add_race_neuron --add_sex_neuron --ageseq_event --cuda --dev --dev_data_dir //vacrrdevmavdi01.vha.med.va.gov/MAVDEV1/Fillmore_Cancer/cat/Users/data_from_vinci/dvt_cancer_20230613/data_for_tf_model/processed/Phe_Lab/dev --device cuda:0 --disease_code_system phe_lab --epochs 18 --eval_auprc --eval_auroc --eval_batch_size 64 --filter_max_len --hidden_dim 64 --init_lr 0.00125 --log_dir logs_transformer_vte/L/12_13 --lr_decay 0.3 --max_batches_per_dev_epoch 1000 --max_batches_per_train_epoch 2000 --max_days_before_index 1500 --max_eval_indices 1 --max_events_length 500 --max_year_before_index 4 --model_dir snapshot_vte/L --model_name transformer --month_endpoints 3 --num_heads 8 --num_layers 1 --num_workers 0 --optimizer adam --pad_size 300 --pool_name Softmax_AttentionPool --start_at_dx_60 --test --test_data_dir //vacrrdevmavdi01.vha.med.va.gov/MAVDEV1/Fillmore_Cancer/cat/Users/data_from_vinci/dvt_cancer_20230613/data_for_tf_model/processed/Phe_Lab/test --time_embed_dim 64 --train --train_batch_size 256 --train_data_dir //vacrrdevmavdi01.vha.med.va.gov/MAVDEV1/Fillmore_Cancer/cat/Users/data_from_vinci/dvt_cancer_20230613/data_for_tf_model/processed/Phe_Lab/train --tuning_metric 3day_auroc_c --use_age_embed --use_dxtime_embed --use_index_embed --use_time_embed --weight_decay 0.001 --log_name=e0a26732bf56af1db5435c76e294cbbd --log_dir=logs_transformer_vte/L/12_13\n"
     ]
    }
   ],
   "source": [
    "%run src/scripts/schedulers/expr_dispatcher.py --experiment-config-path src/configs/Phe_Lab/Full3.json"
   ]
  },
  {
   "cell_type": "code",
   "execution_count": 4,
   "id": "a30b5ecb-4f27-462a-a5b3-2235b7b3bd21",
   "metadata": {},
   "outputs": [
    {
     "name": "stdout",
     "output_type": "stream",
     "text": [
      "args: Namespace(experiment_config_path='src/configs/Phe_Lab/Full5.json', force_rerun=False, force_evaluate=False)\n",
      "python src/scripts/main.py  --add_bmi_neuron --add_race_neuron --add_sex_neuron --ageseq_event --cuda --dev --dev_data_dir //vacrrdevmavdi01.vha.med.va.gov/MAVDEV1/Fillmore_Cancer/cat/Users/data_from_vinci/dvt_cancer_20230613/data_for_tf_model/processed/Phe_Lab/dev --device cuda:0 --disease_code_system phe_lab --epochs 18 --eval_auprc --eval_auroc --eval_batch_size 64 --filter_max_len --hidden_dim 64 --init_lr 0.00125 --log_dir logs_transformer_vte/L/12_13 --lr_decay 0.3 --max_batches_per_dev_epoch 1000 --max_batches_per_train_epoch 2000 --max_days_before_index 1500 --max_eval_indices 1 --max_events_length 500 --max_year_before_index 4 --model_dir snapshot_vte/L --model_name transformer --month_endpoints 3 --num_heads 8 --num_layers 1 --num_workers 0 --optimizer adam --pad_size 300 --pool_name Softmax_AttentionPool --start_noise_days --start_noise_len 180 --test --test_data_dir //vacrrdevmavdi01.vha.med.va.gov/MAVDEV1/Fillmore_Cancer/cat/Users/data_from_vinci/dvt_cancer_20230613/data_for_tf_model/processed/Phe_Lab/test --time_embed_dim 64 --train --train_batch_size 256 --train_data_dir //vacrrdevmavdi01.vha.med.va.gov/MAVDEV1/Fillmore_Cancer/cat/Users/data_from_vinci/dvt_cancer_20230613/data_for_tf_model/processed/Phe_Lab/train --tuning_metric 3day_auroc_c --use_age_embed --use_dxtime_embed --use_index_embed --use_time_embed --weight_decay 0.001 --log_name=11f3eadf8186b7ac55b481fed9336908 --log_dir=logs_transformer_vte/L/12_13\n"
     ]
    }
   ],
   "source": [
    "%run src/scripts/schedulers/expr_dispatcher.py --experiment-config-path src/configs/Phe_Lab/Full5.json"
   ]
  },
  {
   "cell_type": "code",
   "execution_count": null,
   "id": "e794a946-d45d-4c57-8776-8de614a9a740",
   "metadata": {},
   "outputs": [],
   "source": []
  },
  {
   "cell_type": "code",
   "execution_count": null,
   "id": "eb03af46-1532-40c1-bbec-a49fac2d24b1",
   "metadata": {
    "tags": []
   },
   "outputs": [
    {
     "name": "stdout",
     "output_type": "stream",
     "text": [
      "args: Namespace(experiment_config_path='src/configs/Multi/K1dx.json', force_rerun=False, force_evaluate=False)\n",
      "python src/scripts/main.py  --add_bmi_neuron --add_race_neuron --add_sex_neuron --ageseq_event --cuda --dev --dev_data_dir //vacrrdevmavdi01.vha.med.va.gov/MAVDEV1/Fillmore_Cancer/cat/Users/data/derived/vte_ml/vte_ml/data_for_chunlei/A2_CMP/IndexDate_5yrs/dev --device cuda:0 --disease_code_system phe_CMP --epochs 20 --eval_auprc --eval_auroc --eval_batch_size 128 --filter_max_len --hidden_dim 64 --init_lr 0.00125 --log_dir logs_transformer_vte/H/11_13 --lr_decay 0.3 --max_batches_per_dev_epoch 1000 --max_batches_per_train_epoch 2000 --max_days_before_index 360 --max_eval_indices 1 --max_events_length 800 --max_year_before_index 1 --model_dir snapshot_vte/H --model_name transformer --month_endpoints 3 --num_heads 8 --num_layers 1 --num_workers 0 --optimizer adam --pad_size 300 --pool_name Softmax_AttentionPool --start_at_dx_60 --start_noise_days --start_noise_len 180 --test --test_data_dir //vacrrdevmavdi01.vha.med.va.gov/MAVDEV1/Fillmore_Cancer/cat/Users/data/derived/vte_ml/vte_ml/data_for_chunlei/A2_CMP/IndexDate_5yrs/test --time_embed_dim 64 --train --train_batch_size 256 --train_data_dir //vacrrdevmavdi01.vha.med.va.gov/MAVDEV1/Fillmore_Cancer/cat/Users/data/derived/vte_ml/vte_ml/data_for_chunlei/A2_CMP/IndexDate_5yrs/train --tuning_metric 3day_auroc_c --use_age_embed --use_dxtime_embed --use_index_embed --use_time_embed --weight_decay 0.001 --log_name=5488c64d40aae43d15b7c30b558ed902 --log_dir=logs_transformer_vte/H/11_13\n"
     ]
    }
   ],
   "source": [
    "%run src/scripts/schedulers/expr_dispatcher.py --experiment-config-path src/configs/Multi/K1dx.json\n"
   ]
  },
  {
   "cell_type": "code",
   "execution_count": 1,
   "id": "83fbbb60-ce2d-4dda-9648-f855473cdae8",
   "metadata": {
    "tags": []
   },
   "outputs": [
    {
     "name": "stdout",
     "output_type": "stream",
     "text": [
      "args: Namespace(experiment_config_path='src/configs/Multi/reJ10dx.json', force_rerun=False, force_evaluate=False)\n",
      "python src/scripts/main.py  --add_bmi_neuron --add_race_neuron --add_sex_neuron --ageseq_event --cuda --dev --dev_data_dir //vacrrdevmavdi01.vha.med.va.gov/MAVDEV1/Fillmore_Cancer/cat/Users/data/derived/vte_ml/vte_ml/data_for_chunlei/A2_CMP/IndexDate_5yrs/dev --device cuda:1 --disease_code_system phe_CMP --epochs 18 --eval_auprc --eval_auroc --eval_batch_size 128 --filter_max_len --hidden_dim 64 --init_lr 0.00125 --log_dir logs_transformer_vte/H/11_13 --lr_decay 0.3 --max_batches_per_dev_epoch 1000 --max_batches_per_train_epoch 2000 --max_days_before_index 360 --max_eval_indices 1 --max_events_length 400 --max_year_before_index 1 --model_dir snapshot_vte/H --model_name transformer --month_endpoints 3 --num_heads 8 --num_layers 1 --num_workers 0 --optimizer adam --pad_size 300 --pool_name Softmax_AttentionPool --start_at_dx_60 --start_noise_days --start_noise_len 180 --test --test_data_dir //vacrrdevmavdi01.vha.med.va.gov/MAVDEV1/Fillmore_Cancer/cat/Users/data/derived/vte_ml/vte_ml/data_for_chunlei/A2_CMP/IndexDate_5yrs/test --time_embed_dim 64 --train --train_batch_size 256 --train_data_dir //vacrrdevmavdi01.vha.med.va.gov/MAVDEV1/Fillmore_Cancer/cat/Users/data/derived/vte_ml/vte_ml/data_for_chunlei/A2_CMP/IndexDate_5yrs/train --tuning_metric 3day_auroc_c --use_age_embed --use_dxtime_embed --use_index_embed --use_time_embed --weight_decay 0.001 --log_name=f93477981e1e440dfe90d16d4e375622 --log_dir=logs_transformer_vte/H/11_13\n"
     ]
    }
   ],
   "source": [
    "%run src/scripts/schedulers/expr_dispatcher.py --experiment-config-path src/configs/Multi/reJ10dx.json\n"
   ]
  },
  {
   "cell_type": "code",
   "execution_count": 5,
   "id": "00fc318c-777e-4978-9719-54e4a287ffa9",
   "metadata": {
    "tags": []
   },
   "outputs": [
    {
     "name": "stdout",
     "output_type": "stream",
     "text": [
      "args: Namespace(experiment_config_path='src/configs/Multi/J9dx.json', force_rerun=False, force_evaluate=False)\n",
      "python src/scripts/main.py  --add_bmi_neuron --add_race_neuron --add_sex_neuron --ageseq_event --cuda --dev --dev_data_dir //vacrrdevmavdi01.vha.med.va.gov/MAVDEV1/Fillmore_Cancer/cat/Users/data/derived/vte_ml/vte_ml/data_for_chunlei/A2_CMP/IndexDate_5yrs/dev --device cuda:1 --disease_code_system phe_CMP --epochs 18 --eval_auprc --eval_auroc --eval_batch_size 128 --filter_max_len --hidden_dim 64 --init_lr 0.001 --log_dir logs_transformer_vte/H/11_7 --lr_decay 0.3 --max_batches_per_dev_epoch 1000 --max_batches_per_train_epoch 2000 --max_days_before_index 360 --max_eval_indices 1 --max_events_length 500 --max_year_before_index 1 --model_dir snapshot_vte/H --model_name transformer --month_endpoints 3 6 --num_heads 8 --num_layers 1 --num_workers 0 --optimizer adam --pad_size 300 --pool_name Softmax_AttentionPool --start_at_dx_100 --start_noise_days --start_noise_len 180 --test --test_data_dir //vacrrdevmavdi01.vha.med.va.gov/MAVDEV1/Fillmore_Cancer/cat/Users/data/derived/vte_ml/vte_ml/data_for_chunlei/A2_CMP/IndexDate_5yrs/test --time_embed_dim 64 --train --train_batch_size 256 --train_data_dir //vacrrdevmavdi01.vha.med.va.gov/MAVDEV1/Fillmore_Cancer/cat/Users/data/derived/vte_ml/vte_ml/data_for_chunlei/A2_CMP/IndexDate_5yrs/train --tuning_metric 6day_auroc_c --use_age_embed --use_dxtime_embed --use_index_embed --use_time_embed --weight_decay 0.001 --log_name=9f4be34b5e7565e8c41335b76256f82b --log_dir=logs_transformer_vte/H/11_7\n"
     ]
    }
   ],
   "source": [
    "%run src/scripts/schedulers/expr_dispatcher.py --experiment-config-path src/configs/Multi/J9dx.json\n"
   ]
  },
  {
   "cell_type": "code",
   "execution_count": 4,
   "id": "2a022258-ff56-4656-87cd-4af7d4a96357",
   "metadata": {
    "tags": []
   },
   "outputs": [
    {
     "name": "stdout",
     "output_type": "stream",
     "text": [
      "args: Namespace(experiment_config_path='src/configs/Multi/J8.json', force_rerun=False, force_evaluate=False)\n",
      "python src/scripts/main.py  --add_bmi_neuron --add_race_neuron --add_sex_neuron --ageseq_event --cuda --dev --dev_data_dir //vacrrdevmavdi01.vha.med.va.gov/MAVDEV1/Fillmore_Cancer/cat/Users/data/derived/vte_ml/vte_ml/data_for_chunlei/A2_CMP/IndexDate_5yrs/dev --device cuda:1 --disease_code_system phe_CMP --epochs 18 --eval_auprc --eval_auroc --eval_batch_size 64 --filter_max_len --hidden_dim 64 --init_lr 0.00125 --log_dir logs_transformer_vte/H/11_5/J8 --lr_decay 0.3 --max_batches_per_dev_epoch 1000 --max_batches_per_train_epoch 2000 --max_days_before_index 360 --max_eval_indices 1 --max_events_length 1200 --max_year_before_index 1 --model_dir snapshot_vte/H --model_name transformer --month_endpoints 3 --num_heads 8 --num_layers 1 --num_workers 0 --optimizer adam --pad_size 500 --pool_name Softmax_AttentionPool --start_noise_days --start_noise_len 60 --test --test_data_dir //vacrrdevmavdi01.vha.med.va.gov/MAVDEV1/Fillmore_Cancer/cat/Users/data/derived/vte_ml/vte_ml/data_for_chunlei/A2_CMP/IndexDate_5yrs/test --time_embed_dim 64 --train --train_batch_size 256 --train_data_dir //vacrrdevmavdi01.vha.med.va.gov/MAVDEV1/Fillmore_Cancer/cat/Users/data/derived/vte_ml/vte_ml/data_for_chunlei/A2_CMP/IndexDate_5yrs/train --tuning_metric 3day_auroc_c --use_age_embed --use_dxtime_embed --use_index_embed --use_time_embed --weight_decay 0.001 --log_name=11ab6f1633d267a80b16593258df148a --log_dir=logs_transformer_vte/H/11_5/J8\n"
     ]
    }
   ],
   "source": [
    "%run src/scripts/schedulers/expr_dispatcher.py --experiment-config-path src/configs/Multi/J8.json\n"
   ]
  },
  {
   "cell_type": "code",
   "execution_count": 3,
   "id": "ef882623-fb9b-47f6-a869-df9fec8b0132",
   "metadata": {
    "tags": []
   },
   "outputs": [
    {
     "name": "stdout",
     "output_type": "stream",
     "text": [
      "args: Namespace(experiment_config_path='src/configs/Multi/J6dx.json', force_rerun=False, force_evaluate=False)\n",
      "python src/scripts/main.py  --add_bmi_neuron --add_race_neuron --add_sex_neuron --ageseq_event --cuda --dev --dev_data_dir //vacrrdevmavdi01.vha.med.va.gov/MAVDEV1/Fillmore_Cancer/cat/Users/data/derived/vte_ml/vte_ml/data_for_chunlei/A2_CMP/IndexDate_5yrs/dev --device cuda:1 --disease_code_system phe_CMP --epochs 18 --eval_auprc --eval_auroc --eval_batch_size 64 --filter_max_len --hidden_dim 64 --init_lr 0.001 --log_dir logs_transformer_vte/H/11_5/J6dx --lr_decay 0.3 --max_batches_per_dev_epoch 1000 --max_batches_per_train_epoch 2000 --max_days_before_index 720 --max_eval_indices 1 --max_events_length 1500 --max_year_before_index 1 --model_dir snapshot_vte/H --model_name transformer --month_endpoints 3 --num_heads 8 --num_layers 1 --num_workers 0 --optimizer adam --pad_size 500 --pool_name Softmax_AttentionPool --start_at_dx --start_noise_days --start_noise_len 180 --test --test_data_dir //vacrrdevmavdi01.vha.med.va.gov/MAVDEV1/Fillmore_Cancer/cat/Users/data/derived/vte_ml/vte_ml/data_for_chunlei/A2_CMP/IndexDate_5yrs/test --time_embed_dim 64 --train --train_batch_size 256 --train_data_dir //vacrrdevmavdi01.vha.med.va.gov/MAVDEV1/Fillmore_Cancer/cat/Users/data/derived/vte_ml/vte_ml/data_for_chunlei/A2_CMP/IndexDate_5yrs/train --tuning_metric 3day_auroc_c --use_age_embed --use_dxtime_embed --use_index_embed --use_time_embed --weight_decay 0.001 --log_name=8517a17fed7a11ce1bbc0c9f903b01c0 --log_dir=logs_transformer_vte/H/11_5/J6dx\n"
     ]
    }
   ],
   "source": [
    "%run src/scripts/schedulers/expr_dispatcher.py --experiment-config-path src/configs/Multi/J6dx.json\n"
   ]
  },
  {
   "cell_type": "code",
   "execution_count": 6,
   "id": "88a13683-b21b-4bfb-b6b1-56849c33f464",
   "metadata": {
    "tags": []
   },
   "outputs": [
    {
     "name": "stdout",
     "output_type": "stream",
     "text": [
      "args: Namespace(experiment_config_path='src/configs/Multi/J4dx.json', force_rerun=False, force_evaluate=False)\n",
      "python src/scripts/main.py  --add_bmi_neuron --add_race_neuron --add_sex_neuron --ageseq_event --cuda --dev --dev_data_dir //vacrrdevmavdi01.vha.med.va.gov/MAVDEV1/Fillmore_Cancer/cat/Users/data/derived/vte_ml/vte_ml/data_for_chunlei/A2_CMP/IndexDate_5yrs/dev --device cuda:1 --disease_code_system phe_CMP --epochs 18 --eval_auprc --eval_auroc --eval_batch_size 64 --filter_max_len --hidden_dim 64 --init_lr 0.001 --log_dir logs_transformer_vte/H/11_1 --lr_decay 0.3 --max_batches_per_dev_epoch 1000 --max_batches_per_train_epoch 2000 --max_days_before_index 0 --max_eval_indices 1 --max_events_length 1500 --max_year_before_index 3 --model_dir snapshot_vte/H --model_name transformer --month_endpoints 3 --num_heads 8 --num_layers 1 --num_workers 0 --optimizer adam --pad_size 400 --pool_name Softmax_AttentionPool --start_at_dx --start_noise_days --start_noise_len 50 --test --test_data_dir //vacrrdevmavdi01.vha.med.va.gov/MAVDEV1/Fillmore_Cancer/cat/Users/data/derived/vte_ml/vte_ml/data_for_chunlei/A2_CMP/IndexDate_5yrs/test --time_embed_dim 64 --train --train_batch_size 256 --train_data_dir //vacrrdevmavdi01.vha.med.va.gov/MAVDEV1/Fillmore_Cancer/cat/Users/data/derived/vte_ml/vte_ml/data_for_chunlei/A2_CMP/IndexDate_5yrs/train --tuning_metric 3day_auroc_c --use_age_embed --use_dxtime_embed --use_index_embed --use_time_embed --weight_decay 0.001 --log_name=cdf125a2a03505bda513e86809308da1 --log_dir=logs_transformer_vte/H/11_1\n"
     ]
    }
   ],
   "source": [
    "%run src/scripts/schedulers/expr_dispatcher.py --experiment-config-path src/configs/Multi/J4dx.json\n"
   ]
  },
  {
   "cell_type": "code",
   "execution_count": 5,
   "id": "c468c1ab-94ed-4bea-8289-d86627146801",
   "metadata": {
    "tags": []
   },
   "outputs": [
    {
     "name": "stdout",
     "output_type": "stream",
     "text": [
      "args: Namespace(experiment_config_path='src/configs/Multi/J1.json', force_rerun=False, force_evaluate=False)\n",
      "python src/scripts/main.py  --add_bmi_neuron --add_race_neuron --add_sex_neuron --ageseq_event --cuda --dev --dev_data_dir //vacrrdevmavdi01.vha.med.va.gov/MAVDEV1/Fillmore_Cancer/cat/Users/data/derived/vte_ml/vte_ml/data_for_chunlei/A2_CMP/IndexDate_5yrs/dev --device cuda:0 --disease_code_system phe_CMP --epochs 18 --eval_auprc --eval_auroc --eval_batch_size 64 --filter_max_len --hidden_dim 64 --init_lr 0.001 --log_dir logs_transformer_vte/H/10_31 --lr_decay 0.3 --max_batches_per_dev_epoch 1000 --max_batches_per_train_epoch 2000 --max_days_before_index 540 --max_eval_indices 1 --max_events_length 1000 --max_year_before_index 2 --model_dir snapshot_vte/H --model_name transformer --month_endpoints 3 --num_heads 8 --num_layers 1 --num_workers 0 --optimizer adam --pad_size 360 --pool_name Softmax_AttentionPool --start_noise_days --start_noise_len 180 --test --test_data_dir //vacrrdevmavdi01.vha.med.va.gov/MAVDEV1/Fillmore_Cancer/cat/Users/data/derived/vte_ml/vte_ml/data_for_chunlei/A2_CMP/IndexDate_5yrs/test --time_embed_dim 64 --train --train_batch_size 256 --train_data_dir //vacrrdevmavdi01.vha.med.va.gov/MAVDEV1/Fillmore_Cancer/cat/Users/data/derived/vte_ml/vte_ml/data_for_chunlei/A2_CMP/IndexDate_5yrs/train --tuning_metric 3day_auroc_c --use_age_embed --use_dxtime_embed --use_index_embed --use_time_embed --weight_decay 0.001 --log_name=a20f829eb593aa4a5a4a57448f1fa133 --log_dir=logs_transformer_vte/H/10_31\n"
     ]
    }
   ],
   "source": [
    "%run src/scripts/schedulers/expr_dispatcher.py --experiment-config-path src/configs/Multi/J1.json"
   ]
  },
  {
   "cell_type": "code",
   "execution_count": null,
   "id": "e85c091e-98d1-43b6-aa93-a2a42a763841",
   "metadata": {},
   "outputs": [
    {
     "name": "stdout",
     "output_type": "stream",
     "text": [
      "args: Namespace(experiment_config_path='src/configs/Cohort/CoCBC_1.json', force_rerun=False, force_evaluate=False)\n",
      "python src/scripts/main.py  --add_bmi_neuron --add_race_neuron --add_sex_neuron --cuda --days 120 --days0 0 --dev --dev_data_dir Y:/Fillmore_Cancer/cat/Users/data/derived/vte_ml/vte_ml/data_for_chunlei/composite/dev --device cuda:0 --disease_code_system phe_compositelab --dropout 0 --epochs 28 --eval_auprc --eval_auroc --eval_batch_size 64 --eval_c_index --exclusion_interval 0 --hidden_dim 64 --init_lr 0.0015 --log_dir logs_transformer_vte/G --lr_decay 0.3 --max_batches_per_dev_epoch 500 --max_batches_per_train_epoch 2000 --max_eval_indices 1 --max_events_length 2500 --max_year_before_index 15 --min_events_length 5 --model_dir snapshot_vte/G --model_name transformer --month_endpoints 3 12 24 --num_heads 8 --num_layers 1 --num_workers 0 --optimizer adam --pad_size 300 --pool_name Softmax_AttentionPool --test --test_data_dir Y:/Fillmore_Cancer/cat/Users/data/derived/vte_ml/vte_ml/data_for_chunlei/composite/test --time_embed_dim 64 --train --train_batch_size 256 --train_data_dir Y:/Fillmore_Cancer/cat/Users/data/derived/vte_ml/vte_ml/data_for_chunlei/composite/train --tuning_metric 12day_auroc_c --use_age_embed --use_index_embed --use_time_embed --weight_decay 0.001 --log_name=55655293be945ac6a9b6b98c9e9f24a4 --log_dir=logs_transformer_vte/G\n"
     ]
    }
   ],
   "source": [
    "%run src/scripts/schedulers/expr_dispatcher.py --experiment-config-path src/configs/Cohort/CoCBC_1.json\n"
   ]
  },
  {
   "cell_type": "code",
   "execution_count": null,
   "id": "a696de59-b776-4fb3-a9c2-071c3894da0d",
   "metadata": {},
   "outputs": [],
   "source": []
  },
  {
   "cell_type": "code",
   "execution_count": null,
   "id": "55bdf031-a98f-449b-9cb0-20a53204df49",
   "metadata": {},
   "outputs": [],
   "source": []
  },
  {
   "cell_type": "code",
   "execution_count": null,
   "id": "3dcfaeca-4e16-41b5-9915-96973e7f7231",
   "metadata": {},
   "outputs": [],
   "source": []
  },
  {
   "cell_type": "code",
   "execution_count": null,
   "id": "d0307827-1aef-4183-a6bb-cb250b1a9454",
   "metadata": {},
   "outputs": [],
   "source": []
  },
  {
   "cell_type": "code",
   "execution_count": null,
   "id": "04b2b37b-caac-481d-bfea-fa370b9ba248",
   "metadata": {},
   "outputs": [],
   "source": []
  },
  {
   "cell_type": "code",
   "execution_count": 2,
   "id": "bf3c05b8-d0bd-4dbf-99bc-0a439c72d59a",
   "metadata": {},
   "outputs": [
    {
     "name": "stdout",
     "output_type": "stream",
     "text": [
      "args: Namespace(experiment_config_path='src/configs/Cohort/Co_4.json', force_rerun=False, force_evaluate=False)\n",
      "python src/scripts/main.py  --add_bmi_neuron --add_race_neuron --add_sex_neuron --cuda --days 30 --dev --dev_data_dir Y:/Fillmore_Cancer/cat/Users/data/derived/vte_ml/vte_ml/data_for_chunlei/A2_CMP/dev2 --device cuda:0 --disease_code_system phe_CMP --dropout 0 --dxseq_event --epochs 15 --eval_auprc --eval_auroc --eval_batch_size 64 --eval_c_index --exclusion_interval 0 --hidden_dim 64 --init_lr 0.0015 --log_dir logs_transformer_vte/F --lr_decay 0.3 --max_batches_per_dev_epoch 500 --max_batches_per_train_epoch 2000 --max_eval_indices 1 --max_events_length 2500 --max_year_before_index 20 --min_events_length 5 --model_dir snapshot_vte/F --model_name transformer --month_endpoints 1 3 6 12 18 24 --num_heads 8 --num_layers 1 --num_workers 0 --optimizer adam --pad_size 300 --pool_name Softmax_AttentionPool --test --test_data_dir Y:/Fillmore_Cancer/cat/Users/data/derived/vte_ml/vte_ml/data_for_chunlei/A2_CMP/test2 --time_embed_dim 64 --train --train_batch_size 256 --train_data_dir Y:/Fillmore_Cancer/cat/Users/data/derived/vte_ml/vte_ml/data_for_chunlei/A2_CMP/train2 --tuning_metric 6day_auroc_c --use_age_embed --use_dxtime_embed --use_time_embed --weight_decay 0.001 --log_name=71e6a5a0db447c94071f3003cf871d68 --log_dir=logs_transformer_vte/F\n"
     ]
    }
   ],
   "source": [
    "%run src/scripts/schedulers/expr_dispatcher.py --experiment-config-path src/configs/Cohort/Co_4.json\n"
   ]
  },
  {
   "cell_type": "code",
   "execution_count": 3,
   "id": "87964782-2745-49f4-8922-3f56c3f2adde",
   "metadata": {
    "tags": []
   },
   "outputs": [
    {
     "name": "stdout",
     "output_type": "stream",
     "text": [
      "args: Namespace(experiment_config_path='src/configs/Cohort/Co_5.json', force_rerun=False, force_evaluate=False)\n",
      "python src/scripts/main.py  --add_bmi_neuron --add_race_neuron --add_sex_neuron --cuda --days 60 --dev --dev_data_dir Y:/Fillmore_Cancer/cat/Users/data/derived/vte_ml/vte_ml/data_for_chunlei/A2_CMP/dev2 --device cuda:0 --disease_code_system phe_CMP --dropout 0 --dxseq_event --epochs 15 --eval_auprc --eval_auroc --eval_batch_size 64 --eval_c_index --exclusion_interval 0 --hidden_dim 64 --init_lr 0.0015 --log_dir logs_transformer_vte/F --lr_decay 0.3 --max_batches_per_dev_epoch 500 --max_batches_per_train_epoch 2000 --max_eval_indices 1 --max_events_length 2500 --max_year_before_index 20 --min_events_length 5 --model_dir snapshot_vte/F --model_name transformer --month_endpoints 2 6 12 24 --num_heads 8 --num_layers 1 --num_workers 0 --optimizer adam --pad_size 400 --pool_name Softmax_AttentionPool --test --test_data_dir Y:/Fillmore_Cancer/cat/Users/data/derived/vte_ml/vte_ml/data_for_chunlei/A2_CMP/test2 --time_embed_dim 64 --train --train_batch_size 256 --train_data_dir Y:/Fillmore_Cancer/cat/Users/data/derived/vte_ml/vte_ml/data_for_chunlei/A2_CMP/train2 --tuning_metric 6day_auroc_i --use_age_embed --use_dxtime_embed --use_time_embed --weight_decay 0.001 --log_name=4d92c4171344a2fb90a67c793c801a8a --log_dir=logs_transformer_vte/F\n"
     ]
    }
   ],
   "source": [
    "%run src/scripts/schedulers/expr_dispatcher.py --experiment-config-path src/configs/Cohort/Co_5.json\n"
   ]
  },
  {
   "cell_type": "code",
   "execution_count": 4,
   "id": "c778ba3c-1573-44c9-abae-bad4a8a667f8",
   "metadata": {
    "tags": []
   },
   "outputs": [
    {
     "name": "stdout",
     "output_type": "stream",
     "text": [
      "args: Namespace(experiment_config_path='src/configs/Cohort/Co_6.json', force_rerun=False, force_evaluate=False)\n",
      "python src/scripts/main.py  --add_bmi_neuron --add_race_neuron --add_sex_neuron --cuda --days 29 --dev --dev_data_dir Y:/Fillmore_Cancer/cat/Users/data/derived/vte_ml/vte_ml/data_for_chunlei/A2_CMP/dev2 --device cuda:0 --disease_code_system phe_CMP --dropout 0 --dxseq_event --epochs 15 --eval_auprc --eval_auroc --eval_batch_size 64 --eval_c_index --exclusion_interval 0 --hidden_dim 64 --init_lr 0.0015 --log_dir logs_transformer_vte/F --lr_decay 0.3 --max_batches_per_dev_epoch 500 --max_batches_per_train_epoch 2000 --max_eval_indices 1 --max_events_length 2500 --max_year_before_index 20 --min_events_length 5 --model_dir snapshot_vte/F --model_name transformer --month_endpoints 1 12 24 --num_heads 8 --num_layers 1 --num_workers 0 --optimizer adam --pad_size 300 --pool_name Softmax_AttentionPool --test --test_data_dir Y:/Fillmore_Cancer/cat/Users/data/derived/vte_ml/vte_ml/data_for_chunlei/A2_CMP/test2 --time_embed_dim 64 --train --train_batch_size 256 --train_data_dir Y:/Fillmore_Cancer/cat/Users/data/derived/vte_ml/vte_ml/data_for_chunlei/A2_CMP/train2 --tuning_metric 12day_auroc_i --use_age_embed --use_dxtime_embed --use_time_embed --weight_decay 0.001 --log_name=5a085583a78aaeb1ee16041b47ae73d1 --log_dir=logs_transformer_vte/F\n"
     ]
    }
   ],
   "source": [
    "%run src/scripts/schedulers/expr_dispatcher.py --experiment-config-path src/configs/Cohort/Co_6.json\n"
   ]
  },
  {
   "cell_type": "code",
   "execution_count": null,
   "id": "39f7854e-1fe4-452e-a9d3-971dba95f6fa",
   "metadata": {
    "tags": []
   },
   "outputs": [
    {
     "name": "stdout",
     "output_type": "stream",
     "text": [
      "args: Namespace(experiment_config_path='src/configs/Cohort/Co_6ii.json', force_rerun=False, force_evaluate=False)\n",
      "python src/scripts/main.py  --add_bmi_neuron --add_race_neuron --add_sex_neuron --cuda --days 29 --dev --dev_data_dir Y:/Fillmore_Cancer/cat/Users/data/derived/vte_ml/vte_ml/data_for_chunlei/A2_CMP/dev2 --device cuda:0 --disease_code_system phe_CMP --dropout 0 --dxseq_event --epochs 30 --eval_auprc --eval_auroc --eval_batch_size 64 --eval_c_index --exclusion_interval 0 --hidden_dim 64 --init_lr 0.002 --log_dir logs_transformer_vte/F --lr_decay 0.3 --max_batches_per_dev_epoch 500 --max_batches_per_train_epoch 2000 --max_eval_indices 1 --max_events_length 2500 --max_year_before_index 20 --min_events_length 5 --model_dir snapshot_vte/F --model_name transformer --month_endpoints 1 12 24 --num_heads 8 --num_layers 1 --num_workers 0 --optimizer adam --pad_size 300 --pool_name Softmax_AttentionPool --test --test_data_dir Y:/Fillmore_Cancer/cat/Users/data/derived/vte_ml/vte_ml/data_for_chunlei/A2_CMP/test2 --time_embed_dim 64 --train --train_batch_size 256 --train_data_dir Y:/Fillmore_Cancer/cat/Users/data/derived/vte_ml/vte_ml/data_for_chunlei/A2_CMP/train2 --tuning_metric 12day_auroc_i --use_age_embed --use_dxtime_embed --use_time_embed --weight_decay 0.001 --log_name=52efe4416ab909484916263aeddcaa21 --log_dir=logs_transformer_vte/F\n"
     ]
    }
   ],
   "source": [
    "%run src/scripts/schedulers/expr_dispatcher.py --experiment-config-path src/configs/Cohort/Co_6ii.json\n"
   ]
  },
  {
   "cell_type": "code",
   "execution_count": null,
   "id": "3a762c4f-266b-4878-8c28-ec98290aac60",
   "metadata": {
    "tags": []
   },
   "outputs": [],
   "source": [
    "%run src/scripts/schedulers/expr_dispatcher.py --experiment-config-path src/configs/Cohort/Co_1.json\n"
   ]
  },
  {
   "cell_type": "code",
   "execution_count": null,
   "id": "0f4ba3f9-9ac9-45d6-93a6-27e95f839fbf",
   "metadata": {
    "tags": []
   },
   "outputs": [
    {
     "name": "stdout",
     "output_type": "stream",
     "text": [
      "args: Namespace(experiment_config_path='src/configs/Cohort/Y/Y2_b.json', force_rerun=False, force_evaluate=False)\n",
      "python src/scripts/main.py  --add_bmi_neuron --add_race_neuron --add_sex_neuron --attribute --cuda --day_endpoints 90 --days 730 --dev --dev_data_dir Y:/Fillmore_Cancer/cat/Users/data/derived/vte_ml/vte_ml/data_for_chunlei/A2_CMP/Resplit/Y5/dev --device cuda:0 --disease_code_system phe_CMP --dropout 0 --epochs 10 --eval_auprc --eval_auroc --eval_batch_size 64 --eval_c_index --exclusion_interval 0 --hidden_dim 64 --init_lr 0.002 --log_dir logs_transformer_vte/F --lr_decay 0.3 --max_batches_per_dev_epoch 500 --max_batches_per_train_epoch 2000 --max_eval_indices 1 --max_events_length 2500 --max_year_before_index 10 --min_events_length 5 --model_dir snapshot_vte/F --model_name transformer --month_endpoints 3 --num_heads 8 --num_layers 1 --num_workers 0 --optimizer adam --pad_size 300 --pool_name Softmax_AttentionPool --test --test_data_dir Y:/Fillmore_Cancer/cat/Users/data/derived/vte_ml/vte_ml/data_for_chunlei/A2_CMP/Resplit/Y5/test --time_embed_dim 64 --train --train_batch_size 256 --train_data_dir Y:/Fillmore_Cancer/cat/Users/data/derived/vte_ml/vte_ml/data_for_chunlei/A2_CMP/Resplit/Y5/train --tuning_metric 90day_auroc_c --use_age_embed --use_dxtime_embed --use_time_embed --weight_decay 0.001 --log_name=0d071737ad78312a4c72357d28bd336b --log_dir=logs_transformer_vte/F\n"
     ]
    }
   ],
   "source": [
    "%run src/scripts/schedulers/expr_dispatcher.py --experiment-config-path src/configs/Cohort/Y/Y2_b.json\n"
   ]
  },
  {
   "cell_type": "code",
   "execution_count": 10,
   "id": "c6d70809-da2b-4105-b504-63624e37019a",
   "metadata": {
    "tags": []
   },
   "outputs": [
    {
     "name": "stdout",
     "output_type": "stream",
     "text": [
      "args: Namespace(experiment_config_path='src/configs/train_Y/Fwd/Y5_forward6mo.json', force_rerun=False, force_evaluate=False)\n",
      "python src/scripts/main.py  --add_bmi_neuron --add_sex_neuron --attribute --cuda --day_endpoints 0 --days 180 --dev --dev_data_dir Y:/Fillmore_Cancer/cat/Users/data/derived/vte_ml/vte_ml/data_for_chunlei/A2_CMP/Resplit/Y5/dev --device cuda:0 --disease_code_system phe_CMP --dropout 0 --dxseq_event --epochs 7 --eval_auprc --eval_auroc --eval_batch_size 64 --eval_c_index --exclusion_interval 0 --hidden_dim 64 --init_lr 0.002 --log_dir logs_transformer_vte/y_CMP --lr_decay 0.3 --max_batches_per_dev_epoch 500 --max_batches_per_train_epoch 2000 --max_events_length 500 --max_year_before_index 10 --min_events_length 5 --model_dir snapshot_vte/y_CMP --model_name transformer --month_endpoints 0 --num_heads 8 --num_layers 1 --num_workers 0 --optimizer adam --pad_size 300 --pool_name Softmax_AttentionPool --test --test_data_dir Y:/Fillmore_Cancer/cat/Users/data/derived/vte_ml/vte_ml/data_for_chunlei/A2_CMP/Resplit/Y5/test --time_embed_dim 64 --train --train_batch_size 256 --train_data_dir Y:/Fillmore_Cancer/cat/Users/data/derived/vte_ml/vte_ml/data_for_chunlei/A2_CMP/Resplit/Y5/train --tuning_metric 6day_auroc_i --use_age_embed --use_dxtime_embed --use_time_embed --weight_decay 0.001 --log_name=5dfb3b1369d7effbc1a7f7f8c712ce02 --log_dir=logs_transformer_vte/y_CMP\n",
      "python src/scripts/main.py  --add_bmi_neuron --add_sex_neuron --attribute --cuda --day_endpoints 3 --days 180 --dev --dev_data_dir Y:/Fillmore_Cancer/cat/Users/data/derived/vte_ml/vte_ml/data_for_chunlei/A2_CMP/Resplit/Y5/dev --device cuda:0 --disease_code_system phe_CMP --dropout 0 --dxseq_event --epochs 7 --eval_auprc --eval_auroc --eval_batch_size 64 --eval_c_index --exclusion_interval 0 --hidden_dim 64 --init_lr 0.002 --log_dir logs_transformer_vte/y_CMP --lr_decay 0.3 --max_batches_per_dev_epoch 500 --max_batches_per_train_epoch 2000 --max_events_length 500 --max_year_before_index 10 --min_events_length 5 --model_dir snapshot_vte/y_CMP --model_name transformer --month_endpoints 0 --num_heads 8 --num_layers 1 --num_workers 0 --optimizer adam --pad_size 300 --pool_name Softmax_AttentionPool --test --test_data_dir Y:/Fillmore_Cancer/cat/Users/data/derived/vte_ml/vte_ml/data_for_chunlei/A2_CMP/Resplit/Y5/test --time_embed_dim 64 --train --train_batch_size 256 --train_data_dir Y:/Fillmore_Cancer/cat/Users/data/derived/vte_ml/vte_ml/data_for_chunlei/A2_CMP/Resplit/Y5/train --tuning_metric 6day_auroc_i --use_age_embed --use_dxtime_embed --use_time_embed --weight_decay 0.001 --log_name=6f2a13c3f15a6d5077b77043cdbfcba0 --log_dir=logs_transformer_vte/y_CMP\n"
     ]
    },
    {
     "ename": "KeyboardInterrupt",
     "evalue": "",
     "output_type": "error",
     "traceback": [
      "\u001b[1;31m---------------------------------------------------------------------------\u001b[0m",
      "\u001b[1;31mKeyboardInterrupt\u001b[0m                         Traceback (most recent call last)",
      "File \u001b[1;32mG:\\FillmoreCancerData\\markhe\\VTERisk\\src\\scripts\\schedulers\\expr_dispatcher.py:94\u001b[0m\n\u001b[0;32m     89\u001b[0m job_list, _ \u001b[38;5;241m=\u001b[39m parsing\u001b[38;5;241m.\u001b[39mparse_dispatcher_config(config)\n\u001b[0;32m     91\u001b[0m \u001b[38;5;66;03m# print(job_list)\u001b[39;00m\n\u001b[0;32m     92\u001b[0m \n\u001b[0;32m     93\u001b[0m \u001b[38;5;66;03m# [print(params) for params in job_list]\u001b[39;00m\n\u001b[1;32m---> 94\u001b[0m [launch_experiment(gpu\u001b[38;5;241m=\u001b[39m\u001b[38;5;241m2\u001b[39m, flag_string\u001b[38;5;241m=\u001b[39m\u001b[38;5;28mstr\u001b[39m(params)) \u001b[38;5;28;01mfor\u001b[39;00m params \u001b[38;5;129;01min\u001b[39;00m job_list]\n\u001b[0;32m     95\u001b[0m \u001b[38;5;66;03m# launch_experiment(gpu=2, flag_string=job_list[0])\u001b[39;00m\n\u001b[0;32m     97\u001b[0m sys\u001b[38;5;241m.\u001b[39mexit(\u001b[38;5;241m0\u001b[39m)\n",
      "File \u001b[1;32mG:\\FillmoreCancerData\\markhe\\VTERisk\\src\\scripts\\schedulers\\expr_dispatcher.py:94\u001b[0m, in \u001b[0;36m<listcomp>\u001b[1;34m(.0)\u001b[0m\n\u001b[0;32m     89\u001b[0m job_list, _ \u001b[38;5;241m=\u001b[39m parsing\u001b[38;5;241m.\u001b[39mparse_dispatcher_config(config)\n\u001b[0;32m     91\u001b[0m \u001b[38;5;66;03m# print(job_list)\u001b[39;00m\n\u001b[0;32m     92\u001b[0m \n\u001b[0;32m     93\u001b[0m \u001b[38;5;66;03m# [print(params) for params in job_list]\u001b[39;00m\n\u001b[1;32m---> 94\u001b[0m [launch_experiment(gpu\u001b[38;5;241m=\u001b[39m\u001b[38;5;241m2\u001b[39m, flag_string\u001b[38;5;241m=\u001b[39m\u001b[38;5;28mstr\u001b[39m(params)) \u001b[38;5;28;01mfor\u001b[39;00m params \u001b[38;5;129;01min\u001b[39;00m job_list]\n\u001b[0;32m     95\u001b[0m \u001b[38;5;66;03m# launch_experiment(gpu=2, flag_string=job_list[0])\u001b[39;00m\n\u001b[0;32m     97\u001b[0m sys\u001b[38;5;241m.\u001b[39mexit(\u001b[38;5;241m0\u001b[39m)\n",
      "File \u001b[1;32mG:\\FillmoreCancerData\\markhe\\VTERisk\\src\\scripts\\schedulers\\expr_dispatcher.py:73\u001b[0m, in \u001b[0;36mlaunch_experiment\u001b[1;34m(gpu, flag_string)\u001b[0m\n\u001b[0;32m     70\u001b[0m         \u001b[38;5;28mprint\u001b[39m(\u001b[38;5;124m\"\u001b[39m\u001b[38;5;124m[WARNING] Overiding the alert \u001b[39m\u001b[38;5;132;01m{RESULTS_PATH_APPEAR_ERR}\u001b[39;00m\u001b[38;5;124m...\u001b[39m\u001b[38;5;124m\"\u001b[39m)\n\u001b[0;32m     72\u001b[0m \u001b[38;5;66;03m# pp.pprint(\"[CMD] Launched exp: {}\".format(shell_cmd))\u001b[39;00m\n\u001b[1;32m---> 73\u001b[0m os\u001b[38;5;241m.\u001b[39msystem(shell_cmd)\n",
      "\u001b[1;31mKeyboardInterrupt\u001b[0m: "
     ]
    }
   ],
   "source": [
    "%run src/scripts/schedulers/expr_dispatcher.py --experiment-config-path src/configs/train_Y/Fwd/Y5_forward6mo.json\n"
   ]
  },
  {
   "cell_type": "code",
   "execution_count": 2,
   "id": "7a9d0e0c-a509-4392-ad63-af76037466e4",
   "metadata": {
    "tags": []
   },
   "outputs": [
    {
     "name": "stdout",
     "output_type": "stream",
     "text": [
      "args: Namespace(experiment_config_path='src/configs/train_Y/Fwd/Y5_3mo.json', force_rerun=False, force_evaluate=False)\n",
      "python src/scripts/main.py  --add_bmi_neuron --add_sex_neuron --attribute --cuda --days 90 --dev --dev_data_dir Y:/Fillmore_Cancer/cat/Users/data/derived/vte_ml/vte_ml/data_for_chunlei/A2_CMP/Resplit/Y5/dev --device cuda:0 --disease_code_system phe_CMP --dropout 0 --dxseq_event --epochs 7 --eval_auprc --eval_auroc --eval_batch_size 64 --eval_c_index --exclusion_interval 0 --hidden_dim 64 --init_lr 0.002 --log_dir logs_transformer_vte/y_CMP --lr_decay 0.3 --max_batches_per_dev_epoch 500 --max_batches_per_train_epoch 2000 --max_events_length 500 --max_year_before_index 10 --min_events_length 5 --model_dir snapshot_vte/y_CMP --model_name transformer --num_heads 8 --num_layers 1 --num_workers 0 --optimizer adam --pad_size 300 --pool_name Softmax_AttentionPool --test --test_data_dir Y:/Fillmore_Cancer/cat/Users/data/derived/vte_ml/vte_ml/data_for_chunlei/A2_CMP/Resplit/Y5/test --time_embed_dim 64 --train --train_batch_size 256 --train_data_dir Y:/Fillmore_Cancer/cat/Users/data/derived/vte_ml/vte_ml/data_for_chunlei/A2_CMP/Resplit/Y5/train --tuning_metric 7day_auroc_i --use_age_embed --use_dxtime_embed --use_time_embed --weight_decay 0.001 --log_name=24bb9146ccaa5096fd6797b4a0e2e030 --log_dir=logs_transformer_vte/y_CMP\n"
     ]
    }
   ],
   "source": [
    "%run src/scripts/schedulers/expr_dispatcher.py --experiment-config-path src/configs/train_Y/Fwd/Y5_3mo.json\n"
   ]
  },
  {
   "cell_type": "code",
   "execution_count": 1,
   "id": "c168ea49-cf4b-4414-86ea-78f7230bcf5d",
   "metadata": {
    "tags": []
   },
   "outputs": [
    {
     "name": "stdout",
     "output_type": "stream",
     "text": [
      "args: Namespace(experiment_config_path='src/configs/train_Y/Fwd/Y5_6mo.json', force_rerun=False, force_evaluate=False)\n",
      "python src/scripts/main.py  --add_bmi_neuron --add_sex_neuron --attribute --cuda --days 180 --dev --dev_data_dir Y:/Fillmore_Cancer/cat/Users/data/derived/vte_ml/vte_ml/data_for_chunlei/A2_CMP/Resplit/Y5/dev --device cuda:0 --disease_code_system phe_CMP --dropout 0 --dxseq_event --epochs 7 --eval_auprc --eval_auroc --eval_batch_size 64 --eval_c_index --exclusion_interval 0 --hidden_dim 64 --init_lr 0.002 --log_dir logs_transformer_vte/y_CMP --lr_decay 0.3 --max_batches_per_dev_epoch 500 --max_batches_per_train_epoch 2000 --max_events_length 500 --max_year_before_index 10 --min_events_length 5 --model_dir snapshot_vte/y_CMP --model_name transformer --num_heads 8 --num_layers 1 --num_workers 0 --optimizer adam --pad_size 300 --pool_name Softmax_AttentionPool --test --test_data_dir Y:/Fillmore_Cancer/cat/Users/data/derived/vte_ml/vte_ml/data_for_chunlei/A2_CMP/Resplit/Y5/test --time_embed_dim 64 --train --train_batch_size 256 --train_data_dir Y:/Fillmore_Cancer/cat/Users/data/derived/vte_ml/vte_ml/data_for_chunlei/A2_CMP/Resplit/Y5/train --tuning_metric 7day_auroc_i --use_age_embed --use_dxtime_embed --use_time_embed --weight_decay 0.001 --log_name=768bac5725bae08513f001acee7b30bf --log_dir=logs_transformer_vte/y_CMP\n"
     ]
    }
   ],
   "source": [
    "%run src/scripts/schedulers/expr_dispatcher.py --experiment-config-path src/configs/train_Y/Fwd/Y5_6mo.json\n"
   ]
  },
  {
   "cell_type": "code",
   "execution_count": 5,
   "id": "66cd3603-e418-4977-86b6-a1ccf6f76f40",
   "metadata": {},
   "outputs": [
    {
     "name": "stdout",
     "output_type": "stream",
     "text": [
      "args: Namespace(experiment_config_path='src/configs/train_Y/Fwd/X_3mo.json', force_rerun=False, force_evaluate=False)\n",
      "python src/scripts/main.py  --add_bmi_neuron --add_race_neuron --add_sex_neuron --attribute --cuda --days 30 --dev --dev_data_dir Y:/Fillmore_Cancer/cat/Users/data/derived/vte_ml/vte_ml/data_for_chunlei/A2_CMP/dev --device cuda:0 --disease_code_system phe_CMP --dropout 0 --dxseq_event --epochs 10 --eval_auprc --eval_auroc --eval_batch_size 64 --eval_c_index --exclusion_interval 0 --hidden_dim 64 --init_lr 0.002 --log_dir logs_transformer_vte/Cohort --lr_decay 0.3 --max_batches_per_dev_epoch 500 --max_batches_per_train_epoch 2000 --max_events_length 500 --max_year_before_index 10 --min_events_length 5 --model_dir snapshot_vte/Cohort --model_name transformer --num_heads 8 --num_layers 1 --num_workers 0 --optimizer adam --pad_size 300 --pool_name Softmax_AttentionPool --test --test_data_dir Y:/Fillmore_Cancer/cat/Users/data/derived/vte_ml/vte_ml/data_for_chunlei/A2_CMP/test --time_embed_dim 64 --train --train_batch_size 256 --train_data_dir Y:/Fillmore_Cancer/cat/Users/data/derived/vte_ml/vte_ml/data_for_chunlei/A2_CMP/train --tuning_metric 14day_auroc_c --use_age_embed --use_dxtime_embed --use_time_embed --weight_decay 0.001 --log_name=84d0355900d47fd69ac6f4744647f9a4 --log_dir=logs_transformer_vte/Cohort\n"
     ]
    }
   ],
   "source": [
    "%run src/scripts/schedulers/expr_dispatcher.py --experiment-config-path src/configs/train_Y/Fwd/X_3mo.json\n"
   ]
  },
  {
   "cell_type": "code",
   "execution_count": null,
   "id": "c3e7b06e-813b-4407-92ba-4d33e3454d9d",
   "metadata": {},
   "outputs": [
    {
     "name": "stdout",
     "output_type": "stream",
     "text": [
      "args: Namespace(experiment_config_path='src/configs/train_Y/Fwd/X_6mo.json', force_rerun=False, force_evaluate=False)\n",
      "python src/scripts/main.py  --add_bmi_neuron --add_race_neuron --add_sex_neuron --attribute --cuda --days 180 --dev --dev_data_dir Y:/Fillmore_Cancer/cat/Users/data/derived/vte_ml/vte_ml/data_for_chunlei/A2_CMP/dev --device cuda:0 --disease_code_system phe_CMP --dropout 0 --dxseq_event --epochs 10 --eval_auprc --eval_auroc --eval_batch_size 64 --eval_c_index --exclusion_interval 0 --hidden_dim 64 --init_lr 0.002 --log_dir logs_transformer_vte/Cohort --lr_decay 0.3 --max_batches_per_dev_epoch 500 --max_batches_per_train_epoch 2000 --max_events_length 500 --max_year_before_index 10 --min_events_length 5 --model_dir snapshot_vte/Cohort --model_name transformer --num_heads 8 --num_layers 1 --num_workers 0 --optimizer adam --pad_size 300 --pool_name Softmax_AttentionPool --test --test_data_dir Y:/Fillmore_Cancer/cat/Users/data/derived/vte_ml/vte_ml/data_for_chunlei/A2_CMP/test --time_embed_dim 64 --train --train_batch_size 256 --train_data_dir Y:/Fillmore_Cancer/cat/Users/data/derived/vte_ml/vte_ml/data_for_chunlei/A2_CMP/train --tuning_metric 14day_auroc_c --use_age_embed --use_dxtime_embed --use_time_embed --weight_decay 0.001 --log_name=fb43ef7d3cf127c14537a4df3731e663 --log_dir=logs_transformer_vte/Cohort\n"
     ]
    }
   ],
   "source": [
    "%run src/scripts/schedulers/expr_dispatcher.py --experiment-config-path src/configs/train_Y/Fwd/X_6mo.json\n"
   ]
  },
  {
   "cell_type": "code",
   "execution_count": null,
   "id": "6b681c15-1f64-4a20-a018-55d082a56abb",
   "metadata": {},
   "outputs": [],
   "source": []
  }
 ],
 "metadata": {
  "kernelspec": {
   "display_name": "Python 3 (ipykernel)",
   "language": "python",
   "name": "python3"
  },
  "language_info": {
   "codemirror_mode": {
    "name": "ipython",
    "version": 3
   },
   "file_extension": ".py",
   "mimetype": "text/x-python",
   "name": "python",
   "nbconvert_exporter": "python",
   "pygments_lexer": "ipython3",
   "version": "3.11.5"
  }
 },
 "nbformat": 4,
 "nbformat_minor": 5
}
