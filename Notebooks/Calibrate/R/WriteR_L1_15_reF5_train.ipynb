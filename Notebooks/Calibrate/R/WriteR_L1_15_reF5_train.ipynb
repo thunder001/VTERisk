{
 "cells": [
  {
   "cell_type": "code",
   "execution_count": 1,
   "id": "9581a628-c1f1-4e81-8ddc-e408c713a043",
   "metadata": {
    "tags": []
   },
   "outputs": [],
   "source": [
    "import json\n",
    "from collections import Counter\n",
    "import pickle\n",
    "import numpy as np\n",
    "import pandas as pd\n",
    "import os\n",
    "import sys\n",
    "import argparse\n",
    "from os.path import dirname, realpath\n",
    "\n",
    "import math\n",
    "import hashlib\n",
    "import datetime\n",
    "import datetime as datetime\n",
    "sys.path.append(\"./src/\")\n",
    "\n",
    "import torch\n",
    "from torch import nn, optim\n",
    "from torch.nn import functional as F\n",
    "\n",
    "from sklearn.calibration import calibration_curve\n",
    "from sklearn.linear_model import LogisticRegression\n",
    "from sklearn.base import BaseEstimator\n",
    "sys.path.append(dirname(dirname(realpath(os.getcwd()))))\n",
    "\n",
    "from scipy.optimize import minimize_scalar\n",
    "from scipy.optimize import minimize\n",
    "from sklearn.metrics import log_loss\n",
    "import matplotlib.pyplot as plt\n"
   ]
  },
  {
   "cell_type": "code",
   "execution_count": 2,
   "id": "83bad053-b30d-4cbf-872d-9ebcba09c6b5",
   "metadata": {
    "tags": []
   },
   "outputs": [],
   "source": [
    "src_path = \"G:\\\\FillmoreCancerData\\\\markhe\\\\VTERisk\" \n",
    "src_path2 = \"G:\\\\FillmoreCancerData\\\\markhe\\\\VTERisk - Copy\" \n",
    "\n",
    "def md5(key):\n",
    "    return hashlib.md5(repr(key).encode()).hexdigest()\n",
    "testDF = pd.read_csv(os.path.join(src_path2, 'Notebooks/Find/fixed_dx.csv'))\n",
    "pat_ids = (testDF['patient_id'] ).astype(int)\n",
    "testDF['pids'] = pat_ids.apply(md5)"
   ]
  },
  {
   "cell_type": "code",
   "execution_count": 3,
   "id": "6ac1de47-e774-457c-8f15-db1310dbe84d",
   "metadata": {
    "tags": []
   },
   "outputs": [],
   "source": [
    "tdf = pd.DataFrame({'patient_id': (testDF['patient_id'] ),    \n",
    "                    'pids': (testDF['pids'] ),    \n",
    "                  'dob': (testDF['dob'] ),  \n",
    "                  'outcome_date': (testDF['outcome_date'] ), \n",
    "                  'obs_time_end': (testDF['obs_time_end'] ),  \n",
    "                  'index_date': (testDF['index_date'] ),  \n",
    "                  'diag_date': (testDF['diag_date'] ),  \n",
    "                  'outcome': (testDF['outcome'])    })"
   ]
  },
  {
   "cell_type": "code",
   "execution_count": 4,
   "id": "6164b3ee-b02a-4235-932c-0612abb0d3fd",
   "metadata": {
    "tags": []
   },
   "outputs": [],
   "source": [
    "def logit (p): return np.log(  p / (1 - p) )\n",
    "def expit (p): return   np.exp(p)/(1 + np.exp(p))"
   ]
  },
  {
   "cell_type": "code",
   "execution_count": 5,
   "id": "32e3e76d-5098-4736-87c0-a0b83f5e2aff",
   "metadata": {
    "tags": []
   },
   "outputs": [],
   "source": [
    "trainpath = os.path.join(src_path ,'logs_transformer_vte/L/1_15/', \"28ae61cedbdb689ae7a33920009fefa2.results.train_preds\")\n",
    "testpath = os.path.join(src_path ,'logs_transformer_vte/L/1_15/', \"28ae61cedbdb689ae7a33920009fefa2.results.test_preds\")\n",
    "\n",
    "with open(trainpath, 'rb') as f:\n",
    "    R = pickle.load(f)\n",
    "    p = np.array(R['probs'])\n",
    "\n",
    "Df = pd.DataFrame.from_dict(R)\n",
    "Df['probs'] = Df['probs'].astype(float)\n",
    "Df['exams'] = Df['exams'].astype(int)\n",
    "M = pd.merge(tdf, Df)\n",
    " "
   ]
  },
  {
   "cell_type": "code",
   "execution_count": 6,
   "id": "bba7ba21",
   "metadata": {},
   "outputs": [],
   "source": [
    "M.to_csv('CSV_for_R/totM_tr_1_15.csv') \n"
   ]
  },
  {
   "cell_type": "code",
   "execution_count": null,
   "id": "e93f4589",
   "metadata": {},
   "outputs": [],
   "source": []
  },
  {
   "cell_type": "code",
   "execution_count": 28,
   "id": "07aaeeda-ea0d-4b6d-8fd1-5b34bddd18d8",
   "metadata": {
    "tags": []
   },
   "outputs": [],
   "source": [
    "def get_4Ms(M):\n",
    "    M1 = M.drop_duplicates(['patient_id'])\n",
    "    \n",
    "    m0 = M.duplicated(['patient_id']) \n",
    "    M234 = M[m0]\n",
    "    M2 = M234.drop_duplicates(['patient_id'])\n",
    "\n",
    "    m00 = M234.duplicated(['patient_id'])\n",
    "    M34 = M234[m00]\n",
    "    M3 = M34.drop_duplicates(['patient_id'])\n",
    "\n",
    "    m000 = M34.duplicated(['patient_id'])\n",
    "    M4 = M34[m000]\n",
    "    M4 = M4.drop_duplicates(['patient_id'])\n",
    "    return M1, M2, M3, M4"
   ]
  },
  {
   "cell_type": "code",
   "execution_count": null,
   "id": "84bb12ea",
   "metadata": {},
   "outputs": [],
   "source": [
    "M1, M2, M3, M4 = get_4Ms(M)"
   ]
  },
  {
   "cell_type": "code",
   "execution_count": 32,
   "id": "c5f1b56e",
   "metadata": {},
   "outputs": [],
   "source": [
    "M1.to_csv('CSV_for_R/M1_tr_1_12.csv') \n",
    "M2.to_csv('CSV_for_R/M2_tr_1_12.csv') \n",
    "M3.to_csv('CSV_for_R/M3_tr_1_12.csv') \n",
    "M4.to_csv('CSV_for_R/M4_tr_1_12.csv') "
   ]
  },
  {
   "cell_type": "code",
   "execution_count": 33,
   "id": "4ca02923-d744-4c74-90dd-accd5b44d64c",
   "metadata": {
    "tags": []
   },
   "outputs": [],
   "source": [
    " with open(testpath, 'rb') as f:\n",
    "    R_t = pickle.load(f)\n",
    "\n",
    "Df_test = pd.DataFrame.from_dict(R_t)\n",
    "Df_test['probs'] = Df_test['probs'].astype(float)\n",
    "M_test = pd.merge(tdf, Df_test)\n",
    "M_test1, M_test2, M_test3, M_test4 = get_4Ms(M_test)"
   ]
  },
  {
   "cell_type": "code",
   "execution_count": 34,
   "id": "672b86c4-2477-42c4-9eed-856f6a5c2818",
   "metadata": {
    "tags": []
   },
   "outputs": [],
   "source": [
    "M_test1.to_csv('CSV_for_R/M1_test_1_12.csv') \n",
    "M_test2.to_csv('CSV_for_R/M2_test_1_12.csv') \n",
    "M_test3.to_csv('CSV_for_R/M3_test_1_12.csv') \n",
    "M_test4.to_csv('CSV_for_R/M4_test_1_12.csv') "
   ]
  },
  {
   "cell_type": "markdown",
   "id": "c2db4d8e-3ecd-4219-892f-7679847d6ccf",
   "metadata": {},
   "source": [
    "##### Debug M4 why no duplicate"
   ]
  },
  {
   "cell_type": "code",
   "execution_count": 23,
   "id": "89cf0e06",
   "metadata": {},
   "outputs": [],
   "source": [
    "M1 = M.drop_duplicates(['patient_id'])\n",
    "\n",
    "m0 = M.duplicated(['patient_id'])\n",
    "M234 = M[m0]\n",
    "M2 = M234.drop_duplicates(['patient_id'])\n",
    "\n",
    "m00 = M234.duplicated(['patient_id'])\n",
    "M34 = M234[m00]\n",
    "M3 = M34.drop_duplicates(['patient_id'])\n",
    "\n",
    "m000 = M34.duplicated(['patient_id'])\n",
    "M4 = M34[m000]\n",
    "M4 = M4.drop_duplicates(['patient_id'])\n"
   ]
  },
  {
   "cell_type": "code",
   "execution_count": 24,
   "id": "38c8ba45",
   "metadata": {},
   "outputs": [
    {
     "data": {
      "text/plain": [
       "[139274, 22371, 21045, 19548]"
      ]
     },
     "execution_count": 24,
     "metadata": {},
     "output_type": "execute_result"
    }
   ],
   "source": [
    "[ len(M), len(M1), len(M2), len(M3)]"
   ]
  },
  {
   "cell_type": "code",
   "execution_count": 25,
   "id": "c592e3c3",
   "metadata": {},
   "outputs": [
    {
     "data": {
      "text/plain": [
       "[116903, 95858, 18400]"
      ]
     },
     "execution_count": 25,
     "metadata": {},
     "output_type": "execute_result"
    }
   ],
   "source": [
    "[ len(M234), len(M34), len(M4)]"
   ]
  },
  {
   "cell_type": "code",
   "execution_count": 21,
   "id": "3adba136",
   "metadata": {},
   "outputs": [
    {
     "data": {
      "text/plain": [
       "[139274, 116903, 95858]"
      ]
     },
     "execution_count": 21,
     "metadata": {},
     "output_type": "execute_result"
    }
   ],
   "source": [
    "[   len(m0), len(m00), len(m000)]"
   ]
  },
  {
   "cell_type": "code",
   "execution_count": 16,
   "id": "b761e655",
   "metadata": {},
   "outputs": [
    {
     "data": {
      "text/plain": [
       "2         False\n",
       "3          True\n",
       "4          True\n",
       "5          True\n",
       "6          True\n",
       "          ...  \n",
       "139265     True\n",
       "139268    False\n",
       "139269     True\n",
       "139272    False\n",
       "139273     True\n",
       "Length: 95858, dtype: bool"
      ]
     },
     "execution_count": 16,
     "metadata": {},
     "output_type": "execute_result"
    }
   ],
   "source": [
    "m000"
   ]
  },
  {
   "cell_type": "code",
   "execution_count": 12,
   "id": "0fac650d",
   "metadata": {},
   "outputs": [
    {
     "data": {
      "text/html": [
       "<div>\n",
       "<style scoped>\n",
       "    .dataframe tbody tr th:only-of-type {\n",
       "        vertical-align: middle;\n",
       "    }\n",
       "\n",
       "    .dataframe tbody tr th {\n",
       "        vertical-align: top;\n",
       "    }\n",
       "\n",
       "    .dataframe thead th {\n",
       "        text-align: right;\n",
       "    }\n",
       "</style>\n",
       "<table border=\"1\" class=\"dataframe\">\n",
       "  <thead>\n",
       "    <tr style=\"text-align: right;\">\n",
       "      <th></th>\n",
       "      <th>patient_id</th>\n",
       "      <th>pids</th>\n",
       "      <th>dob</th>\n",
       "      <th>outcome_date</th>\n",
       "      <th>obs_time_end</th>\n",
       "      <th>index_date</th>\n",
       "      <th>diag_date</th>\n",
       "      <th>outcome</th>\n",
       "      <th>golds</th>\n",
       "      <th>probs</th>\n",
       "      <th>patient_golds</th>\n",
       "      <th>exams</th>\n",
       "      <th>dates</th>\n",
       "      <th>censor_times</th>\n",
       "      <th>days_to_final_censors</th>\n",
       "    </tr>\n",
       "  </thead>\n",
       "  <tbody>\n",
       "    <tr>\n",
       "      <th>3</th>\n",
       "      <td>1014382133</td>\n",
       "      <td>f7fc19db953744e1a93461628a3dff72</td>\n",
       "      <td>1948-03-12</td>\n",
       "      <td>2016-11-09</td>\n",
       "      <td>2018-12-13</td>\n",
       "      <td>2016-10-21</td>\n",
       "      <td>2016-09-07</td>\n",
       "      <td>True</td>\n",
       "      <td>True</td>\n",
       "      <td>0.203854</td>\n",
       "      <td>True</td>\n",
       "      <td>170</td>\n",
       "      <td>2016-10-12T00:00:00</td>\n",
       "      <td>0</td>\n",
       "      <td>28</td>\n",
       "    </tr>\n",
       "    <tr>\n",
       "      <th>4</th>\n",
       "      <td>1014382133</td>\n",
       "      <td>f7fc19db953744e1a93461628a3dff72</td>\n",
       "      <td>1948-03-12</td>\n",
       "      <td>2016-11-09</td>\n",
       "      <td>2018-12-13</td>\n",
       "      <td>2016-10-21</td>\n",
       "      <td>2016-09-07</td>\n",
       "      <td>True</td>\n",
       "      <td>True</td>\n",
       "      <td>0.203854</td>\n",
       "      <td>True</td>\n",
       "      <td>170</td>\n",
       "      <td>2016-10-12T00:00:00</td>\n",
       "      <td>0</td>\n",
       "      <td>28</td>\n",
       "    </tr>\n",
       "    <tr>\n",
       "      <th>5</th>\n",
       "      <td>1014382133</td>\n",
       "      <td>f7fc19db953744e1a93461628a3dff72</td>\n",
       "      <td>1948-03-12</td>\n",
       "      <td>2016-11-09</td>\n",
       "      <td>2018-12-13</td>\n",
       "      <td>2016-10-21</td>\n",
       "      <td>2016-09-07</td>\n",
       "      <td>True</td>\n",
       "      <td>True</td>\n",
       "      <td>0.203854</td>\n",
       "      <td>True</td>\n",
       "      <td>170</td>\n",
       "      <td>2016-10-12T00:00:00</td>\n",
       "      <td>0</td>\n",
       "      <td>28</td>\n",
       "    </tr>\n",
       "    <tr>\n",
       "      <th>6</th>\n",
       "      <td>1014382133</td>\n",
       "      <td>f7fc19db953744e1a93461628a3dff72</td>\n",
       "      <td>1948-03-12</td>\n",
       "      <td>2016-11-09</td>\n",
       "      <td>2018-12-13</td>\n",
       "      <td>2016-10-21</td>\n",
       "      <td>2016-09-07</td>\n",
       "      <td>True</td>\n",
       "      <td>True</td>\n",
       "      <td>0.203854</td>\n",
       "      <td>True</td>\n",
       "      <td>170</td>\n",
       "      <td>2016-10-12T00:00:00</td>\n",
       "      <td>0</td>\n",
       "      <td>28</td>\n",
       "    </tr>\n",
       "    <tr>\n",
       "      <th>10</th>\n",
       "      <td>1017396330</td>\n",
       "      <td>c410728329b14dbc6d91a997a0caaebb</td>\n",
       "      <td>1945-11-10</td>\n",
       "      <td>2016-10-11</td>\n",
       "      <td>2016-10-11</td>\n",
       "      <td>2016-03-30</td>\n",
       "      <td>2016-01-14</td>\n",
       "      <td>False</td>\n",
       "      <td>False</td>\n",
       "      <td>0.224608</td>\n",
       "      <td>False</td>\n",
       "      <td>264</td>\n",
       "      <td>2016-03-30T00:00:00</td>\n",
       "      <td>0</td>\n",
       "      <td>195</td>\n",
       "    </tr>\n",
       "    <tr>\n",
       "      <th>...</th>\n",
       "      <td>...</td>\n",
       "      <td>...</td>\n",
       "      <td>...</td>\n",
       "      <td>...</td>\n",
       "      <td>...</td>\n",
       "      <td>...</td>\n",
       "      <td>...</td>\n",
       "      <td>...</td>\n",
       "      <td>...</td>\n",
       "      <td>...</td>\n",
       "      <td>...</td>\n",
       "      <td>...</td>\n",
       "      <td>...</td>\n",
       "      <td>...</td>\n",
       "      <td>...</td>\n",
       "    </tr>\n",
       "    <tr>\n",
       "      <th>139254</th>\n",
       "      <td>1007501555</td>\n",
       "      <td>4c94a9f0d6bcdc6f8bf42c095bdbaefa</td>\n",
       "      <td>1948-10-29</td>\n",
       "      <td>2018-02-03</td>\n",
       "      <td>2018-02-03</td>\n",
       "      <td>2015-04-09</td>\n",
       "      <td>2014-07-23</td>\n",
       "      <td>False</td>\n",
       "      <td>False</td>\n",
       "      <td>0.083903</td>\n",
       "      <td>False</td>\n",
       "      <td>401</td>\n",
       "      <td>2015-09-30T00:00:00</td>\n",
       "      <td>0</td>\n",
       "      <td>857</td>\n",
       "    </tr>\n",
       "    <tr>\n",
       "      <th>139255</th>\n",
       "      <td>1007501555</td>\n",
       "      <td>4c94a9f0d6bcdc6f8bf42c095bdbaefa</td>\n",
       "      <td>1948-10-29</td>\n",
       "      <td>2018-02-03</td>\n",
       "      <td>2018-02-03</td>\n",
       "      <td>2015-04-09</td>\n",
       "      <td>2014-07-23</td>\n",
       "      <td>False</td>\n",
       "      <td>False</td>\n",
       "      <td>0.036537</td>\n",
       "      <td>False</td>\n",
       "      <td>401</td>\n",
       "      <td>2015-12-22T00:00:00</td>\n",
       "      <td>0</td>\n",
       "      <td>774</td>\n",
       "    </tr>\n",
       "    <tr>\n",
       "      <th>139265</th>\n",
       "      <td>1002081914</td>\n",
       "      <td>459b9aa4ed385863ac6cd4799ac16a78</td>\n",
       "      <td>1957-02-22</td>\n",
       "      <td>2023-05-15</td>\n",
       "      <td>2023-05-15</td>\n",
       "      <td>2015-03-11</td>\n",
       "      <td>2015-02-05</td>\n",
       "      <td>False</td>\n",
       "      <td>False</td>\n",
       "      <td>0.034043</td>\n",
       "      <td>False</td>\n",
       "      <td>377</td>\n",
       "      <td>2015-11-02T00:00:00</td>\n",
       "      <td>0</td>\n",
       "      <td>2751</td>\n",
       "    </tr>\n",
       "    <tr>\n",
       "      <th>139269</th>\n",
       "      <td>1012230466</td>\n",
       "      <td>d31eddb331e0f204d1c3f3b8dd86abb2</td>\n",
       "      <td>1949-02-14</td>\n",
       "      <td>2023-05-25</td>\n",
       "      <td>2023-05-25</td>\n",
       "      <td>2013-09-16</td>\n",
       "      <td>2013-02-25</td>\n",
       "      <td>False</td>\n",
       "      <td>False</td>\n",
       "      <td>0.090705</td>\n",
       "      <td>False</td>\n",
       "      <td>401</td>\n",
       "      <td>2014-06-12T00:00:00</td>\n",
       "      <td>0</td>\n",
       "      <td>3269</td>\n",
       "    </tr>\n",
       "    <tr>\n",
       "      <th>139273</th>\n",
       "      <td>1021189617</td>\n",
       "      <td>18b2037e23ee7fba7fc7c98608a0ae0b</td>\n",
       "      <td>1947-03-07</td>\n",
       "      <td>2021-05-03</td>\n",
       "      <td>2021-05-03</td>\n",
       "      <td>2018-05-18</td>\n",
       "      <td>2018-03-12</td>\n",
       "      <td>False</td>\n",
       "      <td>False</td>\n",
       "      <td>0.122499</td>\n",
       "      <td>False</td>\n",
       "      <td>401</td>\n",
       "      <td>2019-02-12T00:00:00</td>\n",
       "      <td>0</td>\n",
       "      <td>811</td>\n",
       "    </tr>\n",
       "  </tbody>\n",
       "</table>\n",
       "<p>76310 rows × 15 columns</p>\n",
       "</div>"
      ],
      "text/plain": [
       "        patient_id                              pids         dob outcome_date  \\\n",
       "3       1014382133  f7fc19db953744e1a93461628a3dff72  1948-03-12   2016-11-09   \n",
       "4       1014382133  f7fc19db953744e1a93461628a3dff72  1948-03-12   2016-11-09   \n",
       "5       1014382133  f7fc19db953744e1a93461628a3dff72  1948-03-12   2016-11-09   \n",
       "6       1014382133  f7fc19db953744e1a93461628a3dff72  1948-03-12   2016-11-09   \n",
       "10      1017396330  c410728329b14dbc6d91a997a0caaebb  1945-11-10   2016-10-11   \n",
       "...            ...                               ...         ...          ...   \n",
       "139254  1007501555  4c94a9f0d6bcdc6f8bf42c095bdbaefa  1948-10-29   2018-02-03   \n",
       "139255  1007501555  4c94a9f0d6bcdc6f8bf42c095bdbaefa  1948-10-29   2018-02-03   \n",
       "139265  1002081914  459b9aa4ed385863ac6cd4799ac16a78  1957-02-22   2023-05-15   \n",
       "139269  1012230466  d31eddb331e0f204d1c3f3b8dd86abb2  1949-02-14   2023-05-25   \n",
       "139273  1021189617  18b2037e23ee7fba7fc7c98608a0ae0b  1947-03-07   2021-05-03   \n",
       "\n",
       "       obs_time_end  index_date   diag_date  outcome  golds     probs  \\\n",
       "3        2018-12-13  2016-10-21  2016-09-07     True   True  0.203854   \n",
       "4        2018-12-13  2016-10-21  2016-09-07     True   True  0.203854   \n",
       "5        2018-12-13  2016-10-21  2016-09-07     True   True  0.203854   \n",
       "6        2018-12-13  2016-10-21  2016-09-07     True   True  0.203854   \n",
       "10       2016-10-11  2016-03-30  2016-01-14    False  False  0.224608   \n",
       "...             ...         ...         ...      ...    ...       ...   \n",
       "139254   2018-02-03  2015-04-09  2014-07-23    False  False  0.083903   \n",
       "139255   2018-02-03  2015-04-09  2014-07-23    False  False  0.036537   \n",
       "139265   2023-05-15  2015-03-11  2015-02-05    False  False  0.034043   \n",
       "139269   2023-05-25  2013-09-16  2013-02-25    False  False  0.090705   \n",
       "139273   2021-05-03  2018-05-18  2018-03-12    False  False  0.122499   \n",
       "\n",
       "        patient_golds  exams                dates  censor_times  \\\n",
       "3                True    170  2016-10-12T00:00:00             0   \n",
       "4                True    170  2016-10-12T00:00:00             0   \n",
       "5                True    170  2016-10-12T00:00:00             0   \n",
       "6                True    170  2016-10-12T00:00:00             0   \n",
       "10              False    264  2016-03-30T00:00:00             0   \n",
       "...               ...    ...                  ...           ...   \n",
       "139254          False    401  2015-09-30T00:00:00             0   \n",
       "139255          False    401  2015-12-22T00:00:00             0   \n",
       "139265          False    377  2015-11-02T00:00:00             0   \n",
       "139269          False    401  2014-06-12T00:00:00             0   \n",
       "139273          False    401  2019-02-12T00:00:00             0   \n",
       "\n",
       "        days_to_final_censors  \n",
       "3                          28  \n",
       "4                          28  \n",
       "5                          28  \n",
       "6                          28  \n",
       "10                        195  \n",
       "...                       ...  \n",
       "139254                    857  \n",
       "139255                    774  \n",
       "139265                   2751  \n",
       "139269                   3269  \n",
       "139273                    811  \n",
       "\n",
       "[76310 rows x 15 columns]"
      ]
     },
     "execution_count": 12,
     "metadata": {},
     "output_type": "execute_result"
    }
   ],
   "source": [
    "\n",
    "m000 = M34.duplicated(['patient_id'])\n",
    "M4 = M34[m000]\n"
   ]
  },
  {
   "cell_type": "code",
   "execution_count": null,
   "id": "2d59ba76",
   "metadata": {},
   "outputs": [],
   "source": []
  },
  {
   "cell_type": "code",
   "execution_count": null,
   "id": "8f3d6653",
   "metadata": {},
   "outputs": [],
   "source": [
    "\n",
    "import sklearn\n",
    "from sklearn.metrics import confusion_matrix\n",
    "sklearn.metrics.roc_auc_score(tgold1,  tc1 , average = 'samples')\n",
    "\n",
    "sklearn.metrics.roc_auc_score(tgold2,  tc2 , average = 'samples')\n",
    "\n",
    "sklearn.metrics.roc_auc_score(tgold3,  tc3 , average = 'samples')\n",
    "\n",
    "sklearn.metrics.roc_auc_score(tgold4,  tc4 , average = 'samples')\n"
   ]
  },
  {
   "cell_type": "code",
   "execution_count": null,
   "id": "e5d7bffc-b186-4191-89b5-73c279940fac",
   "metadata": {},
   "outputs": [],
   "source": []
  },
  {
   "cell_type": "code",
   "execution_count": 31,
   "id": "d65ee1e0-3c7e-4767-a358-7cb1270fd1e2",
   "metadata": {
    "tags": []
   },
   "outputs": [
    {
     "data": {
      "text/plain": [
       "array([[6778, 8874],\n",
       "       [  95,  385]], dtype=int64)"
      ]
     },
     "execution_count": 31,
     "metadata": {},
     "output_type": "execute_result"
    }
   ],
   "source": [
    "( confusion_matrix (tgold1,  tc1>.5) )"
   ]
  },
  {
   "cell_type": "code",
   "execution_count": 32,
   "id": "574e8687-1443-4827-9ce0-c98988adfefe",
   "metadata": {
    "tags": []
   },
   "outputs": [
    {
     "data": {
      "text/plain": [
       "array([[11112,  2894],\n",
       "       [  133,    87]], dtype=int64)"
      ]
     },
     "execution_count": 32,
     "metadata": {},
     "output_type": "execute_result"
    }
   ],
   "source": [
    "( confusion_matrix (tgold2,  tc2>.5) )"
   ]
  },
  {
   "cell_type": "code",
   "execution_count": 33,
   "id": "cc7b54aa-6a9d-4fec-8fc3-56a911184377",
   "metadata": {
    "tags": []
   },
   "outputs": [
    {
     "data": {
      "text/plain": [
       "array([[12240,   436],\n",
       "       [  139,    14]], dtype=int64)"
      ]
     },
     "execution_count": 33,
     "metadata": {},
     "output_type": "execute_result"
    }
   ],
   "source": [
    "( confusion_matrix (tgold3,  tc3>.5) )"
   ]
  },
  {
   "cell_type": "code",
   "execution_count": 34,
   "id": "f7a11214-2288-42b1-899e-94beb1ff8ed9",
   "metadata": {
    "tags": []
   },
   "outputs": [
    {
     "data": {
      "text/plain": [
       "array([[11578,     2],\n",
       "       [  101,     0]], dtype=int64)"
      ]
     },
     "execution_count": 34,
     "metadata": {},
     "output_type": "execute_result"
    }
   ],
   "source": [
    "( confusion_matrix (tgold4,  tc4>.5) )"
   ]
  },
  {
   "cell_type": "code",
   "execution_count": null,
   "id": "2f312bc4-e159-412b-9fd2-bab5ea3bf296",
   "metadata": {},
   "outputs": [],
   "source": []
  },
  {
   "cell_type": "code",
   "execution_count": null,
   "id": "c540d301-57e2-4d4e-b901-ede19d134aec",
   "metadata": {},
   "outputs": [],
   "source": []
  },
  {
   "cell_type": "code",
   "execution_count": 231,
   "id": "b1feacca-3b06-4560-8113-0e466dc73d56",
   "metadata": {
    "tags": []
   },
   "outputs": [
    {
     "data": {
      "text/plain": [
       "array([[ 1657, 13862],\n",
       "       [   10,   496]], dtype=int64)"
      ]
     },
     "execution_count": 231,
     "metadata": {},
     "output_type": "execute_result"
    }
   ],
   "source": [
    "( confusion_matrix (tgold1,  tp1>.05) )"
   ]
  },
  {
   "cell_type": "code",
   "execution_count": 227,
   "id": "37b6e4ea-c761-435e-b415-77bde119956c",
   "metadata": {
    "tags": []
   },
   "outputs": [
    {
     "data": {
      "text/plain": [
       "array([[12250,  1605],\n",
       "       [  149,    50]], dtype=int64)"
      ]
     },
     "execution_count": 227,
     "metadata": {},
     "output_type": "execute_result"
    }
   ],
   "source": [
    "( confusion_matrix (tgold2,  tc2>.5) )"
   ]
  },
  {
   "cell_type": "code",
   "execution_count": 228,
   "id": "2b0d6789-478d-46f1-b724-1051f6241f4b",
   "metadata": {
    "tags": []
   },
   "outputs": [
    {
     "data": {
      "text/plain": [
       "array([[12405,    42],\n",
       "       [  130,     2]], dtype=int64)"
      ]
     },
     "execution_count": 228,
     "metadata": {},
     "output_type": "execute_result"
    }
   ],
   "source": [
    "( confusion_matrix (tgold3,  tc3>.5) )"
   ]
  },
  {
   "cell_type": "code",
   "execution_count": 229,
   "id": "c7d6e451-9132-45ca-b013-e0a89ae56738",
   "metadata": {
    "tags": []
   },
   "outputs": [
    {
     "data": {
      "text/plain": [
       "array([[10584,   128],\n",
       "       [   94,     4]], dtype=int64)"
      ]
     },
     "execution_count": 229,
     "metadata": {},
     "output_type": "execute_result"
    }
   ],
   "source": [
    "( confusion_matrix (tgold4,  tc4>.5) )"
   ]
  },
  {
   "cell_type": "code",
   "execution_count": null,
   "id": "ebdd1847-405d-4d17-a361-7b601542fc4e",
   "metadata": {},
   "outputs": [],
   "source": []
  },
  {
   "cell_type": "code",
   "execution_count": null,
   "id": "e0151346-0f1b-4eed-ab71-71b3d712dfee",
   "metadata": {},
   "outputs": [],
   "source": []
  },
  {
   "cell_type": "code",
   "execution_count": 27,
   "id": "28235e3d-d8e2-424b-b064-e0b9d45c7881",
   "metadata": {
    "tags": []
   },
   "outputs": [],
   "source": [
    "m1.to_csv('output/XCoh_Sen.csv') "
   ]
  },
  {
   "cell_type": "code",
   "execution_count": 34,
   "id": "112b112b-b97d-4328-9fb2-a9aa34b70486",
   "metadata": {},
   "outputs": [],
   "source": [
    "#m1.to_excel('output/dxMD_Sensitivity90.xlsx') "
   ]
  },
  {
   "cell_type": "code",
   "execution_count": 39,
   "id": "575f35d4-ab67-4311-8e98-a339f980982a",
   "metadata": {
    "tags": []
   },
   "outputs": [],
   "source": [
    "y1 = np.array(M1['golds'],dtype = int)\n",
    "x1 = M1['probs'].to_numpy()\n",
    "platt.fit(x1, y1)\n",
    "cal_1 = platt.predict(M_test1['probs'])"
   ]
  },
  {
   "cell_type": "code",
   "execution_count": null,
   "id": "2e1d9a19-4dbb-4201-bcb9-8ecaaea3619a",
   "metadata": {},
   "outputs": [],
   "source": []
  }
 ],
 "metadata": {
  "kernelspec": {
   "display_name": "Python 3 (ipykernel)",
   "language": "python",
   "name": "python3"
  },
  "language_info": {
   "codemirror_mode": {
    "name": "ipython",
    "version": 3
   },
   "file_extension": ".py",
   "mimetype": "text/x-python",
   "name": "python",
   "nbconvert_exporter": "python",
   "pygments_lexer": "ipython3",
   "version": "3.11.7"
  }
 },
 "nbformat": 4,
 "nbformat_minor": 5
}
