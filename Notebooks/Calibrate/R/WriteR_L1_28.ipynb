{
 "cells": [
  {
   "cell_type": "code",
   "execution_count": 21,
   "id": "9581a628-c1f1-4e81-8ddc-e408c713a043",
   "metadata": {
    "tags": []
   },
   "outputs": [],
   "source": [
    "import json\n",
    "from collections import Counter\n",
    "import pickle\n",
    "import numpy as np\n",
    "import pandas as pd\n",
    "import os\n",
    "import sys\n",
    "import argparse\n",
    "from os.path import dirname, realpath\n",
    "\n",
    "import math\n",
    "import hashlib\n",
    "import datetime\n",
    "import datetime as datetime\n",
    "sys.path.append(\"./src/\")\n",
    "\n",
    "import torch\n",
    "from torch import nn, optim\n",
    "from torch.nn import functional as F\n",
    "\n",
    "from sklearn.calibration import calibration_curve\n",
    "from sklearn.linear_model import LogisticRegression\n",
    "from sklearn.base import BaseEstimator\n",
    "sys.path.append(dirname(dirname(realpath(os.getcwd()))))\n",
    "\n",
    "from scipy.optimize import minimize_scalar\n",
    "from scipy.optimize import minimize\n",
    "from sklearn.metrics import log_loss\n",
    "import matplotlib.pyplot as plt\n",
    "src_path = \"G:\\\\FillmoreCancerData\\\\markhe\\\\VTERisk\" \n",
    "\n"
   ]
  },
  {
   "cell_type": "code",
   "execution_count": 30,
   "id": "378ae565",
   "metadata": {},
   "outputs": [],
   "source": [
    "TRAIN_OUT = 'CSV_for_R/totbM_tr_1_28.csv'\n",
    "DEV_OUT = 'CSV_for_R/totbM_dev_1_28.csv'\n",
    "TEST_OUT = 'CSV_for_R/Mb_test_1_28.csv'\n",
    "\n",
    "TEST_OUT1 = 'CSV_for_R/Mb1_test_1_28.csv'\n",
    "TEST_OUT2 = 'CSV_for_R/Mb2_test_1_28.csv'\n",
    "TEST_OUT3 = 'CSV_for_R/Mb3_test_1_28.csv'\n",
    "TEST_OUT4 = 'CSV_for_R/Mb4_test_1_28.csv'"
   ]
  },
  {
   "cell_type": "code",
   "execution_count": 23,
   "id": "fdf0b2ba",
   "metadata": {},
   "outputs": [],
   "source": [
    "trainpath = os.path.join(src_path ,'logs_transformer_vte/L/1_28/', \"1ef57026b57379a05f64994f9760525e.results.train_preds\")\n",
    "devpath = os.path.join(src_path ,'logs_transformer_vte/L/1_28/', \"1ef57026b57379a05f64994f9760525e.results.dev_preds\")\n",
    "testpath = os.path.join(src_path ,'logs_transformer_vte/L/1_28/', \"1ef57026b57379a05f64994f9760525e.results.test_preds\")\n"
   ]
  },
  {
   "cell_type": "code",
   "execution_count": 24,
   "id": "83bad053-b30d-4cbf-872d-9ebcba09c6b5",
   "metadata": {
    "tags": []
   },
   "outputs": [],
   "source": [
    "def md5(key):\n",
    "    return hashlib.md5(repr(key).encode()).hexdigest()\n",
    "testDF = pd.read_csv(os.path.join(src_path, 'Notebooks/Find/fixed_dx.csv'))\n",
    "pat_ids = (testDF['patient_id'] ).astype(int)\n",
    "testDF['pids'] = pat_ids.apply(md5)"
   ]
  },
  {
   "cell_type": "code",
   "execution_count": 25,
   "id": "07aaeeda-ea0d-4b6d-8fd1-5b34bddd18d8",
   "metadata": {
    "tags": []
   },
   "outputs": [],
   "source": [
    "def get_4Ms(M):\n",
    "    M1 = M.drop_duplicates(['patient_id'])\n",
    "    m0 = M.duplicated(['patient_id'])\n",
    "    M234 = M[m0]\n",
    "    M2 = M234.drop_duplicates(['patient_id'])\n",
    "\n",
    "    m00 = M234.duplicated(['patient_id'])\n",
    "    M34 = M234[m00]\n",
    "    M3 = M34.drop_duplicates(['patient_id'])\n",
    "\n",
    "    m000 = M34.duplicated(['patient_id'])\n",
    "    M4 = M34[m000]\n",
    "    return M1, M2, M3, M4"
   ]
  },
  {
   "cell_type": "code",
   "execution_count": 26,
   "id": "6ac1de47-e774-457c-8f15-db1310dbe84d",
   "metadata": {
    "tags": []
   },
   "outputs": [],
   "source": [
    "tdf = pd.DataFrame({'patient_id': (testDF['patient_id'] ),    \n",
    "                    'pids': (testDF['pids'] ),    \n",
    "                    'dob': (testDF['dob'] ),  \n",
    "                    'outcome_date': (testDF['outcome_date'] ), \n",
    "                    'obs_time_end': (testDF['obs_time_end'] ),  \n",
    "                    'index_date': (testDF['index_date'] ),  \n",
    "                    'diag_date': (testDF['diag_date'] ),  \n",
    "                    'outcome': (testDF['outcome'])    })"
   ]
  },
  {
   "cell_type": "code",
   "execution_count": 27,
   "id": "32e3e76d-5098-4736-87c0-a0b83f5e2aff",
   "metadata": {
    "tags": []
   },
   "outputs": [],
   "source": [
    "with open(trainpath, 'rb') as f:\n",
    "    R = pickle.load(f)\n",
    "    p = np.array(R['probs'])\n",
    "\n",
    "Df = pd.DataFrame.from_dict(R)\n",
    "Df['probs'] = Df['probs'].astype(float)\n",
    "Df['exams'] = Df['exams'].astype(int)\n",
    "M = pd.merge(tdf, Df)\n",
    "M.to_csv(TRAIN_OUT) "
   ]
  },
  {
   "cell_type": "code",
   "execution_count": 28,
   "id": "bf66c965",
   "metadata": {},
   "outputs": [],
   "source": [
    "with open(devpath, 'rb') as f:\n",
    "    R_d = pickle.load(f)\n",
    "\n",
    "Df_dev = pd.DataFrame.from_dict(R_d)\n",
    "Df_dev['probs'] = Df_dev['probs'].astype(float)\n",
    "M_dev = pd.merge(tdf, Df_dev)\n",
    "M_dev.to_csv(DEV_OUT) "
   ]
  },
  {
   "cell_type": "code",
   "execution_count": 31,
   "id": "4ca02923-d744-4c74-90dd-accd5b44d64c",
   "metadata": {
    "tags": []
   },
   "outputs": [],
   "source": [
    "with open(testpath, 'rb') as f:\n",
    "    R_t = pickle.load(f)\n",
    "\n",
    "Df_test = pd.DataFrame.from_dict(R_t)\n",
    "Df_test['probs'] = Df_test['probs'].astype(float)\n",
    "M_test = pd.merge(tdf, Df_test)\n",
    "M_test.to_csv(TEST_OUT)\n",
    "\n",
    "#M_test1, M_test2, M_test3, M_test4 = get_4Ms(M_test)\n",
    "#M_test1.to_csv(TEST_OUT1) \n",
    "#M_test2.to_csv(TEST_OUT2) \n",
    "#M_test3.to_csv(TEST_OUT3) \n",
    "#M_test4.to_csv(TEST_OUT4)"
   ]
  },
  {
   "cell_type": "code",
   "execution_count": 32,
   "id": "c2db4d8e-3ecd-4219-892f-7679847d6ccf",
   "metadata": {},
   "outputs": [
    {
     "data": {
      "text/plain": [
       "'CSV_for_R/Mb_test_1_28.csv'"
      ]
     },
     "execution_count": 32,
     "metadata": {},
     "output_type": "execute_result"
    }
   ],
   "source": [
    "TEST_OUT"
   ]
  },
  {
   "cell_type": "code",
   "execution_count": null,
   "id": "2e1d9a19-4dbb-4201-bcb9-8ecaaea3619a",
   "metadata": {},
   "outputs": [],
   "source": []
  }
 ],
 "metadata": {
  "kernelspec": {
   "display_name": "Python 3 (ipykernel)",
   "language": "python",
   "name": "python3"
  },
  "language_info": {
   "codemirror_mode": {
    "name": "ipython",
    "version": 3
   },
   "file_extension": ".py",
   "mimetype": "text/x-python",
   "name": "python",
   "nbconvert_exporter": "python",
   "pygments_lexer": "ipython3",
   "version": "3.11.7"
  }
 },
 "nbformat": 4,
 "nbformat_minor": 5
}
