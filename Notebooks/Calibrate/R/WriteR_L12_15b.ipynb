{
 "cells": [
  {
   "cell_type": "code",
   "execution_count": 8,
   "id": "9581a628-c1f1-4e81-8ddc-e408c713a043",
   "metadata": {
    "tags": []
   },
   "outputs": [],
   "source": [
    "import json\n",
    "from collections import Counter\n",
    "import pickle\n",
    "import numpy as np\n",
    "import pandas as pd\n",
    "import os\n",
    "import sys\n",
    "import argparse\n",
    "from os.path import dirname, realpath\n",
    "\n",
    "import math\n",
    "import hashlib\n",
    "import datetime\n",
    "import datetime as datetime\n",
    "sys.path.append(\"./src/\")\n",
    "\n",
    "import torch\n",
    "from torch import nn, optim\n",
    "from torch.nn import functional as F\n",
    "\n",
    "from sklearn.calibration import calibration_curve\n",
    "from sklearn.linear_model import LogisticRegression\n",
    "from sklearn.base import BaseEstimator\n",
    "sys.path.append(dirname(dirname(realpath(os.getcwd()))))\n",
    "\n",
    "from scipy.optimize import minimize_scalar\n",
    "from scipy.optimize import minimize\n",
    "from sklearn.metrics import log_loss\n",
    "import matplotlib.pyplot as plt\n"
   ]
  },
  {
   "cell_type": "code",
   "execution_count": 9,
   "id": "83bad053-b30d-4cbf-872d-9ebcba09c6b5",
   "metadata": {
    "tags": []
   },
   "outputs": [],
   "source": [
    "src_path = \"G:\\\\FillmoreCancerData\\\\markhe\\\\VTERisk\" \n",
    "src_path2 = \"G:\\\\FillmoreCancerData\\\\markhe\\\\VTERisk - Copy\" \n",
    "\n",
    "def md5(key):\n",
    "    return hashlib.md5(repr(key).encode()).hexdigest()\n",
    "testDF = pd.read_csv(os.path.join(src_path2, 'Notebooks/Find/fixed_dx.csv'))\n",
    "pat_ids = (testDF['patient_id'] ).astype(int)\n",
    "testDF['pids'] = pat_ids.apply(md5)"
   ]
  },
  {
   "cell_type": "code",
   "execution_count": 10,
   "id": "07aaeeda-ea0d-4b6d-8fd1-5b34bddd18d8",
   "metadata": {
    "tags": []
   },
   "outputs": [],
   "source": [
    "def get_4Ms(M):\n",
    "    M1 = M.drop_duplicates(['patient_id'])\n",
    "    m0 = M.duplicated(['patient_id'])\n",
    "    M234 = M[m0]\n",
    "    M2 = M234.drop_duplicates(['patient_id'])\n",
    "\n",
    "    m00 = M234.duplicated(['patient_id'])\n",
    "    M34 = M234[m00]\n",
    "    M3 = M34.drop_duplicates(['patient_id'])\n",
    "\n",
    "    m000 = M34.duplicated(['patient_id'])\n",
    "    M4 = M34[m000]\n",
    "    return M1, M2, M3, M4"
   ]
  },
  {
   "cell_type": "code",
   "execution_count": 11,
   "id": "6ac1de47-e774-457c-8f15-db1310dbe84d",
   "metadata": {
    "tags": []
   },
   "outputs": [],
   "source": [
    "tdf = pd.DataFrame({'patient_id': (testDF['patient_id'] ),    \n",
    "                    'pids': (testDF['pids'] ),    \n",
    "                  'dob': (testDF['dob'] ),  \n",
    "                  'outcome_date': (testDF['outcome_date'] ), \n",
    "                  'obs_time_end': (testDF['obs_time_end'] ),  \n",
    "                  'index_date': (testDF['index_date'] ),  \n",
    "                  'diag_date': (testDF['diag_date'] ),  \n",
    "                  'outcome': (testDF['outcome'])    })"
   ]
  },
  {
   "cell_type": "code",
   "execution_count": 12,
   "id": "6164b3ee-b02a-4235-932c-0612abb0d3fd",
   "metadata": {
    "tags": []
   },
   "outputs": [],
   "source": [
    "def logit (p): return np.log(  p / (1 - p) )\n",
    "def expit (p): return   np.exp(p)/(1 + np.exp(p))"
   ]
  },
  {
   "cell_type": "code",
   "execution_count": 13,
   "id": "32e3e76d-5098-4736-87c0-a0b83f5e2aff",
   "metadata": {
    "tags": []
   },
   "outputs": [],
   "source": [
    "devpath = os.path.join(src_path ,'logs_transformer_vte/L/12_15/', \"3661c4bb69b264485ed2eba3098046c4.results.dev_preds\")\n",
    "\n",
    "testpath = os.path.join(src_path ,'logs_transformer_vte/L/12_15/', \"3661c4bb69b264485ed2eba3098046c4.results.test_preds\")\n",
    "with open(devpath, 'rb') as f:\n",
    "    R = pickle.load(f)\n",
    "    p = np.array(R['probs'])\n",
    "\n",
    "Df = pd.DataFrame.from_dict(R)\n",
    "Df['probs'] = Df['probs'].astype(float)\n",
    "Df['exams'] = Df['exams'].astype(int)\n",
    "M = pd.merge(tdf, Df)\n",
    "M1, M2, M3, M4 = get_4Ms(M)"
   ]
  },
  {
   "cell_type": "code",
   "execution_count": 14,
   "id": "4ca02923-d744-4c74-90dd-accd5b44d64c",
   "metadata": {
    "tags": []
   },
   "outputs": [],
   "source": [
    " with open(testpath, 'rb') as f:\n",
    "    R_t = pickle.load(f)\n",
    "\n",
    "Df_test = pd.DataFrame.from_dict(R_t)\n",
    "Df_test['probs'] = Df_test['probs'].astype(float)\n",
    "M_test = pd.merge(tdf, Df_test)\n",
    "M_test1, M_test2, M_test3, M_test4 = get_4Ms(M_test)"
   ]
  },
  {
   "cell_type": "code",
   "execution_count": 16,
   "id": "672b86c4-2477-42c4-9eed-856f6a5c2818",
   "metadata": {
    "tags": []
   },
   "outputs": [],
   "source": [
    "\n",
    "M.to_csv('CSV_for_R/devL_12_15b.csv') \n",
    "M_test.to_csv('CSV_for_R/testL_12_15b.csv') \n"
   ]
  },
  {
   "cell_type": "code",
   "execution_count": null,
   "id": "2e1d9a19-4dbb-4201-bcb9-8ecaaea3619a",
   "metadata": {},
   "outputs": [],
   "source": []
  }
 ],
 "metadata": {
  "kernelspec": {
   "display_name": "Python 3 (ipykernel)",
   "language": "python",
   "name": "python3"
  },
  "language_info": {
   "codemirror_mode": {
    "name": "ipython",
    "version": 3
   },
   "file_extension": ".py",
   "mimetype": "text/x-python",
   "name": "python",
   "nbconvert_exporter": "python",
   "pygments_lexer": "ipython3",
   "version": "3.11.5"
  }
 },
 "nbformat": 4,
 "nbformat_minor": 5
}
