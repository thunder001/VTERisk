{
 "cells": [
  {
   "cell_type": "code",
   "execution_count": 1,
   "id": "9581a628-c1f1-4e81-8ddc-e408c713a043",
   "metadata": {
    "tags": []
   },
   "outputs": [],
   "source": [
    "import json\n",
    "from collections import Counter\n",
    "import pickle\n",
    "import numpy as np\n",
    "import pandas as pd\n",
    "import os\n",
    "import sys\n",
    "import argparse\n",
    "from os.path import dirname, realpath\n",
    "\n",
    "import math\n",
    "import hashlib\n",
    "import datetime\n",
    "import datetime as datetime\n",
    "sys.path.append(\"./src/\")\n",
    "\n",
    "import torch\n",
    "from torch import nn, optim\n",
    "from torch.nn import functional as F\n",
    "\n",
    "from sklearn.calibration import calibration_curve\n",
    "from sklearn.linear_model import LogisticRegression\n",
    "from sklearn.base import BaseEstimator\n",
    "sys.path.append(dirname(dirname(realpath(os.getcwd()))))\n",
    "\n",
    "from scipy.optimize import minimize_scalar\n",
    "from scipy.optimize import minimize\n",
    "from sklearn.metrics import log_loss\n",
    "import matplotlib.pyplot as plt\n"
   ]
  },
  {
   "cell_type": "code",
   "execution_count": 2,
   "id": "83bad053-b30d-4cbf-872d-9ebcba09c6b5",
   "metadata": {
    "tags": []
   },
   "outputs": [],
   "source": [
    "src_path = \"G:\\\\FillmoreCancerData\\\\markhe\\\\VTERisk\" \n",
    "src_path2 = \"G:\\\\FillmoreCancerData\\\\markhe\\\\VTERisk - Copy\" \n",
    "\n",
    "def md5(key):\n",
    "    return hashlib.md5(repr(key).encode()).hexdigest()\n",
    "testDF = pd.read_csv(os.path.join(src_path2, 'Notebooks/Find/fixed_dx.csv'))\n",
    "pat_ids = (testDF['patient_id'] ).astype(int)\n",
    "testDF['pids'] = pat_ids.apply(md5)"
   ]
  },
  {
   "cell_type": "code",
   "execution_count": 3,
   "id": "07aaeeda-ea0d-4b6d-8fd1-5b34bddd18d8",
   "metadata": {
    "tags": []
   },
   "outputs": [],
   "source": [
    "def get_4Ms(M):\n",
    "    M1 = M.drop_duplicates(['patient_id'])\n",
    "    m0 = M.duplicated(['patient_id'])\n",
    "    M234 = M[m0]\n",
    "    M2 = M234.drop_duplicates(['patient_id'])\n",
    "\n",
    "    m00 = M234.duplicated(['patient_id'])\n",
    "    M34 = M234[m00]\n",
    "    M3 = M34.drop_duplicates(['patient_id'])\n",
    "\n",
    "    m000 = M34.duplicated(['patient_id'])\n",
    "    M4 = M34[m000]\n",
    "    return M1, M2, M3, M4"
   ]
  },
  {
   "cell_type": "code",
   "execution_count": 4,
   "id": "6ac1de47-e774-457c-8f15-db1310dbe84d",
   "metadata": {
    "tags": []
   },
   "outputs": [],
   "source": [
    "tdf = pd.DataFrame({'patient_id': (testDF['patient_id'] ),    \n",
    "                    'pids': (testDF['pids'] ),    \n",
    "                  'dob': (testDF['dob'] ),  \n",
    "                  'outcome_date': (testDF['outcome_date'] ), \n",
    "                  'obs_time_end': (testDF['obs_time_end'] ),  \n",
    "                  'index_date': (testDF['index_date'] ),  \n",
    "                  'diag_date': (testDF['diag_date'] ),  \n",
    "                  'outcome': (testDF['outcome'])    })"
   ]
  },
  {
   "cell_type": "code",
   "execution_count": 5,
   "id": "6164b3ee-b02a-4235-932c-0612abb0d3fd",
   "metadata": {
    "tags": []
   },
   "outputs": [],
   "source": [
    "def logit (p): return np.log(  p / (1 - p) )\n",
    "def expit (p): return   np.exp(p)/(1 + np.exp(p))"
   ]
  },
  {
   "cell_type": "code",
   "execution_count": 6,
   "id": "32e3e76d-5098-4736-87c0-a0b83f5e2aff",
   "metadata": {
    "tags": []
   },
   "outputs": [],
   "source": [
    "trainpath = os.path.join(src_path ,'logs_transformer_vte/L/1_12/', \"f4b49c5314ae3ca26589bae59ed8c192.results.train_preds\")\n",
    "testpath = os.path.join(src_path ,'logs_transformer_vte/L/1_12/', \"f4b49c5314ae3ca26589bae59ed8c192.results.test_preds\")\n",
    "\n",
    "with open(trainpath, 'rb') as f:\n",
    "    R = pickle.load(f)\n",
    "    p = np.array(R['probs'])\n",
    "\n",
    "Df = pd.DataFrame.from_dict(R)\n",
    "Df['probs'] = Df['probs'].astype(float)\n",
    "Df['exams'] = Df['exams'].astype(int)\n",
    "M = pd.merge(tdf, Df)\n",
    "M1, M2, M3, M4 = get_4Ms(M)"
   ]
  },
  {
   "cell_type": "code",
   "execution_count": 11,
   "id": "c5f1b56e",
   "metadata": {},
   "outputs": [],
   "source": [
    "M1.to_csv('CSV_for_R/M1_tr_1_12.csv') \n",
    "M2.to_csv('CSV_for_R/M2_tr_1_12.csv') \n",
    "M3.to_csv('CSV_for_R/M3_tr_1_12.csv') \n",
    "M4.to_csv('CSV_for_R/M4_tr_1_12.csv') "
   ]
  },
  {
   "cell_type": "code",
   "execution_count": 12,
   "id": "4ca02923-d744-4c74-90dd-accd5b44d64c",
   "metadata": {
    "tags": []
   },
   "outputs": [],
   "source": [
    " with open(testpath, 'rb') as f:\n",
    "    R_t = pickle.load(f)\n",
    "\n",
    "Df_test = pd.DataFrame.from_dict(R_t)\n",
    "Df_test['probs'] = Df_test['probs'].astype(float)\n",
    "M_test = pd.merge(tdf, Df_test)\n",
    "M_test1, M_test2, M_test3, M_test4 = get_4Ms(M_test)"
   ]
  },
  {
   "cell_type": "code",
   "execution_count": 13,
   "id": "672b86c4-2477-42c4-9eed-856f6a5c2818",
   "metadata": {
    "tags": []
   },
   "outputs": [],
   "source": [
    "M_test1.to_csv('CSV_for_R/M1_test_1_12.csv') \n",
    "M_test2.to_csv('CSV_for_R/M2_test_1_12.csv') \n",
    "M_test3.to_csv('CSV_for_R/M3_test_1_12.csv') \n",
    "M_test4.to_csv('CSV_for_R/M4_test_1_12.csv') "
   ]
  },
  {
   "cell_type": "code",
   "execution_count": null,
   "id": "c2db4d8e-3ecd-4219-892f-7679847d6ccf",
   "metadata": {},
   "outputs": [],
   "source": []
  },
  {
   "cell_type": "code",
   "execution_count": 18,
   "id": "7e906a3f-7345-48d0-ade7-155f57b6b04b",
   "metadata": {
    "tags": []
   },
   "outputs": [],
   "source": [
    "import sklearn\n",
    "from sklearn.metrics import confusion_matrix"
   ]
  },
  {
   "cell_type": "code",
   "execution_count": 19,
   "id": "3ed76f5c-ab80-4ed9-90d1-d80ede20287a",
   "metadata": {
    "tags": []
   },
   "outputs": [
    {
     "ename": "NameError",
     "evalue": "name 'tgold1' is not defined",
     "output_type": "error",
     "traceback": [
      "\u001b[1;31m---------------------------------------------------------------------------\u001b[0m",
      "\u001b[1;31mNameError\u001b[0m                                 Traceback (most recent call last)",
      "Cell \u001b[1;32mIn[19], line 1\u001b[0m\n\u001b[1;32m----> 1\u001b[0m sklearn\u001b[38;5;241m.\u001b[39mmetrics\u001b[38;5;241m.\u001b[39mroc_auc_score(tgold1,  tc1 , average \u001b[38;5;241m=\u001b[39m \u001b[38;5;124m'\u001b[39m\u001b[38;5;124msamples\u001b[39m\u001b[38;5;124m'\u001b[39m)\n",
      "\u001b[1;31mNameError\u001b[0m: name 'tgold1' is not defined"
     ]
    }
   ],
   "source": [
    "sklearn.metrics.roc_auc_score(tgold1,  tc1 , average = 'samples')\n"
   ]
  },
  {
   "cell_type": "code",
   "execution_count": 17,
   "id": "73d3c6ea-b1b8-435e-913f-122b12314247",
   "metadata": {
    "tags": []
   },
   "outputs": [
    {
     "ename": "NameError",
     "evalue": "name 'tgold2' is not defined",
     "output_type": "error",
     "traceback": [
      "\u001b[1;31m---------------------------------------------------------------------------\u001b[0m",
      "\u001b[1;31mNameError\u001b[0m                                 Traceback (most recent call last)",
      "Cell \u001b[1;32mIn[17], line 1\u001b[0m\n\u001b[1;32m----> 1\u001b[0m sklearn\u001b[38;5;241m.\u001b[39mmetrics\u001b[38;5;241m.\u001b[39mroc_auc_score(tgold2,  tc2 , average \u001b[38;5;241m=\u001b[39m \u001b[38;5;124m'\u001b[39m\u001b[38;5;124msamples\u001b[39m\u001b[38;5;124m'\u001b[39m)\n",
      "\u001b[1;31mNameError\u001b[0m: name 'tgold2' is not defined"
     ]
    }
   ],
   "source": [
    "sklearn.metrics.roc_auc_score(tgold2,  tc2 , average = 'samples')\n"
   ]
  },
  {
   "cell_type": "code",
   "execution_count": 14,
   "id": "45af5dae-562b-4953-ac2e-ebf94b4f5511",
   "metadata": {
    "tags": []
   },
   "outputs": [
    {
     "ename": "NameError",
     "evalue": "name 'sklearn' is not defined",
     "output_type": "error",
     "traceback": [
      "\u001b[1;31m---------------------------------------------------------------------------\u001b[0m",
      "\u001b[1;31mNameError\u001b[0m                                 Traceback (most recent call last)",
      "Cell \u001b[1;32mIn[14], line 1\u001b[0m\n\u001b[1;32m----> 1\u001b[0m sklearn\u001b[38;5;241m.\u001b[39mmetrics\u001b[38;5;241m.\u001b[39mroc_auc_score(tgold3,  tc3 , average \u001b[38;5;241m=\u001b[39m \u001b[38;5;124m'\u001b[39m\u001b[38;5;124msamples\u001b[39m\u001b[38;5;124m'\u001b[39m)\n",
      "\u001b[1;31mNameError\u001b[0m: name 'sklearn' is not defined"
     ]
    }
   ],
   "source": [
    "sklearn.metrics.roc_auc_score(tgold3,  tc3 , average = 'samples')\n"
   ]
  },
  {
   "cell_type": "code",
   "execution_count": 30,
   "id": "69762308-8181-4479-b3b3-c0e6cb641ca7",
   "metadata": {
    "tags": []
   },
   "outputs": [
    {
     "data": {
      "text/plain": [
       "0.754709382855384"
      ]
     },
     "execution_count": 30,
     "metadata": {},
     "output_type": "execute_result"
    }
   ],
   "source": [
    "sklearn.metrics.roc_auc_score(tgold4,  tc4 , average = 'samples')\n"
   ]
  },
  {
   "cell_type": "code",
   "execution_count": null,
   "id": "e5d7bffc-b186-4191-89b5-73c279940fac",
   "metadata": {},
   "outputs": [],
   "source": []
  },
  {
   "cell_type": "code",
   "execution_count": 31,
   "id": "d65ee1e0-3c7e-4767-a358-7cb1270fd1e2",
   "metadata": {
    "tags": []
   },
   "outputs": [
    {
     "data": {
      "text/plain": [
       "array([[6778, 8874],\n",
       "       [  95,  385]], dtype=int64)"
      ]
     },
     "execution_count": 31,
     "metadata": {},
     "output_type": "execute_result"
    }
   ],
   "source": [
    "( confusion_matrix (tgold1,  tc1>.5) )"
   ]
  },
  {
   "cell_type": "code",
   "execution_count": 32,
   "id": "574e8687-1443-4827-9ce0-c98988adfefe",
   "metadata": {
    "tags": []
   },
   "outputs": [
    {
     "data": {
      "text/plain": [
       "array([[11112,  2894],\n",
       "       [  133,    87]], dtype=int64)"
      ]
     },
     "execution_count": 32,
     "metadata": {},
     "output_type": "execute_result"
    }
   ],
   "source": [
    "( confusion_matrix (tgold2,  tc2>.5) )"
   ]
  },
  {
   "cell_type": "code",
   "execution_count": 33,
   "id": "cc7b54aa-6a9d-4fec-8fc3-56a911184377",
   "metadata": {
    "tags": []
   },
   "outputs": [
    {
     "data": {
      "text/plain": [
       "array([[12240,   436],\n",
       "       [  139,    14]], dtype=int64)"
      ]
     },
     "execution_count": 33,
     "metadata": {},
     "output_type": "execute_result"
    }
   ],
   "source": [
    "( confusion_matrix (tgold3,  tc3>.5) )"
   ]
  },
  {
   "cell_type": "code",
   "execution_count": 34,
   "id": "f7a11214-2288-42b1-899e-94beb1ff8ed9",
   "metadata": {
    "tags": []
   },
   "outputs": [
    {
     "data": {
      "text/plain": [
       "array([[11578,     2],\n",
       "       [  101,     0]], dtype=int64)"
      ]
     },
     "execution_count": 34,
     "metadata": {},
     "output_type": "execute_result"
    }
   ],
   "source": [
    "( confusion_matrix (tgold4,  tc4>.5) )"
   ]
  },
  {
   "cell_type": "code",
   "execution_count": null,
   "id": "2f312bc4-e159-412b-9fd2-bab5ea3bf296",
   "metadata": {},
   "outputs": [],
   "source": []
  },
  {
   "cell_type": "code",
   "execution_count": null,
   "id": "c540d301-57e2-4d4e-b901-ede19d134aec",
   "metadata": {},
   "outputs": [],
   "source": []
  },
  {
   "cell_type": "code",
   "execution_count": 231,
   "id": "b1feacca-3b06-4560-8113-0e466dc73d56",
   "metadata": {
    "tags": []
   },
   "outputs": [
    {
     "data": {
      "text/plain": [
       "array([[ 1657, 13862],\n",
       "       [   10,   496]], dtype=int64)"
      ]
     },
     "execution_count": 231,
     "metadata": {},
     "output_type": "execute_result"
    }
   ],
   "source": [
    "( confusion_matrix (tgold1,  tp1>.05) )"
   ]
  },
  {
   "cell_type": "code",
   "execution_count": 227,
   "id": "37b6e4ea-c761-435e-b415-77bde119956c",
   "metadata": {
    "tags": []
   },
   "outputs": [
    {
     "data": {
      "text/plain": [
       "array([[12250,  1605],\n",
       "       [  149,    50]], dtype=int64)"
      ]
     },
     "execution_count": 227,
     "metadata": {},
     "output_type": "execute_result"
    }
   ],
   "source": [
    "( confusion_matrix (tgold2,  tc2>.5) )"
   ]
  },
  {
   "cell_type": "code",
   "execution_count": 228,
   "id": "2b0d6789-478d-46f1-b724-1051f6241f4b",
   "metadata": {
    "tags": []
   },
   "outputs": [
    {
     "data": {
      "text/plain": [
       "array([[12405,    42],\n",
       "       [  130,     2]], dtype=int64)"
      ]
     },
     "execution_count": 228,
     "metadata": {},
     "output_type": "execute_result"
    }
   ],
   "source": [
    "( confusion_matrix (tgold3,  tc3>.5) )"
   ]
  },
  {
   "cell_type": "code",
   "execution_count": 229,
   "id": "c7d6e451-9132-45ca-b013-e0a89ae56738",
   "metadata": {
    "tags": []
   },
   "outputs": [
    {
     "data": {
      "text/plain": [
       "array([[10584,   128],\n",
       "       [   94,     4]], dtype=int64)"
      ]
     },
     "execution_count": 229,
     "metadata": {},
     "output_type": "execute_result"
    }
   ],
   "source": [
    "( confusion_matrix (tgold4,  tc4>.5) )"
   ]
  },
  {
   "cell_type": "code",
   "execution_count": null,
   "id": "ebdd1847-405d-4d17-a361-7b601542fc4e",
   "metadata": {},
   "outputs": [],
   "source": []
  },
  {
   "cell_type": "code",
   "execution_count": null,
   "id": "e0151346-0f1b-4eed-ab71-71b3d712dfee",
   "metadata": {},
   "outputs": [],
   "source": []
  },
  {
   "cell_type": "code",
   "execution_count": 27,
   "id": "28235e3d-d8e2-424b-b064-e0b9d45c7881",
   "metadata": {
    "tags": []
   },
   "outputs": [],
   "source": [
    "m1.to_csv('output/XCoh_Sen.csv') "
   ]
  },
  {
   "cell_type": "code",
   "execution_count": 34,
   "id": "112b112b-b97d-4328-9fb2-a9aa34b70486",
   "metadata": {},
   "outputs": [],
   "source": [
    "#m1.to_excel('output/dxMD_Sensitivity90.xlsx') "
   ]
  },
  {
   "cell_type": "code",
   "execution_count": 39,
   "id": "575f35d4-ab67-4311-8e98-a339f980982a",
   "metadata": {
    "tags": []
   },
   "outputs": [],
   "source": [
    "y1 = np.array(M1['golds'],dtype = int)\n",
    "x1 = M1['probs'].to_numpy()\n",
    "platt.fit(x1, y1)\n",
    "cal_1 = platt.predict(M_test1['probs'])"
   ]
  },
  {
   "cell_type": "code",
   "execution_count": null,
   "id": "2e1d9a19-4dbb-4201-bcb9-8ecaaea3619a",
   "metadata": {},
   "outputs": [],
   "source": []
  }
 ],
 "metadata": {
  "kernelspec": {
   "display_name": "Python 3 (ipykernel)",
   "language": "python",
   "name": "python3"
  },
  "language_info": {
   "codemirror_mode": {
    "name": "ipython",
    "version": 3
   },
   "file_extension": ".py",
   "mimetype": "text/x-python",
   "name": "python",
   "nbconvert_exporter": "python",
   "pygments_lexer": "ipython3",
   "version": "3.11.7"
  }
 },
 "nbformat": 4,
 "nbformat_minor": 5
}
