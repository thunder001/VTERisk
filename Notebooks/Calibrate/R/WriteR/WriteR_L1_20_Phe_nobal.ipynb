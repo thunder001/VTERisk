{
 "cells": [
  {
   "cell_type": "code",
   "execution_count": 2,
   "id": "9581a628-c1f1-4e81-8ddc-e408c713a043",
   "metadata": {
    "tags": []
   },
   "outputs": [],
   "source": [
    "import json\n",
    "from collections import Counter\n",
    "import pickle\n",
    "import numpy as np\n",
    "import pandas as pd\n",
    "import os\n",
    "import sys\n",
    "import argparse\n",
    "from os.path import dirname, realpath\n",
    "\n",
    "import math\n",
    "import hashlib\n",
    "import datetime\n",
    "import datetime as datetime\n",
    "sys.path.append(\"./src/\")\n",
    "\n",
    "import torch\n",
    "from torch import nn, optim\n",
    "from torch.nn import functional as F\n",
    "\n",
    "from sklearn.calibration import calibration_curve\n",
    "from sklearn.linear_model import LogisticRegression\n",
    "from sklearn.base import BaseEstimator\n",
    "sys.path.append(dirname(dirname(realpath(os.getcwd()))))\n",
    "\n",
    "from scipy.optimize import minimize_scalar\n",
    "from scipy.optimize import minimize\n",
    "from sklearn.metrics import log_loss\n",
    "import matplotlib.pyplot as plt\n"
   ]
  },
  {
   "cell_type": "code",
   "execution_count": 3,
   "id": "83bad053-b30d-4cbf-872d-9ebcba09c6b5",
   "metadata": {
    "tags": []
   },
   "outputs": [],
   "source": [
    "src_path = \"G:\\\\FillmoreCancerData\\\\markhe\\\\VTERisk\" \n",
    "src_path2 = \"G:\\\\FillmoreCancerData\\\\markhe\\\\VTERisk - Copy\" \n",
    "\n",
    "def md5(key):\n",
    "    return hashlib.md5(repr(key).encode()).hexdigest()\n",
    "testDF = pd.read_csv(os.path.join(src_path2, 'Notebooks/Find/fixed_dx.csv'))\n",
    "pat_ids = (testDF['patient_id'] ).astype(int)\n",
    "testDF['pids'] = pat_ids.apply(md5)"
   ]
  },
  {
   "cell_type": "code",
   "execution_count": 5,
   "id": "6ac1de47-e774-457c-8f15-db1310dbe84d",
   "metadata": {
    "tags": []
   },
   "outputs": [],
   "source": [
    "tdf = pd.DataFrame({'patient_id': (testDF['patient_id'] ),      'pids': (testDF['pids'] ),    \n",
    "                  'dob': (testDF['dob'] ),   'outcome_date': (testDF['outcome_date'] ), \n",
    "                  'obs_time_end': (testDF['obs_time_end'] ),   'index_date': (testDF['index_date'] ),  \n",
    "                  'diag_date': (testDF['diag_date'] ),  \n",
    "                  'outcome': (testDF['outcome'])    })"
   ]
  },
  {
   "cell_type": "code",
   "execution_count": 6,
   "id": "c7bf2e2b",
   "metadata": {},
   "outputs": [],
   "source": [
    "devpath = os.path.join(src_path ,'logs_transformer_vte/L/1_20/', \"bab974b38c6588e0f60f2931dd5a8e85.results.dev_preds\")\n",
    "\n",
    "with open(devpath, 'rb') as f:\n",
    "    Rdev = pickle.load(f)\n",
    "\n",
    "Devf = pd.DataFrame.from_dict(Rdev)\n",
    "Devf['probs'] = Devf['probs'].astype(float)\n",
    "Devf['exams'] = Devf['exams'].astype(int)\n",
    "Mdev = pd.merge(tdf, Devf)\n",
    "Mdev.to_csv('../CSV_for_R/phe/Phe_dev_1_20.csv') "
   ]
  },
  {
   "cell_type": "code",
   "execution_count": 9,
   "id": "4ca02923-d744-4c74-90dd-accd5b44d64c",
   "metadata": {
    "tags": []
   },
   "outputs": [],
   "source": [
    "testpath = os.path.join(src_path ,'logs_transformer_vte/L/1_20/', \"bab974b38c6588e0f60f2931dd5a8e85.results.test_preds\")\n",
    "with open(testpath, 'rb') as f:\n",
    "    R_t = pickle.load(f)\n",
    "\n",
    "Df_test = pd.DataFrame.from_dict(R_t)\n",
    "Df_test['probs'] = Df_test['probs'].astype(float)\n",
    "Mtest = pd.merge(tdf, Df_test)\n",
    "Mtest.to_csv('../CSV_for_R/phe/Phe_test_1_20.csv') \n",
    "\n"
   ]
  },
  {
   "cell_type": "code",
   "execution_count": null,
   "id": "2e1d9a19-4dbb-4201-bcb9-8ecaaea3619a",
   "metadata": {},
   "outputs": [],
   "source": []
  }
 ],
 "metadata": {
  "kernelspec": {
   "display_name": "Python 3 (ipykernel)",
   "language": "python",
   "name": "python3"
  },
  "language_info": {
   "codemirror_mode": {
    "name": "ipython",
    "version": 3
   },
   "file_extension": ".py",
   "mimetype": "text/x-python",
   "name": "python",
   "nbconvert_exporter": "python",
   "pygments_lexer": "ipython3",
   "version": "3.11.7"
  }
 },
 "nbformat": 4,
 "nbformat_minor": 5
}
