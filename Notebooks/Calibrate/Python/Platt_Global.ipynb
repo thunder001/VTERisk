{
 "cells": [
  {
   "cell_type": "code",
   "execution_count": 1,
   "id": "9581a628-c1f1-4e81-8ddc-e408c713a043",
   "metadata": {
    "tags": []
   },
   "outputs": [],
   "source": [
    "import json\n",
    "from collections import Counter\n",
    "import pickle\n",
    "import numpy as np\n",
    "import pandas as pd\n",
    "import os\n",
    "import sys\n",
    "import argparse\n",
    "from os.path import dirname, realpath\n",
    "\n",
    "\n",
    "import math\n",
    "import hashlib\n",
    "import datetime\n",
    "import datetime as datetime\n",
    "sys.path.append(\"./src/\")\n",
    "\n",
    "import torch\n",
    "from torch import nn, optim\n",
    "from torch.nn import functional as F\n",
    "\n",
    "from sklearn.calibration import calibration_curve\n",
    "from sklearn.linear_model import LogisticRegression\n",
    "from sklearn.base import BaseEstimator\n",
    "#import plotter\n",
    "#from plotter import plotter\n",
    "\n",
    "sys.path.append(dirname(dirname(realpath(os.getcwd()))))\n"
   ]
  },
  {
   "cell_type": "code",
   "execution_count": null,
   "id": "4fa9992b-6845-40b5-a466-a062c44761d5",
   "metadata": {},
   "outputs": [],
   "source": []
  },
  {
   "cell_type": "code",
   "execution_count": 2,
   "id": "83bad053-b30d-4cbf-872d-9ebcba09c6b5",
   "metadata": {
    "tags": []
   },
   "outputs": [],
   "source": [
    "src_path = \"G:\\\\FillmoreCancerData\\\\markhe\\\\VTERisk\" \n",
    "src_path2 = \"G:\\\\FillmoreCancerData\\\\markhe\\\\VTERisk - Copy\" \n",
    "\n",
    "def md5(key):\n",
    "    return hashlib.md5(repr(key).encode()).hexdigest()\n",
    "testDF = pd.read_csv(os.path.join(src_path2, 'Notebooks/Find/fixed_dx.csv'))\n",
    "pat_ids = (testDF['patient_id'] ).astype(int)\n",
    "testDF['pids'] = pat_ids.apply(md5)"
   ]
  },
  {
   "cell_type": "code",
   "execution_count": 3,
   "id": "445755df-4970-4e95-aaf5-50abc4a89ecf",
   "metadata": {
    "tags": []
   },
   "outputs": [],
   "source": [
    "def compute_calibration_curve(golds_for_eval,Probs_for_eval):\n",
    "    prob_true, prob_pred = calibration_curve(golds_for_eval, Probs_for_eval, n_bins=40)\n",
    "    return prob_true, prob_pred\n"
   ]
  },
  {
   "cell_type": "code",
   "execution_count": 4,
   "id": "07aaeeda-ea0d-4b6d-8fd1-5b34bddd18d8",
   "metadata": {
    "tags": []
   },
   "outputs": [],
   "source": [
    "def get_4Ms(M):\n",
    "    M1 = M.drop_duplicates(['patient_id'])\n",
    "    m0 = M.duplicated(['patient_id'])\n",
    "    M234 = M[m0]\n",
    "    M2 = M234.drop_duplicates(['patient_id'])\n",
    "\n",
    "    m00 = M234.duplicated(['patient_id'])\n",
    "    M34 = M234[m00]\n",
    "    M3 = M34.drop_duplicates(['patient_id'])\n",
    "\n",
    "    m000 = M34.duplicated(['patient_id'])\n",
    "    M4 = M34[m000]\n",
    "    return M1, M2, M3, M4"
   ]
  },
  {
   "cell_type": "code",
   "execution_count": 5,
   "id": "6ac1de47-e774-457c-8f15-db1310dbe84d",
   "metadata": {
    "tags": []
   },
   "outputs": [],
   "source": [
    "tdf = pd.DataFrame({'patient_id': (testDF['patient_id'] ),    \n",
    "                    'pids': (testDF['pids'] ),    \n",
    "                  'dob': (testDF['dob'] ),  \n",
    "                  'outcome_date': (testDF['outcome_date'] ), \n",
    "                  'obs_time_end': (testDF['obs_time_end'] ),  \n",
    "                  'index_date': (testDF['index_date'] ),  \n",
    "                  'diag_date': (testDF['diag_date'] ),  \n",
    "                  'outcome': (testDF['outcome'])    })\n"
   ]
  },
  {
   "cell_type": "code",
   "execution_count": 24,
   "id": "f6b16c8c-02e0-4645-8eda-35fecd344738",
   "metadata": {
    "tags": []
   },
   "outputs": [],
   "source": [
    "#devpath = os.path.join(src_path ,'logs_transformer_vte/K/12_4/', \"a8e44cbb2213334954e85de32bdcaf2c.results.dev_preds\")\n",
    "devpath = os.path.join(src_path ,'logs_transformer_vte/L/12_12/', \"68e9a10a80da6c966c226a57b3ccf0fb.results.dev_preds\")\n",
    "\n",
    "with open(devpath, 'rb') as f:\n",
    "    R = pickle.load(f)\n",
    "    p = np.array(R['probs'])\n",
    "\n",
    "Df = pd.DataFrame.from_dict(R)\n",
    "Df['probs'] = Df['probs'].astype(float)\n",
    "Df['exams'] = Df['exams'].astype(int)\n",
    "M = pd.merge(tdf, Df)\n",
    "M1, M2, M3, M4 = get_4Ms(M)"
   ]
  },
  {
   "cell_type": "code",
   "execution_count": 25,
   "id": "50687a6d-c89e-46f6-9e60-13c274601ad5",
   "metadata": {
    "tags": []
   },
   "outputs": [],
   "source": [
    "#testpath = os.path.join(src_path ,'logs_transformer_vte/K/12_4/', \"a8e44cbb2213334954e85de32bdcaf2c.results.test_preds\")\n",
    "testpath = os.path.join(src_path ,'logs_transformer_vte/L/12_12/', \"68e9a10a80da6c966c226a57b3ccf0fb.results.test_preds\")\n",
    "\n",
    "with open(testpath, 'rb') as f:\n",
    "    R_t = pickle.load(f)\n",
    "\n",
    "Df_test = pd.DataFrame.from_dict(R_t)\n",
    "Df_test['probs'] = Df_test['probs'].astype(float)\n",
    "M_test = pd.merge(tdf, Df_test)\n",
    "M_test1, M_test2, M_test3, M_test4 = get_4Ms(M_test)"
   ]
  },
  {
   "cell_type": "code",
   "execution_count": 26,
   "id": "f3dea25b-f58a-4120-b9f2-5ecc1c79604b",
   "metadata": {
    "tags": []
   },
   "outputs": [],
   "source": [
    "def logit (p): return np.log(  p / (1 - p) )\n",
    "def expit (p): return  1/(1 + np.exp(-p))\n"
   ]
  },
  {
   "cell_type": "code",
   "execution_count": 27,
   "id": "9c3c89dc-c302-4254-a01c-3e96d500097b",
   "metadata": {
    "tags": []
   },
   "outputs": [],
   "source": [
    "def platt (y_prob, y_true, p_test):\n",
    "    logistic = LogisticRegression(C=1e4, solver='lbfgs')\n",
    "    logistic.fit(y_prob.reshape(-1,1), y_true)\n",
    "    coef_ = logistic.coef_[0]\n",
    "    intercept_ = logistic.intercept_\n",
    "    fit = p_test * coef_[0] + intercept_\n",
    "    out = 1 / (1 + np.exp(-fit))\n",
    "    return  out"
   ]
  },
  {
   "cell_type": "code",
   "execution_count": 28,
   "id": "8f2d7e8d-c065-4f68-bac7-4e9252b8fd96",
   "metadata": {
    "tags": []
   },
   "outputs": [],
   "source": [
    "mp0 = np.array(M['probs'])\n",
    "mp1 = np.array(M1['probs'])\n",
    "mp2 = np.array(M2['probs'])\n",
    "mp3 = np.array(M3['probs'])\n",
    "mp4 = np.array(M4['probs'])"
   ]
  },
  {
   "cell_type": "code",
   "execution_count": 29,
   "id": "ba865efe-57f0-4387-9178-f7fae2c34785",
   "metadata": {
    "tags": []
   },
   "outputs": [],
   "source": [
    "tp0 = np.array(M_test['probs'])\n",
    "tp1 = np.array(M_test1['probs'])\n",
    "tp2 = np.array(M_test2['probs'])\n",
    "tp3 = np.array(M_test3['probs'])\n",
    "tp4 = np.array(M_test4['probs'])"
   ]
  },
  {
   "cell_type": "code",
   "execution_count": 30,
   "id": "bf24b0ee-0fc5-4d66-9c25-329f82a374cf",
   "metadata": {
    "tags": []
   },
   "outputs": [],
   "source": [
    "gold0 =   np.array(M['golds'],dtype = int)\n",
    "gold1 =   np.array(M1['golds'],dtype = int)\n",
    "gold2 =   np.array(M2['golds'],dtype = int)\n",
    "gold3 =   np.array(M3['golds'],dtype = int)\n",
    "gold4 =   np.array(M4['golds'],dtype = int)"
   ]
  },
  {
   "cell_type": "code",
   "execution_count": 31,
   "id": "1a825c2e-803a-41ac-a08f-3463c958a961",
   "metadata": {
    "tags": []
   },
   "outputs": [],
   "source": [
    "tgold1 =   np.array(M_test1['golds'],dtype = int)\n",
    "tgold2 =   np.array(M_test2['golds'],dtype = int)\n",
    "tgold3 =   np.array(M_test3['golds'],dtype = int)\n",
    "tgold4 =   np.array(M_test4['golds'],dtype = int)\n",
    "tgold =   np.array(M_test['golds'],dtype = int)"
   ]
  },
  {
   "cell_type": "code",
   "execution_count": 32,
   "id": "5676174e-8129-40c7-ac77-9e5910ab330c",
   "metadata": {
    "tags": []
   },
   "outputs": [],
   "source": [
    "cal0 =platt (np.array(M['probs']), np.array(M ['golds'],dtype = int),  M_test ['probs']  )"
   ]
  },
  {
   "cell_type": "code",
   "execution_count": 33,
   "id": "18a73689-d328-4efb-a004-03b9145d702c",
   "metadata": {
    "tags": []
   },
   "outputs": [],
   "source": [
    "y0, p0 = compute_calibration_curve(M_test['golds'], cal0 )\n",
    "y00, p00 = compute_calibration_curve(M_test['golds'], tp0 )\n"
   ]
  },
  {
   "cell_type": "code",
   "execution_count": 34,
   "id": "24655488-4ff6-4f97-9fb9-e7c65ef7db49",
   "metadata": {
    "tags": []
   },
   "outputs": [],
   "source": [
    "import matplotlib.pyplot as plt\n",
    "\n",
    "def plotter (p_i, y_i):\n",
    "    plt.figure(figsize=(5, 5))\n",
    "    ax1 = plt.subplot2grid((3, 1), (0, 0), rowspan=2)\n",
    "    ax2 = plt.subplot2grid((3, 1), (2, 0))\n",
    "    ax1.plot(p_i, y_i, 's-')\n",
    "    ax1.plot([0, 1], [0, 1], linestyle='--', \n",
    "             color='grey', label='random guess (AUROC: 0.500)')\n",
    "    ax2.hist(p_i, bins=10, range=(0, 1))\n",
    "    ax1.set_xlim([-0.01, 1.01])\n",
    "    ax1.set_ylim([-0.01, 1.01])\n",
    "    ax1.set_xlabel('Predicted value')\n",
    "    ax1.set_ylabel('Fraction of positive')\n",
    "    ax1.set_title(\"Calibration plot\")\n",
    "    ax2.set_xlabel('Prediction probability')\n",
    "    ax2.set_ylabel('Count')\n",
    "    plt.tight_layout()\n",
    "    "
   ]
  },
  {
   "cell_type": "code",
   "execution_count": 36,
   "id": "79480634-17ac-44ae-84f8-d8097e70fcca",
   "metadata": {
    "tags": []
   },
   "outputs": [
    {
     "data": {
      "image/png": "[encoded data removed]",
      "text/plain": [
       "<Figure size 500x500 with 2 Axes>"
      ]
     },
     "metadata": {},
     "output_type": "display_data"
    }
   ],
   "source": [
    "plotter(p00, y00)"
   ]
  },
  {
   "cell_type": "code",
   "execution_count": 37,
   "id": "d2e8667f-3ff8-4155-bda3-2309c29444b5",
   "metadata": {
    "tags": []
   },
   "outputs": [
    {
     "data": {
      "image/png": "[encoded data removed]",
      "text/plain": [
       "<Figure size 500x500 with 2 Axes>"
      ]
     },
     "metadata": {},
     "output_type": "display_data"
    }
   ],
   "source": [
    "plotter(p0, y0)"
   ]
  },
  {
   "cell_type": "code",
   "execution_count": 19,
   "id": "981bbaf3-1a93-4618-ae9f-ffd7bc3793d9",
   "metadata": {
    "tags": []
   },
   "outputs": [],
   "source": [
    "# how many people had event within 6 months of index date"
   ]
  },
  {
   "cell_type": "code",
   "execution_count": 20,
   "id": "91431d72-2d96-4fb1-8d21-84012093741c",
   "metadata": {
    "tags": []
   },
   "outputs": [],
   "source": [
    "M_test['cal'] = cal0"
   ]
  },
  {
   "cell_type": "code",
   "execution_count": 21,
   "id": "6e6f6ce0-7fbd-4619-9ac3-7781ccca3606",
   "metadata": {
    "tags": []
   },
   "outputs": [],
   "source": [
    "M_test1, M_test2, M_test3, M_test4 = get_4Ms(M_test)"
   ]
  },
  {
   "cell_type": "code",
   "execution_count": null,
   "id": "4cca955f-bfa3-4951-87be-6296a520e789",
   "metadata": {},
   "outputs": [],
   "source": []
  },
  {
   "cell_type": "code",
   "execution_count": 22,
   "id": "70e1c39d-8887-4469-832a-6d3276eeb24b",
   "metadata": {
    "tags": []
   },
   "outputs": [],
   "source": [
    "from sklearn.metrics import confusion_matrix\n",
    "from sklearn.metrics import roc_auc_score"
   ]
  },
  {
   "cell_type": "code",
   "execution_count": 23,
   "id": "baac2338-44a4-4842-af63-b58d2228a50d",
   "metadata": {
    "tags": []
   },
   "outputs": [
    {
     "data": {
      "text/plain": [
       "array([0, 0, 0, ..., 0, 0, 0])"
      ]
     },
     "execution_count": 23,
     "metadata": {},
     "output_type": "execute_result"
    }
   ],
   "source": [
    "tgold\n"
   ]
  },
  {
   "cell_type": "code",
   "execution_count": 30,
   "id": "9b3a0b6e-b11c-46e0-95cc-4ba35fe461e7",
   "metadata": {
    "tags": []
   },
   "outputs": [],
   "source": [
    "roc_auc_score(tgold, tp0, average = 'samples')\n",
    "roc_auc_score(tgold1, tp1, average = 'samples')\n",
    "roc_auc_score(tgold2, tp2, average = 'samples')\n",
    "roc_auc_score(tgold3, tp3, average = 'samples')\n",
    "\n",
    "\n",
    "roc_auc_score(tgold4, tp4, average = 'samples')\n"
   ]
  },
  {
   "cell_type": "code",
   "execution_count": 58,
   "id": "683d4d09-13b5-47be-8b88-aa79f7299a94",
   "metadata": {
    "tags": []
   },
   "outputs": [
    {
     "data": {
      "text/plain": [
       "array([[14304,  1307],\n",
       "       [  433,    82]], dtype=int64)"
      ]
     },
     "execution_count": 58,
     "metadata": {},
     "output_type": "execute_result"
    }
   ],
   "source": [
    "confusion_matrix (tgold1, M_test1['cal']>np.mean(tgold1)*2) "
   ]
  },
  {
   "cell_type": "code",
   "execution_count": 43,
   "id": "47358694-59e7-411f-9fe3-ad27dd1cbf56",
   "metadata": {
    "tags": []
   },
   "outputs": [
    {
     "data": {
      "text/plain": [
       "array([[7492, 6520],\n",
       "       [  80,  130]], dtype=int64)"
      ]
     },
     "execution_count": 43,
     "metadata": {},
     "output_type": "execute_result"
    }
   ],
   "source": [
    "( confusion_matrix (tgold2, M_test2['cal']>np.mean(tgold2)) )"
   ]
  },
  {
   "cell_type": "code",
   "execution_count": 57,
   "id": "cf5e7773-ab03-477f-9b39-d4eec0a5aac4",
   "metadata": {
    "tags": []
   },
   "outputs": [
    {
     "data": {
      "text/plain": [
       "array([[12374,   376],\n",
       "       [  130,     7]], dtype=int64)"
      ]
     },
     "execution_count": 57,
     "metadata": {},
     "output_type": "execute_result"
    }
   ],
   "source": [
    "( confusion_matrix (tgold3, M_test3['cal']>np.mean(tgold3)*2) )"
   ]
  },
  {
   "cell_type": "code",
   "execution_count": 56,
   "id": "0f8747b8-8f9c-47f1-a757-098a0c808a06",
   "metadata": {
    "tags": []
   },
   "outputs": [
    {
     "data": {
      "text/plain": [
       "array([[10898,   728],\n",
       "       [   86,    16]], dtype=int64)"
      ]
     },
     "execution_count": 56,
     "metadata": {},
     "output_type": "execute_result"
    }
   ],
   "source": [
    "( confusion_matrix (tgold4, M_test4['cal']>np.mean(tgold4)*2) )"
   ]
  },
  {
   "cell_type": "code",
   "execution_count": null,
   "id": "3a0c07eb-dbcc-4996-8872-8feee488c62f",
   "metadata": {},
   "outputs": [],
   "source": []
  },
  {
   "cell_type": "code",
   "execution_count": 46,
   "id": "61b79cd4-1f5b-47a1-b232-9813e2830785",
   "metadata": {
    "tags": []
   },
   "outputs": [
    {
     "data": {
      "text/plain": [
       "array([[   11, 15600],\n",
       "       [    0,   515]], dtype=int64)"
      ]
     },
     "execution_count": 46,
     "metadata": {},
     "output_type": "execute_result"
    }
   ],
   "source": [
    "( confusion_matrix (tgold1, tp1>.032) )"
   ]
  },
  {
   "cell_type": "code",
   "execution_count": 43,
   "id": "7ec90054-b784-4a94-9e02-eb7ddd614d17",
   "metadata": {
    "tags": []
   },
   "outputs": [
    {
     "data": {
      "text/plain": [
       "array([[7492, 6520],\n",
       "       [  80,  130]], dtype=int64)"
      ]
     },
     "execution_count": 43,
     "metadata": {},
     "output_type": "execute_result"
    }
   ],
   "source": [
    "( confusion_matrix (tgold2, M_test2['cal']>np.mean(tgold2)) )"
   ]
  },
  {
   "cell_type": "code",
   "execution_count": 44,
   "id": "83448c58-1de8-46b6-b6f6-2e16d137e06f",
   "metadata": {
    "tags": []
   },
   "outputs": [
    {
     "data": {
      "text/plain": [
       "array([[5752, 6998],\n",
       "       [  28,  109]], dtype=int64)"
      ]
     },
     "execution_count": 44,
     "metadata": {},
     "output_type": "execute_result"
    }
   ],
   "source": [
    "( confusion_matrix (tgold3, M_test3['cal']>np.mean(tgold3)) )"
   ]
  },
  {
   "cell_type": "code",
   "execution_count": 45,
   "id": "f9aae534-a4cc-42d8-8114-2aeba3fc32f0",
   "metadata": {
    "tags": []
   },
   "outputs": [
    {
     "data": {
      "text/plain": [
       "array([[  511, 11115],\n",
       "       [    1,   101]], dtype=int64)"
      ]
     },
     "execution_count": 45,
     "metadata": {},
     "output_type": "execute_result"
    }
   ],
   "source": [
    "( confusion_matrix (tgold4, M_test4['cal']>np.mean(tgold4)) )"
   ]
  },
  {
   "cell_type": "code",
   "execution_count": null,
   "id": "58dbb33c-0472-453d-a6e5-88c12a8fdcac",
   "metadata": {},
   "outputs": [],
   "source": []
  },
  {
   "cell_type": "code",
   "execution_count": null,
   "id": "db12adaf-b6b9-40e7-9475-77040527e170",
   "metadata": {},
   "outputs": [],
   "source": []
  },
  {
   "cell_type": "code",
   "execution_count": null,
   "id": "28235e3d-d8e2-424b-b064-e0b9d45c7881",
   "metadata": {
    "tags": []
   },
   "outputs": [],
   "source": [
    "m1.to_csv('output/XCoh_Sen.csv') "
   ]
  },
  {
   "cell_type": "code",
   "execution_count": 34,
   "id": "112b112b-b97d-4328-9fb2-a9aa34b70486",
   "metadata": {},
   "outputs": [],
   "source": [
    "#m1.to_excel('output/dxMD_Sensitivity90.xlsx') "
   ]
  },
  {
   "cell_type": "code",
   "execution_count": null,
   "id": "2e1d9a19-4dbb-4201-bcb9-8ecaaea3619a",
   "metadata": {},
   "outputs": [],
   "source": []
  }
 ],
 "metadata": {
  "kernelspec": {
   "display_name": "Python 3 (ipykernel)",
   "language": "python",
   "name": "python3"
  },
  "language_info": {
   "codemirror_mode": {
    "name": "ipython",
    "version": 3
   },
   "file_extension": ".py",
   "mimetype": "text/x-python",
   "name": "python",
   "nbconvert_exporter": "python",
   "pygments_lexer": "ipython3",
   "version": "3.11.5"
  }
 },
 "nbformat": 4,
 "nbformat_minor": 5
}
