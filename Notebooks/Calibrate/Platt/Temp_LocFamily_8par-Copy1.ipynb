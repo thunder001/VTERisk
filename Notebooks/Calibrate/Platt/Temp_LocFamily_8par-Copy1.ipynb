{
 "cells": [
  {
   "cell_type": "code",
   "execution_count": 1,
   "id": "9581a628-c1f1-4e81-8ddc-e408c713a043",
   "metadata": {
    "tags": []
   },
   "outputs": [],
   "source": [
    "import json\n",
    "from collections import Counter\n",
    "import pickle\n",
    "import numpy as np\n",
    "import pandas as pd\n",
    "import os\n",
    "import sys\n",
    "import argparse\n",
    "from os.path import dirname, realpath\n",
    "\n",
    "import math\n",
    "import hashlib\n",
    "import datetime\n",
    "import datetime as datetime\n",
    "sys.path.append(\"./src/\")\n",
    "\n",
    "import torch\n",
    "from torch import nn, optim\n",
    "from torch.nn import functional as F\n",
    "\n",
    "from sklearn.calibration import calibration_curve\n",
    "from sklearn.linear_model import LogisticRegression\n",
    "\n",
    "from sklearn.base import BaseEstimator\n",
    "sys.path.append(dirname(dirname(realpath(os.getcwd()))))\n",
    "\n",
    "from scipy.optimize import minimize_scalar\n",
    "from scipy.optimize import minimize\n",
    "\n",
    "from sklearn.metrics import log_loss\n",
    "import matplotlib.pyplot as plt\n"
   ]
  },
  {
   "cell_type": "code",
   "execution_count": 19,
   "id": "2a980c2f-d834-4b51-aa09-e338de6ac6a4",
   "metadata": {
    "tags": []
   },
   "outputs": [],
   "source": [
    "import matplotlib.pyplot as plt\n",
    "\n",
    "def plotter (p_i, y_i):\n",
    "    plt.figure(figsize=(5, 5))\n",
    "    ax1 = plt.subplot2grid((3, 1), (0, 0), rowspan=2)\n",
    "    ax2 = plt.subplot2grid((3, 1), (2, 0))\n",
    "    ax1.plot(p_i, y_i, 's-')\n",
    "    ax1.plot([0, 1], [0, 1], linestyle='--', \n",
    "             color='grey', label='random guess (AUROC: 0.500)')\n",
    "    ax2.hist(p_i, bins=10, range=(0, 1))\n",
    "    ax1.set_xlim([-0.01, 1.01])\n",
    "    ax1.set_ylim([-0.01, 1.01])\n",
    "    ax1.set_xlabel('Predicted value')\n",
    "    ax1.set_ylabel('Fraction of positive')\n",
    "    ax1.set_title(\"Calibration plot\")\n",
    "    ax2.set_xlabel('Prediction probability')\n",
    "    ax2.set_ylabel('Count')\n",
    "    plt.tight_layout()\n",
    "    "
   ]
  },
  {
   "cell_type": "code",
   "execution_count": 2,
   "id": "837ba8aa-97c4-4b66-9cd7-232958f0369d",
   "metadata": {
    "tags": []
   },
   "outputs": [],
   "source": [
    "def temperature_scaling(logits, y):\n",
    "    def temperature_obj(t):\n",
    "        temp_logits = logits / (t )\n",
    "        return log_loss(y, temp_logits)\n",
    "    \n",
    "    res = minimize_scalar(temperature_obj)\n",
    "    return logits / (res.x )"
   ]
  },
  {
   "cell_type": "code",
   "execution_count": 3,
   "id": "83bad053-b30d-4cbf-872d-9ebcba09c6b5",
   "metadata": {
    "tags": []
   },
   "outputs": [],
   "source": [
    "src_path = \"G:\\\\FillmoreCancerData\\\\markhe\\\\VTERisk\" \n",
    "src_path2 = \"G:\\\\FillmoreCancerData\\\\markhe\\\\VTERisk - Copy\" \n",
    "\n",
    "def md5(key):\n",
    "    return hashlib.md5(repr(key).encode()).hexdigest()\n",
    "testDF = pd.read_csv(os.path.join(src_path2, 'Notebooks/Find/fixed_dx.csv'))\n",
    "pat_ids = (testDF['patient_id'] ).astype(int)\n",
    "testDF['pids'] = pat_ids.apply(md5)"
   ]
  },
  {
   "cell_type": "code",
   "execution_count": 4,
   "id": "445755df-4970-4e95-aaf5-50abc4a89ecf",
   "metadata": {
    "tags": []
   },
   "outputs": [],
   "source": [
    "def compute_calibration_curve(golds_for_eval,Probs_for_eval):\n",
    "    prob_true, prob_pred = calibration_curve(golds_for_eval, Probs_for_eval, n_bins=20)\n",
    "    return prob_true, prob_pred\n"
   ]
  },
  {
   "cell_type": "code",
   "execution_count": 5,
   "id": "07aaeeda-ea0d-4b6d-8fd1-5b34bddd18d8",
   "metadata": {
    "tags": []
   },
   "outputs": [],
   "source": [
    "def get_4Ms(M):\n",
    "    M1 = M.drop_duplicates(['patient_id'])\n",
    "    m0 = M.duplicated(['patient_id'])\n",
    "    M234 = M[m0]\n",
    "    M2 = M234.drop_duplicates(['patient_id'])\n",
    "\n",
    "    m00 = M234.duplicated(['patient_id'])\n",
    "    M34 = M234[m00]\n",
    "    M3 = M34.drop_duplicates(['patient_id'])\n",
    "\n",
    "    m000 = M34.duplicated(['patient_id'])\n",
    "    M4 = M34[m000]\n",
    "    return M1, M2, M3, M4"
   ]
  },
  {
   "cell_type": "code",
   "execution_count": 6,
   "id": "6ac1de47-e774-457c-8f15-db1310dbe84d",
   "metadata": {
    "tags": []
   },
   "outputs": [],
   "source": [
    "tdf = pd.DataFrame({'patient_id': (testDF['patient_id'] ),    \n",
    "                    'pids': (testDF['pids'] ),    \n",
    "                  'dob': (testDF['dob'] ),  \n",
    "                  'outcome_date': (testDF['outcome_date'] ), \n",
    "                  'obs_time_end': (testDF['obs_time_end'] ),  \n",
    "                  'index_date': (testDF['index_date'] ),  \n",
    "                  'diag_date': (testDF['diag_date'] ),  \n",
    "                  'outcome': (testDF['outcome'])    })"
   ]
  },
  {
   "cell_type": "code",
   "execution_count": 7,
   "id": "6164b3ee-b02a-4235-932c-0612abb0d3fd",
   "metadata": {
    "tags": []
   },
   "outputs": [],
   "source": [
    "def logit (p): return np.log(  p / (1 - p) )\n",
    "def expit (p): return   np.exp(p)/(1 + np.exp(p))"
   ]
  },
  {
   "cell_type": "code",
   "execution_count": 11,
   "id": "32e3e76d-5098-4736-87c0-a0b83f5e2aff",
   "metadata": {
    "tags": []
   },
   "outputs": [],
   "source": [
    "devpath = os.path.join(src_path ,'logs_transformer_vte/L/12_12/', \"68e9a10a80da6c966c226a57b3ccf0fb.results.dev_preds\")\n",
    "\n",
    "with open(devpath, 'rb') as f:\n",
    "    R = pickle.load(f)\n",
    "    p = np.array(R['probs'])\n",
    "\n",
    "Df = pd.DataFrame.from_dict(R)\n",
    "Df['probs'] = Df['probs'].astype(float)\n",
    "Df['exams'] = Df['exams'].astype(int)\n",
    "M = pd.merge(tdf, Df)\n",
    "M1, M2, M3, M4 = get_4Ms(M)"
   ]
  },
  {
   "cell_type": "code",
   "execution_count": 12,
   "id": "4ca02923-d744-4c74-90dd-accd5b44d64c",
   "metadata": {
    "tags": []
   },
   "outputs": [],
   "source": [
    "testpath = os.path.join(src_path ,'logs_transformer_vte/L/12_12/', \"68e9a10a80da6c966c226a57b3ccf0fb.results.test_preds\")\n",
    "with open(testpath, 'rb') as f:\n",
    "    R_t = pickle.load(f)\n",
    "\n",
    "Df_test = pd.DataFrame.from_dict(R_t)\n",
    "Df_test['probs'] = Df_test['probs'].astype(float)\n",
    "M_test = pd.merge(tdf, Df_test)\n",
    "M_test1, M_test2, M_test3, M_test4 = get_4Ms(M_test)"
   ]
  },
  {
   "cell_type": "code",
   "execution_count": 13,
   "id": "b4077680-ee10-44f2-a361-a52bbe8d4e12",
   "metadata": {
    "tags": []
   },
   "outputs": [],
   "source": [
    "mp0 = np.array(M['probs'])\n",
    "mp1 = np.array(M1['probs'])\n",
    "mp2 = np.array(M2['probs'])\n",
    "mp3 = np.array(M3['probs'])\n",
    "mp4 = np.array(M4['probs'])\n",
    "\n",
    "gold0 =   np.array(M['golds'],dtype = int)\n",
    "gold1 =   np.array(M1['golds'],dtype = int)\n",
    "gold2 =   np.array(M2['golds'],dtype = int)\n",
    "gold3 =   np.array(M3['golds'],dtype = int)\n",
    "gold4 =   np.array(M4['golds'],dtype = int)\n",
    "\n",
    "\n",
    "tp= np.array(M_test['probs'])\n",
    "tp1 = np.array(M_test1['probs'])\n",
    "tp2 = np.array(M_test2['probs'])\n",
    "tp3 = np.array(M_test3['probs'])\n",
    "tp4 = np.array(M_test4['probs'])\n",
    "\n",
    "tgold1 =   np.array(M_test1['golds'],dtype = int)\n",
    "tgold2 =   np.array(M_test2['golds'],dtype = int)\n",
    "tgold3 =   np.array(M_test3['golds'],dtype = int)\n",
    "tgold4 =   np.array(M_test4['golds'],dtype = int)\n",
    "tgold0 =   np.array(M_test['golds'],dtype = int)"
   ]
  },
  {
   "cell_type": "code",
   "execution_count": null,
   "id": "24655488-4ff6-4f97-9fb9-e7c65ef7db49",
   "metadata": {
    "tags": []
   },
   "outputs": [],
   "source": [
    "import matplotlib.pyplot as plt\n",
    "\n",
    "def plotter (p_i, y_i):\n",
    "    plt.figure(figsize=(5, 5))\n",
    "    ax1 = plt.subplot2grid((3, 1), (0, 0), rowspan=2)\n",
    "    ax2 = plt.subplot2grid((3, 1), (2, 0))\n",
    "    ax1.plot(p_i, y_i, 's-')\n",
    "    ax1.plot([0, 1], [0, 1], linestyle='--', \n",
    "             color='grey', label='random guess (AUROC: 0.500)')\n",
    "    ax2.hist(p_i, bins=10, range=(0, 1))\n",
    "    ax1.set_xlim([-0.01, 1.01])\n",
    "    ax1.set_ylim([-0.01, 1.01])\n",
    "    ax1.set_xlabel('Predicted value')\n",
    "    ax1.set_ylabel('Fraction of positive')\n",
    "    ax1.set_title(\"Calibration plot\")\n",
    "    ax2.set_xlabel('Prediction probability')\n",
    "    ax2.set_ylabel('Count')\n",
    "    plt.tight_layout()\n",
    "    "
   ]
  },
  {
   "cell_type": "code",
   "execution_count": null,
   "id": "b0c279ff-bfe3-4971-b57c-72ff91b01182",
   "metadata": {},
   "outputs": [],
   "source": [
    "def temperature_multi (p1, p2,p3,p4, \n",
    "                      y1, y2, y3, y4):\n",
    "    def temperature_obj(t):\n",
    "        logi_1 = (p1 )  / t[5] \n",
    "        logi_2 = (p2  )  / t[6] \n",
    "        logi_3 = (p3  )  / t[7] \n",
    "        logi_4 = (p4  )  / t[8] \n",
    "        \n",
    "        probs1  =  t[9]* expit (t[0]*   logi_1  )  \n",
    "        probs2  =  t[9]* expit (  t[0] *  logi_2  )  \n",
    "        probs3  =  t[9]* expit (t[0] *  logi_3  )  \n",
    "        probs4  =t[9]  *expit ( t[0] *  logi_4  ) \n",
    "        \n",
    "        total_loss = log_loss(y1, probs1)+log_loss(y2, probs2)+log_loss(y3,probs3) + log_loss(y4,probs4)\n",
    "        return   total_loss\n",
    "    r = minimize (temperature_obj, x0 = [.1, .1, .1,.1, .1,\n",
    "                                         .1, .1,.1, .1, .1 ] )\n",
    "    \n",
    "    #normed =  expit( r.x[0] * np.concatenate([p1/r.x[1], p2/r.x[2], p3/r.x[3], p4/r.x[4]]))  \n",
    "    return  r"
   ]
  },
  {
   "cell_type": "code",
   "execution_count": 9,
   "id": "71c2dba4-2aaf-42e8-a99c-6d9f115571e3",
   "metadata": {
    "tags": []
   },
   "outputs": [],
   "source": [
    "def temperature_multi_8(p1, p2,p3,p4, \n",
    "                      y1, y2, y3, y4):\n",
    "    def temperature_obj(t):\n",
    "        logi_1 = (p1 +  t[1])  / t[5] \n",
    "        logi_2 = (p2 +  t[2])  / t[6] \n",
    "        logi_3 = (p3 +  t[3])  / t[7] \n",
    "        logi_4 = (p4 +  t[4])  / t[8] \n",
    "        \n",
    "        probs1  =  t[9]* expit (t[0]*   logi_1  )  \n",
    "        probs2  =  t[9]* expit (  t[0] *  logi_2  )  \n",
    "        probs3  =  t[9]* expit (t[0] *  logi_3  )  \n",
    "        probs4  =t[9]  *expit ( t[0] *  logi_4  ) \n",
    "        \n",
    "        total_loss = log_loss(y1, probs1)+log_loss(y2, probs2)+log_loss(y3,probs3) + log_loss(y4,probs4)\n",
    "        return   total_loss\n",
    "    r = minimize (temperature_obj, x0 = [.1, .1, .1,.1, .1,\n",
    "                                         .1, .1,.1, .1, .1 ] )\n",
    "    \n",
    "    #normed =  expit( r.x[0] * np.concatenate([p1/r.x[1], p2/r.x[2], p3/r.x[3], p4/r.x[4]]))  \n",
    "    return  r"
   ]
  },
  {
   "cell_type": "code",
   "execution_count": 14,
   "id": "309ab8f7-870e-4902-9718-eb07e5572560",
   "metadata": {
    "tags": []
   },
   "outputs": [],
   "source": [
    "tt  = temperature_multi_8( logit(mp1), logit(mp2), logit(mp3), logit(mp4),\n",
    "                                         gold1, gold2, gold3, gold4)"
   ]
  },
  {
   "cell_type": "code",
   "execution_count": 245,
   "id": "f2462399-312f-48ed-bbd1-cc0f0f9afe35",
   "metadata": {
    "tags": []
   },
   "outputs": [
    {
     "data": {
      "text/plain": [
       "array([0.1297842 , 1.63535154, 1.57635189, 1.32761494, 1.52126241,\n",
       "       0.08405857, 0.08732938, 0.09570688, 0.06988549, 0.06969072])"
      ]
     },
     "execution_count": 245,
     "metadata": {},
     "output_type": "execute_result"
    }
   ],
   "source": [
    "tt.x"
   ]
  },
  {
   "cell_type": "code",
   "execution_count": 15,
   "id": "49f8a5bb-5852-44d8-9da9-e75281e51634",
   "metadata": {
    "tags": []
   },
   "outputs": [],
   "source": [
    "tc1 = ( expit( tt.x[0]*( logit(tp1) + tt.x[1] ) / tt.x[5] ) ) #*tt.x[9]\n",
    "tc2 = ( expit( tt.x[0]*( logit(tp2) + tt.x[2] ) / tt.x[6] ) ) #*tt.x[9]\n",
    "tc3 = ( expit( tt.x[0]*( logit(tp3) + tt.x[3] ) / tt.x[7] ) ) #*tt.x[9]\n",
    "tc4 = ( expit( tt.x[0]*( logit(tp4) + tt.x[4] ) / tt.x[8] ) ) #*tt.x[9]\n"
   ]
  },
  {
   "cell_type": "code",
   "execution_count": 20,
   "id": "b552ec35-2295-4cd5-925f-371053477708",
   "metadata": {
    "tags": []
   },
   "outputs": [
    {
     "data": {
      "text/plain": [
       "(array([1498., 1256., 1174., 1242., 1460., 1722., 2022., 2150., 2384.,\n",
       "        1224.]),\n",
       " array([0.00698307, 0.10267618, 0.1983693 , 0.29406241, 0.38975553,\n",
       "        0.48544864, 0.58114176, 0.67683487, 0.77252799, 0.8682211 ,\n",
       "        0.96391422]),\n",
       " <BarContainer object of 10 artists>)"
      ]
     },
     "execution_count": 20,
     "metadata": {},
     "output_type": "execute_result"
    },
    {
     "data": {
      "image/png": "[encoded data removed]",
      "text/plain": [
       "<Figure size 640x480 with 1 Axes>"
      ]
     },
     "metadata": {},
     "output_type": "display_data"
    }
   ],
   "source": [
    "plt.hist(tc1)"
   ]
  },
  {
   "cell_type": "code",
   "execution_count": 21,
   "id": "3fc980c0-18ef-4016-a4a3-9eb6bd49a393",
   "metadata": {
    "tags": []
   },
   "outputs": [],
   "source": [
    "y1, p1 = compute_calibration_curve(M_test1['golds'], tc1 )\n",
    "y2, p2 = compute_calibration_curve(M_test2['golds'], tc2 )\n",
    "y3, p3 = compute_calibration_curve(M_test3['golds'], tc3 )\n",
    "y4, p4 = compute_calibration_curve(M_test4['golds'], tc4 )\n"
   ]
  },
  {
   "cell_type": "code",
   "execution_count": 22,
   "id": "eb5c0827-00ff-4bd2-85fa-2b7de28d20ac",
   "metadata": {
    "tags": []
   },
   "outputs": [
    {
     "data": {
      "image/png": "[encoded data removed]",
      "text/plain": [
       "<Figure size 500x500 with 2 Axes>"
      ]
     },
     "metadata": {},
     "output_type": "display_data"
    }
   ],
   "source": [
    "plotter(p4, y4)"
   ]
  },
  {
   "cell_type": "code",
   "execution_count": 23,
   "id": "6592844e-4a8b-4a08-bd2f-173022e00195",
   "metadata": {
    "tags": []
   },
   "outputs": [
    {
     "data": {
      "image/png": "[encoded data removed]",
      "text/plain": [
       "<Figure size 500x500 with 2 Axes>"
      ]
     },
     "metadata": {},
     "output_type": "display_data"
    }
   ],
   "source": [
    "plotter(p1, y1)"
   ]
  },
  {
   "cell_type": "code",
   "execution_count": 24,
   "id": "7e906a3f-7345-48d0-ade7-155f57b6b04b",
   "metadata": {
    "tags": []
   },
   "outputs": [],
   "source": [
    "import sklearn\n",
    "from sklearn.metrics import confusion_matrix"
   ]
  },
  {
   "cell_type": "code",
   "execution_count": 27,
   "id": "3ed76f5c-ab80-4ed9-90d1-d80ede20287a",
   "metadata": {
    "tags": []
   },
   "outputs": [
    {
     "data": {
      "text/plain": [
       "0.6667921165559247"
      ]
     },
     "execution_count": 27,
     "metadata": {},
     "output_type": "execute_result"
    }
   ],
   "source": [
    "sklearn.metrics.roc_auc_score(tgold1,  tc1 , average = 'samples')\n"
   ]
  },
  {
   "cell_type": "code",
   "execution_count": 28,
   "id": "73d3c6ea-b1b8-435e-913f-122b12314247",
   "metadata": {
    "tags": []
   },
   "outputs": [
    {
     "data": {
      "text/plain": [
       "0.6764938403022082"
      ]
     },
     "execution_count": 28,
     "metadata": {},
     "output_type": "execute_result"
    }
   ],
   "source": [
    "sklearn.metrics.roc_auc_score(tgold2,  tc2 , average = 'samples')\n"
   ]
  },
  {
   "cell_type": "code",
   "execution_count": 29,
   "id": "45af5dae-562b-4953-ac2e-ebf94b4f5511",
   "metadata": {
    "tags": []
   },
   "outputs": [
    {
     "data": {
      "text/plain": [
       "0.7132108023602834"
      ]
     },
     "execution_count": 29,
     "metadata": {},
     "output_type": "execute_result"
    }
   ],
   "source": [
    "sklearn.metrics.roc_auc_score(tgold3,  tc3 , average = 'samples')\n"
   ]
  },
  {
   "cell_type": "code",
   "execution_count": 30,
   "id": "69762308-8181-4479-b3b3-c0e6cb641ca7",
   "metadata": {
    "tags": []
   },
   "outputs": [
    {
     "data": {
      "text/plain": [
       "0.754709382855384"
      ]
     },
     "execution_count": 30,
     "metadata": {},
     "output_type": "execute_result"
    }
   ],
   "source": [
    "sklearn.metrics.roc_auc_score(tgold4,  tc4 , average = 'samples')\n"
   ]
  },
  {
   "cell_type": "code",
   "execution_count": null,
   "id": "e5d7bffc-b186-4191-89b5-73c279940fac",
   "metadata": {},
   "outputs": [],
   "source": []
  },
  {
   "cell_type": "code",
   "execution_count": 31,
   "id": "d65ee1e0-3c7e-4767-a358-7cb1270fd1e2",
   "metadata": {
    "tags": []
   },
   "outputs": [
    {
     "data": {
      "text/plain": [
       "array([[6778, 8874],\n",
       "       [  95,  385]], dtype=int64)"
      ]
     },
     "execution_count": 31,
     "metadata": {},
     "output_type": "execute_result"
    }
   ],
   "source": [
    "( confusion_matrix (tgold1,  tc1>.5) )"
   ]
  },
  {
   "cell_type": "code",
   "execution_count": 32,
   "id": "574e8687-1443-4827-9ce0-c98988adfefe",
   "metadata": {
    "tags": []
   },
   "outputs": [
    {
     "data": {
      "text/plain": [
       "array([[11112,  2894],\n",
       "       [  133,    87]], dtype=int64)"
      ]
     },
     "execution_count": 32,
     "metadata": {},
     "output_type": "execute_result"
    }
   ],
   "source": [
    "( confusion_matrix (tgold2,  tc2>.5) )"
   ]
  },
  {
   "cell_type": "code",
   "execution_count": 33,
   "id": "cc7b54aa-6a9d-4fec-8fc3-56a911184377",
   "metadata": {
    "tags": []
   },
   "outputs": [
    {
     "data": {
      "text/plain": [
       "array([[12240,   436],\n",
       "       [  139,    14]], dtype=int64)"
      ]
     },
     "execution_count": 33,
     "metadata": {},
     "output_type": "execute_result"
    }
   ],
   "source": [
    "( confusion_matrix (tgold3,  tc3>.5) )"
   ]
  },
  {
   "cell_type": "code",
   "execution_count": 34,
   "id": "f7a11214-2288-42b1-899e-94beb1ff8ed9",
   "metadata": {
    "tags": []
   },
   "outputs": [
    {
     "data": {
      "text/plain": [
       "array([[11578,     2],\n",
       "       [  101,     0]], dtype=int64)"
      ]
     },
     "execution_count": 34,
     "metadata": {},
     "output_type": "execute_result"
    }
   ],
   "source": [
    "( confusion_matrix (tgold4,  tc4>.5) )"
   ]
  },
  {
   "cell_type": "code",
   "execution_count": null,
   "id": "2f312bc4-e159-412b-9fd2-bab5ea3bf296",
   "metadata": {},
   "outputs": [],
   "source": []
  },
  {
   "cell_type": "code",
   "execution_count": null,
   "id": "c540d301-57e2-4d4e-b901-ede19d134aec",
   "metadata": {},
   "outputs": [],
   "source": []
  },
  {
   "cell_type": "code",
   "execution_count": 231,
   "id": "b1feacca-3b06-4560-8113-0e466dc73d56",
   "metadata": {
    "tags": []
   },
   "outputs": [
    {
     "data": {
      "text/plain": [
       "array([[ 1657, 13862],\n",
       "       [   10,   496]], dtype=int64)"
      ]
     },
     "execution_count": 231,
     "metadata": {},
     "output_type": "execute_result"
    }
   ],
   "source": [
    "( confusion_matrix (tgold1,  tp1>.05) )"
   ]
  },
  {
   "cell_type": "code",
   "execution_count": 227,
   "id": "37b6e4ea-c761-435e-b415-77bde119956c",
   "metadata": {
    "tags": []
   },
   "outputs": [
    {
     "data": {
      "text/plain": [
       "array([[12250,  1605],\n",
       "       [  149,    50]], dtype=int64)"
      ]
     },
     "execution_count": 227,
     "metadata": {},
     "output_type": "execute_result"
    }
   ],
   "source": [
    "( confusion_matrix (tgold2,  tc2>.5) )"
   ]
  },
  {
   "cell_type": "code",
   "execution_count": 228,
   "id": "2b0d6789-478d-46f1-b724-1051f6241f4b",
   "metadata": {
    "tags": []
   },
   "outputs": [
    {
     "data": {
      "text/plain": [
       "array([[12405,    42],\n",
       "       [  130,     2]], dtype=int64)"
      ]
     },
     "execution_count": 228,
     "metadata": {},
     "output_type": "execute_result"
    }
   ],
   "source": [
    "( confusion_matrix (tgold3,  tc3>.5) )"
   ]
  },
  {
   "cell_type": "code",
   "execution_count": 229,
   "id": "c7d6e451-9132-45ca-b013-e0a89ae56738",
   "metadata": {
    "tags": []
   },
   "outputs": [
    {
     "data": {
      "text/plain": [
       "array([[10584,   128],\n",
       "       [   94,     4]], dtype=int64)"
      ]
     },
     "execution_count": 229,
     "metadata": {},
     "output_type": "execute_result"
    }
   ],
   "source": [
    "( confusion_matrix (tgold4,  tc4>.5) )"
   ]
  },
  {
   "cell_type": "code",
   "execution_count": null,
   "id": "ebdd1847-405d-4d17-a361-7b601542fc4e",
   "metadata": {},
   "outputs": [],
   "source": []
  },
  {
   "cell_type": "code",
   "execution_count": null,
   "id": "e0151346-0f1b-4eed-ab71-71b3d712dfee",
   "metadata": {},
   "outputs": [],
   "source": []
  },
  {
   "cell_type": "code",
   "execution_count": 27,
   "id": "28235e3d-d8e2-424b-b064-e0b9d45c7881",
   "metadata": {
    "tags": []
   },
   "outputs": [],
   "source": [
    "m1.to_csv('output/XCoh_Sen.csv') "
   ]
  },
  {
   "cell_type": "code",
   "execution_count": 34,
   "id": "112b112b-b97d-4328-9fb2-a9aa34b70486",
   "metadata": {},
   "outputs": [],
   "source": [
    "#m1.to_excel('output/dxMD_Sensitivity90.xlsx') "
   ]
  },
  {
   "cell_type": "code",
   "execution_count": 39,
   "id": "575f35d4-ab67-4311-8e98-a339f980982a",
   "metadata": {
    "tags": []
   },
   "outputs": [],
   "source": [
    "y1 = np.array(M1['golds'],dtype = int)\n",
    "x1 = M1['probs'].to_numpy()\n",
    "platt.fit(x1, y1)\n",
    "cal_1 = platt.predict(M_test1['probs'])"
   ]
  },
  {
   "cell_type": "code",
   "execution_count": null,
   "id": "2e1d9a19-4dbb-4201-bcb9-8ecaaea3619a",
   "metadata": {},
   "outputs": [],
   "source": []
  }
 ],
 "metadata": {
  "kernelspec": {
   "display_name": "Python 3 (ipykernel)",
   "language": "python",
   "name": "python3"
  },
  "language_info": {
   "codemirror_mode": {
    "name": "ipython",
    "version": 3
   },
   "file_extension": ".py",
   "mimetype": "text/x-python",
   "name": "python",
   "nbconvert_exporter": "python",
   "pygments_lexer": "ipython3",
   "version": "3.11.5"
  }
 },
 "nbformat": 4,
 "nbformat_minor": 5
}
