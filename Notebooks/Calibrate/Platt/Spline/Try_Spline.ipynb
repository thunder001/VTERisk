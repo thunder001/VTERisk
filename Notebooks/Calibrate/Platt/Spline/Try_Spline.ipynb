{
 "cells": [
  {
   "cell_type": "code",
   "execution_count": 1,
   "id": "9581a628-c1f1-4e81-8ddc-e408c713a043",
   "metadata": {
    "tags": []
   },
   "outputs": [],
   "source": [
    "import json\n",
    "from collections import Counter\n",
    "import pickle\n",
    "import numpy as np\n",
    "import pandas as pd\n",
    "import os\n",
    "import sys\n",
    "import argparse\n",
    "from os.path import dirname, realpath\n",
    "\n",
    "import math\n",
    "import hashlib\n",
    "import datetime\n",
    "import datetime as datetime\n",
    "sys.path.append(\"./src/\")\n",
    "\n",
    "import torch\n",
    "from torch import nn, optim\n",
    "from torch.nn import functional as F\n",
    "\n",
    "from sklearn.calibration import calibration_curve\n",
    "from sklearn.linear_model import LogisticRegression\n",
    "\n",
    "from sklearn.base import BaseEstimator\n",
    "sys.path.append(dirname(dirname(realpath(os.getcwd()))))\n",
    "\n",
    "from scipy.optimize import minimize_scalar\n",
    "from scipy.optimize import minimize\n",
    "\n",
    "from sklearn.metrics import log_loss\n",
    "import matplotlib.pyplot as plt\n"
   ]
  },
  {
   "cell_type": "code",
   "execution_count": 2,
   "id": "7845624d-9ba3-4e41-acc0-17c47cf42be8",
   "metadata": {
    "tags": []
   },
   "outputs": [
    {
     "ename": "ModuleNotFoundError",
     "evalue": "No module named 'ml_insights'",
     "output_type": "error",
     "traceback": [
      "\u001b[1;31m---------------------------------------------------------------------------\u001b[0m",
      "\u001b[1;31mModuleNotFoundError\u001b[0m                       Traceback (most recent call last)",
      "Cell \u001b[1;32mIn[2], line 4\u001b[0m\n\u001b[0;32m      2\u001b[0m \u001b[38;5;28;01mimport\u001b[39;00m \u001b[38;5;21;01mnumpy\u001b[39;00m \u001b[38;5;28;01mas\u001b[39;00m \u001b[38;5;21;01mnp\u001b[39;00m\n\u001b[0;32m      3\u001b[0m \u001b[38;5;28;01mimport\u001b[39;00m \u001b[38;5;21;01mmatplotlib\u001b[39;00m\u001b[38;5;21;01m.\u001b[39;00m\u001b[38;5;21;01mpyplot\u001b[39;00m \u001b[38;5;28;01mas\u001b[39;00m \u001b[38;5;21;01mplt\u001b[39;00m\n\u001b[1;32m----> 4\u001b[0m \u001b[38;5;28;01mimport\u001b[39;00m \u001b[38;5;21;01mml_insights\u001b[39;00m \u001b[38;5;28;01mas\u001b[39;00m \u001b[38;5;21;01mmli\u001b[39;00m\n\u001b[0;32m      5\u001b[0m get_ipython()\u001b[38;5;241m.\u001b[39mrun_line_magic(\u001b[38;5;124m'\u001b[39m\u001b[38;5;124mmatplotlib\u001b[39m\u001b[38;5;124m'\u001b[39m, \u001b[38;5;124m'\u001b[39m\u001b[38;5;124minline\u001b[39m\u001b[38;5;124m'\u001b[39m)\n\u001b[0;32m      7\u001b[0m \u001b[38;5;28;01mfrom\u001b[39;00m \u001b[38;5;21;01msklearn\u001b[39;00m\u001b[38;5;21;01m.\u001b[39;00m\u001b[38;5;21;01mensemble\u001b[39;00m \u001b[38;5;28;01mimport\u001b[39;00m RandomForestClassifier\n",
      "\u001b[1;31mModuleNotFoundError\u001b[0m: No module named 'ml_insights'"
     ]
    }
   ],
   "source": [
    "\n",
    "import pandas as pd\n",
    "import numpy as np\n",
    "import matplotlib.pyplot as plt\n",
    "import ml_insights as mli\n",
    "%matplotlib inline\n",
    "\n",
    "from sklearn.ensemble import RandomForestClassifier\n",
    "from sklearn.model_selection import train_test_split\n",
    "from sklearn.metrics import log_loss, brier_score_loss, roc_auc_score\n",
    "\n",
    "mli.__version__"
   ]
  },
  {
   "cell_type": "code",
   "execution_count": 6,
   "id": "83bad053-b30d-4cbf-872d-9ebcba09c6b5",
   "metadata": {
    "tags": []
   },
   "outputs": [],
   "source": [
    "src_path = \"G:\\\\FillmoreCancerData\\\\markhe\\\\VTERisk\" \n",
    "src_path2 = \"G:\\\\FillmoreCancerData\\\\markhe\\\\VTERisk - Copy\" \n",
    "\n",
    "def md5(key):\n",
    "    return hashlib.md5(repr(key).encode()).hexdigest()\n",
    "testDF = pd.read_csv(os.path.join(src_path2, 'Notebooks/Find/fixed_dx.csv'))\n",
    "pat_ids = (testDF['patient_id'] ).astype(int)\n",
    "testDF['pids'] = pat_ids.apply(md5)"
   ]
  },
  {
   "cell_type": "code",
   "execution_count": 7,
   "id": "445755df-4970-4e95-aaf5-50abc4a89ecf",
   "metadata": {
    "tags": []
   },
   "outputs": [],
   "source": [
    "def compute_calibration_curve(golds_for_eval,Probs_for_eval):\n",
    "    prob_true, prob_pred = calibration_curve(golds_for_eval, Probs_for_eval, n_bins=20)\n",
    "    return prob_true, prob_pred\n"
   ]
  },
  {
   "cell_type": "code",
   "execution_count": 8,
   "id": "07aaeeda-ea0d-4b6d-8fd1-5b34bddd18d8",
   "metadata": {
    "tags": []
   },
   "outputs": [],
   "source": [
    "def get_4Ms(M):\n",
    "    M1 = M.drop_duplicates(['patient_id'])\n",
    "    m0 = M.duplicated(['patient_id'])\n",
    "    M234 = M[m0]\n",
    "    M2 = M234.drop_duplicates(['patient_id'])\n",
    "\n",
    "    m00 = M234.duplicated(['patient_id'])\n",
    "    M34 = M234[m00]\n",
    "    M3 = M34.drop_duplicates(['patient_id'])\n",
    "\n",
    "    m000 = M34.duplicated(['patient_id'])\n",
    "    M4 = M34[m000]\n",
    "    return M1, M2, M3, M4"
   ]
  },
  {
   "cell_type": "code",
   "execution_count": 9,
   "id": "6ac1de47-e774-457c-8f15-db1310dbe84d",
   "metadata": {
    "tags": []
   },
   "outputs": [],
   "source": [
    "tdf = pd.DataFrame({'patient_id': (testDF['patient_id'] ),    \n",
    "                    'pids': (testDF['pids'] ),    \n",
    "                  'dob': (testDF['dob'] ),  \n",
    "                  'outcome_date': (testDF['outcome_date'] ), \n",
    "                  'obs_time_end': (testDF['obs_time_end'] ),  \n",
    "                  'index_date': (testDF['index_date'] ),  \n",
    "                  'diag_date': (testDF['diag_date'] ),  \n",
    "                  'outcome': (testDF['outcome'])    })"
   ]
  },
  {
   "cell_type": "code",
   "execution_count": 10,
   "id": "6164b3ee-b02a-4235-932c-0612abb0d3fd",
   "metadata": {
    "tags": []
   },
   "outputs": [],
   "source": [
    "def logit (p): return np.log(  p / (1 - p) )\n",
    "def expit (p): return   np.exp(p)/(1 + np.exp(p))"
   ]
  },
  {
   "cell_type": "code",
   "execution_count": 14,
   "id": "32e3e76d-5098-4736-87c0-a0b83f5e2aff",
   "metadata": {
    "tags": []
   },
   "outputs": [],
   "source": [
    "devpath = os.path.join(src_path ,'logs_transformer_vte/L/12_12/', \"68e9a10a80da6c966c226a57b3ccf0fb.results.dev_preds\")\n",
    "\n",
    "with open(devpath, 'rb') as f:\n",
    "    R = pickle.load(f)\n",
    "    p = np.array(R['probs'])\n",
    "\n",
    "Df = pd.DataFrame.from_dict(R)\n",
    "Df['probs'] = Df['probs'].astype(float)\n",
    "Df['exams'] = Df['exams'].astype(int)\n",
    "M = pd.merge(tdf, Df)\n",
    "M1, M2, M3, M4 = get_4Ms(M)"
   ]
  },
  {
   "cell_type": "code",
   "execution_count": 15,
   "id": "4ca02923-d744-4c74-90dd-accd5b44d64c",
   "metadata": {
    "tags": []
   },
   "outputs": [],
   "source": [
    "#testpath = os.path.join(src_path ,'logs_transformer_vte/K/12_4/', \"a8e44cbb2213334954e85de32bdcaf2c.results.test_preds\")\n",
    "testpath = os.path.join(src_path ,'logs_transformer_vte/L/12_12/', \"68e9a10a80da6c966c226a57b3ccf0fb.results.test_preds\")\n",
    "\n",
    "with open(testpath, 'rb') as f:\n",
    "    R_t = pickle.load(f)\n",
    "\n",
    "Df_test = pd.DataFrame.from_dict(R_t)\n",
    "Df_test['probs'] = Df_test['probs'].astype(float)\n",
    "M_test = pd.merge(tdf, Df_test)\n",
    "M_test1, M_test2, M_test3, M_test4 = get_4Ms(M_test)"
   ]
  },
  {
   "cell_type": "code",
   "execution_count": 16,
   "id": "b4077680-ee10-44f2-a361-a52bbe8d4e12",
   "metadata": {
    "tags": []
   },
   "outputs": [],
   "source": [
    "mp0 = np.array(M['probs'])\n",
    "mp1 = np.array(M1['probs'])\n",
    "mp2 = np.array(M2['probs'])\n",
    "mp3 = np.array(M3['probs'])\n",
    "mp4 = np.array(M4['probs'])\n",
    "\n",
    "gold0 =   np.array(M['golds'],dtype = int)\n",
    "gold1 =   np.array(M1['golds'],dtype = int)\n",
    "gold2 =   np.array(M2['golds'],dtype = int)\n",
    "gold3 =   np.array(M3['golds'],dtype = int)\n",
    "gold4 =   np.array(M4['golds'],dtype = int)\n",
    "\n",
    "tp= np.array(M_test['probs'])\n",
    "tp1 = np.array(M_test1['probs'])\n",
    "tp2 = np.array(M_test2['probs'])\n",
    "tp3 = np.array(M_test3['probs'])\n",
    "tp4 = np.array(M_test4['probs'])\n",
    "\n",
    "tgold1 =   np.array(M_test1['golds'],dtype = int)\n",
    "tgold2 =   np.array(M_test2['golds'],dtype = int)\n",
    "tgold3 =   np.array(M_test3['golds'],dtype = int)\n",
    "tgold4 =   np.array(M_test4['golds'],dtype = int)\n",
    "tgold0 =   np.array(M_test['golds'],dtype = int)"
   ]
  },
  {
   "cell_type": "code",
   "execution_count": 17,
   "id": "24655488-4ff6-4f97-9fb9-e7c65ef7db49",
   "metadata": {
    "tags": []
   },
   "outputs": [],
   "source": [
    "import matplotlib.pyplot as plt\n",
    "\n",
    "def plotter (p_i, y_i):\n",
    "    plt.figure(figsize=(5, 5))\n",
    "    ax1 = plt.subplot2grid((3, 1), (0, 0), rowspan=2)\n",
    "    ax2 = plt.subplot2grid((3, 1), (2, 0))\n",
    "    ax1.plot(p_i, y_i, 's-')\n",
    "    ax1.plot([0, 1], [0, 1], linestyle='--', \n",
    "             color='grey', label='random guess (AUROC: 0.500)')\n",
    "    ax2.hist(p_i, bins=10, range=(0, 1))\n",
    "    ax1.set_xlim([-0.01, 1.01])\n",
    "    ax1.set_ylim([-0.01, 1.01])\n",
    "    ax1.set_xlabel('Predicted value')\n",
    "    ax1.set_ylabel('Fraction of positive')\n",
    "    ax1.set_title(\"Calibration plot\")\n",
    "    ax2.set_xlabel('Prediction probability'gold)\n",
    "    ax2.set_ylabel('Count')\n",
    "    plt.tight_layout()\n",
    "    "
   ]
  },
  {
   "cell_type": "code",
   "execution_count": 22,
   "id": "3b6b5ce7",
   "metadata": {},
   "outputs": [],
   "source": [
    "logistic1 = LogisticRegression(C=1e4, solver='lbfgs')\n",
    "logistic1.fit(logit(mp1).reshape(-1,1), gold1)\n",
    "uncalib_preds1 = logistic1.predict_proba(logit(tp1).reshape(-1,1))\n"
   ]
  },
  {
   "cell_type": "code",
   "execution_count": 25,
   "id": "f73f9872",
   "metadata": {},
   "outputs": [
    {
     "data": {
      "text/plain": [
       "array([0.03424988, 0.00726437, 0.04686381, ..., 0.0197954 , 0.03857182,\n",
       "       0.02632648])"
      ]
     },
     "execution_count": 25,
     "metadata": {},
     "output_type": "execute_result"
    }
   ],
   "source": [
    "uncalib_preds1[:,1]"
   ]
  },
  {
   "cell_type": "code",
   "execution_count": 31,
   "id": "d8048565",
   "metadata": {},
   "outputs": [],
   "source": [
    "sc = mli.SplineCalib()"
   ]
  },
  {
   "cell_type": "code",
   "execution_count": null,
   "id": "12570e33",
   "metadata": {},
   "outputs": [],
   "source": [
    "sc.fit()"
   ]
  },
  {
   "cell_type": "code",
   "execution_count": 32,
   "id": "eb83be4e",
   "metadata": {},
   "outputs": [
    {
     "ename": "AttributeError",
     "evalue": "'SplineCalib' object has no attribute 'n_classes'",
     "output_type": "error",
     "traceback": [
      "\u001b[1;31m---------------------------------------------------------------------------\u001b[0m",
      "\u001b[1;31mAttributeError\u001b[0m                            Traceback (most recent call last)",
      "Cell \u001b[1;32mIn[32], line 1\u001b[0m\n\u001b[1;32m----> 1\u001b[0m \u001b[43msc\u001b[49m\u001b[38;5;241;43m.\u001b[39;49m\u001b[43mcalibrate\u001b[49m\u001b[43m(\u001b[49m\u001b[43muncalib_preds1\u001b[49m\u001b[43m[\u001b[49m\u001b[43m:\u001b[49m\u001b[43m,\u001b[49m\u001b[38;5;241;43m1\u001b[39;49m\u001b[43m]\u001b[49m\u001b[43m)\u001b[49m\n",
      "File \u001b[1;32md:\\Programs\\Anaconda3\\envs\\pancrisk\\Lib\\site-packages\\splinecalib\\splinecalib.py:376\u001b[0m, in \u001b[0;36mSplineCalib.calibrate\u001b[1;34m(self, y_in)\u001b[0m\n\u001b[0;32m    356\u001b[0m \u001b[38;5;250m\u001b[39m\u001b[38;5;124;03m\"\"\"Calibrates a set of predictions after being fit.\u001b[39;00m\n\u001b[0;32m    357\u001b[0m \n\u001b[0;32m    358\u001b[0m \u001b[38;5;124;03mThis function returns calibrated probabilities after being\u001b[39;00m\n\u001b[1;32m   (...)\u001b[0m\n\u001b[0;32m    373\u001b[0m \u001b[38;5;124;03m    in the same shape as y_in.\u001b[39;00m\n\u001b[0;32m    374\u001b[0m \u001b[38;5;124;03m\"\"\"\u001b[39;00m\n\u001b[0;32m    375\u001b[0m y_in \u001b[38;5;241m=\u001b[39m y_in\u001b[38;5;241m.\u001b[39mastype(np\u001b[38;5;241m.\u001b[39mfloat64)\n\u001b[1;32m--> 376\u001b[0m \u001b[38;5;28;01mif\u001b[39;00m \u001b[38;5;28;43mself\u001b[39;49m\u001b[38;5;241;43m.\u001b[39;49m\u001b[43mn_classes\u001b[49m\u001b[38;5;241m>\u001b[39m\u001b[38;5;241m2\u001b[39m:\n\u001b[0;32m    377\u001b[0m     \u001b[38;5;28;01mreturn\u001b[39;00m(\u001b[38;5;28mself\u001b[39m\u001b[38;5;241m.\u001b[39m_calibrate_multiclass(y_in))\n\u001b[0;32m    378\u001b[0m \u001b[38;5;28;01melif\u001b[39;00m \u001b[38;5;28mself\u001b[39m\u001b[38;5;241m.\u001b[39mn_classes\u001b[38;5;241m==\u001b[39m\u001b[38;5;241m2\u001b[39m:\n",
      "\u001b[1;31mAttributeError\u001b[0m: 'SplineCalib' object has no attribute 'n_classes'"
     ]
    }
   ],
   "source": [
    "sc.calibrate(uncalib_preds1[:,1])"
   ]
  },
  {
   "cell_type": "code",
   "execution_count": 28,
   "id": "78d97935",
   "metadata": {},
   "outputs": [],
   "source": [
    "sc.fit(uncalib_preds1[:,1], tgold1)"
   ]
  },
  {
   "cell_type": "code",
   "execution_count": 29,
   "id": "554bc2cb",
   "metadata": {},
   "outputs": [
    {
     "data": {
      "image/png": "[encoded data removed]",
      "text/plain": [
       "<Figure size 640x480 with 1 Axes>"
      ]
     },
     "metadata": {},
     "output_type": "display_data"
    }
   ],
   "source": [
    "mli.plot_reliability_diagram(tgold1, uncalib_preds1[:,1]);\n"
   ]
  },
  {
   "cell_type": "code",
   "execution_count": null,
   "id": "f3f684b3",
   "metadata": {},
   "outputs": [],
   "source": [
    "def platt (y_prob, y_true, p_test):\n",
    "    logistic = LogisticRegression(C=1e4, solver='lbfgs')\n",
    "    y_logit =  (y_prob) ###\n",
    "    logistic.fit(y_logit.reshape(-1,1), y_true)\n",
    "    coef_ = logistic.coef_[0]\n",
    "    intercept_ = logistic.intercept_\n",
    "    fit =  (p_test) * coef_[0] + intercept_\n",
    "    out = 1 / (1 + np.exp(-fit))\n",
    "    return  out"
   ]
  },
  {
   "cell_type": "code",
   "execution_count": null,
   "id": "c5921896",
   "metadata": {},
   "outputs": [],
   "source": []
  },
  {
   "cell_type": "code",
   "execution_count": null,
   "id": "e7ebc4df",
   "metadata": {},
   "outputs": [],
   "source": []
  },
  {
   "cell_type": "code",
   "execution_count": null,
   "id": "46c78612",
   "metadata": {},
   "outputs": [],
   "source": []
  },
  {
   "cell_type": "code",
   "execution_count": 243,
   "id": "71c2dba4-2aaf-42e8-a99c-6d9f115571e3",
   "metadata": {
    "tags": []
   },
   "outputs": [],
   "source": [
    "def temperature_multi_8(p1, p2,p3,p4, \n",
    "                      y1, y2, y3, y4):\n",
    "    def temperature_obj(t):\n",
    "        logi_1 = (p1 +  t[1])  / t[5] \n",
    "        logi_2 = (p2 +  t[2])  / t[6] \n",
    "        logi_3 = (p3 +  t[3])  / t[7] \n",
    "        logi_4 = (p4 +  t[4])  / t[8] \n",
    "        \n",
    "        probs1  =  t[9]* expit (t[0]*   logi_1  )  \n",
    "        probs2  =  t[9]*expit (  t[0] *  logi_2  )  \n",
    "        probs3  =  t[9]* expit (t[0] *  logi_3  )  \n",
    "        probs4  =t[9] *expit ( t[0] *  logi_4  ) \n",
    "        \n",
    "        total_loss = log_loss(y1, probs1)+log_loss(y2, probs2)+log_loss(y3,probs3) + log_loss(y4,probs4)\n",
    "        return   total_loss\n",
    "    r = minimize (temperature_obj, x0 = [.1, .1, .1,.1, .1,\n",
    "                                         .1, .1,.1, .1, .1 ] )\n",
    "    \n",
    "    #normed =  expit( r.x[0] * np.concatenate([p1/r.x[1], p2/r.x[2], p3/r.x[3], p4/r.x[4]]))  \n",
    "    return  r"
   ]
  },
  {
   "cell_type": "code",
   "execution_count": 244,
   "id": "309ab8f7-870e-4902-9718-eb07e5572560",
   "metadata": {
    "tags": []
   },
   "outputs": [],
   "source": [
    "tt  = temperature_multi_8( logit(mp1), logit(mp2), logit(mp3), logit(mp4),\n",
    "                                         gold1, gold2, gold3, gold4)"
   ]
  },
  {
   "cell_type": "code",
   "execution_count": 245,
   "id": "f2462399-312f-48ed-bbd1-cc0f0f9afe35",
   "metadata": {
    "tags": []
   },
   "outputs": [
    {
     "data": {
      "text/plain": [
       "array([0.1297842 , 1.63535154, 1.57635189, 1.32761494, 1.52126241,\n",
       "       0.08405857, 0.08732938, 0.09570688, 0.06988549, 0.06969072])"
      ]
     },
     "execution_count": 245,
     "metadata": {},
     "output_type": "execute_result"
    }
   ],
   "source": [
    "tt.x"
   ]
  },
  {
   "cell_type": "code",
   "execution_count": 218,
   "id": "49f8a5bb-5852-44d8-9da9-e75281e51634",
   "metadata": {
    "tags": []
   },
   "outputs": [],
   "source": [
    "tc1 = ( expit( tt.x[0]*( logit(tp1) + tt.x[1] ) / tt.x[5] ) ) #*tt.x[9]\n",
    "tc2 = ( expit( tt.x[0]*( logit(tp2) + tt.x[2] ) / tt.x[6] ) ) #*tt.x[9]\n",
    "tc3 = ( expit( tt.x[0]*( logit(tp3) + tt.x[3] ) / tt.x[7] ) ) #*tt.x[9]\n",
    "tc4 = ( expit( tt.x[0]*( logit(tp4) + tt.x[4] ) / tt.x[8] ) ) #*tt.x[9]\n"
   ]
  },
  {
   "cell_type": "code",
   "execution_count": 219,
   "id": "b552ec35-2295-4cd5-925f-371053477708",
   "metadata": {
    "tags": []
   },
   "outputs": [
    {
     "data": {
      "text/plain": [
       "(array([1569., 1520., 1476., 1512., 1649., 1867., 2072., 2145., 1718.,\n",
       "         497.]),\n",
       " array([0.02197709, 0.11188597, 0.20179484, 0.29170371, 0.38161259,\n",
       "        0.47152146, 0.56143034, 0.65133921, 0.74124809, 0.83115696,\n",
       "        0.92106584]),\n",
       " <BarContainer object of 10 artists>)"
      ]
     },
     "execution_count": 219,
     "metadata": {},
     "output_type": "execute_result"
    },
    {
     "data": {
      "image/png": "[encoded data removed]",
      "text/plain": [
       "<Figure size 640x480 with 1 Axes>"
      ]
     },
     "metadata": {},
     "output_type": "display_data"
    }
   ],
   "source": [
    "plt.hist(tc1)"
   ]
  },
  {
   "cell_type": "code",
   "execution_count": 220,
   "id": "3fc980c0-18ef-4016-a4a3-9eb6bd49a393",
   "metadata": {
    "tags": []
   },
   "outputs": [],
   "source": [
    "y1, p1 = compute_calibration_curve(M_test1['golds'], tc1 )\n",
    "y2, p2 = compute_calibration_curve(M_test2['golds'], tc2 )\n",
    "y3, p3 = compute_calibration_curve(M_test3['golds'], tc3 )\n",
    "y4, p4 = compute_calibration_curve(M_test4['golds'], tc4 )\n"
   ]
  },
  {
   "cell_type": "code",
   "execution_count": 221,
   "id": "eb5c0827-00ff-4bd2-85fa-2b7de28d20ac",
   "metadata": {
    "tags": []
   },
   "outputs": [
    {
     "data": {
      "image/png": "[encoded data removed]",
      "text/plain": [
       "<Figure size 500x500 with 2 Axes>"
      ]
     },
     "metadata": {},
     "output_type": "display_data"
    }
   ],
   "source": [
    "plotter(p4, y4)"
   ]
  },
  {
   "cell_type": "code",
   "execution_count": 222,
   "id": "6592844e-4a8b-4a08-bd2f-173022e00195",
   "metadata": {
    "tags": []
   },
   "outputs": [
    {
     "data": {
      "image/png": "[encoded data removed]",
      "text/plain": [
       "<Figure size 500x500 with 2 Axes>"
      ]
     },
     "metadata": {},
     "output_type": "display_data"
    }
   ],
   "source": [
    "plotter(p1, y1)"
   ]
  },
  {
   "cell_type": "code",
   "execution_count": 223,
   "id": "7e906a3f-7345-48d0-ade7-155f57b6b04b",
   "metadata": {
    "tags": []
   },
   "outputs": [],
   "source": [
    "import sklearn\n",
    "from sklearn.metrics import confusion_matrix"
   ]
  },
  {
   "cell_type": "code",
   "execution_count": 224,
   "id": "45af5dae-562b-4953-ac2e-ebf94b4f5511",
   "metadata": {
    "tags": []
   },
   "outputs": [
    {
     "data": {
      "text/plain": [
       "0.6854529873329583"
      ]
     },
     "execution_count": 224,
     "metadata": {},
     "output_type": "execute_result"
    }
   ],
   "source": [
    "sklearn.metrics.roc_auc_score(tgold3,  tc3 , average = 'samples')\n"
   ]
  },
  {
   "cell_type": "code",
   "execution_count": 230,
   "id": "69762308-8181-4479-b3b3-c0e6cb641ca7",
   "metadata": {
    "tags": []
   },
   "outputs": [
    {
     "data": {
      "text/plain": [
       "0.7072423069302404"
      ]
     },
     "execution_count": 230,
     "metadata": {},
     "output_type": "execute_result"
    }
   ],
   "source": [
    "sklearn.metrics.roc_auc_score(tgold4,  tc4 , average = 'samples')\n"
   ]
  },
  {
   "cell_type": "code",
   "execution_count": 225,
   "id": "3ed76f5c-ab80-4ed9-90d1-d80ede20287a",
   "metadata": {
    "tags": []
   },
   "outputs": [
    {
     "data": {
      "text/plain": [
       "0.6480031999535442"
      ]
     },
     "execution_count": 225,
     "metadata": {},
     "output_type": "execute_result"
    }
   ],
   "source": [
    "sklearn.metrics.roc_auc_score(tgold1,  tc1 , average = 'samples')\n"
   ]
  },
  {
   "cell_type": "code",
   "execution_count": 226,
   "id": "d65ee1e0-3c7e-4767-a358-7cb1270fd1e2",
   "metadata": {
    "tags": []
   },
   "outputs": [
    {
     "data": {
      "text/plain": [
       "array([[8111, 7408],\n",
       "       [ 145,  361]], dtype=int64)"
      ]
     },
     "execution_count": 226,
     "metadata": {},
     "output_type": "execute_result"
    }
   ],
   "source": [
    "( confusion_matrix (tgold1,  tc1>.5) )"
   ]
  },
  {
   "cell_type": "code",
   "execution_count": 227,
   "id": "574e8687-1443-4827-9ce0-c98988adfefe",
   "metadata": {
    "tags": []
   },
   "outputs": [
    {
     "data": {
      "text/plain": [
       "array([[12250,  1605],\n",
       "       [  149,    50]], dtype=int64)"
      ]
     },
     "execution_count": 227,
     "metadata": {},
     "output_type": "execute_result"
    }
   ],
   "source": [
    "( confusion_matrix (tgold2,  tc2>.5) )"
   ]
  },
  {
   "cell_type": "code",
   "execution_count": 228,
   "id": "cc7b54aa-6a9d-4fec-8fc3-56a911184377",
   "metadata": {
    "tags": []
   },
   "outputs": [
    {
     "data": {
      "text/plain": [
       "array([[12405,    42],\n",
       "       [  130,     2]], dtype=int64)"
      ]
     },
     "execution_count": 228,
     "metadata": {},
     "output_type": "execute_result"
    }
   ],
   "source": [
    "( confusion_matrix (tgold3,  tc3>.5) )"
   ]
  },
  {
   "cell_type": "code",
   "execution_count": 229,
   "id": "f7a11214-2288-42b1-899e-94beb1ff8ed9",
   "metadata": {
    "tags": []
   },
   "outputs": [
    {
     "data": {
      "text/plain": [
       "array([[10584,   128],\n",
       "       [   94,     4]], dtype=int64)"
      ]
     },
     "execution_count": 229,
     "metadata": {},
     "output_type": "execute_result"
    }
   ],
   "source": [
    "( confusion_matrix (tgold4,  tc4>.5) )"
   ]
  },
  {
   "cell_type": "code",
   "execution_count": null,
   "id": "2f312bc4-e159-412b-9fd2-bab5ea3bf296",
   "metadata": {},
   "outputs": [],
   "source": []
  },
  {
   "cell_type": "code",
   "execution_count": null,
   "id": "c540d301-57e2-4d4e-b901-ede19d134aec",
   "metadata": {},
   "outputs": [],
   "source": []
  },
  {
   "cell_type": "code",
   "execution_count": 231,
   "id": "b1feacca-3b06-4560-8113-0e466dc73d56",
   "metadata": {
    "tags": []
   },
   "outputs": [
    {
     "data": {
      "text/plain": [
       "array([[ 1657, 13862],\n",
       "       [   10,   496]], dtype=int64)"
      ]
     },
     "execution_count": 231,
     "metadata": {},
     "output_type": "execute_result"
    }
   ],
   "source": [
    "( confusion_matrix (tgold1,  tp1>.05) )"
   ]
  },
  {
   "cell_type": "code",
   "execution_count": 227,
   "id": "37b6e4ea-c761-435e-b415-77bde119956c",
   "metadata": {
    "tags": []
   },
   "outputs": [
    {
     "data": {
      "text/plain": [
       "array([[12250,  1605],\n",
       "       [  149,    50]], dtype=int64)"
      ]
     },
     "execution_count": 227,
     "metadata": {},
     "output_type": "execute_result"
    }
   ],
   "source": [
    "( confusion_matrix (tgold2,  tc2>.5) )"
   ]
  },
  {
   "cell_type": "code",
   "execution_count": 228,
   "id": "2b0d6789-478d-46f1-b724-1051f6241f4b",
   "metadata": {
    "tags": []
   },
   "outputs": [
    {
     "data": {
      "text/plain": [
       "array([[12405,    42],\n",
       "       [  130,     2]], dtype=int64)"
      ]
     },
     "execution_count": 228,
     "metadata": {},
     "output_type": "execute_result"
    }
   ],
   "source": [
    "( confusion_matrix (tgold3,  tc3>.5) )"
   ]
  },
  {
   "cell_type": "code",
   "execution_count": 229,
   "id": "c7d6e451-9132-45ca-b013-e0a89ae56738",
   "metadata": {
    "tags": []
   },
   "outputs": [
    {
     "data": {
      "text/plain": [
       "array([[10584,   128],\n",
       "       [   94,     4]], dtype=int64)"
      ]
     },
     "execution_count": 229,
     "metadata": {},
     "output_type": "execute_result"
    }
   ],
   "source": [
    "( confusion_matrix (tgold4,  tc4>.5) )"
   ]
  },
  {
   "cell_type": "code",
   "execution_count": null,
   "id": "ebdd1847-405d-4d17-a361-7b601542fc4e",
   "metadata": {},
   "outputs": [],
   "source": []
  },
  {
   "cell_type": "code",
   "execution_count": null,
   "id": "e0151346-0f1b-4eed-ab71-71b3d712dfee",
   "metadata": {},
   "outputs": [],
   "source": []
  },
  {
   "cell_type": "code",
   "execution_count": 27,
   "id": "28235e3d-d8e2-424b-b064-e0b9d45c7881",
   "metadata": {
    "tags": []
   },
   "outputs": [],
   "source": [
    "m1.to_csv('output/XCoh_Sen.csv') "
   ]
  },
  {
   "cell_type": "code",
   "execution_count": 34,
   "id": "112b112b-b97d-4328-9fb2-a9aa34b70486",
   "metadata": {},
   "outputs": [],
   "source": [
    "#m1.to_excel('output/dxMD_Sensitivity90.xlsx') "
   ]
  },
  {
   "cell_type": "code",
   "execution_count": 39,
   "id": "575f35d4-ab67-4311-8e98-a339f980982a",
   "metadata": {
    "tags": []
   },
   "outputs": [],
   "source": [
    "y1 = np.array(M1['golds'],dtype = int)\n",
    "x1 = M1['probs'].to_numpy()\n",
    "platt.fit(x1, y1)\n",
    "cal_1 = platt.predict(M_test1['probs'])"
   ]
  },
  {
   "cell_type": "code",
   "execution_count": null,
   "id": "2e1d9a19-4dbb-4201-bcb9-8ecaaea3619a",
   "metadata": {},
   "outputs": [],
   "source": []
  }
 ],
 "metadata": {
  "kernelspec": {
   "display_name": "Python 3 (ipykernel)",
   "language": "python",
   "name": "python3"
  },
  "language_info": {
   "codemirror_mode": {
    "name": "ipython",
    "version": 3
   },
   "file_extension": ".py",
   "mimetype": "text/x-python",
   "name": "python",
   "nbconvert_exporter": "python",
   "pygments_lexer": "ipython3",
   "version": "3.11.5"
  }
 },
 "nbformat": 4,
 "nbformat_minor": 5
}
