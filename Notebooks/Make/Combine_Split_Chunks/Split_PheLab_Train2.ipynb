{
 "cells": [
  {
   "cell_type": "code",
   "execution_count": 1,
   "id": "6c09d395-9486-434f-8ef0-7508e5ff2cbb",
   "metadata": {
    "tags": []
   },
   "outputs": [],
   "source": [
    "import pandas as pd\n",
    "import random\n",
    "import os\n",
    "import json\n",
    "import gc\n",
    "import datetime\n",
    "import copy\n",
    "VTE_path =\"//vacrrdevmavdi01.vha.med.va.gov/MAVDEV1/Fillmore_Cancer/cat/Users/data_from_vinci/dvt_cancer_20230613/data_for_tf_model/processed\""
   ]
  },
  {
   "cell_type": "code",
   "execution_count": 2,
   "id": "3b95db5f-a039-4899-8f32-ca072f1039a4",
   "metadata": {
    "tags": []
   },
   "outputs": [],
   "source": [
    "\n",
    "def train_dev_test_file_random_split(metafile, train_size=0.8, dev_size=0.1, test_size=0.1):\n",
    "    '''\n",
    "    This function randomly splits a json file into train, dev and test datasets, and \n",
    "    automatically saved splitted files under train, dev and test folders.\n",
    "    Note: there is special handling for non-string type diagnosis codes when necessary\n",
    "    '''\n",
    "    par_dir = os.path.dirname(metafile)\n",
    "    train_dir = os.path.join(par_dir, 'train')\n",
    "    dev_dir = os.path.join(par_dir, 'dev')\n",
    "    test_dir = os.path.join(par_dir, 'test')\n",
    "    if not os.path.exists(train_dir):\n",
    "        os.mkdir(train_dir)\n",
    "    if not os.path.exists(dev_dir):\n",
    "        os.mkdir(dev_dir)\n",
    "    if not os.path.exists(test_dir):\n",
    "        os.mkdir(test_dir)\n",
    "    \n",
    "    print('Loading data: {}'.format(metafile))\n",
    "    dat = json.load(open(metafile, 'r'))\n",
    "\n",
    "    # change phecodes datatype to string\n",
    "    for p in dat.keys():\n",
    "        for i in range(len(dat[p]['events'])):\n",
    "            dat[p]['events'][i]['codes'] = str(dat[p]['events'][i]['codes'])\n",
    "\n",
    "    all = [p for p in dat.keys()]\n",
    "    random.shuffle(all)\n",
    "    dev_ind_start = int(len(all) * train_size)\n",
    "    test_ind_start = int(len(all) * (train_size + dev_size))\n",
    "\n",
    "    # Train sampling\n",
    "    train_sample = all[:dev_ind_start]\n",
    "    train = {p: dat[p] for p in train_sample}\n",
    "    for p in train:\n",
    "        train[p]['split_group'] = 'train'\n",
    "    train_path = os.path.join(train_dir, 'train.json')\n",
    "    with open(train_path, 'w') as fwt:\n",
    "        print(\"Saving to {}\\n\".format(train_path))\n",
    "        json.dump(train, fwt, indent=None)\n",
    "    del train\n",
    "    gc.collect()\n",
    "\n",
    "    # Dev sampling\n",
    "    dev_sample = all[dev_ind_start:test_ind_start]\n",
    "    dev = {p: dat[p] for p in dev_sample}\n",
    "    for p in dev:\n",
    "        dev[p]['split_group'] = 'dev'\n",
    "    dev_path = os.path.join(dev_dir, 'dev.json')\n",
    "    with open(dev_path, 'w') as fwd:\n",
    "        print(\"Saving to {}\\n\".format(dev_path))\n",
    "        json.dump(dev, fwd, indent=None)\n",
    "    del dev\n",
    "    gc.collect()\n",
    "\n",
    "    # Test sampling\n",
    "    test_sample = all[test_ind_start:]\n",
    "    test = {p: dat[p] for p in test_sample}\n",
    "    for p in test:\n",
    "        test[p]['split_group'] = 'test'\n",
    "\n",
    "    test_path = os.path.join(test_dir, 'test.json')\n",
    "    with open(test_path, 'w') as fwtt:\n",
    "        print(\"Saving to {}\\n\".format(test_path))\n",
    "        json.dump(test, fwtt, indent=None)\n",
    "    del test\n",
    "    gc.collect()"
   ]
  },
  {
   "cell_type": "code",
   "execution_count": 3,
   "id": "2c0678c9-14ca-4ab6-a549-068e8f722c5d",
   "metadata": {
    "tags": []
   },
   "outputs": [],
   "source": [
    "X_path = os.path.join(VTE_path, 'Phe_Lab2/X.json')\n"
   ]
  },
  {
   "cell_type": "code",
   "execution_count": 4,
   "id": "8053a0fd-792b-4596-91d0-50dacc2ba158",
   "metadata": {
    "tags": []
   },
   "outputs": [
    {
     "name": "stdout",
     "output_type": "stream",
     "text": [
      "Loading data: //vacrrdevmavdi01.vha.med.va.gov/MAVDEV1/Fillmore_Cancer/cat/Users/data_from_vinci/dvt_cancer_20230613/data_for_tf_model/processed\\Phe_Lab2/X.json\n",
      "Saving to //vacrrdevmavdi01.vha.med.va.gov/MAVDEV1/Fillmore_Cancer/cat/Users/data_from_vinci/dvt_cancer_20230613/data_for_tf_model/processed\\Phe_Lab2\\train\\train.json\n",
      "\n",
      "Saving to //vacrrdevmavdi01.vha.med.va.gov/MAVDEV1/Fillmore_Cancer/cat/Users/data_from_vinci/dvt_cancer_20230613/data_for_tf_model/processed\\Phe_Lab2\\dev\\dev.json\n",
      "\n",
      "Saving to //vacrrdevmavdi01.vha.med.va.gov/MAVDEV1/Fillmore_Cancer/cat/Users/data_from_vinci/dvt_cancer_20230613/data_for_tf_model/processed\\Phe_Lab2\\test\\test.json\n",
      "\n"
     ]
    }
   ],
   "source": [
    "train_dev_test_file_random_split(X_path, train_size=0.6, dev_size=0.2, test_size=0.2)\n"
   ]
  },
  {
   "cell_type": "code",
   "execution_count": null,
   "id": "fdd7bbdc-6355-4cc3-ac17-f355e652dd76",
   "metadata": {},
   "outputs": [],
   "source": []
  },
  {
   "cell_type": "code",
   "execution_count": null,
   "id": "0929273d-9f27-448d-8d77-f6b4aaf30022",
   "metadata": {},
   "outputs": [],
   "source": []
  },
  {
   "cell_type": "code",
   "execution_count": null,
   "id": "0e26ee29-8b34-4c86-86b9-c1bcbc7caf49",
   "metadata": {},
   "outputs": [],
   "source": []
  },
  {
   "cell_type": "code",
   "execution_count": null,
   "id": "04d44f73-4e27-4d6b-8678-3cc471f5b500",
   "metadata": {},
   "outputs": [],
   "source": []
  }
 ],
 "metadata": {
  "kernelspec": {
   "display_name": "Python 3 (ipykernel)",
   "language": "python",
   "name": "python3"
  },
  "language_info": {
   "codemirror_mode": {
    "name": "ipython",
    "version": 3
   },
   "file_extension": ".py",
   "mimetype": "text/x-python",
   "name": "python",
   "nbconvert_exporter": "python",
   "pygments_lexer": "ipython3",
   "version": "3.11.7"
  }
 },
 "nbformat": 4,
 "nbformat_minor": 5
}
