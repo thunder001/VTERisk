{
 "cells": [
  {
   "cell_type": "code",
   "execution_count": 30,
   "id": "1c698513-21b6-4081-841b-a81561a46603",
   "metadata": {
    "tags": []
   },
   "outputs": [],
   "source": [
    "import json\n",
    "from collections import Counter\n",
    "import numpy as np\n",
    "import pandas as pd\n",
    "import os\n",
    "import sys\n",
    "import argparse\n",
    "from os.path import dirname, realpath\n",
    "\n",
    "import hashlib\n",
    "import datetime\n",
    "import datetime as datetime\n",
    "sys.path.append(\"./src/\")\n",
    "#from disrisknet.utils.parsing import parse_args\n",
    "import torch\n",
    "from torch import nn, optim\n",
    "from torch.nn import functional as F"
   ]
  },
  {
   "cell_type": "code",
   "execution_count": null,
   "id": "4991dcd6-315b-42d7-84ae-fecb471c52c4",
   "metadata": {},
   "outputs": [],
   "source": []
  },
  {
   "cell_type": "code",
   "execution_count": 14,
   "id": "82941904-01ea-4549-aff9-aabe72b17e16",
   "metadata": {
    "tags": []
   },
   "outputs": [],
   "source": [
    "import matplotlib\n",
    "import pickle as pkl\n",
    "import pprint as pp\n",
    "from collections import OrderedDict\n",
    "matplotlib.use('Agg')\n",
    "import matplotlib.pyplot as plt\n",
    "\n",
    "\n",
    "\n",
    "def print_stats(stats_fname):\n",
    "    with open(stats_fname, 'rb') as f:\n",
    "        stats = pkl.load(f)\n",
    "    print(\"\\nAUROCS:\")\n",
    "    aurocs = OrderedDict({k: stats[k] for k in stats if k[-7:] == 'auroc_c'})\n",
    "    pp.pprint(aurocs)\n",
    "    print(\"\\nAUPRCS:\")\n",
    "    auprcs = OrderedDict({k: stats[k] for k in stats if k[-7:] == 'auprc_c'})\n",
    "    pp.pprint(auprcs)\n",
    "\n",
    "def get_params(result_path):\n",
    "    with open(result_path, 'rb') as f:\n",
    "        results = pkl.load(f)\n",
    "    params = ['model_name', 'num_layers', 'num_heads', 'exclusion_interval', 'init_lr', \"weight_decay\", 'pool_name', \n",
    "    'no_random_sample_eval_trajectories', 'pad_size', 'epochs', 'train', 'dev', 'test', 'cuda', \n",
    "    'train_batch_size', 'eval_batch_size', 'max_batches_per_train_epoch', 'max_batches_per_dev_epoch', \n",
    "    'max_events_length', 'max_eval_indices', 'eval_auroc', 'eval_auprc', 'eval_c_index']\n",
    "    configs = [{param: results[param]} for param in params]\n",
    "    return configs\n",
    "\n",
    "def plot_train_metric(epoch_stats_path, metric_keys):\n",
    "    with open(epoch_stats_path, 'rb') as f:\n",
    "        epoch_stats = pkl.load(f)\n",
    "    plt.figure(figsize=(10, 7))\n",
    "    lines = []\n",
    "    labels = []\n",
    "    for metric_key in metric_keys:\n",
    "        # print(cls)\n",
    "        # print(fprs[cls])\n",
    "        num_of_epoch = len(epoch_stats[metric_key])\n",
    "        line, = plt.plot(list(range(1, num_of_epoch + 1)), epoch_stats[metric_key], lw=1)\n",
    "        lines.append(line)\n",
    "        labels.append(metric_key)\n",
    "    plt.xticks(np.arange(0, 21, 1))\n",
    "    plt.xlim([0, 21])\n",
    "    plt.xlabel('Epoch', size=20)\n",
    "    plt.ylabel('Score', size=20)\n",
    "    plt.legend(lines, labels, loc='best', prop=dict(size=12))\n",
    "    plt.title(\"Training process for transformer model\", size=16)"
   ]
  },
  {
   "cell_type": "code",
   "execution_count": 2,
   "id": "08cc90ce-cf7a-4c51-b039-9382e04ac4ac",
   "metadata": {
    "tags": []
   },
   "outputs": [],
   "source": [
    "sys.path.append(dirname(dirname(realpath(os.getcwd()))))\n"
   ]
  },
  {
   "cell_type": "code",
   "execution_count": 3,
   "id": "83bad053-b30d-4cbf-872d-9ebcba09c6b5",
   "metadata": {
    "tags": []
   },
   "outputs": [],
   "source": [
    "src_path = \"G:\\\\FillmoreCancerData\\\\markhe\\\\VTERisk\" \n",
    "src_path2 = \"G:\\\\FillmoreCancerData\\\\markhe\\\\VTERisk - Copy\" \n",
    "def md5(key):\n",
    "    return hashlib.md5(repr(key).encode()).hexdigest()\n",
    "\n",
    "testDF = pd.read_csv(os.path.join(src_path2, 'Notebooks/Find/fixed_dx.csv'))\n",
    "pat_ids = (testDF['patient_id'] ).astype(int)\n",
    "\n",
    "testDF['pids'] = pat_ids.apply(md5)"
   ]
  },
  {
   "cell_type": "code",
   "execution_count": 4,
   "id": "0dc20797-4425-4c1c-8775-0bbb7e83e7c8",
   "metadata": {
    "tags": []
   },
   "outputs": [],
   "source": [
    "logpath = os.path.join(src_path ,'logs_transformer_vte/H/11_7/', \"d93e7956f15305ad23c78d6884ca2816.results.test_preds\")\n",
    "#logpath = os.path.join(src_path ,'logs_transformer_vte/H/11_13/', \"f93477981e1e440dfe90d16d4e375622.results.test_preds\")"
   ]
  },
  {
   "cell_type": "code",
   "execution_count": 5,
   "id": "78e28f5e-f496-422c-ae90-6966c05583b5",
   "metadata": {
    "tags": []
   },
   "outputs": [],
   "source": [
    "tdf = pd.DataFrame({'patient_id': (testDF['patient_id'] ),    \n",
    "                    'pids': (testDF['pids'] ),    \n",
    "                  'dob': (testDF['dob'] ),  \n",
    "                  'outcome_date': (testDF['outcome_date'] ), \n",
    "                  'obs_time_end': (testDF['obs_time_end'] ),  \n",
    "                  'index_date': (testDF['index_date'] ),  \n",
    "                  'diag_date': (testDF['diag_date'] ),  \n",
    "                  'outcome': (testDF['outcome'])    })\n",
    "\n",
    "with open(logpath, 'rb') as f:\n",
    "    R = pickle.load(f)\n",
    "    p = np.array(R['probs'])\n",
    "\n",
    "Df = pd.DataFrame.from_dict(R)\n",
    "Df['probs'] = Df['probs'].astype(float)\n",
    "Df['exams'] = Df['exams'].astype(int)\n",
    "M = pd.merge(tdf, Df)\n",
    " "
   ]
  },
  {
   "cell_type": "code",
   "execution_count": null,
   "id": "d8cb5a5a-600e-4e24-a2ee-0ba8290f32ef",
   "metadata": {},
   "outputs": [],
   "source": []
  },
  {
   "cell_type": "code",
   "execution_count": 31,
   "id": "c74cf6a5-ba08-4ac2-a780-1358d680a61e",
   "metadata": {
    "tags": []
   },
   "outputs": [],
   "source": [
    "modelpath = os.path.join(src_path ,'logs_transformer_vte/H/11_7/', \"d93e7956f15305ad23c78d6884ca2816.results.test_preds\")\n",
    "\n",
    "with open(logpath, 'rb') as f:\n",
    "    R = pickle.load(f)\n",
    "    probs = (R['probs'])\n",
    "    golds = (R['golds'])\n"
   ]
  },
  {
   "cell_type": "code",
   "execution_count": 7,
   "id": "5a540041-c02b-4704-a893-b8348ad35708",
   "metadata": {
    "tags": []
   },
   "outputs": [],
   "source": [
    "from sklearn.calibration import CalibratedClassifierCV"
   ]
  },
  {
   "cell_type": "code",
   "execution_count": 8,
   "id": "93e3fa79-6609-4745-8f54-9a6f80fe89b8",
   "metadata": {
    "tags": []
   },
   "outputs": [],
   "source": [
    "modelpath =  os.path.join(src_path ,'snapshot_vte/H', \"model_d93e7956f15305ad23c78d6884ca2816_model.pt\")\n"
   ]
  },
  {
   "cell_type": "code",
   "execution_count": 10,
   "id": "727a76ce-0f39-43af-9047-f3682642d31b",
   "metadata": {
    "tags": []
   },
   "outputs": [
    {
     "data": {
      "text/plain": [
       "'G:\\\\FillmoreCancerData\\\\markhe\\\\VTERisk\\\\snapshot_vte/H\\\\model_d93e7956f15305ad23c78d6884ca2816_model.pt'"
      ]
     },
     "execution_count": 10,
     "metadata": {},
     "output_type": "execute_result"
    }
   ],
   "source": [
    "#https://github.com/thunder001/VTERisk/blob/for_paper/src/scripts/summarizer/dev_analysis.py"
   ]
  },
  {
   "cell_type": "code",
   "execution_count": 12,
   "id": "5441d9f5-7305-49e4-85be-f0abe4bdddcf",
   "metadata": {
    "tags": []
   },
   "outputs": [],
   "source": [
    "def get_training_summary(model, log_dir, test = False):\n",
    "    result_fname = model + '.results'\n",
    "    result_path = os.path.join(log_dir, result_fname)\n",
    "    dev_stat_path = result_path + '.dev_stats'\n",
    "    params = get_params(result_path)\n",
    "    pp.pprint(params)\n",
    "    print_stats(dev_stat_path)\n",
    "    if test:\n",
    "        test_stat_path = result_path + '.test_stats'\n",
    "        print_stats(test_stat_path)\n",
    "    plot_train_metrics(result_path, model, metrics)"
   ]
  },
  {
   "cell_type": "code",
   "execution_count": null,
   "id": "2edf748a-2d33-4e47-bf25-bccbef094e9a",
   "metadata": {},
   "outputs": [],
   "source": [
    "modelpath = os.path.join(src_path ,'logs_transformer_vte/H/11_7/', \"d93e7956f15305ad23c78d6884ca2816.results.test_preds\")\n"
   ]
  },
  {
   "cell_type": "code",
   "execution_count": 17,
   "id": "44831cbc-b8a8-481b-a475-6a45e6096cd6",
   "metadata": {
    "tags": []
   },
   "outputs": [],
   "source": [
    "result_path = os.path.join(src_path ,'logs_transformer_vte/H/11_7/d93e7956f15305ad23c78d6884ca2816.results')"
   ]
  },
  {
   "cell_type": "code",
   "execution_count": 18,
   "id": "b2a1ce5b-1ad7-4df3-af12-24f951496fe0",
   "metadata": {
    "tags": []
   },
   "outputs": [],
   "source": [
    "params = get_params(result_path)\n"
   ]
  },
  {
   "cell_type": "code",
   "execution_count": 19,
   "id": "59759f6a-b2dc-49de-8531-d4619826596f",
   "metadata": {
    "tags": []
   },
   "outputs": [
    {
     "data": {
      "text/plain": [
       "[{'model_name': 'transformer'},\n",
       " {'num_layers': 1},\n",
       " {'num_heads': 8},\n",
       " {'exclusion_interval': 0},\n",
       " {'init_lr': 0.00125},\n",
       " {'weight_decay': 0.001},\n",
       " {'pool_name': 'Softmax_AttentionPool'},\n",
       " {'no_random_sample_eval_trajectories': False},\n",
       " {'pad_size': 300},\n",
       " {'epochs': 18},\n",
       " {'train': True},\n",
       " {'dev': True},\n",
       " {'test': True},\n",
       " {'cuda': True},\n",
       " {'train_batch_size': 256},\n",
       " {'eval_batch_size': 128},\n",
       " {'max_batches_per_train_epoch': 2000},\n",
       " {'max_batches_per_dev_epoch': 1000},\n",
       " {'max_events_length': 400},\n",
       " {'max_eval_indices': 1},\n",
       " {'eval_auroc': True},\n",
       " {'eval_auprc': True},\n",
       " {'eval_c_index': False}]"
      ]
     },
     "execution_count": 19,
     "metadata": {},
     "output_type": "execute_result"
    }
   ],
   "source": [
    "params"
   ]
  },
  {
   "cell_type": "code",
   "execution_count": 21,
   "id": "1bab8a7e-e8b3-43d3-ab59-d5d114bbf736",
   "metadata": {
    "tags": []
   },
   "outputs": [],
   "source": [
    "test_path = os.path.join(src_path ,'logs_transformer_vte/H/11_7/d93e7956f15305ad23c78d6884ca2816.results.test_stats')"
   ]
  },
  {
   "cell_type": "code",
   "execution_count": 22,
   "id": "a088377d-0779-44e0-a6c5-95a858a14ade",
   "metadata": {
    "tags": []
   },
   "outputs": [
    {
     "name": "stdout",
     "output_type": "stream",
     "text": [
      "\n",
      "AUROCS:\n",
      "OrderedDict([('test_3day_auroc_c', [0.7376350696334619])])\n",
      "\n",
      "AUPRCS:\n",
      "OrderedDict([('test_3day_auprc_c', [0.04663782661458212])])\n"
     ]
    }
   ],
   "source": [
    "print_stats(test_path)\n"
   ]
  },
  {
   "cell_type": "code",
   "execution_count": 23,
   "id": "3dc98df6-8525-4abb-982d-ce2963430689",
   "metadata": {
    "tags": []
   },
   "outputs": [],
   "source": [
    "epoch_path = os.path.join(src_path ,'logs_transformer_vte/H/11_7/d93e7956f15305ad23c78d6884ca2816.results.epoch_stats')"
   ]
  },
  {
   "cell_type": "code",
   "execution_count": 24,
   "id": "6224a2ad-d3fc-4db0-8cf6-2046219c7d90",
   "metadata": {
    "tags": []
   },
   "outputs": [],
   "source": [
    "with open(epoch_path, 'rb') as f:\n",
    "    epochs = pkl.load(f)"
   ]
  },
  {
   "cell_type": "code",
   "execution_count": null,
   "id": "88442d43-8f3c-4bdf-bba6-d45b01291195",
   "metadata": {},
   "outputs": [],
   "source": [
    "\n",
    "# The first model trained from full VA dataset\n",
    "result_path = 'logs/all_epoch_10_w1_batch_12816_devlen10.results'\n",
    "params = get_params(result_path)\n",
    "test_path = 'logs/all_epoch_10_w1_batch_12816_devlen10.results.test_stats'\n",
    "print_stats(test_path)\n",
    "epoch_path = 'logs/all_epoch_10_w1_batch_12816_devlen10.results.epoch_stats'\n",
    "with open(epoch_path, 'rb') as f:\n",
    "    epochs = pkl.load(f)"
   ]
  },
  {
   "cell_type": "code",
   "execution_count": 28,
   "id": "2abf49fd-d54d-45e4-81ad-873d494ca221",
   "metadata": {
    "tags": []
   },
   "outputs": [],
   "source": [
    "def compute_calibration_curve(golds_for_eval,Probs_for_eval):\n",
    "    prob_true, prob_pred = calibration_curve(golds_for_eval, Probs_for_eval, n_bins=10)\n",
    "    return prob_true, prob_pred\n"
   ]
  },
  {
   "cell_type": "code",
   "execution_count": 29,
   "id": "0c7b7cc1-3a26-4255-92be-b36e0fe1c38c",
   "metadata": {
    "tags": []
   },
   "outputs": [],
   "source": [
    "import sys\n",
    "import matplotlib\n",
    "import matplotlib.pyplot as plt\n",
    "import argparse\n",
    "import pickle as pkl\n",
    "matplotlib.use('Agg')\n",
    "import pdb\n",
    "from os.path import dirname, realpath\n",
    "#sys.path.append(dirname(dirname(dirname(realpath(__file__)))))\n",
    "\n",
    "plt.rc('font', size=12)          # controls default text sizes\n",
    "plt.rc('axes', titlesize=20)     # fontsize of the axes title\n",
    "plt.rc('axes', labelsize=16)    # fontsize of the x and y labels\n",
    "plt.rc('xtick', labelsize=14)    # fontsize of the tick labels\n",
    "plt.rc('ytick', labelsize=14)    # fontsize of the tick labels\n",
    "plt.rc('legend', fontsize=12)    # legend fontsize\n",
    "plt.rc('figure', titlesize=24)  # fontsize of the figure title\n",
    "\n",
    "def plot_calibration(args, test_preds, month=6):\n",
    "    independent_eval = args.independent_eval\n",
    "    # pdb.set_trace()\n",
    "    probs_for_eval, golds_for_eval = get_probs_golds(\n",
    "        args, test_preds, month, independent_eval)\n",
    "    prob_true, prob_pred = compute_calibration_curve(golds_for_eval, probs_for_eval)\n",
    "    plt.figure(figsize=(10, 10))\n",
    "    ax1 = plt.subplot2grid((3, 1), (0, 0), rowspan=2)\n",
    "    ax2 = plt.subplot2grid((3, 1), (2, 0))\n",
    "    ax1.plot(prob_pred, prob_true, 's-')\n",
    "    ax1.plot([0, 1], [0, 1], linestyle='--', \n",
    "             color='grey', label='random guess (AUROC: 0.500)')\n",
    "    ax2.hist(probs_for_eval, bins=10, range=(0, 1))\n",
    "    ax1.set_xlim([-0.01, 1.01])\n",
    "    ax1.set_ylim([-0.01, 1.01])\n",
    "    ax1.set_xlabel('Predicted value')\n",
    "    ax1.set_ylabel('Fraction of positive')\n",
    "    ax1.set_title(\"Calibration plot\")\n",
    "    ax2.set_xlabel('Prediction probability')\n",
    "    ax2.set_ylabel('Count')\n",
    "    plt.tight_layout()\n",
    "\n"
   ]
  },
  {
   "cell_type": "code",
   "execution_count": null,
   "id": "c23cd534-a38e-4e90-be68-947300666f5b",
   "metadata": {},
   "outputs": [],
   "source": []
  },
  {
   "cell_type": "code",
   "execution_count": null,
   "id": "1b9b68eb-f03e-41f9-8779-1de402db1ac2",
   "metadata": {},
   "outputs": [],
   "source": [
    "metrics = ['auroc', 'auprc', 'loss']\n",
    "result_path_pat_3m = 'logs_training_transformer_va3m/{}.results'\n",
    "result_path_pat_1m = 'logs_training_transformer_va1m_part0/{}.results'\n",
    "\n",
    "# -----------------------------------------------------------------------\n",
    "# --- Non-random sampling combinded with learning rate and weight decay -\n",
    "# -----------------------------------------------------------------------\n",
    "\n",
    "# The first model trained from full VA dataset\n",
    "result_path = 'logs/all_epoch_10_w1_batch_12816_devlen10.results'\n",
    "params = get_params(result_path)\n",
    "test_path = 'logs/all_epoch_10_w1_batch_12816_devlen10.results.test_stats'\n",
    "print_stats(test_path)\n",
    "epoch_path = 'logs/all_epoch_10_w1_batch_12816_devlen10.results.epoch_stats'\n",
    "with open(epoch_path, 'rb') as f:\n",
    "    epochs = pkl.load(f)"
   ]
  },
  {
   "cell_type": "code",
   "execution_count": null,
   "id": "ceb3ff82-5d71-4563-8d54-e5b358120749",
   "metadata": {},
   "outputs": [],
   "source": []
  },
  {
   "cell_type": "code",
   "execution_count": null,
   "id": "6bde87d0-917e-4888-87bb-5d80f00c4806",
   "metadata": {},
   "outputs": [],
   "source": []
  },
  {
   "cell_type": "code",
   "execution_count": 210,
   "id": "1fad1337-0b27-4a10-ae30-2e4de1156044",
   "metadata": {
    "tags": []
   },
   "outputs": [],
   "source": [
    "x0= np.zeros( shape = [len(Df),2])"
   ]
  },
  {
   "cell_type": "code",
   "execution_count": 211,
   "id": "d6bc063f-447b-4d0f-ab4b-324b8d644637",
   "metadata": {
    "tags": []
   },
   "outputs": [],
   "source": [
    "x0[:,0] = Df['probs'].to_numpy()"
   ]
  },
  {
   "cell_type": "code",
   "execution_count": 212,
   "id": "efd14798-8fc9-4f21-9ba3-be4299e55af5",
   "metadata": {
    "tags": []
   },
   "outputs": [],
   "source": [
    "#m_pred = np.array(Df['probs'].to_numpy(), np.zeros(len(Df)))"
   ]
  },
  {
   "cell_type": "code",
   "execution_count": 213,
   "id": "db24f14d-7a18-49ca-9ce8-09a5ffd9a96e",
   "metadata": {
    "tags": []
   },
   "outputs": [],
   "source": [
    "y = np.array(Df['golds'])"
   ]
  },
  {
   "cell_type": "code",
   "execution_count": 214,
   "id": "1fc191a4-6559-4f7e-b161-a9cebe521c3b",
   "metadata": {
    "tags": []
   },
   "outputs": [],
   "source": [
    "import SimpleTemp"
   ]
  },
  {
   "cell_type": "code",
   "execution_count": 215,
   "id": "379d0934-c8f9-4f2a-8d27-31092bf937db",
   "metadata": {
    "tags": []
   },
   "outputs": [],
   "source": [
    "from SimpleTemp import _temperature_scaling"
   ]
  },
  {
   "cell_type": "code",
   "execution_count": 216,
   "id": "90dad664-3970-4e40-a734-b8736845a3e3",
   "metadata": {
    "tags": []
   },
   "outputs": [],
   "source": [
    "M1 = M.drop_duplicates(['patient_id'])"
   ]
  },
  {
   "cell_type": "code",
   "execution_count": 217,
   "id": "aa5c2bf9-f8fd-4b85-85bb-00fbc7eaa370",
   "metadata": {
    "tags": []
   },
   "outputs": [],
   "source": [
    "m0 = M.duplicated(['patient_id'])\n",
    "M234 = M[m0]\n",
    "M2 = M234.drop_duplicates(['patient_id'])"
   ]
  },
  {
   "cell_type": "code",
   "execution_count": 218,
   "id": "caadd9a3-16a7-448e-93fd-ff37411b2df9",
   "metadata": {
    "tags": []
   },
   "outputs": [],
   "source": [
    "m00 = M234.duplicated(['patient_id'])\n",
    "M34 = M234[m00]\n",
    "M3 = M34.drop_duplicates(['patient_id'])"
   ]
  },
  {
   "cell_type": "code",
   "execution_count": 219,
   "id": "0803010e-a84a-4f07-bbc6-02a9ef3ae8b4",
   "metadata": {
    "tags": []
   },
   "outputs": [],
   "source": [
    "m000 = M34.duplicated(['patient_id'])\n",
    "M4 = M34[m000]"
   ]
  },
  {
   "cell_type": "code",
   "execution_count": null,
   "id": "50687a6d-c89e-46f6-9e60-13c274601ad5",
   "metadata": {},
   "outputs": [],
   "source": []
  },
  {
   "cell_type": "code",
   "execution_count": 220,
   "id": "e54eca4f-88bd-46db-a06b-fd02093d4d30",
   "metadata": {
    "tags": []
   },
   "outputs": [
    {
     "data": {
      "text/plain": [
       "0.25061632413479074"
      ]
     },
     "execution_count": 220,
     "metadata": {},
     "output_type": "execute_result"
    }
   ],
   "source": [
    "z1 = np.array(M1['golds'],dtype = int)\n",
    "\n",
    "x1_0= np.zeros( shape = [len(M1),2])\n",
    "x1_0[:,0] = M1['probs'].to_numpy()\n",
    "\n",
    "cal_1 = temperature_scaling((x1_0), z1,.1)  \n",
    "cal_1**.5\n",
    "    "
   ]
  },
  {
   "cell_type": "code",
   "execution_count": 221,
   "id": "a6943258-aa5d-4919-a551-03248baf583e",
   "metadata": {
    "tags": []
   },
   "outputs": [
    {
     "data": {
      "text/plain": [
       "0.17200214512706363"
      ]
     },
     "execution_count": 221,
     "metadata": {},
     "output_type": "execute_result"
    }
   ],
   "source": [
    "z2 = np.array(M2['golds'],dtype = int)\n",
    "x2_0= np.zeros( shape = [len(M2),2])  \n",
    "x2_0[:,0] = M2['probs'].to_numpy()\n",
    "cal_2 = temperature_scaling((x2_0), z2, .02)  \n",
    "cal_2**.5"
   ]
  },
  {
   "cell_type": "code",
   "execution_count": 222,
   "id": "f4089207-fd4a-4306-997e-bd4aed3fe8ac",
   "metadata": {
    "tags": []
   },
   "outputs": [
    {
     "data": {
      "text/plain": [
       "0.1249453878671216"
      ]
     },
     "execution_count": 222,
     "metadata": {},
     "output_type": "execute_result"
    }
   ],
   "source": [
    "z3 = np.array(M3['golds'],dtype = int)\n",
    "x3_0= np.zeros( shape = [len(M3),2])  \n",
    "x3_0[:,0] = M3['probs'].to_numpy()\n",
    "cal_3 = temperature_scaling((x3_0), z3, .02)  \n",
    "cal_3**.5"
   ]
  },
  {
   "cell_type": "code",
   "execution_count": 223,
   "id": "e7db6ce4-0652-4b3f-b914-3a56b63b32ea",
   "metadata": {
    "tags": []
   },
   "outputs": [
    {
     "data": {
      "text/plain": [
       "0.11373210780318808"
      ]
     },
     "execution_count": 223,
     "metadata": {},
     "output_type": "execute_result"
    }
   ],
   "source": [
    "z4 = np.array(M4['golds'],dtype = int)\n",
    "x4_0= np.zeros( shape = [len(M4),2])  \n",
    "x4_0[:,0] = M4['probs'].to_numpy()\n",
    "cal_4 = temperature_scaling((x4_0), z4, .02)  \n",
    "cal_4**.5"
   ]
  },
  {
   "cell_type": "code",
   "execution_count": 224,
   "id": "002f7266-6e84-4018-b3c3-4b16ab1e7b79",
   "metadata": {
    "tags": []
   },
   "outputs": [
    {
     "data": {
      "text/plain": [
       "0.012934992345355995"
      ]
     },
     "execution_count": 224,
     "metadata": {},
     "output_type": "execute_result"
    }
   ],
   "source": [
    "cal_4"
   ]
  },
  {
   "cell_type": "code",
   "execution_count": null,
   "id": "8cdb3a47-3b3a-4bc9-8f63-a03deede5a1d",
   "metadata": {},
   "outputs": [],
   "source": []
  },
  {
   "cell_type": "code",
   "execution_count": null,
   "id": "4ede5829-e7fd-41e1-aebd-ba5f2652075b",
   "metadata": {},
   "outputs": [],
   "source": []
  },
  {
   "cell_type": "code",
   "execution_count": 71,
   "id": "e897fa7b-0930-4305-856c-cfdec8bdd6b4",
   "metadata": {
    "tags": []
   },
   "outputs": [
    {
     "data": {
      "text/plain": [
       "array([[nan, nan],\n",
       "       [nan, nan],\n",
       "       [nan, nan],\n",
       "       ...,\n",
       "       [nan, nan],\n",
       "       [nan, nan],\n",
       "       [nan, nan]])"
      ]
     },
     "execution_count": 71,
     "metadata": {},
     "output_type": "execute_result"
    }
   ],
   "source": [
    "x1_0"
   ]
  },
  {
   "cell_type": "code",
   "execution_count": 72,
   "id": "9eca3476-ec16-4003-b58f-bc830b08c26c",
   "metadata": {
    "tags": []
   },
   "outputs": [],
   "source": [
    "import numpy as np\n",
    "from sklearn import datasets\n",
    "from sklearn.model_selection import train_test_split\n",
    "from sklearn.svm import SVC\n",
    "from sklearn.linear_model import LogisticRegression\n",
    "X, y = datasets.load_iris(return_X_y=True)\n",
    "X_train, X_test, y_train, y_test = train_test_split(X, y)\n",
    "SVC_classifier = SVC(probability=True)"
   ]
  },
  {
   "cell_type": "code",
   "execution_count": 90,
   "id": "7a7f79ad-3321-431c-9a5f-c7c145fd5c97",
   "metadata": {
    "tags": []
   },
   "outputs": [
    {
     "name": "stderr",
     "output_type": "stream",
     "text": [
      "C:\\Users\\VHANYNHeT\\AppData\\Local\\Temp\\2\\ipykernel_3996\\3620560755.py:53: RuntimeWarning: divide by zero encountered in log\n",
      "  losses = np.log(losses)\n",
      "C:\\Users\\VHANYNHeT\\AppData\\Local\\Temp\\2\\ipykernel_3996\\3620560755.py:29: RuntimeWarning: overflow encountered in exp\n",
      "  exp_T_output = np.exp(exp_T_output)\n",
      "C:\\Users\\VHANYNHeT\\AppData\\Local\\Temp\\2\\ipykernel_3996\\3620560755.py:74: RuntimeWarning: invalid value encountered in add\n",
      "  dL_dts: np.ndarray = (term_1 + term_2) / exp_T_sum\n",
      "D:\\Programs\\Anaconda3\\Lib\\site-packages\\scipy\\special\\_logsumexp.py:224: RuntimeWarning: invalid value encountered in subtract\n",
      "  exp_x_shifted = np.exp(x - x_max)\n"
     ]
    }
   ],
   "source": [
    "SVC_classifier.fit(X_train, y_train)\n",
    "svc_predictions = SVC_classifier.predict_proba(X_train)\n",
    "Logistic_Regression = LogisticRegression()\n",
    "Logistic_Regression.fit(X_train, y_train)\n",
    "logistic_predictions = Logistic_Regression.predict_proba(X_train)\n",
    "temp = temperature_scaling(svc_predictions, y_train, 1.5)"
   ]
  },
  {
   "cell_type": "code",
   "execution_count": 91,
   "id": "e92fbf4a-b41e-4331-a441-5cb985fed4f6",
   "metadata": {
    "tags": []
   },
   "outputs": [
    {
     "name": "stderr",
     "output_type": "stream",
     "text": [
      "C:\\Users\\VHANYNHeT\\AppData\\Local\\Temp\\2\\ipykernel_3996\\3620560755.py:29: RuntimeWarning: overflow encountered in exp\n",
      "  exp_T_output = np.exp(exp_T_output)\n",
      "C:\\Users\\VHANYNHeT\\AppData\\Local\\Temp\\2\\ipykernel_3996\\3620560755.py:74: RuntimeWarning: invalid value encountered in add\n",
      "  dL_dts: np.ndarray = (term_1 + term_2) / exp_T_sum\n",
      "C:\\Users\\VHANYNHeT\\AppData\\Local\\Temp\\2\\ipykernel_3996\\3620560755.py:53: RuntimeWarning: divide by zero encountered in log\n",
      "  losses = np.log(losses)\n"
     ]
    }
   ],
   "source": [
    "temp2 = temperature_scaling(logistic_predictions, y_train, 1.5)"
   ]
  },
  {
   "cell_type": "code",
   "execution_count": 92,
   "id": "deabeec3-c66f-4160-a6c4-95f38dde0612",
   "metadata": {
    "tags": []
   },
   "outputs": [
    {
     "data": {
      "text/plain": [
       "1.118859322679242"
      ]
     },
     "execution_count": 92,
     "metadata": {},
     "output_type": "execute_result"
    }
   ],
   "source": [
    "temp2"
   ]
  },
  {
   "cell_type": "code",
   "execution_count": 93,
   "id": "fd086764-5b80-4d6b-bc89-4b9ac1b59a06",
   "metadata": {
    "tags": []
   },
   "outputs": [
    {
     "data": {
      "text/plain": [
       "1.1200943073833476"
      ]
     },
     "execution_count": 93,
     "metadata": {},
     "output_type": "execute_result"
    }
   ],
   "source": [
    "temp"
   ]
  },
  {
   "cell_type": "code",
   "execution_count": 64,
   "id": "418fea47-01bd-4949-90e4-a291e6965039",
   "metadata": {
    "tags": []
   },
   "outputs": [
    {
     "data": {
      "text/plain": [
       "array([0, 0, 0, 1, 2, 0, 0, 1, 1, 2, 1, 2, 0, 2, 0, 2, 0, 1, 1, 1, 2, 0,\n",
       "       0, 1, 1, 1, 2, 2, 2, 1, 0, 1, 0, 2, 2, 2, 0, 1, 1, 1, 0, 1, 2, 0,\n",
       "       1, 1, 1, 1, 1, 0, 0, 2, 1, 1, 2, 0, 2, 1, 2, 0, 1, 2, 1, 2, 0, 0,\n",
       "       1, 2, 0, 1, 0, 2, 0, 1, 0, 2, 1, 2, 2, 1, 2, 0, 0, 1, 0, 1, 1, 0,\n",
       "       0, 0, 1, 2, 2, 0, 0, 0, 2, 0, 2, 2, 1, 0, 2, 1, 0, 2, 1, 2, 1, 2,\n",
       "       2, 0])"
      ]
     },
     "execution_count": 64,
     "metadata": {},
     "output_type": "execute_result"
    }
   ],
   "source": [
    "y_train"
   ]
  },
  {
   "cell_type": "code",
   "execution_count": 5,
   "id": "bf958ade-c7ab-443a-87b3-2810967a4c5b",
   "metadata": {
    "tags": []
   },
   "outputs": [],
   "source": [
    "outpath = os.path.join(src_path ,'Notebooks//PostRun_Analysis//output/Multi', \"J10DX.csv\")\n"
   ]
  },
  {
   "cell_type": "code",
   "execution_count": 66,
   "id": "be2d698a-b0a0-4b54-a984-b0e1c92f7016",
   "metadata": {
    "tags": []
   },
   "outputs": [
    {
     "data": {
      "text/plain": [
       "(112,)"
      ]
     },
     "execution_count": 66,
     "metadata": {},
     "output_type": "execute_result"
    }
   ],
   "source": [
    "np.shape(y_train)"
   ]
  },
  {
   "cell_type": "code",
   "execution_count": 65,
   "id": "6ff2c4d2-b2d4-4a8e-80d0-3d008a2758f1",
   "metadata": {
    "tags": []
   },
   "outputs": [
    {
     "data": {
      "text/plain": [
       "(112, 3)"
      ]
     },
     "execution_count": 65,
     "metadata": {},
     "output_type": "execute_result"
    }
   ],
   "source": [
    "np.shape(svc_predictions)"
   ]
  },
  {
   "cell_type": "code",
   "execution_count": null,
   "id": "ad669a26-25f3-4a0e-ab12-9ee09eb41c54",
   "metadata": {
    "tags": []
   },
   "outputs": [],
   "source": [
    "svc_predictions"
   ]
  },
  {
   "cell_type": "code",
   "execution_count": null,
   "id": "c8d0de6c-69ca-401a-95e9-ad854d3fe6b7",
   "metadata": {
    "tags": []
   },
   "outputs": [],
   "source": [
    "logistic_predictions"
   ]
  },
  {
   "cell_type": "code",
   "execution_count": 95,
   "id": "15467d69-2fd2-4b3a-9283-9c31cda49b57",
   "metadata": {
    "tags": []
   },
   "outputs": [
    {
     "data": {
      "text/plain": [
       "array([0, 0, 0, 0, 0, 0, 0, 0, 0, 0, 0, 0, 0, 0, 0, 0, 0, 0, 0, 0, 0, 0,\n",
       "       0, 0, 0, 0, 0, 0, 0, 0, 0, 0, 0, 0, 0, 0, 0, 0, 0, 0, 0, 0, 0, 0,\n",
       "       0, 0, 0, 0, 0, 0, 1, 1, 1, 1, 1, 1, 1, 1, 1, 1, 1, 1, 1, 1, 1, 1,\n",
       "       1, 1, 1, 1, 1, 1, 1, 1, 1, 1, 1, 1, 1, 1, 1, 1, 1, 1, 1, 1, 1, 1,\n",
       "       1, 1, 1, 1, 1, 1, 1, 1, 1, 1, 1, 1, 2, 2, 2, 2, 2, 2, 2, 2, 2, 2,\n",
       "       2, 2, 2, 2, 2, 2, 2, 2, 2, 2, 2, 2, 2, 2, 2, 2, 2, 2, 2, 2, 2, 2,\n",
       "       2, 2, 2, 2, 2, 2, 2, 2, 2, 2, 2, 2, 2, 2, 2, 2, 2, 2])"
      ]
     },
     "execution_count": 95,
     "metadata": {},
     "output_type": "execute_result"
    }
   ],
   "source": [
    "y"
   ]
  },
  {
   "cell_type": "code",
   "execution_count": 94,
   "id": "90cb4247-9a21-47ad-9435-9e5c08406bb4",
   "metadata": {
    "tags": []
   },
   "outputs": [
    {
     "data": {
      "text/plain": [
       "array([[nan, nan, nan],\n",
       "       [nan, nan, nan],\n",
       "       [nan, nan, nan],\n",
       "       [nan, nan, nan],\n",
       "       [nan, nan, nan],\n",
       "       [nan, nan, nan],\n",
       "       [nan, nan, nan],\n",
       "       [nan, nan, nan],\n",
       "       [nan, nan, nan],\n",
       "       [nan, nan, nan],\n",
       "       [nan, nan, nan],\n",
       "       [nan, nan, nan],\n",
       "       [nan, nan, nan],\n",
       "       [nan, nan, nan],\n",
       "       [nan, nan, nan],\n",
       "       [nan, nan, nan],\n",
       "       [nan, nan, nan],\n",
       "       [nan, nan, nan],\n",
       "       [nan, nan, nan],\n",
       "       [nan, nan, nan],\n",
       "       [nan, nan, nan],\n",
       "       [nan, nan, nan],\n",
       "       [nan, nan, nan],\n",
       "       [nan, nan, nan],\n",
       "       [nan, nan, nan],\n",
       "       [nan, nan, nan],\n",
       "       [nan, nan, nan],\n",
       "       [nan, nan, nan],\n",
       "       [nan, nan, nan],\n",
       "       [nan, nan, nan],\n",
       "       [nan, nan, nan],\n",
       "       [nan, nan, nan],\n",
       "       [nan, nan, nan],\n",
       "       [nan, nan, nan],\n",
       "       [nan, nan, nan],\n",
       "       [nan, nan, nan],\n",
       "       [nan, nan, nan],\n",
       "       [nan, nan, nan],\n",
       "       [nan, nan, nan],\n",
       "       [nan, nan, nan],\n",
       "       [nan, nan, nan],\n",
       "       [nan, nan, nan],\n",
       "       [nan, nan, nan],\n",
       "       [nan, nan, nan],\n",
       "       [nan, nan, nan],\n",
       "       [nan, nan, nan],\n",
       "       [nan, nan, nan],\n",
       "       [nan, nan, nan],\n",
       "       [nan, nan, nan],\n",
       "       [nan, nan, nan],\n",
       "       [nan, nan, nan],\n",
       "       [nan, nan, nan],\n",
       "       [nan, nan, nan],\n",
       "       [nan, nan, nan],\n",
       "       [nan, nan, nan],\n",
       "       [nan, nan, nan],\n",
       "       [nan, nan, nan],\n",
       "       [nan, nan, nan],\n",
       "       [nan, nan, nan],\n",
       "       [nan, nan, nan],\n",
       "       [nan, nan, nan],\n",
       "       [nan, nan, nan],\n",
       "       [nan, nan, nan],\n",
       "       [nan, nan, nan],\n",
       "       [nan, nan, nan],\n",
       "       [nan, nan, nan],\n",
       "       [nan, nan, nan],\n",
       "       [nan, nan, nan],\n",
       "       [nan, nan, nan],\n",
       "       [nan, nan, nan],\n",
       "       [nan, nan, nan],\n",
       "       [nan, nan, nan],\n",
       "       [nan, nan, nan],\n",
       "       [nan, nan, nan],\n",
       "       [nan, nan, nan],\n",
       "       [nan, nan, nan],\n",
       "       [nan, nan, nan],\n",
       "       [nan, nan, nan],\n",
       "       [nan, nan, nan],\n",
       "       [nan, nan, nan],\n",
       "       [nan, nan, nan],\n",
       "       [nan, nan, nan],\n",
       "       [nan, nan, nan],\n",
       "       [nan, nan, nan],\n",
       "       [nan, nan, nan],\n",
       "       [nan, nan, nan],\n",
       "       [nan, nan, nan],\n",
       "       [nan, nan, nan],\n",
       "       [nan, nan, nan],\n",
       "       [nan, nan, nan],\n",
       "       [nan, nan, nan],\n",
       "       [nan, nan, nan],\n",
       "       [nan, nan, nan],\n",
       "       [nan, nan, nan],\n",
       "       [nan, nan, nan],\n",
       "       [nan, nan, nan],\n",
       "       [nan, nan, nan],\n",
       "       [nan, nan, nan],\n",
       "       [nan, nan, nan],\n",
       "       [nan, nan, nan],\n",
       "       [nan, nan, nan],\n",
       "       [nan, nan, nan],\n",
       "       [nan, nan, nan],\n",
       "       [nan, nan, nan],\n",
       "       [nan, nan, nan],\n",
       "       [nan, nan, nan],\n",
       "       [nan, nan, nan],\n",
       "       [nan, nan, nan],\n",
       "       [nan, nan, nan],\n",
       "       [nan, nan, nan],\n",
       "       [nan, nan, nan],\n",
       "       [nan, nan, nan]])"
      ]
     },
     "execution_count": 94,
     "metadata": {},
     "output_type": "execute_result"
    }
   ],
   "source": [
    " logistic_predictions"
   ]
  },
  {
   "cell_type": "code",
   "execution_count": null,
   "id": "ad9b370a-b6b9-4805-8863-7856af2bf68c",
   "metadata": {},
   "outputs": [],
   "source": [
    " #M.to_csv(outpath) \n"
   ]
  },
  {
   "cell_type": "code",
   "execution_count": null,
   "id": "a532d82a-e614-4d38-ad99-de7cfb9aefc9",
   "metadata": {},
   "outputs": [],
   "source": []
  },
  {
   "cell_type": "code",
   "execution_count": null,
   "id": "7b9b7abc-d04e-48c4-83da-868707c11911",
   "metadata": {},
   "outputs": [],
   "source": []
  },
  {
   "cell_type": "code",
   "execution_count": 11,
   "id": "5e6efdc5-58d9-4549-bbad-c078f75c897b",
   "metadata": {
    "jupyter": {
     "source_hidden": true
    },
    "tags": []
   },
   "outputs": [
    {
     "name": "stderr",
     "output_type": "stream",
     "text": [
      "C:\\Users\\VHANYNHeT\\AppData\\Local\\Temp\\2\\ipykernel_84892\\383890625.py:3: SettingWithCopyWarning: \n",
      "A value is trying to be set on a copy of a slice from a DataFrame.\n",
      "Try using .loc[row_indexer,col_indexer] = value instead\n",
      "\n",
      "See the caveats in the documentation: https://pandas.pydata.org/pandas-docs/stable/user_guide/indexing.html#returning-a-view-versus-a-copy\n",
      "  m['d']= pd.to_datetime(m['outcome_date']) - pd.to_datetime(m['model_date'])\n",
      "C:\\Users\\VHANYNHeT\\AppData\\Local\\Temp\\2\\ipykernel_84892\\383890625.py:8: SettingWithCopyWarning: \n",
      "A value is trying to be set on a copy of a slice from a DataFrame.\n",
      "Try using .loc[row_indexer,col_indexer] = value instead\n",
      "\n",
      "See the caveats in the documentation: https://pandas.pydata.org/pandas-docs/stable/user_guide/indexing.html#returning-a-view-versus-a-copy\n",
      "  m['d']= pd.to_datetime(m['outcome_date']) - pd.to_datetime(m['model_date'])\n",
      "C:\\Users\\VHANYNHeT\\AppData\\Local\\Temp\\2\\ipykernel_84892\\383890625.py:14: SettingWithCopyWarning: \n",
      "A value is trying to be set on a copy of a slice from a DataFrame.\n",
      "Try using .loc[row_indexer,col_indexer] = value instead\n",
      "\n",
      "See the caveats in the documentation: https://pandas.pydata.org/pandas-docs/stable/user_guide/indexing.html#returning-a-view-versus-a-copy\n",
      "  m_VE0[\"outcome\"] = m_VE0[\"outcome\"].replace(True, False)\n"
     ]
    }
   ],
   "source": [
    "M = pd.merge(g6, testDF)\n",
    "m = M[[\"patient_id\",\"dx_date\", \"index_date\", \"model_date\",  \"outcome\",\"outcome_date\",\"p6\" ]]\n",
    "m['d']= pd.to_datetime(m['outcome_date']) - pd.to_datetime(m['model_date'])\n",
    "\n",
    "#### THE PURPOSE OF THIS STEP IS TO ACTUALLY REPLACE THE 1's after 2 years with 0's! NEED it, in dxdate this is NOT updated\n",
    "m_VE = m[ m['outcome'] ]\n",
    "m_VE1 = m_VE [   (pd.to_datetime( m_VE[\"outcome_date\"] ) -pd.to_datetime( m_VE[\"index_date\"] )) < datetime.timedelta(730)]\n",
    "m_VE0 = m_VE [   (pd.to_datetime( m_VE[\"outcome_date\"] ) -pd.to_datetime( m_VE[\"index_date\"] )) >= datetime.timedelta(730)]\n",
    "m_VE0[\"outcome\"] = m_VE0[\"outcome\"].replace(True, False)  \n",
    "m0= m[ ~ m['outcome'] ]\n",
    "\n",
    "m1 = pd.concat([m_VE1, m_VE0, m0])"
   ]
  },
  {
   "cell_type": "code",
   "execution_count": 22,
   "id": "3ed76f5c-ab80-4ed9-90d1-d80ede20287a",
   "metadata": {
    "tags": []
   },
   "outputs": [
    {
     "data": {
      "text/plain": [
       "0.5600783435183764"
      ]
     },
     "execution_count": 22,
     "metadata": {},
     "output_type": "execute_result"
    }
   ],
   "source": [
    "sklearn.metrics.roc_auc_score(m1['outcome'],  m1['p6'], average = 'samples')\n"
   ]
  },
  {
   "cell_type": "code",
   "execution_count": 13,
   "id": "d65ee1e0-3c7e-4767-a358-7cb1270fd1e2",
   "metadata": {
    "tags": []
   },
   "outputs": [
    {
     "data": {
      "text/plain": [
       "array([[72681,     5],\n",
       "       [ 4301,     0]], dtype=int64)"
      ]
     },
     "execution_count": 13,
     "metadata": {},
     "output_type": "execute_result"
    }
   ],
   "source": [
    "( confusion_matrix (m1['outcome'],  m1['p6']>.5) )"
   ]
  },
  {
   "cell_type": "code",
   "execution_count": 79,
   "id": "981bbaf3-1a93-4618-ae9f-ffd7bc3793d9",
   "metadata": {},
   "outputs": [],
   "source": [
    "# how many people had event within 6 months of index date"
   ]
  },
  {
   "cell_type": "code",
   "execution_count": 27,
   "id": "71bb4d3a-4549-4dfe-8de3-36719dbcf4ce",
   "metadata": {
    "tags": []
   },
   "outputs": [],
   "source": [
    "m1.to_csv('output/XCoh_Sen.csv') "
   ]
  },
  {
   "cell_type": "code",
   "execution_count": 27,
   "id": "28235e3d-d8e2-424b-b064-e0b9d45c7881",
   "metadata": {
    "tags": []
   },
   "outputs": [],
   "source": [
    "m1.to_csv('output/XCoh_Sen.csv') "
   ]
  },
  {
   "cell_type": "code",
   "execution_count": 34,
   "id": "112b112b-b97d-4328-9fb2-a9aa34b70486",
   "metadata": {},
   "outputs": [],
   "source": [
    "#m1.to_excel('output/dxMD_Sensitivity90.xlsx') "
   ]
  },
  {
   "cell_type": "code",
   "execution_count": 35,
   "id": "ecc15a95-38ea-4f44-a4be-1692fb6bebac",
   "metadata": {},
   "outputs": [
    {
     "ename": "KeyError",
     "evalue": "'len180'",
     "output_type": "error",
     "traceback": [
      "\u001b[1;31m---------------------------------------------------------------------------\u001b[0m",
      "\u001b[1;31mKeyError\u001b[0m                                  Traceback (most recent call last)",
      "File \u001b[1;32mD:\\Programs\\Anaconda3\\Lib\\site-packages\\pandas\\core\\indexes\\base.py:3653\u001b[0m, in \u001b[0;36mIndex.get_loc\u001b[1;34m(self, key)\u001b[0m\n\u001b[0;32m   3652\u001b[0m \u001b[38;5;28;01mtry\u001b[39;00m:\n\u001b[1;32m-> 3653\u001b[0m     \u001b[38;5;28;01mreturn\u001b[39;00m \u001b[38;5;28mself\u001b[39m\u001b[38;5;241m.\u001b[39m_engine\u001b[38;5;241m.\u001b[39mget_loc(casted_key)\n\u001b[0;32m   3654\u001b[0m \u001b[38;5;28;01mexcept\u001b[39;00m \u001b[38;5;167;01mKeyError\u001b[39;00m \u001b[38;5;28;01mas\u001b[39;00m err:\n",
      "File \u001b[1;32mD:\\Programs\\Anaconda3\\Lib\\site-packages\\pandas\\_libs\\index.pyx:147\u001b[0m, in \u001b[0;36mpandas._libs.index.IndexEngine.get_loc\u001b[1;34m()\u001b[0m\n",
      "File \u001b[1;32mD:\\Programs\\Anaconda3\\Lib\\site-packages\\pandas\\_libs\\index.pyx:176\u001b[0m, in \u001b[0;36mpandas._libs.index.IndexEngine.get_loc\u001b[1;34m()\u001b[0m\n",
      "File \u001b[1;32mpandas\\_libs\\hashtable_class_helper.pxi:7080\u001b[0m, in \u001b[0;36mpandas._libs.hashtable.PyObjectHashTable.get_item\u001b[1;34m()\u001b[0m\n",
      "File \u001b[1;32mpandas\\_libs\\hashtable_class_helper.pxi:7088\u001b[0m, in \u001b[0;36mpandas._libs.hashtable.PyObjectHashTable.get_item\u001b[1;34m()\u001b[0m\n",
      "\u001b[1;31mKeyError\u001b[0m: 'len180'",
      "\nThe above exception was the direct cause of the following exception:\n",
      "\u001b[1;31mKeyError\u001b[0m                                  Traceback (most recent call last)",
      "Cell \u001b[1;32mIn[35], line 1\u001b[0m\n\u001b[1;32m----> 1\u001b[0m statistics\u001b[38;5;241m.\u001b[39mquantiles( M[\u001b[38;5;124m'\u001b[39m\u001b[38;5;124mlen180\u001b[39m\u001b[38;5;124m'\u001b[39m],n\u001b[38;5;241m=\u001b[39m\u001b[38;5;241m20\u001b[39m)\n",
      "File \u001b[1;32mD:\\Programs\\Anaconda3\\Lib\\site-packages\\pandas\\core\\frame.py:3761\u001b[0m, in \u001b[0;36mDataFrame.__getitem__\u001b[1;34m(self, key)\u001b[0m\n\u001b[0;32m   3759\u001b[0m \u001b[38;5;28;01mif\u001b[39;00m \u001b[38;5;28mself\u001b[39m\u001b[38;5;241m.\u001b[39mcolumns\u001b[38;5;241m.\u001b[39mnlevels \u001b[38;5;241m>\u001b[39m \u001b[38;5;241m1\u001b[39m:\n\u001b[0;32m   3760\u001b[0m     \u001b[38;5;28;01mreturn\u001b[39;00m \u001b[38;5;28mself\u001b[39m\u001b[38;5;241m.\u001b[39m_getitem_multilevel(key)\n\u001b[1;32m-> 3761\u001b[0m indexer \u001b[38;5;241m=\u001b[39m \u001b[38;5;28mself\u001b[39m\u001b[38;5;241m.\u001b[39mcolumns\u001b[38;5;241m.\u001b[39mget_loc(key)\n\u001b[0;32m   3762\u001b[0m \u001b[38;5;28;01mif\u001b[39;00m is_integer(indexer):\n\u001b[0;32m   3763\u001b[0m     indexer \u001b[38;5;241m=\u001b[39m [indexer]\n",
      "File \u001b[1;32mD:\\Programs\\Anaconda3\\Lib\\site-packages\\pandas\\core\\indexes\\base.py:3655\u001b[0m, in \u001b[0;36mIndex.get_loc\u001b[1;34m(self, key)\u001b[0m\n\u001b[0;32m   3653\u001b[0m     \u001b[38;5;28;01mreturn\u001b[39;00m \u001b[38;5;28mself\u001b[39m\u001b[38;5;241m.\u001b[39m_engine\u001b[38;5;241m.\u001b[39mget_loc(casted_key)\n\u001b[0;32m   3654\u001b[0m \u001b[38;5;28;01mexcept\u001b[39;00m \u001b[38;5;167;01mKeyError\u001b[39;00m \u001b[38;5;28;01mas\u001b[39;00m err:\n\u001b[1;32m-> 3655\u001b[0m     \u001b[38;5;28;01mraise\u001b[39;00m \u001b[38;5;167;01mKeyError\u001b[39;00m(key) \u001b[38;5;28;01mfrom\u001b[39;00m \u001b[38;5;21;01merr\u001b[39;00m\n\u001b[0;32m   3656\u001b[0m \u001b[38;5;28;01mexcept\u001b[39;00m \u001b[38;5;167;01mTypeError\u001b[39;00m:\n\u001b[0;32m   3657\u001b[0m     \u001b[38;5;66;03m# If we have a listlike key, _check_indexing_error will raise\u001b[39;00m\n\u001b[0;32m   3658\u001b[0m     \u001b[38;5;66;03m#  InvalidIndexError. Otherwise we fall through and re-raise\u001b[39;00m\n\u001b[0;32m   3659\u001b[0m     \u001b[38;5;66;03m#  the TypeError.\u001b[39;00m\n\u001b[0;32m   3660\u001b[0m     \u001b[38;5;28mself\u001b[39m\u001b[38;5;241m.\u001b[39m_check_indexing_error(key)\n",
      "\u001b[1;31mKeyError\u001b[0m: 'len180'"
     ]
    }
   ],
   "source": [
    "statistics.quantiles( M['len180'],n=20)"
   ]
  },
  {
   "cell_type": "code",
   "execution_count": 23,
   "id": "df19f012-3361-4e45-bd01-22dd2fc015cd",
   "metadata": {},
   "outputs": [
    {
     "data": {
      "text/plain": [
       "(array([2.2715e+04, 1.8050e+03, 1.3000e+02, 2.5000e+01, 1.2000e+01,\n",
       "        1.0000e+00, 1.0000e+00, 1.0000e+00, 1.0000e+00, 2.0000e+00]),\n",
       " array([1.00000e+00, 2.37810e+03, 4.75520e+03, 7.13230e+03, 9.50940e+03,\n",
       "        1.18865e+04, 1.42636e+04, 1.66407e+04, 1.90178e+04, 2.13949e+04,\n",
       "        2.37720e+04]),\n",
       " <BarContainer object of 10 artists>)"
      ]
     },
     "execution_count": 23,
     "metadata": {},
     "output_type": "execute_result"
    }
   ],
   "source": [
    "plt.hist(M['len180'])"
   ]
  },
  {
   "cell_type": "code",
   "execution_count": null,
   "id": "2e1d9a19-4dbb-4201-bcb9-8ecaaea3619a",
   "metadata": {},
   "outputs": [],
   "source": []
  },
  {
   "cell_type": "code",
   "execution_count": 10,
   "id": "2943eb76-d00c-40a6-b788-9be6f1250aae",
   "metadata": {
    "tags": []
   },
   "outputs": [
    {
     "name": "stderr",
     "output_type": "stream",
     "text": [
      "C:\\Users\\VHANYNHeT\\AppData\\Local\\Temp\\2\\ipykernel_73432\\1057840980.py:11: SettingWithCopyWarning: \n",
      "A value is trying to be set on a copy of a slice from a DataFrame.\n",
      "Try using .loc[row_indexer,col_indexer] = value instead\n",
      "\n",
      "See the caveats in the documentation: https://pandas.pydata.org/pandas-docs/stable/user_guide/indexing.html#returning-a-view-versus-a-copy\n",
      "  m['d']= pd.to_datetime(m['outcome_date']) - pd.to_datetime(m['model_date'])\n",
      "C:\\Users\\VHANYNHeT\\AppData\\Local\\Temp\\2\\ipykernel_73432\\1057840980.py:16: SettingWithCopyWarning: \n",
      "A value is trying to be set on a copy of a slice from a DataFrame.\n",
      "Try using .loc[row_indexer,col_indexer] = value instead\n",
      "\n",
      "See the caveats in the documentation: https://pandas.pydata.org/pandas-docs/stable/user_guide/indexing.html#returning-a-view-versus-a-copy\n",
      "  m_VE0[\"outcome\"] = m_VE0[\"outcome\"].replace(True, False)\n"
     ]
    }
   ],
   "source": [
    "m['d']= pd.to_datetime(m['outcome_date']) - pd.to_datetime(m['model_date'])\n",
    "m_VE = m[ m['outcome'] ]\n",
    "m_VE1 = m_VE [   (pd.to_datetime( m_VE[\"outcome_date\"] ) -pd.to_datetime( m_VE[\"index_date\"] )) < datetime.timedelta(730)]\n",
    "m_VE0 = m_VE [   (pd.to_datetime( m_VE[\"outcome_date\"] ) -pd.to_datetime( m_VE[\"index_date\"] )) >= datetime.timedelta(730)]\n",
    "m_VE0[\"outcome\"] = m_VE0[\"outcome\"].replace(True, False)  \n",
    "m0= m[ ~ m['outcome'] ]\n",
    "\n",
    "m1 = pd.concat([m_VE1, m_VE0, m0])"
   ]
  }
 ],
 "metadata": {
  "kernelspec": {
   "display_name": "Python 3 (ipykernel)",
   "language": "python",
   "name": "python3"
  },
  "language_info": {
   "codemirror_mode": {
    "name": "ipython",
    "version": 3
   },
   "file_extension": ".py",
   "mimetype": "text/x-python",
   "name": "python",
   "nbconvert_exporter": "python",
   "pygments_lexer": "ipython3",
   "version": "3.11.5"
  }
 },
 "nbformat": 4,
 "nbformat_minor": 5
}
