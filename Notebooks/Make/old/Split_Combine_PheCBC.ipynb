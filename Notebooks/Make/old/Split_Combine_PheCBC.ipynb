{
 "cells": [
  {
   "cell_type": "code",
   "execution_count": 16,
   "id": "6c09d395-9486-434f-8ef0-7508e5ff2cbb",
   "metadata": {
    "tags": []
   },
   "outputs": [],
   "source": [
    "import pandas as pd\n",
    "import random\n",
    "import os\n",
    "import json\n",
    "import gc\n",
    "import datetime\n",
    "import copy\n",
    "\n",
    "VTE_path = 'Y:\\\\Fillmore_Cancer\\\\cat\\\\Users\\\\data\\\\derived\\\\vte_ml\\\\vte_ml\\\\data_for_chunlei'"
   ]
  },
  {
   "cell_type": "code",
   "execution_count": 17,
   "id": "3b95db5f-a039-4899-8f32-ca072f1039a4",
   "metadata": {
    "tags": []
   },
   "outputs": [],
   "source": [
    "\n",
    "def train_dev_test_file_random_split(metafile, train_size=0.8, dev_size=0.1, test_size=0.1):\n",
    "    '''\n",
    "    This function randomly splits a json file into train, dev and test datasets, and \n",
    "    automatically saved splitted files under train, dev and test folders.\n",
    "    Note: there is special handling for non-string type diagnosis codes when necessary\n",
    "    '''\n",
    "    par_dir = os.path.dirname(metafile)\n",
    "    train_dir = os.path.join(par_dir, 'train')\n",
    "    dev_dir = os.path.join(par_dir, 'dev')\n",
    "    test_dir = os.path.join(par_dir, 'test')\n",
    "    if not os.path.exists(train_dir):\n",
    "        os.mkdir(train_dir)\n",
    "    if not os.path.exists(dev_dir):\n",
    "        os.mkdir(dev_dir)\n",
    "    if not os.path.exists(test_dir):\n",
    "        os.mkdir(test_dir)\n",
    "    \n",
    "    print('Loading data: {}'.format(metafile))\n",
    "    dat = json.load(open(metafile, 'r'))\n",
    "\n",
    "    # change phecodes datatype to string\n",
    "    for p in dat.keys():\n",
    "        for i in range(len(dat[p]['events'])):\n",
    "            dat[p]['events'][i]['codes'] = str(dat[p]['events'][i]['codes'])\n",
    "\n",
    "    all = [p for p in dat.keys()]\n",
    "    random.shuffle(all)\n",
    "    dev_ind_start = int(len(all) * train_size)\n",
    "    test_ind_start = int(len(all) * (train_size + dev_size))\n",
    "\n",
    "    # Train sampling\n",
    "    train_sample = all[:dev_ind_start]\n",
    "    train = {p: dat[p] for p in train_sample}\n",
    "    for p in train:\n",
    "        train[p]['split_group'] = 'train'\n",
    "    train_path = os.path.join(train_dir, 'train.json')\n",
    "    with open(train_path, 'w') as fwt:\n",
    "        print(\"Saving to {}\\n\".format(train_path))\n",
    "        json.dump(train, fwt, indent=None)\n",
    "    del train\n",
    "    gc.collect()\n",
    "\n",
    "    # Dev sampling\n",
    "    dev_sample = all[dev_ind_start:test_ind_start]\n",
    "    dev = {p: dat[p] for p in dev_sample}\n",
    "    for p in dev:\n",
    "        dev[p]['split_group'] = 'dev'\n",
    "    dev_path = os.path.join(dev_dir, 'dev.json')\n",
    "    with open(dev_path, 'w') as fwd:\n",
    "        print(\"Saving to {}\\n\".format(dev_path))\n",
    "        json.dump(dev, fwd, indent=None)\n",
    "    del dev\n",
    "    gc.collect()\n",
    "\n",
    "    # Test sampling\n",
    "    test_sample = all[test_ind_start:]\n",
    "    test = {p: dat[p] for p in test_sample}\n",
    "    for p in test:\n",
    "        test[p]['split_group'] = 'test'\n",
    "\n",
    "    test_path = os.path.join(test_dir, 'test.json')\n",
    "    with open(test_path, 'w') as fwtt:\n",
    "        print(\"Saving to {}\\n\".format(test_path))\n",
    "        json.dump(test, fwtt, indent=None)\n",
    "    del test\n",
    "    gc.collect()"
   ]
  },
  {
   "cell_type": "code",
   "execution_count": 11,
   "id": "2c0678c9-14ca-4ab6-a549-068e8f722c5d",
   "metadata": {
    "tags": []
   },
   "outputs": [],
   "source": [
    "phe_path = os.path.join(VTE_path, 'data_20240229_final.json')\n"
   ]
  },
  {
   "cell_type": "code",
   "execution_count": 12,
   "id": "c902dbbf-05a1-4005-b188-b1a60d93f561",
   "metadata": {
    "tags": []
   },
   "outputs": [],
   "source": [
    "phe = json.load(open(phe_path, 'r'))\n"
   ]
  },
  {
   "cell_type": "code",
   "execution_count": 13,
   "id": "57f0861c-635c-4eba-b153-23a030360c1c",
   "metadata": {
    "tags": []
   },
   "outputs": [],
   "source": [
    "def combine_phe_lab (phe_json, lab_json):\n",
    "    '''\n",
    "    phe_json: \n",
    "    lab_json:\n",
    "    '''\n",
    "    combined_dict = {}\n",
    "    phe = json.load(open(phe_json, 'r'))\n",
    "    lab = json.load(open(lab_json, 'r'))\n",
    "    phe_cohort = set(phe.keys())\n",
    "    lab_cohort = set(lab.keys())\n",
    "    # pdb.set_trace()\n",
    "    union_cohort = phe_cohort | lab_cohort\n",
    "    intersect_cohort = phe_cohort & lab_cohort\n",
    "    \n",
    "    phe_cohort_only = phe_cohort - lab_cohort\n",
    "    lab_cohort_only = lab_cohort - lab_cohort\n",
    "    print(f'There are {len(phe_cohort)} and {len(lab_cohort)} in icd cohort and lab cohort.')\n",
    "    print(f'Union: {len(union_cohort)}; Intersect: {len(intersect_cohort)}\\nICD only: {len(phe_cohort_only)}; lab only {len(lab_cohort_only)}')\n",
    "    \n",
    "    for pat in (union_cohort):\n",
    "        if pat in phe_cohort_only:\n",
    "            combined_dict[pat] = phe[pat]\n",
    "\n",
    "        if pat in intersect_cohort:\n",
    "            pat_dict = {}\n",
    "\n",
    "            phe_events = phe[pat]['events']\n",
    "            phe_end_of_data = phe[pat]['end_of_data']\n",
    "            \n",
    "            lab_events = lab[pat]['events']\n",
    "            lab_end_of_data = lab[pat]['end_of_data']\n",
    "            # In case duplicated events, especially for pancreatic cancer patients    # pdb.set_trace()\n",
    "            if len(phe_events) > 0 and len(lab_events) > 0:\n",
    "                phe_events.extend(lab_events)\n",
    "                # events_set = set(frozenset(e.items()) for e in icd_events if e is not None)\n",
    "                # events = [dict(s) for s in events_set]\n",
    "                end_of_data = max(phe_end_of_data, lab_end_of_data)\n",
    "                pat_dict['events'] = phe_events\n",
    "                pat_dict['end_of_data'] = end_of_data\n",
    "                for key in ['birthdate', 'gender', 'split_group', 'indexdate', 'ks_mod_score']:\n",
    "                    pat_dict[key] = phe[pat][key]\n",
    "                combined_dict[pat] = pat_dict\n",
    "\n",
    "    return combined_dict"
   ]
  },
  {
   "cell_type": "code",
   "execution_count": 19,
   "id": "96a70f3f-6dbe-4810-b448-18de6c2dd5b0",
   "metadata": {
    "tags": []
   },
   "outputs": [
    {
     "name": "stdout",
     "output_type": "stream",
     "text": [
      "Loading data: Y:\\Fillmore_Cancer\\cat\\Users\\data\\derived\\vte_ml\\vte_ml\\data_for_chunlei\\combined\\Replicates\\phe_lab.json\n",
      "Saving to Y:\\Fillmore_Cancer\\cat\\Users\\data\\derived\\vte_ml\\vte_ml\\data_for_chunlei\\combined\\Replicates\\train\\train.json\n",
      "\n",
      "Saving to Y:\\Fillmore_Cancer\\cat\\Users\\data\\derived\\vte_ml\\vte_ml\\data_for_chunlei\\combined\\Replicates\\dev\\dev.json\n",
      "\n",
      "Saving to Y:\\Fillmore_Cancer\\cat\\Users\\data\\derived\\vte_ml\\vte_ml\\data_for_chunlei\\combined\\Replicates\\test\\test.json\n",
      "\n"
     ]
    }
   ],
   "source": [
    "\n",
    "\n",
    "#lab_path = os.path.join(VTE_path, 'combined\\\\Labs_tot.json')\n",
    "#phe_path = os.path.join(VTE_path, 'data_20240229_final.json')\n",
    "#phe_lab =  combine_icd_lab (phe_path,lab_path )\n",
    "combined_path = os.path.join(VTE_path, 'combined\\\\Replicates\\\\phe_lab.json')\n",
    "#json.dump(icd_lab, open(combined_path, 'w'))\n",
    "\n",
    "train_dev_test_file_random_split(combined_path, train_size=0.7, dev_size=0.15, test_size=0.15)\n"
   ]
  },
  {
   "cell_type": "code",
   "execution_count": 21,
   "id": "517fe75d-80bc-4cdc-87ae-71862f07ff15",
   "metadata": {
    "tags": []
   },
   "outputs": [],
   "source": [
    "\n",
    "\n",
    "lab_json = os.path.join(VTE_path, 'combined\\\\Labs_tot.json')\n",
    "phe_json = os.path.join(VTE_path, 'data_20240229_final.json')"
   ]
  },
  {
   "cell_type": "code",
   "execution_count": 22,
   "id": "b7ce7125-a150-4cec-9f45-7ce5560f41fb",
   "metadata": {
    "tags": []
   },
   "outputs": [],
   "source": [
    "phe = json.load(open(phe_json, 'r'))\n",
    "lab = json.load(open(lab_json, 'r'))\n",
    "phe_cohort = set(phe.keys())\n",
    "lab_cohort = set(lab.keys())\n",
    "# pdb.set_trace()\n",
    "union_cohort = phe_cohort | lab_cohort\n",
    "intersect_cohort = phe_cohort & lab_cohort\n",
    "\n",
    "phe_cohort_only = phe_cohort - lab_cohort\n",
    "lab_cohort_only = lab_cohort - lab_cohort"
   ]
  },
  {
   "cell_type": "code",
   "execution_count": 32,
   "id": "2eed1739-0639-4d00-b795-5aaaa3de9a40",
   "metadata": {
    "tags": []
   },
   "outputs": [
    {
     "data": {
      "text/plain": [
       "set()"
      ]
     },
     "execution_count": 32,
     "metadata": {},
     "output_type": "execute_result"
    }
   ],
   "source": [
    "phe_cohort_only"
   ]
  },
  {
   "cell_type": "code",
   "execution_count": 31,
   "id": "589e77f4-930f-4127-b555-e3c1827878ce",
   "metadata": {
    "tags": []
   },
   "outputs": [
    {
     "data": {
      "text/plain": [
       "set()"
      ]
     },
     "execution_count": 31,
     "metadata": {},
     "output_type": "execute_result"
    }
   ],
   "source": [
    "lab_cohort_only"
   ]
  },
  {
   "cell_type": "code",
   "execution_count": 35,
   "id": "ba98f4ae-6b35-4cae-9ac7-813289ce7938",
   "metadata": {
    "tags": []
   },
   "outputs": [
    {
     "data": {
      "text/plain": [
       "589045"
      ]
     },
     "execution_count": 35,
     "metadata": {},
     "output_type": "execute_result"
    }
   ],
   "source": [
    "len(union_cohort)"
   ]
  },
  {
   "cell_type": "code",
   "execution_count": 27,
   "id": "83b03090-f937-49ca-9449-ac54bbabe41a",
   "metadata": {
    "tags": []
   },
   "outputs": [
    {
     "data": {
      "text/plain": [
       "123648"
      ]
     },
     "execution_count": 27,
     "metadata": {},
     "output_type": "execute_result"
    }
   ],
   "source": [
    "len(intersect_cohort)"
   ]
  },
  {
   "cell_type": "code",
   "execution_count": 29,
   "id": "9a8c8898-16a8-452f-9bf4-ee37cc3f314e",
   "metadata": {
    "tags": []
   },
   "outputs": [
    {
     "data": {
      "text/plain": [
       "589045"
      ]
     },
     "execution_count": 29,
     "metadata": {},
     "output_type": "execute_result"
    }
   ],
   "source": [
    "len(lab_cohort)"
   ]
  },
  {
   "cell_type": "code",
   "execution_count": 30,
   "id": "ad478cbc-5424-4cc2-af1a-ebe5185e740a",
   "metadata": {
    "tags": []
   },
   "outputs": [
    {
     "data": {
      "text/plain": [
       "123648"
      ]
     },
     "execution_count": 30,
     "metadata": {},
     "output_type": "execute_result"
    }
   ],
   "source": [
    "len(phe_cohort)"
   ]
  },
  {
   "cell_type": "code",
   "execution_count": null,
   "id": "04d44f73-4e27-4d6b-8678-3cc471f5b500",
   "metadata": {},
   "outputs": [],
   "source": []
  }
 ],
 "metadata": {
  "kernelspec": {
   "display_name": "Python 3 (ipykernel)",
   "language": "python",
   "name": "python3"
  },
  "language_info": {
   "codemirror_mode": {
    "name": "ipython",
    "version": 3
   },
   "file_extension": ".py",
   "mimetype": "text/x-python",
   "name": "python",
   "nbconvert_exporter": "python",
   "pygments_lexer": "ipython3",
   "version": "3.11.5"
  }
 },
 "nbformat": 4,
 "nbformat_minor": 5
}
