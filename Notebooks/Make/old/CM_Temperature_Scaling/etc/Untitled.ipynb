{
 "cells": [
  {
   "cell_type": "code",
   "execution_count": null,
   "id": "839b4161-1303-4402-bf67-a3b45c013d54",
   "metadata": {},
   "outputs": [],
   "source": []
  },
  {
   "cell_type": "code",
   "execution_count": 14,
   "id": "79287bec-63bb-4325-8a22-0e3cba144e3a",
   "metadata": {
    "tags": []
   },
   "outputs": [],
   "source": [
    "import matplotlib\n",
    "import pickle as pkl\n",
    "import pprint as pp\n",
    "from collections import OrderedDict\n",
    "matplotlib.use('Agg')\n",
    "import matplotlib.pyplot as plt\n",
    "\n",
    "\n",
    "\n",
    "def print_stats(stats_fname):\n",
    "    with open(stats_fname, 'rb') as f:\n",
    "        stats = pkl.load(f)\n",
    "    print(\"\\nAUROCS:\")\n",
    "    aurocs = OrderedDict({k: stats[k] for k in stats if k[-7:] == 'auroc_c'})\n",
    "    pp.pprint(aurocs)\n",
    "    print(\"\\nAUPRCS:\")\n",
    "    auprcs = OrderedDict({k: stats[k] for k in stats if k[-7:] == 'auprc_c'})\n",
    "    pp.pprint(auprcs)\n",
    "\n",
    "def get_params(result_path):\n",
    "    with open(result_path, 'rb') as f:\n",
    "        results = pkl.load(f)\n",
    "    params = ['model_name', 'num_layers', 'num_heads', 'exclusion_interval', 'init_lr', \"weight_decay\", 'pool_name', \n",
    "    'no_random_sample_eval_trajectories', 'pad_size', 'epochs', 'train', 'dev', 'test', 'cuda', \n",
    "    'train_batch_size', 'eval_batch_size', 'max_batches_per_train_epoch', 'max_batches_per_dev_epoch', \n",
    "    'max_events_length', 'max_eval_indices', 'eval_auroc', 'eval_auprc', 'eval_c_index']\n",
    "    configs = [{param: results[param]} for param in params]\n",
    "    return configs\n",
    "\n",
    "def plot_train_metric(epoch_stats_path, metric_keys):\n",
    "    with open(epoch_stats_path, 'rb') as f:\n",
    "        epoch_stats = pkl.load(f)\n",
    "    plt.figure(figsize=(10, 7))\n",
    "    lines = []\n",
    "    labels = []\n",
    "    for metric_key in metric_keys:\n",
    "        # print(cls)\n",
    "        # print(fprs[cls])\n",
    "        num_of_epoch = len(epoch_stats[metric_key])\n",
    "        line, = plt.plot(list(range(1, num_of_epoch + 1)), epoch_stats[metric_key], lw=1)\n",
    "        lines.append(line)\n",
    "        labels.append(metric_key)\n",
    "    plt.xticks(np.arange(0, 21, 1))\n",
    "    plt.xlim([0, 21])\n",
    "    plt.xlabel('Epoch', size=20)\n",
    "    plt.ylabel('Score', size=20)\n",
    "    plt.legend(lines, labels, loc='best', prop=dict(size=12))\n",
    "    plt.title(\"Training process for transformer model\", size=16)"
   ]
  },
  {
   "cell_type": "code",
   "execution_count": 12,
   "id": "1460e78f-0dcb-424c-a81e-70ce76ee9fea",
   "metadata": {
    "tags": []
   },
   "outputs": [],
   "source": [
    "def get_training_summary(model, log_dir, test = False):\n",
    "    result_fname = model + '.results'\n",
    "    result_path = os.path.join(log_dir, result_fname)\n",
    "    dev_stat_path = result_path + '.dev_stats'\n",
    "    params = get_params(result_path)\n",
    "    pp.pprint(params)\n",
    "    print_stats(dev_stat_path)\n",
    "    if test:\n",
    "        test_stat_path = result_path + '.test_stats'\n",
    "        print_stats(test_stat_path)\n",
    "    plot_train_metrics(result_path, model, metrics)"
   ]
  }
 ],
 "metadata": {
  "kernelspec": {
   "display_name": "Python 3 (ipykernel)",
   "language": "python",
   "name": "python3"
  },
  "language_info": {
   "codemirror_mode": {
    "name": "ipython",
    "version": 3
   },
   "file_extension": ".py",
   "mimetype": "text/x-python",
   "name": "python",
   "nbconvert_exporter": "python",
   "pygments_lexer": "ipython3",
   "version": "3.11.5"
  }
 },
 "nbformat": 4,
 "nbformat_minor": 5
}
