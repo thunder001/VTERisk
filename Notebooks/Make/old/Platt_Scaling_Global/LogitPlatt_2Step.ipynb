{
 "cells": [
  {
   "cell_type": "code",
   "execution_count": 5,
   "id": "9581a628-c1f1-4e81-8ddc-e408c713a043",
   "metadata": {
    "tags": []
   },
   "outputs": [],
   "source": [
    "import json\n",
    "from collections import Counter\n",
    "import pickle\n",
    "import numpy as np\n",
    "import pandas as pd\n",
    "import os\n",
    "import sys\n",
    "import argparse\n",
    "from os.path import dirname, realpath\n",
    "import math\n",
    "import hashlib\n",
    "import datetime\n",
    "import datetime as datetime\n",
    "sys.path.append(\"./src/\")\n",
    "\n",
    "import torch\n",
    "from torch import nn, optim\n",
    "from torch.nn import functional as F\n",
    "\n",
    "from sklearn.calibration import calibration_curve\n",
    "from sklearn.linear_model import LogisticRegression\n",
    "from sklearn.base import BaseEstimator\n",
    "#import plotter\n",
    "#from plotter import plotter\n",
    "import matplotlib.pyplot as plt\n",
    "\n",
    "sys.path.append(dirname(dirname(realpath(os.getcwd()))))"
   ]
  },
  {
   "cell_type": "code",
   "execution_count": 6,
   "id": "83bad053-b30d-4cbf-872d-9ebcba09c6b5",
   "metadata": {
    "tags": []
   },
   "outputs": [],
   "source": [
    "src_path = \"G:\\\\FillmoreCancerData\\\\markhe\\\\VTERisk\" \n",
    "src_path2 = \"G:\\\\FillmoreCancerData\\\\markhe\\\\VTERisk - Copy\" \n",
    "\n",
    "def md5(key):\n",
    "    return hashlib.md5(repr(key).encode()).hexdigest()\n",
    "testDF = pd.read_csv(os.path.join(src_path2, 'Notebooks/Find/fixed_dx.csv'))\n",
    "pat_ids = (testDF['patient_id'] ).astype(int)\n",
    "testDF['pids'] = pat_ids.apply(md5)"
   ]
  },
  {
   "cell_type": "code",
   "execution_count": 7,
   "id": "445755df-4970-4e95-aaf5-50abc4a89ecf",
   "metadata": {
    "tags": []
   },
   "outputs": [],
   "source": [
    "def compute_calibration_curve(golds_for_eval,Probs_for_eval):\n",
    "    prob_true, prob_pred = calibration_curve(golds_for_eval, Probs_for_eval, n_bins=40)\n",
    "    return prob_true, prob_pred\n"
   ]
  },
  {
   "cell_type": "code",
   "execution_count": 8,
   "id": "07aaeeda-ea0d-4b6d-8fd1-5b34bddd18d8",
   "metadata": {
    "tags": []
   },
   "outputs": [],
   "source": [
    "def get_4Ms(M):\n",
    "    M1 = M.drop_duplicates(['patient_id'])\n",
    "    m0 = M.duplicated(['patient_id'])\n",
    "    M234 = M[m0]\n",
    "    M2 = M234.drop_duplicates(['patient_id'])\n",
    "\n",
    "    m00 = M234.duplicated(['patient_id'])\n",
    "    M34 = M234[m00]\n",
    "    M3 = M34.drop_duplicates(['patient_id'])\n",
    "\n",
    "    m000 = M34.duplicated(['patient_id'])\n",
    "    M4 = M34[m000]\n",
    "    return M1, M2, M3, M4"
   ]
  },
  {
   "cell_type": "code",
   "execution_count": 9,
   "id": "6ac1de47-e774-457c-8f15-db1310dbe84d",
   "metadata": {
    "tags": []
   },
   "outputs": [],
   "source": [
    "tdf = pd.DataFrame({'patient_id': (testDF['patient_id'] ),    \n",
    "                    'pids': (testDF['pids'] ),    \n",
    "                  'dob': (testDF['dob'] ),  \n",
    "                  'outcome_date': (testDF['outcome_date'] ), \n",
    "                  'obs_time_end': (testDF['obs_time_end'] ),  \n",
    "                  'index_date': (testDF['index_date'] ),  \n",
    "                  'diag_date': (testDF['diag_date'] ),  \n",
    "                  'outcome': (testDF['outcome'])    })\n"
   ]
  },
  {
   "cell_type": "code",
   "execution_count": 10,
   "id": "f6b16c8c-02e0-4645-8eda-35fecd344738",
   "metadata": {
    "tags": []
   },
   "outputs": [],
   "source": [
    "#devpath = os.path.join(src_path ,'logs_transformer_vte/K/12_4/', \"a8e44cbb2213334954e85de32bdcaf2c.results.dev_preds\")\n",
    "devpath = os.path.join(src_path ,'logs_transformer_vte/K/12_4/', \"6a827773e837f2b6ddb9b70a2821c81f.results.dev_preds\")\n",
    "with open(devpath, 'rb') as f:\n",
    "    R = pickle.load(f)\n",
    "    p = np.array(R['probs'])\n",
    "Df = pd.DataFrame.from_dict(R)\n",
    "Df['probs'] = Df['probs'].astype(float)\n",
    "Df['exams'] = Df['exams'].astype(int)\n",
    "M = pd.merge(tdf, Df)\n",
    "M1, M2, M3, M4 = get_4Ms(M)"
   ]
  },
  {
   "cell_type": "code",
   "execution_count": 11,
   "id": "50687a6d-c89e-46f6-9e60-13c274601ad5",
   "metadata": {
    "tags": []
   },
   "outputs": [],
   "source": [
    "#testpath = os.path.join(src_path ,'logs_transformer_vte/K/12_4/', \"a8e44cbb2213334954e85de32bdcaf2c.results.test_preds\")\n",
    "testpath = os.path.join(src_path ,'logs_transformer_vte/K/12_4/', \"6a827773e837f2b6ddb9b70a2821c81f.results.test_preds\")\n",
    "with open(testpath, 'rb') as f:\n",
    "    R_t = pickle.load(f)\n",
    "Df_test = pd.DataFrame.from_dict(R_t)\n",
    "Df_test['probs'] = Df_test['probs'].astype(float)\n",
    "M_test = pd.merge(tdf, Df_test)\n",
    "M_test1, M_test2, M_test3, M_test4 = get_4Ms(M_test)"
   ]
  },
  {
   "cell_type": "code",
   "execution_count": 12,
   "id": "f3dea25b-f58a-4120-b9f2-5ecc1c79604b",
   "metadata": {
    "tags": []
   },
   "outputs": [],
   "source": [
    "def logit (p): return np.log(  p / (1 - p) )\n",
    "def expit (p): return  1/(1 + np.exp(-p))"
   ]
  },
  {
   "cell_type": "code",
   "execution_count": 13,
   "id": "8f2d7e8d-c065-4f68-bac7-4e9252b8fd96",
   "metadata": {
    "tags": []
   },
   "outputs": [],
   "source": [
    "mp0 = np.array(M['probs'])\n",
    "mp1 = np.array(M1['probs'])\n",
    "mp2 = np.array(M2['probs'])\n",
    "mp3 = np.array(M3['probs'])\n",
    "mp4 = np.array(M4['probs'])"
   ]
  },
  {
   "cell_type": "code",
   "execution_count": 14,
   "id": "ba865efe-57f0-4387-9178-f7fae2c34785",
   "metadata": {
    "tags": []
   },
   "outputs": [],
   "source": [
    "tp0 = np.array(M_test['probs'])\n",
    "tp1 = np.array(M_test1['probs'])\n",
    "tp2 = np.array(M_test2['probs'])\n",
    "tp3 = np.array(M_test3['probs'])\n",
    "tp4 = np.array(M_test4['probs'])"
   ]
  },
  {
   "cell_type": "code",
   "execution_count": 15,
   "id": "bf24b0ee-0fc5-4d66-9c25-329f82a374cf",
   "metadata": {
    "tags": []
   },
   "outputs": [],
   "source": [
    "gold0 =   np.array(M['golds'],dtype = int)\n",
    "gold1 =   np.array(M1['golds'],dtype = int)\n",
    "gold2 =   np.array(M2['golds'],dtype = int)\n",
    "gold3 =   np.array(M3['golds'],dtype = int)\n",
    "gold4 =   np.array(M4['golds'],dtype = int)"
   ]
  },
  {
   "cell_type": "code",
   "execution_count": 16,
   "id": "1a825c2e-803a-41ac-a08f-3463c958a961",
   "metadata": {
    "tags": []
   },
   "outputs": [],
   "source": [
    "tgold1 =   np.array(M_test1['golds'],dtype = int)\n",
    "tgold2 =   np.array(M_test2['golds'],dtype = int)\n",
    "tgold3 =   np.array(M_test3['golds'],dtype = int)\n",
    "tgold4 =   np.array(M_test4['golds'],dtype = int)\n",
    "tgold0 =   np.array(M_test['golds'],dtype = int)"
   ]
  },
  {
   "cell_type": "code",
   "execution_count": 17,
   "id": "9c3c89dc-c302-4254-a01c-3e96d500097b",
   "metadata": {
    "tags": []
   },
   "outputs": [],
   "source": [
    "def platt0 (y_prob, y_true, p_test):\n",
    "    logistic = LogisticRegression(C=1e4, solver='lbfgs', fit_intercept = False)\n",
    "    y_logit = logit(y_prob) ###\n",
    "    logistic.fit(y_logit.reshape(-1,1), y_true )\n",
    "    coef_ = logistic.coef_[0]\n",
    "    #intercept_ = logistic.intercept_\n",
    "    fit = logit(p_test) * coef_[0] #+ intercept_\n",
    "    out = 1 / (1 + np.exp(-fit))\n",
    "    return  out"
   ]
  },
  {
   "cell_type": "code",
   "execution_count": 18,
   "id": "59a380b6-ffd7-487a-af86-1a1f20091e02",
   "metadata": {
    "tags": []
   },
   "outputs": [],
   "source": [
    "def platt (y_prob, y_true, p_test):\n",
    "    logistic = LogisticRegression(C=1e4, solver='lbfgs')\n",
    "    y_logit = logit(y_prob) ###\n",
    "    logistic.fit(y_logit.reshape(-1,1), y_true )\n",
    "    coef_ = logistic.coef_[0]\n",
    "    intercept_ = logistic.intercept_\n",
    "    fit = logit(p_test) * coef_[0] + intercept_\n",
    "    out = 1 / (1 + np.exp(-fit))\n",
    "    return  out"
   ]
  },
  {
   "cell_type": "code",
   "execution_count": 19,
   "id": "fb8434d2-3bc8-4028-b43b-771df6452652",
   "metadata": {},
   "outputs": [],
   "source": [
    "global_cal_dev =platt0 (np.array(M['probs']), np.array(M ['golds'],dtype = int),  M ['probs']  )\n",
    "#global_cal_dev =platt (np.array(M['probs']), np.array(M ['golds'],dtype = int),  M_test ['probs']  )"
   ]
  },
  {
   "cell_type": "code",
   "execution_count": 20,
   "id": "fd9dc235-9b50-4db6-b53f-53eacf129d10",
   "metadata": {
    "tags": []
   },
   "outputs": [
    {
     "data": {
      "text/plain": [
       "(array([4.4896e+04, 4.4150e+03, 2.0650e+03, 1.3470e+03, 8.1200e+02,\n",
       "        4.8000e+02, 2.7100e+02, 1.0200e+02, 3.6000e+01, 7.0000e+00]),\n",
       " array([0.00052188, 0.03959418, 0.07866649, 0.11773879, 0.1568111 ,\n",
       "        0.1958834 , 0.23495571, 0.27402801, 0.31310032, 0.35217263,\n",
       "        0.39124493]),\n",
       " <BarContainer object of 10 artists>)"
      ]
     },
     "execution_count": 20,
     "metadata": {},
     "output_type": "execute_result"
    },
    {
     "data": {
      "image/png": "[encoded data removed]",
      "text/plain": [
       "<Figure size 640x480 with 1 Axes>"
      ]
     },
     "metadata": {},
     "output_type": "display_data"
    }
   ],
   "source": [
    "plt.hist(  (global_cal_dev ))"
   ]
  },
  {
   "cell_type": "code",
   "execution_count": 21,
   "id": "65e08553-9084-440a-9964-b944cd8f7182",
   "metadata": {
    "tags": []
   },
   "outputs": [],
   "source": [
    "M ['cal'] = global_cal_dev"
   ]
  },
  {
   "cell_type": "code",
   "execution_count": 22,
   "id": "7caf5592-a197-4d3a-a33d-229803da1d97",
   "metadata": {
    "tags": []
   },
   "outputs": [],
   "source": [
    "D_cal1, D_cal2, D_cal3, D_cal4 = get_4Ms(M)\n",
    "cp1 = np.array(D_cal1['cal'])\n",
    "cp2 = np.array(D_cal2['cal'])\n",
    "cp3 = np.array(D_cal3['cal'])\n",
    "cp4 = np.array(D_cal4['cal'])"
   ]
  },
  {
   "cell_type": "code",
   "execution_count": 23,
   "id": "5f5774af-bf21-4389-9070-0f49a82b6816",
   "metadata": {
    "tags": []
   },
   "outputs": [
    {
     "data": {
      "text/plain": [
       "(array([8.066e+03, 3.034e+03, 1.965e+03, 1.333e+03, 8.090e+02, 4.780e+02,\n",
       "        2.700e+02, 1.020e+02, 3.600e+01, 7.000e+00]),\n",
       " array([0.00061105, 0.03967444, 0.07873783, 0.11780121, 0.1568646 ,\n",
       "        0.19592799, 0.23499138, 0.27405477, 0.31311815, 0.35218154,\n",
       "        0.39124493]),\n",
       " <BarContainer object of 10 artists>)"
      ]
     },
     "execution_count": 23,
     "metadata": {},
     "output_type": "execute_result"
    },
    {
     "data": {
      "image/png": "[encoded data removed]",
      "text/plain": [
       "<Figure size 640x480 with 1 Axes>"
      ]
     },
     "metadata": {},
     "output_type": "display_data"
    }
   ],
   "source": [
    "plt.hist(cp1)"
   ]
  },
  {
   "cell_type": "code",
   "execution_count": 24,
   "id": "8fb120bb-637a-4809-bcc0-2d0b9536e06a",
   "metadata": {
    "tags": []
   },
   "outputs": [],
   "source": [
    "f1 =platt (cp1,  np.array(M1['golds'],dtype = int), tp1 )\n",
    "f2 =platt (cp2,  np.array(M2['golds'],dtype = int),  tp2 )\n",
    "f3 =platt (cp3,  np.array(M3['golds'],dtype = int),  tp3 )\n",
    "f4 =platt (cp4,  np.array(M4['golds'],dtype = int), tp4  )"
   ]
  },
  {
   "cell_type": "code",
   "execution_count": 25,
   "id": "a7aeb5d9-8cd2-4cac-9933-33a7caa509d4",
   "metadata": {
    "tags": []
   },
   "outputs": [],
   "source": [
    "y1, p1 = compute_calibration_curve(M_test1['golds'], f1 )\n",
    "y2, p2 = compute_calibration_curve(M_test2['golds'], f2 )\n",
    "y3, p3 = compute_calibration_curve(M_test3['golds'], f3 )\n",
    "y4, p4 = compute_calibration_curve(M_test4['golds'], f4 )\n"
   ]
  },
  {
   "cell_type": "code",
   "execution_count": 26,
   "id": "18a73689-d328-4efb-a004-03b9145d702c",
   "metadata": {
    "tags": []
   },
   "outputs": [
    {
     "ename": "NameError",
     "evalue": "name 'cal0' is not defined",
     "output_type": "error",
     "traceback": [
      "\u001b[1;31m---------------------------------------------------------------------------\u001b[0m",
      "\u001b[1;31mNameError\u001b[0m                                 Traceback (most recent call last)",
      "Cell \u001b[1;32mIn[26], line 1\u001b[0m\n\u001b[1;32m----> 1\u001b[0m y0, p0 \u001b[38;5;241m=\u001b[39m compute_calibration_curve(M_test[\u001b[38;5;124m'\u001b[39m\u001b[38;5;124mgolds\u001b[39m\u001b[38;5;124m'\u001b[39m], cal0 )\n",
      "\u001b[1;31mNameError\u001b[0m: name 'cal0' is not defined"
     ]
    }
   ],
   "source": [
    "y0, p0 = compute_calibration_curve(M_test['golds'], cal0 )\n"
   ]
  },
  {
   "cell_type": "code",
   "execution_count": null,
   "id": "24655488-4ff6-4f97-9fb9-e7c65ef7db49",
   "metadata": {
    "tags": []
   },
   "outputs": [],
   "source": [
    "import matplotlib.pyplot as plt\n",
    "\n",
    "def plotter (p_i, y_i):\n",
    "    plt.figure(figsize=(5, 5))\n",
    "    ax1 = plt.subplot2grid((3, 1), (0, 0), rowspan=2)\n",
    "    ax2 = plt.subplot2grid((3, 1), (2, 0))\n",
    "    ax1.plot(p_i, y_i, 's-')\n",
    "    ax1.plot([0, 1], [0, 1], linestyle='--', \n",
    "             color='grey', label='random guess (AUROC: 0.500)')\n",
    "    ax2.hist(p_i, bins=10, range=(0, 1))\n",
    "    ax1.set_xlim([-0.01, 1.01])\n",
    "    ax1.set_ylim([-0.01, 1.01])\n",
    "    ax1.set_xlabel('Predicted value')\n",
    "    ax1.set_ylabel('Fraction of positive')\n",
    "    ax1.set_title(\"Calibration plot\")\n",
    "    ax2.set_xlabel('Prediction probability')\n",
    "    ax2.set_ylabel('Count')\n",
    "    plt.tight_layout()\n",
    "    "
   ]
  },
  {
   "cell_type": "code",
   "execution_count": null,
   "id": "79480634-17ac-44ae-84f8-d8097e70fcca",
   "metadata": {
    "tags": []
   },
   "outputs": [],
   "source": [
    "plotter(p0, y0)"
   ]
  },
  {
   "cell_type": "code",
   "execution_count": null,
   "id": "f75fd274-e3d6-4871-94b3-318610897109",
   "metadata": {
    "tags": []
   },
   "outputs": [],
   "source": [
    "y00, p00 = compute_calibration_curve(M_test['golds'], tp0 )\n",
    "\n",
    "plotter(p00, y00)"
   ]
  },
  {
   "cell_type": "code",
   "execution_count": null,
   "id": "09711e4a-fec9-4e35-abeb-edf5a7cca586",
   "metadata": {},
   "outputs": [],
   "source": []
  },
  {
   "cell_type": "code",
   "execution_count": null,
   "id": "6592844e-4a8b-4a08-bd2f-173022e00195",
   "metadata": {
    "tags": []
   },
   "outputs": [],
   "source": [
    "plotter(p1, y1)"
   ]
  },
  {
   "cell_type": "code",
   "execution_count": null,
   "id": "264fca86-6f79-46d8-80f8-41dfe24f3ebc",
   "metadata": {
    "tags": []
   },
   "outputs": [],
   "source": [
    "plotter(p2, y2)"
   ]
  },
  {
   "cell_type": "code",
   "execution_count": null,
   "id": "64cf8bcf-0457-4d0b-a7ae-0ba73f493b90",
   "metadata": {
    "tags": []
   },
   "outputs": [],
   "source": [
    "plotter(p3, y3)"
   ]
  },
  {
   "cell_type": "code",
   "execution_count": 65,
   "id": "4b026cf1-5ba1-4f22-a602-bb332aae2ad8",
   "metadata": {
    "tags": []
   },
   "outputs": [
    {
     "data": {
      "image/png": "[encoded data removed]",
      "text/plain": [
       "<Figure size 500x500 with 2 Axes>"
      ]
     },
     "metadata": {},
     "output_type": "display_data"
    }
   ],
   "source": [
    "plotter(p4, y4)"
   ]
  },
  {
   "cell_type": "code",
   "execution_count": 120,
   "id": "981bbaf3-1a93-4618-ae9f-ffd7bc3793d9",
   "metadata": {
    "tags": []
   },
   "outputs": [],
   "source": [
    "# how many people had event within 6 months of index date"
   ]
  },
  {
   "cell_type": "code",
   "execution_count": 121,
   "id": "70e1c39d-8887-4469-832a-6d3276eeb24b",
   "metadata": {
    "tags": []
   },
   "outputs": [],
   "source": [
    "from sklearn.metrics import confusion_matrix\n",
    "\n",
    "from sklearn.metrics import roc_auc_score"
   ]
  },
  {
   "cell_type": "code",
   "execution_count": 103,
   "id": "baac2338-44a4-4842-af63-b58d2228a50d",
   "metadata": {
    "tags": []
   },
   "outputs": [
    {
     "data": {
      "text/plain": [
       "array([0, 0, 0, ..., 0, 0, 0])"
      ]
     },
     "execution_count": 103,
     "metadata": {},
     "output_type": "execute_result"
    }
   ],
   "source": [
    "tgold\n"
   ]
  },
  {
   "cell_type": "code",
   "execution_count": 104,
   "id": "09f69804-fb5f-463d-aa9a-3213371d1ff3",
   "metadata": {
    "tags": []
   },
   "outputs": [
    {
     "data": {
      "text/plain": [
       "0.7041921073688241"
      ]
     },
     "execution_count": 104,
     "metadata": {},
     "output_type": "execute_result"
    }
   ],
   "source": [
    "roc_auc_score(tgold, tp0, average = 'samples')\n"
   ]
  },
  {
   "cell_type": "code",
   "execution_count": 105,
   "id": "a85eedbc-d239-406b-aa1d-bea56adf1aca",
   "metadata": {
    "tags": []
   },
   "outputs": [
    {
     "data": {
      "text/plain": [
       "0.6467984051574288"
      ]
     },
     "execution_count": 105,
     "metadata": {},
     "output_type": "execute_result"
    }
   ],
   "source": [
    "roc_auc_score(tgold1, tp1, average = 'samples')\n"
   ]
  },
  {
   "cell_type": "code",
   "execution_count": 106,
   "id": "30372e90-cf69-48c6-976b-02e62202690f",
   "metadata": {
    "tags": []
   },
   "outputs": [
    {
     "data": {
      "text/plain": [
       "0.6168729524353275"
      ]
     },
     "execution_count": 106,
     "metadata": {},
     "output_type": "execute_result"
    }
   ],
   "source": [
    "roc_auc_score(tgold2, tp2, average = 'samples')\n"
   ]
  },
  {
   "cell_type": "code",
   "execution_count": 107,
   "id": "fd522721-5837-4651-a69d-1691d4075cc7",
   "metadata": {
    "tags": []
   },
   "outputs": [
    {
     "data": {
      "text/plain": [
       "0.6673084299413196"
      ]
     },
     "execution_count": 107,
     "metadata": {},
     "output_type": "execute_result"
    }
   ],
   "source": [
    "roc_auc_score(tgold3, tp3, average = 'samples')\n"
   ]
  },
  {
   "cell_type": "code",
   "execution_count": 108,
   "id": "fde9b0b0-1a99-4759-9fd8-ddd6868e7b63",
   "metadata": {
    "tags": []
   },
   "outputs": [
    {
     "data": {
      "text/plain": [
       "0.6831130697591268"
      ]
     },
     "execution_count": 108,
     "metadata": {},
     "output_type": "execute_result"
    }
   ],
   "source": [
    "roc_auc_score(tgold4, tp4, average = 'samples')\n"
   ]
  },
  {
   "cell_type": "code",
   "execution_count": 136,
   "id": "a2e2287b-2230-4891-8c5c-1041359cf8d1",
   "metadata": {
    "tags": []
   },
   "outputs": [
    {
     "data": {
      "text/plain": [
       "0.1324351605094734"
      ]
     },
     "execution_count": 136,
     "metadata": {},
     "output_type": "execute_result"
    }
   ],
   "source": [
    "np.mean(tgold)**.5"
   ]
  },
  {
   "cell_type": "code",
   "execution_count": 146,
   "id": "683d4d09-13b5-47be-8b88-aa79f7299a94",
   "metadata": {
    "tags": []
   },
   "outputs": [
    {
     "data": {
      "text/plain": [
       "array([[51384,  2615],\n",
       "       [  802,   162]], dtype=int64)"
      ]
     },
     "execution_count": 146,
     "metadata": {},
     "output_type": "execute_result"
    }
   ],
   "source": [
    "( confusion_matrix (tgold  , cal0>.05) )"
   ]
  },
  {
   "cell_type": "code",
   "execution_count": 109,
   "id": "cf5e7773-ab03-477f-9b39-d4eec0a5aac4",
   "metadata": {
    "tags": []
   },
   "outputs": [
    {
     "data": {
      "text/plain": [
       "array([[11363,   263],\n",
       "       [   95,     7]], dtype=int64)"
      ]
     },
     "execution_count": 109,
     "metadata": {},
     "output_type": "execute_result"
    }
   ],
   "source": [
    "( confusion_matrix (tgold4  , cal4>.5) )"
   ]
  },
  {
   "cell_type": "code",
   "execution_count": 110,
   "id": "0f8747b8-8f9c-47f1-a757-098a0c808a06",
   "metadata": {
    "tags": []
   },
   "outputs": [
    {
     "data": {
      "text/plain": [
       "array([[12448,   302],\n",
       "       [  132,     5]], dtype=int64)"
      ]
     },
     "execution_count": 110,
     "metadata": {},
     "output_type": "execute_result"
    }
   ],
   "source": [
    "( confusion_matrix (tgold3 , cal3>.5) )"
   ]
  },
  {
   "cell_type": "code",
   "execution_count": 111,
   "id": "520ed8d0-abec-4518-b860-559eda0d62e9",
   "metadata": {
    "tags": []
   },
   "outputs": [
    {
     "data": {
      "text/plain": [
       "array([[13952,    60],\n",
       "       [  208,     2]], dtype=int64)"
      ]
     },
     "execution_count": 111,
     "metadata": {},
     "output_type": "execute_result"
    }
   ],
   "source": [
    "( confusion_matrix (tgold2 , cal2>.5) )"
   ]
  },
  {
   "cell_type": "code",
   "execution_count": 112,
   "id": "e16cd310-c288-4154-9ba0-4768f1293aa9",
   "metadata": {
    "tags": []
   },
   "outputs": [
    {
     "data": {
      "text/plain": [
       "array([[15070,   541],\n",
       "       [  479,    36]], dtype=int64)"
      ]
     },
     "execution_count": 112,
     "metadata": {},
     "output_type": "execute_result"
    }
   ],
   "source": [
    "( confusion_matrix (tgold1, cal1>.5) )"
   ]
  },
  {
   "cell_type": "code",
   "execution_count": null,
   "id": "e7c66bc3-b291-46aa-ba3a-56b5d463197a",
   "metadata": {},
   "outputs": [],
   "source": []
  },
  {
   "cell_type": "code",
   "execution_count": null,
   "id": "3a0c07eb-dbcc-4996-8872-8feee488c62f",
   "metadata": {},
   "outputs": [],
   "source": []
  },
  {
   "cell_type": "code",
   "execution_count": 87,
   "id": "34d58087-adcc-4d5a-9ff3-720e89bc5fa4",
   "metadata": {
    "tags": []
   },
   "outputs": [],
   "source": [
    "def get_coef (y_prob, y_true, p_test):\n",
    "    logistic = LogisticRegression(C=1e4, solver='lbfgs')\n",
    "    logistic.fit(y_prob.reshape(-1,1), y_true)\n",
    "    coef_ = logistic.coef_[0]\n",
    "    intercept_ = logistic.intercept_\n",
    "    fit = p_test * coef_[0] + intercept_\n",
    "    return  coef_ , intercept_"
   ]
  },
  {
   "cell_type": "code",
   "execution_count": null,
   "id": "58dbb33c-0472-453d-a6e5-88c12a8fdcac",
   "metadata": {},
   "outputs": [],
   "source": []
  },
  {
   "cell_type": "code",
   "execution_count": null,
   "id": "db12adaf-b6b9-40e7-9475-77040527e170",
   "metadata": {},
   "outputs": [],
   "source": []
  },
  {
   "cell_type": "code",
   "execution_count": null,
   "id": "28235e3d-d8e2-424b-b064-e0b9d45c7881",
   "metadata": {
    "tags": []
   },
   "outputs": [],
   "source": [
    "m1.to_csv('output/XCoh_Sen.csv') "
   ]
  },
  {
   "cell_type": "code",
   "execution_count": 34,
   "id": "112b112b-b97d-4328-9fb2-a9aa34b70486",
   "metadata": {},
   "outputs": [],
   "source": [
    "#m1.to_excel('output/dxMD_Sensitivity90.xlsx') "
   ]
  },
  {
   "cell_type": "code",
   "execution_count": null,
   "id": "2e1d9a19-4dbb-4201-bcb9-8ecaaea3619a",
   "metadata": {},
   "outputs": [],
   "source": []
  }
 ],
 "metadata": {
  "kernelspec": {
   "display_name": "Python 3 (ipykernel)",
   "language": "python",
   "name": "python3"
  },
  "language_info": {
   "codemirror_mode": {
    "name": "ipython",
    "version": 3
   },
   "file_extension": ".py",
   "mimetype": "text/x-python",
   "name": "python",
   "nbconvert_exporter": "python",
   "pygments_lexer": "ipython3",
   "version": "3.11.5"
  }
 },
 "nbformat": 4,
 "nbformat_minor": 5
}
