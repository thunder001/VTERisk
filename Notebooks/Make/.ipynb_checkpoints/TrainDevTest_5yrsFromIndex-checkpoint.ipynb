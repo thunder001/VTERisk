{
 "cells": [
  {
   "cell_type": "code",
   "execution_count": 23,
   "id": "f1316d61-217f-47ff-976e-e9760b7b8363",
   "metadata": {
    "tags": []
   },
   "outputs": [],
   "source": [
    "import json\n",
    "import os\n",
    "import time\n",
    "from datetime import datetime\n",
    "\n",
    "from os.path import dirname, realpath\n",
    "import sys\n",
    "sys.path.append(dirname(dirname(realpath(os.getcwd()))))\n",
    "import pickle\n",
    "import torch\n",
    "import multiprocessing as mp\n",
    "from torch.nn.parallel import DistributedDataParallel as DDP\n",
    "from collections import Counter\n",
    "from copy import deepcopy\n",
    "import datetime\n",
    "import tqdm\n",
    "import numpy as np\n",
    "import random\n",
    "import pandas as pd\n",
    "src_path2 = \"G:\\\\FillmoreCancerData\\\\markhe\\\\VTERisk - Copy\" \n",
    "\n",
    "from collections import Counter\n",
    "sys.path.append(\"./src/\")\n",
    "\n",
    "from sklearn.metrics import confusion_matrix\n",
    "import datetime\n",
    "from bisect import bisect_left\n",
    "from itertools import compress\n",
    "\n",
    "def parse_date(date_str):\n",
    "    if date_str == 'NA' or date_str is None:\n",
    "        return datetime.datetime(9999,1,1,0,0)\n",
    "    else:\n",
    "        if len(date_str) == 10:\n",
    "            format_str = '%Y-%m-%d'\n",
    "        else:\n",
    "            raise Exception(\"Format for {} not recognized!\".format(date_str))\n",
    "    return datetime.datetime.strptime(date_str, format_str)\n",
    "VTE_path = 'Y:\\\\Fillmore_Cancer\\\\cat\\\\Users\\\\data\\\\derived\\\\vte_ml\\\\vte_ml\\\\data_for_chunlei'"
   ]
  },
  {
   "cell_type": "code",
   "execution_count": 2,
   "id": "eab9d18a-6751-4a44-9c39-4ff9165aa6e2",
   "metadata": {
    "tags": []
   },
   "outputs": [],
   "source": [
    "X_test = json.load(open(os.path.join(os.path.join(VTE_path, 'A2_CMP\\\\test2\\\\test.json')), 'r'))"
   ]
  },
  {
   "cell_type": "code",
   "execution_count": 3,
   "id": "bc724327-9e3f-420d-87ae-6e9a0c6d4420",
   "metadata": {
    "tags": []
   },
   "outputs": [],
   "source": [
    "X_dev = json.load(open(os.path.join( os.path.join(VTE_path, 'A2_CMP\\\\dev2\\\\dev.json')), 'r'))"
   ]
  },
  {
   "cell_type": "code",
   "execution_count": 4,
   "id": "41b953f9-4995-4bd2-8351-a5c8ab4df2c1",
   "metadata": {
    "tags": []
   },
   "outputs": [],
   "source": [
    "X_train = json.load(open(os.path.join( os.path.join(VTE_path, 'A2_CMP\\\\train2\\\\train.json')), 'r'))"
   ]
  },
  {
   "cell_type": "code",
   "execution_count": 6,
   "id": "5521b707-c34b-4901-b304-99ae0ccd60da",
   "metadata": {},
   "outputs": [],
   "source": [
    "#Y:\\Fillmore_Cancer\\cat\\Users\\data\\derived\\vte_ml\\vte_ml\\data_for_chunlei\\A2_CMP\\Resplit\\Y2"
   ]
  },
  {
   "cell_type": "code",
   "execution_count": null,
   "id": "6dcf56c8-989f-43ee-acbb-7884feaf9eb9",
   "metadata": {},
   "outputs": [],
   "source": []
  },
  {
   "cell_type": "code",
   "execution_count": null,
   "id": "70b245fc-6f0b-4c44-868b-797c4ca2fc54",
   "metadata": {},
   "outputs": [],
   "source": []
  },
  {
   "cell_type": "code",
   "execution_count": null,
   "id": "a90b78b4-f004-47be-a6bb-1274f0d4a8e9",
   "metadata": {},
   "outputs": [],
   "source": []
  },
  {
   "cell_type": "code",
   "execution_count": null,
   "id": "7b0aeb41-330a-43ed-9108-edc26b018ecc",
   "metadata": {
    "tags": []
   },
   "outputs": [],
   "source": [
    "dev_path = os.path.join(VTE_path, 'A2_CMP\\\\IndexDate_5yrs\\\\dev\\\\dev.json')\n",
    "test_path = os.path.join(VTE_path, 'A2_CMP\\\\IndexDate_5yrs\\\\test\\\\test.json')\n",
    "train_path = os.path.join(VTE_path, 'A2_CMP\\\\IndexDate_5yrs\\\\train\\\\train.json')\n"
   ]
  },
  {
   "cell_type": "code",
   "execution_count": null,
   "id": "52c0d569-cfa6-4f30-a75c-729aafd0203f",
   "metadata": {
    "tags": []
   },
   "outputs": [],
   "source": [
    "\n",
    "for p in X_dev.keys():\n",
    "     \n",
    "    patient = X_dev[p]\n",
    "    events = patient['events']\n",
    "    ev_dates = [parse_date(events[i]['admdate']) for i in range(len(events))]\n",
    "    valid =  [i + datetime.timedelta(5*365)> parse_date(patient['indexdate']) for i in ev_dates]\n",
    "    keep_events = list( compress(events, valid))\n",
    "    X_dev[p]['events']  = keep_events \n",
    "    "
   ]
  },
  {
   "cell_type": "code",
   "execution_count": null,
   "id": "d5cd474d-03e4-40ee-ac0a-21fe073597a5",
   "metadata": {
    "tags": []
   },
   "outputs": [],
   "source": [
    "with open(dev_path, 'w') as fwd:\n",
    "    print(\"Saving to {}\\n\".format(dev_path))\n",
    "    json.dump(X_dev, fwd, indent=None)"
   ]
  },
  {
   "cell_type": "code",
   "execution_count": null,
   "id": "5606909f-c48d-4377-9289-b1ad1846cc97",
   "metadata": {},
   "outputs": [],
   "source": []
  },
  {
   "cell_type": "code",
   "execution_count": null,
   "id": "5552930d-93aa-4eca-9f52-691c1fb59cfe",
   "metadata": {
    "tags": []
   },
   "outputs": [],
   "source": [
    "\n",
    "for p in X_test.keys():\n",
    "     \n",
    "    patient = X_test[p]\n",
    "    events = patient['events']\n",
    "    ev_dates = [parse_date(events[i]['admdate']) for i in range(len(events))]\n",
    "    valid =  [i + datetime.timedelta(5*365)> parse_date(patient['indexdate']) for i in ev_dates]\n",
    "    keep_events = list( compress(events, valid))\n",
    "    X_test[p]['events']  = keep_events \n",
    "    "
   ]
  },
  {
   "cell_type": "code",
   "execution_count": null,
   "id": "8ec57cfe-953c-4df9-b7b1-94b410428eb8",
   "metadata": {
    "tags": []
   },
   "outputs": [],
   "source": [
    "with open(test_path, 'w') as fwd:\n",
    "    print(\"Saving to {}\\n\".format(test_path))\n",
    "    json.dump(X_test, fwd, indent=None)"
   ]
  },
  {
   "cell_type": "code",
   "execution_count": null,
   "id": "8ec0df3d-dc99-4c02-8442-a9e5f49af4be",
   "metadata": {},
   "outputs": [],
   "source": []
  },
  {
   "cell_type": "code",
   "execution_count": null,
   "id": "93b312d0-009a-4a69-9be3-851b0e69a5a8",
   "metadata": {
    "tags": []
   },
   "outputs": [],
   "source": [
    "\n",
    "for p in X_train.keys():\n",
    "     \n",
    "    patient = X_train[p]\n",
    "    events = patient['events']\n",
    "    ev_dates = [parse_date(events[i]['admdate']) for i in range(len(events))]\n",
    "    valid =  [i + datetime.timedelta(5*365)> parse_date(patient['indexdate']) for i in ev_dates]\n",
    "    keep_events = list( compress(events, valid))\n",
    "    X_train[p]['events']  = keep_events "
   ]
  },
  {
   "cell_type": "code",
   "execution_count": null,
   "id": "2a07d30a-5e0d-48a6-a21c-0b6e83e3ec2f",
   "metadata": {
    "tags": []
   },
   "outputs": [],
   "source": [
    "with open(train_path, 'w') as fwd:\n",
    "    print(\"Saving to {}\\n\".format(train_path))\n",
    "    json.dump(X_train, fwd, indent=None)"
   ]
  },
  {
   "cell_type": "code",
   "execution_count": null,
   "id": "a3ea4fdf-4f08-4254-a491-06eeae3b6132",
   "metadata": {},
   "outputs": [],
   "source": []
  },
  {
   "cell_type": "code",
   "execution_count": null,
   "id": "e64b94d1-43d6-4cfc-a4e8-6c3c0c1257b9",
   "metadata": {},
   "outputs": [],
   "source": []
  },
  {
   "cell_type": "code",
   "execution_count": 34,
   "id": "dbf3d55e-437a-40d4-8c41-669b74b3bbe7",
   "metadata": {
    "tags": []
   },
   "outputs": [],
   "source": [
    "VTE_path = 'Y:\\\\Fillmore_Cancer\\\\cat\\\\Users\\\\data\\\\derived\\\\vte_ml\\\\vte_ml\\\\data_for_chunlei'"
   ]
  },
  {
   "cell_type": "code",
   "execution_count": 12,
   "id": "419358c7-41f8-4f73-81d9-754642daa86a",
   "metadata": {
    "tags": []
   },
   "outputs": [],
   "source": [
    "X_dev['1007016949']['indexdate']\n",
    "\n",
    "patient = X_dev['1007016949']\n",
    "\n",
    "events = patient['events']\n",
    "\n",
    "ev_dates = [parse_date(events[i]['admdate']) for i in range(len(events))]\n",
    "\n",
    "\n",
    "valid =  [i + datetime.timedelta(5*365)> parse_date(patient['indexdate']) for i in ev_dates]\n",
    "\n",
    "keep_events = list( compress(events, valid))\n"
   ]
  },
  {
   "cell_type": "code",
   "execution_count": null,
   "id": "7b370b08-05e3-4668-9091-b58f1503a9a3",
   "metadata": {},
   "outputs": [],
   "source": []
  }
 ],
 "metadata": {
  "kernelspec": {
   "display_name": "Python 3 (ipykernel)",
   "language": "python",
   "name": "python3"
  },
  "language_info": {
   "codemirror_mode": {
    "name": "ipython",
    "version": 3
   },
   "file_extension": ".py",
   "mimetype": "text/x-python",
   "name": "python",
   "nbconvert_exporter": "python",
   "pygments_lexer": "ipython3",
   "version": "3.11.5"
  }
 },
 "nbformat": 4,
 "nbformat_minor": 5
}
