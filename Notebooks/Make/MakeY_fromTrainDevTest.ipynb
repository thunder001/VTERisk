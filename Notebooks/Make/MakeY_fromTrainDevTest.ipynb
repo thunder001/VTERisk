{
 "cells": [
  {
   "cell_type": "code",
   "execution_count": 1,
   "id": "f1316d61-217f-47ff-976e-e9760b7b8363",
   "metadata": {
    "tags": []
   },
   "outputs": [],
   "source": [
    "import json\n",
    "import os\n",
    "import time\n",
    "from datetime import datetime\n",
    "\n",
    "from os.path import dirname, realpath\n",
    "import sys\n",
    "sys.path.append(dirname(dirname(realpath(os.getcwd()))))\n",
    "import pickle\n",
    "import torch\n",
    "import multiprocessing as mp\n",
    "from torch.nn.parallel import DistributedDataParallel as DDP\n",
    "from collections import Counter\n",
    "from copy import deepcopy\n",
    "import datetime\n",
    "import tqdm\n",
    "import numpy as np\n",
    "import random\n",
    "import pandas as pd\n",
    "src_path2 = \"G:\\\\FillmoreCancerData\\\\markhe\\\\VTERisk - Copy\" \n",
    "\n",
    "from collections import Counter\n",
    "sys.path.append(\"./src/\")\n",
    "\n",
    "from sklearn.metrics import confusion_matrix\n",
    "\n",
    "import datetime\n",
    "\n",
    "def parse_date(date_str):\n",
    "    if date_str == 'NA' or date_str is None:\n",
    "        return datetime.datetime(9999,1,1,0,0)\n",
    "    else:\n",
    "        if len(date_str) == 10:\n",
    "            format_str = '%Y-%m-%d'\n",
    "        else:\n",
    "            raise Exception(\"Format for {} not recognized!\".format(date_str))\n",
    "    return datetime.datetime.strptime(date_str, format_str)\n",
    "VTE_path = 'Y:\\\\Fillmore_Cancer\\\\cat\\\\Users\\\\data\\\\derived\\\\vte_ml\\\\vte_ml\\\\data_for_chunlei'"
   ]
  },
  {
   "cell_type": "code",
   "execution_count": 17,
   "id": "eab9d18a-6751-4a44-9c39-4ff9165aa6e2",
   "metadata": {
    "tags": []
   },
   "outputs": [],
   "source": [
    "X_test = json.load(open(os.path.join(os.path.join(VTE_path, 'A2_CMP\\\\test2\\\\test.json')), 'r'))"
   ]
  },
  {
   "cell_type": "code",
   "execution_count": 18,
   "id": "bc724327-9e3f-420d-87ae-6e9a0c6d4420",
   "metadata": {
    "tags": []
   },
   "outputs": [],
   "source": [
    "X_dev = json.load(open(os.path.join( os.path.join(VTE_path, 'A2_CMP\\\\dev2\\\\dev.json')), 'r'))"
   ]
  },
  {
   "cell_type": "code",
   "execution_count": 19,
   "id": "41b953f9-4995-4bd2-8351-a5c8ab4df2c1",
   "metadata": {
    "tags": []
   },
   "outputs": [],
   "source": [
    "X_train = json.load(open(os.path.join( os.path.join(VTE_path, 'A2_CMP\\\\train2\\\\train.json')), 'r'))"
   ]
  },
  {
   "cell_type": "code",
   "execution_count": 20,
   "id": "74119a9a-27e3-4b0e-b2da-29f0c17fcafd",
   "metadata": {
    "tags": []
   },
   "outputs": [],
   "source": [
    "def sample_from_dict(d, sample=10):\n",
    "    keys = random.sample(list(d), sample)\n",
    "    values = [d[k] for k in keys]\n",
    "    return dict(zip(keys, values))"
   ]
  },
  {
   "cell_type": "code",
   "execution_count": 4,
   "id": "5521b707-c34b-4901-b304-99ae0ccd60da",
   "metadata": {},
   "outputs": [],
   "source": [
    "#Y:\\Fillmore_Cancer\\cat\\Users\\data\\derived\\vte_ml\\vte_ml\\data_for_chunlei\\A2_CMP\\Resplit\\Y2"
   ]
  },
  {
   "cell_type": "code",
   "execution_count": 5,
   "id": "7b0aeb41-330a-43ed-9108-edc26b018ecc",
   "metadata": {
    "tags": []
   },
   "outputs": [],
   "source": [
    "dev_path = os.path.join(VTE_path, 'A2_CMP\\Resplit\\Y2\\\\dev\\\\dev.json')\n",
    "test_path = os.path.join(VTE_path, 'A2_CMP\\Resplit\\Y2\\\\test\\\\test.json')\n",
    "train_path = os.path.join(VTE_path, 'A2_CMP\\Resplit\\Y2\\\\train\\\\train.json')\n"
   ]
  },
  {
   "cell_type": "code",
   "execution_count": 21,
   "id": "a578c208-9540-47e0-a613-79cbd1243400",
   "metadata": {
    "tags": []
   },
   "outputs": [],
   "source": [
    "Y_train = sample_from_dict(X_train, 5000)"
   ]
  },
  {
   "cell_type": "code",
   "execution_count": 22,
   "id": "dda12246-170f-48e7-9fa0-f1a5fa8660dc",
   "metadata": {
    "tags": []
   },
   "outputs": [],
   "source": [
    "Y_dev = sample_from_dict(X_dev, 2500)"
   ]
  },
  {
   "cell_type": "code",
   "execution_count": 23,
   "id": "c5e18626-dabc-44ae-99bd-9f7b35279374",
   "metadata": {
    "tags": []
   },
   "outputs": [],
   "source": [
    "Y_test = sample_from_dict(X_test, 2500)"
   ]
  },
  {
   "cell_type": "code",
   "execution_count": 24,
   "id": "2a07d30a-5e0d-48a6-a21c-0b6e83e3ec2f",
   "metadata": {
    "tags": []
   },
   "outputs": [
    {
     "name": "stdout",
     "output_type": "stream",
     "text": [
      "Saving to Y:\\Fillmore_Cancer\\cat\\Users\\data\\derived\\vte_ml\\vte_ml\\data_for_chunlei\\A2_CMP\\Resplit\\Y2\\train\\train.json\n",
      "\n"
     ]
    }
   ],
   "source": [
    "with open(train_path, 'w') as fwd:\n",
    "    print(\"Saving to {}\\n\".format(train_path))\n",
    "    json.dump(Y_train, fwd, indent=None)"
   ]
  },
  {
   "cell_type": "code",
   "execution_count": 25,
   "id": "8ec57cfe-953c-4df9-b7b1-94b410428eb8",
   "metadata": {
    "tags": []
   },
   "outputs": [
    {
     "name": "stdout",
     "output_type": "stream",
     "text": [
      "Saving to Y:\\Fillmore_Cancer\\cat\\Users\\data\\derived\\vte_ml\\vte_ml\\data_for_chunlei\\A2_CMP\\test2\\test.json\n",
      "\n"
     ]
    }
   ],
   "source": [
    "with open(test_path, 'w') as fwd:\n",
    "    print(\"Saving to {}\\n\".format(test_path))\n",
    "    json.dump(Y_test, fwd, indent=None)"
   ]
  },
  {
   "cell_type": "code",
   "execution_count": 26,
   "id": "d5cd474d-03e4-40ee-ac0a-21fe073597a5",
   "metadata": {
    "tags": []
   },
   "outputs": [
    {
     "name": "stdout",
     "output_type": "stream",
     "text": [
      "Saving to Y:\\Fillmore_Cancer\\cat\\Users\\data\\derived\\vte_ml\\vte_ml\\data_for_chunlei\\A2_CMP\\Resplit\\Y2\\dev\\dev.json\n",
      "\n"
     ]
    }
   ],
   "source": [
    "with open(dev_path, 'w') as fwd:\n",
    "    print(\"Saving to {}\\n\".format(dev_path))\n",
    "    json.dump(Y_dev, fwd, indent=None)"
   ]
  },
  {
   "cell_type": "code",
   "execution_count": null,
   "id": "a3ea4fdf-4f08-4254-a491-06eeae3b6132",
   "metadata": {},
   "outputs": [],
   "source": []
  },
  {
   "cell_type": "code",
   "execution_count": null,
   "id": "e64b94d1-43d6-4cfc-a4e8-6c3c0c1257b9",
   "metadata": {},
   "outputs": [],
   "source": []
  },
  {
   "cell_type": "code",
   "execution_count": 33,
   "id": "ae9ddc63-ca24-44fb-a248-a1cc8dc8d7c1",
   "metadata": {
    "tags": []
   },
   "outputs": [],
   "source": [
    "testDF = pd.read_csv(os.path.join(src_path2, 'Notebooks/Find/fixed_dx.csv'))\n"
   ]
  },
  {
   "cell_type": "code",
   "execution_count": 53,
   "id": "e5239f06-8983-4e3b-85ee-0c1ae80808a0",
   "metadata": {
    "tags": []
   },
   "outputs": [
    {
     "data": {
      "text/html": [
       "<div>\n",
       "<style scoped>\n",
       "    .dataframe tbody tr th:only-of-type {\n",
       "        vertical-align: middle;\n",
       "    }\n",
       "\n",
       "    .dataframe tbody tr th {\n",
       "        vertical-align: top;\n",
       "    }\n",
       "\n",
       "    .dataframe thead th {\n",
       "        text-align: right;\n",
       "    }\n",
       "</style>\n",
       "<table border=\"1\" class=\"dataframe\">\n",
       "  <thead>\n",
       "    <tr style=\"text-align: right;\">\n",
       "      <th></th>\n",
       "      <th>Unnamed: 0</th>\n",
       "      <th>patient_id</th>\n",
       "      <th>outcome</th>\n",
       "      <th>dob</th>\n",
       "      <th>outcome_date</th>\n",
       "      <th>obs_time_end</th>\n",
       "      <th>index_date</th>\n",
       "      <th>dx_date</th>\n",
       "      <th>obs_time_start</th>\n",
       "      <th>diag_date</th>\n",
       "      <th>Id_diag_diff</th>\n",
       "    </tr>\n",
       "  </thead>\n",
       "  <tbody>\n",
       "    <tr>\n",
       "      <th>0</th>\n",
       "      <td>1</td>\n",
       "      <td>1004880340</td>\n",
       "      <td>False</td>\n",
       "      <td>1921-09-04</td>\n",
       "      <td>2011-02-05</td>\n",
       "      <td>2011-02-05</td>\n",
       "      <td>2006-03-24</td>\n",
       "      <td>2008-06-02</td>\n",
       "      <td>2000-06-26</td>\n",
       "      <td>2006-02-06</td>\n",
       "      <td>46</td>\n",
       "    </tr>\n",
       "    <tr>\n",
       "      <th>1</th>\n",
       "      <td>2</td>\n",
       "      <td>1014382133</td>\n",
       "      <td>True</td>\n",
       "      <td>1948-03-12</td>\n",
       "      <td>2016-11-09</td>\n",
       "      <td>2018-12-13</td>\n",
       "      <td>2016-10-21</td>\n",
       "      <td>2021-01-29</td>\n",
       "      <td>2012-06-26</td>\n",
       "      <td>2016-09-07</td>\n",
       "      <td>44</td>\n",
       "    </tr>\n",
       "    <tr>\n",
       "      <th>2</th>\n",
       "      <td>3</td>\n",
       "      <td>1002850316</td>\n",
       "      <td>False</td>\n",
       "      <td>1925-08-08</td>\n",
       "      <td>2018-03-25</td>\n",
       "      <td>2018-03-25</td>\n",
       "      <td>2017-12-29</td>\n",
       "      <td>2006-08-21</td>\n",
       "      <td>1999-10-19</td>\n",
       "      <td>2017-11-27</td>\n",
       "      <td>32</td>\n",
       "    </tr>\n",
       "    <tr>\n",
       "      <th>3</th>\n",
       "      <td>4</td>\n",
       "      <td>1040528173</td>\n",
       "      <td>False</td>\n",
       "      <td>1944-12-21</td>\n",
       "      <td>2023-03-24</td>\n",
       "      <td>2023-03-24</td>\n",
       "      <td>2021-06-02</td>\n",
       "      <td>2021-06-02</td>\n",
       "      <td>2016-10-20</td>\n",
       "      <td>2021-04-20</td>\n",
       "      <td>43</td>\n",
       "    </tr>\n",
       "    <tr>\n",
       "      <th>4</th>\n",
       "      <td>5</td>\n",
       "      <td>1012154223</td>\n",
       "      <td>False</td>\n",
       "      <td>1913-08-10</td>\n",
       "      <td>2009-01-04</td>\n",
       "      <td>2009-01-04</td>\n",
       "      <td>2008-08-28</td>\n",
       "      <td>2015-06-15</td>\n",
       "      <td>2005-05-23</td>\n",
       "      <td>2008-08-26</td>\n",
       "      <td>2</td>\n",
       "    </tr>\n",
       "    <tr>\n",
       "      <th>...</th>\n",
       "      <td>...</td>\n",
       "      <td>...</td>\n",
       "      <td>...</td>\n",
       "      <td>...</td>\n",
       "      <td>...</td>\n",
       "      <td>...</td>\n",
       "      <td>...</td>\n",
       "      <td>...</td>\n",
       "      <td>...</td>\n",
       "      <td>...</td>\n",
       "      <td>...</td>\n",
       "    </tr>\n",
       "    <tr>\n",
       "      <th>123643</th>\n",
       "      <td>123644</td>\n",
       "      <td>1007436652</td>\n",
       "      <td>False</td>\n",
       "      <td>1929-12-15</td>\n",
       "      <td>2007-12-02</td>\n",
       "      <td>2007-12-02</td>\n",
       "      <td>2007-08-09</td>\n",
       "      <td>2010-12-13</td>\n",
       "      <td>2001-11-16</td>\n",
       "      <td>2007-08-03</td>\n",
       "      <td>6</td>\n",
       "    </tr>\n",
       "    <tr>\n",
       "      <th>123644</th>\n",
       "      <td>123645</td>\n",
       "      <td>1010685565</td>\n",
       "      <td>False</td>\n",
       "      <td>1941-03-19</td>\n",
       "      <td>2019-11-13</td>\n",
       "      <td>2019-11-13</td>\n",
       "      <td>2019-10-21</td>\n",
       "      <td>2018-11-26</td>\n",
       "      <td>2016-03-25</td>\n",
       "      <td>2019-06-03</td>\n",
       "      <td>140</td>\n",
       "    </tr>\n",
       "    <tr>\n",
       "      <th>123645</th>\n",
       "      <td>123646</td>\n",
       "      <td>1003074961</td>\n",
       "      <td>False</td>\n",
       "      <td>1947-11-19</td>\n",
       "      <td>2010-06-24</td>\n",
       "      <td>2010-06-24</td>\n",
       "      <td>2009-08-18</td>\n",
       "      <td>2016-06-27</td>\n",
       "      <td>1999-10-06</td>\n",
       "      <td>2009-07-02</td>\n",
       "      <td>47</td>\n",
       "    </tr>\n",
       "    <tr>\n",
       "      <th>123646</th>\n",
       "      <td>123647</td>\n",
       "      <td>1021189617</td>\n",
       "      <td>False</td>\n",
       "      <td>1947-03-07</td>\n",
       "      <td>2021-05-03</td>\n",
       "      <td>2021-05-03</td>\n",
       "      <td>2018-05-18</td>\n",
       "      <td>2018-12-11</td>\n",
       "      <td>2013-11-06</td>\n",
       "      <td>2018-03-12</td>\n",
       "      <td>67</td>\n",
       "    </tr>\n",
       "    <tr>\n",
       "      <th>123647</th>\n",
       "      <td>123648</td>\n",
       "      <td>1013222575</td>\n",
       "      <td>False</td>\n",
       "      <td>1947-07-26</td>\n",
       "      <td>2012-11-22</td>\n",
       "      <td>2012-11-22</td>\n",
       "      <td>2012-09-19</td>\n",
       "      <td>2007-09-24</td>\n",
       "      <td>2010-11-26</td>\n",
       "      <td>2012-05-10</td>\n",
       "      <td>132</td>\n",
       "    </tr>\n",
       "  </tbody>\n",
       "</table>\n",
       "<p>123648 rows × 11 columns</p>\n",
       "</div>"
      ],
      "text/plain": [
       "        Unnamed: 0  patient_id  outcome         dob outcome_date obs_time_end  \\\n",
       "0                1  1004880340    False  1921-09-04   2011-02-05   2011-02-05   \n",
       "1                2  1014382133     True  1948-03-12   2016-11-09   2018-12-13   \n",
       "2                3  1002850316    False  1925-08-08   2018-03-25   2018-03-25   \n",
       "3                4  1040528173    False  1944-12-21   2023-03-24   2023-03-24   \n",
       "4                5  1012154223    False  1913-08-10   2009-01-04   2009-01-04   \n",
       "...            ...         ...      ...         ...          ...          ...   \n",
       "123643      123644  1007436652    False  1929-12-15   2007-12-02   2007-12-02   \n",
       "123644      123645  1010685565    False  1941-03-19   2019-11-13   2019-11-13   \n",
       "123645      123646  1003074961    False  1947-11-19   2010-06-24   2010-06-24   \n",
       "123646      123647  1021189617    False  1947-03-07   2021-05-03   2021-05-03   \n",
       "123647      123648  1013222575    False  1947-07-26   2012-11-22   2012-11-22   \n",
       "\n",
       "        index_date     dx_date obs_time_start   diag_date  Id_diag_diff  \n",
       "0       2006-03-24  2008-06-02     2000-06-26  2006-02-06            46  \n",
       "1       2016-10-21  2021-01-29     2012-06-26  2016-09-07            44  \n",
       "2       2017-12-29  2006-08-21     1999-10-19  2017-11-27            32  \n",
       "3       2021-06-02  2021-06-02     2016-10-20  2021-04-20            43  \n",
       "4       2008-08-28  2015-06-15     2005-05-23  2008-08-26             2  \n",
       "...            ...         ...            ...         ...           ...  \n",
       "123643  2007-08-09  2010-12-13     2001-11-16  2007-08-03             6  \n",
       "123644  2019-10-21  2018-11-26     2016-03-25  2019-06-03           140  \n",
       "123645  2009-08-18  2016-06-27     1999-10-06  2009-07-02            47  \n",
       "123646  2018-05-18  2018-12-11     2013-11-06  2018-03-12            67  \n",
       "123647  2012-09-19  2007-09-24     2010-11-26  2012-05-10           132  \n",
       "\n",
       "[123648 rows x 11 columns]"
      ]
     },
     "execution_count": 53,
     "metadata": {},
     "output_type": "execute_result"
    }
   ],
   "source": [
    "testDF"
   ]
  },
  {
   "cell_type": "code",
   "execution_count": 34,
   "id": "dbf3d55e-437a-40d4-8c41-669b74b3bbe7",
   "metadata": {
    "tags": []
   },
   "outputs": [],
   "source": [
    "VTE_path = 'Y:\\\\Fillmore_Cancer\\\\cat\\\\Users\\\\data\\\\derived\\\\vte_ml\\\\vte_ml\\\\data_for_chunlei'"
   ]
  },
  {
   "cell_type": "code",
   "execution_count": 57,
   "id": "79c3b7bd-b4be-4092-9975-cab761b809bd",
   "metadata": {
    "tags": []
   },
   "outputs": [
    {
     "name": "stderr",
     "output_type": "stream",
     "text": [
      "C:\\Users\\VHANYNHeT\\AppData\\Local\\Temp\\2\\ipykernel_16324\\1629420586.py:6: SettingWithCopyWarning: \n",
      "A value is trying to be set on a copy of a slice from a DataFrame.\n",
      "Try using .loc[row_indexer,col_indexer] = value instead\n",
      "\n",
      "See the caveats in the documentation: https://pandas.pydata.org/pandas-docs/stable/user_guide/indexing.html#returning-a-view-versus-a-copy\n",
      "  m_VE0[\"outcome\"] = m_VE0[\"outcome\"].replace(True, False)\n",
      "C:\\Users\\VHANYNHeT\\AppData\\Local\\Temp\\2\\ipykernel_16324\\1629420586.py:11: SettingWithCopyWarning: \n",
      "A value is trying to be set on a copy of a slice from a DataFrame.\n",
      "Try using .loc[row_indexer,col_indexer] = value instead\n",
      "\n",
      "See the caveats in the documentation: https://pandas.pydata.org/pandas-docs/stable/user_guide/indexing.html#returning-a-view-versus-a-copy\n",
      "  m_VE0['model_date'] = pd.to_datetime(m_VE0['index_date']) + datetime.timedelta(730)\n",
      "C:\\Users\\VHANYNHeT\\AppData\\Local\\Temp\\2\\ipykernel_16324\\1629420586.py:12: SettingWithCopyWarning: \n",
      "A value is trying to be set on a copy of a slice from a DataFrame.\n",
      "Try using .loc[row_indexer,col_indexer] = value instead\n",
      "\n",
      "See the caveats in the documentation: https://pandas.pydata.org/pandas-docs/stable/user_guide/indexing.html#returning-a-view-versus-a-copy\n",
      "  m_VE0['PatICN'] =  m_VE0.patient_id.astype(str)\n"
     ]
    }
   ],
   "source": [
    "m = testDF[[\"patient_id\", \"index_date\",\"diag_date\", \"obs_time_end\",  \"outcome\",\"outcome_date\" ]]\n",
    "\n",
    "m_VE = m[ m['outcome'] ]\n",
    "m_VE1 = m_VE [   (pd.to_datetime( m_VE[\"outcome_date\"] ) -pd.to_datetime( m_VE[\"index_date\"] )) < datetime.timedelta(730)]\n",
    "m_VE0 = m_VE [   (pd.to_datetime( m_VE[\"outcome_date\"] ) -pd.to_datetime( m_VE[\"index_date\"] )) >= datetime.timedelta(730)]\n",
    "m_VE0[\"outcome\"] = m_VE0[\"outcome\"].replace(True, False)  \n",
    "m0= m[ ~ m['outcome'] ]\n",
    "m1 = pd.concat([m_VE1, m_VE0, m0])\n",
    "m1['PatICN'] =  m1.patient_id.astype(str)\n",
    "\n",
    "m_VE0['model_date'] = pd.to_datetime(m_VE0['index_date']) + datetime.timedelta(730)\n",
    "m_VE0['PatICN'] =  m_VE0.patient_id.astype(str)"
   ]
  },
  {
   "cell_type": "code",
   "execution_count": 58,
   "id": "68753bc4-6251-4f07-bade-b848a9fef62f",
   "metadata": {
    "tags": []
   },
   "outputs": [
    {
     "data": {
      "text/html": [
       "<div>\n",
       "<style scoped>\n",
       "    .dataframe tbody tr th:only-of-type {\n",
       "        vertical-align: middle;\n",
       "    }\n",
       "\n",
       "    .dataframe tbody tr th {\n",
       "        vertical-align: top;\n",
       "    }\n",
       "\n",
       "    .dataframe thead th {\n",
       "        text-align: right;\n",
       "    }\n",
       "</style>\n",
       "<table border=\"1\" class=\"dataframe\">\n",
       "  <thead>\n",
       "    <tr style=\"text-align: right;\">\n",
       "      <th></th>\n",
       "      <th>patient_id</th>\n",
       "      <th>index_date</th>\n",
       "      <th>diag_date</th>\n",
       "      <th>obs_time_end</th>\n",
       "      <th>outcome</th>\n",
       "      <th>outcome_date</th>\n",
       "      <th>model_date</th>\n",
       "      <th>PatICN</th>\n",
       "    </tr>\n",
       "  </thead>\n",
       "  <tbody>\n",
       "    <tr>\n",
       "      <th>42</th>\n",
       "      <td>1003403917</td>\n",
       "      <td>2008-08-08</td>\n",
       "      <td>2008-05-20</td>\n",
       "      <td>2023-03-31</td>\n",
       "      <td>False</td>\n",
       "      <td>2014-02-27</td>\n",
       "      <td>2010-08-08</td>\n",
       "      <td>1003403917</td>\n",
       "    </tr>\n",
       "    <tr>\n",
       "      <th>81</th>\n",
       "      <td>1005750539</td>\n",
       "      <td>2008-08-16</td>\n",
       "      <td>2008-02-11</td>\n",
       "      <td>2015-04-21</td>\n",
       "      <td>False</td>\n",
       "      <td>2015-01-12</td>\n",
       "      <td>2010-08-16</td>\n",
       "      <td>1005750539</td>\n",
       "    </tr>\n",
       "    <tr>\n",
       "      <th>131</th>\n",
       "      <td>1003885905</td>\n",
       "      <td>2008-12-15</td>\n",
       "      <td>2007-12-28</td>\n",
       "      <td>2023-05-16</td>\n",
       "      <td>False</td>\n",
       "      <td>2016-04-05</td>\n",
       "      <td>2010-12-15</td>\n",
       "      <td>1003885905</td>\n",
       "    </tr>\n",
       "    <tr>\n",
       "      <th>159</th>\n",
       "      <td>1008201009</td>\n",
       "      <td>2010-04-13</td>\n",
       "      <td>2010-03-04</td>\n",
       "      <td>2015-04-10</td>\n",
       "      <td>False</td>\n",
       "      <td>2014-03-03</td>\n",
       "      <td>2012-04-12</td>\n",
       "      <td>1008201009</td>\n",
       "    </tr>\n",
       "    <tr>\n",
       "      <th>191</th>\n",
       "      <td>1005967537</td>\n",
       "      <td>2020-04-09</td>\n",
       "      <td>2020-01-13</td>\n",
       "      <td>2023-05-03</td>\n",
       "      <td>False</td>\n",
       "      <td>2023-03-21</td>\n",
       "      <td>2022-04-09</td>\n",
       "      <td>1005967537</td>\n",
       "    </tr>\n",
       "    <tr>\n",
       "      <th>...</th>\n",
       "      <td>...</td>\n",
       "      <td>...</td>\n",
       "      <td>...</td>\n",
       "      <td>...</td>\n",
       "      <td>...</td>\n",
       "      <td>...</td>\n",
       "      <td>...</td>\n",
       "      <td>...</td>\n",
       "    </tr>\n",
       "    <tr>\n",
       "      <th>123527</th>\n",
       "      <td>1018836377</td>\n",
       "      <td>2016-12-27</td>\n",
       "      <td>2016-11-02</td>\n",
       "      <td>2023-05-23</td>\n",
       "      <td>False</td>\n",
       "      <td>2020-02-04</td>\n",
       "      <td>2018-12-27</td>\n",
       "      <td>1018836377</td>\n",
       "    </tr>\n",
       "    <tr>\n",
       "      <th>123542</th>\n",
       "      <td>1004145178</td>\n",
       "      <td>2017-09-08</td>\n",
       "      <td>2017-07-12</td>\n",
       "      <td>2020-08-27</td>\n",
       "      <td>False</td>\n",
       "      <td>2019-09-27</td>\n",
       "      <td>2019-09-08</td>\n",
       "      <td>1004145178</td>\n",
       "    </tr>\n",
       "    <tr>\n",
       "      <th>123565</th>\n",
       "      <td>1012258117</td>\n",
       "      <td>2015-03-12</td>\n",
       "      <td>2014-11-03</td>\n",
       "      <td>2023-05-01</td>\n",
       "      <td>False</td>\n",
       "      <td>2017-06-12</td>\n",
       "      <td>2017-03-11</td>\n",
       "      <td>1012258117</td>\n",
       "    </tr>\n",
       "    <tr>\n",
       "      <th>123570</th>\n",
       "      <td>1003443658</td>\n",
       "      <td>2010-03-10</td>\n",
       "      <td>2010-02-11</td>\n",
       "      <td>2018-01-26</td>\n",
       "      <td>False</td>\n",
       "      <td>2015-07-15</td>\n",
       "      <td>2012-03-09</td>\n",
       "      <td>1003443658</td>\n",
       "    </tr>\n",
       "    <tr>\n",
       "      <th>123572</th>\n",
       "      <td>1003760187</td>\n",
       "      <td>2006-08-29</td>\n",
       "      <td>2006-06-05</td>\n",
       "      <td>2009-03-09</td>\n",
       "      <td>False</td>\n",
       "      <td>2008-12-31</td>\n",
       "      <td>2008-08-28</td>\n",
       "      <td>1003760187</td>\n",
       "    </tr>\n",
       "  </tbody>\n",
       "</table>\n",
       "<p>4042 rows × 8 columns</p>\n",
       "</div>"
      ],
      "text/plain": [
       "        patient_id  index_date   diag_date obs_time_end  outcome outcome_date  \\\n",
       "42      1003403917  2008-08-08  2008-05-20   2023-03-31    False   2014-02-27   \n",
       "81      1005750539  2008-08-16  2008-02-11   2015-04-21    False   2015-01-12   \n",
       "131     1003885905  2008-12-15  2007-12-28   2023-05-16    False   2016-04-05   \n",
       "159     1008201009  2010-04-13  2010-03-04   2015-04-10    False   2014-03-03   \n",
       "191     1005967537  2020-04-09  2020-01-13   2023-05-03    False   2023-03-21   \n",
       "...            ...         ...         ...          ...      ...          ...   \n",
       "123527  1018836377  2016-12-27  2016-11-02   2023-05-23    False   2020-02-04   \n",
       "123542  1004145178  2017-09-08  2017-07-12   2020-08-27    False   2019-09-27   \n",
       "123565  1012258117  2015-03-12  2014-11-03   2023-05-01    False   2017-06-12   \n",
       "123570  1003443658  2010-03-10  2010-02-11   2018-01-26    False   2015-07-15   \n",
       "123572  1003760187  2006-08-29  2006-06-05   2009-03-09    False   2008-12-31   \n",
       "\n",
       "       model_date      PatICN  \n",
       "42     2010-08-08  1003403917  \n",
       "81     2010-08-16  1005750539  \n",
       "131    2010-12-15  1003885905  \n",
       "159    2012-04-12  1008201009  \n",
       "191    2022-04-09  1005967537  \n",
       "...           ...         ...  \n",
       "123527 2018-12-27  1018836377  \n",
       "123542 2019-09-08  1004145178  \n",
       "123565 2017-03-11  1012258117  \n",
       "123570 2012-03-09  1003443658  \n",
       "123572 2008-08-28  1003760187  \n",
       "\n",
       "[4042 rows x 8 columns]"
      ]
     },
     "execution_count": 58,
     "metadata": {},
     "output_type": "execute_result"
    }
   ],
   "source": [
    "m_VE0"
   ]
  },
  {
   "cell_type": "code",
   "execution_count": 59,
   "id": "fbf36eb1-a940-4154-98c4-03c5a6f635a5",
   "metadata": {
    "tags": []
   },
   "outputs": [],
   "source": [
    "p = '1004690584'"
   ]
  },
  {
   "cell_type": "code",
   "execution_count": 69,
   "id": "efbab69f-ce01-46f0-97f5-cf787afd82c1",
   "metadata": {
    "tags": []
   },
   "outputs": [],
   "source": [
    "Y = X"
   ]
  },
  {
   "cell_type": "code",
   "execution_count": 70,
   "id": "45c519d5-6481-4717-8330-6991a78d6097",
   "metadata": {
    "tags": []
   },
   "outputs": [],
   "source": [
    "\n",
    "for p in Y.keys():\n",
    "    \n",
    "    Y[p]['dxdate'] =  m1 [ m1 ['PatICN']==p ]['diag_date'].values[0]\n",
    "\n",
    "    if sum( p  ==  m_VE0.PatICN ) ==1 :\n",
    "        m_p = m_VE0[  p  ==  m_VE0.PatICN ] \n",
    "        Yp = Y[p]['events']\n",
    "\n",
    "        m_date = m_p['model_date'].astype('datetime64[ns]')\n",
    "        Yp_f = filter(lambda x: parse_date(x['admdate']) < m_date.ravel()[0] , Yp)\n",
    "        Yp_new = list( Yp_f)\n",
    "        Y[p]['events']  = Yp_new \n",
    "    "
   ]
  },
  {
   "cell_type": "code",
   "execution_count": 71,
   "id": "bdc3cac0-24e2-467a-b6df-804013cfff3f",
   "metadata": {
    "tags": []
   },
   "outputs": [],
   "source": [
    "os.mkdir(os.path.join(VTE_path, 'A2_CMP\\\\dev2'))"
   ]
  },
  {
   "cell_type": "code",
   "execution_count": 72,
   "id": "38021f62-ebf3-439c-8570-99a4efa1ef6a",
   "metadata": {},
   "outputs": [],
   "source": [
    "adjdev = os.path.join(VTE_path, 'A2_CMP\\\\dev2\\\\dev.json')\n"
   ]
  },
  {
   "cell_type": "code",
   "execution_count": 75,
   "id": "cf5598e0-b772-41c6-a614-c3fa4f2f376d",
   "metadata": {},
   "outputs": [
    {
     "name": "stdout",
     "output_type": "stream",
     "text": [
      "Saving to Y:\\Fillmore_Cancer\\cat\\Users\\data\\derived\\vte_ml\\vte_ml\\data_for_chunlei\\A2_CMP\\dev2\\dev.json\n",
      "\n"
     ]
    }
   ],
   "source": [
    "with open(adjdev, 'w') as fwd:\n",
    "    print(\"Saving to {}\\n\".format(adjdev))\n",
    "    json.dump(Y, fwd, indent=None)"
   ]
  },
  {
   "cell_type": "code",
   "execution_count": 74,
   "id": "59cd3597-9657-4555-bf9c-3da459f8d914",
   "metadata": {},
   "outputs": [
    {
     "data": {
      "text/plain": [
       "'Y:\\\\Fillmore_Cancer\\\\cat\\\\Users\\\\data\\\\derived\\\\vte_ml\\\\vte_ml\\\\data_for_chunlei\\\\A2_CMP\\\\dev\\\\dev.json'"
      ]
     },
     "execution_count": 74,
     "metadata": {},
     "output_type": "execute_result"
    }
   ],
   "source": [
    "test_path"
   ]
  },
  {
   "cell_type": "code",
   "execution_count": null,
   "id": "7b370b08-05e3-4668-9091-b58f1503a9a3",
   "metadata": {},
   "outputs": [],
   "source": []
  }
 ],
 "metadata": {
  "kernelspec": {
   "display_name": "Python 3 (ipykernel)",
   "language": "python",
   "name": "python3"
  },
  "language_info": {
   "codemirror_mode": {
    "name": "ipython",
    "version": 3
   },
   "file_extension": ".py",
   "mimetype": "text/x-python",
   "name": "python",
   "nbconvert_exporter": "python",
   "pygments_lexer": "ipython3",
   "version": "3.11.5"
  }
 },
 "nbformat": 4,
 "nbformat_minor": 5
}
