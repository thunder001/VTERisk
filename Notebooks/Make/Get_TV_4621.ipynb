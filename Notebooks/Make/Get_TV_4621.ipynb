{
 "cells": [
  {
   "cell_type": "code",
   "execution_count": null,
   "id": "1c778d21-3a48-4222-85be-1edd0a686209",
   "metadata": {
    "tags": []
   },
   "outputs": [],
   "source": [
    "import json\n",
    "import os\n",
    "import time\n",
    "from datetime import datetime\n",
    " \n",
    "from os.path import dirname, realpath\n",
    "import sys\n",
    "sys.path.append(dirname(dirname(realpath(os.getcwd()))))\n",
    "import pickle\n",
    "import torch\n",
    "import multiprocessing as mp\n",
    "from torch.nn.parallel import DistributedDataParallel as DDP\n",
    "from collections import Counter\n",
    "from copy import deepcopy\n",
    "import datetime\n",
    "import tqdm\n",
    "import numpy as np\n",
    "import random\n",
    "import pandas as pd\n",
    "\n",
    "from collections import Counter\n",
    "sys.path.append(\"./src/\")\n",
    "src_path2 = \"G:\\\\FillmoreCancerData\\\\markhe\\\\VTERisk - Copy\" \n",
    "\n",
    "def parse_date(date_str):\n",
    "    if date_str == 'NA' or date_str is None:\n",
    "        return datetime.datetime(9999,1,1,0,0)\n",
    "    else:\n",
    "        if len(date_str) == 10:\n",
    "            format_str = '%Y-%m-%d'\n",
    "        else:\n",
    "            raise Exception(\"Format for {} not recognized!\".format(date_str))\n",
    "    return datetime.datetime.strptime(date_str, format_str)"
   ]
  },
  {
   "cell_type": "code",
   "execution_count": null,
   "id": "a19db52f-53b4-4166-8d21-fe28fc8a544c",
   "metadata": {},
   "outputs": [],
   "source": [
    "\\\\vacrrdevmavdi01.vha.med.va.gov\\MAVDEV1\\Fillmore_Cancer\\cat\\Users\\data\\derived\\vte_ml\\vte_ml\\data_for_chunlei"
   ]
  },
  {
   "cell_type": "code",
   "execution_count": null,
   "id": "be225f11-4f61-4b1e-b566-173a24aab3f8",
   "metadata": {
    "tags": []
   },
   "outputs": [],
   "source": []
  },
  {
   "cell_type": "code",
   "execution_count": null,
   "id": "da626ea8-6201-4a34-be5f-9ac0bfa465ca",
   "metadata": {
    "tags": []
   },
   "outputs": [],
   "source": [
    "VTE_path = \"//vacrrdevmavdi01.vha.med.va.gov/MAVDEV1/Fillmore_Cancer/cat/Users/data/derived/vte_ml/vte_ml/data_for_chunlei/\"\n"
   ]
  },
  {
   "cell_type": "code",
   "execution_count": null,
   "id": "60812a1e-810a-494c-9f12-a953ec19a18a",
   "metadata": {
    "tags": []
   },
   "outputs": [],
   "source": [
    "os.chdir(VTE_path)"
   ]
  },
  {
   "cell_type": "code",
   "execution_count": null,
   "id": "e0637211-4d23-45c5-a681-6fbf7014e343",
   "metadata": {
    "tags": []
   },
   "outputs": [],
   "source": [
    "Y = json.load(open(os.path.join(VTE_path, 'data_20240229_final.json'), 'r'))"
   ]
  },
  {
   "cell_type": "code",
   "execution_count": null,
   "id": "64dd2a93-35e2-4723-b5eb-b81cc162e16d",
   "metadata": {},
   "outputs": [],
   "source": []
  },
  {
   "cell_type": "code",
   "execution_count": null,
   "id": "5a849936-efc7-4659-b7f2-d6ce21e4c893",
   "metadata": {
    "tags": []
   },
   "outputs": [],
   "source": [
    "demo_path = \"//vacrrdevmavdi01.vha.med.va.gov/MAVDEV1/Fillmore_Cancer/cat/Users/data_from_vinci/dvt_cancer_20230613/data_for_tf_model/\"\n"
   ]
  },
  {
   "cell_type": "code",
   "execution_count": null,
   "id": "16cd1dcd-4428-4ca4-ab79-4585904fcabe",
   "metadata": {
    "tags": []
   },
   "outputs": [],
   "source": [
    "demo = pd.read_csv(os.path.join(demo_path, 'demo//demo_TV23_4621.csv'))\n"
   ]
  },
  {
   "cell_type": "code",
   "execution_count": 31,
   "id": "7436a36a-edfa-4fd0-8e82-1d98c28fec93",
   "metadata": {
    "tags": []
   },
   "outputs": [
    {
     "data": {
      "text/plain": [
       "0       1000654400\n",
       "1       1000663070\n",
       "2       1000669517\n",
       "3       1000671950\n",
       "4       1000679493\n",
       "           ...    \n",
       "4616    1049346345\n",
       "4617    1049619917\n",
       "4618    1049718110\n",
       "4619    1049862886\n",
       "4620    1049913465\n",
       "Name: PatientICN, Length: 4621, dtype: int64"
      ]
     },
     "execution_count": 31,
     "metadata": {},
     "output_type": "execute_result"
    }
   ],
   "source": [
    "demo['PatientICN']"
   ]
  },
  {
   "cell_type": "code",
   "execution_count": 51,
   "id": "33b08290-c5ff-4561-878d-56b46b8fbb15",
   "metadata": {
    "tags": []
   },
   "outputs": [],
   "source": [
    "Pats =   str(demo['PatientICN'] )"
   ]
  },
  {
   "cell_type": "code",
   "execution_count": 52,
   "id": "ee12b16c-2832-4f08-ab91-fb7397df57bc",
   "metadata": {
    "tags": []
   },
   "outputs": [
    {
     "data": {
      "text/plain": [
       "'0       1000654400\\n1       1000663070\\n2       1000669517\\n3       1000671950\\n4       1000679493\\n           ...    \\n4616    1049346345\\n4617    1049619917\\n4618    1049718110\\n4619    1049862886\\n4620    1049913465\\nName: PatientICN, Length: 4621, dtype: int64'"
      ]
     },
     "execution_count": 52,
     "metadata": {},
     "output_type": "execute_result"
    }
   ],
   "source": [
    "Pats"
   ]
  },
  {
   "cell_type": "code",
   "execution_count": 53,
   "id": "a0796275-a877-4e05-9db7-5de0eeffca9e",
   "metadata": {
    "tags": []
   },
   "outputs": [
    {
     "data": {
      "text/plain": [
       "'1000654400'"
      ]
     },
     "execution_count": 53,
     "metadata": {},
     "output_type": "execute_result"
    }
   ],
   "source": [
    "str(demo['PatientICN'][0] )"
   ]
  },
  {
   "cell_type": "code",
   "execution_count": 58,
   "id": "adb3f42d-e72f-430d-a41a-6e65d74cf642",
   "metadata": {
    "tags": []
   },
   "outputs": [
    {
     "ename": "KeyError",
     "evalue": "'0'",
     "output_type": "error",
     "traceback": [
      "\u001b[1;31m---------------------------------------------------------------------------\u001b[0m",
      "\u001b[1;31mKeyError\u001b[0m                                  Traceback (most recent call last)",
      "Cell \u001b[1;32mIn[58], line 1\u001b[0m\n\u001b[1;32m----> 1\u001b[0m TV_set \u001b[38;5;241m=\u001b[39m {p: Y[p] \u001b[38;5;28;01mfor\u001b[39;00m p \u001b[38;5;129;01min\u001b[39;00m Pats}\n",
      "Cell \u001b[1;32mIn[58], line 1\u001b[0m, in \u001b[0;36m<dictcomp>\u001b[1;34m(.0)\u001b[0m\n\u001b[1;32m----> 1\u001b[0m TV_set \u001b[38;5;241m=\u001b[39m {p: Y[p] \u001b[38;5;28;01mfor\u001b[39;00m p \u001b[38;5;129;01min\u001b[39;00m Pats}\n",
      "\u001b[1;31mKeyError\u001b[0m: '0'"
     ]
    }
   ],
   "source": [
    "TV_set = {p: Y[p] for p in Pats}\n"
   ]
  },
  {
   "cell_type": "code",
   "execution_count": 57,
   "id": "e9996791-a428-4f18-8ddf-2064b720b751",
   "metadata": {
    "tags": []
   },
   "outputs": [],
   "source": [
    "TV = []\n",
    "for p in demo['PatientICN']:\n",
    "    pat = str(p)\n",
    "    Y[pat]"
   ]
  },
  {
   "cell_type": "code",
   "execution_count": null,
   "id": "ff39cb49-3f4a-43ea-af86-0ff30d94062d",
   "metadata": {},
   "outputs": [],
   "source": []
  },
  {
   "cell_type": "code",
   "execution_count": 45,
   "id": "5aa4c0cd-3881-4c86-a1b5-7aec9e313df7",
   "metadata": {
    "tags": []
   },
   "outputs": [],
   "source": [
    "p0 = demo['PatientICN'][0]"
   ]
  },
  {
   "cell_type": "code",
   "execution_count": 46,
   "id": "bf238ead-b4e2-449a-9bea-ad73b3bcbb09",
   "metadata": {
    "tags": []
   },
   "outputs": [
    {
     "data": {
      "text/plain": [
       "1000654400"
      ]
     },
     "execution_count": 46,
     "metadata": {},
     "output_type": "execute_result"
    }
   ],
   "source": [
    "p0"
   ]
  },
  {
   "cell_type": "code",
   "execution_count": 48,
   "id": "9a241345-f0dc-4476-b2e7-237e0dc7c4d5",
   "metadata": {
    "tags": []
   },
   "outputs": [
    {
     "ename": "NameError",
     "evalue": "name 'char' is not defined",
     "output_type": "error",
     "traceback": [
      "\u001b[1;31m---------------------------------------------------------------------------\u001b[0m",
      "\u001b[1;31mNameError\u001b[0m                                 Traceback (most recent call last)",
      "Cell \u001b[1;32mIn[48], line 1\u001b[0m\n\u001b[1;32m----> 1\u001b[0m char(p0)\n",
      "\u001b[1;31mNameError\u001b[0m: name 'char' is not defined"
     ]
    }
   ],
   "source": [
    "char(p0)"
   ]
  },
  {
   "cell_type": "code",
   "execution_count": null,
   "id": "4ff2b170-4c50-48c8-8284-6201a1113035",
   "metadata": {},
   "outputs": [],
   "source": []
  }
 ],
 "metadata": {
  "kernelspec": {
   "display_name": "Python 3 (ipykernel)",
   "language": "python",
   "name": "python3"
  },
  "language_info": {
   "codemirror_mode": {
    "name": "ipython",
    "version": 3
   },
   "file_extension": ".py",
   "mimetype": "text/x-python",
   "name": "python",
   "nbconvert_exporter": "python",
   "pygments_lexer": "ipython3",
   "version": "3.11.5"
  }
 },
 "nbformat": 4,
 "nbformat_minor": 5
}
