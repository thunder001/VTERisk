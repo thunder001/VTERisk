{
 "cells": [
  {
   "cell_type": "code",
   "execution_count": 7,
   "id": "5e20bf8b-01ea-49c6-8a49-d1356b58c990",
   "metadata": {
    "tags": []
   },
   "outputs": [],
   "source": [
    "import pandas as pd\n",
    "import random\n",
    "import os\n",
    "import json\n",
    "import gc\n",
    "import datetime\n",
    "import copy"
   ]
  },
  {
   "cell_type": "code",
   "execution_count": null,
   "id": "248a27b0-8d3a-436e-8334-9e570875d627",
   "metadata": {},
   "outputs": [],
   "source": []
  },
  {
   "cell_type": "code",
   "execution_count": 8,
   "id": "4be30366-cba4-4d65-b6bc-da96a922fb54",
   "metadata": {
    "tags": []
   },
   "outputs": [],
   "source": [
    "VTE_path =\"//vacrrdevmavdi01.vha.med.va.gov/MAVDEV1/Fillmore_Cancer/cat/Users/data_from_vinci/dvt_cancer_20230613/data_for_tf_model/processed/Phe_filtered\"\n"
   ]
  },
  {
   "cell_type": "code",
   "execution_count": 9,
   "id": "748c3000-3fb7-4979-9137-645e6da5f1c6",
   "metadata": {
    "tags": []
   },
   "outputs": [],
   "source": [
    "X1 = json.load(open(os.path.join(VTE_path, 'X_1.json'), 'r'))\n",
    "X2 = json.load(open(os.path.join(VTE_path, 'X_2.json'), 'r'))\n",
    "X3 = json.load(open(os.path.join(VTE_path, 'X_3.json'), 'r'))\n",
    "X4 = json.load(open(os.path.join(VTE_path, 'X_4.json'), 'r'))\n",
    "X5 = json.load(open(os.path.join(VTE_path, 'X_5.json'), 'r'))"
   ]
  },
  {
   "cell_type": "code",
   "execution_count": 10,
   "id": "5969c20e-bf99-40d0-84aa-028edd23c875",
   "metadata": {
    "tags": []
   },
   "outputs": [],
   "source": [
    "\n",
    "Xtot =  {**X1, **X2, **X3,**X4, \n",
    "         **X5}"
   ]
  },
  {
   "cell_type": "code",
   "execution_count": 12,
   "id": "78ac8a3f-9fe8-4bdc-bd17-1e123bf713f7",
   "metadata": {
    "tags": []
   },
   "outputs": [],
   "source": [
    "json.dump(Xtot, open(os.path.join(VTE_path, 'Phe_f.json'), 'w'))"
   ]
  },
  {
   "cell_type": "code",
   "execution_count": null,
   "id": "dbccf6dd-7908-43b9-a55a-36907fc46074",
   "metadata": {},
   "outputs": [],
   "source": []
  }
 ],
 "metadata": {
  "kernelspec": {
   "display_name": "Python 3 (ipykernel)",
   "language": "python",
   "name": "python3"
  },
  "language_info": {
   "codemirror_mode": {
    "name": "ipython",
    "version": 3
   },
   "file_extension": ".py",
   "mimetype": "text/x-python",
   "name": "python",
   "nbconvert_exporter": "python",
   "pygments_lexer": "ipython3",
   "version": "3.11.5"
  }
 },
 "nbformat": 4,
 "nbformat_minor": 5
}
