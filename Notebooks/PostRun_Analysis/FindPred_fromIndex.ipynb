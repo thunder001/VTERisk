{
 "cells": [
  {
   "cell_type": "code",
   "execution_count": 1,
   "id": "e80fca33-a457-4e83-baaf-dc134ac94a62",
   "metadata": {
    "tags": []
   },
   "outputs": [],
   "source": [
    "import json\n",
    "from collections import Counter\n",
    "from tqdm import tqdm\n",
    "import pickle\n",
    "import numpy as np\n",
    "import pandas as pd\n",
    "pd.options.display.max_colwidth = 100\n",
    "import matplotlib\n",
    "matplotlib.use('Agg')\n",
    "import seaborn as sns\n",
    "import matplotlib.pyplot as plt\n",
    "from matplotlib.gridspec import GridSpec\n",
    "import sys\n",
    "import os\n",
    "import argparse\n",
    "from os.path import dirname, realpath\n",
    "\n",
    "import hashlib\n",
    "import datetime\n",
    "import datetime as datetime\n",
    "import sklearn\n",
    "import statistics\n",
    "sys.path.append(\"./src/\")\n",
    "#from disrisknet.utils.parsing import parse_args\n",
    "import pdb\n",
    "\n",
    "src_path = \"G:\\\\FillmoreCancerData\\\\markhe\\\\VTERisk\" \n",
    "src_path2 = \"G:\\\\FillmoreCancerData\\\\markhe\\\\VTERisk - Copy\" \n",
    "\n",
    "def md5(key):\n",
    "    return hashlib.md5(repr(key).encode()).hexdigest()\n",
    "\n",
    "from sklearn.metrics import confusion_matrix"
   ]
  },
  {
   "cell_type": "code",
   "execution_count": 2,
   "id": "b604bdf1-e06a-4abc-b6a7-53801e671dab",
   "metadata": {
    "tags": []
   },
   "outputs": [],
   "source": [
    "testDF = pd.read_csv(os.path.join(src_path2, 'Notebooks/Find/allChars_DF.csv'))\n",
    "from sklearn.metrics import confusion_matrix\n"
   ]
  },
  {
   "cell_type": "code",
   "execution_count": 3,
   "id": "0dc20797-4425-4c1c-8775-0bbb7e83e7c8",
   "metadata": {},
   "outputs": [],
   "source": [
    "logpath = os.path.join(src_path ,'logs_transformer_vte/F/Ran10_15/Index', \"929e0ce070ea788e9df2c5d0f393347d.results.test_preds\")\n"
   ]
  },
  {
   "cell_type": "code",
   "execution_count": 4,
   "id": "4afa1b12-291d-4729-bf94-5e97ff8b9031",
   "metadata": {
    "tags": []
   },
   "outputs": [],
   "source": [
    " \n",
    "with open(logpath, 'rb') as f:\n",
    "    R6 = pickle.load(f)\n",
    "    p6 = np.array(R6['probs'])\n",
    "\n",
    "pat_ids = (testDF['patient_id'] ).astype(int)\n",
    " "
   ]
  },
  {
   "cell_type": "code",
   "execution_count": 5,
   "id": "22775410-99ea-4402-a4e3-03aeac5177c6",
   "metadata": {
    "tags": []
   },
   "outputs": [
    {
     "data": {
      "text/plain": [
       "dict_keys(['golds', 'probs', 'patient_golds', 'exams', 'pids', 'dates', 'censor_times', 'days_to_final_censors'])"
      ]
     },
     "execution_count": 5,
     "metadata": {},
     "output_type": "execute_result"
    }
   ],
   "source": [
    "R6.keys()"
   ]
  },
  {
   "cell_type": "code",
   "execution_count": 29,
   "id": "d4907dcb-602c-4908-913b-f99676745ec9",
   "metadata": {
    "tags": []
   },
   "outputs": [],
   "source": [
    "p = p6[:,1]"
   ]
  },
  {
   "cell_type": "code",
   "execution_count": 30,
   "id": "e272d48f-7452-439e-ad52-882fa17477b9",
   "metadata": {
    "tags": []
   },
   "outputs": [
    {
     "data": {
      "text/plain": [
       "24693"
      ]
     },
     "execution_count": 30,
     "metadata": {},
     "output_type": "execute_result"
    }
   ],
   "source": [
    "len(p)"
   ]
  },
  {
   "cell_type": "code",
   "execution_count": 34,
   "id": "4c2aaa67-2975-452f-af5b-635a1d6a0a85",
   "metadata": {
    "tags": []
   },
   "outputs": [],
   "source": [
    "testDF['pids'] = pat_ids.apply(md5)\n",
    "\n",
    "g6 = pd.DataFrame({'p6': np.array(R6['probs'])[:,1] ,    \n",
    "                   'pids':np.array(R6['pids']) ,    \n",
    "                   'model_date':np.array(R6['dates'])\n",
    "                  })"
   ]
  },
  {
   "cell_type": "code",
   "execution_count": null,
   "id": "75a747a1-03e9-4ba7-8cc7-874cf1162195",
   "metadata": {},
   "outputs": [],
   "source": []
  },
  {
   "cell_type": "code",
   "execution_count": 35,
   "id": "ec47821f-f50e-4b18-ba87-6a2881effc2b",
   "metadata": {
    "tags": []
   },
   "outputs": [
    {
     "name": "stderr",
     "output_type": "stream",
     "text": [
      "C:\\Users\\VHANYNHeT\\AppData\\Local\\Temp\\2\\ipykernel_34916\\3624253825.py:4: SettingWithCopyWarning: \n",
      "A value is trying to be set on a copy of a slice from a DataFrame.\n",
      "Try using .loc[row_indexer,col_indexer] = value instead\n",
      "\n",
      "See the caveats in the documentation: https://pandas.pydata.org/pandas-docs/stable/user_guide/indexing.html#returning-a-view-versus-a-copy\n",
      "  m['d']= pd.to_datetime(m['outcome_date']) - pd.to_datetime(m['model_date'])\n",
      "C:\\Users\\VHANYNHeT\\AppData\\Local\\Temp\\2\\ipykernel_34916\\3624253825.py:9: SettingWithCopyWarning: \n",
      "A value is trying to be set on a copy of a slice from a DataFrame.\n",
      "Try using .loc[row_indexer,col_indexer] = value instead\n",
      "\n",
      "See the caveats in the documentation: https://pandas.pydata.org/pandas-docs/stable/user_guide/indexing.html#returning-a-view-versus-a-copy\n",
      "  m_VE0[\"outcome\"] = m_VE0[\"outcome\"].replace(True, False)\n"
     ]
    }
   ],
   "source": [
    "M = pd.merge(g6, testDF)\n",
    "\n",
    "m = M[[\"patient_id\",\"dx_date\", \"index_date\", \"model_date\",  \"outcome\",\"outcome_date\",\"p6\" ]]\n",
    "m['d']= pd.to_datetime(m['outcome_date']) - pd.to_datetime(m['model_date'])\n",
    "\n",
    "m_VE = m[ m['outcome'] ]\n",
    "m_VE1 = m_VE [   (pd.to_datetime( m_VE[\"outcome_date\"] ) -pd.to_datetime( m_VE[\"index_date\"] )) < datetime.timedelta(730)]\n",
    "m_VE0 = m_VE [   (pd.to_datetime( m_VE[\"outcome_date\"] ) -pd.to_datetime( m_VE[\"index_date\"] )) >= datetime.timedelta(730)]\n",
    "m_VE0[\"outcome\"] = m_VE0[\"outcome\"].replace(True, False)  \n",
    "m0= m[ ~ m['outcome'] ]\n",
    "\n",
    "m1 = pd.concat([m_VE1, m_VE0, m0])"
   ]
  },
  {
   "cell_type": "code",
   "execution_count": 36,
   "id": "e069c93c-f38b-44aa-8e67-889c15bc08b8",
   "metadata": {
    "tags": []
   },
   "outputs": [
    {
     "data": {
      "text/plain": [
       "dict_keys(['golds', 'probs', 'patient_golds', 'exams', 'pids', 'dates', 'censor_times', 'days_to_final_censors'])"
      ]
     },
     "execution_count": 36,
     "metadata": {},
     "output_type": "execute_result"
    }
   ],
   "source": [
    "R6.keys()"
   ]
  },
  {
   "cell_type": "code",
   "execution_count": 37,
   "id": "1cc49686-24ca-436f-a8d0-59811c2a3a13",
   "metadata": {
    "tags": []
   },
   "outputs": [
    {
     "data": {
      "text/plain": [
       "Index(['p6', 'pids', 'model_date', 'Unnamed: 0', 'patient_id', 'outcome',\n",
       "       'dob', 'outcome_date', 'obs_time_end', 'index_date', 'dx_date',\n",
       "       'obs_time_start', 'ev_length', 'len0', 't0', 'len30', 't30', 'len90',\n",
       "       't90', 'len180', 't180', 'ks', 'sex', 'bmi', 'race'],\n",
       "      dtype='object')"
      ]
     },
     "execution_count": 37,
     "metadata": {},
     "output_type": "execute_result"
    }
   ],
   "source": [
    "M.keys()"
   ]
  },
  {
   "cell_type": "code",
   "execution_count": 38,
   "id": "ac225eaa-3ee9-41e9-ad2a-5b45f602e7c3",
   "metadata": {},
   "outputs": [
    {
     "data": {
      "text/html": [
       "<div>\n",
       "<style scoped>\n",
       "    .dataframe tbody tr th:only-of-type {\n",
       "        vertical-align: middle;\n",
       "    }\n",
       "\n",
       "    .dataframe tbody tr th {\n",
       "        vertical-align: top;\n",
       "    }\n",
       "\n",
       "    .dataframe thead th {\n",
       "        text-align: right;\n",
       "    }\n",
       "</style>\n",
       "<table border=\"1\" class=\"dataframe\">\n",
       "  <thead>\n",
       "    <tr style=\"text-align: right;\">\n",
       "      <th></th>\n",
       "      <th>p6</th>\n",
       "      <th>pids</th>\n",
       "      <th>model_date</th>\n",
       "      <th>Unnamed: 0</th>\n",
       "      <th>patient_id</th>\n",
       "      <th>outcome</th>\n",
       "      <th>dob</th>\n",
       "      <th>outcome_date</th>\n",
       "      <th>obs_time_end</th>\n",
       "      <th>index_date</th>\n",
       "      <th>...</th>\n",
       "      <th>len30</th>\n",
       "      <th>t30</th>\n",
       "      <th>len90</th>\n",
       "      <th>t90</th>\n",
       "      <th>len180</th>\n",
       "      <th>t180</th>\n",
       "      <th>ks</th>\n",
       "      <th>sex</th>\n",
       "      <th>bmi</th>\n",
       "      <th>race</th>\n",
       "    </tr>\n",
       "  </thead>\n",
       "  <tbody>\n",
       "    <tr>\n",
       "      <th>0</th>\n",
       "      <td>0.059421</td>\n",
       "      <td>9c4a171786576cc81aef7a300c0d53cf</td>\n",
       "      <td>2009-03-03T00:00:00</td>\n",
       "      <td>49432</td>\n",
       "      <td>1009107581</td>\n",
       "      <td>False</td>\n",
       "      <td>1920-07-13</td>\n",
       "      <td>2009-12-06</td>\n",
       "      <td>2009-12-06</td>\n",
       "      <td>2009-03-03</td>\n",
       "      <td>...</td>\n",
       "      <td>938</td>\n",
       "      <td>2813 days</td>\n",
       "      <td>938</td>\n",
       "      <td>2813 days</td>\n",
       "      <td>938</td>\n",
       "      <td>2813 days</td>\n",
       "      <td>3</td>\n",
       "      <td>0</td>\n",
       "      <td>4</td>\n",
       "      <td>1</td>\n",
       "    </tr>\n",
       "    <tr>\n",
       "      <th>1</th>\n",
       "      <td>0.096332</td>\n",
       "      <td>bce1cd81e5f596e28b9d86c6306947d0</td>\n",
       "      <td>2010-05-26T00:00:00</td>\n",
       "      <td>91351</td>\n",
       "      <td>1006064340</td>\n",
       "      <td>False</td>\n",
       "      <td>1930-02-13</td>\n",
       "      <td>2017-08-05</td>\n",
       "      <td>2017-08-05</td>\n",
       "      <td>2010-05-26</td>\n",
       "      <td>...</td>\n",
       "      <td>553</td>\n",
       "      <td>4015 days</td>\n",
       "      <td>553</td>\n",
       "      <td>4015 days</td>\n",
       "      <td>553</td>\n",
       "      <td>4015 days</td>\n",
       "      <td>4</td>\n",
       "      <td>0</td>\n",
       "      <td>1</td>\n",
       "      <td>5</td>\n",
       "    </tr>\n",
       "    <tr>\n",
       "      <th>2</th>\n",
       "      <td>0.102915</td>\n",
       "      <td>81c191396aa5757ec3c1dce5914511e6</td>\n",
       "      <td>2009-08-25T00:00:00</td>\n",
       "      <td>97039</td>\n",
       "      <td>1007261854</td>\n",
       "      <td>False</td>\n",
       "      <td>1926-03-19</td>\n",
       "      <td>2015-03-30</td>\n",
       "      <td>2015-03-30</td>\n",
       "      <td>2009-08-25</td>\n",
       "      <td>...</td>\n",
       "      <td>975</td>\n",
       "      <td>3818 days</td>\n",
       "      <td>975</td>\n",
       "      <td>3818 days</td>\n",
       "      <td>975</td>\n",
       "      <td>3818 days</td>\n",
       "      <td>3</td>\n",
       "      <td>0</td>\n",
       "      <td>1</td>\n",
       "      <td>5</td>\n",
       "    </tr>\n",
       "    <tr>\n",
       "      <th>3</th>\n",
       "      <td>0.079554</td>\n",
       "      <td>b36fbdc43dba9a7e7f984c47315042de</td>\n",
       "      <td>2019-12-17T00:00:00</td>\n",
       "      <td>45797</td>\n",
       "      <td>1010730671</td>\n",
       "      <td>False</td>\n",
       "      <td>1939-12-29</td>\n",
       "      <td>2021-02-20</td>\n",
       "      <td>2021-02-20</td>\n",
       "      <td>2019-12-17</td>\n",
       "      <td>...</td>\n",
       "      <td>1121</td>\n",
       "      <td>4737 days</td>\n",
       "      <td>1121</td>\n",
       "      <td>4737 days</td>\n",
       "      <td>1121</td>\n",
       "      <td>4737 days</td>\n",
       "      <td>0</td>\n",
       "      <td>0</td>\n",
       "      <td>4</td>\n",
       "      <td>5</td>\n",
       "    </tr>\n",
       "    <tr>\n",
       "      <th>4</th>\n",
       "      <td>0.119963</td>\n",
       "      <td>26bd272f9e8bc1b7c13856e4cd4ae574</td>\n",
       "      <td>2012-09-11T00:00:00</td>\n",
       "      <td>7690</td>\n",
       "      <td>1014882035</td>\n",
       "      <td>True</td>\n",
       "      <td>1947-03-24</td>\n",
       "      <td>2012-12-28</td>\n",
       "      <td>2013-10-31</td>\n",
       "      <td>2012-09-11</td>\n",
       "      <td>...</td>\n",
       "      <td>623</td>\n",
       "      <td>1985 days</td>\n",
       "      <td>454</td>\n",
       "      <td>1925 days</td>\n",
       "      <td>231</td>\n",
       "      <td>1844 days</td>\n",
       "      <td>5</td>\n",
       "      <td>0</td>\n",
       "      <td>1</td>\n",
       "      <td>5</td>\n",
       "    </tr>\n",
       "    <tr>\n",
       "      <th>...</th>\n",
       "      <td>...</td>\n",
       "      <td>...</td>\n",
       "      <td>...</td>\n",
       "      <td>...</td>\n",
       "      <td>...</td>\n",
       "      <td>...</td>\n",
       "      <td>...</td>\n",
       "      <td>...</td>\n",
       "      <td>...</td>\n",
       "      <td>...</td>\n",
       "      <td>...</td>\n",
       "      <td>...</td>\n",
       "      <td>...</td>\n",
       "      <td>...</td>\n",
       "      <td>...</td>\n",
       "      <td>...</td>\n",
       "      <td>...</td>\n",
       "      <td>...</td>\n",
       "      <td>...</td>\n",
       "      <td>...</td>\n",
       "      <td>...</td>\n",
       "    </tr>\n",
       "    <tr>\n",
       "      <th>24688</th>\n",
       "      <td>0.068163</td>\n",
       "      <td>f52af8c831e0fa925154740a87265bb6</td>\n",
       "      <td>2015-03-31T00:00:00</td>\n",
       "      <td>90647</td>\n",
       "      <td>1004880538</td>\n",
       "      <td>False</td>\n",
       "      <td>1956-09-17</td>\n",
       "      <td>2015-10-26</td>\n",
       "      <td>2015-10-26</td>\n",
       "      <td>2015-04-01</td>\n",
       "      <td>...</td>\n",
       "      <td>904</td>\n",
       "      <td>1175 days</td>\n",
       "      <td>904</td>\n",
       "      <td>1175 days</td>\n",
       "      <td>904</td>\n",
       "      <td>1175 days</td>\n",
       "      <td>0</td>\n",
       "      <td>0</td>\n",
       "      <td>1</td>\n",
       "      <td>1</td>\n",
       "    </tr>\n",
       "    <tr>\n",
       "      <th>24689</th>\n",
       "      <td>0.196113</td>\n",
       "      <td>8bec5d8d74a575c91d9d0821816afd81</td>\n",
       "      <td>2006-06-09T00:00:00</td>\n",
       "      <td>3837</td>\n",
       "      <td>1009821184</td>\n",
       "      <td>False</td>\n",
       "      <td>1955-02-09</td>\n",
       "      <td>2006-06-19</td>\n",
       "      <td>2006-06-19</td>\n",
       "      <td>2006-06-09</td>\n",
       "      <td>...</td>\n",
       "      <td>369</td>\n",
       "      <td>1369 days</td>\n",
       "      <td>369</td>\n",
       "      <td>1369 days</td>\n",
       "      <td>369</td>\n",
       "      <td>1369 days</td>\n",
       "      <td>4</td>\n",
       "      <td>0</td>\n",
       "      <td>1</td>\n",
       "      <td>1</td>\n",
       "    </tr>\n",
       "    <tr>\n",
       "      <th>24690</th>\n",
       "      <td>0.264993</td>\n",
       "      <td>fa672ed2ee9cc54ac3736c713d5d9db3</td>\n",
       "      <td>2008-02-08T00:00:00</td>\n",
       "      <td>38560</td>\n",
       "      <td>1012036946</td>\n",
       "      <td>False</td>\n",
       "      <td>1927-05-20</td>\n",
       "      <td>2008-03-16</td>\n",
       "      <td>2008-03-16</td>\n",
       "      <td>2008-02-06</td>\n",
       "      <td>...</td>\n",
       "      <td>846</td>\n",
       "      <td>1062 days</td>\n",
       "      <td>846</td>\n",
       "      <td>1062 days</td>\n",
       "      <td>846</td>\n",
       "      <td>1062 days</td>\n",
       "      <td>4</td>\n",
       "      <td>0</td>\n",
       "      <td>4</td>\n",
       "      <td>1</td>\n",
       "    </tr>\n",
       "    <tr>\n",
       "      <th>24691</th>\n",
       "      <td>0.280431</td>\n",
       "      <td>050b7af9d4ff7056ea9e85a0c3e84ae7</td>\n",
       "      <td>2016-12-14T00:00:00</td>\n",
       "      <td>22056</td>\n",
       "      <td>1001945567</td>\n",
       "      <td>False</td>\n",
       "      <td>1942-01-24</td>\n",
       "      <td>2017-06-15</td>\n",
       "      <td>2017-06-15</td>\n",
       "      <td>2016-12-14</td>\n",
       "      <td>...</td>\n",
       "      <td>2418</td>\n",
       "      <td>6448 days</td>\n",
       "      <td>2418</td>\n",
       "      <td>6448 days</td>\n",
       "      <td>2418</td>\n",
       "      <td>6448 days</td>\n",
       "      <td>4</td>\n",
       "      <td>0</td>\n",
       "      <td>1</td>\n",
       "      <td>5</td>\n",
       "    </tr>\n",
       "    <tr>\n",
       "      <th>24692</th>\n",
       "      <td>0.176056</td>\n",
       "      <td>d89c53e53ea5d04d5ac71bd9ffa863b0</td>\n",
       "      <td>2007-04-17T00:00:00</td>\n",
       "      <td>99807</td>\n",
       "      <td>1014159607</td>\n",
       "      <td>False</td>\n",
       "      <td>1937-09-18</td>\n",
       "      <td>2008-06-05</td>\n",
       "      <td>2008-06-05</td>\n",
       "      <td>2007-04-17</td>\n",
       "      <td>...</td>\n",
       "      <td>723</td>\n",
       "      <td>2760 days</td>\n",
       "      <td>723</td>\n",
       "      <td>2760 days</td>\n",
       "      <td>723</td>\n",
       "      <td>2760 days</td>\n",
       "      <td>3</td>\n",
       "      <td>0</td>\n",
       "      <td>2</td>\n",
       "      <td>1</td>\n",
       "    </tr>\n",
       "  </tbody>\n",
       "</table>\n",
       "<p>24693 rows × 25 columns</p>\n",
       "</div>"
      ],
      "text/plain": [
       "             p6                              pids           model_date  \\\n",
       "0      0.059421  9c4a171786576cc81aef7a300c0d53cf  2009-03-03T00:00:00   \n",
       "1      0.096332  bce1cd81e5f596e28b9d86c6306947d0  2010-05-26T00:00:00   \n",
       "2      0.102915  81c191396aa5757ec3c1dce5914511e6  2009-08-25T00:00:00   \n",
       "3      0.079554  b36fbdc43dba9a7e7f984c47315042de  2019-12-17T00:00:00   \n",
       "4      0.119963  26bd272f9e8bc1b7c13856e4cd4ae574  2012-09-11T00:00:00   \n",
       "...         ...                               ...                  ...   \n",
       "24688  0.068163  f52af8c831e0fa925154740a87265bb6  2015-03-31T00:00:00   \n",
       "24689  0.196113  8bec5d8d74a575c91d9d0821816afd81  2006-06-09T00:00:00   \n",
       "24690  0.264993  fa672ed2ee9cc54ac3736c713d5d9db3  2008-02-08T00:00:00   \n",
       "24691  0.280431  050b7af9d4ff7056ea9e85a0c3e84ae7  2016-12-14T00:00:00   \n",
       "24692  0.176056  d89c53e53ea5d04d5ac71bd9ffa863b0  2007-04-17T00:00:00   \n",
       "\n",
       "       Unnamed: 0  patient_id  outcome         dob outcome_date obs_time_end  \\\n",
       "0           49432  1009107581    False  1920-07-13   2009-12-06   2009-12-06   \n",
       "1           91351  1006064340    False  1930-02-13   2017-08-05   2017-08-05   \n",
       "2           97039  1007261854    False  1926-03-19   2015-03-30   2015-03-30   \n",
       "3           45797  1010730671    False  1939-12-29   2021-02-20   2021-02-20   \n",
       "4            7690  1014882035     True  1947-03-24   2012-12-28   2013-10-31   \n",
       "...           ...         ...      ...         ...          ...          ...   \n",
       "24688       90647  1004880538    False  1956-09-17   2015-10-26   2015-10-26   \n",
       "24689        3837  1009821184    False  1955-02-09   2006-06-19   2006-06-19   \n",
       "24690       38560  1012036946    False  1927-05-20   2008-03-16   2008-03-16   \n",
       "24691       22056  1001945567    False  1942-01-24   2017-06-15   2017-06-15   \n",
       "24692       99807  1014159607    False  1937-09-18   2008-06-05   2008-06-05   \n",
       "\n",
       "       index_date  ... len30        t30  len90        t90 len180       t180  \\\n",
       "0      2009-03-03  ...   938  2813 days    938  2813 days    938  2813 days   \n",
       "1      2010-05-26  ...   553  4015 days    553  4015 days    553  4015 days   \n",
       "2      2009-08-25  ...   975  3818 days    975  3818 days    975  3818 days   \n",
       "3      2019-12-17  ...  1121  4737 days   1121  4737 days   1121  4737 days   \n",
       "4      2012-09-11  ...   623  1985 days    454  1925 days    231  1844 days   \n",
       "...           ...  ...   ...        ...    ...        ...    ...        ...   \n",
       "24688  2015-04-01  ...   904  1175 days    904  1175 days    904  1175 days   \n",
       "24689  2006-06-09  ...   369  1369 days    369  1369 days    369  1369 days   \n",
       "24690  2008-02-06  ...   846  1062 days    846  1062 days    846  1062 days   \n",
       "24691  2016-12-14  ...  2418  6448 days   2418  6448 days   2418  6448 days   \n",
       "24692  2007-04-17  ...   723  2760 days    723  2760 days    723  2760 days   \n",
       "\n",
       "      ks  sex bmi  race  \n",
       "0      3    0   4     1  \n",
       "1      4    0   1     5  \n",
       "2      3    0   1     5  \n",
       "3      0    0   4     5  \n",
       "4      5    0   1     5  \n",
       "...   ..  ...  ..   ...  \n",
       "24688  0    0   1     1  \n",
       "24689  4    0   1     1  \n",
       "24690  4    0   4     1  \n",
       "24691  4    0   1     5  \n",
       "24692  3    0   2     1  \n",
       "\n",
       "[24693 rows x 25 columns]"
      ]
     },
     "execution_count": 38,
     "metadata": {},
     "output_type": "execute_result"
    }
   ],
   "source": [
    "M"
   ]
  },
  {
   "cell_type": "code",
   "execution_count": 39,
   "id": "3ed76f5c-ab80-4ed9-90d1-d80ede20287a",
   "metadata": {
    "tags": []
   },
   "outputs": [
    {
     "data": {
      "text/plain": [
       "0.6211496507485663"
      ]
     },
     "execution_count": 39,
     "metadata": {},
     "output_type": "execute_result"
    }
   ],
   "source": [
    "sklearn.metrics.roc_auc_score(m1['outcome'],  m1['p6'], average = 'samples')\n"
   ]
  },
  {
   "cell_type": "code",
   "execution_count": 43,
   "id": "d65ee1e0-3c7e-4767-a358-7cb1270fd1e2",
   "metadata": {
    "tags": []
   },
   "outputs": [
    {
     "data": {
      "text/plain": [
       "array([[ 6755, 15926],\n",
       "       [  295,  1717]], dtype=int64)"
      ]
     },
     "execution_count": 43,
     "metadata": {},
     "output_type": "execute_result"
    }
   ],
   "source": [
    "( confusion_matrix (m1['outcome'],  m1['p6']>.1) )"
   ]
  },
  {
   "cell_type": "code",
   "execution_count": 76,
   "id": "981bbaf3-1a93-4618-ae9f-ffd7bc3793d9",
   "metadata": {},
   "outputs": [],
   "source": [
    "# how many people had event within 6 months of index date"
   ]
  },
  {
   "cell_type": "code",
   "execution_count": 77,
   "id": "28235e3d-d8e2-424b-b064-e0b9d45c7881",
   "metadata": {
    "tags": []
   },
   "outputs": [],
   "source": [
    "m1.to_csv('output/CC8_test180.csv') "
   ]
  },
  {
   "cell_type": "code",
   "execution_count": 8,
   "id": "112b112b-b97d-4328-9fb2-a9aa34b70486",
   "metadata": {},
   "outputs": [],
   "source": [
    "#m1.to_excel('output/dxMD_Sensitivity90.xlsx') "
   ]
  },
  {
   "cell_type": "code",
   "execution_count": 27,
   "id": "ecc15a95-38ea-4f44-a4be-1692fb6bebac",
   "metadata": {},
   "outputs": [
    {
     "data": {
      "text/plain": [
       "[289.0,\n",
       " 390.0,\n",
       " 471.0,\n",
       " 541.0,\n",
       " 610.0,\n",
       " 677.0,\n",
       " 743.0,\n",
       " 809.0,\n",
       " 879.0,\n",
       " 952.0,\n",
       " 1036.0,\n",
       " 1128.0,\n",
       " 1230.0,\n",
       " 1343.0,\n",
       " 1482.5,\n",
       " 1647.0,\n",
       " 1880.9,\n",
       " 2189.0,\n",
       " 2772.0]"
      ]
     },
     "execution_count": 27,
     "metadata": {},
     "output_type": "execute_result"
    }
   ],
   "source": [
    "statistics.quantiles( M['len180'],n=20)"
   ]
  },
  {
   "cell_type": "code",
   "execution_count": 23,
   "id": "df19f012-3361-4e45-bd01-22dd2fc015cd",
   "metadata": {},
   "outputs": [
    {
     "data": {
      "text/plain": [
       "(array([2.2715e+04, 1.8050e+03, 1.3000e+02, 2.5000e+01, 1.2000e+01,\n",
       "        1.0000e+00, 1.0000e+00, 1.0000e+00, 1.0000e+00, 2.0000e+00]),\n",
       " array([1.00000e+00, 2.37810e+03, 4.75520e+03, 7.13230e+03, 9.50940e+03,\n",
       "        1.18865e+04, 1.42636e+04, 1.66407e+04, 1.90178e+04, 2.13949e+04,\n",
       "        2.37720e+04]),\n",
       " <BarContainer object of 10 artists>)"
      ]
     },
     "execution_count": 23,
     "metadata": {},
     "output_type": "execute_result"
    }
   ],
   "source": [
    "plt.hist(M['len180'])"
   ]
  },
  {
   "cell_type": "code",
   "execution_count": null,
   "id": "2e1d9a19-4dbb-4201-bcb9-8ecaaea3619a",
   "metadata": {},
   "outputs": [],
   "source": []
  }
 ],
 "metadata": {
  "kernelspec": {
   "display_name": "Python 3 (ipykernel)",
   "language": "python",
   "name": "python3"
  },
  "language_info": {
   "codemirror_mode": {
    "name": "ipython",
    "version": 3
   },
   "file_extension": ".py",
   "mimetype": "text/x-python",
   "name": "python",
   "nbconvert_exporter": "python",
   "pygments_lexer": "ipython3",
   "version": "3.11.5"
  }
 },
 "nbformat": 4,
 "nbformat_minor": 5
}
