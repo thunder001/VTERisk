{
 "cells": [
  {
   "cell_type": "code",
   "execution_count": 3,
   "id": "e80fca33-a457-4e83-baaf-dc134ac94a62",
   "metadata": {
    "tags": []
   },
   "outputs": [],
   "source": [
    "import json\n",
    "from collections import Counter\n",
    "from tqdm import tqdm\n",
    "import pickle\n",
    "import numpy as np\n",
    "import pandas as pd\n",
    "pd.options.display.max_colwidth = 100\n",
    "import matplotlib\n",
    "matplotlib.use('Agg')\n",
    "import seaborn as sns\n",
    "import matplotlib.pyplot as plt\n",
    "from matplotlib.gridspec import GridSpec\n",
    "import sys\n",
    "import os\n",
    "import argparse\n",
    "from os.path import dirname, realpath\n",
    "\n",
    "import hashlib\n",
    "import datetime\n",
    "import datetime as datetime\n",
    "import sklearn\n",
    "import statistics\n",
    "sys.path.append(\"./src/\")\n",
    "#from disrisknet.utils.parsing import parse_args\n",
    "import pdb\n",
    "\n",
    "src_path = \"G:\\\\FillmoreCancerData\\\\markhe\\\\VTERisk\" \n",
    "src_path2 = \"G:\\\\FillmoreCancerData\\\\markhe\\\\VTERisk - Copy\" \n",
    "\n",
    "def md5(key):\n",
    "    return hashlib.md5(repr(key).encode()).hexdigest()\n",
    "\n",
    "from sklearn.metrics import confusion_matrix"
   ]
  },
  {
   "cell_type": "code",
   "execution_count": 4,
   "id": "b604bdf1-e06a-4abc-b6a7-53801e671dab",
   "metadata": {
    "tags": []
   },
   "outputs": [],
   "source": [
    "testDF = pd.read_csv(os.path.join(src_path2, 'Notebooks/Find/allChars_DF.csv'))\n",
    "from sklearn.metrics import confusion_matrix\n"
   ]
  },
  {
   "cell_type": "code",
   "execution_count": 5,
   "id": "0dc20797-4425-4c1c-8775-0bbb7e83e7c8",
   "metadata": {},
   "outputs": [],
   "source": [
    "logpath = os.path.join(src_path ,'logs_transformer_vte/F/', \"0d071737ad78312a4c72357d28bd336b.results.test_preds\")\n"
   ]
  },
  {
   "cell_type": "code",
   "execution_count": 6,
   "id": "4afa1b12-291d-4729-bf94-5e97ff8b9031",
   "metadata": {
    "tags": []
   },
   "outputs": [],
   "source": [
    " \n",
    "with open(logpath, 'rb') as f:\n",
    "    R6 = pickle.load(f)\n",
    "    p6 = np.array(R6['probs'])\n",
    "\n",
    "pat_ids = (testDF['patient_id'] ).astype(int)\n",
    " "
   ]
  },
  {
   "cell_type": "code",
   "execution_count": 9,
   "id": "22775410-99ea-4402-a4e3-03aeac5177c6",
   "metadata": {
    "tags": []
   },
   "outputs": [
    {
     "data": {
      "text/plain": [
       "dict_keys(['golds', 'probs', 'patient_golds', 'exams', 'pids', 'dates', 'censor_times', 'days_to_final_censors'])"
      ]
     },
     "execution_count": 9,
     "metadata": {},
     "output_type": "execute_result"
    }
   ],
   "source": [
    "R6.keys()"
   ]
  },
  {
   "cell_type": "code",
   "execution_count": 10,
   "id": "7ddedfea-f898-4830-9b0f-443f2fec1e8c",
   "metadata": {
    "tags": []
   },
   "outputs": [
    {
     "name": "stderr",
     "output_type": "stream",
     "text": [
      "C:\\Users\\VHANYNHeT\\AppData\\Local\\Temp\\2\\ipykernel_73432\\1057840980.py:11: SettingWithCopyWarning: \n",
      "A value is trying to be set on a copy of a slice from a DataFrame.\n",
      "Try using .loc[row_indexer,col_indexer] = value instead\n",
      "\n",
      "See the caveats in the documentation: https://pandas.pydata.org/pandas-docs/stable/user_guide/indexing.html#returning-a-view-versus-a-copy\n",
      "  m['d']= pd.to_datetime(m['outcome_date']) - pd.to_datetime(m['model_date'])\n",
      "C:\\Users\\VHANYNHeT\\AppData\\Local\\Temp\\2\\ipykernel_73432\\1057840980.py:16: SettingWithCopyWarning: \n",
      "A value is trying to be set on a copy of a slice from a DataFrame.\n",
      "Try using .loc[row_indexer,col_indexer] = value instead\n",
      "\n",
      "See the caveats in the documentation: https://pandas.pydata.org/pandas-docs/stable/user_guide/indexing.html#returning-a-view-versus-a-copy\n",
      "  m_VE0[\"outcome\"] = m_VE0[\"outcome\"].replace(True, False)\n"
     ]
    }
   ],
   "source": [
    "testDF['pids'] = pat_ids.apply(md5)\n",
    "\n",
    "g6 = pd.DataFrame({'p6': R6['probs'] ,    \n",
    "                   'pids':np.array(R6['pids']),    \n",
    "                   'model_date':np.array(R6['dates'])\n",
    "                  })\n",
    "\n",
    "M = pd.merge(g6, testDF)\n",
    "\n",
    "m = M[[\"patient_id\",\"dx_date\", \"index_date\", \"model_date\",  \"outcome\",\"outcome_date\",\"p6\" ]]\n",
    "m['d']= pd.to_datetime(m['outcome_date']) - pd.to_datetime(m['model_date'])\n",
    "\n",
    "m_VE = m[ m['outcome'] ]\n",
    "m_VE1 = m_VE [   (pd.to_datetime( m_VE[\"outcome_date\"] ) -pd.to_datetime( m_VE[\"index_date\"] )) < datetime.timedelta(730)]\n",
    "m_VE0 = m_VE [   (pd.to_datetime( m_VE[\"outcome_date\"] ) -pd.to_datetime( m_VE[\"index_date\"] )) >= datetime.timedelta(730)]\n",
    "m_VE0[\"outcome\"] = m_VE0[\"outcome\"].replace(True, False)  \n",
    "m0= m[ ~ m['outcome'] ]\n",
    "\n",
    "m1 = pd.concat([m_VE1, m_VE0, m0])"
   ]
  },
  {
   "cell_type": "code",
   "execution_count": 11,
   "id": "e069c93c-f38b-44aa-8e67-889c15bc08b8",
   "metadata": {
    "tags": []
   },
   "outputs": [
    {
     "data": {
      "text/plain": [
       "dict_keys(['golds', 'probs', 'patient_golds', 'exams', 'pids', 'dates', 'censor_times', 'days_to_final_censors'])"
      ]
     },
     "execution_count": 11,
     "metadata": {},
     "output_type": "execute_result"
    }
   ],
   "source": [
    "R6.keys()"
   ]
  },
  {
   "cell_type": "code",
   "execution_count": 12,
   "id": "1cc49686-24ca-436f-a8d0-59811c2a3a13",
   "metadata": {
    "tags": []
   },
   "outputs": [
    {
     "data": {
      "text/plain": [
       "Index(['p6', 'pids', 'model_date', 'Unnamed: 0', 'patient_id', 'outcome',\n",
       "       'dob', 'outcome_date', 'obs_time_end', 'index_date', 'dx_date',\n",
       "       'obs_time_start', 'ev_length', 'len0', 't0', 'len30', 't30', 'len90',\n",
       "       't90', 'len180', 't180', 'ks', 'sex', 'bmi', 'race'],\n",
       "      dtype='object')"
      ]
     },
     "execution_count": 12,
     "metadata": {},
     "output_type": "execute_result"
    }
   ],
   "source": [
    "M.keys()"
   ]
  },
  {
   "cell_type": "code",
   "execution_count": 13,
   "id": "ac225eaa-3ee9-41e9-ad2a-5b45f602e7c3",
   "metadata": {},
   "outputs": [
    {
     "data": {
      "text/html": [
       "<div>\n",
       "<style scoped>\n",
       "    .dataframe tbody tr th:only-of-type {\n",
       "        vertical-align: middle;\n",
       "    }\n",
       "\n",
       "    .dataframe tbody tr th {\n",
       "        vertical-align: top;\n",
       "    }\n",
       "\n",
       "    .dataframe thead th {\n",
       "        text-align: right;\n",
       "    }\n",
       "</style>\n",
       "<table border=\"1\" class=\"dataframe\">\n",
       "  <thead>\n",
       "    <tr style=\"text-align: right;\">\n",
       "      <th></th>\n",
       "      <th>p6</th>\n",
       "      <th>pids</th>\n",
       "      <th>model_date</th>\n",
       "      <th>Unnamed: 0</th>\n",
       "      <th>patient_id</th>\n",
       "      <th>outcome</th>\n",
       "      <th>dob</th>\n",
       "      <th>outcome_date</th>\n",
       "      <th>obs_time_end</th>\n",
       "      <th>index_date</th>\n",
       "      <th>...</th>\n",
       "      <th>len30</th>\n",
       "      <th>t30</th>\n",
       "      <th>len90</th>\n",
       "      <th>t90</th>\n",
       "      <th>len180</th>\n",
       "      <th>t180</th>\n",
       "      <th>ks</th>\n",
       "      <th>sex</th>\n",
       "      <th>bmi</th>\n",
       "      <th>race</th>\n",
       "    </tr>\n",
       "  </thead>\n",
       "  <tbody>\n",
       "    <tr>\n",
       "      <th>0</th>\n",
       "      <td>[0.55457234]</td>\n",
       "      <td>800dd2cea2c86677c65656fbf7796c6a</td>\n",
       "      <td>2008-01-07T00:00:00</td>\n",
       "      <td>51341</td>\n",
       "      <td>1004168442</td>\n",
       "      <td>False</td>\n",
       "      <td>1927-09-14</td>\n",
       "      <td>2008-01-08</td>\n",
       "      <td>2008-01-08</td>\n",
       "      <td>2007-10-01</td>\n",
       "      <td>...</td>\n",
       "      <td>1368</td>\n",
       "      <td>3017 days</td>\n",
       "      <td>1368</td>\n",
       "      <td>3017 days</td>\n",
       "      <td>1368</td>\n",
       "      <td>3017 days</td>\n",
       "      <td>2</td>\n",
       "      <td>0</td>\n",
       "      <td>1</td>\n",
       "      <td>1</td>\n",
       "    </tr>\n",
       "    <tr>\n",
       "      <th>1</th>\n",
       "      <td>[0.5106311]</td>\n",
       "      <td>5e17ad39df9e4758bb82f3751f747a66</td>\n",
       "      <td>2013-10-02T00:00:00</td>\n",
       "      <td>57799</td>\n",
       "      <td>1012231226</td>\n",
       "      <td>True</td>\n",
       "      <td>1944-03-10</td>\n",
       "      <td>2014-04-06</td>\n",
       "      <td>2015-08-28</td>\n",
       "      <td>2011-09-21</td>\n",
       "      <td>...</td>\n",
       "      <td>2120</td>\n",
       "      <td>3141 days</td>\n",
       "      <td>2075</td>\n",
       "      <td>3085 days</td>\n",
       "      <td>1983</td>\n",
       "      <td>2984 days</td>\n",
       "      <td>5</td>\n",
       "      <td>0</td>\n",
       "      <td>2</td>\n",
       "      <td>1</td>\n",
       "    </tr>\n",
       "    <tr>\n",
       "      <th>2</th>\n",
       "      <td>[0.51725596]</td>\n",
       "      <td>bf451aea21dc287204548367e0816189</td>\n",
       "      <td>2013-11-22T00:00:00</td>\n",
       "      <td>53745</td>\n",
       "      <td>1012370247</td>\n",
       "      <td>True</td>\n",
       "      <td>1943-10-12</td>\n",
       "      <td>2015-04-24</td>\n",
       "      <td>2016-01-25</td>\n",
       "      <td>2011-11-21</td>\n",
       "      <td>...</td>\n",
       "      <td>2938</td>\n",
       "      <td>3505 days</td>\n",
       "      <td>2861</td>\n",
       "      <td>3436 days</td>\n",
       "      <td>2664</td>\n",
       "      <td>3349 days</td>\n",
       "      <td>4</td>\n",
       "      <td>0</td>\n",
       "      <td>3</td>\n",
       "      <td>5</td>\n",
       "    </tr>\n",
       "    <tr>\n",
       "      <th>3</th>\n",
       "      <td>[0.30241328]</td>\n",
       "      <td>835159575e9bffd30ab38cca7b1cfef9</td>\n",
       "      <td>2022-05-12T00:00:00</td>\n",
       "      <td>53003</td>\n",
       "      <td>1011593915</td>\n",
       "      <td>False</td>\n",
       "      <td>1949-09-24</td>\n",
       "      <td>2023-04-28</td>\n",
       "      <td>2023-04-28</td>\n",
       "      <td>2020-05-13</td>\n",
       "      <td>...</td>\n",
       "      <td>536</td>\n",
       "      <td>5455 days</td>\n",
       "      <td>536</td>\n",
       "      <td>5455 days</td>\n",
       "      <td>536</td>\n",
       "      <td>5455 days</td>\n",
       "      <td>1</td>\n",
       "      <td>0</td>\n",
       "      <td>3</td>\n",
       "      <td>5</td>\n",
       "    </tr>\n",
       "    <tr>\n",
       "      <th>4</th>\n",
       "      <td>[0.1670009]</td>\n",
       "      <td>259e4fd93d73517a43b68d3764fb0d5b</td>\n",
       "      <td>2006-05-27T00:00:00</td>\n",
       "      <td>54854</td>\n",
       "      <td>1002258530</td>\n",
       "      <td>False</td>\n",
       "      <td>1935-09-30</td>\n",
       "      <td>2006-07-04</td>\n",
       "      <td>2006-07-04</td>\n",
       "      <td>2006-04-05</td>\n",
       "      <td>...</td>\n",
       "      <td>258</td>\n",
       "      <td>2318 days</td>\n",
       "      <td>258</td>\n",
       "      <td>2318 days</td>\n",
       "      <td>258</td>\n",
       "      <td>2318 days</td>\n",
       "      <td>4</td>\n",
       "      <td>0</td>\n",
       "      <td>4</td>\n",
       "      <td>1</td>\n",
       "    </tr>\n",
       "    <tr>\n",
       "      <th>...</th>\n",
       "      <td>...</td>\n",
       "      <td>...</td>\n",
       "      <td>...</td>\n",
       "      <td>...</td>\n",
       "      <td>...</td>\n",
       "      <td>...</td>\n",
       "      <td>...</td>\n",
       "      <td>...</td>\n",
       "      <td>...</td>\n",
       "      <td>...</td>\n",
       "      <td>...</td>\n",
       "      <td>...</td>\n",
       "      <td>...</td>\n",
       "      <td>...</td>\n",
       "      <td>...</td>\n",
       "      <td>...</td>\n",
       "      <td>...</td>\n",
       "      <td>...</td>\n",
       "      <td>...</td>\n",
       "      <td>...</td>\n",
       "      <td>...</td>\n",
       "    </tr>\n",
       "    <tr>\n",
       "      <th>1994</th>\n",
       "      <td>[0.09159892]</td>\n",
       "      <td>8632c8bf233041a0de7843144d771f1c</td>\n",
       "      <td>2016-08-18T00:00:00</td>\n",
       "      <td>57089</td>\n",
       "      <td>1002873149</td>\n",
       "      <td>False</td>\n",
       "      <td>1952-09-03</td>\n",
       "      <td>2022-11-16</td>\n",
       "      <td>2022-11-16</td>\n",
       "      <td>2014-08-13</td>\n",
       "      <td>...</td>\n",
       "      <td>396</td>\n",
       "      <td>4482 days</td>\n",
       "      <td>396</td>\n",
       "      <td>4482 days</td>\n",
       "      <td>396</td>\n",
       "      <td>4482 days</td>\n",
       "      <td>2</td>\n",
       "      <td>1</td>\n",
       "      <td>1</td>\n",
       "      <td>1</td>\n",
       "    </tr>\n",
       "    <tr>\n",
       "      <th>1995</th>\n",
       "      <td>[0.07377031]</td>\n",
       "      <td>ec856314270a319ec6c175276fa01b9a</td>\n",
       "      <td>2021-01-27T00:00:00</td>\n",
       "      <td>53710</td>\n",
       "      <td>1004353036</td>\n",
       "      <td>False</td>\n",
       "      <td>1946-04-29</td>\n",
       "      <td>2023-05-30</td>\n",
       "      <td>2023-05-30</td>\n",
       "      <td>2019-01-11</td>\n",
       "      <td>...</td>\n",
       "      <td>356</td>\n",
       "      <td>7300 days</td>\n",
       "      <td>356</td>\n",
       "      <td>7300 days</td>\n",
       "      <td>356</td>\n",
       "      <td>7300 days</td>\n",
       "      <td>1</td>\n",
       "      <td>0</td>\n",
       "      <td>4</td>\n",
       "      <td>1</td>\n",
       "    </tr>\n",
       "    <tr>\n",
       "      <th>1996</th>\n",
       "      <td>[0.47808862]</td>\n",
       "      <td>8badb8fecd272b670a6f5dd611ae2401</td>\n",
       "      <td>2012-08-31T00:00:00</td>\n",
       "      <td>51541</td>\n",
       "      <td>1001719180</td>\n",
       "      <td>False</td>\n",
       "      <td>1946-08-22</td>\n",
       "      <td>2012-12-27</td>\n",
       "      <td>2012-12-27</td>\n",
       "      <td>2011-04-01</td>\n",
       "      <td>...</td>\n",
       "      <td>844</td>\n",
       "      <td>4299 days</td>\n",
       "      <td>844</td>\n",
       "      <td>4299 days</td>\n",
       "      <td>844</td>\n",
       "      <td>4299 days</td>\n",
       "      <td>2</td>\n",
       "      <td>0</td>\n",
       "      <td>2</td>\n",
       "      <td>1</td>\n",
       "    </tr>\n",
       "    <tr>\n",
       "      <th>1997</th>\n",
       "      <td>[0.7329938]</td>\n",
       "      <td>7da4fcbec04b14db6c3cc6273c003560</td>\n",
       "      <td>2019-09-13T00:00:00</td>\n",
       "      <td>58496</td>\n",
       "      <td>1016579496</td>\n",
       "      <td>False</td>\n",
       "      <td>1954-07-19</td>\n",
       "      <td>2023-05-23</td>\n",
       "      <td>2023-05-23</td>\n",
       "      <td>2017-09-15</td>\n",
       "      <td>...</td>\n",
       "      <td>2145</td>\n",
       "      <td>3162 days</td>\n",
       "      <td>2145</td>\n",
       "      <td>3162 days</td>\n",
       "      <td>2145</td>\n",
       "      <td>3162 days</td>\n",
       "      <td>3</td>\n",
       "      <td>0</td>\n",
       "      <td>0</td>\n",
       "      <td>0</td>\n",
       "    </tr>\n",
       "    <tr>\n",
       "      <th>1998</th>\n",
       "      <td>[0.087968364]</td>\n",
       "      <td>f4dac4086693b549353bede420d89f62</td>\n",
       "      <td>2014-07-10T00:00:00</td>\n",
       "      <td>53163</td>\n",
       "      <td>1005658671</td>\n",
       "      <td>False</td>\n",
       "      <td>1941-03-29</td>\n",
       "      <td>2020-09-18</td>\n",
       "      <td>2020-09-18</td>\n",
       "      <td>2012-08-13</td>\n",
       "      <td>...</td>\n",
       "      <td>518</td>\n",
       "      <td>4488 days</td>\n",
       "      <td>518</td>\n",
       "      <td>4488 days</td>\n",
       "      <td>518</td>\n",
       "      <td>4488 days</td>\n",
       "      <td>2</td>\n",
       "      <td>0</td>\n",
       "      <td>1</td>\n",
       "      <td>5</td>\n",
       "    </tr>\n",
       "  </tbody>\n",
       "</table>\n",
       "<p>1999 rows × 25 columns</p>\n",
       "</div>"
      ],
      "text/plain": [
       "                 p6                              pids           model_date  \\\n",
       "0      [0.55457234]  800dd2cea2c86677c65656fbf7796c6a  2008-01-07T00:00:00   \n",
       "1       [0.5106311]  5e17ad39df9e4758bb82f3751f747a66  2013-10-02T00:00:00   \n",
       "2      [0.51725596]  bf451aea21dc287204548367e0816189  2013-11-22T00:00:00   \n",
       "3      [0.30241328]  835159575e9bffd30ab38cca7b1cfef9  2022-05-12T00:00:00   \n",
       "4       [0.1670009]  259e4fd93d73517a43b68d3764fb0d5b  2006-05-27T00:00:00   \n",
       "...             ...                               ...                  ...   \n",
       "1994   [0.09159892]  8632c8bf233041a0de7843144d771f1c  2016-08-18T00:00:00   \n",
       "1995   [0.07377031]  ec856314270a319ec6c175276fa01b9a  2021-01-27T00:00:00   \n",
       "1996   [0.47808862]  8badb8fecd272b670a6f5dd611ae2401  2012-08-31T00:00:00   \n",
       "1997    [0.7329938]  7da4fcbec04b14db6c3cc6273c003560  2019-09-13T00:00:00   \n",
       "1998  [0.087968364]  f4dac4086693b549353bede420d89f62  2014-07-10T00:00:00   \n",
       "\n",
       "      Unnamed: 0  patient_id  outcome         dob outcome_date obs_time_end  \\\n",
       "0          51341  1004168442    False  1927-09-14   2008-01-08   2008-01-08   \n",
       "1          57799  1012231226     True  1944-03-10   2014-04-06   2015-08-28   \n",
       "2          53745  1012370247     True  1943-10-12   2015-04-24   2016-01-25   \n",
       "3          53003  1011593915    False  1949-09-24   2023-04-28   2023-04-28   \n",
       "4          54854  1002258530    False  1935-09-30   2006-07-04   2006-07-04   \n",
       "...          ...         ...      ...         ...          ...          ...   \n",
       "1994       57089  1002873149    False  1952-09-03   2022-11-16   2022-11-16   \n",
       "1995       53710  1004353036    False  1946-04-29   2023-05-30   2023-05-30   \n",
       "1996       51541  1001719180    False  1946-08-22   2012-12-27   2012-12-27   \n",
       "1997       58496  1016579496    False  1954-07-19   2023-05-23   2023-05-23   \n",
       "1998       53163  1005658671    False  1941-03-29   2020-09-18   2020-09-18   \n",
       "\n",
       "      index_date  ... len30        t30  len90        t90 len180       t180 ks  \\\n",
       "0     2007-10-01  ...  1368  3017 days   1368  3017 days   1368  3017 days  2   \n",
       "1     2011-09-21  ...  2120  3141 days   2075  3085 days   1983  2984 days  5   \n",
       "2     2011-11-21  ...  2938  3505 days   2861  3436 days   2664  3349 days  4   \n",
       "3     2020-05-13  ...   536  5455 days    536  5455 days    536  5455 days  1   \n",
       "4     2006-04-05  ...   258  2318 days    258  2318 days    258  2318 days  4   \n",
       "...          ...  ...   ...        ...    ...        ...    ...        ... ..   \n",
       "1994  2014-08-13  ...   396  4482 days    396  4482 days    396  4482 days  2   \n",
       "1995  2019-01-11  ...   356  7300 days    356  7300 days    356  7300 days  1   \n",
       "1996  2011-04-01  ...   844  4299 days    844  4299 days    844  4299 days  2   \n",
       "1997  2017-09-15  ...  2145  3162 days   2145  3162 days   2145  3162 days  3   \n",
       "1998  2012-08-13  ...   518  4488 days    518  4488 days    518  4488 days  2   \n",
       "\n",
       "      sex bmi  race  \n",
       "0       0   1     1  \n",
       "1       0   2     1  \n",
       "2       0   3     5  \n",
       "3       0   3     5  \n",
       "4       0   4     1  \n",
       "...   ...  ..   ...  \n",
       "1994    1   1     1  \n",
       "1995    0   4     1  \n",
       "1996    0   2     1  \n",
       "1997    0   0     0  \n",
       "1998    0   1     5  \n",
       "\n",
       "[1999 rows x 25 columns]"
      ]
     },
     "execution_count": 13,
     "metadata": {},
     "output_type": "execute_result"
    }
   ],
   "source": [
    "M"
   ]
  },
  {
   "cell_type": "code",
   "execution_count": 14,
   "id": "3ed76f5c-ab80-4ed9-90d1-d80ede20287a",
   "metadata": {
    "tags": []
   },
   "outputs": [
    {
     "data": {
      "text/plain": [
       "0.6900941656032465"
      ]
     },
     "execution_count": 14,
     "metadata": {},
     "output_type": "execute_result"
    }
   ],
   "source": [
    "sklearn.metrics.roc_auc_score(m1['outcome'],  m1['p6'], average = 'samples')\n"
   ]
  },
  {
   "cell_type": "code",
   "execution_count": 15,
   "id": "d65ee1e0-3c7e-4767-a358-7cb1270fd1e2",
   "metadata": {
    "tags": []
   },
   "outputs": [
    {
     "data": {
      "text/plain": [
       "array([[1445,  372],\n",
       "       [ 104,   78]], dtype=int64)"
      ]
     },
     "execution_count": 15,
     "metadata": {},
     "output_type": "execute_result"
    }
   ],
   "source": [
    "( confusion_matrix (m1['outcome'],  m1['p6']>.5) )"
   ]
  },
  {
   "cell_type": "code",
   "execution_count": 76,
   "id": "981bbaf3-1a93-4618-ae9f-ffd7bc3793d9",
   "metadata": {},
   "outputs": [],
   "source": [
    "# how many people had event within 6 months of index date"
   ]
  },
  {
   "cell_type": "code",
   "execution_count": 77,
   "id": "28235e3d-d8e2-424b-b064-e0b9d45c7881",
   "metadata": {
    "tags": []
   },
   "outputs": [],
   "source": [
    "m1.to_csv('output/CC8_test180.csv') "
   ]
  },
  {
   "cell_type": "code",
   "execution_count": 8,
   "id": "112b112b-b97d-4328-9fb2-a9aa34b70486",
   "metadata": {},
   "outputs": [],
   "source": [
    "#m1.to_excel('output/dxMD_Sensitivity90.xlsx') "
   ]
  },
  {
   "cell_type": "code",
   "execution_count": 27,
   "id": "ecc15a95-38ea-4f44-a4be-1692fb6bebac",
   "metadata": {},
   "outputs": [
    {
     "data": {
      "text/plain": [
       "[289.0,\n",
       " 390.0,\n",
       " 471.0,\n",
       " 541.0,\n",
       " 610.0,\n",
       " 677.0,\n",
       " 743.0,\n",
       " 809.0,\n",
       " 879.0,\n",
       " 952.0,\n",
       " 1036.0,\n",
       " 1128.0,\n",
       " 1230.0,\n",
       " 1343.0,\n",
       " 1482.5,\n",
       " 1647.0,\n",
       " 1880.9,\n",
       " 2189.0,\n",
       " 2772.0]"
      ]
     },
     "execution_count": 27,
     "metadata": {},
     "output_type": "execute_result"
    }
   ],
   "source": [
    "statistics.quantiles( M['len180'],n=20)"
   ]
  },
  {
   "cell_type": "code",
   "execution_count": 23,
   "id": "df19f012-3361-4e45-bd01-22dd2fc015cd",
   "metadata": {},
   "outputs": [
    {
     "data": {
      "text/plain": [
       "(array([2.2715e+04, 1.8050e+03, 1.3000e+02, 2.5000e+01, 1.2000e+01,\n",
       "        1.0000e+00, 1.0000e+00, 1.0000e+00, 1.0000e+00, 2.0000e+00]),\n",
       " array([1.00000e+00, 2.37810e+03, 4.75520e+03, 7.13230e+03, 9.50940e+03,\n",
       "        1.18865e+04, 1.42636e+04, 1.66407e+04, 1.90178e+04, 2.13949e+04,\n",
       "        2.37720e+04]),\n",
       " <BarContainer object of 10 artists>)"
      ]
     },
     "execution_count": 23,
     "metadata": {},
     "output_type": "execute_result"
    }
   ],
   "source": [
    "plt.hist(M['len180'])"
   ]
  },
  {
   "cell_type": "code",
   "execution_count": null,
   "id": "2e1d9a19-4dbb-4201-bcb9-8ecaaea3619a",
   "metadata": {},
   "outputs": [],
   "source": []
  }
 ],
 "metadata": {
  "kernelspec": {
   "display_name": "Python 3 (ipykernel)",
   "language": "python",
   "name": "python3"
  },
  "language_info": {
   "codemirror_mode": {
    "name": "ipython",
    "version": 3
   },
   "file_extension": ".py",
   "mimetype": "text/x-python",
   "name": "python",
   "nbconvert_exporter": "python",
   "pygments_lexer": "ipython3",
   "version": "3.11.5"
  }
 },
 "nbformat": 4,
 "nbformat_minor": 5
}
