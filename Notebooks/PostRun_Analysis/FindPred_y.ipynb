{
 "cells": [
  {
   "cell_type": "code",
   "execution_count": 48,
   "id": "e80fca33-a457-4e83-baaf-dc134ac94a62",
   "metadata": {
    "tags": []
   },
   "outputs": [],
   "source": [
    "import json\n",
    "from collections import Counter\n",
    "from tqdm import tqdm\n",
    "import pickle\n",
    "import numpy as np\n",
    "import pandas as pd\n",
    "pd.options.display.max_colwidth = 100\n",
    "import matplotlib\n",
    "matplotlib.use('Agg')\n",
    "import seaborn as sns\n",
    "import matplotlib.pyplot as plt\n",
    "from matplotlib.gridspec import GridSpec\n",
    "import sys\n",
    "import os\n",
    "import argparse\n",
    "from os.path import dirname, realpath\n",
    "\n",
    "import hashlib\n",
    "import datetime\n",
    "import datetime as datetime\n",
    "import sklearn\n",
    "import statistics\n",
    "sys.path.append(\"./src/\")\n",
    "#from disrisknet.utils.parsing import parse_args\n",
    "import pdb\n",
    "\n",
    "src_path = \"G:\\\\FillmoreCancerData\\\\markhe\\\\VTERisk\" \n",
    "src_path2 = \"G:\\\\FillmoreCancerData\\\\markhe\\\\VTERisk - Copy\" \n",
    "\n",
    "def md5(key):\n",
    "    return hashlib.md5(repr(key).encode()).hexdigest()\n",
    "\n",
    "from sklearn.metrics import confusion_matrix"
   ]
  },
  {
   "cell_type": "code",
   "execution_count": 49,
   "id": "5dbeca90-a174-48aa-a084-2801ab235c0b",
   "metadata": {
    "tags": []
   },
   "outputs": [],
   "source": [
    "testDF = pd.read_csv(os.path.join(src_path2, 'Notebooks/Find/fixed_dx.csv'))\n"
   ]
  },
  {
   "cell_type": "code",
   "execution_count": 50,
   "id": "b604bdf1-e06a-4abc-b6a7-53801e671dab",
   "metadata": {
    "tags": []
   },
   "outputs": [],
   "source": [
    "#testDF = pd.read_csv(os.path.join(src_path2, 'Notebooks/Find/allChars_DF.csv'))\n",
    "from sklearn.metrics import confusion_matrix\n",
    " "
   ]
  },
  {
   "cell_type": "code",
   "execution_count": 51,
   "id": "0dc20797-4425-4c1c-8775-0bbb7e83e7c8",
   "metadata": {},
   "outputs": [],
   "source": [
    "#logpath = os.path.join(src_path ,'logs_transformer_vte/y_CMP/10_17_Good/', \"d8a1456b72625be735040911ffbe13c6.results.test_preds\")\n",
    "#logpath = os.path.join(src_path ,'logs_transformer_vte/F_Sen/', \"8f35a8663b6409e1067edde7d3b57c07.results.test_preds\")\n",
    "logpath = os.path.join(src_path ,'logs_transformer_vte/y_CMP/', \"d747b2da8d52da521474447204de0ba2.results.test_preds\")\n"
   ]
  },
  {
   "cell_type": "code",
   "execution_count": 52,
   "id": "3a87a6a8-8578-45b5-97ee-a4f3824d17e2",
   "metadata": {
    "tags": []
   },
   "outputs": [],
   "source": [
    "logpath = os.path.join(src_path ,'logs_transformer_vte/y_CMP/', \"0948062a2982fcc14e697aae08268743.results.test_preds\")\n",
    "# frist to have varying TPs per patient with dropout"
   ]
  },
  {
   "cell_type": "code",
   "execution_count": 53,
   "id": "4afa1b12-291d-4729-bf94-5e97ff8b9031",
   "metadata": {
    "tags": []
   },
   "outputs": [],
   "source": [
    " \n",
    "with open(logpath, 'rb') as f:\n",
    "    R6 = pickle.load(f)\n",
    "    p6 = np.array(R6['probs'])\n",
    "\n",
    "pat_ids = (testDF['patient_id'] ).astype(int)\n",
    " "
   ]
  },
  {
   "cell_type": "code",
   "execution_count": 54,
   "id": "22775410-99ea-4402-a4e3-03aeac5177c6",
   "metadata": {
    "tags": []
   },
   "outputs": [
    {
     "data": {
      "text/plain": [
       "dict_keys(['golds', 'probs', 'patient_golds', 'exams', 'pids', 'dates', 'censor_times', 'days_to_final_censors'])"
      ]
     },
     "execution_count": 54,
     "metadata": {},
     "output_type": "execute_result"
    }
   ],
   "source": [
    "R6.keys()"
   ]
  },
  {
   "cell_type": "code",
   "execution_count": 55,
   "id": "6c5c8c3e-9050-4404-9ab7-736dacff919d",
   "metadata": {
    "tags": []
   },
   "outputs": [],
   "source": [
    "testDF['pids'] = pat_ids.apply(md5)\n",
    "\n",
    "g6 = pd.DataFrame({'p6': np.array(R6['probs'] )[:,1],    \n",
    "                   'pids':np.array(R6['pids']),    \n",
    "                   'censor_times':np.array(R6['censor_times']),    \n",
    "                   'days_to_final_censors':np.array(R6['days_to_final_censors']), \n",
    "                    'golds':np.array(R6['golds']),    \n",
    "                   'model_date':np.array(R6['dates'])\n",
    "                  })\n",
    "M = pd.merge(g6, testDF)\n",
    "\n",
    "m1 = M[[\"patient_id\", \"index_date\", \"model_date\",  \"outcome\", \"golds\",\"outcome_date\",\"p6\", \"censor_times\", \"days_to_final_censors\" ]]"
   ]
  },
  {
   "cell_type": "code",
   "execution_count": 56,
   "id": "b67db9e8-4b64-489c-81f5-f5f527cd5f10",
   "metadata": {
    "tags": []
   },
   "outputs": [],
   "source": [
    "p = p6[:,1]"
   ]
  },
  {
   "cell_type": "code",
   "execution_count": 57,
   "id": "e069c93c-f38b-44aa-8e67-889c15bc08b8",
   "metadata": {
    "tags": []
   },
   "outputs": [
    {
     "data": {
      "text/plain": [
       "dict_keys(['golds', 'probs', 'patient_golds', 'exams', 'pids', 'dates', 'censor_times', 'days_to_final_censors'])"
      ]
     },
     "execution_count": 57,
     "metadata": {},
     "output_type": "execute_result"
    }
   ],
   "source": [
    "R6.keys()"
   ]
  },
  {
   "cell_type": "code",
   "execution_count": 58,
   "id": "1cc49686-24ca-436f-a8d0-59811c2a3a13",
   "metadata": {
    "tags": []
   },
   "outputs": [
    {
     "data": {
      "text/plain": [
       "Index(['p6', 'pids', 'censor_times', 'days_to_final_censors', 'golds',\n",
       "       'model_date', 'Unnamed: 0', 'patient_id', 'outcome', 'dob',\n",
       "       'outcome_date', 'obs_time_end', 'index_date', 'dx_date',\n",
       "       'obs_time_start', 'diag_date', 'Id_diag_diff'],\n",
       "      dtype='object')"
      ]
     },
     "execution_count": 58,
     "metadata": {},
     "output_type": "execute_result"
    }
   ],
   "source": [
    "M.keys()"
   ]
  },
  {
   "cell_type": "code",
   "execution_count": 59,
   "id": "3ed76f5c-ab80-4ed9-90d1-d80ede20287a",
   "metadata": {
    "tags": []
   },
   "outputs": [
    {
     "data": {
      "text/plain": [
       "0.5488859847718933"
      ]
     },
     "execution_count": 59,
     "metadata": {},
     "output_type": "execute_result"
    }
   ],
   "source": [
    "sklearn.metrics.roc_auc_score(m1['outcome'],  m1['p6'], average = 'samples')\n"
   ]
  },
  {
   "cell_type": "code",
   "execution_count": 60,
   "id": "d65ee1e0-3c7e-4767-a358-7cb1270fd1e2",
   "metadata": {
    "tags": []
   },
   "outputs": [
    {
     "data": {
      "text/plain": [
       "array([[5925,   39],\n",
       "       [ 604,    3]], dtype=int64)"
      ]
     },
     "execution_count": 60,
     "metadata": {},
     "output_type": "execute_result"
    }
   ],
   "source": [
    "( confusion_matrix (m1['outcome'],  m1['p6']>.5) )"
   ]
  },
  {
   "cell_type": "code",
   "execution_count": 46,
   "id": "981bbaf3-1a93-4618-ae9f-ffd7bc3793d9",
   "metadata": {},
   "outputs": [],
   "source": [
    "# how many people had event within 6 months of index date"
   ]
  },
  {
   "cell_type": "code",
   "execution_count": 47,
   "id": "28235e3d-d8e2-424b-b064-e0b9d45c7881",
   "metadata": {
    "tags": []
   },
   "outputs": [],
   "source": [
    "m1.to_csv('output/yMulti1.csv') "
   ]
  },
  {
   "cell_type": "code",
   "execution_count": 31,
   "id": "112b112b-b97d-4328-9fb2-a9aa34b70486",
   "metadata": {},
   "outputs": [],
   "source": [
    "#m1.to_excel('output/dxMD_Sensitivity90.xlsx') "
   ]
  },
  {
   "cell_type": "code",
   "execution_count": 35,
   "id": "ecc15a95-38ea-4f44-a4be-1692fb6bebac",
   "metadata": {},
   "outputs": [
    {
     "ename": "KeyError",
     "evalue": "'len180'",
     "output_type": "error",
     "traceback": [
      "\u001b[1;31m---------------------------------------------------------------------------\u001b[0m",
      "\u001b[1;31mKeyError\u001b[0m                                  Traceback (most recent call last)",
      "File \u001b[1;32mD:\\Programs\\Anaconda3\\Lib\\site-packages\\pandas\\core\\indexes\\base.py:3653\u001b[0m, in \u001b[0;36mIndex.get_loc\u001b[1;34m(self, key)\u001b[0m\n\u001b[0;32m   3652\u001b[0m \u001b[38;5;28;01mtry\u001b[39;00m:\n\u001b[1;32m-> 3653\u001b[0m     \u001b[38;5;28;01mreturn\u001b[39;00m \u001b[38;5;28mself\u001b[39m\u001b[38;5;241m.\u001b[39m_engine\u001b[38;5;241m.\u001b[39mget_loc(casted_key)\n\u001b[0;32m   3654\u001b[0m \u001b[38;5;28;01mexcept\u001b[39;00m \u001b[38;5;167;01mKeyError\u001b[39;00m \u001b[38;5;28;01mas\u001b[39;00m err:\n",
      "File \u001b[1;32mD:\\Programs\\Anaconda3\\Lib\\site-packages\\pandas\\_libs\\index.pyx:147\u001b[0m, in \u001b[0;36mpandas._libs.index.IndexEngine.get_loc\u001b[1;34m()\u001b[0m\n",
      "File \u001b[1;32mD:\\Programs\\Anaconda3\\Lib\\site-packages\\pandas\\_libs\\index.pyx:176\u001b[0m, in \u001b[0;36mpandas._libs.index.IndexEngine.get_loc\u001b[1;34m()\u001b[0m\n",
      "File \u001b[1;32mpandas\\_libs\\hashtable_class_helper.pxi:7080\u001b[0m, in \u001b[0;36mpandas._libs.hashtable.PyObjectHashTable.get_item\u001b[1;34m()\u001b[0m\n",
      "File \u001b[1;32mpandas\\_libs\\hashtable_class_helper.pxi:7088\u001b[0m, in \u001b[0;36mpandas._libs.hashtable.PyObjectHashTable.get_item\u001b[1;34m()\u001b[0m\n",
      "\u001b[1;31mKeyError\u001b[0m: 'len180'",
      "\nThe above exception was the direct cause of the following exception:\n",
      "\u001b[1;31mKeyError\u001b[0m                                  Traceback (most recent call last)",
      "Cell \u001b[1;32mIn[35], line 1\u001b[0m\n\u001b[1;32m----> 1\u001b[0m statistics\u001b[38;5;241m.\u001b[39mquantiles( M[\u001b[38;5;124m'\u001b[39m\u001b[38;5;124mlen180\u001b[39m\u001b[38;5;124m'\u001b[39m],n\u001b[38;5;241m=\u001b[39m\u001b[38;5;241m20\u001b[39m)\n",
      "File \u001b[1;32mD:\\Programs\\Anaconda3\\Lib\\site-packages\\pandas\\core\\frame.py:3761\u001b[0m, in \u001b[0;36mDataFrame.__getitem__\u001b[1;34m(self, key)\u001b[0m\n\u001b[0;32m   3759\u001b[0m \u001b[38;5;28;01mif\u001b[39;00m \u001b[38;5;28mself\u001b[39m\u001b[38;5;241m.\u001b[39mcolumns\u001b[38;5;241m.\u001b[39mnlevels \u001b[38;5;241m>\u001b[39m \u001b[38;5;241m1\u001b[39m:\n\u001b[0;32m   3760\u001b[0m     \u001b[38;5;28;01mreturn\u001b[39;00m \u001b[38;5;28mself\u001b[39m\u001b[38;5;241m.\u001b[39m_getitem_multilevel(key)\n\u001b[1;32m-> 3761\u001b[0m indexer \u001b[38;5;241m=\u001b[39m \u001b[38;5;28mself\u001b[39m\u001b[38;5;241m.\u001b[39mcolumns\u001b[38;5;241m.\u001b[39mget_loc(key)\n\u001b[0;32m   3762\u001b[0m \u001b[38;5;28;01mif\u001b[39;00m is_integer(indexer):\n\u001b[0;32m   3763\u001b[0m     indexer \u001b[38;5;241m=\u001b[39m [indexer]\n",
      "File \u001b[1;32mD:\\Programs\\Anaconda3\\Lib\\site-packages\\pandas\\core\\indexes\\base.py:3655\u001b[0m, in \u001b[0;36mIndex.get_loc\u001b[1;34m(self, key)\u001b[0m\n\u001b[0;32m   3653\u001b[0m     \u001b[38;5;28;01mreturn\u001b[39;00m \u001b[38;5;28mself\u001b[39m\u001b[38;5;241m.\u001b[39m_engine\u001b[38;5;241m.\u001b[39mget_loc(casted_key)\n\u001b[0;32m   3654\u001b[0m \u001b[38;5;28;01mexcept\u001b[39;00m \u001b[38;5;167;01mKeyError\u001b[39;00m \u001b[38;5;28;01mas\u001b[39;00m err:\n\u001b[1;32m-> 3655\u001b[0m     \u001b[38;5;28;01mraise\u001b[39;00m \u001b[38;5;167;01mKeyError\u001b[39;00m(key) \u001b[38;5;28;01mfrom\u001b[39;00m \u001b[38;5;21;01merr\u001b[39;00m\n\u001b[0;32m   3656\u001b[0m \u001b[38;5;28;01mexcept\u001b[39;00m \u001b[38;5;167;01mTypeError\u001b[39;00m:\n\u001b[0;32m   3657\u001b[0m     \u001b[38;5;66;03m# If we have a listlike key, _check_indexing_error will raise\u001b[39;00m\n\u001b[0;32m   3658\u001b[0m     \u001b[38;5;66;03m#  InvalidIndexError. Otherwise we fall through and re-raise\u001b[39;00m\n\u001b[0;32m   3659\u001b[0m     \u001b[38;5;66;03m#  the TypeError.\u001b[39;00m\n\u001b[0;32m   3660\u001b[0m     \u001b[38;5;28mself\u001b[39m\u001b[38;5;241m.\u001b[39m_check_indexing_error(key)\n",
      "\u001b[1;31mKeyError\u001b[0m: 'len180'"
     ]
    }
   ],
   "source": [
    "statistics.quantiles( M['len180'],n=20)"
   ]
  },
  {
   "cell_type": "code",
   "execution_count": 23,
   "id": "df19f012-3361-4e45-bd01-22dd2fc015cd",
   "metadata": {},
   "outputs": [
    {
     "data": {
      "text/plain": [
       "(array([2.2715e+04, 1.8050e+03, 1.3000e+02, 2.5000e+01, 1.2000e+01,\n",
       "        1.0000e+00, 1.0000e+00, 1.0000e+00, 1.0000e+00, 2.0000e+00]),\n",
       " array([1.00000e+00, 2.37810e+03, 4.75520e+03, 7.13230e+03, 9.50940e+03,\n",
       "        1.18865e+04, 1.42636e+04, 1.66407e+04, 1.90178e+04, 2.13949e+04,\n",
       "        2.37720e+04]),\n",
       " <BarContainer object of 10 artists>)"
      ]
     },
     "execution_count": 23,
     "metadata": {},
     "output_type": "execute_result"
    }
   ],
   "source": [
    "plt.hist(M['len180'])"
   ]
  },
  {
   "cell_type": "code",
   "execution_count": null,
   "id": "2e1d9a19-4dbb-4201-bcb9-8ecaaea3619a",
   "metadata": {},
   "outputs": [],
   "source": []
  },
  {
   "cell_type": "code",
   "execution_count": 10,
   "id": "2943eb76-d00c-40a6-b788-9be6f1250aae",
   "metadata": {
    "tags": []
   },
   "outputs": [
    {
     "name": "stderr",
     "output_type": "stream",
     "text": [
      "C:\\Users\\VHANYNHeT\\AppData\\Local\\Temp\\2\\ipykernel_73432\\1057840980.py:11: SettingWithCopyWarning: \n",
      "A value is trying to be set on a copy of a slice from a DataFrame.\n",
      "Try using .loc[row_indexer,col_indexer] = value instead\n",
      "\n",
      "See the caveats in the documentation: https://pandas.pydata.org/pandas-docs/stable/user_guide/indexing.html#returning-a-view-versus-a-copy\n",
      "  m['d']= pd.to_datetime(m['outcome_date']) - pd.to_datetime(m['model_date'])\n",
      "C:\\Users\\VHANYNHeT\\AppData\\Local\\Temp\\2\\ipykernel_73432\\1057840980.py:16: SettingWithCopyWarning: \n",
      "A value is trying to be set on a copy of a slice from a DataFrame.\n",
      "Try using .loc[row_indexer,col_indexer] = value instead\n",
      "\n",
      "See the caveats in the documentation: https://pandas.pydata.org/pandas-docs/stable/user_guide/indexing.html#returning-a-view-versus-a-copy\n",
      "  m_VE0[\"outcome\"] = m_VE0[\"outcome\"].replace(True, False)\n"
     ]
    }
   ],
   "source": [
    "m['d']= pd.to_datetime(m['outcome_date']) - pd.to_datetime(m['model_date'])\n",
    "m_VE = m[ m['outcome'] ]\n",
    "m_VE1 = m_VE [   (pd.to_datetime( m_VE[\"outcome_date\"] ) -pd.to_datetime( m_VE[\"index_date\"] )) < datetime.timedelta(730)]\n",
    "m_VE0 = m_VE [   (pd.to_datetime( m_VE[\"outcome_date\"] ) -pd.to_datetime( m_VE[\"index_date\"] )) >= datetime.timedelta(730)]\n",
    "m_VE0[\"outcome\"] = m_VE0[\"outcome\"].replace(True, False)  \n",
    "m0= m[ ~ m['outcome'] ]\n",
    "\n",
    "m1 = pd.concat([m_VE1, m_VE0, m0])"
   ]
  }
 ],
 "metadata": {
  "kernelspec": {
   "display_name": "Python 3 (ipykernel)",
   "language": "python",
   "name": "python3"
  },
  "language_info": {
   "codemirror_mode": {
    "name": "ipython",
    "version": 3
   },
   "file_extension": ".py",
   "mimetype": "text/x-python",
   "name": "python",
   "nbconvert_exporter": "python",
   "pygments_lexer": "ipython3",
   "version": "3.11.5"
  }
 },
 "nbformat": 4,
 "nbformat_minor": 5
}
