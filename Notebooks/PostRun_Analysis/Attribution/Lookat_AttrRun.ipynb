{
 "cells": [
  {
   "cell_type": "code",
   "execution_count": 2,
   "id": "6267c1e7-04cd-46b8-9342-96e02e3d239c",
   "metadata": {
    "tags": []
   },
   "outputs": [],
   "source": [
    "\n",
    "src = \"G:\\\\FillmoreCancerData\\\\markhe\\\\VTERisk\\src\" \n",
    "vterisk_path = \"G:\\\\FillmoreCancerData\\\\markhe\\\\VTERisk\" \n",
    "src_path2 = \"G:\\\\FillmoreCancerData\\\\markhe\\\\VTERisk - Copy\" "
   ]
  },
  {
   "cell_type": "code",
   "execution_count": null,
   "id": "b449f32e-678e-4f3e-99b9-e1c0aa94deca",
   "metadata": {},
   "outputs": [],
   "source": []
  },
  {
   "cell_type": "code",
   "execution_count": 3,
   "id": "b6dd91ad-fd51-41d5-9bc7-ea9f6438231b",
   "metadata": {
    "tags": []
   },
   "outputs": [],
   "source": [
    "%load_ext autoreload\n",
    "%autoreload 2\n",
    "import os\n",
    "import sys\n",
    "module_path = os.path.abspath(src) # or the path to your source code\n",
    "sys.path.insert(0, module_path)"
   ]
  },
  {
   "cell_type": "code",
   "execution_count": 4,
   "id": "f0095ca1-eda8-4b9c-b908-78d7305d3a3e",
   "metadata": {
    "tags": []
   },
   "outputs": [],
   "source": [
    "\n",
    "sys.path.insert(0, os.path.abspath(vterisk_path)) # or the path to your source code\n"
   ]
  },
  {
   "cell_type": "code",
   "execution_count": null,
   "id": "9e7215d1-6cd6-475e-9764-9bd7241b3303",
   "metadata": {},
   "outputs": [],
   "source": []
  },
  {
   "cell_type": "code",
   "execution_count": 5,
   "id": "d959a464-006e-4fe7-a0b4-7efe8f86a43b",
   "metadata": {
    "tags": []
   },
   "outputs": [],
   "source": [
    "import json\n",
    "from collections import Counter\n",
    "from tqdm import tqdm\n",
    "import pickle\n",
    "import numpy as np\n",
    "import pandas as pd\n",
    "pd.options.display.max_colwidth = 100\n",
    "import matplotlib\n",
    "matplotlib.use('Agg')\n",
    "import seaborn as sns\n",
    "import matplotlib.pyplot as plt\n",
    "from matplotlib.gridspec import GridSpec\n",
    "import sys\n",
    "import os\n",
    "import argparse\n",
    "from os.path import dirname, realpath\n",
    "\n",
    "import hashlib\n",
    "import datetime\n",
    "import datetime as datetime\n",
    "import sklearn\n",
    "import statistics\n",
    "sys.path.append(\"./src/\")\n",
    "#from disrisknet.utils.parsing import parse_args\n",
    "import pdb\n",
    "\n",
    "src_path = \"G:\\\\FillmoreCancerData\\\\markhe\\\\VTERisk\" \n",
    "src_path2 = \"G:\\\\FillmoreCancerData\\\\markhe\\\\VTERisk - Copy\" \n",
    "\n",
    "def md5(key):\n",
    "    return hashlib.md5(repr(key).encode()).hexdigest()\n",
    "\n",
    "from sklearn.metrics import confusion_matrix"
   ]
  },
  {
   "cell_type": "code",
   "execution_count": 6,
   "id": "bc9f0458-ce24-4300-b732-a6d69dcc5f5b",
   "metadata": {
    "tags": []
   },
   "outputs": [],
   "source": [
    "testDF = pd.read_csv(os.path.join(src_path2, 'Notebooks/Find/fixed_dx.csv'))\n"
   ]
  },
  {
   "cell_type": "code",
   "execution_count": 7,
   "id": "4eb3c62b-25cd-480c-ad20-94c94a571027",
   "metadata": {},
   "outputs": [],
   "source": [
    "#logpath = os.path.join(src_path ,'logs_transformer_vte/y_CMP/10_17_Good/', \"d8a1456b72625be735040911ffbe13c6.results.test_preds\")\n",
    "logpath = os.path.join(src_path ,'logs_transformer_vte/K/12_4/Phe2_Repeat', \"ac2cf952ecc5fb91adf42f4c9a3d32c7.results.dev_preds\")\n"
   ]
  },
  {
   "cell_type": "code",
   "execution_count": 8,
   "id": "bac6dcd9-27ee-4bf7-80f4-dd664830d98a",
   "metadata": {
    "tags": []
   },
   "outputs": [],
   "source": [
    " \n",
    "with open(logpath, 'rb') as f:\n",
    "    R6 = pickle.load(f)\n",
    "    p6 = np.array(R6['probs'])\n",
    "\n",
    "pat_ids = (testDF['patient_id'] ).astype(int)\n",
    " "
   ]
  },
  {
   "cell_type": "code",
   "execution_count": 9,
   "id": "9d0168b7-1d3a-4e60-abfa-e2330eff385b",
   "metadata": {
    "tags": []
   },
   "outputs": [],
   "source": [
    "attr_path = os.path.join(src_path ,'logs_transformer_vte/K/12_4/Phe2_Repeat', \"44fd1ed43632489929034c0c5ed50433.results.test_attribution_3\")\n"
   ]
  },
  {
   "cell_type": "code",
   "execution_count": 10,
   "id": "e4df4bc3-09a0-4163-aac4-368d95b6e9ab",
   "metadata": {
    "tags": []
   },
   "outputs": [],
   "source": [
    " \n",
    "with open(attr_path, 'rb') as f:\n",
    "    A = pickle.load(f)\n"
   ]
  },
  {
   "cell_type": "code",
   "execution_count": 11,
   "id": "62ff98c2-9fce-4827-aa73-fdbcba846b80",
   "metadata": {
    "tags": []
   },
   "outputs": [
    {
     "data": {
      "text/plain": [
       "defaultdict(list, {})"
      ]
     },
     "execution_count": 11,
     "metadata": {},
     "output_type": "execute_result"
    }
   ],
   "source": [
    "A"
   ]
  },
  {
   "cell_type": "code",
   "execution_count": null,
   "id": "bafe3ada-f321-47a4-aace-ded840bfda60",
   "metadata": {},
   "outputs": [],
   "source": []
  },
  {
   "cell_type": "code",
   "execution_count": null,
   "id": "de7f13e5-0083-4740-991f-5cd55c046051",
   "metadata": {},
   "outputs": [],
   "source": []
  },
  {
   "cell_type": "code",
   "execution_count": null,
   "id": "147254e6-9561-4b58-a303-48e949d41481",
   "metadata": {},
   "outputs": [],
   "source": []
  },
  {
   "cell_type": "code",
   "execution_count": 10,
   "id": "ebb34fd8-c15f-4430-ae76-8ae7df910cbf",
   "metadata": {
    "tags": []
   },
   "outputs": [],
   "source": [
    "import disrisknet\n",
    "import disrisknet.utils"
   ]
  },
  {
   "cell_type": "code",
   "execution_count": 11,
   "id": "8a0736ea-373a-4985-b145-7f5786130f72",
   "metadata": {
    "tags": []
   },
   "outputs": [
    {
     "ename": "ModuleNotFoundError",
     "evalue": "No module named 'captum'",
     "output_type": "error",
     "traceback": [
      "\u001b[1;31m---------------------------------------------------------------------------\u001b[0m",
      "\u001b[1;31mModuleNotFoundError\u001b[0m                       Traceback (most recent call last)",
      "Cell \u001b[1;32mIn[11], line 6\u001b[0m\n\u001b[0;32m      4\u001b[0m \u001b[38;5;28;01mfrom\u001b[39;00m \u001b[38;5;21;01mcollections\u001b[39;00m \u001b[38;5;28;01mimport\u001b[39;00m defaultdict\n\u001b[0;32m      5\u001b[0m \u001b[38;5;28;01mfrom\u001b[39;00m \u001b[38;5;21;01mtqdm\u001b[39;00m \u001b[38;5;28;01mimport\u001b[39;00m tqdm\n\u001b[1;32m----> 6\u001b[0m \u001b[38;5;28;01mfrom\u001b[39;00m \u001b[38;5;21;01mcaptum\u001b[39;00m\u001b[38;5;21;01m.\u001b[39;00m\u001b[38;5;21;01mattr\u001b[39;00m \u001b[38;5;28;01mimport\u001b[39;00m LayerIntegratedGradients, LayerGradientShap,  TokenReferenceBase, visualization\n\u001b[0;32m      7\u001b[0m \u001b[38;5;28;01mimport\u001b[39;00m \u001b[38;5;21;01mtorch\u001b[39;00m\n\u001b[0;32m      8\u001b[0m \u001b[38;5;28;01mimport\u001b[39;00m \u001b[38;5;21;01mpandas\u001b[39;00m \u001b[38;5;28;01mas\u001b[39;00m \u001b[38;5;21;01mpd\u001b[39;00m\n",
      "\u001b[1;31mModuleNotFoundError\u001b[0m: No module named 'captum'"
     ]
    }
   ],
   "source": [
    "import disrisknet.learn.train as train\n",
    "from copy import deepcopy\n",
    "from disrisknet.utils.learn import init_metrics_dictionary, get_dataset_loader, get_train_variables\n",
    "from collections import defaultdict\n",
    "from tqdm import tqdm\n",
    "from captum.attr import LayerIntegratedGradients, LayerGradientShap,  TokenReferenceBase, visualization\n",
    "import torch\n",
    "import pandas as pd\n",
    "import numpy as np\n",
    "from functools import partial"
   ]
  },
  {
   "cell_type": "code",
   "execution_count": 2,
   "id": "80327cfd-f2d4-400a-b648-86f98137d15e",
   "metadata": {
    "tags": []
   },
   "outputs": [
    {
     "ename": "ModuleNotFoundError",
     "evalue": "No module named 'disrisknet'",
     "output_type": "error",
     "traceback": [
      "\u001b[1;31m---------------------------------------------------------------------------\u001b[0m",
      "\u001b[1;31mModuleNotFoundError\u001b[0m                       Traceback (most recent call last)",
      "Cell \u001b[1;32mIn[2], line 1\u001b[0m\n\u001b[1;32m----> 1\u001b[0m \u001b[38;5;28;01mfrom\u001b[39;00m \u001b[38;5;21;01mdisrisknet\u001b[39;00m\u001b[38;5;21;01m.\u001b[39;00m\u001b[38;5;21;01mutils\u001b[39;00m\u001b[38;5;21;01m.\u001b[39;00m\u001b[38;5;21;01mparsing\u001b[39;00m \u001b[38;5;28;01mimport\u001b[39;00m CODE2DESCRIPTION\n",
      "\u001b[1;31mModuleNotFoundError\u001b[0m: No module named 'disrisknet'"
     ]
    }
   ],
   "source": [
    "from disrisknet.utils.parsing import CODE2DESCRIPTION\n"
   ]
  },
  {
   "cell_type": "code",
   "execution_count": 20,
   "id": "e3be7302-d470-4992-b494-5e1f628d7bf9",
   "metadata": {
    "tags": []
   },
   "outputs": [
    {
     "ename": "FileNotFoundError",
     "evalue": "[Errno 2] No such file or directory: 'src/data/icd10_eng_diag_chapters.tsv'",
     "output_type": "error",
     "traceback": [
      "\u001b[1;31m---------------------------------------------------------------------------\u001b[0m",
      "\u001b[1;31mFileNotFoundError\u001b[0m                         Traceback (most recent call last)",
      "Cell \u001b[1;32mIn[20], line 1\u001b[0m\n\u001b[1;32m----> 1\u001b[0m \u001b[38;5;28;01mfrom\u001b[39;00m \u001b[38;5;21;01mdisrisknet\u001b[39;00m\u001b[38;5;21;01m.\u001b[39;00m\u001b[38;5;21;01mlearn\u001b[39;00m \u001b[38;5;28;01mimport\u001b[39;00m attribute\n",
      "File \u001b[1;32mG:\\FillmoreCancerData\\markhe\\VTERisk\\src\\disrisknet\\learn\\attribute.py:5\u001b[0m\n\u001b[0;32m      3\u001b[0m \u001b[38;5;28;01mfrom\u001b[39;00m \u001b[38;5;21;01mdisrisknet\u001b[39;00m\u001b[38;5;21;01m.\u001b[39;00m\u001b[38;5;21;01mutils\u001b[39;00m\u001b[38;5;21;01m.\u001b[39;00m\u001b[38;5;21;01mlearn\u001b[39;00m \u001b[38;5;28;01mimport\u001b[39;00m init_metrics_dictionary, get_dataset_loader, get_train_variables\n\u001b[0;32m      4\u001b[0m \u001b[38;5;28;01mfrom\u001b[39;00m \u001b[38;5;21;01mcollections\u001b[39;00m \u001b[38;5;28;01mimport\u001b[39;00m defaultdict\n\u001b[1;32m----> 5\u001b[0m \u001b[38;5;28;01mfrom\u001b[39;00m \u001b[38;5;21;01mdisrisknet\u001b[39;00m\u001b[38;5;21;01m.\u001b[39;00m\u001b[38;5;21;01mutils\u001b[39;00m\u001b[38;5;21;01m.\u001b[39;00m\u001b[38;5;21;01mparsing\u001b[39;00m \u001b[38;5;28;01mimport\u001b[39;00m CODE2DESCRIPTION\n\u001b[0;32m      6\u001b[0m \u001b[38;5;28;01mfrom\u001b[39;00m \u001b[38;5;21;01mtqdm\u001b[39;00m \u001b[38;5;28;01mimport\u001b[39;00m tqdm\n\u001b[0;32m      7\u001b[0m \u001b[38;5;28;01mfrom\u001b[39;00m \u001b[38;5;21;01mcaptum\u001b[39;00m\u001b[38;5;21;01m.\u001b[39;00m\u001b[38;5;21;01mattr\u001b[39;00m \u001b[38;5;28;01mimport\u001b[39;00m LayerIntegratedGradients, LayerGradientShap,  TokenReferenceBase, visualization\n",
      "File \u001b[1;32mG:\\FillmoreCancerData\\markhe\\VTERisk\\src\\disrisknet\\utils\\parsing.py:15\u001b[0m\n\u001b[0;32m     12\u001b[0m ICD9_MAPPER_NAME \u001b[38;5;241m=\u001b[39m \u001b[38;5;124m\"\u001b[39m\u001b[38;5;124msrc/data/icd9_disease_descriptions.tsv\u001b[39m\u001b[38;5;124m\"\u001b[39m\n\u001b[0;32m     13\u001b[0m ICD10TO9_MAPPER_NAME \u001b[38;5;241m=\u001b[39m \u001b[38;5;124m\"\u001b[39m\u001b[38;5;124msrc/data/icd10cmtoicd9gem.txt\u001b[39m\u001b[38;5;124m\"\u001b[39m\n\u001b[1;32m---> 15\u001b[0m CODEDF10 \u001b[38;5;241m=\u001b[39m pd\u001b[38;5;241m.\u001b[39mread_csv(ICD10_MAPPER_NAME, sep\u001b[38;5;241m=\u001b[39m\u001b[38;5;124m'\u001b[39m\u001b[38;5;130;01m\\t\u001b[39;00m\u001b[38;5;124m'\u001b[39m, header\u001b[38;5;241m=\u001b[39m\u001b[38;5;28;01mNone\u001b[39;00m,\n\u001b[0;32m     16\u001b[0m     names\u001b[38;5;241m=\u001b[39m[\u001b[38;5;124m'\u001b[39m\u001b[38;5;124mcode\u001b[39m\u001b[38;5;124m'\u001b[39m, \u001b[38;5;124m'\u001b[39m\u001b[38;5;124mdescription\u001b[39m\u001b[38;5;124m'\u001b[39m, \u001b[38;5;124m'\u001b[39m\u001b[38;5;124mchapter\u001b[39m\u001b[38;5;124m'\u001b[39m, \u001b[38;5;124m'\u001b[39m\u001b[38;5;124mchapter_name\u001b[39m\u001b[38;5;124m'\u001b[39m, \u001b[38;5;124m'\u001b[39m\u001b[38;5;124mblock_name\u001b[39m\u001b[38;5;124m'\u001b[39m, \u001b[38;5;124m'\u001b[39m\u001b[38;5;124mblock\u001b[39m\u001b[38;5;124m'\u001b[39m]\n\u001b[0;32m     17\u001b[0m     )\n\u001b[0;32m     19\u001b[0m CODE_DF_10TO9 \u001b[38;5;241m=\u001b[39m pd\u001b[38;5;241m.\u001b[39mread_csv(ICD10TO9_MAPPER_NAME, sep\u001b[38;5;241m=\u001b[39m\u001b[38;5;124m'\u001b[39m\u001b[38;5;124m,\u001b[39m\u001b[38;5;124m'\u001b[39m, header\u001b[38;5;241m=\u001b[39m\u001b[38;5;28;01mNone\u001b[39;00m,\n\u001b[0;32m     20\u001b[0m     names\u001b[38;5;241m=\u001b[39m[\u001b[38;5;124m'\u001b[39m\u001b[38;5;124mICD9\u001b[39m\u001b[38;5;124m'\u001b[39m, \u001b[38;5;124m'\u001b[39m\u001b[38;5;124mICD10\u001b[39m\u001b[38;5;124m'\u001b[39m, \u001b[38;5;124m'\u001b[39m\u001b[38;5;124munk\u001b[39m\u001b[38;5;124m'\u001b[39m]\n\u001b[0;32m     21\u001b[0m )\n\u001b[0;32m     22\u001b[0m map_9_to_10 \u001b[38;5;241m=\u001b[39m {c9:c10 \u001b[38;5;28;01mfor\u001b[39;00m c9, c10 \u001b[38;5;129;01min\u001b[39;00m \u001b[38;5;28mzip\u001b[39m(CODE_DF_10TO9[\u001b[38;5;124m'\u001b[39m\u001b[38;5;124mICD9\u001b[39m\u001b[38;5;124m'\u001b[39m], CODE_DF_10TO9[\u001b[38;5;124m'\u001b[39m\u001b[38;5;124mICD10\u001b[39m\u001b[38;5;124m'\u001b[39m])}\n",
      "File \u001b[1;32mD:\\Programs\\Anaconda3\\Lib\\site-packages\\pandas\\io\\parsers\\readers.py:912\u001b[0m, in \u001b[0;36mread_csv\u001b[1;34m(filepath_or_buffer, sep, delimiter, header, names, index_col, usecols, dtype, engine, converters, true_values, false_values, skipinitialspace, skiprows, skipfooter, nrows, na_values, keep_default_na, na_filter, verbose, skip_blank_lines, parse_dates, infer_datetime_format, keep_date_col, date_parser, date_format, dayfirst, cache_dates, iterator, chunksize, compression, thousands, decimal, lineterminator, quotechar, quoting, doublequote, escapechar, comment, encoding, encoding_errors, dialect, on_bad_lines, delim_whitespace, low_memory, memory_map, float_precision, storage_options, dtype_backend)\u001b[0m\n\u001b[0;32m    899\u001b[0m kwds_defaults \u001b[38;5;241m=\u001b[39m _refine_defaults_read(\n\u001b[0;32m    900\u001b[0m     dialect,\n\u001b[0;32m    901\u001b[0m     delimiter,\n\u001b[1;32m   (...)\u001b[0m\n\u001b[0;32m    908\u001b[0m     dtype_backend\u001b[38;5;241m=\u001b[39mdtype_backend,\n\u001b[0;32m    909\u001b[0m )\n\u001b[0;32m    910\u001b[0m kwds\u001b[38;5;241m.\u001b[39mupdate(kwds_defaults)\n\u001b[1;32m--> 912\u001b[0m \u001b[38;5;28;01mreturn\u001b[39;00m _read(filepath_or_buffer, kwds)\n",
      "File \u001b[1;32mD:\\Programs\\Anaconda3\\Lib\\site-packages\\pandas\\io\\parsers\\readers.py:577\u001b[0m, in \u001b[0;36m_read\u001b[1;34m(filepath_or_buffer, kwds)\u001b[0m\n\u001b[0;32m    574\u001b[0m _validate_names(kwds\u001b[38;5;241m.\u001b[39mget(\u001b[38;5;124m\"\u001b[39m\u001b[38;5;124mnames\u001b[39m\u001b[38;5;124m\"\u001b[39m, \u001b[38;5;28;01mNone\u001b[39;00m))\n\u001b[0;32m    576\u001b[0m \u001b[38;5;66;03m# Create the parser.\u001b[39;00m\n\u001b[1;32m--> 577\u001b[0m parser \u001b[38;5;241m=\u001b[39m TextFileReader(filepath_or_buffer, \u001b[38;5;241m*\u001b[39m\u001b[38;5;241m*\u001b[39mkwds)\n\u001b[0;32m    579\u001b[0m \u001b[38;5;28;01mif\u001b[39;00m chunksize \u001b[38;5;129;01mor\u001b[39;00m iterator:\n\u001b[0;32m    580\u001b[0m     \u001b[38;5;28;01mreturn\u001b[39;00m parser\n",
      "File \u001b[1;32mD:\\Programs\\Anaconda3\\Lib\\site-packages\\pandas\\io\\parsers\\readers.py:1407\u001b[0m, in \u001b[0;36mTextFileReader.__init__\u001b[1;34m(self, f, engine, **kwds)\u001b[0m\n\u001b[0;32m   1404\u001b[0m     \u001b[38;5;28mself\u001b[39m\u001b[38;5;241m.\u001b[39moptions[\u001b[38;5;124m\"\u001b[39m\u001b[38;5;124mhas_index_names\u001b[39m\u001b[38;5;124m\"\u001b[39m] \u001b[38;5;241m=\u001b[39m kwds[\u001b[38;5;124m\"\u001b[39m\u001b[38;5;124mhas_index_names\u001b[39m\u001b[38;5;124m\"\u001b[39m]\n\u001b[0;32m   1406\u001b[0m \u001b[38;5;28mself\u001b[39m\u001b[38;5;241m.\u001b[39mhandles: IOHandles \u001b[38;5;241m|\u001b[39m \u001b[38;5;28;01mNone\u001b[39;00m \u001b[38;5;241m=\u001b[39m \u001b[38;5;28;01mNone\u001b[39;00m\n\u001b[1;32m-> 1407\u001b[0m \u001b[38;5;28mself\u001b[39m\u001b[38;5;241m.\u001b[39m_engine \u001b[38;5;241m=\u001b[39m \u001b[38;5;28mself\u001b[39m\u001b[38;5;241m.\u001b[39m_make_engine(f, \u001b[38;5;28mself\u001b[39m\u001b[38;5;241m.\u001b[39mengine)\n",
      "File \u001b[1;32mD:\\Programs\\Anaconda3\\Lib\\site-packages\\pandas\\io\\parsers\\readers.py:1661\u001b[0m, in \u001b[0;36mTextFileReader._make_engine\u001b[1;34m(self, f, engine)\u001b[0m\n\u001b[0;32m   1659\u001b[0m     \u001b[38;5;28;01mif\u001b[39;00m \u001b[38;5;124m\"\u001b[39m\u001b[38;5;124mb\u001b[39m\u001b[38;5;124m\"\u001b[39m \u001b[38;5;129;01mnot\u001b[39;00m \u001b[38;5;129;01min\u001b[39;00m mode:\n\u001b[0;32m   1660\u001b[0m         mode \u001b[38;5;241m+\u001b[39m\u001b[38;5;241m=\u001b[39m \u001b[38;5;124m\"\u001b[39m\u001b[38;5;124mb\u001b[39m\u001b[38;5;124m\"\u001b[39m\n\u001b[1;32m-> 1661\u001b[0m \u001b[38;5;28mself\u001b[39m\u001b[38;5;241m.\u001b[39mhandles \u001b[38;5;241m=\u001b[39m get_handle(\n\u001b[0;32m   1662\u001b[0m     f,\n\u001b[0;32m   1663\u001b[0m     mode,\n\u001b[0;32m   1664\u001b[0m     encoding\u001b[38;5;241m=\u001b[39m\u001b[38;5;28mself\u001b[39m\u001b[38;5;241m.\u001b[39moptions\u001b[38;5;241m.\u001b[39mget(\u001b[38;5;124m\"\u001b[39m\u001b[38;5;124mencoding\u001b[39m\u001b[38;5;124m\"\u001b[39m, \u001b[38;5;28;01mNone\u001b[39;00m),\n\u001b[0;32m   1665\u001b[0m     compression\u001b[38;5;241m=\u001b[39m\u001b[38;5;28mself\u001b[39m\u001b[38;5;241m.\u001b[39moptions\u001b[38;5;241m.\u001b[39mget(\u001b[38;5;124m\"\u001b[39m\u001b[38;5;124mcompression\u001b[39m\u001b[38;5;124m\"\u001b[39m, \u001b[38;5;28;01mNone\u001b[39;00m),\n\u001b[0;32m   1666\u001b[0m     memory_map\u001b[38;5;241m=\u001b[39m\u001b[38;5;28mself\u001b[39m\u001b[38;5;241m.\u001b[39moptions\u001b[38;5;241m.\u001b[39mget(\u001b[38;5;124m\"\u001b[39m\u001b[38;5;124mmemory_map\u001b[39m\u001b[38;5;124m\"\u001b[39m, \u001b[38;5;28;01mFalse\u001b[39;00m),\n\u001b[0;32m   1667\u001b[0m     is_text\u001b[38;5;241m=\u001b[39mis_text,\n\u001b[0;32m   1668\u001b[0m     errors\u001b[38;5;241m=\u001b[39m\u001b[38;5;28mself\u001b[39m\u001b[38;5;241m.\u001b[39moptions\u001b[38;5;241m.\u001b[39mget(\u001b[38;5;124m\"\u001b[39m\u001b[38;5;124mencoding_errors\u001b[39m\u001b[38;5;124m\"\u001b[39m, \u001b[38;5;124m\"\u001b[39m\u001b[38;5;124mstrict\u001b[39m\u001b[38;5;124m\"\u001b[39m),\n\u001b[0;32m   1669\u001b[0m     storage_options\u001b[38;5;241m=\u001b[39m\u001b[38;5;28mself\u001b[39m\u001b[38;5;241m.\u001b[39moptions\u001b[38;5;241m.\u001b[39mget(\u001b[38;5;124m\"\u001b[39m\u001b[38;5;124mstorage_options\u001b[39m\u001b[38;5;124m\"\u001b[39m, \u001b[38;5;28;01mNone\u001b[39;00m),\n\u001b[0;32m   1670\u001b[0m )\n\u001b[0;32m   1671\u001b[0m \u001b[38;5;28;01massert\u001b[39;00m \u001b[38;5;28mself\u001b[39m\u001b[38;5;241m.\u001b[39mhandles \u001b[38;5;129;01mis\u001b[39;00m \u001b[38;5;129;01mnot\u001b[39;00m \u001b[38;5;28;01mNone\u001b[39;00m\n\u001b[0;32m   1672\u001b[0m f \u001b[38;5;241m=\u001b[39m \u001b[38;5;28mself\u001b[39m\u001b[38;5;241m.\u001b[39mhandles\u001b[38;5;241m.\u001b[39mhandle\n",
      "File \u001b[1;32mD:\\Programs\\Anaconda3\\Lib\\site-packages\\pandas\\io\\common.py:859\u001b[0m, in \u001b[0;36mget_handle\u001b[1;34m(path_or_buf, mode, encoding, compression, memory_map, is_text, errors, storage_options)\u001b[0m\n\u001b[0;32m    854\u001b[0m \u001b[38;5;28;01melif\u001b[39;00m \u001b[38;5;28misinstance\u001b[39m(handle, \u001b[38;5;28mstr\u001b[39m):\n\u001b[0;32m    855\u001b[0m     \u001b[38;5;66;03m# Check whether the filename is to be opened in binary mode.\u001b[39;00m\n\u001b[0;32m    856\u001b[0m     \u001b[38;5;66;03m# Binary mode does not support 'encoding' and 'newline'.\u001b[39;00m\n\u001b[0;32m    857\u001b[0m     \u001b[38;5;28;01mif\u001b[39;00m ioargs\u001b[38;5;241m.\u001b[39mencoding \u001b[38;5;129;01mand\u001b[39;00m \u001b[38;5;124m\"\u001b[39m\u001b[38;5;124mb\u001b[39m\u001b[38;5;124m\"\u001b[39m \u001b[38;5;129;01mnot\u001b[39;00m \u001b[38;5;129;01min\u001b[39;00m ioargs\u001b[38;5;241m.\u001b[39mmode:\n\u001b[0;32m    858\u001b[0m         \u001b[38;5;66;03m# Encoding\u001b[39;00m\n\u001b[1;32m--> 859\u001b[0m         handle \u001b[38;5;241m=\u001b[39m \u001b[38;5;28mopen\u001b[39m(\n\u001b[0;32m    860\u001b[0m             handle,\n\u001b[0;32m    861\u001b[0m             ioargs\u001b[38;5;241m.\u001b[39mmode,\n\u001b[0;32m    862\u001b[0m             encoding\u001b[38;5;241m=\u001b[39mioargs\u001b[38;5;241m.\u001b[39mencoding,\n\u001b[0;32m    863\u001b[0m             errors\u001b[38;5;241m=\u001b[39merrors,\n\u001b[0;32m    864\u001b[0m             newline\u001b[38;5;241m=\u001b[39m\u001b[38;5;124m\"\u001b[39m\u001b[38;5;124m\"\u001b[39m,\n\u001b[0;32m    865\u001b[0m         )\n\u001b[0;32m    866\u001b[0m     \u001b[38;5;28;01melse\u001b[39;00m:\n\u001b[0;32m    867\u001b[0m         \u001b[38;5;66;03m# Binary mode\u001b[39;00m\n\u001b[0;32m    868\u001b[0m         handle \u001b[38;5;241m=\u001b[39m \u001b[38;5;28mopen\u001b[39m(handle, ioargs\u001b[38;5;241m.\u001b[39mmode)\n",
      "\u001b[1;31mFileNotFoundError\u001b[0m: [Errno 2] No such file or directory: 'src/data/icd10_eng_diag_chapters.tsv'"
     ]
    }
   ],
   "source": [
    "from disrisknet.learn import attribute"
   ]
  },
  {
   "cell_type": "code",
   "execution_count": null,
   "id": "4d967f08-ab21-4082-abdc-83afb2e14a4e",
   "metadata": {},
   "outputs": [],
   "source": [
    "module_path = os.path.abspath(src) # or the path to your source code\n",
    "sys.path.insert(0, module_path)"
   ]
  },
  {
   "cell_type": "code",
   "execution_count": null,
   "id": "72d4ff77-d4f2-4976-804f-99db44616732",
   "metadata": {
    "tags": []
   },
   "outputs": [],
   "source": [
    "module_path"
   ]
  },
  {
   "cell_type": "code",
   "execution_count": null,
   "id": "c5c20af6-db83-4dbb-bf80-0e785a94517e",
   "metadata": {
    "tags": []
   },
   "outputs": [],
   "source": [
    "os.chdir(src_path)"
   ]
  },
  {
   "cell_type": "code",
   "execution_count": null,
   "id": "b8f22b76-8a26-4fad-94a1-4efe68c30eeb",
   "metadata": {
    "tags": []
   },
   "outputs": [],
   "source": [
    "import torchvision as tv\n",
    "import disrisknet\n",
    "\n",
    "import json\n",
    "from collections import Counter\n",
    "import numpy as np\n",
    "import pandas as pd\n",
    "import argparse\n",
    "from os.path import dirname, realpath\n",
    "import pickle as pkl\n",
    "import hashlib\n",
    "import datetime\n",
    "import datetime as datetime\n",
    "import torch\n",
    "from torch import nn, optim\n",
    "from torch.nn import functional as F\n",
    "\n",
    "from sklearn.calibration import calibration_curve\n",
    " \n",
    "def md5(key):\n",
    "    return hashlib.md5(repr(key).encode()).hexdigest()\n",
    "\n",
    "testDF = pd.read_csv(os.path.join(src_path2, 'Notebooks/Find/fixed_dx.csv'))\n",
    "pat_ids = (testDF['patient_id'] ).astype(int)\n",
    "\n",
    "testDF['pids'] = pat_ids.apply(md5)"
   ]
  },
  {
   "cell_type": "code",
   "execution_count": null,
   "id": "0dc20797-4425-4c1c-8775-0bbb7e83e7c8",
   "metadata": {
    "tags": []
   },
   "outputs": [],
   "source": [
    "logpath = os.path.join(src_path ,'logs_transformer_vte/H/11_7/', \"d93e7956f15305ad23c78d6884ca2816.results.test_preds\")\n",
    "#logpath = os.path.join(src_path ,'logs_transformer_vte/H/11_13/', \"f93477981e1e440dfe90d16d4e375622.results.test_preds\")"
   ]
  },
  {
   "cell_type": "code",
   "execution_count": null,
   "id": "78e28f5e-f496-422c-ae90-6966c05583b5",
   "metadata": {
    "tags": []
   },
   "outputs": [],
   "source": [
    "tdf = pd.DataFrame({'patient_id': (testDF['patient_id'] ),    \n",
    "                    'pids': (testDF['pids'] ),    \n",
    "                  'dob': (testDF['dob'] ),  \n",
    "                  'outcome_date': (testDF['outcome_date'] ), \n",
    "                  'obs_time_end': (testDF['obs_time_end'] ),  \n",
    "                  'index_date': (testDF['index_date'] ),  \n",
    "                  'diag_date': (testDF['diag_date'] ),  \n",
    "                  'outcome': (testDF['outcome'])    })\n",
    "\n",
    "with open(logpath, 'rb') as f:\n",
    "    R = pkl.load(f)\n",
    "    p = np.array(R['probs'])\n",
    "\n",
    "Df = pd.DataFrame.from_dict(R)\n",
    "Df['probs'] = Df['probs'].astype(float)\n",
    "Df['exams'] = Df['exams'].astype(int)\n",
    "M = pd.merge(tdf, Df)\n",
    " "
   ]
  },
  {
   "cell_type": "code",
   "execution_count": null,
   "id": "7a86c5f6-cd38-4807-b814-b0c1a87ef409",
   "metadata": {
    "tags": []
   },
   "outputs": [],
   "source": [
    "def load_model(model_path):\n",
    "    model = torch.load(model_path)\n",
    "    model.eval()  # Set the model to evaluation mode\n",
    "    return model\n"
   ]
  },
  {
   "cell_type": "code",
   "execution_count": null,
   "id": "74d97a7b-310a-4397-9ad5-461fbedc8f9e",
   "metadata": {
    "tags": []
   },
   "outputs": [],
   "source": [
    "def logit (p): return np.log(  p / (1 - p) )\n",
    "def expit (p): return  1/(1 + np.exp(-p))\n"
   ]
  },
  {
   "cell_type": "code",
   "execution_count": null,
   "id": "2cb148d5-06c7-4f53-a9ec-bbb08de27923",
   "metadata": {
    "tags": []
   },
   "outputs": [],
   "source": [
    "device = torch.device('cuda' if torch.cuda.is_available() else 'cpu')\n"
   ]
  },
  {
   "cell_type": "code",
   "execution_count": null,
   "id": "eb950449-47fa-4176-8ada-fe535399f902",
   "metadata": {},
   "outputs": [],
   "source": []
  },
  {
   "cell_type": "code",
   "execution_count": null,
   "id": "3a09194b-f908-4ecf-8a52-27b2e74be1ea",
   "metadata": {
    "tags": []
   },
   "outputs": [],
   "source": [
    "from torch.utils.data import TensorDataset, DataLoader\n",
    "#https://stackoverflow.com/questions/44429199/how-to-load-a-list-of-numpy-arrays-to-pytorch-dataset-loader"
   ]
  },
  {
   "cell_type": "code",
   "execution_count": null,
   "id": "da47aa97-2455-475f-a84b-c3bc17de86cf",
   "metadata": {
    "tags": []
   },
   "outputs": [],
   "source": [
    "logpath = os.path.join(src_path ,'logs_transformer_vte/H/11_7/', \"d93e7956f15305ad23c78d6884ca2816.results.dev_preds\")\n",
    "\n",
    "with open(logpath, 'rb') as f:\n",
    "    R = pkl.load(f)\n",
    "    probs = np.array(R['probs'])\n",
    "    golds = np.array(R['golds'])"
   ]
  },
  {
   "cell_type": "code",
   "execution_count": null,
   "id": "760d2636-e1db-4915-8629-e3da699e9ea9",
   "metadata": {
    "tags": []
   },
   "outputs": [],
   "source": [
    "input = torch.Tensor(logit(probs))\n",
    "label = torch.Tensor(golds)"
   ]
  },
  {
   "cell_type": "code",
   "execution_count": null,
   "id": "f48e9878-70fa-4933-a05b-cbb937ba708e",
   "metadata": {
    "tags": []
   },
   "outputs": [],
   "source": [
    "valid_set = TensorDataset(input, label)"
   ]
  },
  {
   "cell_type": "code",
   "execution_count": null,
   "id": "26ba16df-4dac-4594-9848-24dabd75ec6d",
   "metadata": {
    "tags": []
   },
   "outputs": [],
   "source": [
    "valid_loader =  DataLoader(valid_set)\n"
   ]
  },
  {
   "cell_type": "code",
   "execution_count": null,
   "id": "f63f3c39-19ac-426f-a9e0-2d8329fd7715",
   "metadata": {
    "tags": []
   },
   "outputs": [],
   "source": [
    "input"
   ]
  },
  {
   "cell_type": "code",
   "execution_count": null,
   "id": "961025ad-726c-4261-bed7-538fb01ff846",
   "metadata": {
    "tags": []
   },
   "outputs": [],
   "source": [
    "calibration_module = ModelWithTemperature("
   ]
  },
  {
   "cell_type": "code",
   "execution_count": null,
   "id": "ba87dc32-86da-41b1-9a7a-2f432115e405",
   "metadata": {
    "tags": []
   },
   "outputs": [],
   "source": [
    "valid_loader"
   ]
  },
  {
   "cell_type": "code",
   "execution_count": null,
   "id": "b69042c7-80da-43d3-b158-b354a2a8c9c4",
   "metadata": {
    "tags": []
   },
   "outputs": [],
   "source": [
    "calibration_module.set_temperature(valid_loader)"
   ]
  },
  {
   "cell_type": "code",
   "execution_count": null,
   "id": "d39af80e-3c2f-49e4-b576-89b5e13bd7a0",
   "metadata": {},
   "outputs": [],
   "source": []
  },
  {
   "cell_type": "code",
   "execution_count": null,
   "id": "fb798c25-3278-4741-872f-bbdaeb1767e5",
   "metadata": {},
   "outputs": [],
   "source": []
  },
  {
   "cell_type": "code",
   "execution_count": null,
   "id": "4d4e4ada-2c3f-40fc-90a4-fd03e21cf640",
   "metadata": {},
   "outputs": [],
   "source": []
  },
  {
   "cell_type": "code",
   "execution_count": null,
   "id": "555050c2-5db5-415f-b5cf-e72fc23267c3",
   "metadata": {},
   "outputs": [],
   "source": []
  },
  {
   "cell_type": "code",
   "execution_count": null,
   "id": "2abf49fd-d54d-45e4-81ad-873d494ca221",
   "metadata": {
    "tags": []
   },
   "outputs": [],
   "source": [
    "def compute_calibration_curve(golds_for_eval,Probs_for_eval):\n",
    "    prob_true, prob_pred = calibration_curve(golds_for_eval, Probs_for_eval, n_bins=10)\n",
    "    return prob_true, prob_pred\n"
   ]
  },
  {
   "cell_type": "code",
   "execution_count": null,
   "id": "e8ed9a77-6f2f-4e2a-b659-9b59c51a137d",
   "metadata": {
    "tags": []
   },
   "outputs": [],
   "source": [
    "prob_true, prob_pred = compute_calibration_curve(golds, probs)\n"
   ]
  },
  {
   "cell_type": "code",
   "execution_count": null,
   "id": "d8cb5a5a-600e-4e24-a2ee-0ba8290f32ef",
   "metadata": {
    "tags": []
   },
   "outputs": [],
   "source": [
    "prob_pred"
   ]
  },
  {
   "cell_type": "code",
   "execution_count": null,
   "id": "2089b42d-3b0e-4274-bea3-95e4636561f5",
   "metadata": {
    "tags": []
   },
   "outputs": [],
   "source": [
    "plt.figure(figsize=(10, 10))\n",
    "ax1 = plt.subplot2grid((3, 1), (0, 0), rowspan=2)\n",
    "ax2 = plt.subplot2grid((3, 1), (2, 0))\n",
    "ax1.plot(prob_pred, prob_true, 's-')\n",
    "ax1.plot([0, 1], [0, 1], linestyle='--', \n",
    "         color='grey', label='random guess (AUROC: 0.500)')\n",
    "ax2.hist(probs, bins=10, range=(0, 1))\n",
    "ax1.set_xlim([-0.01, 1.01])\n",
    "ax1.set_ylim([-0.01, 1.01])\n",
    "ax1.set_xlabel('Predicted value')\n",
    "ax1.set_ylabel('Fraction of positive')\n",
    "ax1.set_title(\"Calibration plot\")\n",
    "ax2.set_xlabel('Prediction probability')\n",
    "ax2.set_ylabel('Count')\n",
    "plt.tight_layout()"
   ]
  },
  {
   "cell_type": "code",
   "execution_count": null,
   "id": "da39c23d-dd9e-446e-be23-6590f40dfa07",
   "metadata": {
    "tags": []
   },
   "outputs": [],
   "source": [
    "plt.savefig('fig')\n"
   ]
  },
  {
   "cell_type": "code",
   "execution_count": null,
   "id": "44831cbc-b8a8-481b-a475-6a45e6096cd6",
   "metadata": {
    "tags": []
   },
   "outputs": [],
   "source": [
    "result_path = os.path.join(src_path ,'logs_transformer_vte/H/11_7/d93e7956f15305ad23c78d6884ca2816.results')"
   ]
  },
  {
   "cell_type": "code",
   "execution_count": null,
   "id": "e65bbc7f-6f16-4bb5-bcf9-74b6828a0a4d",
   "metadata": {
    "tags": []
   },
   "outputs": [],
   "source": [
    "dev_path = os.path.join(src_path ,'logs_transformer_vte/H/11_7/d93e7956f15305ad23c78d6884ca2816.results.dev_stats')"
   ]
  },
  {
   "cell_type": "code",
   "execution_count": null,
   "id": "e5c24846-82a3-4e41-88a0-f1d9976aec34",
   "metadata": {
    "tags": []
   },
   "outputs": [],
   "source": [
    "dev_path = os.path.join(src_path ,'logs_transformer_vte/H/11_7/d93e7956f15305ad23c78d6884ca2816.results.dev_preds')"
   ]
  },
  {
   "cell_type": "code",
   "execution_count": null,
   "id": "0c7b7cc1-3a26-4255-92be-b36e0fe1c38c",
   "metadata": {
    "tags": []
   },
   "outputs": [],
   "source": [
    " \n",
    "plt.rc('font', size=12)          # controls default text sizes\n",
    "plt.rc('axes', titlesize=20)     # fontsize of the axes title\n",
    "plt.rc('axes', labelsize=16)    # fontsize of the x and y labels\n",
    "plt.rc('xtick', labelsize=14)    # fontsize of the tick labels\n",
    "plt.rc('ytick', labelsize=14)    # fontsize of the tick labels\n",
    "plt.rc('legend', fontsize=12)    # legend fontsize\n",
    "plt.rc('figure', titlesize=24)  # fontsize of the figure title\n",
    "\n",
    "def plot_calibration(args, test_preds, month=6):\n",
    "    independent_eval = args.independent_eval\n",
    "    # pdb.set_trace()\n",
    "    probs_for_eval, golds_for_eval = get_probs_golds(\n",
    "        args, test_preds, month, independent_eval)\n",
    "    prob_true, prob_pred = compute_calibration_curve(golds_for_eval, probs_for_eval)\n",
    "    plt.figure(figsize=(10, 10))\n",
    "    ax1 = plt.subplot2grid((3, 1), (0, 0), rowspan=2)\n",
    "    ax2 = plt.subplot2grid((3, 1), (2, 0))\n",
    "    ax1.plot(prob_pred, prob_true, 's-')\n",
    "    ax1.plot([0, 1], [0, 1], linestyle='--', \n",
    "             color='grey', label='random guess (AUROC: 0.500)')\n",
    "    ax2.hist(probs_for_eval, bins=10, range=(0, 1))\n",
    "    ax1.set_xlim([-0.01, 1.01])\n",
    "    ax1.set_ylim([-0.01, 1.01])\n",
    "    ax1.set_xlabel('Predicted value')\n",
    "    ax1.set_ylabel('Fraction of positive')\n",
    "    ax1.set_title(\"Calibration plot\")\n",
    "    ax2.set_xlabel('Prediction probability')\n",
    "    ax2.set_ylabel('Count')\n",
    "    plt.tight_layout()\n",
    "\n"
   ]
  },
  {
   "cell_type": "code",
   "execution_count": null,
   "id": "5a540041-c02b-4704-a893-b8348ad35708",
   "metadata": {
    "tags": []
   },
   "outputs": [],
   "source": [
    "from sklearn.calibration import CalibratedClassifierCV"
   ]
  },
  {
   "cell_type": "code",
   "execution_count": null,
   "id": "727a76ce-0f39-43af-9047-f3682642d31b",
   "metadata": {
    "tags": []
   },
   "outputs": [],
   "source": [
    "#https://github.com/thunder001/VTERisk/blob/for_paper/src/scripts/summarizer/dev_analysis.py"
   ]
  },
  {
   "cell_type": "code",
   "execution_count": null,
   "id": "2edf748a-2d33-4e47-bf25-bccbef094e9a",
   "metadata": {},
   "outputs": [],
   "source": [
    "modelpath = os.path.join(src_path ,'logs_transformer_vte/H/11_7/', \"d93e7956f15305ad23c78d6884ca2816.results.test_preds\")\n"
   ]
  },
  {
   "cell_type": "code",
   "execution_count": null,
   "id": "59759f6a-b2dc-49de-8531-d4619826596f",
   "metadata": {
    "tags": []
   },
   "outputs": [],
   "source": [
    "result_path = os.path.join(src_path ,'logs_transformer_vte/H/11_7/d93e7956f15305ad23c78d6884ca2816.results')"
   ]
  },
  {
   "cell_type": "code",
   "execution_count": null,
   "id": "1bab8a7e-e8b3-43d3-ab59-d5d114bbf736",
   "metadata": {
    "tags": []
   },
   "outputs": [],
   "source": [
    "test_path = os.path.join(src_path ,'logs_transformer_vte/H/11_7/d93e7956f15305ad23c78d6884ca2816.results.test_stats')"
   ]
  },
  {
   "cell_type": "code",
   "execution_count": null,
   "id": "a088377d-0779-44e0-a6c5-95a858a14ade",
   "metadata": {
    "tags": []
   },
   "outputs": [],
   "source": [
    "print_stats(test_path)\n"
   ]
  },
  {
   "cell_type": "code",
   "execution_count": null,
   "id": "3dc98df6-8525-4abb-982d-ce2963430689",
   "metadata": {
    "tags": []
   },
   "outputs": [],
   "source": [
    "epoch_path = os.path.join(src_path ,'logs_transformer_vte/H/11_7/d93e7956f15305ad23c78d6884ca2816.results.epoch_stats')"
   ]
  },
  {
   "cell_type": "code",
   "execution_count": null,
   "id": "6224a2ad-d3fc-4db0-8cf6-2046219c7d90",
   "metadata": {
    "tags": []
   },
   "outputs": [],
   "source": [
    "with open(epoch_path, 'rb') as f:\n",
    "    epochs = pkl.load(f)"
   ]
  },
  {
   "cell_type": "code",
   "execution_count": null,
   "id": "c23cd534-a38e-4e90-be68-947300666f5b",
   "metadata": {},
   "outputs": [],
   "source": []
  },
  {
   "cell_type": "code",
   "execution_count": null,
   "id": "1b9b68eb-f03e-41f9-8779-1de402db1ac2",
   "metadata": {},
   "outputs": [],
   "source": [
    "metrics = ['auroc', 'auprc', 'loss']\n",
    "result_path_pat_3m = 'logs_training_transformer_va3m/{}.results'\n",
    "result_path_pat_1m = 'logs_training_transformer_va1m_part0/{}.results'\n",
    "\n",
    "# -----------------------------------------------------------------------\n",
    "# --- Non-random sampling combinded with learning rate and weight decay -\n",
    "# -----------------------------------------------------------------------\n",
    "\n",
    "# The first model trained from full VA dataset\n",
    "result_path = 'logs/all_epoch_10_w1_batch_12816_devlen10.results'\n",
    "params = get_params(result_path)\n",
    "test_path = 'logs/all_epoch_10_w1_batch_12816_devlen10.results.test_stats'\n",
    "print_stats(test_path)\n",
    "epoch_path = 'logs/all_epoch_10_w1_batch_12816_devlen10.results.epoch_stats'\n",
    "with open(epoch_path, 'rb') as f:\n",
    "    epochs = pkl.load(f)"
   ]
  },
  {
   "cell_type": "code",
   "execution_count": null,
   "id": "ceb3ff82-5d71-4563-8d54-e5b358120749",
   "metadata": {},
   "outputs": [],
   "source": []
  },
  {
   "cell_type": "code",
   "execution_count": null,
   "id": "6bde87d0-917e-4888-87bb-5d80f00c4806",
   "metadata": {},
   "outputs": [],
   "source": []
  },
  {
   "cell_type": "code",
   "execution_count": null,
   "id": "1fad1337-0b27-4a10-ae30-2e4de1156044",
   "metadata": {
    "tags": []
   },
   "outputs": [],
   "source": [
    "x0= np.zeros( shape = [len(Df),2])"
   ]
  },
  {
   "cell_type": "code",
   "execution_count": null,
   "id": "d6bc063f-447b-4d0f-ab4b-324b8d644637",
   "metadata": {
    "tags": []
   },
   "outputs": [],
   "source": [
    "x0[:,0] = Df['probs'].to_numpy()"
   ]
  },
  {
   "cell_type": "code",
   "execution_count": null,
   "id": "efd14798-8fc9-4f21-9ba3-be4299e55af5",
   "metadata": {
    "tags": []
   },
   "outputs": [],
   "source": [
    "#m_pred = np.array(Df['probs'].to_numpy(), np.zeros(len(Df)))"
   ]
  },
  {
   "cell_type": "code",
   "execution_count": null,
   "id": "db24f14d-7a18-49ca-9ce8-09a5ffd9a96e",
   "metadata": {
    "tags": []
   },
   "outputs": [],
   "source": [
    "y = np.array(Df['golds'])"
   ]
  },
  {
   "cell_type": "code",
   "execution_count": null,
   "id": "1fc191a4-6559-4f7e-b161-a9cebe521c3b",
   "metadata": {
    "tags": []
   },
   "outputs": [],
   "source": [
    "import SimpleTemp"
   ]
  },
  {
   "cell_type": "code",
   "execution_count": null,
   "id": "379d0934-c8f9-4f2a-8d27-31092bf937db",
   "metadata": {
    "tags": []
   },
   "outputs": [],
   "source": [
    "from SimpleTemp import _temperature_scaling"
   ]
  },
  {
   "cell_type": "code",
   "execution_count": null,
   "id": "90dad664-3970-4e40-a734-b8736845a3e3",
   "metadata": {
    "tags": []
   },
   "outputs": [],
   "source": [
    "M1 = M.drop_duplicates(['patient_id'])"
   ]
  },
  {
   "cell_type": "code",
   "execution_count": null,
   "id": "aa5c2bf9-f8fd-4b85-85bb-00fbc7eaa370",
   "metadata": {
    "tags": []
   },
   "outputs": [],
   "source": [
    "m0 = M.duplicated(['patient_id'])\n",
    "M234 = M[m0]\n",
    "M2 = M234.drop_duplicates(['patient_id'])"
   ]
  },
  {
   "cell_type": "code",
   "execution_count": null,
   "id": "caadd9a3-16a7-448e-93fd-ff37411b2df9",
   "metadata": {
    "tags": []
   },
   "outputs": [],
   "source": [
    "m00 = M234.duplicated(['patient_id'])\n",
    "M34 = M234[m00]\n",
    "M3 = M34.drop_duplicates(['patient_id'])"
   ]
  },
  {
   "cell_type": "code",
   "execution_count": null,
   "id": "0803010e-a84a-4f07-bbc6-02a9ef3ae8b4",
   "metadata": {
    "tags": []
   },
   "outputs": [],
   "source": [
    "m000 = M34.duplicated(['patient_id'])\n",
    "M4 = M34[m000]"
   ]
  },
  {
   "cell_type": "code",
   "execution_count": null,
   "id": "50687a6d-c89e-46f6-9e60-13c274601ad5",
   "metadata": {},
   "outputs": [],
   "source": []
  },
  {
   "cell_type": "code",
   "execution_count": null,
   "id": "e54eca4f-88bd-46db-a06b-fd02093d4d30",
   "metadata": {
    "tags": []
   },
   "outputs": [],
   "source": [
    "z1 = np.array(M1['golds'],dtype = int)\n",
    "\n",
    "x1_0= np.zeros( shape = [len(M1),2])\n",
    "x1_0[:,0] = M1['probs'].to_numpy()\n",
    "\n",
    "cal_1 = temperature_scaling((x1_0), z1,.1)  \n",
    "cal_1**.5\n",
    "    "
   ]
  },
  {
   "cell_type": "code",
   "execution_count": null,
   "id": "a6943258-aa5d-4919-a551-03248baf583e",
   "metadata": {
    "tags": []
   },
   "outputs": [],
   "source": [
    "z2 = np.array(M2['golds'],dtype = int)\n",
    "x2_0= np.zeros( shape = [len(M2),2])  \n",
    "x2_0[:,0] = M2['probs'].to_numpy()\n",
    "cal_2 = temperature_scaling((x2_0), z2, .02)  \n",
    "cal_2**.5"
   ]
  },
  {
   "cell_type": "code",
   "execution_count": null,
   "id": "f4089207-fd4a-4306-997e-bd4aed3fe8ac",
   "metadata": {
    "tags": []
   },
   "outputs": [],
   "source": [
    "z3 = np.array(M3['golds'],dtype = int)\n",
    "x3_0= np.zeros( shape = [len(M3),2])  \n",
    "x3_0[:,0] = M3['probs'].to_numpy()\n",
    "cal_3 = temperature_scaling((x3_0), z3, .02)  \n",
    "cal_3**.5"
   ]
  },
  {
   "cell_type": "code",
   "execution_count": null,
   "id": "e7db6ce4-0652-4b3f-b914-3a56b63b32ea",
   "metadata": {
    "tags": []
   },
   "outputs": [],
   "source": [
    "z4 = np.array(M4['golds'],dtype = int)\n",
    "x4_0= np.zeros( shape = [len(M4),2])  \n",
    "x4_0[:,0] = M4['probs'].to_numpy()\n",
    "cal_4 = temperature_scaling((x4_0), z4, .02)  \n",
    "cal_4**.5"
   ]
  },
  {
   "cell_type": "code",
   "execution_count": null,
   "id": "002f7266-6e84-4018-b3c3-4b16ab1e7b79",
   "metadata": {
    "tags": []
   },
   "outputs": [],
   "source": [
    "cal_4"
   ]
  },
  {
   "cell_type": "code",
   "execution_count": null,
   "id": "8cdb3a47-3b3a-4bc9-8f63-a03deede5a1d",
   "metadata": {},
   "outputs": [],
   "source": []
  },
  {
   "cell_type": "code",
   "execution_count": null,
   "id": "4ede5829-e7fd-41e1-aebd-ba5f2652075b",
   "metadata": {},
   "outputs": [],
   "source": []
  },
  {
   "cell_type": "code",
   "execution_count": null,
   "id": "e897fa7b-0930-4305-856c-cfdec8bdd6b4",
   "metadata": {
    "tags": []
   },
   "outputs": [],
   "source": [
    "x1_0"
   ]
  },
  {
   "cell_type": "code",
   "execution_count": null,
   "id": "9eca3476-ec16-4003-b58f-bc830b08c26c",
   "metadata": {
    "tags": []
   },
   "outputs": [],
   "source": [
    "import numpy as np\n",
    "from sklearn import datasets\n",
    "from sklearn.model_selection import train_test_split\n",
    "from sklearn.svm import SVC\n",
    "from sklearn.linear_model import LogisticRegression\n",
    "X, y = datasets.load_iris(return_X_y=True)\n",
    "X_train, X_test, y_train, y_test = train_test_split(X, y)\n",
    "SVC_classifier = SVC(probability=True)"
   ]
  },
  {
   "cell_type": "code",
   "execution_count": null,
   "id": "7a7f79ad-3321-431c-9a5f-c7c145fd5c97",
   "metadata": {
    "tags": []
   },
   "outputs": [],
   "source": [
    "SVC_classifier.fit(X_train, y_train)\n",
    "svc_predictions = SVC_classifier.predict_proba(X_train)\n",
    "Logistic_Regression = LogisticRegression()\n",
    "Logistic_Regression.fit(X_train, y_train)\n",
    "logistic_predictions = Logistic_Regression.predict_proba(X_train)\n",
    "temp = temperature_scaling(svc_predictions, y_train, 1.5)"
   ]
  },
  {
   "cell_type": "code",
   "execution_count": null,
   "id": "e92fbf4a-b41e-4331-a441-5cb985fed4f6",
   "metadata": {
    "tags": []
   },
   "outputs": [],
   "source": [
    "temp2 = temperature_scaling(logistic_predictions, y_train, 1.5)"
   ]
  },
  {
   "cell_type": "code",
   "execution_count": null,
   "id": "deabeec3-c66f-4160-a6c4-95f38dde0612",
   "metadata": {
    "tags": []
   },
   "outputs": [],
   "source": [
    "temp2"
   ]
  },
  {
   "cell_type": "code",
   "execution_count": null,
   "id": "fd086764-5b80-4d6b-bc89-4b9ac1b59a06",
   "metadata": {
    "tags": []
   },
   "outputs": [],
   "source": [
    "temp"
   ]
  },
  {
   "cell_type": "code",
   "execution_count": null,
   "id": "418fea47-01bd-4949-90e4-a291e6965039",
   "metadata": {
    "tags": []
   },
   "outputs": [],
   "source": [
    "y_train"
   ]
  },
  {
   "cell_type": "code",
   "execution_count": null,
   "id": "bf958ade-c7ab-443a-87b3-2810967a4c5b",
   "metadata": {
    "tags": []
   },
   "outputs": [],
   "source": [
    "outpath = os.path.join(src_path ,'Notebooks//PostRun_Analysis//output/Multi', \"J10DX.csv\")\n"
   ]
  },
  {
   "cell_type": "code",
   "execution_count": null,
   "id": "be2d698a-b0a0-4b54-a984-b0e1c92f7016",
   "metadata": {
    "tags": []
   },
   "outputs": [],
   "source": [
    "np.shape(y_train)"
   ]
  },
  {
   "cell_type": "code",
   "execution_count": null,
   "id": "6ff2c4d2-b2d4-4a8e-80d0-3d008a2758f1",
   "metadata": {
    "tags": []
   },
   "outputs": [],
   "source": [
    "np.shape(svc_predictions)"
   ]
  },
  {
   "cell_type": "code",
   "execution_count": null,
   "id": "ad669a26-25f3-4a0e-ab12-9ee09eb41c54",
   "metadata": {
    "tags": []
   },
   "outputs": [],
   "source": [
    "svc_predictions"
   ]
  },
  {
   "cell_type": "code",
   "execution_count": null,
   "id": "c8d0de6c-69ca-401a-95e9-ad854d3fe6b7",
   "metadata": {
    "tags": []
   },
   "outputs": [],
   "source": [
    "logistic_predictions"
   ]
  },
  {
   "cell_type": "code",
   "execution_count": null,
   "id": "15467d69-2fd2-4b3a-9283-9c31cda49b57",
   "metadata": {
    "tags": []
   },
   "outputs": [],
   "source": [
    "y"
   ]
  },
  {
   "cell_type": "code",
   "execution_count": null,
   "id": "90cb4247-9a21-47ad-9435-9e5c08406bb4",
   "metadata": {
    "tags": []
   },
   "outputs": [],
   "source": [
    " logistic_predictions"
   ]
  },
  {
   "cell_type": "code",
   "execution_count": null,
   "id": "ad9b370a-b6b9-4805-8863-7856af2bf68c",
   "metadata": {},
   "outputs": [],
   "source": [
    " #M.to_csv(outpath) \n"
   ]
  },
  {
   "cell_type": "code",
   "execution_count": null,
   "id": "a532d82a-e614-4d38-ad99-de7cfb9aefc9",
   "metadata": {},
   "outputs": [],
   "source": []
  },
  {
   "cell_type": "code",
   "execution_count": null,
   "id": "7b9b7abc-d04e-48c4-83da-868707c11911",
   "metadata": {},
   "outputs": [],
   "source": []
  },
  {
   "cell_type": "code",
   "execution_count": null,
   "id": "5e6efdc5-58d9-4549-bbad-c078f75c897b",
   "metadata": {
    "jupyter": {
     "source_hidden": true
    },
    "tags": []
   },
   "outputs": [],
   "source": [
    "M = pd.merge(g6, testDF)\n",
    "m = M[[\"patient_id\",\"dx_date\", \"index_date\", \"model_date\",  \"outcome\",\"outcome_date\",\"p6\" ]]\n",
    "m['d']= pd.to_datetime(m['outcome_date']) - pd.to_datetime(m['model_date'])\n",
    "\n",
    "#### THE PURPOSE OF THIS STEP IS TO ACTUALLY REPLACE THE 1's after 2 years with 0's! NEED it, in dxdate this is NOT updated\n",
    "m_VE = m[ m['outcome'] ]\n",
    "m_VE1 = m_VE [   (pd.to_datetime( m_VE[\"outcome_date\"] ) -pd.to_datetime( m_VE[\"index_date\"] )) < datetime.timedelta(730)]\n",
    "m_VE0 = m_VE [   (pd.to_datetime( m_VE[\"outcome_date\"] ) -pd.to_datetime( m_VE[\"index_date\"] )) >= datetime.timedelta(730)]\n",
    "m_VE0[\"outcome\"] = m_VE0[\"outcome\"].replace(True, False)  \n",
    "m0= m[ ~ m['outcome'] ]\n",
    "\n",
    "m1 = pd.concat([m_VE1, m_VE0, m0])"
   ]
  },
  {
   "cell_type": "code",
   "execution_count": null,
   "id": "3ed76f5c-ab80-4ed9-90d1-d80ede20287a",
   "metadata": {
    "tags": []
   },
   "outputs": [],
   "source": [
    "sklearn.metrics.roc_auc_score(m1['outcome'],  m1['p6'], average = 'samples')\n"
   ]
  },
  {
   "cell_type": "code",
   "execution_count": null,
   "id": "d65ee1e0-3c7e-4767-a358-7cb1270fd1e2",
   "metadata": {
    "tags": []
   },
   "outputs": [],
   "source": [
    "( confusion_matrix (m1['outcome'],  m1['p6']>.5) )"
   ]
  },
  {
   "cell_type": "code",
   "execution_count": null,
   "id": "981bbaf3-1a93-4618-ae9f-ffd7bc3793d9",
   "metadata": {},
   "outputs": [],
   "source": [
    "# how many people had event within 6 months of index date"
   ]
  },
  {
   "cell_type": "code",
   "execution_count": null,
   "id": "71bb4d3a-4549-4dfe-8de3-36719dbcf4ce",
   "metadata": {
    "tags": []
   },
   "outputs": [],
   "source": [
    "m1.to_csv('output/XCoh_Sen.csv') "
   ]
  },
  {
   "cell_type": "code",
   "execution_count": null,
   "id": "28235e3d-d8e2-424b-b064-e0b9d45c7881",
   "metadata": {
    "tags": []
   },
   "outputs": [],
   "source": [
    "m1.to_csv('output/XCoh_Sen.csv') "
   ]
  },
  {
   "cell_type": "code",
   "execution_count": null,
   "id": "112b112b-b97d-4328-9fb2-a9aa34b70486",
   "metadata": {},
   "outputs": [],
   "source": [
    "#m1.to_excel('output/dxMD_Sensitivity90.xlsx') "
   ]
  },
  {
   "cell_type": "code",
   "execution_count": null,
   "id": "ecc15a95-38ea-4f44-a4be-1692fb6bebac",
   "metadata": {},
   "outputs": [],
   "source": [
    "statistics.quantiles( M['len180'],n=20)"
   ]
  },
  {
   "cell_type": "code",
   "execution_count": null,
   "id": "df19f012-3361-4e45-bd01-22dd2fc015cd",
   "metadata": {},
   "outputs": [],
   "source": [
    "plt.hist(M['len180'])"
   ]
  },
  {
   "cell_type": "code",
   "execution_count": null,
   "id": "2e1d9a19-4dbb-4201-bcb9-8ecaaea3619a",
   "metadata": {},
   "outputs": [],
   "source": []
  },
  {
   "cell_type": "code",
   "execution_count": null,
   "id": "2943eb76-d00c-40a6-b788-9be6f1250aae",
   "metadata": {
    "tags": []
   },
   "outputs": [],
   "source": [
    "m['d']= pd.to_datetime(m['outcome_date']) - pd.to_datetime(m['model_date'])\n",
    "m_VE = m[ m['outcome'] ]\n",
    "m_VE1 = m_VE [   (pd.to_datetime( m_VE[\"outcome_date\"] ) -pd.to_datetime( m_VE[\"index_date\"] )) < datetime.timedelta(730)]\n",
    "m_VE0 = m_VE [   (pd.to_datetime( m_VE[\"outcome_date\"] ) -pd.to_datetime( m_VE[\"index_date\"] )) >= datetime.timedelta(730)]\n",
    "m_VE0[\"outcome\"] = m_VE0[\"outcome\"].replace(True, False)  \n",
    "m0= m[ ~ m['outcome'] ]\n",
    "\n",
    "m1 = pd.concat([m_VE1, m_VE0, m0])"
   ]
  }
 ],
 "metadata": {
  "kernelspec": {
   "display_name": "Python 3 (ipykernel)",
   "language": "python",
   "name": "python3"
  },
  "language_info": {
   "codemirror_mode": {
    "name": "ipython",
    "version": 3
   },
   "file_extension": ".py",
   "mimetype": "text/x-python",
   "name": "python",
   "nbconvert_exporter": "python",
   "pygments_lexer": "ipython3",
   "version": "3.11.5"
  }
 },
 "nbformat": 4,
 "nbformat_minor": 5
}
