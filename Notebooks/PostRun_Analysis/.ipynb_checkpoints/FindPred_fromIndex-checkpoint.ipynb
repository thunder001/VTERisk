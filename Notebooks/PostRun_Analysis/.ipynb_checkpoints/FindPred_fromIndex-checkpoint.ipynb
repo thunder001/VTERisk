{
 "cells": [
  {
   "cell_type": "code",
   "execution_count": 1,
   "id": "e80fca33-a457-4e83-baaf-dc134ac94a62",
   "metadata": {
    "tags": []
   },
   "outputs": [],
   "source": [
    "import json\n",
    "from collections import Counter\n",
    "from tqdm import tqdm\n",
    "import pickle\n",
    "import numpy as np\n",
    "import pandas as pd\n",
    "pd.options.display.max_colwidth = 100\n",
    "import matplotlib\n",
    "matplotlib.use('Agg')\n",
    "import seaborn as sns\n",
    "import matplotlib.pyplot as plt\n",
    "from matplotlib.gridspec import GridSpec\n",
    "import sys\n",
    "import os\n",
    "import argparse\n",
    "from os.path import dirname, realpath\n",
    "\n",
    "import hashlib\n",
    "import datetime\n",
    "import datetime as datetime\n",
    "import sklearn\n",
    "import statistics\n",
    "sys.path.append(\"./src/\")\n",
    "#from disrisknet.utils.parsing import parse_args\n",
    "import pdb\n",
    "\n",
    "src_path = \"G:\\\\FillmoreCancerData\\\\markhe\\\\VTERisk\" \n",
    "src_path2 = \"G:\\\\FillmoreCancerData\\\\markhe\\\\VTERisk - Copy\" \n",
    "\n",
    "def md5(key):\n",
    "    return hashlib.md5(repr(key).encode()).hexdigest()\n",
    "\n",
    "from sklearn.metrics import confusion_matrix"
   ]
  },
  {
   "cell_type": "code",
   "execution_count": 2,
   "id": "b604bdf1-e06a-4abc-b6a7-53801e671dab",
   "metadata": {
    "tags": []
   },
   "outputs": [],
   "source": [
    "testDF = pd.read_csv(os.path.join(src_path2, 'Notebooks/Find/allChars_DF.csv'))\n",
    "from sklearn.metrics import confusion_matrix\n"
   ]
  },
  {
   "cell_type": "code",
   "execution_count": 3,
   "id": "0dc20797-4425-4c1c-8775-0bbb7e83e7c8",
   "metadata": {},
   "outputs": [],
   "source": [
    "logpath = os.path.join(src_path ,'logs_transformer_vte/F/Ran10_15/Index', \"929e0ce070ea788e9df2c5d0f393347d.results.test_preds\")\n"
   ]
  },
  {
   "cell_type": "code",
   "execution_count": 4,
   "id": "4afa1b12-291d-4729-bf94-5e97ff8b9031",
   "metadata": {
    "tags": []
   },
   "outputs": [],
   "source": [
    " \n",
    "with open(logpath, 'rb') as f:\n",
    "    R6 = pickle.load(f)\n",
    "    p6 = np.array(R6['probs'])\n",
    "\n",
    "pat_ids = (testDF['patient_id'] ).astype(int)\n",
    " "
   ]
  },
  {
   "cell_type": "code",
   "execution_count": 5,
   "id": "22775410-99ea-4402-a4e3-03aeac5177c6",
   "metadata": {
    "tags": []
   },
   "outputs": [
    {
     "data": {
      "text/plain": [
       "dict_keys(['golds', 'probs', 'patient_golds', 'exams', 'pids', 'dates', 'censor_times', 'days_to_final_censors'])"
      ]
     },
     "execution_count": 5,
     "metadata": {},
     "output_type": "execute_result"
    }
   ],
   "source": [
    "R6.keys()"
   ]
  },
  {
   "cell_type": "code",
   "execution_count": 6,
   "id": "7ddedfea-f898-4830-9b0f-443f2fec1e8c",
   "metadata": {
    "tags": []
   },
   "outputs": [
    {
     "name": "stderr",
     "output_type": "stream",
     "text": [
      "C:\\Users\\VHANYNHeT\\AppData\\Local\\Temp\\2\\ipykernel_34916\\1057840980.py:11: SettingWithCopyWarning: \n",
      "A value is trying to be set on a copy of a slice from a DataFrame.\n",
      "Try using .loc[row_indexer,col_indexer] = value instead\n",
      "\n",
      "See the caveats in the documentation: https://pandas.pydata.org/pandas-docs/stable/user_guide/indexing.html#returning-a-view-versus-a-copy\n",
      "  m['d']= pd.to_datetime(m['outcome_date']) - pd.to_datetime(m['model_date'])\n",
      "C:\\Users\\VHANYNHeT\\AppData\\Local\\Temp\\2\\ipykernel_34916\\1057840980.py:16: SettingWithCopyWarning: \n",
      "A value is trying to be set on a copy of a slice from a DataFrame.\n",
      "Try using .loc[row_indexer,col_indexer] = value instead\n",
      "\n",
      "See the caveats in the documentation: https://pandas.pydata.org/pandas-docs/stable/user_guide/indexing.html#returning-a-view-versus-a-copy\n",
      "  m_VE0[\"outcome\"] = m_VE0[\"outcome\"].replace(True, False)\n"
     ]
    }
   ],
   "source": [
    "testDF['pids'] = pat_ids.apply(md5)\n",
    "\n",
    "g6 = pd.DataFrame({'p6': R6['probs'] ,    \n",
    "                   'pids':np.array(R6['pids']),    \n",
    "                   'model_date':np.array(R6['dates'])\n",
    "                  })\n",
    "\n",
    "M = pd.merge(g6, testDF)\n",
    "\n",
    "m = M[[\"patient_id\",\"dx_date\", \"index_date\", \"model_date\",  \"outcome\",\"outcome_date\",\"p6\" ]]\n",
    "m['d']= pd.to_datetime(m['outcome_date']) - pd.to_datetime(m['model_date'])\n",
    "\n",
    "m_VE = m[ m['outcome'] ]\n",
    "m_VE1 = m_VE [   (pd.to_datetime( m_VE[\"outcome_date\"] ) -pd.to_datetime( m_VE[\"index_date\"] )) < datetime.timedelta(730)]\n",
    "m_VE0 = m_VE [   (pd.to_datetime( m_VE[\"outcome_date\"] ) -pd.to_datetime( m_VE[\"index_date\"] )) >= datetime.timedelta(730)]\n",
    "m_VE0[\"outcome\"] = m_VE0[\"outcome\"].replace(True, False)  \n",
    "m0= m[ ~ m['outcome'] ]\n",
    "\n",
    "m1 = pd.concat([m_VE1, m_VE0, m0])"
   ]
  },
  {
   "cell_type": "code",
   "execution_count": 7,
   "id": "e069c93c-f38b-44aa-8e67-889c15bc08b8",
   "metadata": {
    "tags": []
   },
   "outputs": [
    {
     "data": {
      "text/plain": [
       "dict_keys(['golds', 'probs', 'patient_golds', 'exams', 'pids', 'dates', 'censor_times', 'days_to_final_censors'])"
      ]
     },
     "execution_count": 7,
     "metadata": {},
     "output_type": "execute_result"
    }
   ],
   "source": [
    "R6.keys()"
   ]
  },
  {
   "cell_type": "code",
   "execution_count": 8,
   "id": "1cc49686-24ca-436f-a8d0-59811c2a3a13",
   "metadata": {
    "tags": []
   },
   "outputs": [
    {
     "data": {
      "text/plain": [
       "Index(['p6', 'pids', 'model_date', 'Unnamed: 0', 'patient_id', 'outcome',\n",
       "       'dob', 'outcome_date', 'obs_time_end', 'index_date', 'dx_date',\n",
       "       'obs_time_start', 'ev_length', 'len0', 't0', 'len30', 't30', 'len90',\n",
       "       't90', 'len180', 't180', 'ks', 'sex', 'bmi', 'race'],\n",
       "      dtype='object')"
      ]
     },
     "execution_count": 8,
     "metadata": {},
     "output_type": "execute_result"
    }
   ],
   "source": [
    "M.keys()"
   ]
  },
  {
   "cell_type": "code",
   "execution_count": 9,
   "id": "ac225eaa-3ee9-41e9-ad2a-5b45f602e7c3",
   "metadata": {},
   "outputs": [
    {
     "data": {
      "text/html": [
       "<div>\n",
       "<style scoped>\n",
       "    .dataframe tbody tr th:only-of-type {\n",
       "        vertical-align: middle;\n",
       "    }\n",
       "\n",
       "    .dataframe tbody tr th {\n",
       "        vertical-align: top;\n",
       "    }\n",
       "\n",
       "    .dataframe thead th {\n",
       "        text-align: right;\n",
       "    }\n",
       "</style>\n",
       "<table border=\"1\" class=\"dataframe\">\n",
       "  <thead>\n",
       "    <tr style=\"text-align: right;\">\n",
       "      <th></th>\n",
       "      <th>p6</th>\n",
       "      <th>pids</th>\n",
       "      <th>model_date</th>\n",
       "      <th>Unnamed: 0</th>\n",
       "      <th>patient_id</th>\n",
       "      <th>outcome</th>\n",
       "      <th>dob</th>\n",
       "      <th>outcome_date</th>\n",
       "      <th>obs_time_end</th>\n",
       "      <th>index_date</th>\n",
       "      <th>...</th>\n",
       "      <th>len30</th>\n",
       "      <th>t30</th>\n",
       "      <th>len90</th>\n",
       "      <th>t90</th>\n",
       "      <th>len180</th>\n",
       "      <th>t180</th>\n",
       "      <th>ks</th>\n",
       "      <th>sex</th>\n",
       "      <th>bmi</th>\n",
       "      <th>race</th>\n",
       "    </tr>\n",
       "  </thead>\n",
       "  <tbody>\n",
       "    <tr>\n",
       "      <th>0</th>\n",
       "      <td>[0.059421405, 0.059421405, 0.059421405, 0.059421405, 0.059421405]</td>\n",
       "      <td>9c4a171786576cc81aef7a300c0d53cf</td>\n",
       "      <td>2009-03-03T00:00:00</td>\n",
       "      <td>49432</td>\n",
       "      <td>1009107581</td>\n",
       "      <td>False</td>\n",
       "      <td>1920-07-13</td>\n",
       "      <td>2009-12-06</td>\n",
       "      <td>2009-12-06</td>\n",
       "      <td>2009-03-03</td>\n",
       "      <td>...</td>\n",
       "      <td>938</td>\n",
       "      <td>2813 days</td>\n",
       "      <td>938</td>\n",
       "      <td>2813 days</td>\n",
       "      <td>938</td>\n",
       "      <td>2813 days</td>\n",
       "      <td>3</td>\n",
       "      <td>0</td>\n",
       "      <td>4</td>\n",
       "      <td>1</td>\n",
       "    </tr>\n",
       "    <tr>\n",
       "      <th>1</th>\n",
       "      <td>[0.09633249, 0.09633249, 0.09633249, 0.09633249, 0.09633249]</td>\n",
       "      <td>bce1cd81e5f596e28b9d86c6306947d0</td>\n",
       "      <td>2010-05-26T00:00:00</td>\n",
       "      <td>91351</td>\n",
       "      <td>1006064340</td>\n",
       "      <td>False</td>\n",
       "      <td>1930-02-13</td>\n",
       "      <td>2017-08-05</td>\n",
       "      <td>2017-08-05</td>\n",
       "      <td>2010-05-26</td>\n",
       "      <td>...</td>\n",
       "      <td>553</td>\n",
       "      <td>4015 days</td>\n",
       "      <td>553</td>\n",
       "      <td>4015 days</td>\n",
       "      <td>553</td>\n",
       "      <td>4015 days</td>\n",
       "      <td>4</td>\n",
       "      <td>0</td>\n",
       "      <td>1</td>\n",
       "      <td>5</td>\n",
       "    </tr>\n",
       "    <tr>\n",
       "      <th>2</th>\n",
       "      <td>[0.102914825, 0.102914825, 0.102914825, 0.102914825, 0.102914825]</td>\n",
       "      <td>81c191396aa5757ec3c1dce5914511e6</td>\n",
       "      <td>2009-08-25T00:00:00</td>\n",
       "      <td>97039</td>\n",
       "      <td>1007261854</td>\n",
       "      <td>False</td>\n",
       "      <td>1926-03-19</td>\n",
       "      <td>2015-03-30</td>\n",
       "      <td>2015-03-30</td>\n",
       "      <td>2009-08-25</td>\n",
       "      <td>...</td>\n",
       "      <td>975</td>\n",
       "      <td>3818 days</td>\n",
       "      <td>975</td>\n",
       "      <td>3818 days</td>\n",
       "      <td>975</td>\n",
       "      <td>3818 days</td>\n",
       "      <td>3</td>\n",
       "      <td>0</td>\n",
       "      <td>1</td>\n",
       "      <td>5</td>\n",
       "    </tr>\n",
       "    <tr>\n",
       "      <th>3</th>\n",
       "      <td>[0.0795539, 0.0795539, 0.0795539, 0.0795539, 0.0795539]</td>\n",
       "      <td>b36fbdc43dba9a7e7f984c47315042de</td>\n",
       "      <td>2019-12-17T00:00:00</td>\n",
       "      <td>45797</td>\n",
       "      <td>1010730671</td>\n",
       "      <td>False</td>\n",
       "      <td>1939-12-29</td>\n",
       "      <td>2021-02-20</td>\n",
       "      <td>2021-02-20</td>\n",
       "      <td>2019-12-17</td>\n",
       "      <td>...</td>\n",
       "      <td>1121</td>\n",
       "      <td>4737 days</td>\n",
       "      <td>1121</td>\n",
       "      <td>4737 days</td>\n",
       "      <td>1121</td>\n",
       "      <td>4737 days</td>\n",
       "      <td>0</td>\n",
       "      <td>0</td>\n",
       "      <td>4</td>\n",
       "      <td>5</td>\n",
       "    </tr>\n",
       "    <tr>\n",
       "      <th>4</th>\n",
       "      <td>[0.11996309, 0.11996309, 0.11996309, 0.11996309, 0.11996309]</td>\n",
       "      <td>26bd272f9e8bc1b7c13856e4cd4ae574</td>\n",
       "      <td>2012-09-11T00:00:00</td>\n",
       "      <td>7690</td>\n",
       "      <td>1014882035</td>\n",
       "      <td>True</td>\n",
       "      <td>1947-03-24</td>\n",
       "      <td>2012-12-28</td>\n",
       "      <td>2013-10-31</td>\n",
       "      <td>2012-09-11</td>\n",
       "      <td>...</td>\n",
       "      <td>623</td>\n",
       "      <td>1985 days</td>\n",
       "      <td>454</td>\n",
       "      <td>1925 days</td>\n",
       "      <td>231</td>\n",
       "      <td>1844 days</td>\n",
       "      <td>5</td>\n",
       "      <td>0</td>\n",
       "      <td>1</td>\n",
       "      <td>5</td>\n",
       "    </tr>\n",
       "    <tr>\n",
       "      <th>...</th>\n",
       "      <td>...</td>\n",
       "      <td>...</td>\n",
       "      <td>...</td>\n",
       "      <td>...</td>\n",
       "      <td>...</td>\n",
       "      <td>...</td>\n",
       "      <td>...</td>\n",
       "      <td>...</td>\n",
       "      <td>...</td>\n",
       "      <td>...</td>\n",
       "      <td>...</td>\n",
       "      <td>...</td>\n",
       "      <td>...</td>\n",
       "      <td>...</td>\n",
       "      <td>...</td>\n",
       "      <td>...</td>\n",
       "      <td>...</td>\n",
       "      <td>...</td>\n",
       "      <td>...</td>\n",
       "      <td>...</td>\n",
       "      <td>...</td>\n",
       "    </tr>\n",
       "    <tr>\n",
       "      <th>24688</th>\n",
       "      <td>[0.06816297, 0.06816297, 0.06816297, 0.06816297, 0.06816297]</td>\n",
       "      <td>f52af8c831e0fa925154740a87265bb6</td>\n",
       "      <td>2015-03-31T00:00:00</td>\n",
       "      <td>90647</td>\n",
       "      <td>1004880538</td>\n",
       "      <td>False</td>\n",
       "      <td>1956-09-17</td>\n",
       "      <td>2015-10-26</td>\n",
       "      <td>2015-10-26</td>\n",
       "      <td>2015-04-01</td>\n",
       "      <td>...</td>\n",
       "      <td>904</td>\n",
       "      <td>1175 days</td>\n",
       "      <td>904</td>\n",
       "      <td>1175 days</td>\n",
       "      <td>904</td>\n",
       "      <td>1175 days</td>\n",
       "      <td>0</td>\n",
       "      <td>0</td>\n",
       "      <td>1</td>\n",
       "      <td>1</td>\n",
       "    </tr>\n",
       "    <tr>\n",
       "      <th>24689</th>\n",
       "      <td>[0.19611345, 0.19611345, 0.19611345, 0.19611345, 0.19611345]</td>\n",
       "      <td>8bec5d8d74a575c91d9d0821816afd81</td>\n",
       "      <td>2006-06-09T00:00:00</td>\n",
       "      <td>3837</td>\n",
       "      <td>1009821184</td>\n",
       "      <td>False</td>\n",
       "      <td>1955-02-09</td>\n",
       "      <td>2006-06-19</td>\n",
       "      <td>2006-06-19</td>\n",
       "      <td>2006-06-09</td>\n",
       "      <td>...</td>\n",
       "      <td>369</td>\n",
       "      <td>1369 days</td>\n",
       "      <td>369</td>\n",
       "      <td>1369 days</td>\n",
       "      <td>369</td>\n",
       "      <td>1369 days</td>\n",
       "      <td>4</td>\n",
       "      <td>0</td>\n",
       "      <td>1</td>\n",
       "      <td>1</td>\n",
       "    </tr>\n",
       "    <tr>\n",
       "      <th>24690</th>\n",
       "      <td>[0.26499283, 0.26499283, 0.26499283, 0.26499283, 0.26499283]</td>\n",
       "      <td>fa672ed2ee9cc54ac3736c713d5d9db3</td>\n",
       "      <td>2008-02-08T00:00:00</td>\n",
       "      <td>38560</td>\n",
       "      <td>1012036946</td>\n",
       "      <td>False</td>\n",
       "      <td>1927-05-20</td>\n",
       "      <td>2008-03-16</td>\n",
       "      <td>2008-03-16</td>\n",
       "      <td>2008-02-06</td>\n",
       "      <td>...</td>\n",
       "      <td>846</td>\n",
       "      <td>1062 days</td>\n",
       "      <td>846</td>\n",
       "      <td>1062 days</td>\n",
       "      <td>846</td>\n",
       "      <td>1062 days</td>\n",
       "      <td>4</td>\n",
       "      <td>0</td>\n",
       "      <td>4</td>\n",
       "      <td>1</td>\n",
       "    </tr>\n",
       "    <tr>\n",
       "      <th>24691</th>\n",
       "      <td>[0.2804308, 0.2804308, 0.2804308, 0.2804308, 0.2804308]</td>\n",
       "      <td>050b7af9d4ff7056ea9e85a0c3e84ae7</td>\n",
       "      <td>2016-12-14T00:00:00</td>\n",
       "      <td>22056</td>\n",
       "      <td>1001945567</td>\n",
       "      <td>False</td>\n",
       "      <td>1942-01-24</td>\n",
       "      <td>2017-06-15</td>\n",
       "      <td>2017-06-15</td>\n",
       "      <td>2016-12-14</td>\n",
       "      <td>...</td>\n",
       "      <td>2418</td>\n",
       "      <td>6448 days</td>\n",
       "      <td>2418</td>\n",
       "      <td>6448 days</td>\n",
       "      <td>2418</td>\n",
       "      <td>6448 days</td>\n",
       "      <td>4</td>\n",
       "      <td>0</td>\n",
       "      <td>1</td>\n",
       "      <td>5</td>\n",
       "    </tr>\n",
       "    <tr>\n",
       "      <th>24692</th>\n",
       "      <td>[0.17605577, 0.17605577, 0.17605577, 0.17605577, 0.17605577]</td>\n",
       "      <td>d89c53e53ea5d04d5ac71bd9ffa863b0</td>\n",
       "      <td>2007-04-17T00:00:00</td>\n",
       "      <td>99807</td>\n",
       "      <td>1014159607</td>\n",
       "      <td>False</td>\n",
       "      <td>1937-09-18</td>\n",
       "      <td>2008-06-05</td>\n",
       "      <td>2008-06-05</td>\n",
       "      <td>2007-04-17</td>\n",
       "      <td>...</td>\n",
       "      <td>723</td>\n",
       "      <td>2760 days</td>\n",
       "      <td>723</td>\n",
       "      <td>2760 days</td>\n",
       "      <td>723</td>\n",
       "      <td>2760 days</td>\n",
       "      <td>3</td>\n",
       "      <td>0</td>\n",
       "      <td>2</td>\n",
       "      <td>1</td>\n",
       "    </tr>\n",
       "  </tbody>\n",
       "</table>\n",
       "<p>24693 rows × 25 columns</p>\n",
       "</div>"
      ],
      "text/plain": [
       "                                                                      p6  \\\n",
       "0      [0.059421405, 0.059421405, 0.059421405, 0.059421405, 0.059421405]   \n",
       "1           [0.09633249, 0.09633249, 0.09633249, 0.09633249, 0.09633249]   \n",
       "2      [0.102914825, 0.102914825, 0.102914825, 0.102914825, 0.102914825]   \n",
       "3                [0.0795539, 0.0795539, 0.0795539, 0.0795539, 0.0795539]   \n",
       "4           [0.11996309, 0.11996309, 0.11996309, 0.11996309, 0.11996309]   \n",
       "...                                                                  ...   \n",
       "24688       [0.06816297, 0.06816297, 0.06816297, 0.06816297, 0.06816297]   \n",
       "24689       [0.19611345, 0.19611345, 0.19611345, 0.19611345, 0.19611345]   \n",
       "24690       [0.26499283, 0.26499283, 0.26499283, 0.26499283, 0.26499283]   \n",
       "24691            [0.2804308, 0.2804308, 0.2804308, 0.2804308, 0.2804308]   \n",
       "24692       [0.17605577, 0.17605577, 0.17605577, 0.17605577, 0.17605577]   \n",
       "\n",
       "                                   pids           model_date  Unnamed: 0  \\\n",
       "0      9c4a171786576cc81aef7a300c0d53cf  2009-03-03T00:00:00       49432   \n",
       "1      bce1cd81e5f596e28b9d86c6306947d0  2010-05-26T00:00:00       91351   \n",
       "2      81c191396aa5757ec3c1dce5914511e6  2009-08-25T00:00:00       97039   \n",
       "3      b36fbdc43dba9a7e7f984c47315042de  2019-12-17T00:00:00       45797   \n",
       "4      26bd272f9e8bc1b7c13856e4cd4ae574  2012-09-11T00:00:00        7690   \n",
       "...                                 ...                  ...         ...   \n",
       "24688  f52af8c831e0fa925154740a87265bb6  2015-03-31T00:00:00       90647   \n",
       "24689  8bec5d8d74a575c91d9d0821816afd81  2006-06-09T00:00:00        3837   \n",
       "24690  fa672ed2ee9cc54ac3736c713d5d9db3  2008-02-08T00:00:00       38560   \n",
       "24691  050b7af9d4ff7056ea9e85a0c3e84ae7  2016-12-14T00:00:00       22056   \n",
       "24692  d89c53e53ea5d04d5ac71bd9ffa863b0  2007-04-17T00:00:00       99807   \n",
       "\n",
       "       patient_id  outcome         dob outcome_date obs_time_end  index_date  \\\n",
       "0      1009107581    False  1920-07-13   2009-12-06   2009-12-06  2009-03-03   \n",
       "1      1006064340    False  1930-02-13   2017-08-05   2017-08-05  2010-05-26   \n",
       "2      1007261854    False  1926-03-19   2015-03-30   2015-03-30  2009-08-25   \n",
       "3      1010730671    False  1939-12-29   2021-02-20   2021-02-20  2019-12-17   \n",
       "4      1014882035     True  1947-03-24   2012-12-28   2013-10-31  2012-09-11   \n",
       "...           ...      ...         ...          ...          ...         ...   \n",
       "24688  1004880538    False  1956-09-17   2015-10-26   2015-10-26  2015-04-01   \n",
       "24689  1009821184    False  1955-02-09   2006-06-19   2006-06-19  2006-06-09   \n",
       "24690  1012036946    False  1927-05-20   2008-03-16   2008-03-16  2008-02-06   \n",
       "24691  1001945567    False  1942-01-24   2017-06-15   2017-06-15  2016-12-14   \n",
       "24692  1014159607    False  1937-09-18   2008-06-05   2008-06-05  2007-04-17   \n",
       "\n",
       "       ... len30        t30  len90        t90 len180       t180 ks  sex bmi  \\\n",
       "0      ...   938  2813 days    938  2813 days    938  2813 days  3    0   4   \n",
       "1      ...   553  4015 days    553  4015 days    553  4015 days  4    0   1   \n",
       "2      ...   975  3818 days    975  3818 days    975  3818 days  3    0   1   \n",
       "3      ...  1121  4737 days   1121  4737 days   1121  4737 days  0    0   4   \n",
       "4      ...   623  1985 days    454  1925 days    231  1844 days  5    0   1   \n",
       "...    ...   ...        ...    ...        ...    ...        ... ..  ...  ..   \n",
       "24688  ...   904  1175 days    904  1175 days    904  1175 days  0    0   1   \n",
       "24689  ...   369  1369 days    369  1369 days    369  1369 days  4    0   1   \n",
       "24690  ...   846  1062 days    846  1062 days    846  1062 days  4    0   4   \n",
       "24691  ...  2418  6448 days   2418  6448 days   2418  6448 days  4    0   1   \n",
       "24692  ...   723  2760 days    723  2760 days    723  2760 days  3    0   2   \n",
       "\n",
       "       race  \n",
       "0         1  \n",
       "1         5  \n",
       "2         5  \n",
       "3         5  \n",
       "4         5  \n",
       "...     ...  \n",
       "24688     1  \n",
       "24689     1  \n",
       "24690     1  \n",
       "24691     5  \n",
       "24692     1  \n",
       "\n",
       "[24693 rows x 25 columns]"
      ]
     },
     "execution_count": 9,
     "metadata": {},
     "output_type": "execute_result"
    }
   ],
   "source": [
    "M"
   ]
  },
  {
   "cell_type": "code",
   "execution_count": 10,
   "id": "3ed76f5c-ab80-4ed9-90d1-d80ede20287a",
   "metadata": {
    "tags": []
   },
   "outputs": [
    {
     "ename": "ValueError",
     "evalue": "setting an array element with a sequence.",
     "output_type": "error",
     "traceback": [
      "\u001b[1;31m---------------------------------------------------------------------------\u001b[0m",
      "\u001b[1;31mTypeError\u001b[0m                                 Traceback (most recent call last)",
      "\u001b[1;31mTypeError\u001b[0m: only size-1 arrays can be converted to Python scalars",
      "\nThe above exception was the direct cause of the following exception:\n",
      "\u001b[1;31mValueError\u001b[0m                                Traceback (most recent call last)",
      "Cell \u001b[1;32mIn[10], line 1\u001b[0m\n\u001b[1;32m----> 1\u001b[0m sklearn\u001b[38;5;241m.\u001b[39mmetrics\u001b[38;5;241m.\u001b[39mroc_auc_score(m1[\u001b[38;5;124m'\u001b[39m\u001b[38;5;124moutcome\u001b[39m\u001b[38;5;124m'\u001b[39m],  m1[\u001b[38;5;124m'\u001b[39m\u001b[38;5;124mp6\u001b[39m\u001b[38;5;124m'\u001b[39m], average \u001b[38;5;241m=\u001b[39m \u001b[38;5;124m'\u001b[39m\u001b[38;5;124msamples\u001b[39m\u001b[38;5;124m'\u001b[39m)\n",
      "File \u001b[1;32mD:\\Programs\\Anaconda3\\Lib\\site-packages\\sklearn\\utils\\_param_validation.py:211\u001b[0m, in \u001b[0;36mvalidate_params.<locals>.decorator.<locals>.wrapper\u001b[1;34m(*args, **kwargs)\u001b[0m\n\u001b[0;32m    205\u001b[0m \u001b[38;5;28;01mtry\u001b[39;00m:\n\u001b[0;32m    206\u001b[0m     \u001b[38;5;28;01mwith\u001b[39;00m config_context(\n\u001b[0;32m    207\u001b[0m         skip_parameter_validation\u001b[38;5;241m=\u001b[39m(\n\u001b[0;32m    208\u001b[0m             prefer_skip_nested_validation \u001b[38;5;129;01mor\u001b[39;00m global_skip_validation\n\u001b[0;32m    209\u001b[0m         )\n\u001b[0;32m    210\u001b[0m     ):\n\u001b[1;32m--> 211\u001b[0m         \u001b[38;5;28;01mreturn\u001b[39;00m func(\u001b[38;5;241m*\u001b[39margs, \u001b[38;5;241m*\u001b[39m\u001b[38;5;241m*\u001b[39mkwargs)\n\u001b[0;32m    212\u001b[0m \u001b[38;5;28;01mexcept\u001b[39;00m InvalidParameterError \u001b[38;5;28;01mas\u001b[39;00m e:\n\u001b[0;32m    213\u001b[0m     \u001b[38;5;66;03m# When the function is just a wrapper around an estimator, we allow\u001b[39;00m\n\u001b[0;32m    214\u001b[0m     \u001b[38;5;66;03m# the function to delegate validation to the estimator, but we replace\u001b[39;00m\n\u001b[0;32m    215\u001b[0m     \u001b[38;5;66;03m# the name of the estimator by the name of the function in the error\u001b[39;00m\n\u001b[0;32m    216\u001b[0m     \u001b[38;5;66;03m# message to avoid confusion.\u001b[39;00m\n\u001b[0;32m    217\u001b[0m     msg \u001b[38;5;241m=\u001b[39m re\u001b[38;5;241m.\u001b[39msub(\n\u001b[0;32m    218\u001b[0m         \u001b[38;5;124mr\u001b[39m\u001b[38;5;124m\"\u001b[39m\u001b[38;5;124mparameter of \u001b[39m\u001b[38;5;124m\\\u001b[39m\u001b[38;5;124mw+ must be\u001b[39m\u001b[38;5;124m\"\u001b[39m,\n\u001b[0;32m    219\u001b[0m         \u001b[38;5;124mf\u001b[39m\u001b[38;5;124m\"\u001b[39m\u001b[38;5;124mparameter of \u001b[39m\u001b[38;5;132;01m{\u001b[39;00mfunc\u001b[38;5;241m.\u001b[39m\u001b[38;5;18m__qualname__\u001b[39m\u001b[38;5;132;01m}\u001b[39;00m\u001b[38;5;124m must be\u001b[39m\u001b[38;5;124m\"\u001b[39m,\n\u001b[0;32m    220\u001b[0m         \u001b[38;5;28mstr\u001b[39m(e),\n\u001b[0;32m    221\u001b[0m     )\n",
      "File \u001b[1;32mD:\\Programs\\Anaconda3\\Lib\\site-packages\\sklearn\\metrics\\_ranking.py:605\u001b[0m, in \u001b[0;36mroc_auc_score\u001b[1;34m(y_true, y_score, average, sample_weight, max_fpr, multi_class, labels)\u001b[0m\n\u001b[0;32m    603\u001b[0m y_type \u001b[38;5;241m=\u001b[39m type_of_target(y_true, input_name\u001b[38;5;241m=\u001b[39m\u001b[38;5;124m\"\u001b[39m\u001b[38;5;124my_true\u001b[39m\u001b[38;5;124m\"\u001b[39m)\n\u001b[0;32m    604\u001b[0m y_true \u001b[38;5;241m=\u001b[39m check_array(y_true, ensure_2d\u001b[38;5;241m=\u001b[39m\u001b[38;5;28;01mFalse\u001b[39;00m, dtype\u001b[38;5;241m=\u001b[39m\u001b[38;5;28;01mNone\u001b[39;00m)\n\u001b[1;32m--> 605\u001b[0m y_score \u001b[38;5;241m=\u001b[39m check_array(y_score, ensure_2d\u001b[38;5;241m=\u001b[39m\u001b[38;5;28;01mFalse\u001b[39;00m)\n\u001b[0;32m    607\u001b[0m \u001b[38;5;28;01mif\u001b[39;00m y_type \u001b[38;5;241m==\u001b[39m \u001b[38;5;124m\"\u001b[39m\u001b[38;5;124mmulticlass\u001b[39m\u001b[38;5;124m\"\u001b[39m \u001b[38;5;129;01mor\u001b[39;00m (\n\u001b[0;32m    608\u001b[0m     y_type \u001b[38;5;241m==\u001b[39m \u001b[38;5;124m\"\u001b[39m\u001b[38;5;124mbinary\u001b[39m\u001b[38;5;124m\"\u001b[39m \u001b[38;5;129;01mand\u001b[39;00m y_score\u001b[38;5;241m.\u001b[39mndim \u001b[38;5;241m==\u001b[39m \u001b[38;5;241m2\u001b[39m \u001b[38;5;129;01mand\u001b[39;00m y_score\u001b[38;5;241m.\u001b[39mshape[\u001b[38;5;241m1\u001b[39m] \u001b[38;5;241m>\u001b[39m \u001b[38;5;241m2\u001b[39m\n\u001b[0;32m    609\u001b[0m ):\n\u001b[0;32m    610\u001b[0m     \u001b[38;5;66;03m# do not support partial ROC computation for multiclass\u001b[39;00m\n\u001b[0;32m    611\u001b[0m     \u001b[38;5;28;01mif\u001b[39;00m max_fpr \u001b[38;5;129;01mis\u001b[39;00m \u001b[38;5;129;01mnot\u001b[39;00m \u001b[38;5;28;01mNone\u001b[39;00m \u001b[38;5;129;01mand\u001b[39;00m max_fpr \u001b[38;5;241m!=\u001b[39m \u001b[38;5;241m1.0\u001b[39m:\n",
      "File \u001b[1;32mD:\\Programs\\Anaconda3\\Lib\\site-packages\\sklearn\\utils\\validation.py:917\u001b[0m, in \u001b[0;36mcheck_array\u001b[1;34m(array, accept_sparse, accept_large_sparse, dtype, order, copy, force_all_finite, ensure_2d, allow_nd, ensure_min_samples, ensure_min_features, estimator, input_name)\u001b[0m\n\u001b[0;32m    915\u001b[0m         array \u001b[38;5;241m=\u001b[39m xp\u001b[38;5;241m.\u001b[39mastype(array, dtype, copy\u001b[38;5;241m=\u001b[39m\u001b[38;5;28;01mFalse\u001b[39;00m)\n\u001b[0;32m    916\u001b[0m     \u001b[38;5;28;01melse\u001b[39;00m:\n\u001b[1;32m--> 917\u001b[0m         array \u001b[38;5;241m=\u001b[39m _asarray_with_order(array, order\u001b[38;5;241m=\u001b[39morder, dtype\u001b[38;5;241m=\u001b[39mdtype, xp\u001b[38;5;241m=\u001b[39mxp)\n\u001b[0;32m    918\u001b[0m \u001b[38;5;28;01mexcept\u001b[39;00m ComplexWarning \u001b[38;5;28;01mas\u001b[39;00m complex_warning:\n\u001b[0;32m    919\u001b[0m     \u001b[38;5;28;01mraise\u001b[39;00m \u001b[38;5;167;01mValueError\u001b[39;00m(\n\u001b[0;32m    920\u001b[0m         \u001b[38;5;124m\"\u001b[39m\u001b[38;5;124mComplex data not supported\u001b[39m\u001b[38;5;130;01m\\n\u001b[39;00m\u001b[38;5;132;01m{}\u001b[39;00m\u001b[38;5;130;01m\\n\u001b[39;00m\u001b[38;5;124m\"\u001b[39m\u001b[38;5;241m.\u001b[39mformat(array)\n\u001b[0;32m    921\u001b[0m     ) \u001b[38;5;28;01mfrom\u001b[39;00m \u001b[38;5;21;01mcomplex_warning\u001b[39;00m\n",
      "File \u001b[1;32mD:\\Programs\\Anaconda3\\Lib\\site-packages\\sklearn\\utils\\_array_api.py:380\u001b[0m, in \u001b[0;36m_asarray_with_order\u001b[1;34m(array, dtype, order, copy, xp)\u001b[0m\n\u001b[0;32m    378\u001b[0m     array \u001b[38;5;241m=\u001b[39m numpy\u001b[38;5;241m.\u001b[39marray(array, order\u001b[38;5;241m=\u001b[39morder, dtype\u001b[38;5;241m=\u001b[39mdtype)\n\u001b[0;32m    379\u001b[0m \u001b[38;5;28;01melse\u001b[39;00m:\n\u001b[1;32m--> 380\u001b[0m     array \u001b[38;5;241m=\u001b[39m numpy\u001b[38;5;241m.\u001b[39masarray(array, order\u001b[38;5;241m=\u001b[39morder, dtype\u001b[38;5;241m=\u001b[39mdtype)\n\u001b[0;32m    382\u001b[0m \u001b[38;5;66;03m# At this point array is a NumPy ndarray. We convert it to an array\u001b[39;00m\n\u001b[0;32m    383\u001b[0m \u001b[38;5;66;03m# container that is consistent with the input's namespace.\u001b[39;00m\n\u001b[0;32m    384\u001b[0m \u001b[38;5;28;01mreturn\u001b[39;00m xp\u001b[38;5;241m.\u001b[39masarray(array)\n",
      "File \u001b[1;32mD:\\Programs\\Anaconda3\\Lib\\site-packages\\pandas\\core\\series.py:917\u001b[0m, in \u001b[0;36mSeries.__array__\u001b[1;34m(self, dtype)\u001b[0m\n\u001b[0;32m    870\u001b[0m \u001b[38;5;250m\u001b[39m\u001b[38;5;124;03m\"\"\"\u001b[39;00m\n\u001b[0;32m    871\u001b[0m \u001b[38;5;124;03mReturn the values as a NumPy array.\u001b[39;00m\n\u001b[0;32m    872\u001b[0m \n\u001b[1;32m   (...)\u001b[0m\n\u001b[0;32m    914\u001b[0m \u001b[38;5;124;03m      dtype='datetime64[ns]')\u001b[39;00m\n\u001b[0;32m    915\u001b[0m \u001b[38;5;124;03m\"\"\"\u001b[39;00m\n\u001b[0;32m    916\u001b[0m values \u001b[38;5;241m=\u001b[39m \u001b[38;5;28mself\u001b[39m\u001b[38;5;241m.\u001b[39m_values\n\u001b[1;32m--> 917\u001b[0m arr \u001b[38;5;241m=\u001b[39m np\u001b[38;5;241m.\u001b[39masarray(values, dtype\u001b[38;5;241m=\u001b[39mdtype)\n\u001b[0;32m    918\u001b[0m \u001b[38;5;28;01mif\u001b[39;00m using_copy_on_write() \u001b[38;5;129;01mand\u001b[39;00m astype_is_view(values\u001b[38;5;241m.\u001b[39mdtype, arr\u001b[38;5;241m.\u001b[39mdtype):\n\u001b[0;32m    919\u001b[0m     arr \u001b[38;5;241m=\u001b[39m arr\u001b[38;5;241m.\u001b[39mview()\n",
      "\u001b[1;31mValueError\u001b[0m: setting an array element with a sequence."
     ]
    }
   ],
   "source": [
    "sklearn.metrics.roc_auc_score(m1['outcome'],  m1['p6'], average = 'samples')\n"
   ]
  },
  {
   "cell_type": "code",
   "execution_count": null,
   "id": "d65ee1e0-3c7e-4767-a358-7cb1270fd1e2",
   "metadata": {
    "tags": []
   },
   "outputs": [],
   "source": [
    "( confusion_matrix (m1['outcome'],  m1['p6']>.5) )"
   ]
  },
  {
   "cell_type": "code",
   "execution_count": 76,
   "id": "981bbaf3-1a93-4618-ae9f-ffd7bc3793d9",
   "metadata": {},
   "outputs": [],
   "source": [
    "# how many people had event within 6 months of index date"
   ]
  },
  {
   "cell_type": "code",
   "execution_count": 77,
   "id": "28235e3d-d8e2-424b-b064-e0b9d45c7881",
   "metadata": {
    "tags": []
   },
   "outputs": [],
   "source": [
    "m1.to_csv('output/CC8_test180.csv') "
   ]
  },
  {
   "cell_type": "code",
   "execution_count": 8,
   "id": "112b112b-b97d-4328-9fb2-a9aa34b70486",
   "metadata": {},
   "outputs": [],
   "source": [
    "#m1.to_excel('output/dxMD_Sensitivity90.xlsx') "
   ]
  },
  {
   "cell_type": "code",
   "execution_count": 27,
   "id": "ecc15a95-38ea-4f44-a4be-1692fb6bebac",
   "metadata": {},
   "outputs": [
    {
     "data": {
      "text/plain": [
       "[289.0,\n",
       " 390.0,\n",
       " 471.0,\n",
       " 541.0,\n",
       " 610.0,\n",
       " 677.0,\n",
       " 743.0,\n",
       " 809.0,\n",
       " 879.0,\n",
       " 952.0,\n",
       " 1036.0,\n",
       " 1128.0,\n",
       " 1230.0,\n",
       " 1343.0,\n",
       " 1482.5,\n",
       " 1647.0,\n",
       " 1880.9,\n",
       " 2189.0,\n",
       " 2772.0]"
      ]
     },
     "execution_count": 27,
     "metadata": {},
     "output_type": "execute_result"
    }
   ],
   "source": [
    "statistics.quantiles( M['len180'],n=20)"
   ]
  },
  {
   "cell_type": "code",
   "execution_count": 23,
   "id": "df19f012-3361-4e45-bd01-22dd2fc015cd",
   "metadata": {},
   "outputs": [
    {
     "data": {
      "text/plain": [
       "(array([2.2715e+04, 1.8050e+03, 1.3000e+02, 2.5000e+01, 1.2000e+01,\n",
       "        1.0000e+00, 1.0000e+00, 1.0000e+00, 1.0000e+00, 2.0000e+00]),\n",
       " array([1.00000e+00, 2.37810e+03, 4.75520e+03, 7.13230e+03, 9.50940e+03,\n",
       "        1.18865e+04, 1.42636e+04, 1.66407e+04, 1.90178e+04, 2.13949e+04,\n",
       "        2.37720e+04]),\n",
       " <BarContainer object of 10 artists>)"
      ]
     },
     "execution_count": 23,
     "metadata": {},
     "output_type": "execute_result"
    }
   ],
   "source": [
    "plt.hist(M['len180'])"
   ]
  },
  {
   "cell_type": "code",
   "execution_count": null,
   "id": "2e1d9a19-4dbb-4201-bcb9-8ecaaea3619a",
   "metadata": {},
   "outputs": [],
   "source": []
  }
 ],
 "metadata": {
  "kernelspec": {
   "display_name": "Python 3 (ipykernel)",
   "language": "python",
   "name": "python3"
  },
  "language_info": {
   "codemirror_mode": {
    "name": "ipython",
    "version": 3
   },
   "file_extension": ".py",
   "mimetype": "text/x-python",
   "name": "python",
   "nbconvert_exporter": "python",
   "pygments_lexer": "ipython3",
   "version": "3.11.5"
  }
 },
 "nbformat": 4,
 "nbformat_minor": 5
}
