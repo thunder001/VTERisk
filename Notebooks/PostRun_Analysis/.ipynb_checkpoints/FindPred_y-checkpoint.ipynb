{
 "cells": [
  {
   "cell_type": "code",
   "execution_count": 3,
   "id": "e80fca33-a457-4e83-baaf-dc134ac94a62",
   "metadata": {
    "tags": []
   },
   "outputs": [],
   "source": [
    "import json\n",
    "from collections import Counter\n",
    "from tqdm import tqdm\n",
    "import pickle\n",
    "import numpy as np\n",
    "import pandas as pd\n",
    "pd.options.display.max_colwidth = 100\n",
    "import matplotlib\n",
    "matplotlib.use('Agg')\n",
    "import seaborn as sns\n",
    "import matplotlib.pyplot as plt\n",
    "from matplotlib.gridspec import GridSpec\n",
    "import sys\n",
    "import os\n",
    "import argparse\n",
    "from os.path import dirname, realpath\n",
    "\n",
    "import hashlib\n",
    "import datetime\n",
    "import datetime as datetime\n",
    "import sklearn\n",
    "import statistics\n",
    "sys.path.append(\"./src/\")\n",
    "#from disrisknet.utils.parsing import parse_args\n",
    "import pdb\n",
    "\n",
    "src_path = \"G:\\\\FillmoreCancerData\\\\markhe\\\\VTERisk\" \n",
    "src_path2 = \"G:\\\\FillmoreCancerData\\\\markhe\\\\VTERisk - Copy\" \n",
    "\n",
    "from sklearn.metrics import confusion_matrix"
   ]
  },
  {
   "cell_type": "code",
   "execution_count": 4,
   "id": "b604bdf1-e06a-4abc-b6a7-53801e671dab",
   "metadata": {
    "tags": []
   },
   "outputs": [],
   "source": [
    "testDF = pd.read_csv(os.path.join(src_path2, 'Notebooks/Find/allChars_DF.csv'))\n",
    "from sklearn.metrics import confusion_matrix\n"
   ]
  },
  {
   "cell_type": "code",
   "execution_count": 5,
   "id": "0dc20797-4425-4c1c-8775-0bbb7e83e7c8",
   "metadata": {},
   "outputs": [],
   "source": [
    "logpath = os.path.join(src_path ,'logs_transformer_vte/F/', \"0d071737ad78312a4c72357d28bd336b.results.test_preds\")\n"
   ]
  },
  {
   "cell_type": "code",
   "execution_count": 6,
   "id": "99e761ec-4b53-447f-886c-541aa8e4617f",
   "metadata": {
    "tags": []
   },
   "outputs": [
    {
     "name": "stderr",
     "output_type": "stream",
     "text": [
      "C:\\Users\\VHANYNHeT\\AppData\\Local\\Temp\\2\\ipykernel_73432\\424652739.py:20: SettingWithCopyWarning: \n",
      "A value is trying to be set on a copy of a slice from a DataFrame.\n",
      "Try using .loc[row_indexer,col_indexer] = value instead\n",
      "\n",
      "See the caveats in the documentation: https://pandas.pydata.org/pandas-docs/stable/user_guide/indexing.html#returning-a-view-versus-a-copy\n",
      "  m['d']= pd.to_datetime(m['outcome_date']) - pd.to_datetime(m['model_date'])\n",
      "C:\\Users\\VHANYNHeT\\AppData\\Local\\Temp\\2\\ipykernel_73432\\424652739.py:25: SettingWithCopyWarning: \n",
      "A value is trying to be set on a copy of a slice from a DataFrame.\n",
      "Try using .loc[row_indexer,col_indexer] = value instead\n",
      "\n",
      "See the caveats in the documentation: https://pandas.pydata.org/pandas-docs/stable/user_guide/indexing.html#returning-a-view-versus-a-copy\n",
      "  m_VE0[\"outcome\"] = m_VE0[\"outcome\"].replace(True, False)\n"
     ]
    }
   ],
   "source": [
    " \n",
    "with open(logpath, 'rb') as f:\n",
    "    R6 = pickle.load(f)\n",
    "    p6 = np.array(R6['probs'])\n",
    "\n",
    "pat_ids = (testDF['patient_id'] ).astype(int)\n",
    "\n",
    "def md5(key):\n",
    "    return hashlib.md5(repr(key).encode()).hexdigest()\n",
    "\n",
    "testDF['pids'] = pat_ids.apply(md5)\n",
    "\n",
    "g6 = pd.DataFrame({'p6': R6['probs'] ,    \n",
    "                   'pids':np.array(R6['pids']),    \n",
    "                   'model_date':np.array(R6['dates'])\n",
    "                  })\n",
    "\n",
    "M = pd.merge(g6, testDF)\n",
    "\n",
    "m = M[[\"patient_id\",\"dx_date\", \"index_date\", \"model_date\",  \"outcome\",\"outcome_date\",\"p6\" ]]\n",
    "m['d']= pd.to_datetime(m['outcome_date']) - pd.to_datetime(m['model_date'])\n",
    "\n",
    "m_VE = m[ m['outcome'] ]\n",
    "m_VE1 = m_VE [   (pd.to_datetime( m_VE[\"outcome_date\"] ) -pd.to_datetime( m_VE[\"index_date\"] )) < datetime.timedelta(730)]\n",
    "m_VE0 = m_VE [   (pd.to_datetime( m_VE[\"outcome_date\"] ) -pd.to_datetime( m_VE[\"index_date\"] )) >= datetime.timedelta(730)]\n",
    "m_VE0[\"outcome\"] = m_VE0[\"outcome\"].replace(True, False)  \n",
    "m0= m[ ~ m['outcome'] ]\n",
    "\n",
    "m1 = pd.concat([m_VE1, m_VE0, m0])"
   ]
  },
  {
   "cell_type": "code",
   "execution_count": 81,
   "id": "e069c93c-f38b-44aa-8e67-889c15bc08b8",
   "metadata": {
    "tags": []
   },
   "outputs": [
    {
     "data": {
      "text/plain": [
       "dict_keys(['golds', 'probs', 'patient_golds', 'exams', 'pids', 'dates', 'censor_times', 'days_to_final_censors'])"
      ]
     },
     "execution_count": 81,
     "metadata": {},
     "output_type": "execute_result"
    }
   ],
   "source": [
    "R6.keys()"
   ]
  },
  {
   "cell_type": "code",
   "execution_count": 82,
   "id": "1cc49686-24ca-436f-a8d0-59811c2a3a13",
   "metadata": {
    "tags": []
   },
   "outputs": [
    {
     "data": {
      "text/plain": [
       "Index(['p6', 'pids', 'model_date', 'Unnamed: 0', 'patient_id', 'outcome',\n",
       "       'dob', 'outcome_date', 'obs_time_end', 'index_date', 'dx_date',\n",
       "       'obs_time_start', 'ev_length', 'len0', 't0', 'len30', 't30', 'len90',\n",
       "       't90', 'len180', 't180', 'ks', 'sex', 'bmi', 'race'],\n",
       "      dtype='object')"
      ]
     },
     "execution_count": 82,
     "metadata": {},
     "output_type": "execute_result"
    }
   ],
   "source": [
    "M.keys()"
   ]
  },
  {
   "cell_type": "code",
   "execution_count": 83,
   "id": "ac225eaa-3ee9-41e9-ad2a-5b45f602e7c3",
   "metadata": {},
   "outputs": [
    {
     "data": {
      "text/html": [
       "<div>\n",
       "<style scoped>\n",
       "    .dataframe tbody tr th:only-of-type {\n",
       "        vertical-align: middle;\n",
       "    }\n",
       "\n",
       "    .dataframe tbody tr th {\n",
       "        vertical-align: top;\n",
       "    }\n",
       "\n",
       "    .dataframe thead th {\n",
       "        text-align: right;\n",
       "    }\n",
       "</style>\n",
       "<table border=\"1\" class=\"dataframe\">\n",
       "  <thead>\n",
       "    <tr style=\"text-align: right;\">\n",
       "      <th></th>\n",
       "      <th>p6</th>\n",
       "      <th>pids</th>\n",
       "      <th>model_date</th>\n",
       "      <th>Unnamed: 0</th>\n",
       "      <th>patient_id</th>\n",
       "      <th>outcome</th>\n",
       "      <th>dob</th>\n",
       "      <th>outcome_date</th>\n",
       "      <th>obs_time_end</th>\n",
       "      <th>index_date</th>\n",
       "      <th>...</th>\n",
       "      <th>len30</th>\n",
       "      <th>t30</th>\n",
       "      <th>len90</th>\n",
       "      <th>t90</th>\n",
       "      <th>len180</th>\n",
       "      <th>t180</th>\n",
       "      <th>ks</th>\n",
       "      <th>sex</th>\n",
       "      <th>bmi</th>\n",
       "      <th>race</th>\n",
       "    </tr>\n",
       "  </thead>\n",
       "  <tbody>\n",
       "    <tr>\n",
       "      <th>0</th>\n",
       "      <td>[0.6397188]</td>\n",
       "      <td>fccd04485f7e2b254bc863b53b5f68f6</td>\n",
       "      <td>2012-04-19T00:00:00</td>\n",
       "      <td>108411</td>\n",
       "      <td>1013107540</td>\n",
       "      <td>False</td>\n",
       "      <td>1947-09-18</td>\n",
       "      <td>2012-09-07</td>\n",
       "      <td>2012-09-07</td>\n",
       "      <td>2012-03-20</td>\n",
       "      <td>...</td>\n",
       "      <td>835</td>\n",
       "      <td>2423 days</td>\n",
       "      <td>835</td>\n",
       "      <td>2423 days</td>\n",
       "      <td>835</td>\n",
       "      <td>2423 days</td>\n",
       "      <td>4</td>\n",
       "      <td>0</td>\n",
       "      <td>4</td>\n",
       "      <td>1</td>\n",
       "    </tr>\n",
       "    <tr>\n",
       "      <th>1</th>\n",
       "      <td>[0.8010643]</td>\n",
       "      <td>b3804418cd23d5dce384847c7c8fd0ac</td>\n",
       "      <td>2014-09-18T00:00:00</td>\n",
       "      <td>18263</td>\n",
       "      <td>1002356359</td>\n",
       "      <td>False</td>\n",
       "      <td>1936-02-22</td>\n",
       "      <td>2015-10-28</td>\n",
       "      <td>2015-10-28</td>\n",
       "      <td>2014-08-21</td>\n",
       "      <td>...</td>\n",
       "      <td>1906</td>\n",
       "      <td>5668 days</td>\n",
       "      <td>1906</td>\n",
       "      <td>5668 days</td>\n",
       "      <td>1906</td>\n",
       "      <td>5668 days</td>\n",
       "      <td>4</td>\n",
       "      <td>0</td>\n",
       "      <td>2</td>\n",
       "      <td>1</td>\n",
       "    </tr>\n",
       "    <tr>\n",
       "      <th>2</th>\n",
       "      <td>[0.6944997]</td>\n",
       "      <td>91f3e22be2c6a8d5f6aed1f6807b9e76</td>\n",
       "      <td>2016-04-18T00:00:00</td>\n",
       "      <td>113938</td>\n",
       "      <td>1012209348</td>\n",
       "      <td>False</td>\n",
       "      <td>1943-04-11</td>\n",
       "      <td>2022-04-21</td>\n",
       "      <td>2022-04-21</td>\n",
       "      <td>2016-03-22</td>\n",
       "      <td>...</td>\n",
       "      <td>1194</td>\n",
       "      <td>4200 days</td>\n",
       "      <td>1194</td>\n",
       "      <td>4200 days</td>\n",
       "      <td>1194</td>\n",
       "      <td>4200 days</td>\n",
       "      <td>0</td>\n",
       "      <td>0</td>\n",
       "      <td>2</td>\n",
       "      <td>1</td>\n",
       "    </tr>\n",
       "    <tr>\n",
       "      <th>3</th>\n",
       "      <td>[0.72740215]</td>\n",
       "      <td>a6cd953798961f70382dbaf367def000</td>\n",
       "      <td>2013-08-07T00:00:00</td>\n",
       "      <td>81194</td>\n",
       "      <td>1009934317</td>\n",
       "      <td>False</td>\n",
       "      <td>1941-03-15</td>\n",
       "      <td>2013-10-11</td>\n",
       "      <td>2013-10-11</td>\n",
       "      <td>2013-07-08</td>\n",
       "      <td>...</td>\n",
       "      <td>1441</td>\n",
       "      <td>4094 days</td>\n",
       "      <td>1441</td>\n",
       "      <td>4094 days</td>\n",
       "      <td>1441</td>\n",
       "      <td>4094 days</td>\n",
       "      <td>5</td>\n",
       "      <td>0</td>\n",
       "      <td>4</td>\n",
       "      <td>5</td>\n",
       "    </tr>\n",
       "    <tr>\n",
       "      <th>4</th>\n",
       "      <td>[0.7188462]</td>\n",
       "      <td>689bbf34fb87f3659c91fa304a2ad090</td>\n",
       "      <td>2021-06-23T00:00:00</td>\n",
       "      <td>109522</td>\n",
       "      <td>1010617362</td>\n",
       "      <td>False</td>\n",
       "      <td>1951-05-17</td>\n",
       "      <td>2023-05-31</td>\n",
       "      <td>2023-05-31</td>\n",
       "      <td>2021-05-24</td>\n",
       "      <td>...</td>\n",
       "      <td>1227</td>\n",
       "      <td>6755 days</td>\n",
       "      <td>1227</td>\n",
       "      <td>6755 days</td>\n",
       "      <td>1227</td>\n",
       "      <td>6755 days</td>\n",
       "      <td>1</td>\n",
       "      <td>0</td>\n",
       "      <td>1</td>\n",
       "      <td>5</td>\n",
       "    </tr>\n",
       "    <tr>\n",
       "      <th>...</th>\n",
       "      <td>...</td>\n",
       "      <td>...</td>\n",
       "      <td>...</td>\n",
       "      <td>...</td>\n",
       "      <td>...</td>\n",
       "      <td>...</td>\n",
       "      <td>...</td>\n",
       "      <td>...</td>\n",
       "      <td>...</td>\n",
       "      <td>...</td>\n",
       "      <td>...</td>\n",
       "      <td>...</td>\n",
       "      <td>...</td>\n",
       "      <td>...</td>\n",
       "      <td>...</td>\n",
       "      <td>...</td>\n",
       "      <td>...</td>\n",
       "      <td>...</td>\n",
       "      <td>...</td>\n",
       "      <td>...</td>\n",
       "      <td>...</td>\n",
       "    </tr>\n",
       "    <tr>\n",
       "      <th>24688</th>\n",
       "      <td>[0.73357975]</td>\n",
       "      <td>09093659329aee0430db9b80c3e8b777</td>\n",
       "      <td>2015-03-03T00:00:00</td>\n",
       "      <td>32830</td>\n",
       "      <td>1002011903</td>\n",
       "      <td>False</td>\n",
       "      <td>1948-02-14</td>\n",
       "      <td>2015-04-05</td>\n",
       "      <td>2015-04-05</td>\n",
       "      <td>2015-02-04</td>\n",
       "      <td>...</td>\n",
       "      <td>2411</td>\n",
       "      <td>5803 days</td>\n",
       "      <td>2411</td>\n",
       "      <td>5803 days</td>\n",
       "      <td>2411</td>\n",
       "      <td>5803 days</td>\n",
       "      <td>5</td>\n",
       "      <td>0</td>\n",
       "      <td>4</td>\n",
       "      <td>1</td>\n",
       "    </tr>\n",
       "    <tr>\n",
       "      <th>24689</th>\n",
       "      <td>[0.62877375]</td>\n",
       "      <td>2ad8b60244666d164def2b7df5c7624d</td>\n",
       "      <td>2017-08-18T00:00:00</td>\n",
       "      <td>54789</td>\n",
       "      <td>1017232913</td>\n",
       "      <td>True</td>\n",
       "      <td>1975-07-24</td>\n",
       "      <td>2018-01-12</td>\n",
       "      <td>2023-05-11</td>\n",
       "      <td>2017-07-19</td>\n",
       "      <td>...</td>\n",
       "      <td>246</td>\n",
       "      <td>2489 days</td>\n",
       "      <td>229</td>\n",
       "      <td>2418 days</td>\n",
       "      <td>187</td>\n",
       "      <td>2342 days</td>\n",
       "      <td>0</td>\n",
       "      <td>1</td>\n",
       "      <td>0</td>\n",
       "      <td>0</td>\n",
       "    </tr>\n",
       "    <tr>\n",
       "      <th>24690</th>\n",
       "      <td>[0.77633923]</td>\n",
       "      <td>92caa39bab1a003ed6cab695efffeee4</td>\n",
       "      <td>2015-11-12T00:00:00</td>\n",
       "      <td>72839</td>\n",
       "      <td>1006148759</td>\n",
       "      <td>False</td>\n",
       "      <td>1949-12-03</td>\n",
       "      <td>2016-07-20</td>\n",
       "      <td>2016-07-20</td>\n",
       "      <td>2015-10-14</td>\n",
       "      <td>...</td>\n",
       "      <td>1516</td>\n",
       "      <td>6075 days</td>\n",
       "      <td>1516</td>\n",
       "      <td>6075 days</td>\n",
       "      <td>1516</td>\n",
       "      <td>6075 days</td>\n",
       "      <td>3</td>\n",
       "      <td>0</td>\n",
       "      <td>3</td>\n",
       "      <td>1</td>\n",
       "    </tr>\n",
       "    <tr>\n",
       "      <th>24691</th>\n",
       "      <td>[0.6646374]</td>\n",
       "      <td>ad471ea26578f4ab8cc5625c8d516df7</td>\n",
       "      <td>2010-12-07T00:00:00</td>\n",
       "      <td>45801</td>\n",
       "      <td>1008006255</td>\n",
       "      <td>False</td>\n",
       "      <td>1950-09-13</td>\n",
       "      <td>2011-01-08</td>\n",
       "      <td>2011-01-08</td>\n",
       "      <td>2010-11-05</td>\n",
       "      <td>...</td>\n",
       "      <td>1424</td>\n",
       "      <td>3278 days</td>\n",
       "      <td>1424</td>\n",
       "      <td>3278 days</td>\n",
       "      <td>1424</td>\n",
       "      <td>3278 days</td>\n",
       "      <td>3</td>\n",
       "      <td>0</td>\n",
       "      <td>3</td>\n",
       "      <td>1</td>\n",
       "    </tr>\n",
       "    <tr>\n",
       "      <th>24692</th>\n",
       "      <td>[0.7526664]</td>\n",
       "      <td>ddbae65759fe3cf4f39f9592a80bd2ec</td>\n",
       "      <td>2014-05-30T00:00:00</td>\n",
       "      <td>73416</td>\n",
       "      <td>1012011210</td>\n",
       "      <td>True</td>\n",
       "      <td>1945-09-02</td>\n",
       "      <td>2014-06-13</td>\n",
       "      <td>2023-05-15</td>\n",
       "      <td>2014-04-30</td>\n",
       "      <td>...</td>\n",
       "      <td>1737</td>\n",
       "      <td>3345 days</td>\n",
       "      <td>1542</td>\n",
       "      <td>3285 days</td>\n",
       "      <td>1518</td>\n",
       "      <td>3168 days</td>\n",
       "      <td>1</td>\n",
       "      <td>0</td>\n",
       "      <td>2</td>\n",
       "      <td>5</td>\n",
       "    </tr>\n",
       "  </tbody>\n",
       "</table>\n",
       "<p>24693 rows × 25 columns</p>\n",
       "</div>"
      ],
      "text/plain": [
       "                 p6                              pids           model_date  \\\n",
       "0       [0.6397188]  fccd04485f7e2b254bc863b53b5f68f6  2012-04-19T00:00:00   \n",
       "1       [0.8010643]  b3804418cd23d5dce384847c7c8fd0ac  2014-09-18T00:00:00   \n",
       "2       [0.6944997]  91f3e22be2c6a8d5f6aed1f6807b9e76  2016-04-18T00:00:00   \n",
       "3      [0.72740215]  a6cd953798961f70382dbaf367def000  2013-08-07T00:00:00   \n",
       "4       [0.7188462]  689bbf34fb87f3659c91fa304a2ad090  2021-06-23T00:00:00   \n",
       "...             ...                               ...                  ...   \n",
       "24688  [0.73357975]  09093659329aee0430db9b80c3e8b777  2015-03-03T00:00:00   \n",
       "24689  [0.62877375]  2ad8b60244666d164def2b7df5c7624d  2017-08-18T00:00:00   \n",
       "24690  [0.77633923]  92caa39bab1a003ed6cab695efffeee4  2015-11-12T00:00:00   \n",
       "24691   [0.6646374]  ad471ea26578f4ab8cc5625c8d516df7  2010-12-07T00:00:00   \n",
       "24692   [0.7526664]  ddbae65759fe3cf4f39f9592a80bd2ec  2014-05-30T00:00:00   \n",
       "\n",
       "       Unnamed: 0  patient_id  outcome         dob outcome_date obs_time_end  \\\n",
       "0          108411  1013107540    False  1947-09-18   2012-09-07   2012-09-07   \n",
       "1           18263  1002356359    False  1936-02-22   2015-10-28   2015-10-28   \n",
       "2          113938  1012209348    False  1943-04-11   2022-04-21   2022-04-21   \n",
       "3           81194  1009934317    False  1941-03-15   2013-10-11   2013-10-11   \n",
       "4          109522  1010617362    False  1951-05-17   2023-05-31   2023-05-31   \n",
       "...           ...         ...      ...         ...          ...          ...   \n",
       "24688       32830  1002011903    False  1948-02-14   2015-04-05   2015-04-05   \n",
       "24689       54789  1017232913     True  1975-07-24   2018-01-12   2023-05-11   \n",
       "24690       72839  1006148759    False  1949-12-03   2016-07-20   2016-07-20   \n",
       "24691       45801  1008006255    False  1950-09-13   2011-01-08   2011-01-08   \n",
       "24692       73416  1012011210     True  1945-09-02   2014-06-13   2023-05-15   \n",
       "\n",
       "       index_date  ... len30        t30  len90        t90 len180       t180  \\\n",
       "0      2012-03-20  ...   835  2423 days    835  2423 days    835  2423 days   \n",
       "1      2014-08-21  ...  1906  5668 days   1906  5668 days   1906  5668 days   \n",
       "2      2016-03-22  ...  1194  4200 days   1194  4200 days   1194  4200 days   \n",
       "3      2013-07-08  ...  1441  4094 days   1441  4094 days   1441  4094 days   \n",
       "4      2021-05-24  ...  1227  6755 days   1227  6755 days   1227  6755 days   \n",
       "...           ...  ...   ...        ...    ...        ...    ...        ...   \n",
       "24688  2015-02-04  ...  2411  5803 days   2411  5803 days   2411  5803 days   \n",
       "24689  2017-07-19  ...   246  2489 days    229  2418 days    187  2342 days   \n",
       "24690  2015-10-14  ...  1516  6075 days   1516  6075 days   1516  6075 days   \n",
       "24691  2010-11-05  ...  1424  3278 days   1424  3278 days   1424  3278 days   \n",
       "24692  2014-04-30  ...  1737  3345 days   1542  3285 days   1518  3168 days   \n",
       "\n",
       "      ks  sex bmi  race  \n",
       "0      4    0   4     1  \n",
       "1      4    0   2     1  \n",
       "2      0    0   2     1  \n",
       "3      5    0   4     5  \n",
       "4      1    0   1     5  \n",
       "...   ..  ...  ..   ...  \n",
       "24688  5    0   4     1  \n",
       "24689  0    1   0     0  \n",
       "24690  3    0   3     1  \n",
       "24691  3    0   3     1  \n",
       "24692  1    0   2     5  \n",
       "\n",
       "[24693 rows x 25 columns]"
      ]
     },
     "execution_count": 83,
     "metadata": {},
     "output_type": "execute_result"
    }
   ],
   "source": [
    "M"
   ]
  },
  {
   "cell_type": "code",
   "execution_count": 84,
   "id": "3ed76f5c-ab80-4ed9-90d1-d80ede20287a",
   "metadata": {
    "tags": []
   },
   "outputs": [
    {
     "data": {
      "text/plain": [
       "0.5168340405080649"
      ]
     },
     "execution_count": 84,
     "metadata": {},
     "output_type": "execute_result"
    }
   ],
   "source": [
    "sklearn.metrics.roc_auc_score(m1['outcome'],  m1['p6'], average = 'samples')\n"
   ]
  },
  {
   "cell_type": "code",
   "execution_count": 85,
   "id": "d65ee1e0-3c7e-4767-a358-7cb1270fd1e2",
   "metadata": {
    "tags": []
   },
   "outputs": [
    {
     "data": {
      "text/plain": [
       "array([[  403, 22278],\n",
       "       [   27,  1985]], dtype=int64)"
      ]
     },
     "execution_count": 85,
     "metadata": {},
     "output_type": "execute_result"
    }
   ],
   "source": [
    "( confusion_matrix (m1['outcome'],  m1['p6']>.5) )"
   ]
  },
  {
   "cell_type": "code",
   "execution_count": 76,
   "id": "981bbaf3-1a93-4618-ae9f-ffd7bc3793d9",
   "metadata": {},
   "outputs": [],
   "source": [
    "# how many people had event within 6 months of index date"
   ]
  },
  {
   "cell_type": "code",
   "execution_count": 77,
   "id": "28235e3d-d8e2-424b-b064-e0b9d45c7881",
   "metadata": {
    "tags": []
   },
   "outputs": [],
   "source": [
    "m1.to_csv('output/CC8_test180.csv') "
   ]
  },
  {
   "cell_type": "code",
   "execution_count": 8,
   "id": "112b112b-b97d-4328-9fb2-a9aa34b70486",
   "metadata": {},
   "outputs": [],
   "source": [
    "#m1.to_excel('output/dxMD_Sensitivity90.xlsx') "
   ]
  },
  {
   "cell_type": "code",
   "execution_count": 27,
   "id": "ecc15a95-38ea-4f44-a4be-1692fb6bebac",
   "metadata": {},
   "outputs": [
    {
     "data": {
      "text/plain": [
       "[289.0,\n",
       " 390.0,\n",
       " 471.0,\n",
       " 541.0,\n",
       " 610.0,\n",
       " 677.0,\n",
       " 743.0,\n",
       " 809.0,\n",
       " 879.0,\n",
       " 952.0,\n",
       " 1036.0,\n",
       " 1128.0,\n",
       " 1230.0,\n",
       " 1343.0,\n",
       " 1482.5,\n",
       " 1647.0,\n",
       " 1880.9,\n",
       " 2189.0,\n",
       " 2772.0]"
      ]
     },
     "execution_count": 27,
     "metadata": {},
     "output_type": "execute_result"
    }
   ],
   "source": [
    "statistics.quantiles( M['len180'],n=20)"
   ]
  },
  {
   "cell_type": "code",
   "execution_count": 23,
   "id": "df19f012-3361-4e45-bd01-22dd2fc015cd",
   "metadata": {},
   "outputs": [
    {
     "data": {
      "text/plain": [
       "(array([2.2715e+04, 1.8050e+03, 1.3000e+02, 2.5000e+01, 1.2000e+01,\n",
       "        1.0000e+00, 1.0000e+00, 1.0000e+00, 1.0000e+00, 2.0000e+00]),\n",
       " array([1.00000e+00, 2.37810e+03, 4.75520e+03, 7.13230e+03, 9.50940e+03,\n",
       "        1.18865e+04, 1.42636e+04, 1.66407e+04, 1.90178e+04, 2.13949e+04,\n",
       "        2.37720e+04]),\n",
       " <BarContainer object of 10 artists>)"
      ]
     },
     "execution_count": 23,
     "metadata": {},
     "output_type": "execute_result"
    }
   ],
   "source": [
    "plt.hist(M['len180'])"
   ]
  },
  {
   "cell_type": "code",
   "execution_count": null,
   "id": "2e1d9a19-4dbb-4201-bcb9-8ecaaea3619a",
   "metadata": {},
   "outputs": [],
   "source": []
  }
 ],
 "metadata": {
  "kernelspec": {
   "display_name": "Python 3 (ipykernel)",
   "language": "python",
   "name": "python3"
  },
  "language_info": {
   "codemirror_mode": {
    "name": "ipython",
    "version": 3
   },
   "file_extension": ".py",
   "mimetype": "text/x-python",
   "name": "python",
   "nbconvert_exporter": "python",
   "pygments_lexer": "ipython3",
   "version": "3.11.5"
  }
 },
 "nbformat": 4,
 "nbformat_minor": 5
}
