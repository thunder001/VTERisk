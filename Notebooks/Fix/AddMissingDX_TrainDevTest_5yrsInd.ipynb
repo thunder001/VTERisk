{
 "cells": [
  {
   "cell_type": "code",
   "execution_count": 1,
   "id": "f1316d61-217f-47ff-976e-e9760b7b8363",
   "metadata": {
    "tags": []
   },
   "outputs": [],
   "source": [
    "import json\n",
    "import os\n",
    "import time\n",
    "from datetime import datetime\n",
    "\n",
    "from os.path import dirname, realpath\n",
    "import sys\n",
    "sys.path.append(dirname(dirname(realpath(os.getcwd()))))\n",
    "import pickle\n",
    "import torch\n",
    "import multiprocessing as mp\n",
    "from torch.nn.parallel import DistributedDataParallel as DDP\n",
    "from collections import Counter\n",
    "from copy import deepcopy\n",
    "import datetime\n",
    "import tqdm\n",
    "import numpy as np\n",
    "import random\n",
    "import pandas as pd\n",
    "src_path2 = \"G:\\\\FillmoreCancerData\\\\markhe\\\\VTERisk - Copy\" \n",
    "\n",
    "from collections import Counter\n",
    "sys.path.append(\"./src/\")\n",
    "\n",
    "from sklearn.metrics import confusion_matrix\n",
    "import datetime\n",
    "from bisect import bisect_left\n",
    "from itertools import compress\n",
    "\n",
    "def parse_date(date_str):\n",
    "    if date_str == 'NA' or date_str is None:\n",
    "        return datetime.datetime(9999,1,1,0,0)\n",
    "    else:\n",
    "        if len(date_str) == 10:\n",
    "            format_str = '%Y-%m-%d'\n",
    "        else:\n",
    "            raise Exception(\"Format for {} not recognized!\".format(date_str))\n",
    "    return datetime.datetime.strptime(date_str, format_str)\n",
    "\n",
    "VTE_path = '\\\\vacrrdevmavdi01.vha.med.va.gov\\\\MAVDEV1\\\\Fillmore_Cancer\\\\cat\\\\Users\\\\data\\\\derived\\\\vte_ml\\\\vte_ml\\\\data_for_chunlei'"
   ]
  },
  {
   "cell_type": "code",
   "execution_count": 2,
   "id": "6f75846b-a10f-4147-9fc1-6e8f9993f9b5",
   "metadata": {
    "tags": []
   },
   "outputs": [],
   "source": [
    "VTE_path ='//vacrrdevmavdi01.vha.med.va.gov//MAVDEV1//Fillmore_Cancer//cat//Users//data//derived//vte_ml//vte_ml//data_for_chunlei'"
   ]
  },
  {
   "cell_type": "code",
   "execution_count": 3,
   "id": "eab9d18a-6751-4a44-9c39-4ff9165aa6e2",
   "metadata": {
    "tags": []
   },
   "outputs": [],
   "source": [
    "X_test = json.load(open(os.path.join(os.path.join(VTE_path, 'A2_CMP/IndexDate_5yrs - Copy/test/test.json')), 'r'))"
   ]
  },
  {
   "cell_type": "code",
   "execution_count": 4,
   "id": "bc724327-9e3f-420d-87ae-6e9a0c6d4420",
   "metadata": {
    "tags": []
   },
   "outputs": [],
   "source": [
    "X_dev = json.load(open(os.path.join( os.path.join(VTE_path, 'A2_CMP/IndexDate_5yrs - Copy/dev/dev.json')), 'r'))"
   ]
  },
  {
   "cell_type": "code",
   "execution_count": 5,
   "id": "41b953f9-4995-4bd2-8351-a5c8ab4df2c1",
   "metadata": {
    "tags": []
   },
   "outputs": [],
   "source": [
    "X_train = json.load(open(os.path.join( os.path.join(VTE_path, 'A2_CMP/IndexDate_5yrs - Copy/train/train.json')), 'r'))"
   ]
  },
  {
   "cell_type": "code",
   "execution_count": 6,
   "id": "5521b707-c34b-4901-b304-99ae0ccd60da",
   "metadata": {},
   "outputs": [],
   "source": [
    "#Y:\\Fillmore_Cancer\\cat\\Users\\data\\derived\\vte_ml\\vte_ml\\data_for_chunlei\\A2_CMP\\Resplit\\Y2"
   ]
  },
  {
   "cell_type": "code",
   "execution_count": null,
   "id": "6dcf56c8-989f-43ee-acbb-7884feaf9eb9",
   "metadata": {},
   "outputs": [],
   "source": []
  },
  {
   "cell_type": "code",
   "execution_count": 7,
   "id": "70b245fc-6f0b-4c44-868b-797c4ca2fc54",
   "metadata": {},
   "outputs": [],
   "source": [
    "src_path2 = \"G:\\\\FillmoreCancerData\\\\markhe\\\\VTERisk - Copy\" \n",
    "testDF = pd.read_csv(os.path.join(src_path2, 'Notebooks/Find/fixed_dx2.csv'))\n"
   ]
  },
  {
   "cell_type": "code",
   "execution_count": 8,
   "id": "a90b78b4-f004-47be-a6bb-1274f0d4a8e9",
   "metadata": {},
   "outputs": [
    {
     "name": "stderr",
     "output_type": "stream",
     "text": [
      "C:\\Users\\VHANYNHeT\\AppData\\Local\\Temp\\2\\ipykernel_1868\\3260583005.py:2: SettingWithCopyWarning: \n",
      "A value is trying to be set on a copy of a slice from a DataFrame.\n",
      "Try using .loc[row_indexer,col_indexer] = value instead\n",
      "\n",
      "See the caveats in the documentation: https://pandas.pydata.org/pandas-docs/stable/user_guide/indexing.html#returning-a-view-versus-a-copy\n",
      "  m['PatICN'] =  m.patient_id.astype(str)\n"
     ]
    }
   ],
   "source": [
    "m = testDF[[\"patient_id\", \"index_date\",\"diag_date\", \"obs_time_end\",  \"outcome\",\"outcome_date\" ]]\n",
    "m['PatICN'] =  m.patient_id.astype(str)\n"
   ]
  },
  {
   "cell_type": "code",
   "execution_count": 9,
   "id": "7b0aeb41-330a-43ed-9108-edc26b018ecc",
   "metadata": {
    "tags": []
   },
   "outputs": [],
   "source": [
    "dev_path = os.path.join(VTE_path, 'A2_CMP\\\\IndexDate_5yrs\\\\dev\\\\dev.json')\n",
    "test_path = os.path.join(VTE_path, 'A2_CMP\\\\IndexDate_5yrs\\\\test\\\\test.json')\n",
    "train_path = os.path.join(VTE_path, 'A2_CMP\\\\IndexDate_5yrs\\\\train\\\\train.json')\n"
   ]
  },
  {
   "cell_type": "code",
   "execution_count": 10,
   "id": "dfd4b192-4b86-45b6-9a06-4c5f9140984f",
   "metadata": {
    "tags": []
   },
   "outputs": [],
   "source": [
    "for p in X_dev.keys():\n",
    "    X_dev[p]['dxdate'] =  m  [ m  ['PatICN']==p ]['diag_date'].values[0]\n",
    " "
   ]
  },
  {
   "cell_type": "code",
   "execution_count": 11,
   "id": "0e7cc98b-936a-49e2-a6bb-228edb5f4f3d",
   "metadata": {
    "tags": []
   },
   "outputs": [
    {
     "name": "stdout",
     "output_type": "stream",
     "text": [
      "Saving to //vacrrdevmavdi01.vha.med.va.gov//MAVDEV1//Fillmore_Cancer//cat//Users//data//derived//vte_ml//vte_ml//data_for_chunlei\\A2_CMP\\IndexDate_5yrs\\dev\\dev.json\n",
      "\n"
     ]
    }
   ],
   "source": [
    "with open(dev_path, 'w') as fwd:\n",
    "    print(\"Saving to {}\\n\".format(dev_path))\n",
    "    json.dump(X_dev, fwd, indent=None)"
   ]
  },
  {
   "cell_type": "code",
   "execution_count": null,
   "id": "ea9e3ac0-5b6a-4163-8308-12f07a0e7c48",
   "metadata": {},
   "outputs": [],
   "source": []
  },
  {
   "cell_type": "code",
   "execution_count": 12,
   "id": "b2863895-12dc-43e8-bc9d-bbd96b79b74f",
   "metadata": {
    "tags": []
   },
   "outputs": [],
   "source": [
    "for p in X_test.keys():\n",
    "    X_test[p]['dxdate'] =  m  [ m  ['PatICN']==p ]['diag_date'].values[0]\n",
    " "
   ]
  },
  {
   "cell_type": "code",
   "execution_count": 13,
   "id": "b10fce9a-4491-4a0f-bd39-1458636dcdca",
   "metadata": {
    "tags": []
   },
   "outputs": [
    {
     "name": "stdout",
     "output_type": "stream",
     "text": [
      "Saving to //vacrrdevmavdi01.vha.med.va.gov//MAVDEV1//Fillmore_Cancer//cat//Users//data//derived//vte_ml//vte_ml//data_for_chunlei\\A2_CMP\\IndexDate_5yrs\\test\\test.json\n",
      "\n"
     ]
    }
   ],
   "source": [
    "with open(test_path, 'w') as fwd:\n",
    "    print(\"Saving to {}\\n\".format(test_path))\n",
    "    json.dump(X_test, fwd, indent=None)"
   ]
  },
  {
   "cell_type": "code",
   "execution_count": null,
   "id": "5606909f-c48d-4377-9289-b1ad1846cc97",
   "metadata": {},
   "outputs": [],
   "source": []
  },
  {
   "cell_type": "code",
   "execution_count": null,
   "id": "84c1f80c-fa08-4c89-87ca-5a6643ac3a69",
   "metadata": {},
   "outputs": [],
   "source": []
  },
  {
   "cell_type": "code",
   "execution_count": 14,
   "id": "cd644afe-c2d8-446e-adc6-c0255ce29145",
   "metadata": {
    "tags": []
   },
   "outputs": [],
   "source": [
    "for p in X_train.keys():\n",
    "    X_train[p]['dxdate'] =  m  [ m  ['PatICN']==p ]['diag_date'].values[0]\n",
    " "
   ]
  },
  {
   "cell_type": "code",
   "execution_count": 15,
   "id": "f50a0aba-2715-482b-8cbd-b5f6bb78663b",
   "metadata": {
    "tags": []
   },
   "outputs": [
    {
     "name": "stdout",
     "output_type": "stream",
     "text": [
      "Saving to //vacrrdevmavdi01.vha.med.va.gov//MAVDEV1//Fillmore_Cancer//cat//Users//data//derived//vte_ml//vte_ml//data_for_chunlei\\A2_CMP\\IndexDate_5yrs\\train\\train.json\n",
      "\n"
     ]
    }
   ],
   "source": [
    "with open(train_path, 'w') as fwd:\n",
    "    print(\"Saving to {}\\n\".format(train_path))\n",
    "    json.dump(X_train, fwd, indent=None)"
   ]
  },
  {
   "cell_type": "code",
   "execution_count": null,
   "id": "2f49225b-0831-49ac-b09d-267f2384b5a6",
   "metadata": {},
   "outputs": [],
   "source": []
  },
  {
   "cell_type": "code",
   "execution_count": null,
   "id": "590e7cf5-b4cc-4642-84ab-6abb21bfdaed",
   "metadata": {},
   "outputs": [],
   "source": []
  },
  {
   "cell_type": "code",
   "execution_count": null,
   "id": "595a709d-6694-4db4-b7ec-c6fc186a2f20",
   "metadata": {},
   "outputs": [],
   "source": []
  },
  {
   "cell_type": "code",
   "execution_count": null,
   "id": "a12b3e8e-16f9-4160-bc5c-5ff74dd7c473",
   "metadata": {},
   "outputs": [],
   "source": []
  },
  {
   "cell_type": "code",
   "execution_count": 16,
   "id": "27a5e72c-a447-4965-9237-9cab82d89fcc",
   "metadata": {},
   "outputs": [],
   "source": [
    "X_train = 0"
   ]
  },
  {
   "cell_type": "code",
   "execution_count": 17,
   "id": "7b370b08-05e3-4668-9091-b58f1503a9a3",
   "metadata": {},
   "outputs": [],
   "source": [
    "X_test = 0"
   ]
  },
  {
   "cell_type": "code",
   "execution_count": 18,
   "id": "ca19fbb9-22db-4298-a53c-43c300b53dce",
   "metadata": {
    "tags": []
   },
   "outputs": [],
   "source": [
    "X_dev=0"
   ]
  },
  {
   "cell_type": "code",
   "execution_count": null,
   "id": "59170b0c-e33c-4286-9694-3fe9b238628c",
   "metadata": {},
   "outputs": [],
   "source": []
  }
 ],
 "metadata": {
  "kernelspec": {
   "display_name": "Python 3 (ipykernel)",
   "language": "python",
   "name": "python3"
  },
  "language_info": {
   "codemirror_mode": {
    "name": "ipython",
    "version": 3
   },
   "file_extension": ".py",
   "mimetype": "text/x-python",
   "name": "python",
   "nbconvert_exporter": "python",
   "pygments_lexer": "ipython3",
   "version": "3.11.5"
  }
 },
 "nbformat": 4,
 "nbformat_minor": 5
}
