{
 "cells": [
  {
   "cell_type": "code",
   "execution_count": 1,
   "id": "f1316d61-217f-47ff-976e-e9760b7b8363",
   "metadata": {
    "tags": []
   },
   "outputs": [],
   "source": [
    "import json\n",
    "import os\n",
    "import time\n",
    "from datetime import datetime\n",
    "\n",
    "from os.path import dirname, realpath\n",
    "import sys\n",
    "sys.path.append(dirname(dirname(realpath(os.getcwd()))))\n",
    "import pickle\n",
    "import torch\n",
    "import multiprocessing as mp\n",
    "from torch.nn.parallel import DistributedDataParallel as DDP\n",
    "from collections import Counter\n",
    "from copy import deepcopy\n",
    "import datetime\n",
    "import tqdm\n",
    "import numpy as np\n",
    "import random\n",
    "import pandas as pd\n",
    "src_path2 = \"G:\\\\FillmoreCancerData\\\\markhe\\\\VTERisk - Copy\" \n",
    "\n",
    "from collections import Counter\n",
    "sys.path.append(\"./src/\")\n",
    "\n",
    "testDF = pd.read_csv(os.path.join(src_path2, 'Notebooks/Find/fixed_dx.csv'))\n",
    "from sklearn.metrics import confusion_matrix\n",
    "\n",
    "import datetime\n",
    "\n",
    "def parse_date(date_str):\n",
    "    if date_str == 'NA' or date_str is None:\n",
    "        return datetime.datetime(9999,1,1,0,0)\n",
    "    else:\n",
    "        if len(date_str) == 10:\n",
    "            format_str = '%Y-%m-%d'\n",
    "        else:\n",
    "            raise Exception(\"Format for {} not recognized!\".format(date_str))\n",
    "    return datetime.datetime.strptime(date_str, format_str)\n"
   ]
  },
  {
   "cell_type": "code",
   "execution_count": 2,
   "id": "dbf3d55e-437a-40d4-8c41-669b74b3bbe7",
   "metadata": {
    "tags": []
   },
   "outputs": [],
   "source": [
    "VTE_path = 'Y:\\\\Fillmore_Cancer\\\\cat\\\\Users\\\\data\\\\derived\\\\vte_ml\\\\vte_ml\\\\data_for_chunlei'"
   ]
  },
  {
   "cell_type": "code",
   "execution_count": 3,
   "id": "c369114c-f7ae-4076-9c07-8e5b89df1e34",
   "metadata": {
    "tags": []
   },
   "outputs": [],
   "source": [
    "test_path = os.path.join(VTE_path, 'A2_CMP\\\\train\\\\train.json')\n",
    "X = json.load(open(os.path.join(test_path), 'r'))\n"
   ]
  },
  {
   "cell_type": "code",
   "execution_count": 19,
   "id": "b01139cb-0914-468b-8c4c-11abc58aad96",
   "metadata": {
    "tags": []
   },
   "outputs": [
    {
     "name": "stderr",
     "output_type": "stream",
     "text": [
      "C:\\Users\\VHANYNHeT\\AppData\\Local\\Temp\\2\\ipykernel_71704\\1629420586.py:6: SettingWithCopyWarning: \n",
      "A value is trying to be set on a copy of a slice from a DataFrame.\n",
      "Try using .loc[row_indexer,col_indexer] = value instead\n",
      "\n",
      "See the caveats in the documentation: https://pandas.pydata.org/pandas-docs/stable/user_guide/indexing.html#returning-a-view-versus-a-copy\n",
      "  m_VE0[\"outcome\"] = m_VE0[\"outcome\"].replace(True, False)\n",
      "C:\\Users\\VHANYNHeT\\AppData\\Local\\Temp\\2\\ipykernel_71704\\1629420586.py:11: SettingWithCopyWarning: \n",
      "A value is trying to be set on a copy of a slice from a DataFrame.\n",
      "Try using .loc[row_indexer,col_indexer] = value instead\n",
      "\n",
      "See the caveats in the documentation: https://pandas.pydata.org/pandas-docs/stable/user_guide/indexing.html#returning-a-view-versus-a-copy\n",
      "  m_VE0['model_date'] = pd.to_datetime(m_VE0['index_date']) + datetime.timedelta(730)\n",
      "C:\\Users\\VHANYNHeT\\AppData\\Local\\Temp\\2\\ipykernel_71704\\1629420586.py:12: SettingWithCopyWarning: \n",
      "A value is trying to be set on a copy of a slice from a DataFrame.\n",
      "Try using .loc[row_indexer,col_indexer] = value instead\n",
      "\n",
      "See the caveats in the documentation: https://pandas.pydata.org/pandas-docs/stable/user_guide/indexing.html#returning-a-view-versus-a-copy\n",
      "  m_VE0['PatICN'] =  m_VE0.patient_id.astype(str)\n"
     ]
    }
   ],
   "source": [
    "m = testDF[[\"patient_id\", \"index_date\",\"diag_date\", \"obs_time_end\",  \"outcome\",\"outcome_date\" ]]\n",
    "\n",
    "m_VE = m[ m['outcome'] ]\n",
    "m_VE1 = m_VE [   (pd.to_datetime( m_VE[\"outcome_date\"] ) -pd.to_datetime( m_VE[\"index_date\"] )) < datetime.timedelta(730)]\n",
    "m_VE0 = m_VE [   (pd.to_datetime( m_VE[\"outcome_date\"] ) -pd.to_datetime( m_VE[\"index_date\"] )) >= datetime.timedelta(730)]\n",
    "m_VE0[\"outcome\"] = m_VE0[\"outcome\"].replace(True, False)  \n",
    "m0= m[ ~ m['outcome'] ]\n",
    "m1 = pd.concat([m_VE1, m_VE0, m0])\n",
    "m1['PatICN'] =  m1.patient_id.astype(str)\n",
    "\n",
    "m_VE0['model_date'] = pd.to_datetime(m_VE0['index_date']) + datetime.timedelta(730)\n",
    "m_VE0['PatICN'] =  m_VE0.patient_id.astype(str)"
   ]
  },
  {
   "cell_type": "code",
   "execution_count": 21,
   "id": "92df8444-3cc1-463f-9f91-2abc7fb65a7c",
   "metadata": {
    "tags": []
   },
   "outputs": [
    {
     "data": {
      "text/plain": [
       "74188"
      ]
     },
     "execution_count": 21,
     "metadata": {},
     "output_type": "execute_result"
    }
   ],
   "source": [
    "len( X.keys())"
   ]
  },
  {
   "cell_type": "code",
   "execution_count": 22,
   "id": "efbab69f-ce01-46f0-97f5-cf787afd82c1",
   "metadata": {
    "tags": []
   },
   "outputs": [],
   "source": [
    "Y = X"
   ]
  },
  {
   "cell_type": "code",
   "execution_count": 23,
   "id": "45c519d5-6481-4717-8330-6991a78d6097",
   "metadata": {
    "tags": []
   },
   "outputs": [],
   "source": [
    "\n",
    "for p in Y.keys():\n",
    "    \n",
    "    Y[p]['dxdate'] =  m1 [ m1 ['PatICN']==p ]['diag_date'].values[0]\n",
    "\n",
    "    if sum( p  ==  m_VE0.PatICN ) ==1 :\n",
    "        m_p = m_VE0[  p  ==  m_VE0.PatICN ] \n",
    "        Yp = Y[p]['events']\n",
    "\n",
    "        m_date = m_p['model_date'].astype('datetime64[ns]')\n",
    "        Yp_f = filter(lambda x: parse_date(x['admdate']) < m_date.ravel()[0] , Yp)\n",
    "        Yp_new = list( Yp_f)\n",
    "        Y[p]['events']  = Yp_new \n",
    "    \n",
    "    "
   ]
  },
  {
   "cell_type": "code",
   "execution_count": null,
   "id": "e9ea8b23-6463-4719-a0c6-a769cbf0d349",
   "metadata": {},
   "outputs": [],
   "source": []
  },
  {
   "cell_type": "code",
   "execution_count": null,
   "id": "70ab11a4-ac25-493f-b760-3fcd6ef62350",
   "metadata": {},
   "outputs": [],
   "source": []
  },
  {
   "cell_type": "code",
   "execution_count": 24,
   "id": "bdc3cac0-24e2-467a-b6df-804013cfff3f",
   "metadata": {
    "tags": []
   },
   "outputs": [],
   "source": [
    "os.mkdir(os.path.join(VTE_path, 'A2_CMP\\\\train2'))"
   ]
  },
  {
   "cell_type": "code",
   "execution_count": 25,
   "id": "38021f62-ebf3-439c-8570-99a4efa1ef6a",
   "metadata": {},
   "outputs": [],
   "source": [
    "adjtrain = os.path.join(VTE_path, 'A2_CMP\\\\train2\\\\train.json')\n"
   ]
  },
  {
   "cell_type": "code",
   "execution_count": 26,
   "id": "cf5598e0-b772-41c6-a614-c3fa4f2f376d",
   "metadata": {},
   "outputs": [
    {
     "name": "stdout",
     "output_type": "stream",
     "text": [
      "Saving to Y:\\Fillmore_Cancer\\cat\\Users\\data\\derived\\vte_ml\\vte_ml\\data_for_chunlei\\A2_CMP\\train2\\train.json\n",
      "\n"
     ]
    }
   ],
   "source": [
    "with open(adjtrain, 'w') as fwd:\n",
    "    print(\"Saving to {}\\n\".format(adjtrain))\n",
    "    json.dump(Y, fwd, indent=None)"
   ]
  },
  {
   "cell_type": "code",
   "execution_count": null,
   "id": "59cd3597-9657-4555-bf9c-3da459f8d914",
   "metadata": {},
   "outputs": [],
   "source": []
  }
 ],
 "metadata": {
  "kernelspec": {
   "display_name": "Python 3 (ipykernel)",
   "language": "python",
   "name": "python3"
  },
  "language_info": {
   "codemirror_mode": {
    "name": "ipython",
    "version": 3
   },
   "file_extension": ".py",
   "mimetype": "text/x-python",
   "name": "python",
   "nbconvert_exporter": "python",
   "pygments_lexer": "ipython3",
   "version": "3.11.5"
  }
 },
 "nbformat": 4,
 "nbformat_minor": 5
}
