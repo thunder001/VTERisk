{
 "cells": [
  {
   "cell_type": "code",
   "execution_count": 1,
   "id": "f1316d61-217f-47ff-976e-e9760b7b8363",
   "metadata": {
    "tags": []
   },
   "outputs": [],
   "source": [
    "import json\n",
    "import os\n",
    "import time\n",
    "from datetime import datetime\n",
    "\n",
    "from os.path import dirname, realpath\n",
    "import sys\n",
    "sys.path.append(dirname(dirname(realpath(os.getcwd()))))\n",
    "import pickle\n",
    "import torch\n",
    "import multiprocessing as mp\n",
    "from torch.nn.parallel import DistributedDataParallel as DDP\n",
    "from collections import Counter\n",
    "from copy import deepcopy\n",
    "import datetime\n",
    "import tqdm\n",
    "import numpy as np\n",
    "import random\n",
    "import pandas as pd\n",
    "src_path2 = \"G:\\\\FillmoreCancerData\\\\markhe\\\\VTERisk - Copy\" \n",
    "\n",
    "from collections import Counter\n",
    "sys.path.append(\"./src/\")\n",
    "\n",
    "testDF = pd.read_csv(os.path.join(src_path2, 'Notebooks/Find/fixed_dx.csv'))\n",
    "from sklearn.metrics import confusion_matrix\n",
    "\n",
    "import datetime\n",
    "\n",
    "def parse_date(date_str):\n",
    "    if date_str == 'NA' or date_str is None:\n",
    "        return datetime.datetime(9999,1,1,0,0)\n",
    "    else:\n",
    "        if len(date_str) == 10:\n",
    "            format_str = '%Y-%m-%d'\n",
    "        else:\n",
    "            raise Exception(\"Format for {} not recognized!\".format(date_str))\n",
    "    return datetime.datetime.strptime(date_str, format_str)\n"
   ]
  },
  {
   "cell_type": "code",
   "execution_count": 2,
   "id": "dbf3d55e-437a-40d4-8c41-669b74b3bbe7",
   "metadata": {
    "tags": []
   },
   "outputs": [],
   "source": [
    "VTE_path = 'Y:\\\\Fillmore_Cancer\\\\cat\\\\Users\\\\data\\\\derived\\\\vte_ml\\\\vte_ml\\\\data_for_chunlei'"
   ]
  },
  {
   "cell_type": "code",
   "execution_count": null,
   "id": "b76e783e-94cd-4da5-ae0e-36921da1bc16",
   "metadata": {},
   "outputs": [],
   "source": [
    "VTE_Death_Dates_for_Jen"
   ]
  },
  {
   "cell_type": "code",
   "execution_count": 6,
   "id": "de563db8-3150-4c7c-b67d-da2dee6dd28f",
   "metadata": {
    "tags": []
   },
   "outputs": [],
   "source": [
    "Outcome = pd.read_csv(os.path.join(src_path2, 'Notebooks/Find/VTE_Death_Dates_for_Jen.csv'))\n"
   ]
  },
  {
   "cell_type": "code",
   "execution_count": 13,
   "id": "c369114c-f7ae-4076-9c07-8e5b89df1e34",
   "metadata": {
    "tags": []
   },
   "outputs": [],
   "source": [
    "test_path = os.path.join(VTE_path, 'A2_CMP\\\\train2\\\\train.json')\n",
    "X = json.load(open(os.path.join(test_path), 'r'))\n"
   ]
  },
  {
   "cell_type": "code",
   "execution_count": 8,
   "id": "dde57681-4a46-4488-a4a8-316a1b45959b",
   "metadata": {
    "tags": []
   },
   "outputs": [
    {
     "data": {
      "text/html": [
       "<div>\n",
       "<style scoped>\n",
       "    .dataframe tbody tr th:only-of-type {\n",
       "        vertical-align: middle;\n",
       "    }\n",
       "\n",
       "    .dataframe tbody tr th {\n",
       "        vertical-align: top;\n",
       "    }\n",
       "\n",
       "    .dataframe thead th {\n",
       "        text-align: right;\n",
       "    }\n",
       "</style>\n",
       "<table border=\"1\" class=\"dataframe\">\n",
       "  <thead>\n",
       "    <tr style=\"text-align: right;\">\n",
       "      <th></th>\n",
       "      <th>Unnamed: 0</th>\n",
       "      <th>X</th>\n",
       "      <th>patient_id</th>\n",
       "      <th>outcome</th>\n",
       "      <th>dob</th>\n",
       "      <th>outcome_date</th>\n",
       "      <th>obs_time_end</th>\n",
       "      <th>index_date</th>\n",
       "      <th>DeathDate</th>\n",
       "    </tr>\n",
       "  </thead>\n",
       "  <tbody>\n",
       "    <tr>\n",
       "      <th>0</th>\n",
       "      <td>1</td>\n",
       "      <td>0</td>\n",
       "      <td>1004880340</td>\n",
       "      <td>False</td>\n",
       "      <td>1921-09-04</td>\n",
       "      <td>2011-02-05</td>\n",
       "      <td>2011-02-05</td>\n",
       "      <td>2006-03-24</td>\n",
       "      <td>2011-02-05</td>\n",
       "    </tr>\n",
       "    <tr>\n",
       "      <th>1</th>\n",
       "      <td>2</td>\n",
       "      <td>1</td>\n",
       "      <td>1014382133</td>\n",
       "      <td>True</td>\n",
       "      <td>1948-03-12</td>\n",
       "      <td>2016-11-09</td>\n",
       "      <td>2018-12-13</td>\n",
       "      <td>2016-10-21</td>\n",
       "      <td>2018-12-13</td>\n",
       "    </tr>\n",
       "    <tr>\n",
       "      <th>2</th>\n",
       "      <td>3</td>\n",
       "      <td>2</td>\n",
       "      <td>1002850316</td>\n",
       "      <td>False</td>\n",
       "      <td>1925-08-08</td>\n",
       "      <td>2018-03-25</td>\n",
       "      <td>2018-03-25</td>\n",
       "      <td>2017-12-29</td>\n",
       "      <td>2018-03-25</td>\n",
       "    </tr>\n",
       "    <tr>\n",
       "      <th>3</th>\n",
       "      <td>4</td>\n",
       "      <td>3</td>\n",
       "      <td>1040528173</td>\n",
       "      <td>False</td>\n",
       "      <td>1944-12-21</td>\n",
       "      <td>2023-03-24</td>\n",
       "      <td>2023-03-24</td>\n",
       "      <td>2021-06-02</td>\n",
       "      <td>1000-01-01</td>\n",
       "    </tr>\n",
       "    <tr>\n",
       "      <th>4</th>\n",
       "      <td>5</td>\n",
       "      <td>4</td>\n",
       "      <td>1012154223</td>\n",
       "      <td>False</td>\n",
       "      <td>1913-08-10</td>\n",
       "      <td>2009-01-04</td>\n",
       "      <td>2009-01-04</td>\n",
       "      <td>2008-08-28</td>\n",
       "      <td>2009-01-04</td>\n",
       "    </tr>\n",
       "    <tr>\n",
       "      <th>...</th>\n",
       "      <td>...</td>\n",
       "      <td>...</td>\n",
       "      <td>...</td>\n",
       "      <td>...</td>\n",
       "      <td>...</td>\n",
       "      <td>...</td>\n",
       "      <td>...</td>\n",
       "      <td>...</td>\n",
       "      <td>...</td>\n",
       "    </tr>\n",
       "    <tr>\n",
       "      <th>123643</th>\n",
       "      <td>123644</td>\n",
       "      <td>123643</td>\n",
       "      <td>1007436652</td>\n",
       "      <td>False</td>\n",
       "      <td>1929-12-15</td>\n",
       "      <td>2007-12-02</td>\n",
       "      <td>2007-12-02</td>\n",
       "      <td>2007-08-09</td>\n",
       "      <td>2007-12-02</td>\n",
       "    </tr>\n",
       "    <tr>\n",
       "      <th>123644</th>\n",
       "      <td>123645</td>\n",
       "      <td>123644</td>\n",
       "      <td>1010685565</td>\n",
       "      <td>False</td>\n",
       "      <td>1941-03-19</td>\n",
       "      <td>2019-11-13</td>\n",
       "      <td>2019-11-13</td>\n",
       "      <td>2019-10-21</td>\n",
       "      <td>2019-11-13</td>\n",
       "    </tr>\n",
       "    <tr>\n",
       "      <th>123645</th>\n",
       "      <td>123646</td>\n",
       "      <td>123645</td>\n",
       "      <td>1003074961</td>\n",
       "      <td>False</td>\n",
       "      <td>1947-11-19</td>\n",
       "      <td>2010-06-24</td>\n",
       "      <td>2010-06-24</td>\n",
       "      <td>2009-08-18</td>\n",
       "      <td>1000-01-01</td>\n",
       "    </tr>\n",
       "    <tr>\n",
       "      <th>123646</th>\n",
       "      <td>123647</td>\n",
       "      <td>123646</td>\n",
       "      <td>1021189617</td>\n",
       "      <td>False</td>\n",
       "      <td>1947-03-07</td>\n",
       "      <td>2021-05-03</td>\n",
       "      <td>2021-05-03</td>\n",
       "      <td>2018-05-18</td>\n",
       "      <td>2021-05-03</td>\n",
       "    </tr>\n",
       "    <tr>\n",
       "      <th>123647</th>\n",
       "      <td>123648</td>\n",
       "      <td>123647</td>\n",
       "      <td>1013222575</td>\n",
       "      <td>False</td>\n",
       "      <td>1947-07-26</td>\n",
       "      <td>2012-11-22</td>\n",
       "      <td>2012-11-22</td>\n",
       "      <td>2012-09-19</td>\n",
       "      <td>2012-11-22</td>\n",
       "    </tr>\n",
       "  </tbody>\n",
       "</table>\n",
       "<p>123648 rows × 9 columns</p>\n",
       "</div>"
      ],
      "text/plain": [
       "        Unnamed: 0       X  patient_id  outcome         dob outcome_date  \\\n",
       "0                1       0  1004880340    False  1921-09-04   2011-02-05   \n",
       "1                2       1  1014382133     True  1948-03-12   2016-11-09   \n",
       "2                3       2  1002850316    False  1925-08-08   2018-03-25   \n",
       "3                4       3  1040528173    False  1944-12-21   2023-03-24   \n",
       "4                5       4  1012154223    False  1913-08-10   2009-01-04   \n",
       "...            ...     ...         ...      ...         ...          ...   \n",
       "123643      123644  123643  1007436652    False  1929-12-15   2007-12-02   \n",
       "123644      123645  123644  1010685565    False  1941-03-19   2019-11-13   \n",
       "123645      123646  123645  1003074961    False  1947-11-19   2010-06-24   \n",
       "123646      123647  123646  1021189617    False  1947-03-07   2021-05-03   \n",
       "123647      123648  123647  1013222575    False  1947-07-26   2012-11-22   \n",
       "\n",
       "       obs_time_end  index_date   DeathDate  \n",
       "0        2011-02-05  2006-03-24  2011-02-05  \n",
       "1        2018-12-13  2016-10-21  2018-12-13  \n",
       "2        2018-03-25  2017-12-29  2018-03-25  \n",
       "3        2023-03-24  2021-06-02  1000-01-01  \n",
       "4        2009-01-04  2008-08-28  2009-01-04  \n",
       "...             ...         ...         ...  \n",
       "123643   2007-12-02  2007-08-09  2007-12-02  \n",
       "123644   2019-11-13  2019-10-21  2019-11-13  \n",
       "123645   2010-06-24  2009-08-18  1000-01-01  \n",
       "123646   2021-05-03  2018-05-18  2021-05-03  \n",
       "123647   2012-11-22  2012-09-19  2012-11-22  \n",
       "\n",
       "[123648 rows x 9 columns]"
      ]
     },
     "execution_count": 8,
     "metadata": {},
     "output_type": "execute_result"
    }
   ],
   "source": [
    "Outcome"
   ]
  },
  {
   "cell_type": "code",
   "execution_count": null,
   "id": "e0d857ca-a606-4a24-ad58-d6461134081e",
   "metadata": {},
   "outputs": [],
   "source": []
  },
  {
   "cell_type": "code",
   "execution_count": 9,
   "id": "efbab69f-ce01-46f0-97f5-cf787afd82c1",
   "metadata": {
    "tags": []
   },
   "outputs": [],
   "source": [
    "Y = X"
   ]
  },
  {
   "cell_type": "code",
   "execution_count": 12,
   "id": "1730175d-92de-4693-951b-63694152982f",
   "metadata": {
    "tags": []
   },
   "outputs": [
    {
     "ename": "AttributeError",
     "evalue": "'int' object has no attribute 'keys'",
     "output_type": "error",
     "traceback": [
      "\u001b[1;31m---------------------------------------------------------------------------\u001b[0m",
      "\u001b[1;31mAttributeError\u001b[0m                            Traceback (most recent call last)",
      "Cell \u001b[1;32mIn[12], line 1\u001b[0m\n\u001b[1;32m----> 1\u001b[0m X\u001b[38;5;241m.\u001b[39mkeys()\n",
      "\u001b[1;31mAttributeError\u001b[0m: 'int' object has no attribute 'keys'"
     ]
    }
   ],
   "source": [
    "X.keys()"
   ]
  },
  {
   "cell_type": "code",
   "execution_count": 23,
   "id": "45c519d5-6481-4717-8330-6991a78d6097",
   "metadata": {
    "tags": []
   },
   "outputs": [],
   "source": [
    "\n",
    "for p in Y.keys():\n",
    "    \n",
    "    Y[p]['outcome_date'] =  m1 [ m1 ['PatICN']==p ]['diag_date'].values[0]\n",
    "\n",
    "    "
   ]
  },
  {
   "cell_type": "code",
   "execution_count": 24,
   "id": "bdc3cac0-24e2-467a-b6df-804013cfff3f",
   "metadata": {
    "tags": []
   },
   "outputs": [],
   "source": [
    "os.mkdir(os.path.join(VTE_path, 'A2_CMP\\\\train2'))"
   ]
  },
  {
   "cell_type": "code",
   "execution_count": 25,
   "id": "38021f62-ebf3-439c-8570-99a4efa1ef6a",
   "metadata": {},
   "outputs": [],
   "source": [
    "adjtrain = os.path.join(VTE_path, 'A2_CMP\\\\train2\\\\train.json')\n"
   ]
  },
  {
   "cell_type": "code",
   "execution_count": 26,
   "id": "cf5598e0-b772-41c6-a614-c3fa4f2f376d",
   "metadata": {},
   "outputs": [
    {
     "name": "stdout",
     "output_type": "stream",
     "text": [
      "Saving to Y:\\Fillmore_Cancer\\cat\\Users\\data\\derived\\vte_ml\\vte_ml\\data_for_chunlei\\A2_CMP\\train2\\train.json\n",
      "\n"
     ]
    }
   ],
   "source": [
    "with open(adjtrain, 'w') as fwd:\n",
    "    print(\"Saving to {}\\n\".format(adjtrain))\n",
    "    json.dump(Y, fwd, indent=None)"
   ]
  },
  {
   "cell_type": "code",
   "execution_count": 5,
   "id": "59cd3597-9657-4555-bf9c-3da459f8d914",
   "metadata": {},
   "outputs": [],
   "source": [
    "X= 0"
   ]
  },
  {
   "cell_type": "code",
   "execution_count": null,
   "id": "723e6df9-4b8f-40b6-bf6b-52f88203a4fb",
   "metadata": {},
   "outputs": [],
   "source": []
  }
 ],
 "metadata": {
  "kernelspec": {
   "display_name": "Python 3 (ipykernel)",
   "language": "python",
   "name": "python3"
  },
  "language_info": {
   "codemirror_mode": {
    "name": "ipython",
    "version": 3
   },
   "file_extension": ".py",
   "mimetype": "text/x-python",
   "name": "python",
   "nbconvert_exporter": "python",
   "pygments_lexer": "ipython3",
   "version": "3.11.5"
  }
 },
 "nbformat": 4,
 "nbformat_minor": 5
}
