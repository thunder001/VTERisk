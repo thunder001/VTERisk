{
 "cells": [
  {
   "cell_type": "code",
   "execution_count": 1,
   "id": "413af5b2-a53a-47e7-b13c-3a28f78e0f15",
   "metadata": {},
   "outputs": [],
   "source": [
    "import json\n",
    "import os\n",
    "import time\n",
    "from datetime import datetime\n",
    " \n",
    "from os.path import dirname, realpath\n",
    "import sys\n",
    "sys.path.append(dirname(dirname(realpath(os.getcwd()))))\n",
    "import pickle\n",
    "import torch\n",
    "import multiprocessing as mp\n",
    "from torch.nn.parallel import DistributedDataParallel as DDP\n",
    "from collections import Counter\n",
    "from copy import deepcopy\n",
    "import datetime\n",
    "import tqdm\n",
    "import numpy as np\n",
    "import random\n",
    "import pandas as pd\n",
    "\n",
    "from collections import Counter\n",
    "sys.path.append(\"./src/\")\n",
    "src_path2 = \"G:\\\\FillmoreCancerData\\\\markhe\\\\VTERisk - Copy\" \n",
    "\n",
    "def parse_date(date_str):\n",
    "    if date_str == 'NA' or date_str is None:\n",
    "        return datetime.datetime(9999,1,1,0,0)\n",
    "    else:\n",
    "        if len(date_str) == 10:\n",
    "            format_str = '%Y-%m-%d'\n",
    "        else:\n",
    "            raise Exception(\"Format for {} not recognized!\".format(date_str))\n",
    "    return datetime.datetime.strptime(date_str, format_str)"
   ]
  },
  {
   "cell_type": "code",
   "execution_count": 8,
   "id": "50ca5939-35a1-47fc-87a1-8ef4c3cb964f",
   "metadata": {
    "tags": []
   },
   "outputs": [
    {
     "data": {
      "text/plain": [
       "'G:\\\\FillmoreCancerData\\\\markhe\\\\VTERisk\\\\Notebooks\\\\Fix'"
      ]
     },
     "execution_count": 8,
     "metadata": {},
     "output_type": "execute_result"
    }
   ],
   "source": [
    "os.getcwd()\n"
   ]
  },
  {
   "cell_type": "code",
   "execution_count": 14,
   "id": "0f0dfcd1-d9ad-4861-bccc-c9cb7481c4a8",
   "metadata": {
    "tags": []
   },
   "outputs": [],
   "source": [
    "VTE_path = \"//vacrrdevmavdi01.vha.med.va.gov/MAVDEV1/Fillmore_Cancer/cat/Users/data_from_vinci/dvt_cancer_20230613/data_for_tf_model/\""
   ]
  },
  {
   "cell_type": "code",
   "execution_count": 15,
   "id": "bb11a6be-c94c-4bd5-9433-16f2a2c13190",
   "metadata": {},
   "outputs": [],
   "source": [
    "race_bmi = pd.read_csv(os.path.join(VTE_path, 'demo//demo80808.csv'))"
   ]
  },
  {
   "cell_type": "code",
   "execution_count": 16,
   "id": "edb4a5f3-8180-4bce-b7a4-8a81576eb8b3",
   "metadata": {
    "tags": []
   },
   "outputs": [],
   "source": [
    "race_bmi['PatientICN'] =  race_bmi.PatientICN.astype(str)\n"
   ]
  },
  {
   "cell_type": "code",
   "execution_count": null,
   "id": "0a58b750-2d41-4330-9a5f-f309e34d6e6f",
   "metadata": {},
   "outputs": [],
   "source": []
  },
  {
   "cell_type": "code",
   "execution_count": 19,
   "id": "da1fd240-d58d-4ccf-a7c9-1da67de0b715",
   "metadata": {
    "tags": []
   },
   "outputs": [
    {
     "data": {
      "text/html": [
       "<div>\n",
       "<style scoped>\n",
       "    .dataframe tbody tr th:only-of-type {\n",
       "        vertical-align: middle;\n",
       "    }\n",
       "\n",
       "    .dataframe tbody tr th {\n",
       "        vertical-align: top;\n",
       "    }\n",
       "\n",
       "    .dataframe thead th {\n",
       "        text-align: right;\n",
       "    }\n",
       "</style>\n",
       "<table border=\"1\" class=\"dataframe\">\n",
       "  <thead>\n",
       "    <tr style=\"text-align: right;\">\n",
       "      <th></th>\n",
       "      <th>Unnamed: 0</th>\n",
       "      <th>PatientICN</th>\n",
       "      <th>bmi</th>\n",
       "      <th>race</th>\n",
       "      <th>sex</th>\n",
       "    </tr>\n",
       "  </thead>\n",
       "  <tbody>\n",
       "    <tr>\n",
       "      <th>0</th>\n",
       "      <td>1</td>\n",
       "      <td>1000649503</td>\n",
       "      <td>1</td>\n",
       "      <td>7</td>\n",
       "      <td>1</td>\n",
       "    </tr>\n",
       "    <tr>\n",
       "      <th>1</th>\n",
       "      <td>2</td>\n",
       "      <td>1000649855</td>\n",
       "      <td>2</td>\n",
       "      <td>7</td>\n",
       "      <td>1</td>\n",
       "    </tr>\n",
       "    <tr>\n",
       "      <th>2</th>\n",
       "      <td>3</td>\n",
       "      <td>1000650827</td>\n",
       "      <td>2</td>\n",
       "      <td>7</td>\n",
       "      <td>1</td>\n",
       "    </tr>\n",
       "    <tr>\n",
       "      <th>3</th>\n",
       "      <td>4</td>\n",
       "      <td>1000651741</td>\n",
       "      <td>2</td>\n",
       "      <td>7</td>\n",
       "      <td>1</td>\n",
       "    </tr>\n",
       "    <tr>\n",
       "      <th>4</th>\n",
       "      <td>5</td>\n",
       "      <td>1000651975</td>\n",
       "      <td>1</td>\n",
       "      <td>7</td>\n",
       "      <td>1</td>\n",
       "    </tr>\n",
       "    <tr>\n",
       "      <th>...</th>\n",
       "      <td>...</td>\n",
       "      <td>...</td>\n",
       "      <td>...</td>\n",
       "      <td>...</td>\n",
       "      <td>...</td>\n",
       "    </tr>\n",
       "    <tr>\n",
       "      <th>80803</th>\n",
       "      <td>80804</td>\n",
       "      <td>1047167426</td>\n",
       "      <td>4</td>\n",
       "      <td>3</td>\n",
       "      <td>1</td>\n",
       "    </tr>\n",
       "    <tr>\n",
       "      <th>80804</th>\n",
       "      <td>80805</td>\n",
       "      <td>1047633526</td>\n",
       "      <td>3</td>\n",
       "      <td>7</td>\n",
       "      <td>1</td>\n",
       "    </tr>\n",
       "    <tr>\n",
       "      <th>80805</th>\n",
       "      <td>80806</td>\n",
       "      <td>1047676993</td>\n",
       "      <td>2</td>\n",
       "      <td>7</td>\n",
       "      <td>1</td>\n",
       "    </tr>\n",
       "    <tr>\n",
       "      <th>80806</th>\n",
       "      <td>80807</td>\n",
       "      <td>1048376793</td>\n",
       "      <td>3</td>\n",
       "      <td>3</td>\n",
       "      <td>2</td>\n",
       "    </tr>\n",
       "    <tr>\n",
       "      <th>80807</th>\n",
       "      <td>80808</td>\n",
       "      <td>1048513287</td>\n",
       "      <td>4</td>\n",
       "      <td>3</td>\n",
       "      <td>1</td>\n",
       "    </tr>\n",
       "  </tbody>\n",
       "</table>\n",
       "<p>80808 rows × 5 columns</p>\n",
       "</div>"
      ],
      "text/plain": [
       "       Unnamed: 0  PatientICN  bmi  race  sex\n",
       "0               1  1000649503    1     7    1\n",
       "1               2  1000649855    2     7    1\n",
       "2               3  1000650827    2     7    1\n",
       "3               4  1000651741    2     7    1\n",
       "4               5  1000651975    1     7    1\n",
       "...           ...         ...  ...   ...  ...\n",
       "80803       80804  1047167426    4     3    1\n",
       "80804       80805  1047633526    3     7    1\n",
       "80805       80806  1047676993    2     7    1\n",
       "80806       80807  1048376793    3     3    2\n",
       "80807       80808  1048513287    4     3    1\n",
       "\n",
       "[80808 rows x 5 columns]"
      ]
     },
     "execution_count": 19,
     "metadata": {},
     "output_type": "execute_result"
    }
   ],
   "source": [
    "race_bmi"
   ]
  },
  {
   "cell_type": "code",
   "execution_count": null,
   "id": "d252e411-e839-4362-8b91-2e2b40010454",
   "metadata": {},
   "outputs": [],
   "source": []
  },
  {
   "cell_type": "code",
   "execution_count": null,
   "id": "61f2cd92-55af-4a19-87cc-156d047bcce2",
   "metadata": {},
   "outputs": [],
   "source": []
  },
  {
   "cell_type": "code",
   "execution_count": null,
   "id": "48a53742-75ef-444a-9cd1-ba8998469830",
   "metadata": {},
   "outputs": [],
   "source": [
    "ks = patient_metadata[patient_id]['ks_mod_score']\n",
    "sex = patient_metadata[patient_id]['gender']\n",
    "bmi = patient_metadata[patient_id]['BMI']\n",
    "race = patient_metadata[patient_id]['Race']"
   ]
  },
  {
   "cell_type": "code",
   "execution_count": null,
   "id": "7bdfd123-ae76-4ea0-9cb0-1312b0d77f09",
   "metadata": {},
   "outputs": [],
   "source": []
  },
  {
   "cell_type": "code",
   "execution_count": 23,
   "id": "a3f64673-e155-4b52-9923-96ad796fabbd",
   "metadata": {},
   "outputs": [
    {
     "name": "stdout",
     "output_type": "stream",
     "text": [
      "Saving to //vacrrdevmavdi01.vha.med.va.gov/MAVDEV1/Fillmore_Cancer/cat/Users/data_from_vinci/dvt_cancer_20230613/data_for_tf_model/processed\\Phe_Lab\\train\\train.json\n",
      "\n"
     ]
    }
   ],
   "source": [
    "train_path = os.path.join(VTE_path, 'processed\\\\Phe_Lab\\\\train\\\\train.json')\n",
    "Y = json.load(open(os.path.join(train_path), 'r'))\n",
    "\n",
    "for p in Y.keys():\n",
    "    Y[p]['Race'] = int(race_bmi [ race_bmi ['PatientICN']==p ]['race'].values[0]) \n",
    "    Y[p]['BMI'] = int(race_bmi [ race_bmi ['PatientICN']==p ]['bmi'].values[0]) \n",
    "    Y[p]['gender'] = int(race_bmi [ race_bmi ['PatientICN']==p ]['sex'].values[0]) \n",
    "\n",
    "with open(train_path, 'w') as fwd:\n",
    "    print(\"Saving to {}\\n\".format(train_path))\n",
    "    json.dump(Y, fwd, indent=None)"
   ]
  },
  {
   "cell_type": "code",
   "execution_count": null,
   "id": "a68c6e61-1c5c-42bb-bbd9-80c222bbedbf",
   "metadata": {},
   "outputs": [],
   "source": []
  },
  {
   "cell_type": "code",
   "execution_count": null,
   "id": "967a3132-fa13-48f0-acbd-65263f77c2f8",
   "metadata": {},
   "outputs": [],
   "source": []
  },
  {
   "cell_type": "code",
   "execution_count": 21,
   "id": "aff20948-0c59-4f4c-a231-a3e4d69c8df5",
   "metadata": {},
   "outputs": [
    {
     "name": "stdout",
     "output_type": "stream",
     "text": [
      "Saving to //vacrrdevmavdi01.vha.med.va.gov/MAVDEV1/Fillmore_Cancer/cat/Users/data_from_vinci/dvt_cancer_20230613/data_for_tf_model/processed\\Phe_Lab\\dev\\dev.json\n",
      "\n"
     ]
    }
   ],
   "source": [
    "dev_path = os.path.join(VTE_path, 'processed\\\\Phe_Lab\\\\dev\\\\dev.json')\n",
    "Y = json.load(open(os.path.join(dev_path), 'r'))\n",
    "\n",
    "for p in Y.keys():\n",
    "    Y[p]['Race'] = int(race_bmi [ race_bmi ['PatientICN']==p ]['race'].values[0]) \n",
    "    Y[p]['BMI'] = int(race_bmi [ race_bmi ['PatientICN']==p ]['bmi'].values[0]) \n",
    "    Y[p]['gender'] = int(race_bmi [ race_bmi ['PatientICN']==p ]['sex'].values[0]) \n",
    "\n",
    "with open(dev_path, 'w') as fwd:\n",
    "    print(\"Saving to {}\\n\".format(dev_path))\n",
    "    json.dump(Y, fwd, indent=None)"
   ]
  },
  {
   "cell_type": "code",
   "execution_count": null,
   "id": "7b8bd557-cae2-4bdb-bf2d-36b03e8b0008",
   "metadata": {},
   "outputs": [],
   "source": []
  },
  {
   "cell_type": "code",
   "execution_count": 22,
   "id": "7ce664ed-9b71-426f-b840-a6a9aed72658",
   "metadata": {
    "tags": []
   },
   "outputs": [
    {
     "name": "stdout",
     "output_type": "stream",
     "text": [
      "Saving to //vacrrdevmavdi01.vha.med.va.gov/MAVDEV1/Fillmore_Cancer/cat/Users/data_from_vinci/dvt_cancer_20230613/data_for_tf_model/processed\\Phe_Lab\\test\\test.json\n",
      "\n"
     ]
    }
   ],
   "source": [
    "test_path = os.path.join(VTE_path, 'processed\\\\Phe_Lab\\\\test\\\\test.json')\n",
    "Y = json.load(open(os.path.join(test_path), 'r'))\n",
    "\n",
    "for p in Y.keys():\n",
    "    Y[p]['Race'] = int(race_bmi [ race_bmi ['PatientICN']==p ]['race'].values[0]) \n",
    "    Y[p]['BMI'] = int(race_bmi [ race_bmi ['PatientICN']==p ]['bmi'].values[0]) \n",
    "    Y[p]['gender'] = int(race_bmi [ race_bmi ['PatientICN']==p ]['sex'].values[0]) \n",
    "\n",
    "with open(test_path, 'w') as fwd:\n",
    "    print(\"Saving to {}\\n\".format(test_path))\n",
    "    json.dump(Y, fwd, indent=None)"
   ]
  },
  {
   "cell_type": "code",
   "execution_count": null,
   "id": "4f434435-b1bc-468a-800e-93d0824d2679",
   "metadata": {},
   "outputs": [],
   "source": []
  }
 ],
 "metadata": {
  "kernelspec": {
   "display_name": "Python 3 (ipykernel)",
   "language": "python",
   "name": "python3"
  },
  "language_info": {
   "codemirror_mode": {
    "name": "ipython",
    "version": 3
   },
   "file_extension": ".py",
   "mimetype": "text/x-python",
   "name": "python",
   "nbconvert_exporter": "python",
   "pygments_lexer": "ipython3",
   "version": "3.11.5"
  }
 },
 "nbformat": 4,
 "nbformat_minor": 5
}
