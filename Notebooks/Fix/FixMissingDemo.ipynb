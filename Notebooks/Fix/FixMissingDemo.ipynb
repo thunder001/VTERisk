{
 "cells": [
  {
   "cell_type": "code",
   "execution_count": null,
   "id": "93cb4aaa",
   "metadata": {},
   "outputs": [],
   "source": [
    "import json\n",
    "import os\n",
    "import time\n",
    "from datetime import datetime\n",
    " \n",
    "from os.path import dirname, realpath\n",
    "import sys\n",
    "sys.path.append(dirname(dirname(realpath(os.getcwd()))))\n",
    "import pickle\n",
    "import torch\n",
    "import multiprocessing as mp\n",
    "from torch.nn.parallel import DistributedDataParallel as DDP\n",
    "from collections import Counter\n",
    "from copy import deepcopy\n",
    "import datetime\n",
    "import tqdm\n",
    "import numpy as np\n",
    "import random\n",
    "import pandas as pd\n",
    "\n",
    "from collections import Counter\n",
    "sys.path.append(\"./src/\")\n",
    "src_path2 = \"G:\\\\FillmoreCancerData\\\\markhe\\\\VTERisk - Copy\" \n",
    "\n",
    "def parse_date(date_str):\n",
    "    if date_str == 'NA' or date_str is None:\n",
    "        return datetime.datetime(9999,1,1,0,0)\n",
    "    else:\n",
    "        if len(date_str) == 10:\n",
    "            format_str = '%Y-%m-%d'\n",
    "        else:\n",
    "            raise Exception(\"Format for {} not recognized!\".format(date_str))\n",
    "    return datetime.datetime.strptime(date_str, format_str)"
   ]
  },
  {
   "cell_type": "code",
   "execution_count": null,
   "id": "631c9020",
   "metadata": {},
   "outputs": [],
   "source": [
    "\n",
    "VTE_path = \"//vacrrdevmavdi01.vha.med.va.gov/MAVDEV1/Fillmore_Cancer/cat/Users/data_from_vinci/dvt_cancer_20230613/data_for_tf_model/\"\n",
    "race_bmi = pd.read_csv(os.path.join(VTE_path, 'demo//demo80808.csv'))\n",
    "race_bmi['PatientICN'] =  race_bmi.PatientICN.astype(str)\n",
    "\n",
    "race_bmi['bmi'] = race_bmi['bmi']-1\n",
    "race_bmi['race'] = race_bmi['race']-1\n",
    "race_bmi['sex'] = race_bmi['sex']-1"
   ]
  },
  {
   "cell_type": "code",
   "execution_count": null,
   "id": "585a641e",
   "metadata": {},
   "outputs": [],
   "source": []
  },
  {
   "cell_type": "code",
   "execution_count": 23,
   "id": "a3f64673-e155-4b52-9923-96ad796fabbd",
   "metadata": {},
   "outputs": [
    {
     "name": "stdout",
     "output_type": "stream",
     "text": [
      "Saving to //vacrrdevmavdi01.vha.med.va.gov/MAVDEV1/Fillmore_Cancer/cat/Users/data_from_vinci/dvt_cancer_20230613/data_for_tf_model/processed\\Phe_Lab\\train\\train.json\n",
      "\n"
     ]
    }
   ],
   "source": [
    "train_path = os.path.join(VTE_path, 'processed\\\\Phe_Lab\\\\train\\\\train.json')\n",
    "Y = json.load(open(os.path.join(train_path), 'r'))\n",
    "\n",
    "for p in Y.keys():\n",
    "    Y[p]['Race'] = int(race_bmi [ race_bmi ['PatientICN']==p ]['race'].values[0]) \n",
    "    Y[p]['BMI'] = int(race_bmi [ race_bmi ['PatientICN']==p ]['bmi'].values[0]) \n",
    "    Y[p]['gender'] = int(race_bmi [ race_bmi ['PatientICN']==p ]['sex'].values[0]) \n",
    "\n",
    "with open(train_path, 'w') as fwd:\n",
    "    print(\"Saving to {}\\n\".format(train_path))\n",
    "    json.dump(Y, fwd, indent=None)"
   ]
  },
  {
   "cell_type": "code",
   "execution_count": null,
   "id": "967a3132-fa13-48f0-acbd-65263f77c2f8",
   "metadata": {},
   "outputs": [],
   "source": []
  },
  {
   "cell_type": "code",
   "execution_count": 21,
   "id": "aff20948-0c59-4f4c-a231-a3e4d69c8df5",
   "metadata": {},
   "outputs": [
    {
     "name": "stdout",
     "output_type": "stream",
     "text": [
      "Saving to //vacrrdevmavdi01.vha.med.va.gov/MAVDEV1/Fillmore_Cancer/cat/Users/data_from_vinci/dvt_cancer_20230613/data_for_tf_model/processed\\Phe_Lab\\dev\\dev.json\n",
      "\n"
     ]
    }
   ],
   "source": [
    "dev_path = os.path.join(VTE_path, 'processed\\\\Phe_Lab\\\\dev\\\\dev.json')\n",
    "Y = json.load(open(os.path.join(dev_path), 'r'))\n",
    "\n",
    "for p in Y.keys():\n",
    "    Y[p]['Race'] = int(race_bmi [ race_bmi ['PatientICN']==p ]['race'].values[0]) \n",
    "    Y[p]['BMI'] = int(race_bmi [ race_bmi ['PatientICN']==p ]['bmi'].values[0]) \n",
    "    Y[p]['gender'] = int(race_bmi [ race_bmi ['PatientICN']==p ]['sex'].values[0]) \n",
    "\n",
    "with open(dev_path, 'w') as fwd:\n",
    "    print(\"Saving to {}\\n\".format(dev_path))\n",
    "    json.dump(Y, fwd, indent=None)"
   ]
  },
  {
   "cell_type": "code",
   "execution_count": null,
   "id": "7b8bd557-cae2-4bdb-bf2d-36b03e8b0008",
   "metadata": {},
   "outputs": [],
   "source": []
  },
  {
   "cell_type": "code",
   "execution_count": 22,
   "id": "7ce664ed-9b71-426f-b840-a6a9aed72658",
   "metadata": {
    "tags": []
   },
   "outputs": [
    {
     "name": "stdout",
     "output_type": "stream",
     "text": [
      "Saving to //vacrrdevmavdi01.vha.med.va.gov/MAVDEV1/Fillmore_Cancer/cat/Users/data_from_vinci/dvt_cancer_20230613/data_for_tf_model/processed\\Phe_Lab\\test\\test.json\n",
      "\n"
     ]
    }
   ],
   "source": [
    "test_path = os.path.join(VTE_path, 'processed\\\\Phe_Lab\\\\test\\\\test.json')\n",
    "Y = json.load(open(os.path.join(test_path), 'r'))\n",
    "\n",
    "for p in Y.keys():\n",
    "    Y[p]['Race'] = int(race_bmi [ race_bmi ['PatientICN']==p ]['race'].values[0]) \n",
    "    Y[p]['BMI'] = int(race_bmi [ race_bmi ['PatientICN']==p ]['bmi'].values[0]) \n",
    "    Y[p]['gender'] = int(race_bmi [ race_bmi ['PatientICN']==p ]['sex'].values[0]) \n",
    "\n",
    "with open(test_path, 'w') as fwd:\n",
    "    print(\"Saving to {}\\n\".format(test_path))\n",
    "    json.dump(Y, fwd, indent=None)"
   ]
  },
  {
   "cell_type": "code",
   "execution_count": null,
   "id": "4f434435-b1bc-468a-800e-93d0824d2679",
   "metadata": {},
   "outputs": [],
   "source": []
  }
 ],
 "metadata": {
  "kernelspec": {
   "display_name": "Python 3 (ipykernel)",
   "language": "python",
   "name": "python3"
  },
  "language_info": {
   "codemirror_mode": {
    "name": "ipython",
    "version": 3
   },
   "file_extension": ".py",
   "mimetype": "text/x-python",
   "name": "python",
   "nbconvert_exporter": "python",
   "pygments_lexer": "ipython3",
   "version": "3.11.5"
  }
 },
 "nbformat": 4,
 "nbformat_minor": 5
}
