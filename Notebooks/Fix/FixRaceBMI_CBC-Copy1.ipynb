{
 "cells": [
  {
   "cell_type": "code",
   "execution_count": 3,
   "id": "59af6093-3a8c-4fb0-9e95-eca1587dce15",
   "metadata": {},
   "outputs": [],
   "source": [
    "import json\n",
    "import os\n",
    "import time\n",
    "\n",
    "from datetime import datetime\n",
    "\n",
    "os.getcwd()\n",
    " \n",
    "from os.path import dirname, realpath\n",
    "import sys\n",
    "sys.path.append(dirname(dirname(realpath(os.getcwd()))))\n",
    "import pickle\n",
    "import torch\n",
    "import multiprocessing as mp\n",
    "from torch.nn.parallel import DistributedDataParallel as DDP\n",
    "from collections import Counter\n",
    "from copy import deepcopy\n",
    "import datetime\n",
    "import tqdm\n",
    "import numpy as np\n",
    "import random\n",
    "import pandas as pd\n",
    "\n",
    "from collections import Counter\n",
    "sys.path.append(\"./src/\")\n",
    "\n",
    "src_path2 = \"G:\\\\FillmoreCancerData\\\\markhe\\\\VTERisk - Copy\" \n",
    "\n",
    "def parse_date(date_str):\n",
    "    if date_str == 'NA' or date_str is None:\n",
    "        return datetime.datetime(9999,1,1,0,0)\n",
    "    else:\n",
    "        if len(date_str) == 10:\n",
    "            format_str = '%Y-%m-%d'\n",
    "        else:\n",
    "            raise Exception(\"Format for {} not recognized!\".format(date_str))\n",
    "    return datetime.datetime.strptime(date_str, format_str)\n",
    "\n",
    "\n",
    "VTE_path = 'Y:\\\\Fillmore_Cancer\\\\cat\\\\Users\\\\data\\\\derived\\\\vte_ml\\\\vte_ml\\\\data_for_chunlei'"
   ]
  },
  {
   "cell_type": "code",
   "execution_count": 4,
   "id": "bb11a6be-c94c-4bd5-9433-16f2a2c13190",
   "metadata": {},
   "outputs": [],
   "source": [
    "race_bmi = pd.read_csv(os.path.join(VTE_path, 'samples/ad.csv'))"
   ]
  },
  {
   "cell_type": "code",
   "execution_count": 5,
   "id": "edb4a5f3-8180-4bce-b7a4-8a81576eb8b3",
   "metadata": {
    "tags": []
   },
   "outputs": [],
   "source": [
    "race_bmi['PatientICN'] =  race_bmi.PatientICN.astype(str)\n"
   ]
  },
  {
   "cell_type": "code",
   "execution_count": 6,
   "id": "a43dc101-0a15-44cb-abe9-1ed12a84e077",
   "metadata": {
    "tags": []
   },
   "outputs": [],
   "source": [
    "testDF = pd.read_csv(os.path.join(src_path2, 'Notebooks/Find/fixed_dx.csv'))\n",
    "m = testDF[[\"patient_id\", \"index_date\",\"diag_date\", \"obs_time_end\",  \"outcome\",\"outcome_date\" ]]"
   ]
  },
  {
   "cell_type": "code",
   "execution_count": null,
   "id": "266491da-842c-4036-887d-6b71aae24bfc",
   "metadata": {},
   "outputs": [],
   "source": []
  },
  {
   "cell_type": "code",
   "execution_count": 7,
   "id": "6dbe38f8-82a6-4c9d-b224-3ad89e9628cb",
   "metadata": {},
   "outputs": [],
   "source": [
    "dev_path = os.path.join(VTE_path, 'composite\\\\dev\\\\dev.json')\n",
    "Y = json.load(open(os.path.join(dev_path), 'r'))"
   ]
  },
  {
   "cell_type": "code",
   "execution_count": null,
   "id": "f65d5394-a6d1-4908-86e6-721ad2659e75",
   "metadata": {},
   "outputs": [],
   "source": []
  },
  {
   "cell_type": "code",
   "execution_count": null,
   "id": "868aa9ba-32cc-4ee4-a33d-40cb3b0f1da9",
   "metadata": {},
   "outputs": [],
   "source": []
  },
  {
   "cell_type": "code",
   "execution_count": 26,
   "id": "0d4b3dad-cf95-4103-a336-331438517a5e",
   "metadata": {},
   "outputs": [],
   "source": [
    "for p in Y.keys():\n",
    "    Y[p]['Race'] = int(race_bmi [ race_bmi ['PatientICN']==p ]['race'].values[0]) \n",
    "    Y[p]['BMI'] = int(race_bmi [ race_bmi ['PatientICN']==p ]['bmi'].values[0]) \n",
    "    if Y[p]['gender'] == \"M\":\n",
    "        Y[p]['gender'] = 1\n",
    "    if Y[p]['gender'] == \"F\":\n",
    "        Y[p]['gender'] = 0\n",
    "    Y[p]['dxdate'] =  m1 [ m1 ['PatICN']==p ]['diag_date'].values[0]\n"
   ]
  },
  {
   "cell_type": "code",
   "execution_count": 27,
   "id": "ff284e40-0db9-4bf3-963f-de9350503039",
   "metadata": {},
   "outputs": [
    {
     "name": "stdout",
     "output_type": "stream",
     "text": [
      "Saving to Y:\\Fillmore_Cancer\\cat\\Users\\data\\derived\\vte_ml\\vte_ml\\data_for_chunlei\\composite\\dev\\dev.json\n",
      "\n"
     ]
    }
   ],
   "source": [
    "with open(dev_path, 'w') as fwd:\n",
    "    print(\"Saving to {}\\n\".format(dev_path))\n",
    "    json.dump(Y, fwd, indent=None)"
   ]
  },
  {
   "cell_type": "code",
   "execution_count": 29,
   "id": "e7965da2-2b1b-48ce-8eab-bf6964830386",
   "metadata": {
    "tags": []
   },
   "outputs": [],
   "source": [
    "Y = 0"
   ]
  },
  {
   "cell_type": "code",
   "execution_count": 6,
   "id": "84530e08-6e4f-49ed-bcbc-cbf858f57cfc",
   "metadata": {
    "tags": []
   },
   "outputs": [
    {
     "ename": "NameError",
     "evalue": "name 'Y' is not defined",
     "output_type": "error",
     "traceback": [
      "\u001b[1;31m---------------------------------------------------------------------------\u001b[0m",
      "\u001b[1;31mNameError\u001b[0m                                 Traceback (most recent call last)",
      "Cell \u001b[1;32mIn[6], line 1\u001b[0m\n\u001b[1;32m----> 1\u001b[0m Y\n",
      "\u001b[1;31mNameError\u001b[0m: name 'Y' is not defined"
     ]
    }
   ],
   "source": [
    "Y"
   ]
  },
  {
   "cell_type": "code",
   "execution_count": 7,
   "id": "cdc3c134-33df-405c-b287-5c56392e5e81",
   "metadata": {},
   "outputs": [
    {
     "ename": "JSONDecodeError",
     "evalue": "Expecting property name enclosed in double quotes: line 1 column 934547344 (char 934547343)",
     "output_type": "error",
     "traceback": [
      "\u001b[1;31m---------------------------------------------------------------------------\u001b[0m",
      "\u001b[1;31mJSONDecodeError\u001b[0m                           Traceback (most recent call last)",
      "Cell \u001b[1;32mIn[7], line 2\u001b[0m\n\u001b[0;32m      1\u001b[0m test_path \u001b[38;5;241m=\u001b[39m os\u001b[38;5;241m.\u001b[39mpath\u001b[38;5;241m.\u001b[39mjoin(VTE_path, \u001b[38;5;124m'\u001b[39m\u001b[38;5;124mcomposite\u001b[39m\u001b[38;5;130;01m\\\\\u001b[39;00m\u001b[38;5;124mtest\u001b[39m\u001b[38;5;130;01m\\\\\u001b[39;00m\u001b[38;5;124mtest.json\u001b[39m\u001b[38;5;124m'\u001b[39m)\n\u001b[1;32m----> 2\u001b[0m Y \u001b[38;5;241m=\u001b[39m json\u001b[38;5;241m.\u001b[39mload(\u001b[38;5;28mopen\u001b[39m(os\u001b[38;5;241m.\u001b[39mpath\u001b[38;5;241m.\u001b[39mjoin(test_path), \u001b[38;5;124m'\u001b[39m\u001b[38;5;124mr\u001b[39m\u001b[38;5;124m'\u001b[39m))\n\u001b[0;32m      4\u001b[0m \u001b[38;5;28;01mfor\u001b[39;00m p \u001b[38;5;129;01min\u001b[39;00m Y\u001b[38;5;241m.\u001b[39mkeys():\n\u001b[0;32m      5\u001b[0m     Y[p][\u001b[38;5;124m'\u001b[39m\u001b[38;5;124mRace\u001b[39m\u001b[38;5;124m'\u001b[39m] \u001b[38;5;241m=\u001b[39m \u001b[38;5;28mint\u001b[39m(race_bmi [ race_bmi [\u001b[38;5;124m'\u001b[39m\u001b[38;5;124mPatientICN\u001b[39m\u001b[38;5;124m'\u001b[39m]\u001b[38;5;241m==\u001b[39mp ][\u001b[38;5;124m'\u001b[39m\u001b[38;5;124mrace\u001b[39m\u001b[38;5;124m'\u001b[39m]\u001b[38;5;241m.\u001b[39mvalues[\u001b[38;5;241m0\u001b[39m]) \n",
      "File \u001b[1;32mD:\\Programs\\Anaconda3\\Lib\\json\\__init__.py:293\u001b[0m, in \u001b[0;36mload\u001b[1;34m(fp, cls, object_hook, parse_float, parse_int, parse_constant, object_pairs_hook, **kw)\u001b[0m\n\u001b[0;32m    274\u001b[0m \u001b[38;5;28;01mdef\u001b[39;00m \u001b[38;5;21mload\u001b[39m(fp, \u001b[38;5;241m*\u001b[39m, \u001b[38;5;28mcls\u001b[39m\u001b[38;5;241m=\u001b[39m\u001b[38;5;28;01mNone\u001b[39;00m, object_hook\u001b[38;5;241m=\u001b[39m\u001b[38;5;28;01mNone\u001b[39;00m, parse_float\u001b[38;5;241m=\u001b[39m\u001b[38;5;28;01mNone\u001b[39;00m,\n\u001b[0;32m    275\u001b[0m         parse_int\u001b[38;5;241m=\u001b[39m\u001b[38;5;28;01mNone\u001b[39;00m, parse_constant\u001b[38;5;241m=\u001b[39m\u001b[38;5;28;01mNone\u001b[39;00m, object_pairs_hook\u001b[38;5;241m=\u001b[39m\u001b[38;5;28;01mNone\u001b[39;00m, \u001b[38;5;241m*\u001b[39m\u001b[38;5;241m*\u001b[39mkw):\n\u001b[0;32m    276\u001b[0m \u001b[38;5;250m    \u001b[39m\u001b[38;5;124;03m\"\"\"Deserialize ``fp`` (a ``.read()``-supporting file-like object containing\u001b[39;00m\n\u001b[0;32m    277\u001b[0m \u001b[38;5;124;03m    a JSON document) to a Python object.\u001b[39;00m\n\u001b[0;32m    278\u001b[0m \n\u001b[1;32m   (...)\u001b[0m\n\u001b[0;32m    291\u001b[0m \u001b[38;5;124;03m    kwarg; otherwise ``JSONDecoder`` is used.\u001b[39;00m\n\u001b[0;32m    292\u001b[0m \u001b[38;5;124;03m    \"\"\"\u001b[39;00m\n\u001b[1;32m--> 293\u001b[0m     \u001b[38;5;28;01mreturn\u001b[39;00m loads(fp\u001b[38;5;241m.\u001b[39mread(),\n\u001b[0;32m    294\u001b[0m         \u001b[38;5;28mcls\u001b[39m\u001b[38;5;241m=\u001b[39m\u001b[38;5;28mcls\u001b[39m, object_hook\u001b[38;5;241m=\u001b[39mobject_hook,\n\u001b[0;32m    295\u001b[0m         parse_float\u001b[38;5;241m=\u001b[39mparse_float, parse_int\u001b[38;5;241m=\u001b[39mparse_int,\n\u001b[0;32m    296\u001b[0m         parse_constant\u001b[38;5;241m=\u001b[39mparse_constant, object_pairs_hook\u001b[38;5;241m=\u001b[39mobject_pairs_hook, \u001b[38;5;241m*\u001b[39m\u001b[38;5;241m*\u001b[39mkw)\n",
      "File \u001b[1;32mD:\\Programs\\Anaconda3\\Lib\\json\\__init__.py:346\u001b[0m, in \u001b[0;36mloads\u001b[1;34m(s, cls, object_hook, parse_float, parse_int, parse_constant, object_pairs_hook, **kw)\u001b[0m\n\u001b[0;32m    341\u001b[0m     s \u001b[38;5;241m=\u001b[39m s\u001b[38;5;241m.\u001b[39mdecode(detect_encoding(s), \u001b[38;5;124m'\u001b[39m\u001b[38;5;124msurrogatepass\u001b[39m\u001b[38;5;124m'\u001b[39m)\n\u001b[0;32m    343\u001b[0m \u001b[38;5;28;01mif\u001b[39;00m (\u001b[38;5;28mcls\u001b[39m \u001b[38;5;129;01mis\u001b[39;00m \u001b[38;5;28;01mNone\u001b[39;00m \u001b[38;5;129;01mand\u001b[39;00m object_hook \u001b[38;5;129;01mis\u001b[39;00m \u001b[38;5;28;01mNone\u001b[39;00m \u001b[38;5;129;01mand\u001b[39;00m\n\u001b[0;32m    344\u001b[0m         parse_int \u001b[38;5;129;01mis\u001b[39;00m \u001b[38;5;28;01mNone\u001b[39;00m \u001b[38;5;129;01mand\u001b[39;00m parse_float \u001b[38;5;129;01mis\u001b[39;00m \u001b[38;5;28;01mNone\u001b[39;00m \u001b[38;5;129;01mand\u001b[39;00m\n\u001b[0;32m    345\u001b[0m         parse_constant \u001b[38;5;129;01mis\u001b[39;00m \u001b[38;5;28;01mNone\u001b[39;00m \u001b[38;5;129;01mand\u001b[39;00m object_pairs_hook \u001b[38;5;129;01mis\u001b[39;00m \u001b[38;5;28;01mNone\u001b[39;00m \u001b[38;5;129;01mand\u001b[39;00m \u001b[38;5;129;01mnot\u001b[39;00m kw):\n\u001b[1;32m--> 346\u001b[0m     \u001b[38;5;28;01mreturn\u001b[39;00m _default_decoder\u001b[38;5;241m.\u001b[39mdecode(s)\n\u001b[0;32m    347\u001b[0m \u001b[38;5;28;01mif\u001b[39;00m \u001b[38;5;28mcls\u001b[39m \u001b[38;5;129;01mis\u001b[39;00m \u001b[38;5;28;01mNone\u001b[39;00m:\n\u001b[0;32m    348\u001b[0m     \u001b[38;5;28mcls\u001b[39m \u001b[38;5;241m=\u001b[39m JSONDecoder\n",
      "File \u001b[1;32mD:\\Programs\\Anaconda3\\Lib\\json\\decoder.py:337\u001b[0m, in \u001b[0;36mJSONDecoder.decode\u001b[1;34m(self, s, _w)\u001b[0m\n\u001b[0;32m    332\u001b[0m \u001b[38;5;28;01mdef\u001b[39;00m \u001b[38;5;21mdecode\u001b[39m(\u001b[38;5;28mself\u001b[39m, s, _w\u001b[38;5;241m=\u001b[39mWHITESPACE\u001b[38;5;241m.\u001b[39mmatch):\n\u001b[0;32m    333\u001b[0m \u001b[38;5;250m    \u001b[39m\u001b[38;5;124;03m\"\"\"Return the Python representation of ``s`` (a ``str`` instance\u001b[39;00m\n\u001b[0;32m    334\u001b[0m \u001b[38;5;124;03m    containing a JSON document).\u001b[39;00m\n\u001b[0;32m    335\u001b[0m \n\u001b[0;32m    336\u001b[0m \u001b[38;5;124;03m    \"\"\"\u001b[39;00m\n\u001b[1;32m--> 337\u001b[0m     obj, end \u001b[38;5;241m=\u001b[39m \u001b[38;5;28mself\u001b[39m\u001b[38;5;241m.\u001b[39mraw_decode(s, idx\u001b[38;5;241m=\u001b[39m_w(s, \u001b[38;5;241m0\u001b[39m)\u001b[38;5;241m.\u001b[39mend())\n\u001b[0;32m    338\u001b[0m     end \u001b[38;5;241m=\u001b[39m _w(s, end)\u001b[38;5;241m.\u001b[39mend()\n\u001b[0;32m    339\u001b[0m     \u001b[38;5;28;01mif\u001b[39;00m end \u001b[38;5;241m!=\u001b[39m \u001b[38;5;28mlen\u001b[39m(s):\n",
      "File \u001b[1;32mD:\\Programs\\Anaconda3\\Lib\\json\\decoder.py:353\u001b[0m, in \u001b[0;36mJSONDecoder.raw_decode\u001b[1;34m(self, s, idx)\u001b[0m\n\u001b[0;32m    344\u001b[0m \u001b[38;5;250m\u001b[39m\u001b[38;5;124;03m\"\"\"Decode a JSON document from ``s`` (a ``str`` beginning with\u001b[39;00m\n\u001b[0;32m    345\u001b[0m \u001b[38;5;124;03ma JSON document) and return a 2-tuple of the Python\u001b[39;00m\n\u001b[0;32m    346\u001b[0m \u001b[38;5;124;03mrepresentation and the index in ``s`` where the document ended.\u001b[39;00m\n\u001b[1;32m   (...)\u001b[0m\n\u001b[0;32m    350\u001b[0m \n\u001b[0;32m    351\u001b[0m \u001b[38;5;124;03m\"\"\"\u001b[39;00m\n\u001b[0;32m    352\u001b[0m \u001b[38;5;28;01mtry\u001b[39;00m:\n\u001b[1;32m--> 353\u001b[0m     obj, end \u001b[38;5;241m=\u001b[39m \u001b[38;5;28mself\u001b[39m\u001b[38;5;241m.\u001b[39mscan_once(s, idx)\n\u001b[0;32m    354\u001b[0m \u001b[38;5;28;01mexcept\u001b[39;00m \u001b[38;5;167;01mStopIteration\u001b[39;00m \u001b[38;5;28;01mas\u001b[39;00m err:\n\u001b[0;32m    355\u001b[0m     \u001b[38;5;28;01mraise\u001b[39;00m JSONDecodeError(\u001b[38;5;124m\"\u001b[39m\u001b[38;5;124mExpecting value\u001b[39m\u001b[38;5;124m\"\u001b[39m, s, err\u001b[38;5;241m.\u001b[39mvalue) \u001b[38;5;28;01mfrom\u001b[39;00m \u001b[38;5;28;01mNone\u001b[39;00m\n",
      "\u001b[1;31mJSONDecodeError\u001b[0m: Expecting property name enclosed in double quotes: line 1 column 934547344 (char 934547343)"
     ]
    }
   ],
   "source": [
    "test_path = os.path.join(VTE_path, 'composite\\\\test\\\\test.json')\n",
    "Y = json.load(open(os.path.join(test_path), 'r'))\n",
    "\n",
    "for p in Y.keys():\n",
    "    Y[p]['Race'] = int(race_bmi [ race_bmi ['PatientICN']==p ]['race'].values[0]) \n",
    "    Y[p]['BMI'] = int(race_bmi [ race_bmi ['PatientICN']==p ]['bmi'].values[0]) \n",
    "    if Y[p]['gender'] == \"M\":\n",
    "        Y[p]['gender'] = 1\n",
    "    if Y[p]['gender'] == \"F\":\n",
    "        Y[p]['gender'] = 0\n",
    "    Y[p]['dxdate'] =  m1 [ m1 ['PatICN']==p ]['diag_date'].values[0]\n",
    "\n",
    "with open(test_path, 'w') as fwd:\n",
    "    print(\"Saving to {}\\n\".format(test_path))\n",
    "    json.dump(Y, fwd, indent=None)"
   ]
  },
  {
   "cell_type": "code",
   "execution_count": null,
   "id": "05426374-b642-40c2-a232-c2dfd3aa12b1",
   "metadata": {},
   "outputs": [],
   "source": [
    "Y=0"
   ]
  },
  {
   "cell_type": "code",
   "execution_count": 1,
   "id": "7197ee78-2335-4dd2-a6c5-d21fd65a4f6c",
   "metadata": {},
   "outputs": [
    {
     "ename": "NameError",
     "evalue": "name 'os' is not defined",
     "output_type": "error",
     "traceback": [
      "\u001b[1;31m---------------------------------------------------------------------------\u001b[0m",
      "\u001b[1;31mNameError\u001b[0m                                 Traceback (most recent call last)",
      "Cell \u001b[1;32mIn[1], line 1\u001b[0m\n\u001b[1;32m----> 1\u001b[0m train_path \u001b[38;5;241m=\u001b[39m os\u001b[38;5;241m.\u001b[39mpath\u001b[38;5;241m.\u001b[39mjoin(VTE_path, \u001b[38;5;124m'\u001b[39m\u001b[38;5;124mcomposite\u001b[39m\u001b[38;5;130;01m\\\\\u001b[39;00m\u001b[38;5;124mtrain\u001b[39m\u001b[38;5;130;01m\\\\\u001b[39;00m\u001b[38;5;124mtrain.json\u001b[39m\u001b[38;5;124m'\u001b[39m)\n\u001b[0;32m      2\u001b[0m Y \u001b[38;5;241m=\u001b[39m json\u001b[38;5;241m.\u001b[39mload(\u001b[38;5;28mopen\u001b[39m(os\u001b[38;5;241m.\u001b[39mpath\u001b[38;5;241m.\u001b[39mjoin(train_path), \u001b[38;5;124m'\u001b[39m\u001b[38;5;124mr\u001b[39m\u001b[38;5;124m'\u001b[39m))\n\u001b[0;32m      4\u001b[0m \u001b[38;5;28;01mfor\u001b[39;00m p \u001b[38;5;129;01min\u001b[39;00m Y\u001b[38;5;241m.\u001b[39mkeys():\n",
      "\u001b[1;31mNameError\u001b[0m: name 'os' is not defined"
     ]
    }
   ],
   "source": [
    "train_path = os.path.join(VTE_path, 'composite\\\\train\\\\train.json')\n",
    "Y = json.load(open(os.path.join(train_path), 'r'))\n",
    "\n",
    "for p in Y.keys():\n",
    "    Y[p]['Race'] = int(race_bmi [ race_bmi ['PatientICN']==p ]['race'].values[0]) \n",
    "    Y[p]['BMI'] = int(race_bmi [ race_bmi ['PatientICN']==p ]['bmi'].values[0]) \n",
    "    if Y[p]['gender'] == \"M\":\n",
    "        Y[p]['gender'] = 1\n",
    "    if Y[p]['gender'] == \"F\":\n",
    "        Y[p]['gender'] = 0\n",
    "    Y[p]['dxdate'] =  m1 [ m1 ['PatICN']==p ]['diag_date'].values[0]\n",
    "\n",
    "\n",
    "with open(train_path, 'w') as fwd:\n",
    "    print(\"Saving to {}\\n\".format(train_path))\n",
    "    json.dump(Y, fwd, indent=None)"
   ]
  },
  {
   "cell_type": "code",
   "execution_count": null,
   "id": "f12c76bb-ebbb-41c2-8ff0-6fcf1c38b1c9",
   "metadata": {},
   "outputs": [],
   "source": []
  },
  {
   "cell_type": "code",
   "execution_count": null,
   "id": "81686bbd-e5e5-4d34-b0b5-939809e7ebb8",
   "metadata": {},
   "outputs": [],
   "source": []
  },
  {
   "cell_type": "code",
   "execution_count": null,
   "id": "30297be1-176a-416a-a2c2-30d0080133b3",
   "metadata": {
    "tags": []
   },
   "outputs": [],
   "source": [
    "p"
   ]
  },
  {
   "cell_type": "code",
   "execution_count": null,
   "id": "9c0fb088-e928-44e5-8bb9-86044d9729e9",
   "metadata": {
    "tags": []
   },
   "outputs": [],
   "source": [
    "race_bmi ['PatientICN']"
   ]
  },
  {
   "cell_type": "code",
   "execution_count": null,
   "id": "28f5d848-780c-477f-9e44-223028b0c942",
   "metadata": {
    "tags": []
   },
   "outputs": [],
   "source": [
    "int(race_bmi [ race_bmi ['PatientICN']==p ]['race'].values[0]) "
   ]
  },
  {
   "cell_type": "code",
   "execution_count": null,
   "id": "38021f62-ebf3-439c-8570-99a4efa1ef6a",
   "metadata": {},
   "outputs": [],
   "source": [
    "Y['1015365678']['gender']"
   ]
  },
  {
   "cell_type": "code",
   "execution_count": null,
   "id": "21609d72-7fb5-4736-89df-0055dd5cafcb",
   "metadata": {
    "tags": []
   },
   "outputs": [],
   "source": [
    "test_path = os.path.join(VTE_path, 'A2_CMP\\\\test\\\\test.json')\n",
    "X = json.load(open(os.path.join(test_path), 'r'))\n",
    "\n",
    "for p in X.keys():\n",
    "    X[p]['Race'] = int(race_bmi [ race_bmi ['PatientICN']==p ]['race'].values[0]) \n",
    "    X[p]['BMI'] = int(race_bmi [ race_bmi ['PatientICN']==p ]['bmi'].values[0]) \n",
    "with open(test_path, 'w') as fwd:\n",
    "    print(\"Saving to {}\\n\".format(test_path))\n",
    "    json.dump(X, fwd, indent=None)"
   ]
  },
  {
   "cell_type": "code",
   "execution_count": null,
   "id": "cf5598e0-b772-41c6-a614-c3fa4f2f376d",
   "metadata": {},
   "outputs": [],
   "source": []
  },
  {
   "cell_type": "code",
   "execution_count": null,
   "id": "cbeba657-c6e2-4698-be7d-166c2bcdcc3b",
   "metadata": {
    "tags": []
   },
   "outputs": [],
   "source": [
    "train_path = os.path.join(VTE_path, 'A2_CMP\\\\train\\\\train.json')\n",
    "X = json.load(open(os.path.join(train_path), 'r'))\n",
    "for p in X.keys():\n",
    "    X[p]['Race'] = int(race_bmi [ race_bmi ['PatientICN']==p ]['race'].values[0]) \n",
    "    X[p]['BMI'] = int(race_bmi [ race_bmi ['PatientICN']==p ]['bmi'].values[0]) \n",
    "with open(train_path, 'w') as fwd:\n",
    "    print(\"Saving to {}\\n\".format(train_path))\n",
    "    json.dump(X, fwd, indent=None)"
   ]
  },
  {
   "cell_type": "code",
   "execution_count": null,
   "id": "2019b24b-2bc3-4649-9049-3dd82217f7f3",
   "metadata": {},
   "outputs": [],
   "source": [
    "X['1015499203'] ['BMI']"
   ]
  },
  {
   "cell_type": "code",
   "execution_count": null,
   "id": "a8ce9eaf-08c2-4bed-bf89-36f3fdc80f07",
   "metadata": {},
   "outputs": [],
   "source": [
    "X['1015499203'] ['Race']"
   ]
  },
  {
   "cell_type": "code",
   "execution_count": null,
   "id": "089661d8-e605-4f27-b588-0b82afe324b9",
   "metadata": {
    "tags": []
   },
   "outputs": [],
   "source": [
    "m_VE = m[ m['outcome'] ]\n",
    "m_VE1 = m_VE [   (pd.to_datetime( m_VE[\"outcome_date\"] ) -pd.to_datetime( m_VE[\"index_date\"] )) < datetime.timedelta(730)]\n",
    "m_VE0 = m_VE [   (pd.to_datetime( m_VE[\"outcome_date\"] ) -pd.to_datetime( m_VE[\"index_date\"] )) >= datetime.timedelta(730)]\n",
    "m_VE0[\"outcome\"] = m_VE0[\"outcome\"].replace(True, False)  \n",
    "m0= m[ ~ m['outcome'] ]\n",
    "m1 = pd.concat([m_VE1, m_VE0, m0])\n",
    "m1['PatICN'] =  m1.patient_id.astype(str)"
   ]
  },
  {
   "cell_type": "code",
   "execution_count": null,
   "id": "e86a6e65-0cae-4855-ba14-73386fb17500",
   "metadata": {},
   "outputs": [],
   "source": [
    "X.keys()"
   ]
  },
  {
   "cell_type": "code",
   "execution_count": null,
   "id": "de5de881-917e-4bb2-89fe-5fa72f54ce0d",
   "metadata": {},
   "outputs": [],
   "source": [
    "sorted(s['events'], key=lambda x:  parse_date(x['admdate']))"
   ]
  },
  {
   "cell_type": "code",
   "execution_count": null,
   "id": "1dcac3a2-2d69-4701-9933-ef618744565b",
   "metadata": {
    "tags": []
   },
   "outputs": [],
   "source": [
    "sorted_date"
   ]
  },
  {
   "cell_type": "code",
   "execution_count": null,
   "id": "5759f80f-c983-42d1-927e-4a00066fbd96",
   "metadata": {
    "tags": []
   },
   "outputs": [],
   "source": [
    "#s['events']"
   ]
  },
  {
   "cell_type": "code",
   "execution_count": null,
   "id": "b5b1f004-015e-448c-a495-402884de56bd",
   "metadata": {},
   "outputs": [],
   "source": []
  },
  {
   "cell_type": "code",
   "execution_count": null,
   "id": "8f4e0e95-b1c7-427a-8876-84ae0af8bfc1",
   "metadata": {},
   "outputs": [],
   "source": []
  },
  {
   "cell_type": "code",
   "execution_count": null,
   "id": "cbb9fb23-d766-4773-911f-672eeb5818a1",
   "metadata": {},
   "outputs": [],
   "source": [
    "X3 = X[20000:29999]\n",
    "X4 = X[30000:39999]\n",
    "X5 = X[40000:49999]\n",
    "X6 = X[50000:59999]\n",
    "X7 = X[60000:69999]\n",
    "X8 = X[70000:79999]\n",
    "X9 = X[80000:89999]\n",
    "X10 = X[90000:99999]\n",
    "X11 = X[100000:109999]\n",
    "X12 = X[110000:119999]\n",
    "X13 = X[120000:len(X)]\n",
    "\n"
   ]
  },
  {
   "cell_type": "code",
   "execution_count": null,
   "id": "4ad2b030-fe9e-4255-8494-39561a5b0a50",
   "metadata": {},
   "outputs": [],
   "source": []
  },
  {
   "cell_type": "code",
   "execution_count": null,
   "id": "4bbe0f58-e265-4dfc-bdf8-85d732290446",
   "metadata": {},
   "outputs": [],
   "source": []
  },
  {
   "cell_type": "code",
   "execution_count": null,
   "id": "824dfe67-20b2-4e8c-a257-c4cfd648592f",
   "metadata": {},
   "outputs": [],
   "source": []
  },
  {
   "cell_type": "code",
   "execution_count": null,
   "id": "956b4a03-d81a-4f02-ab44-dd2a5a031725",
   "metadata": {},
   "outputs": [],
   "source": []
  },
  {
   "cell_type": "code",
   "execution_count": null,
   "id": "59cd3597-9657-4555-bf9c-3da459f8d914",
   "metadata": {},
   "outputs": [],
   "source": []
  },
  {
   "cell_type": "code",
   "execution_count": null,
   "id": "cffff823-37b5-43fe-9bcb-e66fbe3d39a6",
   "metadata": {
    "tags": []
   },
   "outputs": [],
   "source": [
    "x = race_bmi.to_list()\n",
    "\n",
    "race_bmi['bmi']\n",
    "\n",
    "race_bmi['PatientICN']\n",
    "\n",
    "race_bmi.keys() = race_bmi['PatientICN']\n",
    "\n",
    "dev_path = os.path.join(VTE_path, 'A2_CMP\\\\dev\\\\dev.json')\n",
    "X = json.load(open(os.path.join(dev_path), 'r'))\n",
    "\n",
    "race_bmi ['PatientICN'] =race_bmi ['PatientICN'].astype(str)\n",
    "\n",
    "race_bmi = race_bmi.rename_axis(None, axis=1)\n",
    "\n",
    "p = '1004690584'\n",
    "\n",
    "race_bmi [ race_bmi ['PatientICN']==p ]\n",
    "\n",
    "race_bmi [ race_bmi ['PatientICN']==p ]['bmi'].astype(int)\n",
    "\n",
    "race_bmi [ race_bmi ['PatientICN']==p ]['race'].astype(int)\n",
    "\n",
    "X[p].keys()\n",
    "\n",
    "X[p]['Race'] = (race_bmi [ race_bmi ['PatientICN']==p ]['race'].values[0])\n",
    "\n",
    "X[p]['BMI'] = race_bmi [ race_bmi ['PatientICN']==p ]['bmi'].values[0]\n",
    "\n",
    "X[p]['Race'] "
   ]
  }
 ],
 "metadata": {
  "kernelspec": {
   "display_name": "Python 3 (ipykernel)",
   "language": "python",
   "name": "python3"
  },
  "language_info": {
   "codemirror_mode": {
    "name": "ipython",
    "version": 3
   },
   "file_extension": ".py",
   "mimetype": "text/x-python",
   "name": "python",
   "nbconvert_exporter": "python",
   "pygments_lexer": "ipython3",
   "version": "3.11.5"
  }
 },
 "nbformat": 4,
 "nbformat_minor": 5
}
