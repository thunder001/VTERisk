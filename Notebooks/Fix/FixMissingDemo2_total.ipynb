{
 "cells": [
  {
   "cell_type": "code",
   "execution_count": 1,
   "id": "413af5b2-a53a-47e7-b13c-3a28f78e0f15",
   "metadata": {},
   "outputs": [],
   "source": [
    "import json\n",
    "import os\n",
    "import time\n",
    "from datetime import datetime\n",
    " \n",
    "from os.path import dirname, realpath\n",
    "import sys\n",
    "sys.path.append(dirname(dirname(realpath(os.getcwd()))))\n",
    "import pickle\n",
    "import torch\n",
    "import multiprocessing as mp\n",
    "from torch.nn.parallel import DistributedDataParallel as DDP\n",
    "from collections import Counter\n",
    "from copy import deepcopy\n",
    "import datetime\n",
    "import tqdm\n",
    "import numpy as np\n",
    "import random\n",
    "import pandas as pd\n",
    "\n",
    "from collections import Counter\n",
    "sys.path.append(\"./src/\")\n",
    "src_path2 = \"G:\\\\FillmoreCancerData\\\\markhe\\\\VTERisk - Copy\" \n",
    "\n",
    "def parse_date(date_str):\n",
    "    if date_str == 'NA' or date_str is None:\n",
    "        return datetime.datetime(9999,1,1,0,0)\n",
    "    else:\n",
    "        if len(date_str) == 10:\n",
    "            format_str = '%Y-%m-%d'\n",
    "        else:\n",
    "            raise Exception(\"Format for {} not recognized!\".format(date_str))\n",
    "    return datetime.datetime.strptime(date_str, format_str)"
   ]
  },
  {
   "cell_type": "code",
   "execution_count": 2,
   "id": "50ca5939-35a1-47fc-87a1-8ef4c3cb964f",
   "metadata": {
    "tags": []
   },
   "outputs": [],
   "source": [
    "\n",
    "VTE_path = \"//vacrrdevmavdi01.vha.med.va.gov/MAVDEV1/Fillmore_Cancer/cat/Users/data_from_vinci/dvt_cancer_20230613/data_for_tf_model/\"\n",
    "race_bmi = pd.read_csv(os.path.join(VTE_path, 'demo/demo80808.csv'))\n",
    "race_bmi['PatientICN'] =  race_bmi.PatientICN.astype(str)\n",
    "\n",
    "race_bmi['bmi'] = race_bmi['bmi']-1\n",
    "race_bmi['race'] = race_bmi['race']-1\n",
    "race_bmi['sex'] = race_bmi['sex']-1"
   ]
  },
  {
   "cell_type": "code",
   "execution_count": null,
   "id": "4e704796",
   "metadata": {},
   "outputs": [],
   "source": []
  },
  {
   "cell_type": "code",
   "execution_count": 3,
   "id": "a3f64673-e155-4b52-9923-96ad796fabbd",
   "metadata": {},
   "outputs": [
    {
     "name": "stdout",
     "output_type": "stream",
     "text": [
      "Saving to //vacrrdevmavdi01.vha.med.va.gov/MAVDEV1/Fillmore_Cancer/cat/Users/data_from_vinci/dvt_cancer_20230613/data_for_tf_model/processed\\Phe_Lab2\\X.json\n",
      "\n"
     ]
    }
   ],
   "source": [
    "train_path = os.path.join(VTE_path, 'processed\\\\Phe_Lab2\\\\X.json')\n",
    "Y = json.load(open(os.path.join(train_path), 'r'))\n",
    "\n",
    "for p in Y.keys():\n",
    "    Y[p]['Race'] = int(race_bmi [ race_bmi ['PatientICN']==p ]['race'].values[0]) \n",
    "    Y[p]['BMI'] = int(race_bmi [ race_bmi ['PatientICN']==p ]['bmi'].values[0]) \n",
    "    Y[p]['gender'] = int(race_bmi [ race_bmi ['PatientICN']==p ]['sex'].values[0]) \n",
    "\n",
    "with open(train_path, 'w') as fwd:\n",
    "    print(\"Saving to {}\\n\".format(train_path))\n",
    "    json.dump(Y, fwd, indent=None)"
   ]
  },
  {
   "cell_type": "code",
   "execution_count": null,
   "id": "f4fd0b87",
   "metadata": {},
   "outputs": [],
   "source": []
  }
 ],
 "metadata": {
  "kernelspec": {
   "display_name": "Python 3 (ipykernel)",
   "language": "python",
   "name": "python3"
  },
  "language_info": {
   "codemirror_mode": {
    "name": "ipython",
    "version": 3
   },
   "file_extension": ".py",
   "mimetype": "text/x-python",
   "name": "python",
   "nbconvert_exporter": "python",
   "pygments_lexer": "ipython3",
   "version": "3.11.7"
  }
 },
 "nbformat": 4,
 "nbformat_minor": 5
}
