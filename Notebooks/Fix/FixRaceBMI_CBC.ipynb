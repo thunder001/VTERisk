{
 "cells": [
  {
   "cell_type": "code",
   "execution_count": 1,
   "id": "59af6093-3a8c-4fb0-9e95-eca1587dce15",
   "metadata": {},
   "outputs": [],
   "source": [
    "import json\n",
    "import os\n",
    "import time\n",
    "\n",
    "from datetime import datetime\n",
    "\n",
    "os.getcwd()\n",
    " \n",
    "from os.path import dirname, realpath\n",
    "import sys\n",
    "sys.path.append(dirname(dirname(realpath(os.getcwd()))))\n",
    "import pickle\n",
    "import torch\n",
    "import multiprocessing as mp\n",
    "from torch.nn.parallel import DistributedDataParallel as DDP\n",
    "from collections import Counter\n",
    "from copy import deepcopy\n",
    "import datetime\n",
    "import tqdm\n",
    "import numpy as np\n",
    "import random\n",
    "import pandas as pd\n",
    "\n",
    "from collections import Counter\n",
    "sys.path.append(\"./src/\")\n",
    "\n",
    "src_path2 = \"G:\\\\FillmoreCancerData\\\\markhe\\\\VTERisk - Copy\" \n",
    "\n",
    "def parse_date(date_str):\n",
    "    if date_str == 'NA' or date_str is None:\n",
    "        return datetime.datetime(9999,1,1,0,0)\n",
    "    else:\n",
    "        if len(date_str) == 10:\n",
    "            format_str = '%Y-%m-%d'\n",
    "        else:\n",
    "            raise Exception(\"Format for {} not recognized!\".format(date_str))\n",
    "    return datetime.datetime.strptime(date_str, format_str)\n",
    "\n",
    "\n",
    "VTE_path = 'Y:\\\\Fillmore_Cancer\\\\cat\\\\Users\\\\data\\\\derived\\\\vte_ml\\\\vte_ml\\\\data_for_chunlei'"
   ]
  },
  {
   "cell_type": "code",
   "execution_count": 2,
   "id": "bb11a6be-c94c-4bd5-9433-16f2a2c13190",
   "metadata": {},
   "outputs": [],
   "source": [
    "race_bmi = pd.read_csv(os.path.join(VTE_path, 'samples/ad.csv'))"
   ]
  },
  {
   "cell_type": "code",
   "execution_count": 3,
   "id": "edb4a5f3-8180-4bce-b7a4-8a81576eb8b3",
   "metadata": {
    "tags": []
   },
   "outputs": [],
   "source": [
    "race_bmi['PatientICN'] =  race_bmi.PatientICN.astype(str)\n"
   ]
  },
  {
   "cell_type": "code",
   "execution_count": 7,
   "id": "a43dc101-0a15-44cb-abe9-1ed12a84e077",
   "metadata": {
    "tags": []
   },
   "outputs": [],
   "source": [
    "testDF = pd.read_csv(os.path.join(src_path2, 'Notebooks/Find/fixed_dx.csv'))\n",
    "m = testDF[[\"patient_id\", \"index_date\",\"diag_date\", \"obs_time_end\",  \"outcome\",\"outcome_date\" ]]"
   ]
  },
  {
   "cell_type": "code",
   "execution_count": 8,
   "id": "266491da-842c-4036-887d-6b71aae24bfc",
   "metadata": {},
   "outputs": [
    {
     "name": "stderr",
     "output_type": "stream",
     "text": [
      "C:\\Users\\VHANYNHeT\\AppData\\Local\\Temp\\2\\ipykernel_80112\\1629420586.py:6: SettingWithCopyWarning: \n",
      "A value is trying to be set on a copy of a slice from a DataFrame.\n",
      "Try using .loc[row_indexer,col_indexer] = value instead\n",
      "\n",
      "See the caveats in the documentation: https://pandas.pydata.org/pandas-docs/stable/user_guide/indexing.html#returning-a-view-versus-a-copy\n",
      "  m_VE0[\"outcome\"] = m_VE0[\"outcome\"].replace(True, False)\n",
      "C:\\Users\\VHANYNHeT\\AppData\\Local\\Temp\\2\\ipykernel_80112\\1629420586.py:11: SettingWithCopyWarning: \n",
      "A value is trying to be set on a copy of a slice from a DataFrame.\n",
      "Try using .loc[row_indexer,col_indexer] = value instead\n",
      "\n",
      "See the caveats in the documentation: https://pandas.pydata.org/pandas-docs/stable/user_guide/indexing.html#returning-a-view-versus-a-copy\n",
      "  m_VE0['model_date'] = pd.to_datetime(m_VE0['index_date']) + datetime.timedelta(730)\n",
      "C:\\Users\\VHANYNHeT\\AppData\\Local\\Temp\\2\\ipykernel_80112\\1629420586.py:12: SettingWithCopyWarning: \n",
      "A value is trying to be set on a copy of a slice from a DataFrame.\n",
      "Try using .loc[row_indexer,col_indexer] = value instead\n",
      "\n",
      "See the caveats in the documentation: https://pandas.pydata.org/pandas-docs/stable/user_guide/indexing.html#returning-a-view-versus-a-copy\n",
      "  m_VE0['PatICN'] =  m_VE0.patient_id.astype(str)\n"
     ]
    }
   ],
   "source": [
    "m = testDF[[\"patient_id\", \"index_date\",\"diag_date\", \"obs_time_end\",  \"outcome\",\"outcome_date\" ]]\n",
    "\n",
    "m_VE = m[ m['outcome'] ]\n",
    "m_VE1 = m_VE [   (pd.to_datetime( m_VE[\"outcome_date\"] ) -pd.to_datetime( m_VE[\"index_date\"] )) < datetime.timedelta(730)]\n",
    "m_VE0 = m_VE [   (pd.to_datetime( m_VE[\"outcome_date\"] ) -pd.to_datetime( m_VE[\"index_date\"] )) >= datetime.timedelta(730)]\n",
    "m_VE0[\"outcome\"] = m_VE0[\"outcome\"].replace(True, False)  \n",
    "m0= m[ ~ m['outcome'] ]\n",
    "m1 = pd.concat([m_VE1, m_VE0, m0])\n",
    "m1['PatICN'] =  m1.patient_id.astype(str)\n",
    "\n",
    "m_VE0['model_date'] = pd.to_datetime(m_VE0['index_date']) + datetime.timedelta(730)\n",
    "m_VE0['PatICN'] =  m_VE0.patient_id.astype(str)"
   ]
  },
  {
   "cell_type": "code",
   "execution_count": 4,
   "id": "6dbe38f8-82a6-4c9d-b224-3ad89e9628cb",
   "metadata": {},
   "outputs": [],
   "source": [
    "cbc_path = os.path.join(VTE_path, 'composite\\\\phe_CompositeLab.json')\n",
    "Y = json.load(open(os.path.join(cbc_path), 'r'))"
   ]
  },
  {
   "cell_type": "code",
   "execution_count": 9,
   "id": "0d4b3dad-cf95-4103-a336-331438517a5e",
   "metadata": {},
   "outputs": [],
   "source": [
    "for p in Y.keys():\n",
    "    Y[p]['Race'] = int(race_bmi [ race_bmi ['PatientICN']==p ]['race'].values[0]) \n",
    "    Y[p]['BMI'] = int(race_bmi [ race_bmi ['PatientICN']==p ]['bmi'].values[0]) \n",
    "    if Y[p]['gender'] == \"M\":\n",
    "        Y[p]['gender'] = 1\n",
    "    if Y[p]['gender'] == \"F\":\n",
    "        Y[p]['gender'] = 0\n",
    "    Y[p]['dxdate'] =  m1 [ m1 ['PatICN']==p ]['diag_date'].values[0]\n",
    "\n",
    "    if sum( p  ==  m_VE0.PatICN ) ==1 :\n",
    "        m_p = m_VE0[  p  ==  m_VE0.PatICN ] \n",
    "        Yp = Y[p]['events']\n",
    "        m_date = m_p['model_date'].astype('datetime64[ns]')\n",
    "        Yp_f = filter(lambda x: parse_date(x['admdate']) < m_date.ravel()[0] , Yp)\n",
    "        Yp_new = list( Yp_f)\n",
    "        Y[p]['events']  = Yp_new "
   ]
  },
  {
   "cell_type": "code",
   "execution_count": 10,
   "id": "4f4db6dc-36f4-4e3a-8a1a-0eaa5e1209bd",
   "metadata": {
    "tags": []
   },
   "outputs": [],
   "source": [
    "new_path = os.path.join(VTE_path, 'composite\\\\New_Composite.json')"
   ]
  },
  {
   "cell_type": "code",
   "execution_count": 11,
   "id": "ff284e40-0db9-4bf3-963f-de9350503039",
   "metadata": {},
   "outputs": [
    {
     "name": "stdout",
     "output_type": "stream",
     "text": [
      "Saving to Y:\\Fillmore_Cancer\\cat\\Users\\data\\derived\\vte_ml\\vte_ml\\data_for_chunlei\\composite\\New_Composite.json\n",
      "\n"
     ]
    }
   ],
   "source": [
    "with open(new_path, 'w') as fwd:\n",
    "    print(\"Saving to {}\\n\".format(new_path))\n",
    "    json.dump(Y, fwd, indent=None)"
   ]
  },
  {
   "cell_type": "code",
   "execution_count": null,
   "id": "e7965da2-2b1b-48ce-8eab-bf6964830386",
   "metadata": {
    "tags": []
   },
   "outputs": [],
   "source": [
    "Y = 0"
   ]
  },
  {
   "cell_type": "code",
   "execution_count": 16,
   "id": "50496c27-12fe-42a5-a75b-e619ceda3421",
   "metadata": {
    "tags": []
   },
   "outputs": [],
   "source": [
    "import gc"
   ]
  },
  {
   "cell_type": "code",
   "execution_count": 17,
   "id": "84530e08-6e4f-49ed-bcbc-cbf858f57cfc",
   "metadata": {
    "tags": []
   },
   "outputs": [],
   "source": [
    "\n",
    "def train_dev_test_file_random_split(metafile, train_size=0.8, dev_size=0.1, test_size=0.1):\n",
    "    '''\n",
    "    This function randomly splits a json file into train, dev and test datasets, and \n",
    "    automatically saved splitted files under train, dev and test folders.\n",
    "    Note: there is special handling for non-string type diagnosis codes when necessary\n",
    "    '''\n",
    "    par_dir = os.path.dirname(metafile)\n",
    "    train_dir = os.path.join(par_dir, 'train')\n",
    "    dev_dir = os.path.join(par_dir, 'dev')\n",
    "    test_dir = os.path.join(par_dir, 'test')\n",
    "    if not os.path.exists(train_dir):\n",
    "        os.mkdir(train_dir)\n",
    "    if not os.path.exists(dev_dir):\n",
    "        os.mkdir(dev_dir)\n",
    "    if not os.path.exists(test_dir):\n",
    "        os.mkdir(test_dir)\n",
    "    \n",
    "    print('Loading data: {}'.format(metafile))\n",
    "    dat = json.load(open(metafile, 'r'))\n",
    "\n",
    "    # change phecodes datatype to string\n",
    "    for p in dat.keys():\n",
    "        for i in range(len(dat[p]['events'])):\n",
    "            dat[p]['events'][i]['codes'] = str(dat[p]['events'][i]['codes'])\n",
    "\n",
    "    all = [p for p in dat.keys()]\n",
    "    random.shuffle(all)\n",
    "    dev_ind_start = int(len(all) * train_size)\n",
    "    test_ind_start = int(len(all) * (train_size + dev_size))\n",
    "\n",
    "    # Train sampling\n",
    "    train_sample = all[:dev_ind_start]\n",
    "    train = {p: dat[p] for p in train_sample}\n",
    "    for p in train:\n",
    "        train[p]['split_group'] = 'train'\n",
    "    train_path = os.path.join(train_dir, 'train.json')\n",
    "    with open(train_path, 'w') as fwt:\n",
    "        print(\"Saving to {}\\n\".format(train_path))\n",
    "        json.dump(train, fwt, indent=None)\n",
    "    del train\n",
    "    gc.collect()\n",
    "\n",
    "    # Dev sampling\n",
    "    dev_sample = all[dev_ind_start:test_ind_start]\n",
    "    dev = {p: dat[p] for p in dev_sample}\n",
    "    for p in dev:\n",
    "        dev[p]['split_group'] = 'dev'\n",
    "    dev_path = os.path.join(dev_dir, 'dev.json')\n",
    "    with open(dev_path, 'w') as fwd:\n",
    "        print(\"Saving to {}\\n\".format(dev_path))\n",
    "        json.dump(dev, fwd, indent=None)\n",
    "    del dev\n",
    "    gc.collect()\n",
    "\n",
    "    # Test sampling\n",
    "    test_sample = all[test_ind_start:]\n",
    "    test = {p: dat[p] for p in test_sample}\n",
    "    for p in test:\n",
    "        test[p]['split_group'] = 'test'\n",
    "\n",
    "    test_path = os.path.join(test_dir, 'test.json')\n",
    "    with open(test_path, 'w') as fwtt:\n",
    "        print(\"Saving to {}\\n\".format(test_path))\n",
    "        json.dump(test, fwtt, indent=None)\n",
    "    del test\n",
    "    gc.collect()"
   ]
  },
  {
   "cell_type": "code",
   "execution_count": 18,
   "id": "850e704f-ce90-40ba-9aa8-de26ceedad5d",
   "metadata": {
    "tags": []
   },
   "outputs": [
    {
     "name": "stdout",
     "output_type": "stream",
     "text": [
      "Loading data: Y:\\Fillmore_Cancer\\cat\\Users\\data\\derived\\vte_ml\\vte_ml\\data_for_chunlei\\composite\\New_Composite.json\n",
      "Saving to Y:\\Fillmore_Cancer\\cat\\Users\\data\\derived\\vte_ml\\vte_ml\\data_for_chunlei\\composite\\train\\train.json\n",
      "\n",
      "Saving to Y:\\Fillmore_Cancer\\cat\\Users\\data\\derived\\vte_ml\\vte_ml\\data_for_chunlei\\composite\\dev\\dev.json\n",
      "\n",
      "Saving to Y:\\Fillmore_Cancer\\cat\\Users\\data\\derived\\vte_ml\\vte_ml\\data_for_chunlei\\composite\\test\\test.json\n",
      "\n"
     ]
    }
   ],
   "source": [
    "train_dev_test_file_random_split(new_path, train_size=0.6, dev_size=0.2, test_size=0.2)\n"
   ]
  },
  {
   "cell_type": "code",
   "execution_count": 1,
   "id": "e7f41f4a-8c97-4ef1-8df2-9828d00457ab",
   "metadata": {
    "tags": []
   },
   "outputs": [],
   "source": [
    "Y = 0"
   ]
  },
  {
   "cell_type": "code",
   "execution_count": null,
   "id": "a68c6e61-1c5c-42bb-bbd9-80c222bbedbf",
   "metadata": {},
   "outputs": [],
   "source": []
  },
  {
   "cell_type": "code",
   "execution_count": null,
   "id": "a6254b8b-69e9-403f-b184-760dc8924b18",
   "metadata": {},
   "outputs": [],
   "source": []
  },
  {
   "cell_type": "code",
   "execution_count": 2,
   "id": "dd60a9de-c909-4c2f-9c6d-7e198ccf8934",
   "metadata": {},
   "outputs": [],
   "source": [
    "lis = [1,1,1,2,2,2,3,3,3]"
   ]
  },
  {
   "cell_type": "code",
   "execution_count": 4,
   "id": "f804ad13-73b2-42a3-a03c-97df9c08764e",
   "metadata": {
    "tags": []
   },
   "outputs": [
    {
     "data": {
      "text/plain": [
       "[]"
      ]
     },
     "execution_count": 4,
     "metadata": {},
     "output_type": "execute_result"
    }
   ],
   "source": [
    "lis[7:5]"
   ]
  },
  {
   "cell_type": "code",
   "execution_count": 5,
   "id": "d42a3ea5-8789-4f19-8eba-2cc8a14c6ad6",
   "metadata": {
    "tags": []
   },
   "outputs": [
    {
     "data": {
      "text/plain": [
       "[1, 2, 2]"
      ]
     },
     "execution_count": 5,
     "metadata": {},
     "output_type": "execute_result"
    }
   ],
   "source": [
    "lis[2:5]"
   ]
  },
  {
   "cell_type": "code",
   "execution_count": null,
   "id": "967a3132-fa13-48f0-acbd-65263f77c2f8",
   "metadata": {},
   "outputs": [],
   "source": []
  }
 ],
 "metadata": {
  "kernelspec": {
   "display_name": "Python 3 (ipykernel)",
   "language": "python",
   "name": "python3"
  },
  "language_info": {
   "codemirror_mode": {
    "name": "ipython",
    "version": 3
   },
   "file_extension": ".py",
   "mimetype": "text/x-python",
   "name": "python",
   "nbconvert_exporter": "python",
   "pygments_lexer": "ipython3",
   "version": "3.11.5"
  }
 },
 "nbformat": 4,
 "nbformat_minor": 5
}
