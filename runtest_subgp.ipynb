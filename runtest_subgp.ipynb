{
 "cells": [
  {
   "cell_type": "code",
   "execution_count": 1,
   "id": "1b25c26b-6d2c-4978-9f63-75529b61b84e",
   "metadata": {
    "tags": []
   },
   "outputs": [],
   "source": [
    "import os\n",
    "import json"
   ]
  },
  {
   "cell_type": "code",
   "execution_count": 2,
   "id": "1e128ba3-589b-4510-aa18-df7d8772c68b",
   "metadata": {
    "tags": []
   },
   "outputs": [],
   "source": [
    "import pandas as pd\n",
    "import random\n",
    "import os\n",
    "import json\n",
    "import gc\n",
    "import datetime\n",
    "# from disrisknet.utils.date import parse_dates\n",
    "import copy\n"
   ]
  },
  {
   "cell_type": "code",
   "execution_count": 2,
   "id": "598933ac-3a57-4c45-98da-d6873fb0874b",
   "metadata": {
    "tags": []
   },
   "outputs": [],
   "source": [
    "VTE_path = 'F:\\\\MAVDEV1\\\\Fillmore_Cancer\\\\cat\\\\Users\\\\data\\\\derived\\\\vte_ml\\\\vte_ml\\\\data_for_chunlei'"
   ]
  },
  {
   "cell_type": "code",
   "execution_count": 1,
   "id": "6f4b4c9d-6e6b-498d-86e1-8f87cfb8b067",
   "metadata": {
    "tags": []
   },
   "outputs": [
    {
     "name": "stdout",
     "output_type": "stream",
     "text": [
      "args: Namespace(experiment_config_path='src/configs/subgroup/Test_Age5.json', force_rerun=False, force_evaluate=False)\n",
      "python src/scripts/main.py  --add_bmi_neuron --add_race_neuron --add_sex_neuron --ageseq_event --class_bal --code_to_index_file snapshot_vte/L/6b02b938c500e525ae4a9b38797dae98.code_map --device cpu --disease_code_system phe_lab --dxseq_cos --epochs 1 --eval_auprc --eval_auroc --eval_batch_size 128 --filter_max_len --hidden_dim 64 --indseq_cos --init_lr 0.00125 --log_dir logs_transformer_vte/subgroup/Age5 --lr_decay 0.3 --max_batches_per_dev_epoch 1000 --max_batches_per_train_epoch 2000 --max_days_before_index 1000 --max_eval_indices 1 --max_events_length 800 --max_year_before_index 4 --model_dir snapshot_vte/L --model_name transformer --month_endpoints 3 --num_heads 1 --num_layers 8 --num_workers 0 --optimizer adam --pad_size 400 --pool_name Softmax_AttentionPool --snapshot snapshot_vte/L/model_6b02b938c500e525ae4a9b38797dae98_model.pt --start_at_dx_100 --start_noise_days --start_noise_len 20 --test --test_data_dir //vacrrdevmavdi01.vha.med.va.gov/MAVDEV1/Fillmore_Cancer/cat/Users/data_from_vinci/dvt_cancer_20230613/data_for_tf_model/processed/Phe_Lab/subgroup/Age5 --time_embed_dim 64 --time_seq_cos --train_batch_size 256 --tuning_metric 3day_auroc_c --use_age_embed --use_dxtime_embed --use_index_embed --use_time_embed --weight_decay 0.001 --log_name=ee5cdc85ab3a2515d84dcad05eeaed9a --log_dir=logs_transformer_vte/subgroup/Age5\n"
     ]
    }
   ],
   "source": [
    "%run src/scripts/schedulers/expr_dispatcher.py --experiment-config-path src/configs/subgroup/Test_Age5.json"
   ]
  },
  {
   "cell_type": "code",
   "execution_count": 2,
   "id": "aac9b24a-b427-4efc-8ed2-a370630a9db6",
   "metadata": {
    "tags": []
   },
   "outputs": [
    {
     "name": "stdout",
     "output_type": "stream",
     "text": [
      "args: Namespace(experiment_config_path='src/configs/subgroup/Test_Age4.json', force_rerun=False, force_evaluate=False)\n",
      "python src/scripts/main.py  --add_bmi_neuron --add_race_neuron --add_sex_neuron --ageseq_event --class_bal --code_to_index_file snapshot_vte/L/6b02b938c500e525ae4a9b38797dae98.code_map --device cpu --disease_code_system phe_lab --dxseq_cos --epochs 1 --eval_auprc --eval_auroc --eval_batch_size 128 --filter_max_len --hidden_dim 64 --indseq_cos --init_lr 0.00125 --log_dir logs_transformer_vte/subgroup/Age4 --lr_decay 0.3 --max_batches_per_dev_epoch 1000 --max_batches_per_train_epoch 2000 --max_days_before_index 1000 --max_eval_indices 1 --max_events_length 800 --max_year_before_index 4 --model_dir snapshot_vte/L --model_name transformer --month_endpoints 3 --num_heads 1 --num_layers 8 --num_workers 0 --optimizer adam --pad_size 400 --pool_name Softmax_AttentionPool --snapshot snapshot_vte/L/model_6b02b938c500e525ae4a9b38797dae98_model.pt --start_at_dx_100 --start_noise_days --start_noise_len 20 --test --test_data_dir //vacrrdevmavdi01.vha.med.va.gov/MAVDEV1/Fillmore_Cancer/cat/Users/data_from_vinci/dvt_cancer_20230613/data_for_tf_model/processed/Phe_Lab/subgroup/Age4 --time_embed_dim 64 --time_seq_cos --train_batch_size 256 --tuning_metric 3day_auroc_c --use_age_embed --use_dxtime_embed --use_index_embed --use_time_embed --weight_decay 0.001 --log_name=9bbcefb5ba9e55d32aeb931658f653bb --log_dir=logs_transformer_vte/subgroup/Age4\n"
     ]
    }
   ],
   "source": [
    "%run src/scripts/schedulers/expr_dispatcher.py --experiment-config-path src/configs/subgroup/Test_Age4.json"
   ]
  },
  {
   "cell_type": "code",
   "execution_count": 14,
   "id": "b38936bd-df82-4745-94c9-594e1dbd405a",
   "metadata": {
    "tags": []
   },
   "outputs": [
    {
     "name": "stdout",
     "output_type": "stream",
     "text": [
      "args: Namespace(experiment_config_path='src/configs/subgroup/Test_Age3.json', force_rerun=False, force_evaluate=False)\n",
      "python src/scripts/main.py  --add_bmi_neuron --add_race_neuron --add_sex_neuron --ageseq_event --class_bal --code_to_index_file snapshot_vte/L/6b02b938c500e525ae4a9b38797dae98.code_map --device cpu --disease_code_system phe_lab --dxseq_cos --epochs 1 --eval_auprc --eval_auroc --eval_batch_size 128 --filter_max_len --hidden_dim 64 --indseq_cos --init_lr 0.00125 --log_dir logs_transformer_vte/subgroup/Age3 --lr_decay 0.3 --max_batches_per_dev_epoch 1000 --max_batches_per_train_epoch 2000 --max_days_before_index 1000 --max_eval_indices 1 --max_events_length 800 --max_year_before_index 4 --model_dir snapshot_vte/L --model_name transformer --month_endpoints 3 --num_heads 1 --num_layers 8 --num_workers 0 --optimizer adam --pad_size 400 --pool_name Softmax_AttentionPool --snapshot snapshot_vte/L/model_6b02b938c500e525ae4a9b38797dae98_model.pt --start_at_dx_100 --start_noise_days --start_noise_len 20 --test --test_data_dir //vacrrdevmavdi01.vha.med.va.gov/MAVDEV1/Fillmore_Cancer/cat/Users/data_from_vinci/dvt_cancer_20230613/data_for_tf_model/processed/Phe_Lab/subgroup/Age3 --time_embed_dim 64 --time_seq_cos --train_batch_size 256 --tuning_metric 3day_auroc_c --use_age_embed --use_dxtime_embed --use_index_embed --use_time_embed --weight_decay 0.001 --log_name=a0e96296998ed7b78df96778f4df68a3 --log_dir=logs_transformer_vte/subgroup/Age3\n"
     ]
    }
   ],
   "source": [
    "%run src/scripts/schedulers/expr_dispatcher.py --experiment-config-path src/configs/subgroup/Test_Age3.json"
   ]
  },
  {
   "cell_type": "code",
   "execution_count": 15,
   "id": "0cac16bd-bcdb-493e-a3f9-e67f2cf3743b",
   "metadata": {
    "tags": []
   },
   "outputs": [
    {
     "name": "stdout",
     "output_type": "stream",
     "text": [
      "args: Namespace(experiment_config_path='src/configs/subgroup/Test_Age2.json', force_rerun=False, force_evaluate=False)\n",
      "python src/scripts/main.py  --add_bmi_neuron --add_race_neuron --add_sex_neuron --ageseq_event --class_bal --code_to_index_file snapshot_vte/L/6b02b938c500e525ae4a9b38797dae98.code_map --device cpu --disease_code_system phe_lab --dxseq_cos --epochs 1 --eval_auprc --eval_auroc --eval_batch_size 128 --filter_max_len --hidden_dim 64 --indseq_cos --init_lr 0.00125 --log_dir logs_transformer_vte/subgroup/Age2 --lr_decay 0.3 --max_batches_per_dev_epoch 1000 --max_batches_per_train_epoch 2000 --max_days_before_index 1000 --max_eval_indices 1 --max_events_length 800 --max_year_before_index 4 --model_dir snapshot_vte/L --model_name transformer --month_endpoints 3 --num_heads 1 --num_layers 8 --num_workers 0 --optimizer adam --pad_size 400 --pool_name Softmax_AttentionPool --snapshot snapshot_vte/L/model_6b02b938c500e525ae4a9b38797dae98_model.pt --start_at_dx_100 --start_noise_days --start_noise_len 20 --test --test_data_dir //vacrrdevmavdi01.vha.med.va.gov/MAVDEV1/Fillmore_Cancer/cat/Users/data_from_vinci/dvt_cancer_20230613/data_for_tf_model/processed/Phe_Lab/subgroup/Age2 --time_embed_dim 64 --time_seq_cos --train_batch_size 256 --tuning_metric 3day_auroc_c --use_age_embed --use_dxtime_embed --use_index_embed --use_time_embed --weight_decay 0.001 --log_name=9ed3579f28103683fafba9347553bf2d --log_dir=logs_transformer_vte/subgroup/Age2\n"
     ]
    }
   ],
   "source": [
    "%run src/scripts/schedulers/expr_dispatcher.py --experiment-config-path src/configs/subgroup/Test_Age2.json"
   ]
  },
  {
   "cell_type": "code",
   "execution_count": 16,
   "id": "44128ff1-5b1b-46cd-92f5-8e78661f262f",
   "metadata": {
    "tags": []
   },
   "outputs": [
    {
     "name": "stdout",
     "output_type": "stream",
     "text": [
      "args: Namespace(experiment_config_path='src/configs/subgroup/Test_Age1.json', force_rerun=False, force_evaluate=False)\n",
      "python src/scripts/main.py  --add_bmi_neuron --add_race_neuron --add_sex_neuron --ageseq_event --class_bal --code_to_index_file snapshot_vte/L/6b02b938c500e525ae4a9b38797dae98.code_map --device cpu --disease_code_system phe_lab --dxseq_cos --epochs 1 --eval_auprc --eval_auroc --eval_batch_size 128 --filter_max_len --hidden_dim 64 --indseq_cos --init_lr 0.00125 --log_dir logs_transformer_vte/subgroup/Age1 --lr_decay 0.3 --max_batches_per_dev_epoch 1000 --max_batches_per_train_epoch 2000 --max_days_before_index 1000 --max_eval_indices 1 --max_events_length 800 --max_year_before_index 4 --model_dir snapshot_vte/L --model_name transformer --month_endpoints 3 --num_heads 1 --num_layers 8 --num_workers 0 --optimizer adam --pad_size 400 --pool_name Softmax_AttentionPool --snapshot snapshot_vte/L/model_6b02b938c500e525ae4a9b38797dae98_model.pt --start_at_dx_100 --start_noise_days --start_noise_len 20 --test --test_data_dir //vacrrdevmavdi01.vha.med.va.gov/MAVDEV1/Fillmore_Cancer/cat/Users/data_from_vinci/dvt_cancer_20230613/data_for_tf_model/processed/Phe_Lab/subgroup/Age1 --time_embed_dim 64 --time_seq_cos --train_batch_size 256 --tuning_metric 3day_auroc_c --use_age_embed --use_dxtime_embed --use_index_embed --use_time_embed --weight_decay 0.001 --log_name=e868f27d06583696136c11345508ac51 --log_dir=logs_transformer_vte/subgroup/Age1\n"
     ]
    }
   ],
   "source": [
    "%run src/scripts/schedulers/expr_dispatcher.py --experiment-config-path src/configs/subgroup/Test_Age1.json"
   ]
  },
  {
   "cell_type": "code",
   "execution_count": 1,
   "id": "c3bbec80-0e82-408e-ac37-b742f4fd9a94",
   "metadata": {
    "tags": []
   },
   "outputs": [
    {
     "name": "stdout",
     "output_type": "stream",
     "text": [
      "args: Namespace(experiment_config_path='src/configs/subgroup/Test_Black.json', force_rerun=False, force_evaluate=False)\n",
      "python src/scripts/main.py  --add_bmi_neuron --add_race_neuron --add_sex_neuron --ageseq_event --class_bal --code_to_index_file snapshot_vte/L/6b02b938c500e525ae4a9b38797dae98.code_map --device cpu --disease_code_system phe_lab --dxseq_cos --epochs 1 --eval_auprc --eval_auroc --eval_batch_size 128 --filter_max_len --hidden_dim 64 --indseq_cos --init_lr 0.00125 --log_dir logs_transformer_vte/subgroup/black --lr_decay 0.3 --max_batches_per_dev_epoch 1000 --max_batches_per_train_epoch 2000 --max_days_before_index 1000 --max_eval_indices 1 --max_events_length 800 --max_year_before_index 4 --model_dir snapshot_vte/L --model_name transformer --month_endpoints 3 --num_heads 1 --num_layers 8 --num_workers 0 --optimizer adam --pad_size 400 --pool_name Softmax_AttentionPool --snapshot snapshot_vte/L/model_6b02b938c500e525ae4a9b38797dae98_model.pt --start_at_dx_100 --start_noise_days --start_noise_len 20 --test --test_data_dir //vacrrdevmavdi01.vha.med.va.gov/MAVDEV1/Fillmore_Cancer/cat/Users/data_from_vinci/dvt_cancer_20230613/data_for_tf_model/processed/Phe_Lab/subgroup/black --time_embed_dim 64 --time_seq_cos --train_batch_size 256 --tuning_metric 3day_auroc_c --use_age_embed --use_dxtime_embed --use_index_embed --use_time_embed --weight_decay 0.001 --log_name=97e325921f7d5c90673066d6f2faf395 --log_dir=logs_transformer_vte/subgroup/black\n"
     ]
    }
   ],
   "source": [
    "%run src/scripts/schedulers/expr_dispatcher.py --experiment-config-path src/configs/subgroup/Test_Black.json"
   ]
  },
  {
   "cell_type": "code",
   "execution_count": 2,
   "id": "85fb0513-7846-4f09-bac8-cc5b9eea56c9",
   "metadata": {
    "tags": []
   },
   "outputs": [
    {
     "name": "stdout",
     "output_type": "stream",
     "text": [
      "args: Namespace(experiment_config_path='src/configs/subgroup/Test_Female.json', force_rerun=False, force_evaluate=False)\n",
      "python src/scripts/main.py  --add_bmi_neuron --add_race_neuron --add_sex_neuron --ageseq_event --class_bal --code_to_index_file snapshot_vte/L/6b02b938c500e525ae4a9b38797dae98.code_map --device cpu --disease_code_system phe_lab --dxseq_cos --epochs 1 --eval_auprc --eval_auroc --eval_batch_size 128 --filter_max_len --hidden_dim 64 --indseq_cos --init_lr 0.00125 --log_dir logs_transformer_vte/subgroup/female --lr_decay 0.3 --max_batches_per_dev_epoch 1000 --max_batches_per_train_epoch 2000 --max_days_before_index 1000 --max_eval_indices 1 --max_events_length 800 --max_year_before_index 4 --model_dir snapshot_vte/L --model_name transformer --month_endpoints 3 --num_heads 1 --num_layers 8 --num_workers 0 --optimizer adam --pad_size 400 --pool_name Softmax_AttentionPool --snapshot snapshot_vte/L/model_6b02b938c500e525ae4a9b38797dae98_model.pt --start_at_dx_100 --start_noise_days --start_noise_len 20 --test --test_data_dir //vacrrdevmavdi01.vha.med.va.gov/MAVDEV1/Fillmore_Cancer/cat/Users/data_from_vinci/dvt_cancer_20230613/data_for_tf_model/processed/Phe_Lab/subgroup/female --time_embed_dim 64 --time_seq_cos --train_batch_size 256 --tuning_metric 3day_auroc_c --use_age_embed --use_dxtime_embed --use_index_embed --use_time_embed --weight_decay 0.001 --log_name=600eb2ff4448f6dcd21c5cb7114272e4 --log_dir=logs_transformer_vte/subgroup/female\n"
     ]
    }
   ],
   "source": [
    "%run src/scripts/schedulers/expr_dispatcher.py --experiment-config-path src/configs/subgroup/Test_Female.json"
   ]
  },
  {
   "cell_type": "code",
   "execution_count": 3,
   "id": "c6a81a57-d495-42b7-b985-90e21d082ef9",
   "metadata": {
    "tags": []
   },
   "outputs": [
    {
     "name": "stdout",
     "output_type": "stream",
     "text": [
      "args: Namespace(experiment_config_path='src/configs/subgroup/Test_NW.json', force_rerun=False, force_evaluate=False)\n",
      "python src/scripts/main.py  --add_bmi_neuron --add_race_neuron --add_sex_neuron --ageseq_event --class_bal --code_to_index_file snapshot_vte/L/6b02b938c500e525ae4a9b38797dae98.code_map --device cpu --disease_code_system phe_lab --dxseq_cos --epochs 1 --eval_auprc --eval_auroc --eval_batch_size 128 --filter_max_len --hidden_dim 64 --indseq_cos --init_lr 0.00125 --log_dir logs_transformer_vte/subgroup/nw --lr_decay 0.3 --max_batches_per_dev_epoch 1000 --max_batches_per_train_epoch 2000 --max_days_before_index 1000 --max_eval_indices 1 --max_events_length 800 --max_year_before_index 4 --model_dir snapshot_vte/L --model_name transformer --month_endpoints 3 --num_heads 1 --num_layers 8 --num_workers 0 --optimizer adam --pad_size 400 --pool_name Softmax_AttentionPool --snapshot snapshot_vte/L/model_6b02b938c500e525ae4a9b38797dae98_model.pt --start_at_dx_100 --start_noise_days --start_noise_len 20 --test --test_data_dir //vacrrdevmavdi01.vha.med.va.gov/MAVDEV1/Fillmore_Cancer/cat/Users/data_from_vinci/dvt_cancer_20230613/data_for_tf_model/processed/Phe_Lab/subgroup/nw --time_embed_dim 64 --time_seq_cos --train_batch_size 256 --tuning_metric 3day_auroc_c --use_age_embed --use_dxtime_embed --use_index_embed --use_time_embed --weight_decay 0.001 --log_name=41877e465a8a64e2707976ed3aae1445 --log_dir=logs_transformer_vte/subgroup/nw\n"
     ]
    }
   ],
   "source": [
    "%run src/scripts/schedulers/expr_dispatcher.py --experiment-config-path src/configs/subgroup/Test_NW.json"
   ]
  },
  {
   "cell_type": "code",
   "execution_count": 4,
   "id": "b519557f-acc0-4ff3-b1a8-1fa61a66cceb",
   "metadata": {
    "tags": []
   },
   "outputs": [
    {
     "name": "stdout",
     "output_type": "stream",
     "text": [
      "args: Namespace(experiment_config_path='src/configs/subgroup/Test_Old.json', force_rerun=False, force_evaluate=False)\n",
      "python src/scripts/main.py  --add_bmi_neuron --add_race_neuron --add_sex_neuron --ageseq_event --class_bal --code_to_index_file snapshot_vte/L/6b02b938c500e525ae4a9b38797dae98.code_map --device cpu --disease_code_system phe_lab --dxseq_cos --epochs 1 --eval_auprc --eval_auroc --eval_batch_size 128 --filter_max_len --hidden_dim 64 --indseq_cos --init_lr 0.00125 --log_dir logs_transformer_vte/subgroup/old --lr_decay 0.3 --max_batches_per_dev_epoch 1000 --max_batches_per_train_epoch 2000 --max_days_before_index 1000 --max_eval_indices 1 --max_events_length 800 --max_year_before_index 4 --model_dir snapshot_vte/L --model_name transformer --month_endpoints 3 --num_heads 1 --num_layers 8 --num_workers 0 --optimizer adam --pad_size 400 --pool_name Softmax_AttentionPool --snapshot snapshot_vte/L/model_6b02b938c500e525ae4a9b38797dae98_model.pt --start_at_dx_100 --start_noise_days --start_noise_len 20 --test --test_data_dir //vacrrdevmavdi01.vha.med.va.gov/MAVDEV1/Fillmore_Cancer/cat/Users/data_from_vinci/dvt_cancer_20230613/data_for_tf_model/processed/Phe_Lab/subgroup/old --time_embed_dim 64 --time_seq_cos --train_batch_size 256 --tuning_metric 3day_auroc_c --use_age_embed --use_dxtime_embed --use_index_embed --use_time_embed --weight_decay 0.001 --log_name=e5a98c0c644813e1c9960e210ffe9df4 --log_dir=logs_transformer_vte/subgroup/old\n"
     ]
    }
   ],
   "source": [
    "%run src/scripts/schedulers/expr_dispatcher.py --experiment-config-path src/configs/subgroup/Test_Old.json"
   ]
  },
  {
   "cell_type": "code",
   "execution_count": 5,
   "id": "787e766b-0adb-4190-80b1-7c947330605a",
   "metadata": {
    "tags": []
   },
   "outputs": [
    {
     "name": "stdout",
     "output_type": "stream",
     "text": [
      "args: Namespace(experiment_config_path='src/configs/subgroup/Test_Young.json', force_rerun=False, force_evaluate=False)\n",
      "python src/scripts/main.py  --add_bmi_neuron --add_race_neuron --add_sex_neuron --ageseq_event --class_bal --code_to_index_file snapshot_vte/L/6b02b938c500e525ae4a9b38797dae98.code_map --device cpu --disease_code_system phe_lab --dxseq_cos --epochs 1 --eval_auprc --eval_auroc --eval_batch_size 128 --filter_max_len --hidden_dim 64 --indseq_cos --init_lr 0.00125 --log_dir logs_transformer_vte/subgroup/young --lr_decay 0.3 --max_batches_per_dev_epoch 1000 --max_batches_per_train_epoch 2000 --max_days_before_index 1000 --max_eval_indices 1 --max_events_length 800 --max_year_before_index 4 --model_dir snapshot_vte/L --model_name transformer --month_endpoints 3 --num_heads 1 --num_layers 8 --num_workers 0 --optimizer adam --pad_size 400 --pool_name Softmax_AttentionPool --snapshot snapshot_vte/L/model_6b02b938c500e525ae4a9b38797dae98_model.pt --start_at_dx_100 --start_noise_days --start_noise_len 20 --test --test_data_dir //vacrrdevmavdi01.vha.med.va.gov/MAVDEV1/Fillmore_Cancer/cat/Users/data_from_vinci/dvt_cancer_20230613/data_for_tf_model/processed/Phe_Lab/subgroup/young --time_embed_dim 64 --time_seq_cos --train_batch_size 256 --tuning_metric 3day_auroc_c --use_age_embed --use_dxtime_embed --use_index_embed --use_time_embed --weight_decay 0.001 --log_name=c4ecf8f9d475de7c3d568942ad8b0dbb --log_dir=logs_transformer_vte/subgroup/young\n"
     ]
    }
   ],
   "source": [
    "%run src/scripts/schedulers/expr_dispatcher.py --experiment-config-path src/configs/subgroup/Test_Young.json"
   ]
  },
  {
   "cell_type": "code",
   "execution_count": 6,
   "id": "9356e8ae-2812-4ae7-a0b4-45dbe42ac1c3",
   "metadata": {
    "tags": []
   },
   "outputs": [
    {
     "name": "stdout",
     "output_type": "stream",
     "text": [
      "args: Namespace(experiment_config_path='src/configs/subgroup/Test_White.json', force_rerun=False, force_evaluate=False)\n",
      "python src/scripts/main.py  --add_bmi_neuron --add_race_neuron --add_sex_neuron --ageseq_event --class_bal --code_to_index_file snapshot_vte/L/6b02b938c500e525ae4a9b38797dae98.code_map --device cpu --disease_code_system phe_lab --dxseq_cos --epochs 1 --eval_auprc --eval_auroc --eval_batch_size 128 --filter_max_len --hidden_dim 64 --indseq_cos --init_lr 0.00125 --log_dir logs_transformer_vte/subgroup/white --lr_decay 0.3 --max_batches_per_dev_epoch 1000 --max_batches_per_train_epoch 2000 --max_days_before_index 1000 --max_eval_indices 1 --max_events_length 800 --max_year_before_index 4 --model_dir snapshot_vte/L --model_name transformer --month_endpoints 3 --num_heads 1 --num_layers 8 --num_workers 0 --optimizer adam --pad_size 400 --pool_name Softmax_AttentionPool --snapshot snapshot_vte/L/model_6b02b938c500e525ae4a9b38797dae98_model.pt --start_at_dx_100 --start_noise_days --start_noise_len 20 --test --test_data_dir //vacrrdevmavdi01.vha.med.va.gov/MAVDEV1/Fillmore_Cancer/cat/Users/data_from_vinci/dvt_cancer_20230613/data_for_tf_model/processed/Phe_Lab/subgroup/white --time_embed_dim 64 --time_seq_cos --train_batch_size 256 --tuning_metric 3day_auroc_c --use_age_embed --use_dxtime_embed --use_index_embed --use_time_embed --weight_decay 0.001 --log_name=d530e6721b5d8f61f6ae504d6adc3146 --log_dir=logs_transformer_vte/subgroup/white\n"
     ]
    }
   ],
   "source": [
    "%run src/scripts/schedulers/expr_dispatcher.py --experiment-config-path src/configs/subgroup/Test_White.json"
   ]
  },
  {
   "cell_type": "code",
   "execution_count": 8,
   "id": "4b1fd063-6823-443f-b368-b63d766759b7",
   "metadata": {
    "tags": []
   },
   "outputs": [
    {
     "name": "stdout",
     "output_type": "stream",
     "text": [
      "args: Namespace(experiment_config_path='src/configs/subgroup/Test_Male.json', force_rerun=False, force_evaluate=False)\n",
      "python src/scripts/main.py  --add_bmi_neuron --add_race_neuron --add_sex_neuron --ageseq_event --class_bal --code_to_index_file snapshot_vte/L/6b02b938c500e525ae4a9b38797dae98.code_map --device cpu --disease_code_system phe_lab --dxseq_cos --epochs 1 --eval_auprc --eval_auroc --eval_batch_size 128 --filter_max_len --hidden_dim 64 --indseq_cos --init_lr 0.00125 --log_dir logs_transformer_vte/subgroup/male --lr_decay 0.3 --max_batches_per_dev_epoch 1000 --max_batches_per_train_epoch 2000 --max_days_before_index 1000 --max_eval_indices 1 --max_events_length 800 --max_year_before_index 4 --model_dir snapshot_vte/L --model_name transformer --month_endpoints 3 --num_heads 1 --num_layers 8 --num_workers 0 --optimizer adam --pad_size 400 --pool_name Softmax_AttentionPool --snapshot snapshot_vte/L/model_6b02b938c500e525ae4a9b38797dae98_model.pt --start_at_dx_100 --start_noise_days --start_noise_len 20 --test --test_data_dir //vacrrdevmavdi01.vha.med.va.gov/MAVDEV1/Fillmore_Cancer/cat/Users/data_from_vinci/dvt_cancer_20230613/data_for_tf_model/processed/Phe_Lab/subgroup/male --time_embed_dim 64 --time_seq_cos --train_batch_size 256 --tuning_metric 3day_auroc_c --use_age_embed --use_dxtime_embed --use_index_embed --use_time_embed --weight_decay 0.001 --log_name=eb49ce570626a4086dadfbf358ce95d9 --log_dir=logs_transformer_vte/subgroup/male\n"
     ]
    }
   ],
   "source": [
    "%run src/scripts/schedulers/expr_dispatcher.py --experiment-config-path src/configs/subgroup/Test_Male.json"
   ]
  },
  {
   "cell_type": "code",
   "execution_count": null,
   "id": "46141810-68ae-48d4-ac98-6cebb7835be2",
   "metadata": {},
   "outputs": [],
   "source": []
  }
 ],
 "metadata": {
  "kernelspec": {
   "display_name": "Python 3 (ipykernel)",
   "language": "python",
   "name": "python3"
  },
  "language_info": {
   "codemirror_mode": {
    "name": "ipython",
    "version": 3
   },
   "file_extension": ".py",
   "mimetype": "text/x-python",
   "name": "python",
   "nbconvert_exporter": "python",
   "pygments_lexer": "ipython3",
   "version": "3.11.5"
  }
 },
 "nbformat": 4,
 "nbformat_minor": 5
}
