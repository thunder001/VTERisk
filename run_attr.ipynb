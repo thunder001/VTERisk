{
 "cells": [
  {
   "cell_type": "code",
   "execution_count": 1,
   "id": "1e128ba3-589b-4510-aa18-df7d8772c68b",
   "metadata": {
    "tags": []
   },
   "outputs": [],
   "source": [
    "import pandas as pd\n",
    "import random\n",
    "import os\n",
    "import json\n",
    "import gc\n",
    "import datetime\n",
    "import copy\n"
   ]
  },
  {
   "cell_type": "code",
   "execution_count": 36,
   "id": "617ddb2a-b130-48fc-aec8-5f27cbd189af",
   "metadata": {
    "tags": []
   },
   "outputs": [
    {
     "name": "stdout",
     "output_type": "stream",
     "text": [
      "args: Namespace(experiment_config_path='src/configs/Attr_4I/negAttr_tot.json', force_rerun=False, force_evaluate=False)\n",
      "python src/scripts/main.py  --Interval all_nobal --add_bmi_neuron --add_race_neuron --add_sex_neuron --ageseq_event --attribute --code_to_index_file snapshot_vte/L/6b02b938c500e525ae4a9b38797dae98.code_map --cuda --device cuda:1 --disease_code_system phe_lab --epochs 5 --eval_auprc --eval_auroc --eval_batch_size 128 --filter_max_len --hidden_dim 64 --init_lr 0.00123 --log_dir logs_transformer_vte/L/Attr_2_25 --lr_decay 0.3 --max_batches_per_dev_epoch 1000 --max_batches_per_train_epoch 2000 --max_days_before_index 1000 --max_eval_indices 1 --max_events_length 800 --max_year_before_index 4 --model_dir snapshot_vte/L --model_name transformer --month_endpoints 3 --neg_attribute --num_heads 8 --num_layers 1 --num_workers 0 --optimizer adam --pad_size 400 --pool_name Softmax_AttentionPool --snapshot snapshot_vte/L/model_6b02b938c500e525ae4a9b38797dae98_model.pt --start_at_dx_100 --start_noise_days --start_noise_len 20 --test_data_dir //vacrrdevmavdi01.vha.med.va.gov/MAVDEV1/Fillmore_Cancer/cat/Users/data_from_vinci/dvt_cancer_20230613/data_for_tf_model/processed/Phe_Lab/test/ --time_embed_dim 64 --train_batch_size 256 --tuning_metric 3day_auroc_c --use_age_embed --use_dxtime_embed --use_index_embed --use_time_embed --weight_decay 0.001 --log_name=f5f93dae79f34ed3aa6d737da90c5bb3 --log_dir=logs_transformer_vte/L/Attr_2_25\n"
     ]
    }
   ],
   "source": [
    "%run src/scripts/schedulers/expr_dispatcher.py --experiment-config-path src/configs/Attr_4I/negAttr_tot.json"
   ]
  },
  {
   "cell_type": "code",
   "execution_count": 42,
   "id": "a012216c-1a48-4783-80ad-426a6a034b51",
   "metadata": {
    "tags": []
   },
   "outputs": [
    {
     "name": "stdout",
     "output_type": "stream",
     "text": [
      "args: Namespace(experiment_config_path='src/configs/Attr_4I/negAttr_I1.json', force_rerun=False, force_evaluate=False)\n",
      "python src/scripts/main.py  --Interval cpu1 --add_bmi_neuron --add_race_neuron --add_sex_neuron --ageseq_event --attribute --code_to_index_file snapshot_vte/L/6b02b938c500e525ae4a9b38797dae98.code_map --device cpu --disease_code_system phe_lab --epochs 3 --eval_auprc --eval_auroc --eval_batch_size 128 --filter_max_len --hidden_dim 64 --init_lr 0.00125 --log_dir logs_transformer_vte/L/Attr_2_18 --lr_decay 0.3 --max_batches_per_dev_epoch 1000 --max_batches_per_train_epoch 2000 --max_days_before_index 1000 --max_eval_indices 1 --max_events_length 800 --max_year_before_index 4 --model_dir snapshot_vte/L --model_name transformer --month_endpoints 3 --neg_attribute --num_heads 8 --num_layers 1 --num_workers 0 --optimizer adam --pad_size 400 --pool_name Softmax_AttentionPool --snapshot snapshot_vte/L/model_6b02b938c500e525ae4a9b38797dae98_model.pt --start_at_dx_100 --start_noise_days --start_noise_len 20 --test_data_dir //vacrrdevmavdi01.vha.med.va.gov/MAVDEV1/Fillmore_Cancer/cat/Users/data_from_vinci/dvt_cancer_20230613/data_for_tf_model/processed/Attr_Test/I1 --time_embed_dim 64 --train_batch_size 256 --tuning_metric 3day_auroc_c --use_age_embed --use_dxtime_embed --use_index_embed --use_time_embed --weight_decay 0.001 --log_name=50cc7067ee9f470b376eac878f69ac45 --log_dir=logs_transformer_vte/L/Attr_2_18\n"
     ]
    }
   ],
   "source": [
    "%run src/scripts/schedulers/expr_dispatcher.py --experiment-config-path src/configs/Attr_4I/negAttr_I1.json"
   ]
  },
  {
   "cell_type": "code",
   "execution_count": 43,
   "id": "8efdad0f-f56c-4b18-a0e0-5394fb2d2df4",
   "metadata": {
    "tags": []
   },
   "outputs": [
    {
     "name": "stdout",
     "output_type": "stream",
     "text": [
      "args: Namespace(experiment_config_path='src/configs/Attr_4I/negAttr_I2.json', force_rerun=False, force_evaluate=False)\n",
      "python src/scripts/main.py  --Interval cpu2 --add_bmi_neuron --add_race_neuron --add_sex_neuron --ageseq_event --attribute --code_to_index_file snapshot_vte/L/6b02b938c500e525ae4a9b38797dae98.code_map --device cpu --disease_code_system phe_lab --epochs 3 --eval_auprc --eval_auroc --eval_batch_size 128 --filter_max_len --hidden_dim 64 --init_lr 0.00123 --log_dir logs_transformer_vte/L/Attr_2_25 --lr_decay 0.3 --max_batches_per_dev_epoch 1000 --max_batches_per_train_epoch 2000 --max_days_before_index 1000 --max_eval_indices 1 --max_events_length 800 --max_year_before_index 4 --model_dir snapshot_vte/L --model_name transformer --month_endpoints 3 --neg_attribute --num_heads 8 --num_layers 1 --num_workers 0 --optimizer adam --pad_size 400 --pool_name Softmax_AttentionPool --snapshot snapshot_vte/L/model_6b02b938c500e525ae4a9b38797dae98_model.pt --start_at_dx_100 --start_noise_days --start_noise_len 20 --test_data_dir //vacrrdevmavdi01.vha.med.va.gov/MAVDEV1/Fillmore_Cancer/cat/Users/data_from_vinci/dvt_cancer_20230613/data_for_tf_model/processed/Attr_Test/I2 --time_embed_dim 64 --train_batch_size 256 --tuning_metric 3day_auroc_c --use_age_embed --use_dxtime_embed --use_index_embed --use_time_embed --weight_decay 0.001 --log_name=2b95f1ea7988fa67308da98bdefaf5d7 --log_dir=logs_transformer_vte/L/Attr_2_25\n"
     ]
    }
   ],
   "source": [
    "%run src/scripts/schedulers/expr_dispatcher.py --experiment-config-path src/configs/Attr_4I/negAttr_I2.json"
   ]
  },
  {
   "cell_type": "code",
   "execution_count": 44,
   "id": "c5e6e833-e971-4371-87ef-bfd4ed6859f1",
   "metadata": {
    "tags": []
   },
   "outputs": [
    {
     "name": "stdout",
     "output_type": "stream",
     "text": [
      "args: Namespace(experiment_config_path='src/configs/Attr_4I/negAttr_I3.json', force_rerun=False, force_evaluate=False)\n",
      "python src/scripts/main.py  --Interval cpu3 --add_bmi_neuron --add_race_neuron --add_sex_neuron --ageseq_event --attribute --code_to_index_file snapshot_vte/L/6b02b938c500e525ae4a9b38797dae98.code_map --device cpu --disease_code_system phe_lab --epochs 4 --eval_auprc --eval_auroc --eval_batch_size 128 --filter_max_len --hidden_dim 64 --init_lr 0.00123 --log_dir logs_transformer_vte/L/Attr_2_13 --lr_decay 0.3 --max_batches_per_dev_epoch 1000 --max_batches_per_train_epoch 2000 --max_days_before_index 1000 --max_eval_indices 1 --max_events_length 800 --max_year_before_index 4 --model_dir snapshot_vte/L --model_name transformer --month_endpoints 3 --neg_attribute --num_heads 8 --num_layers 1 --num_workers 0 --optimizer adam --pad_size 400 --pool_name Softmax_AttentionPool --snapshot snapshot_vte/L/model_6b02b938c500e525ae4a9b38797dae98_model.pt --start_at_dx_100 --start_noise_days --start_noise_len 20 --test_data_dir //vacrrdevmavdi01.vha.med.va.gov/MAVDEV1/Fillmore_Cancer/cat/Users/data_from_vinci/dvt_cancer_20230613/data_for_tf_model/processed/Attr_Test/I3 --time_embed_dim 64 --train_batch_size 256 --tuning_metric 3day_auroc_c --use_age_embed --use_dxtime_embed --use_index_embed --use_time_embed --weight_decay 0.001 --log_name=f2ffd8adb65c1e4708f65607bf4793d7 --log_dir=logs_transformer_vte/L/Attr_2_13\n"
     ]
    }
   ],
   "source": [
    "%run src/scripts/schedulers/expr_dispatcher.py --experiment-config-path src/configs/Attr_4I/negAttr_I3.json"
   ]
  },
  {
   "cell_type": "code",
   "execution_count": 45,
   "id": "1f94c68c-0d35-4976-a5c7-dba30d0e53b8",
   "metadata": {
    "tags": []
   },
   "outputs": [
    {
     "name": "stdout",
     "output_type": "stream",
     "text": [
      "args: Namespace(experiment_config_path='src/configs/Attr_4I/negAttr_I4.json', force_rerun=False, force_evaluate=False)\n",
      "python src/scripts/main.py  --Interval cpu4 --add_bmi_neuron --add_race_neuron --add_sex_neuron --ageseq_event --attribute --code_to_index_file snapshot_vte/L/6b02b938c500e525ae4a9b38797dae98.code_map --device cpu --disease_code_system phe_lab --epochs 3 --eval_auprc --eval_auroc --eval_batch_size 128 --filter_max_len --hidden_dim 64 --init_lr 0.00124 --log_dir logs_transformer_vte/L/Attr_2_13 --lr_decay 0.3 --max_batches_per_dev_epoch 1000 --max_batches_per_train_epoch 2000 --max_days_before_index 1000 --max_eval_indices 1 --max_events_length 800 --max_year_before_index 4 --model_dir snapshot_vte/L --model_name transformer --month_endpoints 3 --neg_attribute --num_heads 8 --num_layers 1 --num_workers 0 --optimizer adam --pad_size 400 --pool_name Softmax_AttentionPool --snapshot snapshot_vte/L/model_6b02b938c500e525ae4a9b38797dae98_model.pt --start_at_dx_100 --start_noise_days --start_noise_len 20 --test_data_dir //vacrrdevmavdi01.vha.med.va.gov/MAVDEV1/Fillmore_Cancer/cat/Users/data_from_vinci/dvt_cancer_20230613/data_for_tf_model/processed/Attr_Test/I4 --time_embed_dim 64 --train_batch_size 256 --tuning_metric 3day_auroc_c --use_age_embed --use_dxtime_embed --use_index_embed --use_time_embed --weight_decay 0.001 --log_name=2e6bda538ec30df8dce9262b90e074f8 --log_dir=logs_transformer_vte/L/Attr_2_13\n"
     ]
    }
   ],
   "source": [
    "%run src/scripts/schedulers/expr_dispatcher.py --experiment-config-path src/configs/Attr_4I/negAttr_I4.json"
   ]
  },
  {
   "cell_type": "code",
   "execution_count": 6,
   "id": "bf516394-74da-428f-bf6c-ced6e779d551",
   "metadata": {
    "tags": []
   },
   "outputs": [
    {
     "name": "stdout",
     "output_type": "stream",
     "text": [
      "args: Namespace(experiment_config_path='src/configs/Attr_4I/All_VTE/I1.json', force_rerun=False, force_evaluate=False)\n",
      "python src/scripts/main.py  --Interval tot1cuda1 --add_bmi_neuron --add_race_neuron --add_sex_neuron --ageseq_event --attribute --code_to_index_file snapshot_vte/L/6b02b938c500e525ae4a9b38797dae98.code_map --cuda --device cuda:1 --disease_code_system phe_lab --epochs 5 --eval_auprc --eval_auroc --eval_batch_size 128 --filter_max_len --hidden_dim 64 --init_lr 0.00125 --log_dir logs_transformer_vte/L/Attr_2_13 --lr_decay 0.3 --max_batches_per_dev_epoch 1000 --max_batches_per_train_epoch 2000 --max_days_before_index 1000 --max_eval_indices 1 --max_events_length 800 --max_year_before_index 4 --model_dir snapshot_vte/L --model_name transformer --month_endpoints 3 --num_heads 8 --num_layers 1 --num_workers 0 --optimizer adam --pad_size 400 --pool_name Softmax_AttentionPool --snapshot snapshot_vte/L/model_6b02b938c500e525ae4a9b38797dae98_model.pt --start_at_dx_100 --start_noise_days --start_noise_len 20 --test_data_dir //vacrrdevmavdi01.vha.med.va.gov/MAVDEV1/Fillmore_Cancer/cat/Users/data_from_vinci/dvt_cancer_20230613/data_for_tf_model/processed/Attr_Test/Total_Pos/IT1 --time_embed_dim 64 --train_batch_size 256 --tuning_metric 3day_auroc_c --use_age_embed --use_dxtime_embed --use_index_embed --use_time_embed --weight_decay 0.001 --log_name=fbe6205f55bb874fddad63b2edc2e336 --log_dir=logs_transformer_vte/L/Attr_2_13\n"
     ]
    }
   ],
   "source": [
    "%run src/scripts/schedulers/expr_dispatcher.py --experiment-config-path src/configs/Attr_4I/All_VTE/I1.json"
   ]
  },
  {
   "cell_type": "code",
   "execution_count": 7,
   "id": "8b0c5136-8f07-4e78-b679-2852032b6185",
   "metadata": {
    "tags": []
   },
   "outputs": [
    {
     "name": "stdout",
     "output_type": "stream",
     "text": [
      "args: Namespace(experiment_config_path='src/configs/Attr_4I/All_VTE/I2.json', force_rerun=False, force_evaluate=False)\n",
      "python src/scripts/main.py  --Interval tot2cuda1 --add_bmi_neuron --add_race_neuron --add_sex_neuron --ageseq_event --attribute --code_to_index_file snapshot_vte/L/6b02b938c500e525ae4a9b38797dae98.code_map --cuda --device cuda:1 --disease_code_system phe_lab --epochs 10 --eval_auprc --eval_auroc --eval_batch_size 128 --filter_max_len --hidden_dim 64 --init_lr 0.00125 --log_dir logs_transformer_vte/L/Attr_2_13 --lr_decay 0.3 --max_batches_per_dev_epoch 1000 --max_batches_per_train_epoch 2000 --max_days_before_index 1000 --max_eval_indices 1 --max_events_length 800 --max_year_before_index 4 --model_dir snapshot_vte/L --model_name transformer --month_endpoints 3 --num_heads 8 --num_layers 1 --num_workers 0 --optimizer adam --pad_size 400 --pool_name Softmax_AttentionPool --snapshot snapshot_vte/L/model_6b02b938c500e525ae4a9b38797dae98_model.pt --start_at_dx_100 --start_noise_days --start_noise_len 20 --test_data_dir //vacrrdevmavdi01.vha.med.va.gov/MAVDEV1/Fillmore_Cancer/cat/Users/data_from_vinci/dvt_cancer_20230613/data_for_tf_model/processed/Attr_Test/Total_Pos/IT2 --time_embed_dim 64 --train_batch_size 256 --tuning_metric 3day_auroc_c --use_age_embed --use_dxtime_embed --use_index_embed --use_time_embed --weight_decay 0.001 --log_name=3618d27f3139d962319b61ac0648b562 --log_dir=logs_transformer_vte/L/Attr_2_13\n"
     ]
    }
   ],
   "source": [
    "%run src/scripts/schedulers/expr_dispatcher.py --experiment-config-path src/configs/Attr_4I/All_VTE/I2.json"
   ]
  },
  {
   "cell_type": "code",
   "execution_count": 8,
   "id": "3334a2ce-15a4-4723-acd1-0bbd647b73d6",
   "metadata": {
    "tags": []
   },
   "outputs": [
    {
     "name": "stdout",
     "output_type": "stream",
     "text": [
      "args: Namespace(experiment_config_path='src/configs/Attr_4I/All_VTE/I3.json', force_rerun=False, force_evaluate=False)\n",
      "python src/scripts/main.py  --Interval tot3cuda1 --add_bmi_neuron --add_race_neuron --add_sex_neuron --ageseq_event --attribute --code_to_index_file snapshot_vte/L/6b02b938c500e525ae4a9b38797dae98.code_map --cuda --device cuda:1 --disease_code_system phe_lab --epochs 10 --eval_auprc --eval_auroc --eval_batch_size 128 --filter_max_len --hidden_dim 64 --init_lr 0.00125 --log_dir logs_transformer_vte/L/Attr_2_13 --lr_decay 0.3 --max_batches_per_dev_epoch 1000 --max_batches_per_train_epoch 2000 --max_days_before_index 1000 --max_eval_indices 1 --max_events_length 800 --max_year_before_index 4 --model_dir snapshot_vte/L --model_name transformer --month_endpoints 3 --num_heads 8 --num_layers 1 --num_workers 0 --optimizer adam --pad_size 400 --pool_name Softmax_AttentionPool --snapshot snapshot_vte/L/model_6b02b938c500e525ae4a9b38797dae98_model.pt --start_at_dx_100 --start_noise_days --start_noise_len 20 --test_data_dir //vacrrdevmavdi01.vha.med.va.gov/MAVDEV1/Fillmore_Cancer/cat/Users/data_from_vinci/dvt_cancer_20230613/data_for_tf_model/processed/Attr_Test/Total_Pos/IT3 --time_embed_dim 64 --train_batch_size 256 --tuning_metric 3day_auroc_c --use_age_embed --use_dxtime_embed --use_index_embed --use_time_embed --weight_decay 0.001 --log_name=ad18ca9131fa8005934f89321a8e56f7 --log_dir=logs_transformer_vte/L/Attr_2_13\n"
     ]
    }
   ],
   "source": [
    "%run src/scripts/schedulers/expr_dispatcher.py --experiment-config-path src/configs/Attr_4I/All_VTE/I3.json"
   ]
  },
  {
   "cell_type": "code",
   "execution_count": 9,
   "id": "f696c9a8-c175-4a25-844b-022f7ace8f8a",
   "metadata": {
    "tags": []
   },
   "outputs": [
    {
     "name": "stdout",
     "output_type": "stream",
     "text": [
      "args: Namespace(experiment_config_path='src/configs/Attr_4I/All_VTE/I4.json', force_rerun=False, force_evaluate=False)\n",
      "python src/scripts/main.py  --Interval tot4cuda1 --add_bmi_neuron --add_race_neuron --add_sex_neuron --ageseq_event --attribute --code_to_index_file snapshot_vte/L/6b02b938c500e525ae4a9b38797dae98.code_map --cuda --device cuda:1 --disease_code_system phe_lab --epochs 10 --eval_auprc --eval_auroc --eval_batch_size 128 --filter_max_len --hidden_dim 64 --init_lr 0.00125 --log_dir logs_transformer_vte/L/Attr_2_13 --lr_decay 0.3 --max_batches_per_dev_epoch 1000 --max_batches_per_train_epoch 2000 --max_days_before_index 1000 --max_eval_indices 1 --max_events_length 800 --max_year_before_index 4 --model_dir snapshot_vte/L --model_name transformer --month_endpoints 3 --num_heads 8 --num_layers 1 --num_workers 0 --optimizer adam --pad_size 400 --pool_name Softmax_AttentionPool --snapshot snapshot_vte/L/model_6b02b938c500e525ae4a9b38797dae98_model.pt --start_at_dx_100 --start_noise_days --start_noise_len 20 --test_data_dir //vacrrdevmavdi01.vha.med.va.gov/MAVDEV1/Fillmore_Cancer/cat/Users/data_from_vinci/dvt_cancer_20230613/data_for_tf_model/processed/Attr_Test/Total_Pos/IT4 --time_embed_dim 64 --train_batch_size 256 --tuning_metric 3day_auroc_c --use_age_embed --use_dxtime_embed --use_index_embed --use_time_embed --weight_decay 0.001 --log_name=9c0474830736c625352f0897803757e3 --log_dir=logs_transformer_vte/L/Attr_2_13\n"
     ]
    }
   ],
   "source": [
    "%run src/scripts/schedulers/expr_dispatcher.py --experiment-config-path src/configs/Attr_4I/All_VTE/I4.json"
   ]
  },
  {
   "cell_type": "code",
   "execution_count": null,
   "id": "2b143804-9e97-49a5-a2f7-127d2ace1243",
   "metadata": {},
   "outputs": [],
   "source": []
  },
  {
   "cell_type": "code",
   "execution_count": null,
   "id": "f8b83b52-ec6d-440e-8f79-3bc0fc29acad",
   "metadata": {},
   "outputs": [],
   "source": []
  },
  {
   "cell_type": "code",
   "execution_count": null,
   "id": "4e4654e0-6c01-4ea3-ae53-6202acbc29fe",
   "metadata": {},
   "outputs": [],
   "source": []
  },
  {
   "cell_type": "code",
   "execution_count": null,
   "id": "d0c17338-8ed6-42ef-8107-a6f81f306a03",
   "metadata": {},
   "outputs": [],
   "source": []
  },
  {
   "cell_type": "code",
   "execution_count": 17,
   "id": "80e56867-9faa-4a91-88d7-e006f510c59e",
   "metadata": {
    "tags": []
   },
   "outputs": [
    {
     "name": "stdout",
     "output_type": "stream",
     "text": [
      "args: Namespace(experiment_config_path='src/configs/Attr_4I/Attr_2_13_I2.json', force_rerun=False, force_evaluate=False)\n",
      "python src/scripts/main.py  --Interval 2 --add_bmi_neuron --add_race_neuron --add_sex_neuron --ageseq_event --attribute --class_bal --code_to_index_file snapshot_vte/L/6b02b938c500e525ae4a9b38797dae98.code_map --device cpu --disease_code_system phe_lab --epochs 5 --eval_auprc --eval_auroc --eval_batch_size 128 --filter_max_len --hidden_dim 64 --init_lr 0.00125 --log_dir logs_transformer_vte/L/Attr_2_13 --lr_decay 0.3 --max_batches_per_dev_epoch 1000 --max_batches_per_train_epoch 2000 --max_days_before_index 1000 --max_eval_indices 1 --max_events_length 800 --max_year_before_index 4 --model_dir snapshot_vte/L --model_name transformer --month_endpoints 3 --num_heads 8 --num_layers 1 --num_workers 0 --optimizer adam --pad_size 400 --pool_name Softmax_AttentionPool --snapshot snapshot_vte/L/model_6b02b938c500e525ae4a9b38797dae98_model.pt --start_at_dx_100 --start_noise_days --start_noise_len 20 --test_data_dir //vacrrdevmavdi01.vha.med.va.gov/MAVDEV1/Fillmore_Cancer/cat/Users/data_from_vinci/dvt_cancer_20230613/data_for_tf_model/processed/Attr_Test/I2 --time_embed_dim 64 --train_batch_size 256 --tuning_metric 3day_auroc_c --use_age_embed --use_dxtime_embed --use_index_embed --use_time_embed --weight_decay 0.001 --log_name=7e079d0b5e77c27614324ddee716c22f --log_dir=logs_transformer_vte/L/Attr_2_13\n"
     ]
    }
   ],
   "source": [
    "%run src/scripts/schedulers/expr_dispatcher.py --experiment-config-path src/configs/Attr_4I/Attr_2_13_I2.json"
   ]
  },
  {
   "cell_type": "code",
   "execution_count": null,
   "id": "6af7797d-86b9-4412-a7c9-febcbedfbb11",
   "metadata": {
    "tags": []
   },
   "outputs": [],
   "source": [
    "%run src/scripts/schedulers/expr_dispatcher.py --experiment-config-path src/configs/Attr_4I/Attr_2_13_I4.json"
   ]
  },
  {
   "cell_type": "code",
   "execution_count": 6,
   "id": "de0c9e39-e8e1-46e9-9cf0-8382ce9f2139",
   "metadata": {},
   "outputs": [
    {
     "name": "stdout",
     "output_type": "stream",
     "text": [
      "args: Namespace(experiment_config_path='src/configs/Attr/Attr_1_27.json', force_rerun=False, force_evaluate=False)\n",
      "python src/scripts/main.py  --add_bmi_neuron --add_race_neuron --add_sex_neuron --ageseq_event --attribute --class_bal --code_to_index_file snapshot_vte/L/6b02b938c500e525ae4a9b38797dae98.code_map --device cpu --disease_code_system phe_lab --epochs 2 --eval_auprc --eval_auroc --eval_batch_size 128 --filter_max_len --hidden_dim 64 --init_lr 0.00125 --log_dir logs_transformer_vte/L/Attr_1_27 --lr_decay 0.3 --max_batches_per_dev_epoch 1000 --max_batches_per_train_epoch 2000 --max_days_before_index 1000 --max_eval_indices 1 --max_events_length 800 --max_year_before_index 4 --model_dir snapshot_vte/L --model_name transformer --month_endpoints 3 --num_heads 8 --num_layers 1 --num_workers 0 --optimizer adam --pad_size 400 --pool_name Softmax_AttentionPool --snapshot snapshot_vte/L/model_6b02b938c500e525ae4a9b38797dae98_model.pt --start_at_dx_100 --start_noise_days --start_noise_len 20 --test_data_dir //vacrrdevmavdi01.vha.med.va.gov/MAVDEV1/Fillmore_Cancer/cat/Users/data_from_vinci/dvt_cancer_20230613/data_for_tf_model/processed/Phe_Lab/test --time_embed_dim 64 --train_batch_size 256 --tuning_metric 3day_auroc_c --use_age_embed --use_dxtime_embed --use_index_embed --use_time_embed --weight_decay 0.001 --log_name=3d6bbae9c8b17c370fa9c01cf7cd477a --log_dir=logs_transformer_vte/L/Attr_1_27\n"
     ]
    }
   ],
   "source": [
    "%run src/scripts/schedulers/expr_dispatcher.py --experiment-config-path src/configs/Attr/Attr_1_27.json"
   ]
  },
  {
   "cell_type": "code",
   "execution_count": 9,
   "id": "a481e493-70f5-4706-9fde-3d826731fdf1",
   "metadata": {},
   "outputs": [
    {
     "name": "stdout",
     "output_type": "stream",
     "text": [
      "args: Namespace(experiment_config_path='src/configs/Attr/Attr_1_27_c.json', force_rerun=False, force_evaluate=False)\n",
      "python src/scripts/main.py  --add_bmi_neuron --add_race_neuron --add_sex_neuron --ageseq_event --attribute --class_bal --code_to_index_file snapshot_vte/L/6b02b938c500e525ae4a9b38797dae98.code_map --cuda --device cuda:1 --disease_code_system phe --epochs 1 --eval_auprc --eval_auroc --eval_batch_size 128 --filter_max_len --hidden_dim 64 --init_lr 0.00125 --log_dir logs_transformer_vte/L/Attr_1_27 --lr_decay 0.3 --max_batches_per_dev_epoch 1000 --max_batches_per_train_epoch 2000 --max_days_before_index 1000 --max_eval_indices 1 --max_events_length 800 --max_year_before_index 4 --model_dir snapshot_vte/L --model_name transformer --month_endpoints 3 --num_heads 8 --num_layers 1 --num_workers 0 --optimizer adam --pad_size 400 --pool_name Softmax_AttentionPool --snapshot snapshot_vte/L/model_6b02b938c500e525ae4a9b38797dae98_model.pt --start_at_dx_100 --start_noise_days --start_noise_len 20 --test_data_dir //vacrrdevmavdi01.vha.med.va.gov/MAVDEV1/Fillmore_Cancer/cat/Users/data_from_vinci/dvt_cancer_20230613/data_for_tf_model/processed/Phe_Lab/test --time_embed_dim 64 --train_batch_size 256 --train_log --tuning_metric 3day_auroc_c --use_age_embed --use_dxtime_embed --use_index_embed --use_time_embed --weight_decay 0.001 --log_name=529a773e8a5847bb779b27934cf07147 --log_dir=logs_transformer_vte/L/Attr_1_27\n"
     ]
    }
   ],
   "source": [
    "%run src/scripts/schedulers/expr_dispatcher.py --experiment-config-path src/configs/Attr/Attr_1_27_c.json"
   ]
  },
  {
   "cell_type": "code",
   "execution_count": 8,
   "id": "7cf6c2eb-e67f-4610-96d1-a4d05aa19277",
   "metadata": {},
   "outputs": [
    {
     "name": "stdout",
     "output_type": "stream",
     "text": [
      "args: Namespace(experiment_config_path='src/configs/Attr/Attr_1_24.json', force_rerun=False, force_evaluate=False)\n",
      "python src/scripts/main.py  --add_bmi_neuron --add_race_neuron --add_sex_neuron --ageseq_event --attribute --class_bal --code_to_index_file snapshot_vte/L/460ec44c0eb7951c4c4a0e5e3dfc4055.code_map --device cpu --disease_code_system phe_lab --epochs 2 --eval_auprc --eval_auroc --eval_batch_size 128 --filter_max_len --hidden_dim 64 --init_lr 0.00125 --log_dir logs_transformer_vte/L/Attr_1_24 --lr_decay 0.3 --max_batches_per_dev_epoch 1000 --max_batches_per_train_epoch 2000 --max_days_before_index 1000 --max_eval_indices 1 --max_events_length 800 --max_year_before_index 4 --model_dir snapshot_vte/L --model_name transformer --month_endpoints 3 --num_heads 8 --num_layers 1 --num_workers 0 --optimizer adam --pad_size 400 --pool_name Softmax_AttentionPool --snapshot snapshot_vte/L/model_460ec44c0eb7951c4c4a0e5e3dfc4055_model.pt --start_at_dx_100 --start_noise_days --start_noise_len 20 --test_data_dir //vacrrdevmavdi01.vha.med.va.gov/MAVDEV1/Fillmore_Cancer/cat/Users/data_from_vinci/dvt_cancer_20230613/data_for_tf_model/processed/Phe_Lab/test --time_embed_dim 64 --train_batch_size 256 --tuning_metric 3day_auroc_c --use_age_embed --use_dxtime_embed --use_index_embed --use_time_embed --weight_decay 0.001 --log_name=4dba797f2a9410df98b316921cd33d26 --log_dir=logs_transformer_vte/L/Attr_1_24\n"
     ]
    }
   ],
   "source": [
    "%run src/scripts/schedulers/expr_dispatcher.py --experiment-config-path src/configs/Attr/Attr_1_24.json"
   ]
  },
  {
   "cell_type": "code",
   "execution_count": null,
   "id": "53f0faaf-f881-4240-9c79-a8259bfbda00",
   "metadata": {},
   "outputs": [],
   "source": [
    "%run src/scripts/schedulers/expr_dispatcher.py --experiment-config-path src/configs/Phe_Lab/ResuF2_attr.json"
   ]
  },
  {
   "cell_type": "code",
   "execution_count": 8,
   "id": "e708446e-0086-40a9-8893-4689eca94306",
   "metadata": {
    "tags": []
   },
   "outputs": [
    {
     "name": "stdout",
     "output_type": "stream",
     "text": [
      "args: Namespace(experiment_config_path='src/configs/Phe/F2_Phe.json', force_rerun=False, force_evaluate=False)\n",
      "python src/scripts/main.py  --add_bmi_neuron --add_race_neuron --add_sex_neuron --ageseq_event --cuda --dev --dev_data_dir //vacrrdevmavdi01.vha.med.va.gov/MAVDEV1/Fillmore_Cancer/cat/Users/data_from_vinci/dvt_cancer_20230613/data_for_tf_model/processed/Phe_Lab/dev --device cuda:0 --disease_code_system phe --epochs 25 --eval_auprc --eval_auroc --eval_batch_size 64 --filter_max_len --hidden_dim 64 --init_lr 0.00125 --log_dir logs_transformer_vte/L/1_20 --lr_decay 0.3 --max_batches_per_dev_epoch 1000 --max_batches_per_train_epoch 2000 --max_days_before_index 720 --max_eval_indices 1 --max_events_length 400 --max_year_before_index 2 --model_dir snapshot_vte/L --model_name transformer --month_endpoints 3 --num_heads 8 --num_layers 1 --num_workers 0 --optimizer adam --pad_size 300 --pool_name Softmax_AttentionPool --start_at_dx --test --test_data_dir //vacrrdevmavdi01.vha.med.va.gov/MAVDEV1/Fillmore_Cancer/cat/Users/data_from_vinci/dvt_cancer_20230613/data_for_tf_model/processed/Phe_Lab/test --time_embed_dim 64 --train --train_batch_size 256 --train_data_dir //vacrrdevmavdi01.vha.med.va.gov/MAVDEV1/Fillmore_Cancer/cat/Users/data_from_vinci/dvt_cancer_20230613/data_for_tf_model/processed/Phe_Lab/train --tuning_metric 3day_auroc_c --use_time_embed --weight_decay 0.001 --log_name=bab974b38c6588e0f60f2931dd5a8e85 --log_dir=logs_transformer_vte/L/1_20\n",
      "ALERT! Existing results for the same config bab974b38c6588e0f60f2931dd5a8e85.\n"
     ]
    },
    {
     "ename": "SystemExit",
     "evalue": "1",
     "output_type": "error",
     "traceback": [
      "An exception has occurred, use %tb to see the full traceback.\n",
      "\u001b[1;31mSystemExit\u001b[0m\u001b[1;31m:\u001b[0m 1\n"
     ]
    }
   ],
   "source": [
    "%run src/scripts/schedulers/expr_dispatcher.py --experiment-config-path src/configs/Phe/F2_Phe.json"
   ]
  },
  {
   "cell_type": "code",
   "execution_count": 7,
   "id": "c58af162-c7b9-4a58-8969-5b6f478ca75c",
   "metadata": {
    "tags": []
   },
   "outputs": [
    {
     "name": "stdout",
     "output_type": "stream",
     "text": [
      "args: Namespace(experiment_config_path='src/configs/Phe_Lab/F2-agee.json', force_rerun=False, force_evaluate=False)\n",
      "python src/scripts/main.py  --add_bmi_neuron --add_race_neuron --add_sex_neuron --ageseq_event --cuda --dev --dev_data_dir //vacrrdevmavdi01.vha.med.va.gov/MAVDEV1/Fillmore_Cancer/cat/Users/data_from_vinci/dvt_cancer_20230613/data_for_tf_model/processed/Phe_Lab/dev --device cuda:0 --disease_code_system phe_lab --epochs 25 --eval_auprc --eval_auroc --eval_batch_size 64 --filter_max_len --hidden_dim 64 --init_lr 0.00125 --log_dir logs_transformer_vte/L/1_20 --lr_decay 0.3 --max_batches_per_dev_epoch 1000 --max_batches_per_train_epoch 2000 --max_days_before_index 720 --max_eval_indices 1 --max_events_length 400 --max_year_before_index 2 --model_dir snapshot_vte/L --model_name transformer --month_endpoints 3 --num_heads 8 --num_layers 1 --num_workers 0 --optimizer adam --pad_size 300 --pool_name Softmax_AttentionPool --start_at_dx --test --test_data_dir //vacrrdevmavdi01.vha.med.va.gov/MAVDEV1/Fillmore_Cancer/cat/Users/data_from_vinci/dvt_cancer_20230613/data_for_tf_model/processed/Phe_Lab/test --time_embed_dim 64 --train --train_batch_size 256 --train_data_dir //vacrrdevmavdi01.vha.med.va.gov/MAVDEV1/Fillmore_Cancer/cat/Users/data_from_vinci/dvt_cancer_20230613/data_for_tf_model/processed/Phe_Lab/train --tuning_metric 3day_auroc_c --use_age_embed --use_time_embed --weight_decay 0.001 --log_name=622929081d48f69fd6f3634a4d5e7112 --log_dir=logs_transformer_vte/L/1_20\n"
     ]
    }
   ],
   "source": [
    "%run src/scripts/schedulers/expr_dispatcher.py --experiment-config-path src/configs/Phe_Lab/F2-agee.json"
   ]
  },
  {
   "cell_type": "code",
   "execution_count": null,
   "id": "521551ad-6e48-45e3-8e66-73345e2ed99d",
   "metadata": {},
   "outputs": [],
   "source": []
  },
  {
   "cell_type": "code",
   "execution_count": null,
   "id": "a696de59-b776-4fb3-a9c2-071c3894da0d",
   "metadata": {},
   "outputs": [],
   "source": []
  },
  {
   "cell_type": "code",
   "execution_count": null,
   "id": "55bdf031-a98f-449b-9cb0-20a53204df49",
   "metadata": {},
   "outputs": [],
   "source": []
  },
  {
   "cell_type": "code",
   "execution_count": null,
   "id": "3dcfaeca-4e16-41b5-9915-96973e7f7231",
   "metadata": {},
   "outputs": [],
   "source": []
  },
  {
   "cell_type": "code",
   "execution_count": null,
   "id": "d0307827-1aef-4183-a6bb-cb250b1a9454",
   "metadata": {},
   "outputs": [],
   "source": []
  },
  {
   "cell_type": "code",
   "execution_count": null,
   "id": "04b2b37b-caac-481d-bfea-fa370b9ba248",
   "metadata": {},
   "outputs": [],
   "source": []
  },
  {
   "cell_type": "code",
   "execution_count": 2,
   "id": "bf3c05b8-d0bd-4dbf-99bc-0a439c72d59a",
   "metadata": {},
   "outputs": [
    {
     "name": "stdout",
     "output_type": "stream",
     "text": [
      "args: Namespace(experiment_config_path='src/configs/Cohort/Co_4.json', force_rerun=False, force_evaluate=False)\n",
      "python src/scripts/main.py  --add_bmi_neuron --add_race_neuron --add_sex_neuron --cuda --days 30 --dev --dev_data_dir Y:/Fillmore_Cancer/cat/Users/data/derived/vte_ml/vte_ml/data_for_chunlei/A2_CMP/dev2 --device cuda:0 --disease_code_system phe_CMP --dropout 0 --dxseq_event --epochs 15 --eval_auprc --eval_auroc --eval_batch_size 64 --eval_c_index --exclusion_interval 0 --hidden_dim 64 --init_lr 0.0015 --log_dir logs_transformer_vte/F --lr_decay 0.3 --max_batches_per_dev_epoch 500 --max_batches_per_train_epoch 2000 --max_eval_indices 1 --max_events_length 2500 --max_year_before_index 20 --min_events_length 5 --model_dir snapshot_vte/F --model_name transformer --month_endpoints 1 3 6 12 18 24 --num_heads 8 --num_layers 1 --num_workers 0 --optimizer adam --pad_size 300 --pool_name Softmax_AttentionPool --test --test_data_dir Y:/Fillmore_Cancer/cat/Users/data/derived/vte_ml/vte_ml/data_for_chunlei/A2_CMP/test2 --time_embed_dim 64 --train --train_batch_size 256 --train_data_dir Y:/Fillmore_Cancer/cat/Users/data/derived/vte_ml/vte_ml/data_for_chunlei/A2_CMP/train2 --tuning_metric 6day_auroc_c --use_age_embed --use_dxtime_embed --use_time_embed --weight_decay 0.001 --log_name=71e6a5a0db447c94071f3003cf871d68 --log_dir=logs_transformer_vte/F\n"
     ]
    }
   ],
   "source": [
    "%run src/scripts/schedulers/expr_dispatcher.py --experiment-config-path src/configs/Cohort/Co_4.json\n"
   ]
  },
  {
   "cell_type": "code",
   "execution_count": 3,
   "id": "87964782-2745-49f4-8922-3f56c3f2adde",
   "metadata": {
    "tags": []
   },
   "outputs": [
    {
     "name": "stdout",
     "output_type": "stream",
     "text": [
      "args: Namespace(experiment_config_path='src/configs/Cohort/Co_5.json', force_rerun=False, force_evaluate=False)\n",
      "python src/scripts/main.py  --add_bmi_neuron --add_race_neuron --add_sex_neuron --cuda --days 60 --dev --dev_data_dir Y:/Fillmore_Cancer/cat/Users/data/derived/vte_ml/vte_ml/data_for_chunlei/A2_CMP/dev2 --device cuda:0 --disease_code_system phe_CMP --dropout 0 --dxseq_event --epochs 15 --eval_auprc --eval_auroc --eval_batch_size 64 --eval_c_index --exclusion_interval 0 --hidden_dim 64 --init_lr 0.0015 --log_dir logs_transformer_vte/F --lr_decay 0.3 --max_batches_per_dev_epoch 500 --max_batches_per_train_epoch 2000 --max_eval_indices 1 --max_events_length 2500 --max_year_before_index 20 --min_events_length 5 --model_dir snapshot_vte/F --model_name transformer --month_endpoints 2 6 12 24 --num_heads 8 --num_layers 1 --num_workers 0 --optimizer adam --pad_size 400 --pool_name Softmax_AttentionPool --test --test_data_dir Y:/Fillmore_Cancer/cat/Users/data/derived/vte_ml/vte_ml/data_for_chunlei/A2_CMP/test2 --time_embed_dim 64 --train --train_batch_size 256 --train_data_dir Y:/Fillmore_Cancer/cat/Users/data/derived/vte_ml/vte_ml/data_for_chunlei/A2_CMP/train2 --tuning_metric 6day_auroc_i --use_age_embed --use_dxtime_embed --use_time_embed --weight_decay 0.001 --log_name=4d92c4171344a2fb90a67c793c801a8a --log_dir=logs_transformer_vte/F\n"
     ]
    }
   ],
   "source": [
    "%run src/scripts/schedulers/expr_dispatcher.py --experiment-config-path src/configs/Cohort/Co_5.json\n"
   ]
  },
  {
   "cell_type": "code",
   "execution_count": 4,
   "id": "c778ba3c-1573-44c9-abae-bad4a8a667f8",
   "metadata": {
    "tags": []
   },
   "outputs": [
    {
     "name": "stdout",
     "output_type": "stream",
     "text": [
      "args: Namespace(experiment_config_path='src/configs/Cohort/Co_6.json', force_rerun=False, force_evaluate=False)\n",
      "python src/scripts/main.py  --add_bmi_neuron --add_race_neuron --add_sex_neuron --cuda --days 29 --dev --dev_data_dir Y:/Fillmore_Cancer/cat/Users/data/derived/vte_ml/vte_ml/data_for_chunlei/A2_CMP/dev2 --device cuda:0 --disease_code_system phe_CMP --dropout 0 --dxseq_event --epochs 15 --eval_auprc --eval_auroc --eval_batch_size 64 --eval_c_index --exclusion_interval 0 --hidden_dim 64 --init_lr 0.0015 --log_dir logs_transformer_vte/F --lr_decay 0.3 --max_batches_per_dev_epoch 500 --max_batches_per_train_epoch 2000 --max_eval_indices 1 --max_events_length 2500 --max_year_before_index 20 --min_events_length 5 --model_dir snapshot_vte/F --model_name transformer --month_endpoints 1 12 24 --num_heads 8 --num_layers 1 --num_workers 0 --optimizer adam --pad_size 300 --pool_name Softmax_AttentionPool --test --test_data_dir Y:/Fillmore_Cancer/cat/Users/data/derived/vte_ml/vte_ml/data_for_chunlei/A2_CMP/test2 --time_embed_dim 64 --train --train_batch_size 256 --train_data_dir Y:/Fillmore_Cancer/cat/Users/data/derived/vte_ml/vte_ml/data_for_chunlei/A2_CMP/train2 --tuning_metric 12day_auroc_i --use_age_embed --use_dxtime_embed --use_time_embed --weight_decay 0.001 --log_name=5a085583a78aaeb1ee16041b47ae73d1 --log_dir=logs_transformer_vte/F\n"
     ]
    }
   ],
   "source": [
    "%run src/scripts/schedulers/expr_dispatcher.py --experiment-config-path src/configs/Cohort/Co_6.json\n"
   ]
  },
  {
   "cell_type": "code",
   "execution_count": null,
   "id": "39f7854e-1fe4-452e-a9d3-971dba95f6fa",
   "metadata": {
    "tags": []
   },
   "outputs": [
    {
     "name": "stdout",
     "output_type": "stream",
     "text": [
      "args: Namespace(experiment_config_path='src/configs/Cohort/Co_6ii.json', force_rerun=False, force_evaluate=False)\n",
      "python src/scripts/main.py  --add_bmi_neuron --add_race_neuron --add_sex_neuron --cuda --days 29 --dev --dev_data_dir Y:/Fillmore_Cancer/cat/Users/data/derived/vte_ml/vte_ml/data_for_chunlei/A2_CMP/dev2 --device cuda:0 --disease_code_system phe_CMP --dropout 0 --dxseq_event --epochs 30 --eval_auprc --eval_auroc --eval_batch_size 64 --eval_c_index --exclusion_interval 0 --hidden_dim 64 --init_lr 0.002 --log_dir logs_transformer_vte/F --lr_decay 0.3 --max_batches_per_dev_epoch 500 --max_batches_per_train_epoch 2000 --max_eval_indices 1 --max_events_length 2500 --max_year_before_index 20 --min_events_length 5 --model_dir snapshot_vte/F --model_name transformer --month_endpoints 1 12 24 --num_heads 8 --num_layers 1 --num_workers 0 --optimizer adam --pad_size 300 --pool_name Softmax_AttentionPool --test --test_data_dir Y:/Fillmore_Cancer/cat/Users/data/derived/vte_ml/vte_ml/data_for_chunlei/A2_CMP/test2 --time_embed_dim 64 --train --train_batch_size 256 --train_data_dir Y:/Fillmore_Cancer/cat/Users/data/derived/vte_ml/vte_ml/data_for_chunlei/A2_CMP/train2 --tuning_metric 12day_auroc_i --use_age_embed --use_dxtime_embed --use_time_embed --weight_decay 0.001 --log_name=52efe4416ab909484916263aeddcaa21 --log_dir=logs_transformer_vte/F\n"
     ]
    }
   ],
   "source": [
    "%run src/scripts/schedulers/expr_dispatcher.py --experiment-config-path src/configs/Cohort/Co_6ii.json\n"
   ]
  },
  {
   "cell_type": "code",
   "execution_count": null,
   "id": "3a762c4f-266b-4878-8c28-ec98290aac60",
   "metadata": {
    "tags": []
   },
   "outputs": [],
   "source": [
    "%run src/scripts/schedulers/expr_dispatcher.py --experiment-config-path src/configs/Cohort/Co_1.json\n"
   ]
  },
  {
   "cell_type": "code",
   "execution_count": null,
   "id": "0f4ba3f9-9ac9-45d6-93a6-27e95f839fbf",
   "metadata": {
    "tags": []
   },
   "outputs": [
    {
     "name": "stdout",
     "output_type": "stream",
     "text": [
      "args: Namespace(experiment_config_path='src/configs/Cohort/Y/Y2_b.json', force_rerun=False, force_evaluate=False)\n",
      "python src/scripts/main.py  --add_bmi_neuron --add_race_neuron --add_sex_neuron --attribute --cuda --day_endpoints 90 --days 730 --dev --dev_data_dir Y:/Fillmore_Cancer/cat/Users/data/derived/vte_ml/vte_ml/data_for_chunlei/A2_CMP/Resplit/Y5/dev --device cuda:0 --disease_code_system phe_CMP --dropout 0 --epochs 10 --eval_auprc --eval_auroc --eval_batch_size 64 --eval_c_index --exclusion_interval 0 --hidden_dim 64 --init_lr 0.002 --log_dir logs_transformer_vte/F --lr_decay 0.3 --max_batches_per_dev_epoch 500 --max_batches_per_train_epoch 2000 --max_eval_indices 1 --max_events_length 2500 --max_year_before_index 10 --min_events_length 5 --model_dir snapshot_vte/F --model_name transformer --month_endpoints 3 --num_heads 8 --num_layers 1 --num_workers 0 --optimizer adam --pad_size 300 --pool_name Softmax_AttentionPool --test --test_data_dir Y:/Fillmore_Cancer/cat/Users/data/derived/vte_ml/vte_ml/data_for_chunlei/A2_CMP/Resplit/Y5/test --time_embed_dim 64 --train --train_batch_size 256 --train_data_dir Y:/Fillmore_Cancer/cat/Users/data/derived/vte_ml/vte_ml/data_for_chunlei/A2_CMP/Resplit/Y5/train --tuning_metric 90day_auroc_c --use_age_embed --use_dxtime_embed --use_time_embed --weight_decay 0.001 --log_name=0d071737ad78312a4c72357d28bd336b --log_dir=logs_transformer_vte/F\n"
     ]
    }
   ],
   "source": [
    "%run src/scripts/schedulers/expr_dispatcher.py --experiment-config-path src/configs/Cohort/Y/Y2_b.json\n"
   ]
  },
  {
   "cell_type": "code",
   "execution_count": 10,
   "id": "c6d70809-da2b-4105-b504-63624e37019a",
   "metadata": {
    "tags": []
   },
   "outputs": [
    {
     "name": "stdout",
     "output_type": "stream",
     "text": [
      "args: Namespace(experiment_config_path='src/configs/train_Y/Fwd/Y5_forward6mo.json', force_rerun=False, force_evaluate=False)\n",
      "python src/scripts/main.py  --add_bmi_neuron --add_sex_neuron --attribute --cuda --day_endpoints 0 --days 180 --dev --dev_data_dir Y:/Fillmore_Cancer/cat/Users/data/derived/vte_ml/vte_ml/data_for_chunlei/A2_CMP/Resplit/Y5/dev --device cuda:0 --disease_code_system phe_CMP --dropout 0 --dxseq_event --epochs 7 --eval_auprc --eval_auroc --eval_batch_size 64 --eval_c_index --exclusion_interval 0 --hidden_dim 64 --init_lr 0.002 --log_dir logs_transformer_vte/y_CMP --lr_decay 0.3 --max_batches_per_dev_epoch 500 --max_batches_per_train_epoch 2000 --max_events_length 500 --max_year_before_index 10 --min_events_length 5 --model_dir snapshot_vte/y_CMP --model_name transformer --month_endpoints 0 --num_heads 8 --num_layers 1 --num_workers 0 --optimizer adam --pad_size 300 --pool_name Softmax_AttentionPool --test --test_data_dir Y:/Fillmore_Cancer/cat/Users/data/derived/vte_ml/vte_ml/data_for_chunlei/A2_CMP/Resplit/Y5/test --time_embed_dim 64 --train --train_batch_size 256 --train_data_dir Y:/Fillmore_Cancer/cat/Users/data/derived/vte_ml/vte_ml/data_for_chunlei/A2_CMP/Resplit/Y5/train --tuning_metric 6day_auroc_i --use_age_embed --use_dxtime_embed --use_time_embed --weight_decay 0.001 --log_name=5dfb3b1369d7effbc1a7f7f8c712ce02 --log_dir=logs_transformer_vte/y_CMP\n",
      "python src/scripts/main.py  --add_bmi_neuron --add_sex_neuron --attribute --cuda --day_endpoints 3 --days 180 --dev --dev_data_dir Y:/Fillmore_Cancer/cat/Users/data/derived/vte_ml/vte_ml/data_for_chunlei/A2_CMP/Resplit/Y5/dev --device cuda:0 --disease_code_system phe_CMP --dropout 0 --dxseq_event --epochs 7 --eval_auprc --eval_auroc --eval_batch_size 64 --eval_c_index --exclusion_interval 0 --hidden_dim 64 --init_lr 0.002 --log_dir logs_transformer_vte/y_CMP --lr_decay 0.3 --max_batches_per_dev_epoch 500 --max_batches_per_train_epoch 2000 --max_events_length 500 --max_year_before_index 10 --min_events_length 5 --model_dir snapshot_vte/y_CMP --model_name transformer --month_endpoints 0 --num_heads 8 --num_layers 1 --num_workers 0 --optimizer adam --pad_size 300 --pool_name Softmax_AttentionPool --test --test_data_dir Y:/Fillmore_Cancer/cat/Users/data/derived/vte_ml/vte_ml/data_for_chunlei/A2_CMP/Resplit/Y5/test --time_embed_dim 64 --train --train_batch_size 256 --train_data_dir Y:/Fillmore_Cancer/cat/Users/data/derived/vte_ml/vte_ml/data_for_chunlei/A2_CMP/Resplit/Y5/train --tuning_metric 6day_auroc_i --use_age_embed --use_dxtime_embed --use_time_embed --weight_decay 0.001 --log_name=6f2a13c3f15a6d5077b77043cdbfcba0 --log_dir=logs_transformer_vte/y_CMP\n"
     ]
    },
    {
     "ename": "KeyboardInterrupt",
     "evalue": "",
     "output_type": "error",
     "traceback": [
      "\u001b[1;31m---------------------------------------------------------------------------\u001b[0m",
      "\u001b[1;31mKeyboardInterrupt\u001b[0m                         Traceback (most recent call last)",
      "File \u001b[1;32mG:\\FillmoreCancerData\\markhe\\VTERisk\\src\\scripts\\schedulers\\expr_dispatcher.py:94\u001b[0m\n\u001b[0;32m     89\u001b[0m job_list, _ \u001b[38;5;241m=\u001b[39m parsing\u001b[38;5;241m.\u001b[39mparse_dispatcher_config(config)\n\u001b[0;32m     91\u001b[0m \u001b[38;5;66;03m# print(job_list)\u001b[39;00m\n\u001b[0;32m     92\u001b[0m \n\u001b[0;32m     93\u001b[0m \u001b[38;5;66;03m# [print(params) for params in job_list]\u001b[39;00m\n\u001b[1;32m---> 94\u001b[0m [launch_experiment(gpu\u001b[38;5;241m=\u001b[39m\u001b[38;5;241m2\u001b[39m, flag_string\u001b[38;5;241m=\u001b[39m\u001b[38;5;28mstr\u001b[39m(params)) \u001b[38;5;28;01mfor\u001b[39;00m params \u001b[38;5;129;01min\u001b[39;00m job_list]\n\u001b[0;32m     95\u001b[0m \u001b[38;5;66;03m# launch_experiment(gpu=2, flag_string=job_list[0])\u001b[39;00m\n\u001b[0;32m     97\u001b[0m sys\u001b[38;5;241m.\u001b[39mexit(\u001b[38;5;241m0\u001b[39m)\n",
      "File \u001b[1;32mG:\\FillmoreCancerData\\markhe\\VTERisk\\src\\scripts\\schedulers\\expr_dispatcher.py:94\u001b[0m, in \u001b[0;36m<listcomp>\u001b[1;34m(.0)\u001b[0m\n\u001b[0;32m     89\u001b[0m job_list, _ \u001b[38;5;241m=\u001b[39m parsing\u001b[38;5;241m.\u001b[39mparse_dispatcher_config(config)\n\u001b[0;32m     91\u001b[0m \u001b[38;5;66;03m# print(job_list)\u001b[39;00m\n\u001b[0;32m     92\u001b[0m \n\u001b[0;32m     93\u001b[0m \u001b[38;5;66;03m# [print(params) for params in job_list]\u001b[39;00m\n\u001b[1;32m---> 94\u001b[0m [launch_experiment(gpu\u001b[38;5;241m=\u001b[39m\u001b[38;5;241m2\u001b[39m, flag_string\u001b[38;5;241m=\u001b[39m\u001b[38;5;28mstr\u001b[39m(params)) \u001b[38;5;28;01mfor\u001b[39;00m params \u001b[38;5;129;01min\u001b[39;00m job_list]\n\u001b[0;32m     95\u001b[0m \u001b[38;5;66;03m# launch_experiment(gpu=2, flag_string=job_list[0])\u001b[39;00m\n\u001b[0;32m     97\u001b[0m sys\u001b[38;5;241m.\u001b[39mexit(\u001b[38;5;241m0\u001b[39m)\n",
      "File \u001b[1;32mG:\\FillmoreCancerData\\markhe\\VTERisk\\src\\scripts\\schedulers\\expr_dispatcher.py:73\u001b[0m, in \u001b[0;36mlaunch_experiment\u001b[1;34m(gpu, flag_string)\u001b[0m\n\u001b[0;32m     70\u001b[0m         \u001b[38;5;28mprint\u001b[39m(\u001b[38;5;124m\"\u001b[39m\u001b[38;5;124m[WARNING] Overiding the alert \u001b[39m\u001b[38;5;132;01m{RESULTS_PATH_APPEAR_ERR}\u001b[39;00m\u001b[38;5;124m...\u001b[39m\u001b[38;5;124m\"\u001b[39m)\n\u001b[0;32m     72\u001b[0m \u001b[38;5;66;03m# pp.pprint(\"[CMD] Launched exp: {}\".format(shell_cmd))\u001b[39;00m\n\u001b[1;32m---> 73\u001b[0m os\u001b[38;5;241m.\u001b[39msystem(shell_cmd)\n",
      "\u001b[1;31mKeyboardInterrupt\u001b[0m: "
     ]
    }
   ],
   "source": [
    "%run src/scripts/schedulers/expr_dispatcher.py --experiment-config-path src/configs/train_Y/Fwd/Y5_forward6mo.json\n"
   ]
  },
  {
   "cell_type": "code",
   "execution_count": 2,
   "id": "7a9d0e0c-a509-4392-ad63-af76037466e4",
   "metadata": {
    "tags": []
   },
   "outputs": [
    {
     "name": "stdout",
     "output_type": "stream",
     "text": [
      "args: Namespace(experiment_config_path='src/configs/train_Y/Fwd/Y5_3mo.json', force_rerun=False, force_evaluate=False)\n",
      "python src/scripts/main.py  --add_bmi_neuron --add_sex_neuron --attribute --cuda --days 90 --dev --dev_data_dir Y:/Fillmore_Cancer/cat/Users/data/derived/vte_ml/vte_ml/data_for_chunlei/A2_CMP/Resplit/Y5/dev --device cuda:0 --disease_code_system phe_CMP --dropout 0 --dxseq_event --epochs 7 --eval_auprc --eval_auroc --eval_batch_size 64 --eval_c_index --exclusion_interval 0 --hidden_dim 64 --init_lr 0.002 --log_dir logs_transformer_vte/y_CMP --lr_decay 0.3 --max_batches_per_dev_epoch 500 --max_batches_per_train_epoch 2000 --max_events_length 500 --max_year_before_index 10 --min_events_length 5 --model_dir snapshot_vte/y_CMP --model_name transformer --num_heads 8 --num_layers 1 --num_workers 0 --optimizer adam --pad_size 300 --pool_name Softmax_AttentionPool --test --test_data_dir Y:/Fillmore_Cancer/cat/Users/data/derived/vte_ml/vte_ml/data_for_chunlei/A2_CMP/Resplit/Y5/test --time_embed_dim 64 --train --train_batch_size 256 --train_data_dir Y:/Fillmore_Cancer/cat/Users/data/derived/vte_ml/vte_ml/data_for_chunlei/A2_CMP/Resplit/Y5/train --tuning_metric 7day_auroc_i --use_age_embed --use_dxtime_embed --use_time_embed --weight_decay 0.001 --log_name=24bb9146ccaa5096fd6797b4a0e2e030 --log_dir=logs_transformer_vte/y_CMP\n"
     ]
    }
   ],
   "source": [
    "%run src/scripts/schedulers/expr_dispatcher.py --experiment-config-path src/configs/train_Y/Fwd/Y5_3mo.json\n"
   ]
  },
  {
   "cell_type": "code",
   "execution_count": 1,
   "id": "c168ea49-cf4b-4414-86ea-78f7230bcf5d",
   "metadata": {
    "tags": []
   },
   "outputs": [
    {
     "name": "stdout",
     "output_type": "stream",
     "text": [
      "args: Namespace(experiment_config_path='src/configs/train_Y/Fwd/Y5_6mo.json', force_rerun=False, force_evaluate=False)\n",
      "python src/scripts/main.py  --add_bmi_neuron --add_sex_neuron --attribute --cuda --days 180 --dev --dev_data_dir Y:/Fillmore_Cancer/cat/Users/data/derived/vte_ml/vte_ml/data_for_chunlei/A2_CMP/Resplit/Y5/dev --device cuda:0 --disease_code_system phe_CMP --dropout 0 --dxseq_event --epochs 7 --eval_auprc --eval_auroc --eval_batch_size 64 --eval_c_index --exclusion_interval 0 --hidden_dim 64 --init_lr 0.002 --log_dir logs_transformer_vte/y_CMP --lr_decay 0.3 --max_batches_per_dev_epoch 500 --max_batches_per_train_epoch 2000 --max_events_length 500 --max_year_before_index 10 --min_events_length 5 --model_dir snapshot_vte/y_CMP --model_name transformer --num_heads 8 --num_layers 1 --num_workers 0 --optimizer adam --pad_size 300 --pool_name Softmax_AttentionPool --test --test_data_dir Y:/Fillmore_Cancer/cat/Users/data/derived/vte_ml/vte_ml/data_for_chunlei/A2_CMP/Resplit/Y5/test --time_embed_dim 64 --train --train_batch_size 256 --train_data_dir Y:/Fillmore_Cancer/cat/Users/data/derived/vte_ml/vte_ml/data_for_chunlei/A2_CMP/Resplit/Y5/train --tuning_metric 7day_auroc_i --use_age_embed --use_dxtime_embed --use_time_embed --weight_decay 0.001 --log_name=768bac5725bae08513f001acee7b30bf --log_dir=logs_transformer_vte/y_CMP\n"
     ]
    }
   ],
   "source": [
    "%run src/scripts/schedulers/expr_dispatcher.py --experiment-config-path src/configs/train_Y/Fwd/Y5_6mo.json\n"
   ]
  },
  {
   "cell_type": "code",
   "execution_count": 5,
   "id": "66cd3603-e418-4977-86b6-a1ccf6f76f40",
   "metadata": {},
   "outputs": [
    {
     "name": "stdout",
     "output_type": "stream",
     "text": [
      "args: Namespace(experiment_config_path='src/configs/train_Y/Fwd/X_3mo.json', force_rerun=False, force_evaluate=False)\n",
      "python src/scripts/main.py  --add_bmi_neuron --add_race_neuron --add_sex_neuron --attribute --cuda --days 30 --dev --dev_data_dir Y:/Fillmore_Cancer/cat/Users/data/derived/vte_ml/vte_ml/data_for_chunlei/A2_CMP/dev --device cuda:0 --disease_code_system phe_CMP --dropout 0 --dxseq_event --epochs 10 --eval_auprc --eval_auroc --eval_batch_size 64 --eval_c_index --exclusion_interval 0 --hidden_dim 64 --init_lr 0.002 --log_dir logs_transformer_vte/Cohort --lr_decay 0.3 --max_batches_per_dev_epoch 500 --max_batches_per_train_epoch 2000 --max_events_length 500 --max_year_before_index 10 --min_events_length 5 --model_dir snapshot_vte/Cohort --model_name transformer --num_heads 8 --num_layers 1 --num_workers 0 --optimizer adam --pad_size 300 --pool_name Softmax_AttentionPool --test --test_data_dir Y:/Fillmore_Cancer/cat/Users/data/derived/vte_ml/vte_ml/data_for_chunlei/A2_CMP/test --time_embed_dim 64 --train --train_batch_size 256 --train_data_dir Y:/Fillmore_Cancer/cat/Users/data/derived/vte_ml/vte_ml/data_for_chunlei/A2_CMP/train --tuning_metric 14day_auroc_c --use_age_embed --use_dxtime_embed --use_time_embed --weight_decay 0.001 --log_name=84d0355900d47fd69ac6f4744647f9a4 --log_dir=logs_transformer_vte/Cohort\n"
     ]
    }
   ],
   "source": [
    "%run src/scripts/schedulers/expr_dispatcher.py --experiment-config-path src/configs/train_Y/Fwd/X_3mo.json\n"
   ]
  },
  {
   "cell_type": "code",
   "execution_count": null,
   "id": "c3e7b06e-813b-4407-92ba-4d33e3454d9d",
   "metadata": {},
   "outputs": [
    {
     "name": "stdout",
     "output_type": "stream",
     "text": [
      "args: Namespace(experiment_config_path='src/configs/train_Y/Fwd/X_6mo.json', force_rerun=False, force_evaluate=False)\n",
      "python src/scripts/main.py  --add_bmi_neuron --add_race_neuron --add_sex_neuron --attribute --cuda --days 180 --dev --dev_data_dir Y:/Fillmore_Cancer/cat/Users/data/derived/vte_ml/vte_ml/data_for_chunlei/A2_CMP/dev --device cuda:0 --disease_code_system phe_CMP --dropout 0 --dxseq_event --epochs 10 --eval_auprc --eval_auroc --eval_batch_size 64 --eval_c_index --exclusion_interval 0 --hidden_dim 64 --init_lr 0.002 --log_dir logs_transformer_vte/Cohort --lr_decay 0.3 --max_batches_per_dev_epoch 500 --max_batches_per_train_epoch 2000 --max_events_length 500 --max_year_before_index 10 --min_events_length 5 --model_dir snapshot_vte/Cohort --model_name transformer --num_heads 8 --num_layers 1 --num_workers 0 --optimizer adam --pad_size 300 --pool_name Softmax_AttentionPool --test --test_data_dir Y:/Fillmore_Cancer/cat/Users/data/derived/vte_ml/vte_ml/data_for_chunlei/A2_CMP/test --time_embed_dim 64 --train --train_batch_size 256 --train_data_dir Y:/Fillmore_Cancer/cat/Users/data/derived/vte_ml/vte_ml/data_for_chunlei/A2_CMP/train --tuning_metric 14day_auroc_c --use_age_embed --use_dxtime_embed --use_time_embed --weight_decay 0.001 --log_name=fb43ef7d3cf127c14537a4df3731e663 --log_dir=logs_transformer_vte/Cohort\n"
     ]
    }
   ],
   "source": [
    "%run src/scripts/schedulers/expr_dispatcher.py --experiment-config-path src/configs/train_Y/Fwd/X_6mo.json\n"
   ]
  },
  {
   "cell_type": "code",
   "execution_count": null,
   "id": "6b681c15-1f64-4a20-a018-55d082a56abb",
   "metadata": {},
   "outputs": [],
   "source": []
  }
 ],
 "metadata": {
  "kernelspec": {
   "display_name": "Python 3 (ipykernel)",
   "language": "python",
   "name": "python3"
  },
  "language_info": {
   "codemirror_mode": {
    "name": "ipython",
    "version": 3
   },
   "file_extension": ".py",
   "mimetype": "text/x-python",
   "name": "python",
   "nbconvert_exporter": "python",
   "pygments_lexer": "ipython3",
   "version": "3.11.5"
  }
 },
 "nbformat": 4,
 "nbformat_minor": 5
}
