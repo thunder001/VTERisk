{
 "cells": [
  {
   "cell_type": "code",
   "execution_count": 1,
   "id": "1b25c26b-6d2c-4978-9f63-75529b61b84e",
   "metadata": {
    "tags": []
   },
   "outputs": [],
   "source": [
    "import os\n",
    "import json"
   ]
  },
  {
   "cell_type": "code",
   "execution_count": 1,
   "id": "1e128ba3-589b-4510-aa18-df7d8772c68b",
   "metadata": {
    "tags": []
   },
   "outputs": [],
   "source": [
    "import pandas as pd\n",
    "import random\n",
    "import os\n",
    "import json\n",
    "import gc\n",
    "import datetime\n",
    "# from disrisknet.utils.date import parse_dates\n",
    "import copy\n"
   ]
  },
  {
   "cell_type": "code",
   "execution_count": 2,
   "id": "598933ac-3a57-4c45-98da-d6873fb0874b",
   "metadata": {
    "tags": []
   },
   "outputs": [],
   "source": [
    "VTE_path = 'F:\\\\MAVDEV1\\\\Fillmore_Cancer\\\\cat\\\\Users\\\\data\\\\derived\\\\vte_ml\\\\vte_ml\\\\data_for_chunlei'"
   ]
  },
  {
   "cell_type": "code",
   "execution_count": 3,
   "id": "e0216110-cd30-4b98-a4cd-60bdb676d9b1",
   "metadata": {
    "tags": []
   },
   "outputs": [
    {
     "name": "stdout",
     "output_type": "stream",
     "text": [
      "args: Namespace(experiment_config_path='src/configs/PL3/TT90/Test/Test_JT_H135.json', force_rerun=False, force_evaluate=False)\n",
      "python src/scripts/main.py  --add_bmi_neuron --add_race_neuron --add_sex_neuron --ageseq_event --class_bal --code_to_index_file snapshot_vte/L/01ef78fc0899fd133747dffb5138fb42.code_map --device cpu --disease_code_system phe_lab --dxseq_trunc --epochs 1 --eval_auprc --eval_auroc --eval_batch_size 128 --filter_max_len --hidden_dim 64 --indseq_K --init_lr 0.00125 --log_dir logs_transformer_vte/L/Fil/5_25/test --lr_decay 0.3 --max_batches_per_dev_epoch 1000 --max_batches_per_train_epoch 2000 --max_days_before_index 1000 --max_eval_indices 1 --max_events_length 800 --max_year_before_index 4 --model_dir snapshot_vte/L --model_name transformer --month_endpoints 3 --num_heads 1 --num_layers 8 --num_workers 0 --optimizer adam --pad_size 400 --pool_name Softmax_AttentionPool --snapshot snapshot_vte/L/model_01ef78fc0899fd133747dffb5138fb42_model.pt --start_at_dx_H135 --start_noise_days --start_noise_len 20 --test --test_data_dir //vacrrdevmavdi01.vha.med.va.gov/MAVDEV1/Fillmore_Cancer/cat/Users/data_from_vinci/dvt_cancer_20230613/data_for_tf_model/processed/PL_f180/test --time_embed_dim 64 --time_seq_cos --train_batch_size 256 --tuning_metric 3day_auroc_c --use_age_embed --use_dxtime_embed --use_index_embed --use_time_embed --weight_decay 0.001 --log_name=a00b531cb9fce05aedb7ad8190011131 --log_dir=logs_transformer_vte/L/Fil/5_25/test\n"
     ]
    }
   ],
   "source": [
    "%run src/scripts/schedulers/expr_dispatcher.py --experiment-config-path src/configs/PL3/TT90/Test/Test_JT_H135.json"
   ]
  },
  {
   "cell_type": "code",
   "execution_count": null,
   "id": "1d2cf477-559a-4941-90ef-1cc69d542416",
   "metadata": {},
   "outputs": [],
   "source": []
  },
  {
   "cell_type": "code",
   "execution_count": null,
   "id": "ec577b56-f337-43e2-9840-44b7e8b1192a",
   "metadata": {},
   "outputs": [],
   "source": []
  },
  {
   "cell_type": "code",
   "execution_count": null,
   "id": "465922f5-81b8-44b4-9160-62c1f1f29840",
   "metadata": {},
   "outputs": [],
   "source": []
  },
  {
   "cell_type": "code",
   "execution_count": 5,
   "id": "91755d89-421d-4b86-aee4-0e6692fe7a9d",
   "metadata": {},
   "outputs": [
    {
     "name": "stdout",
     "output_type": "stream",
     "text": [
      "args: Namespace(experiment_config_path='src/configs/PL3/TT90/Test/Test_G270.json', force_rerun=False, force_evaluate=False)\n",
      "python src/scripts/main.py  --add_bmi_neuron --add_race_neuron --add_sex_neuron --ageseq_event --class_bal --code_to_index_file snapshot_vte/L/78f5988e9426813c011295c9f6a8fb08.code_map --device cpu --disease_code_system phe_lab --dxseq_cos --epochs 1 --eval_auprc --eval_auroc --eval_batch_size 128 --filter_max_len --hidden_dim 64 --indseq_cos --init_lr 0.00125 --log_dir logs_transformer_vte/L/Fil/5_25/test --lr_decay 0.3 --max_batches_per_dev_epoch 1000 --max_batches_per_train_epoch 2000 --max_days_before_index 1000 --max_eval_indices 1 --max_events_length 800 --max_year_before_index 4 --model_dir snapshot_vte/L --model_name transformer --month_endpoints 3 --num_heads 1 --num_layers 8 --num_workers 0 --optimizer adam --pad_size 400 --pool_name Softmax_AttentionPool --snapshot snapshot_vte/L/model_78f5988e9426813c011295c9f6a8fb08_model.pt --start_at_dx_G270 --start_noise_days --start_noise_len 30 --test --test_data_dir //vacrrdevmavdi01.vha.med.va.gov/MAVDEV1/Fillmore_Cancer/cat/Users/data_from_vinci/dvt_cancer_20230613/data_for_tf_model/processed/PL_filtered/test --time_embed_dim 64 --time_seq_cos --train_batch_size 256 --tuning_metric 3day_auroc_c --use_age_embed --use_dxtime_embed --use_index_embed --use_time_embed --weight_decay 0.001 --log_name=fe3af80aee9723e15186ee8907de8e02 --log_dir=logs_transformer_vte/L/Fil/5_25/test\n"
     ]
    }
   ],
   "source": [
    "%run src/scripts/schedulers/expr_dispatcher.py --experiment-config-path src/configs/PL3/TT90/Test/Test_G270.json"
   ]
  },
  {
   "cell_type": "code",
   "execution_count": null,
   "id": "56f9653d-665d-4aaf-a839-06a9e46018a9",
   "metadata": {},
   "outputs": [],
   "source": []
  }
 ],
 "metadata": {
  "kernelspec": {
   "display_name": "Python 3 (ipykernel)",
   "language": "python",
   "name": "python3"
  },
  "language_info": {
   "codemirror_mode": {
    "name": "ipython",
    "version": 3
   },
   "file_extension": ".py",
   "mimetype": "text/x-python",
   "name": "python",
   "nbconvert_exporter": "python",
   "pygments_lexer": "ipython3",
   "version": "3.11.5"
  }
 },
 "nbformat": 4,
 "nbformat_minor": 5
}
