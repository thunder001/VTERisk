{
 "cells": [
  {
   "cell_type": "code",
   "execution_count": null,
   "id": "1e128ba3-589b-4510-aa18-df7d8772c68b",
   "metadata": {
    "tags": []
   },
   "outputs": [],
   "source": [
    "import pandas as pd\n",
    "import random\n",
    "import os\n",
    "import json\n",
    "import gc\n",
    "import datetime\n",
    "# from disrisknet.utils.date import parse_dates\n",
    "import copy\n"
   ]
  },
  {
   "cell_type": "code",
   "execution_count": null,
   "id": "598933ac-3a57-4c45-98da-d6873fb0874b",
   "metadata": {
    "tags": []
   },
   "outputs": [],
   "source": [
    "VTE_path = 'F:\\\\MAVDEV1\\\\Fillmore_Cancer\\\\cat\\\\Users\\\\data\\\\derived\\\\vte_ml\\\\vte_ml\\\\data_for_chunlei'"
   ]
  },
  {
   "cell_type": "code",
   "execution_count": null,
   "id": "209719ab-30e6-4433-971b-b839b3cdfc7a",
   "metadata": {
    "tags": []
   },
   "outputs": [],
   "source": [
    "%run src/scripts/schedulers/expr_dispatcher.py --experiment-config-path src/configs/PL3/Cos/Default90.json"
   ]
  }
 ],
 "metadata": {
  "kernelspec": {
   "display_name": "Python 3 (ipykernel)",
   "language": "python",
   "name": "python3"
  },
  "language_info": {
   "codemirror_mode": {
    "name": "ipython",
    "version": 3
   },
   "file_extension": ".py",
   "mimetype": "text/x-python",
   "name": "python",
   "nbconvert_exporter": "python",
   "pygments_lexer": "ipython3",
   "version": "3.11.5"
  }
 },
 "nbformat": 4,
 "nbformat_minor": 5
}
